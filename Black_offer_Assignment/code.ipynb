{
  "nbformat": 4,
  "nbformat_minor": 0,
  "metadata": {
    "colab": {
      "name": "TensorFlow with GPU",
      "provenance": [],
      "collapsed_sections": [],
      "include_colab_link": true
    },
    "kernelspec": {
      "name": "python3",
      "display_name": "Python 3"
    },
    "accelerator": "GPU"
  },
  "cells": [
    {
      "cell_type": "markdown",
      "metadata": {
        "id": "view-in-github",
        "colab_type": "text"
      },
      "source": [
        "<a href=\"https://colab.research.google.com/github/priyanshgupta1998/Natural-language-processing-NLP-/blob/master/Black_offer_Assignment/code.ipynb\" target=\"_parent\"><img src=\"https://colab.research.google.com/assets/colab-badge.svg\" alt=\"Open In Colab\"/></a>"
      ]
    },
    {
      "cell_type": "code",
      "metadata": {
        "id": "k2xFbAzlchnR",
        "colab_type": "code",
        "colab": {}
      },
      "source": [
        ""
      ],
      "execution_count": 0,
      "outputs": []
    },
    {
      "cell_type": "code",
      "metadata": {
        "id": "kvbgjNR8c6gz",
        "colab_type": "code",
        "outputId": "4dc8de4b-b29f-4b8d-dc15-45de668b82d7",
        "colab": {
          "base_uri": "https://localhost:8080/",
          "height": 34
        }
      },
      "source": [
        "from google.colab import drive\n",
        "drive.mount('/content/drive')"
      ],
      "execution_count": 1,
      "outputs": [
        {
          "output_type": "stream",
          "text": [
            "Drive already mounted at /content/drive; to attempt to forcibly remount, call drive.mount(\"/content/drive\", force_remount=True).\n"
          ],
          "name": "stdout"
        }
      ]
    },
    {
      "cell_type": "code",
      "metadata": {
        "id": "4sCa_iqgchuA",
        "colab_type": "code",
        "outputId": "12bfc6bf-243d-4cb3-83ec-69d2e1a0d66a",
        "colab": {
          "base_uri": "https://localhost:8080/",
          "height": 34
        }
      },
      "source": [
        "path = '/content/drive/My Drive/Data Science'\n",
        "import os\n",
        "import pandas as pd\n",
        "print(os.listdir(path))"
      ],
      "execution_count": 3,
      "outputs": [
        {
          "output_type": "stream",
          "text": [
            "['Output Data Structure.xlsx', 'constraining_dictionary.xlsx', 'Text Analysis.docx', 'cik_list.xlsx', 'Objective.docx', 'uncertainty_dictionary.xlsx']\n"
          ],
          "name": "stdout"
        }
      ]
    },
    {
      "cell_type": "code",
      "metadata": {
        "id": "ISoK-HuMciFl",
        "colab_type": "code",
        "outputId": "eb82847a-7ee5-4d6f-a17a-46a8836c650c",
        "colab": {
          "base_uri": "https://localhost:8080/",
          "height": 221
        }
      },
      "source": [
        "file1 = path + '/cik_list.xlsx'\n",
        "cik = pd.read_excel(file1)\n",
        "print(cik.shape)\n",
        "cik.head()"
      ],
      "execution_count": 4,
      "outputs": [
        {
          "output_type": "stream",
          "text": [
            "(152, 6)\n"
          ],
          "name": "stdout"
        },
        {
          "output_type": "execute_result",
          "data": {
            "text/html": [
              "<div>\n",
              "<style scoped>\n",
              "    .dataframe tbody tr th:only-of-type {\n",
              "        vertical-align: middle;\n",
              "    }\n",
              "\n",
              "    .dataframe tbody tr th {\n",
              "        vertical-align: top;\n",
              "    }\n",
              "\n",
              "    .dataframe thead th {\n",
              "        text-align: right;\n",
              "    }\n",
              "</style>\n",
              "<table border=\"1\" class=\"dataframe\">\n",
              "  <thead>\n",
              "    <tr style=\"text-align: right;\">\n",
              "      <th></th>\n",
              "      <th>CIK</th>\n",
              "      <th>CONAME</th>\n",
              "      <th>FYRMO</th>\n",
              "      <th>FDATE</th>\n",
              "      <th>FORM</th>\n",
              "      <th>SECFNAME</th>\n",
              "    </tr>\n",
              "  </thead>\n",
              "  <tbody>\n",
              "    <tr>\n",
              "      <th>0</th>\n",
              "      <td>3662</td>\n",
              "      <td>SUNBEAM CORP/FL/</td>\n",
              "      <td>199803</td>\n",
              "      <td>1998-03-06</td>\n",
              "      <td>10-K405</td>\n",
              "      <td>edgar/data/3662/0000950170-98-000413.txt</td>\n",
              "    </tr>\n",
              "    <tr>\n",
              "      <th>1</th>\n",
              "      <td>3662</td>\n",
              "      <td>SUNBEAM CORP/FL/</td>\n",
              "      <td>199805</td>\n",
              "      <td>1998-05-15</td>\n",
              "      <td>10-Q</td>\n",
              "      <td>edgar/data/3662/0000950170-98-001001.txt</td>\n",
              "    </tr>\n",
              "    <tr>\n",
              "      <th>2</th>\n",
              "      <td>3662</td>\n",
              "      <td>SUNBEAM CORP/FL/</td>\n",
              "      <td>199808</td>\n",
              "      <td>1998-08-13</td>\n",
              "      <td>NT 10-Q</td>\n",
              "      <td>edgar/data/3662/0000950172-98-000783.txt</td>\n",
              "    </tr>\n",
              "    <tr>\n",
              "      <th>3</th>\n",
              "      <td>3662</td>\n",
              "      <td>SUNBEAM CORP/FL/</td>\n",
              "      <td>199811</td>\n",
              "      <td>1998-11-12</td>\n",
              "      <td>10-K/A</td>\n",
              "      <td>edgar/data/3662/0000950170-98-002145.txt</td>\n",
              "    </tr>\n",
              "    <tr>\n",
              "      <th>4</th>\n",
              "      <td>3662</td>\n",
              "      <td>SUNBEAM CORP/FL/</td>\n",
              "      <td>199811</td>\n",
              "      <td>1998-11-16</td>\n",
              "      <td>NT 10-Q</td>\n",
              "      <td>edgar/data/3662/0000950172-98-001203.txt</td>\n",
              "    </tr>\n",
              "  </tbody>\n",
              "</table>\n",
              "</div>"
            ],
            "text/plain": [
              "    CIK            CONAME  ...     FORM                                  SECFNAME\n",
              "0  3662  SUNBEAM CORP/FL/  ...  10-K405  edgar/data/3662/0000950170-98-000413.txt\n",
              "1  3662  SUNBEAM CORP/FL/  ...     10-Q  edgar/data/3662/0000950170-98-001001.txt\n",
              "2  3662  SUNBEAM CORP/FL/  ...  NT 10-Q  edgar/data/3662/0000950172-98-000783.txt\n",
              "3  3662  SUNBEAM CORP/FL/  ...   10-K/A  edgar/data/3662/0000950170-98-002145.txt\n",
              "4  3662  SUNBEAM CORP/FL/  ...  NT 10-Q  edgar/data/3662/0000950172-98-001203.txt\n",
              "\n",
              "[5 rows x 6 columns]"
            ]
          },
          "metadata": {
            "tags": []
          },
          "execution_count": 4
        }
      ]
    },
    {
      "cell_type": "code",
      "metadata": {
        "id": "p034_DBRfsed",
        "colab_type": "code",
        "colab": {}
      },
      "source": [
        "cik['SECFNAME_link'] = cik['SECFNAME'].apply(lambda x:'https://www.sec.gov/Archives/' + str(x) ) "
      ],
      "execution_count": 0,
      "outputs": []
    },
    {
      "cell_type": "code",
      "metadata": {
        "id": "aNnhs_Z-fsYS",
        "colab_type": "code",
        "outputId": "2c8c7e1a-c45f-401f-e265-28b8417e037e",
        "colab": {
          "base_uri": "https://localhost:8080/",
          "height": 204
        }
      },
      "source": [
        "cik.head()"
      ],
      "execution_count": 6,
      "outputs": [
        {
          "output_type": "execute_result",
          "data": {
            "text/html": [
              "<div>\n",
              "<style scoped>\n",
              "    .dataframe tbody tr th:only-of-type {\n",
              "        vertical-align: middle;\n",
              "    }\n",
              "\n",
              "    .dataframe tbody tr th {\n",
              "        vertical-align: top;\n",
              "    }\n",
              "\n",
              "    .dataframe thead th {\n",
              "        text-align: right;\n",
              "    }\n",
              "</style>\n",
              "<table border=\"1\" class=\"dataframe\">\n",
              "  <thead>\n",
              "    <tr style=\"text-align: right;\">\n",
              "      <th></th>\n",
              "      <th>CIK</th>\n",
              "      <th>CONAME</th>\n",
              "      <th>FYRMO</th>\n",
              "      <th>FDATE</th>\n",
              "      <th>FORM</th>\n",
              "      <th>SECFNAME</th>\n",
              "      <th>SECFNAME_link</th>\n",
              "    </tr>\n",
              "  </thead>\n",
              "  <tbody>\n",
              "    <tr>\n",
              "      <th>0</th>\n",
              "      <td>3662</td>\n",
              "      <td>SUNBEAM CORP/FL/</td>\n",
              "      <td>199803</td>\n",
              "      <td>1998-03-06</td>\n",
              "      <td>10-K405</td>\n",
              "      <td>edgar/data/3662/0000950170-98-000413.txt</td>\n",
              "      <td>https://www.sec.gov/Archives/edgar/data/3662/0...</td>\n",
              "    </tr>\n",
              "    <tr>\n",
              "      <th>1</th>\n",
              "      <td>3662</td>\n",
              "      <td>SUNBEAM CORP/FL/</td>\n",
              "      <td>199805</td>\n",
              "      <td>1998-05-15</td>\n",
              "      <td>10-Q</td>\n",
              "      <td>edgar/data/3662/0000950170-98-001001.txt</td>\n",
              "      <td>https://www.sec.gov/Archives/edgar/data/3662/0...</td>\n",
              "    </tr>\n",
              "    <tr>\n",
              "      <th>2</th>\n",
              "      <td>3662</td>\n",
              "      <td>SUNBEAM CORP/FL/</td>\n",
              "      <td>199808</td>\n",
              "      <td>1998-08-13</td>\n",
              "      <td>NT 10-Q</td>\n",
              "      <td>edgar/data/3662/0000950172-98-000783.txt</td>\n",
              "      <td>https://www.sec.gov/Archives/edgar/data/3662/0...</td>\n",
              "    </tr>\n",
              "    <tr>\n",
              "      <th>3</th>\n",
              "      <td>3662</td>\n",
              "      <td>SUNBEAM CORP/FL/</td>\n",
              "      <td>199811</td>\n",
              "      <td>1998-11-12</td>\n",
              "      <td>10-K/A</td>\n",
              "      <td>edgar/data/3662/0000950170-98-002145.txt</td>\n",
              "      <td>https://www.sec.gov/Archives/edgar/data/3662/0...</td>\n",
              "    </tr>\n",
              "    <tr>\n",
              "      <th>4</th>\n",
              "      <td>3662</td>\n",
              "      <td>SUNBEAM CORP/FL/</td>\n",
              "      <td>199811</td>\n",
              "      <td>1998-11-16</td>\n",
              "      <td>NT 10-Q</td>\n",
              "      <td>edgar/data/3662/0000950172-98-001203.txt</td>\n",
              "      <td>https://www.sec.gov/Archives/edgar/data/3662/0...</td>\n",
              "    </tr>\n",
              "  </tbody>\n",
              "</table>\n",
              "</div>"
            ],
            "text/plain": [
              "    CIK  ...                                      SECFNAME_link\n",
              "0  3662  ...  https://www.sec.gov/Archives/edgar/data/3662/0...\n",
              "1  3662  ...  https://www.sec.gov/Archives/edgar/data/3662/0...\n",
              "2  3662  ...  https://www.sec.gov/Archives/edgar/data/3662/0...\n",
              "3  3662  ...  https://www.sec.gov/Archives/edgar/data/3662/0...\n",
              "4  3662  ...  https://www.sec.gov/Archives/edgar/data/3662/0...\n",
              "\n",
              "[5 rows x 7 columns]"
            ]
          },
          "metadata": {
            "tags": []
          },
          "execution_count": 6
        }
      ]
    },
    {
      "cell_type": "code",
      "metadata": {
        "id": "IJQmLbNOfsUL",
        "colab_type": "code",
        "colab": {
          "base_uri": "https://localhost:8080/",
          "height": 102
        },
        "outputId": "c23707a5-b47b-4cce-d9ec-f6081a140c53"
      },
      "source": [
        "for i in range(5):\n",
        "  print(list(cik['SECFNAME_link'])[i])"
      ],
      "execution_count": 7,
      "outputs": [
        {
          "output_type": "stream",
          "text": [
            "https://www.sec.gov/Archives/edgar/data/3662/0000950170-98-000413.txt\n",
            "https://www.sec.gov/Archives/edgar/data/3662/0000950170-98-001001.txt\n",
            "https://www.sec.gov/Archives/edgar/data/3662/0000950172-98-000783.txt\n",
            "https://www.sec.gov/Archives/edgar/data/3662/0000950170-98-002145.txt\n",
            "https://www.sec.gov/Archives/edgar/data/3662/0000950172-98-001203.txt\n"
          ],
          "name": "stdout"
        }
      ]
    },
    {
      "cell_type": "code",
      "metadata": {
        "id": "zPtItgpFfsSJ",
        "colab_type": "code",
        "colab": {}
      },
      "source": [
        "import requests\n",
        "import re, string, unicodedata\n",
        "import nltk\n",
        "from bs4 import BeautifulSoup\n",
        "from nltk import word_tokenize, sent_tokenize\n",
        "from nltk.corpus import stopwords\n",
        "from nltk.stem import LancasterStemmer, WordNetLemmatizer"
      ],
      "execution_count": 0,
      "outputs": []
    },
    {
      "cell_type": "code",
      "metadata": {
        "id": "vujyNyvRfsOf",
        "colab_type": "code",
        "colab": {
          "base_uri": "https://localhost:8080/",
          "height": 85
        },
        "outputId": "5ebbb0db-f6ae-43f5-9a80-25f0a8f47f86"
      },
      "source": [
        "#making the stopword set from basic english and the given list of stopwords\n",
        "nltk.download('stopwords')\n",
        "nltk.download('punkt')\n",
        "stopset = set(w.upper() for w in stopwords.words('english'))"
      ],
      "execution_count": 9,
      "outputs": [
        {
          "output_type": "stream",
          "text": [
            "[nltk_data] Downloading package stopwords to /root/nltk_data...\n",
            "[nltk_data]   Unzipping corpora/stopwords.zip.\n",
            "[nltk_data] Downloading package punkt to /root/nltk_data...\n",
            "[nltk_data]   Unzipping tokenizers/punkt.zip.\n"
          ],
          "name": "stdout"
        }
      ]
    },
    {
      "cell_type": "code",
      "metadata": {
        "id": "KwxWis3FJSuw",
        "colab_type": "code",
        "colab": {}
      },
      "source": [
        "#adding more stopwords from text file of stopwords\n",
        "import glob\n",
        "path = \"StopWords*.txt\"\n",
        "glob.glob(path)\n",
        "for filename in glob.glob(path):\n",
        "    with open(filename, 'r') as f:\n",
        "        text = f.read()\n",
        "        text = re.sub(r\"\\s+\\|\\s+[\\w]*\" , \"\", text)        \n",
        "        stopset.update(text.upper().split())\n",
        "        #print(len(stopset))"
      ],
      "execution_count": 0,
      "outputs": []
    },
    {
      "cell_type": "code",
      "metadata": {
        "id": "0IHIqap8JSs6",
        "colab_type": "code",
        "colab": {
          "base_uri": "https://localhost:8080/",
          "height": 51
        },
        "outputId": "6cf1290f-0f59-4672-8dab-2bb58d28d8c3"
      },
      "source": [
        "# syllables count (will be used in complex word count)\n",
        "from nltk.corpus import cmudict\n",
        "nltk.download('cmudict')\n",
        "d = cmudict.dict()\n",
        "\n",
        "def syllables(word):\n",
        "    #referred from stackoverflow.com/questions/14541303/count-the-number-of-syllables-in-a-word\n",
        "    count = 0\n",
        "    vowels = 'aeiouy'\n",
        "    word = word.lower()\n",
        "    if word[0] in vowels:\n",
        "        count +=1\n",
        "    for index in range(1,len(word)):\n",
        "        if word[index] in vowels and word[index-1] not in vowels:\n",
        "            count +=1\n",
        "    if word.endswith('e'):\n",
        "        count -= 1\n",
        "    if word.endswith('le'):\n",
        "        count+=1\n",
        "    if count == 0:\n",
        "        count +=1\n",
        "    return count\n",
        "\n",
        "def nsyl(word):\n",
        "    try:\n",
        "        return max([len(list(y for y in x if y[-1].isdigit())) for x in d[word.lower()]])\n",
        "    except KeyError:\n",
        "        #if word not found in cmudict\n",
        "        return syllables(word)"
      ],
      "execution_count": 11,
      "outputs": [
        {
          "output_type": "stream",
          "text": [
            "[nltk_data] Downloading package cmudict to /root/nltk_data...\n",
            "[nltk_data]   Unzipping corpora/cmudict.zip.\n"
          ],
          "name": "stdout"
        }
      ]
    },
    {
      "cell_type": "code",
      "metadata": {
        "id": "Q3HW-UUeJhLW",
        "colab_type": "code",
        "colab": {}
      },
      "source": [
        "def strip_html(text):\n",
        "    soup = BeautifulSoup(text, \"html.parser\")\n",
        "    return soup.get_text()\n",
        "\n",
        "def remove_between_square_brackets(text):\n",
        "    return re.sub('\\[[^]]*\\]', '', text)\n",
        "\n",
        "def remove_digits(text):\n",
        "    return re.sub('[\\d%/$]', '', text)\n",
        "\n",
        "def denoise_text(text):\n",
        "    text = strip_html(text)\n",
        "    text = remove_between_square_brackets(text)\n",
        "    text = remove_digits(text)\n",
        "    return text\n",
        "\n",
        "def remove_non_ascii(words):\n",
        "    \"\"\"Remove non-ASCII characters from list of tokenized words\"\"\"\n",
        "    new_words = []\n",
        "    for word in words:\n",
        "        new_word = unicodedata.normalize('NFKD', word).encode('ascii', 'ignore').decode('utf-8', 'ignore')\n",
        "        new_words.append(new_word)\n",
        "    return new_words\n",
        "\n",
        "def to_upper_case(words):\n",
        "    \"\"\"Convert all characters to lowercase from list of tokenized words\"\"\"\n",
        "    new_words = []\n",
        "    for word in words:\n",
        "        new_word = word.upper()\n",
        "        new_words.append(new_word)\n",
        "    return new_words\n",
        "\n",
        "def remove_punctuation(words):\n",
        "    \"\"\"Remove punctuation from list of tokenized words\"\"\"\n",
        "    new_words = []\n",
        "    for word in words:\n",
        "        new_word = re.sub(r'[^\\w\\s]', '', word)\n",
        "        if new_word != '':\n",
        "            new_words.append(new_word)\n",
        "    return new_words\n",
        "\n",
        "\n",
        "def remove_stopwords(words):\n",
        "    \"\"\"Remove stop words from list of tokenized words\"\"\"\n",
        "    new_words = []\n",
        "    for word in words:\n",
        "        if word not in stopset:\n",
        "            new_words.append(word)\n",
        "    return new_words\n",
        "\n",
        "def normalize(words):\n",
        "    words = remove_non_ascii(words)\n",
        "    words = to_upper_case(words)\n",
        "    words = remove_punctuation(words)\n",
        "#     words = replace_numbers(words)\n",
        "    words = remove_stopwords(words)\n",
        "    return words"
      ],
      "execution_count": 0,
      "outputs": []
    },
    {
      "cell_type": "code",
      "metadata": {
        "id": "O0AhoqylJhJy",
        "colab_type": "code",
        "colab": {}
      },
      "source": [
        "# section names\n",
        "MDA = \"Management's Discussion and Analysis\"\n",
        "QQDMR = \"Quantitative and Qualitative Disclosures about Market Risk\"\n",
        "RF = \"Risk Factors\"\n",
        "section_name = ['MDA','QQDMR',\"RF\"]\n",
        "section = [MDA.upper(),QQDMR.upper(),RF.upper()]\n",
        "variables = ['positive_score','negative_score','polarity_score','average_sentence_length', 'percentage_of_complex_words',\\\n",
        "                   'fog_index','complex_word_count','word_count','uncertainty_score','constraining_score', 'positive_word_proportion',\\\n",
        "                   'negative_word_proportion', 'uncertainty_word_proportion', 'constraining_word_proportion' ]"
      ],
      "execution_count": 0,
      "outputs": []
    },
    {
      "cell_type": "code",
      "metadata": {
        "id": "PqMfC21JJg-r",
        "colab_type": "code",
        "colab": {
          "base_uri": "https://localhost:8080/",
          "height": 103
        },
        "outputId": "5eb7388d-8297-4c03-ac15-fff067426aa8"
      },
      "source": [
        "import itertools\n",
        "\n",
        "constraining_words_whole_report = pd.Series(name='constraining_words_whole_report')\n",
        "print(constraining_words_whole_report)\n",
        "df_col = [sec.lower() + '_' + var for sec,var in itertools.product(section_name,variables) ]\n",
        "df = pd.DataFrame(columns=df_col)\n",
        "print(df.shape)\n",
        "df"
      ],
      "execution_count": 16,
      "outputs": [
        {
          "output_type": "stream",
          "text": [
            "Series([], Name: constraining_words_whole_report, dtype: float64)\n",
            "(0, 42)\n"
          ],
          "name": "stdout"
        },
        {
          "output_type": "execute_result",
          "data": {
            "text/html": [
              "<div>\n",
              "<style scoped>\n",
              "    .dataframe tbody tr th:only-of-type {\n",
              "        vertical-align: middle;\n",
              "    }\n",
              "\n",
              "    .dataframe tbody tr th {\n",
              "        vertical-align: top;\n",
              "    }\n",
              "\n",
              "    .dataframe thead th {\n",
              "        text-align: right;\n",
              "    }\n",
              "</style>\n",
              "<table border=\"1\" class=\"dataframe\">\n",
              "  <thead>\n",
              "    <tr style=\"text-align: right;\">\n",
              "      <th></th>\n",
              "      <th>mda_positive_score</th>\n",
              "      <th>mda_negative_score</th>\n",
              "      <th>mda_polarity_score</th>\n",
              "      <th>mda_average_sentence_length</th>\n",
              "      <th>mda_percentage_of_complex_words</th>\n",
              "      <th>mda_fog_index</th>\n",
              "      <th>mda_complex_word_count</th>\n",
              "      <th>mda_word_count</th>\n",
              "      <th>mda_uncertainty_score</th>\n",
              "      <th>mda_constraining_score</th>\n",
              "      <th>mda_positive_word_proportion</th>\n",
              "      <th>mda_negative_word_proportion</th>\n",
              "      <th>mda_uncertainty_word_proportion</th>\n",
              "      <th>mda_constraining_word_proportion</th>\n",
              "      <th>qqdmr_positive_score</th>\n",
              "      <th>qqdmr_negative_score</th>\n",
              "      <th>qqdmr_polarity_score</th>\n",
              "      <th>qqdmr_average_sentence_length</th>\n",
              "      <th>qqdmr_percentage_of_complex_words</th>\n",
              "      <th>qqdmr_fog_index</th>\n",
              "      <th>qqdmr_complex_word_count</th>\n",
              "      <th>qqdmr_word_count</th>\n",
              "      <th>qqdmr_uncertainty_score</th>\n",
              "      <th>qqdmr_constraining_score</th>\n",
              "      <th>qqdmr_positive_word_proportion</th>\n",
              "      <th>qqdmr_negative_word_proportion</th>\n",
              "      <th>qqdmr_uncertainty_word_proportion</th>\n",
              "      <th>qqdmr_constraining_word_proportion</th>\n",
              "      <th>rf_positive_score</th>\n",
              "      <th>rf_negative_score</th>\n",
              "      <th>rf_polarity_score</th>\n",
              "      <th>rf_average_sentence_length</th>\n",
              "      <th>rf_percentage_of_complex_words</th>\n",
              "      <th>rf_fog_index</th>\n",
              "      <th>rf_complex_word_count</th>\n",
              "      <th>rf_word_count</th>\n",
              "      <th>rf_uncertainty_score</th>\n",
              "      <th>rf_constraining_score</th>\n",
              "      <th>rf_positive_word_proportion</th>\n",
              "      <th>rf_negative_word_proportion</th>\n",
              "      <th>rf_uncertainty_word_proportion</th>\n",
              "      <th>rf_constraining_word_proportion</th>\n",
              "    </tr>\n",
              "  </thead>\n",
              "  <tbody>\n",
              "  </tbody>\n",
              "</table>\n",
              "</div>"
            ],
            "text/plain": [
              "Empty DataFrame\n",
              "Columns: [mda_positive_score, mda_negative_score, mda_polarity_score, mda_average_sentence_length, mda_percentage_of_complex_words, mda_fog_index, mda_complex_word_count, mda_word_count, mda_uncertainty_score, mda_constraining_score, mda_positive_word_proportion, mda_negative_word_proportion, mda_uncertainty_word_proportion, mda_constraining_word_proportion, qqdmr_positive_score, qqdmr_negative_score, qqdmr_polarity_score, qqdmr_average_sentence_length, qqdmr_percentage_of_complex_words, qqdmr_fog_index, qqdmr_complex_word_count, qqdmr_word_count, qqdmr_uncertainty_score, qqdmr_constraining_score, qqdmr_positive_word_proportion, qqdmr_negative_word_proportion, qqdmr_uncertainty_word_proportion, qqdmr_constraining_word_proportion, rf_positive_score, rf_negative_score, rf_polarity_score, rf_average_sentence_length, rf_percentage_of_complex_words, rf_fog_index, rf_complex_word_count, rf_word_count, rf_uncertainty_score, rf_constraining_score, rf_positive_word_proportion, rf_negative_word_proportion, rf_uncertainty_word_proportion, rf_constraining_word_proportion]\n",
              "Index: []"
            ]
          },
          "metadata": {
            "tags": []
          },
          "execution_count": 16
        }
      ]
    },
    {
      "cell_type": "code",
      "metadata": {
        "id": "WaTlBw3MJgz1",
        "colab_type": "code",
        "colab": {
          "base_uri": "https://localhost:8080/",
          "height": 153
        },
        "outputId": "513e292e-29f7-4a49-b4e3-46a885aa497e"
      },
      "source": [
        "cik.loc[64]"
      ],
      "execution_count": 18,
      "outputs": [
        {
          "output_type": "execute_result",
          "data": {
            "text/plain": [
              "CIK                                                           4962\n",
              "CONAME                                         AMERICAN EXPRESS CO\n",
              "FYRMO                                                       201407\n",
              "FDATE                                          2014-07-30 00:00:00\n",
              "FORM                                                          10-Q\n",
              "SECFNAME                  edgar/data/4962/0001193125-14-286961.txt\n",
              "SECFNAME_link    https://www.sec.gov/Archives/edgar/data/4962/0...\n",
              "Name: 64, dtype: object"
            ]
          },
          "metadata": {
            "tags": []
          },
          "execution_count": 18
        }
      ]
    },
    {
      "cell_type": "code",
      "metadata": {
        "id": "yRMjtV0wLxXN",
        "colab_type": "code",
        "colab": {
          "base_uri": "https://localhost:8080/",
          "height": 34
        },
        "outputId": "565374a4-adc3-44c5-c653-9aec67245384"
      },
      "source": [
        "len(cik)"
      ],
      "execution_count": 19,
      "outputs": [
        {
          "output_type": "execute_result",
          "data": {
            "text/plain": [
              "152"
            ]
          },
          "metadata": {
            "tags": []
          },
          "execution_count": 19
        }
      ]
    },
    {
      "cell_type": "code",
      "metadata": {
        "id": "deJojtLDJguc",
        "colab_type": "code",
        "colab": {}
      },
      "source": [
        "for i in range(152):\n",
        "    file_name = list(cik['SECFNAME_link'])[i]\n",
        "    text = open(file_name,'r').read()\n",
        "    print('reading..',end = \" \")\n",
        "    df.loc[i] = np.zeros(42)\n",
        "    for j in range(3):\n",
        "        if i in [63,64]:\n",
        "            continue\n",
        "        print(i,j,sep= '|',end = \" \")\n",
        "        exp = r\".*(?P<start>ITEM [\\d]\\. \" + re.escape(section[j]) + r\")(?P<MDA>.*)(?P<body>[\\s\\S]*)(?P<end>ITEM \\d|SIGNATURES)\"\n",
        "        regexp = re.compile(exp)\n",
        "        s = regexp.search(text)\n",
        "        \n",
        "        if s:\n",
        "            data = s.group('body')\n",
        "            text = denoise_text(data)\n",
        "            sent_list = sent_tokenize(text)\n",
        "            sentence_length = len(sent_list)\n",
        "\n",
        "            sample = text.split()\n",
        "            sample = normalize(sample)\n",
        "            word_count = len(sample)\n",
        "            complex_word_count = 0\n",
        "            \n",
        "            for word in sample:\n",
        "                if nsyl(word.lower()) > 2:\n",
        "                    complex_word_count += 1\n",
        "            \n",
        "            average_sentence_length = word_count/sentence_length\n",
        "            percentage_of_complex_words = complex_word_count/word_count\n",
        "            fog_index = 0.4 * (average_sentence_length + percentage_of_complex_words)\n",
        "            \n",
        "\n",
        "  "
      ],
      "execution_count": 0,
      "outputs": []
    },
    {
      "cell_type": "code",
      "metadata": {
        "id": "S3GxnG8OJSo7",
        "colab_type": "code",
        "colab": {}
      },
      "source": [
        "https://sanjay-raghu.github.io/test_site/"
      ],
      "execution_count": 0,
      "outputs": []
    },
    {
      "cell_type": "code",
      "metadata": {
        "id": "CwB6VALzJSnD",
        "colab_type": "code",
        "colab": {}
      },
      "source": [
        ""
      ],
      "execution_count": 0,
      "outputs": []
    },
    {
      "cell_type": "code",
      "metadata": {
        "id": "BkgdGBlxJSit",
        "colab_type": "code",
        "colab": {}
      },
      "source": [
        ""
      ],
      "execution_count": 0,
      "outputs": []
    },
    {
      "cell_type": "code",
      "metadata": {
        "id": "aaUdHFb5LO8f",
        "colab_type": "code",
        "colab": {}
      },
      "source": [
        ""
      ],
      "execution_count": 0,
      "outputs": []
    },
    {
      "cell_type": "code",
      "metadata": {
        "id": "6C1UeMx0LO4J",
        "colab_type": "code",
        "colab": {}
      },
      "source": [
        ""
      ],
      "execution_count": 0,
      "outputs": []
    },
    {
      "cell_type": "code",
      "metadata": {
        "id": "kXUuR-fWLO1X",
        "colab_type": "code",
        "colab": {}
      },
      "source": [
        ""
      ],
      "execution_count": 0,
      "outputs": []
    },
    {
      "cell_type": "code",
      "metadata": {
        "id": "Upo7FUGOesMD",
        "colab_type": "code",
        "outputId": "f642f41d-492c-4a6b-f374-6b501722444b",
        "colab": {
          "base_uri": "https://localhost:8080/",
          "height": 221
        }
      },
      "source": [
        "file2 = path + '/uncertainty_dictionary.xlsx'\n",
        "uncertain = pd.read_excel(file2)\n",
        "print(uncertain.shape)\n",
        "uncertain.head()"
      ],
      "execution_count": 0,
      "outputs": [
        {
          "output_type": "stream",
          "text": [
            "(297, 1)\n"
          ],
          "name": "stdout"
        },
        {
          "output_type": "execute_result",
          "data": {
            "text/html": [
              "<div>\n",
              "<style scoped>\n",
              "    .dataframe tbody tr th:only-of-type {\n",
              "        vertical-align: middle;\n",
              "    }\n",
              "\n",
              "    .dataframe tbody tr th {\n",
              "        vertical-align: top;\n",
              "    }\n",
              "\n",
              "    .dataframe thead th {\n",
              "        text-align: right;\n",
              "    }\n",
              "</style>\n",
              "<table border=\"1\" class=\"dataframe\">\n",
              "  <thead>\n",
              "    <tr style=\"text-align: right;\">\n",
              "      <th></th>\n",
              "      <th>Word</th>\n",
              "    </tr>\n",
              "  </thead>\n",
              "  <tbody>\n",
              "    <tr>\n",
              "      <th>0</th>\n",
              "      <td>ABEYANCE</td>\n",
              "    </tr>\n",
              "    <tr>\n",
              "      <th>1</th>\n",
              "      <td>ABEYANCES</td>\n",
              "    </tr>\n",
              "    <tr>\n",
              "      <th>2</th>\n",
              "      <td>ALMOST</td>\n",
              "    </tr>\n",
              "    <tr>\n",
              "      <th>3</th>\n",
              "      <td>ALTERATION</td>\n",
              "    </tr>\n",
              "    <tr>\n",
              "      <th>4</th>\n",
              "      <td>ALTERATIONS</td>\n",
              "    </tr>\n",
              "  </tbody>\n",
              "</table>\n",
              "</div>"
            ],
            "text/plain": [
              "          Word\n",
              "0     ABEYANCE\n",
              "1    ABEYANCES\n",
              "2       ALMOST\n",
              "3   ALTERATION\n",
              "4  ALTERATIONS"
            ]
          },
          "metadata": {
            "tags": []
          },
          "execution_count": 9
        }
      ]
    },
    {
      "cell_type": "code",
      "metadata": {
        "id": "8Rp0wFEyciT7",
        "colab_type": "code",
        "outputId": "67b8b326-e648-4233-e4d3-18b0be0e6a27",
        "colab": {
          "base_uri": "https://localhost:8080/",
          "height": 221
        }
      },
      "source": [
        "file4 = path + '/constraining_dictionary.xlsx'\n",
        "constrain = pd.read_excel(file4)\n",
        "print(constrain.shape)\n",
        "constrain.head()"
      ],
      "execution_count": 0,
      "outputs": [
        {
          "output_type": "stream",
          "text": [
            "(184, 1)\n"
          ],
          "name": "stdout"
        },
        {
          "output_type": "execute_result",
          "data": {
            "text/html": [
              "<div>\n",
              "<style scoped>\n",
              "    .dataframe tbody tr th:only-of-type {\n",
              "        vertical-align: middle;\n",
              "    }\n",
              "\n",
              "    .dataframe tbody tr th {\n",
              "        vertical-align: top;\n",
              "    }\n",
              "\n",
              "    .dataframe thead th {\n",
              "        text-align: right;\n",
              "    }\n",
              "</style>\n",
              "<table border=\"1\" class=\"dataframe\">\n",
              "  <thead>\n",
              "    <tr style=\"text-align: right;\">\n",
              "      <th></th>\n",
              "      <th>Word</th>\n",
              "    </tr>\n",
              "  </thead>\n",
              "  <tbody>\n",
              "    <tr>\n",
              "      <th>0</th>\n",
              "      <td>ABIDE</td>\n",
              "    </tr>\n",
              "    <tr>\n",
              "      <th>1</th>\n",
              "      <td>ABIDING</td>\n",
              "    </tr>\n",
              "    <tr>\n",
              "      <th>2</th>\n",
              "      <td>BOUND</td>\n",
              "    </tr>\n",
              "    <tr>\n",
              "      <th>3</th>\n",
              "      <td>BOUNDED</td>\n",
              "    </tr>\n",
              "    <tr>\n",
              "      <th>4</th>\n",
              "      <td>COMMIT</td>\n",
              "    </tr>\n",
              "  </tbody>\n",
              "</table>\n",
              "</div>"
            ],
            "text/plain": [
              "      Word\n",
              "0    ABIDE\n",
              "1  ABIDING\n",
              "2    BOUND\n",
              "3  BOUNDED\n",
              "4   COMMIT"
            ]
          },
          "metadata": {
            "tags": []
          },
          "execution_count": 10
        }
      ]
    },
    {
      "cell_type": "code",
      "metadata": {
        "id": "OTgUhQ9qciRb",
        "colab_type": "code",
        "outputId": "c08b7155-0f46-4c7f-e984-2799867c2e2c",
        "colab": {
          "base_uri": "https://localhost:8080/",
          "height": 86
        }
      },
      "source": [
        "file3 = path + '/Output Data Structure.xlsx'\n",
        "output = pd.read_excel(file3)\n",
        "print(output.shape)\n",
        "output.head()"
      ],
      "execution_count": 0,
      "outputs": [
        {
          "output_type": "stream",
          "text": [
            "(0, 49)\n"
          ],
          "name": "stdout"
        },
        {
          "output_type": "execute_result",
          "data": {
            "text/html": [
              "<div>\n",
              "<style scoped>\n",
              "    .dataframe tbody tr th:only-of-type {\n",
              "        vertical-align: middle;\n",
              "    }\n",
              "\n",
              "    .dataframe tbody tr th {\n",
              "        vertical-align: top;\n",
              "    }\n",
              "\n",
              "    .dataframe thead th {\n",
              "        text-align: right;\n",
              "    }\n",
              "</style>\n",
              "<table border=\"1\" class=\"dataframe\">\n",
              "  <thead>\n",
              "    <tr style=\"text-align: right;\">\n",
              "      <th></th>\n",
              "      <th>CIK</th>\n",
              "      <th>CONAME</th>\n",
              "      <th>FYRMO</th>\n",
              "      <th>FDATE</th>\n",
              "      <th>FORM</th>\n",
              "      <th>SECFNAME</th>\n",
              "      <th>mda_positive_score</th>\n",
              "      <th>mda_negative_score</th>\n",
              "      <th>mda_polarity_score</th>\n",
              "      <th>mda_average_sentence_length</th>\n",
              "      <th>mda_percentage_of_complex_words</th>\n",
              "      <th>mda_fog_index</th>\n",
              "      <th>mda_complex_word_count</th>\n",
              "      <th>mda_word_count</th>\n",
              "      <th>mda_uncertainty_score</th>\n",
              "      <th>mda_constraining_score</th>\n",
              "      <th>mda_positive_word_proportion</th>\n",
              "      <th>mda_negative_word_proportion</th>\n",
              "      <th>mda_uncertainty_word_proportion</th>\n",
              "      <th>mda_constraining_word_proportion</th>\n",
              "      <th>qqdmr_positive_score</th>\n",
              "      <th>qqdmr_negative_score</th>\n",
              "      <th>qqdmr_polarity_score</th>\n",
              "      <th>qqdmr_average_sentence_length</th>\n",
              "      <th>qqdmr_percentage_of_complex_words</th>\n",
              "      <th>qqdmr_fog_index</th>\n",
              "      <th>qqdmr_complex_word_count</th>\n",
              "      <th>qqdmr_word_count</th>\n",
              "      <th>qqdmr_uncertainty_score</th>\n",
              "      <th>qqdmr_constraining_score</th>\n",
              "      <th>qqdmr_positive_word_proportion</th>\n",
              "      <th>qqdmr_negative_word_proportion</th>\n",
              "      <th>qqdmr_uncertainty_word_proportion</th>\n",
              "      <th>qqdmr_constraining_word_proportion</th>\n",
              "      <th>rf_positive_score</th>\n",
              "      <th>rf_negative_score</th>\n",
              "      <th>rf_polarity_score</th>\n",
              "      <th>rf_average_sentence_length</th>\n",
              "      <th>rf_percentage_of_complex_words</th>\n",
              "      <th>rf_fog_index</th>\n",
              "      <th>rf_complex_word_count</th>\n",
              "      <th>rf_word_count</th>\n",
              "      <th>rf_uncertainty_score</th>\n",
              "      <th>rf_constraining_score</th>\n",
              "      <th>rf_positive_word_proportion</th>\n",
              "      <th>rf_negative_word_proportion</th>\n",
              "      <th>rf_uncertainty_word_proportion</th>\n",
              "      <th>rf_constraining_word_proportion</th>\n",
              "      <th>constraining_words_whole_report</th>\n",
              "    </tr>\n",
              "  </thead>\n",
              "  <tbody>\n",
              "  </tbody>\n",
              "</table>\n",
              "</div>"
            ],
            "text/plain": [
              "Empty DataFrame\n",
              "Columns: [CIK, CONAME, FYRMO, FDATE, FORM, SECFNAME, mda_positive_score, mda_negative_score, mda_polarity_score, mda_average_sentence_length, mda_percentage_of_complex_words, mda_fog_index, mda_complex_word_count, mda_word_count, mda_uncertainty_score, mda_constraining_score, mda_positive_word_proportion, mda_negative_word_proportion, mda_uncertainty_word_proportion, mda_constraining_word_proportion, qqdmr_positive_score, qqdmr_negative_score, qqdmr_polarity_score, qqdmr_average_sentence_length, qqdmr_percentage_of_complex_words, qqdmr_fog_index, qqdmr_complex_word_count, qqdmr_word_count, qqdmr_uncertainty_score, qqdmr_constraining_score, qqdmr_positive_word_proportion, qqdmr_negative_word_proportion, qqdmr_uncertainty_word_proportion, qqdmr_constraining_word_proportion, rf_positive_score, rf_negative_score, rf_polarity_score, rf_average_sentence_length, rf_percentage_of_complex_words, rf_fog_index, rf_complex_word_count, rf_word_count, rf_uncertainty_score, rf_constraining_score, rf_positive_word_proportion, rf_negative_word_proportion, rf_uncertainty_word_proportion, rf_constraining_word_proportion, constraining_words_whole_report]\n",
              "Index: []"
            ]
          },
          "metadata": {
            "tags": []
          },
          "execution_count": 11
        }
      ]
    },
    {
      "cell_type": "code",
      "metadata": {
        "id": "4VJ7ZlMIciPH",
        "colab_type": "code",
        "colab": {}
      },
      "source": [
        ""
      ],
      "execution_count": 0,
      "outputs": []
    },
    {
      "cell_type": "code",
      "metadata": {
        "id": "F9K7tND7ciLh",
        "colab_type": "code",
        "colab": {}
      },
      "source": [
        ""
      ],
      "execution_count": 0,
      "outputs": []
    },
    {
      "cell_type": "code",
      "metadata": {
        "id": "oumz87uociEn",
        "colab_type": "code",
        "colab": {}
      },
      "source": [
        ""
      ],
      "execution_count": 0,
      "outputs": []
    },
    {
      "cell_type": "code",
      "metadata": {
        "id": "cBVrHWqpciDO",
        "colab_type": "code",
        "colab": {}
      },
      "source": [
        ""
      ],
      "execution_count": 0,
      "outputs": []
    },
    {
      "cell_type": "code",
      "metadata": {
        "id": "BlH-hX1ociBa",
        "colab_type": "code",
        "colab": {}
      },
      "source": [
        ""
      ],
      "execution_count": 0,
      "outputs": []
    },
    {
      "cell_type": "code",
      "metadata": {
        "id": "B8WE7D3sch_W",
        "colab_type": "code",
        "colab": {}
      },
      "source": [
        ""
      ],
      "execution_count": 0,
      "outputs": []
    },
    {
      "cell_type": "code",
      "metadata": {
        "id": "vPWY0e0dch8c",
        "colab_type": "code",
        "colab": {}
      },
      "source": [
        ""
      ],
      "execution_count": 0,
      "outputs": []
    },
    {
      "cell_type": "code",
      "metadata": {
        "id": "Bm9eyxx6ch6N",
        "colab_type": "code",
        "colab": {}
      },
      "source": [
        ""
      ],
      "execution_count": 0,
      "outputs": []
    },
    {
      "cell_type": "code",
      "metadata": {
        "id": "oJdpsz2tch3V",
        "colab_type": "code",
        "colab": {}
      },
      "source": [
        ""
      ],
      "execution_count": 0,
      "outputs": []
    },
    {
      "cell_type": "code",
      "metadata": {
        "id": "oe_uTK9Bchz5",
        "colab_type": "code",
        "colab": {}
      },
      "source": [
        ""
      ],
      "execution_count": 0,
      "outputs": []
    },
    {
      "cell_type": "code",
      "metadata": {
        "id": "w7CrUGRRchqa",
        "colab_type": "code",
        "colab": {}
      },
      "source": [
        ""
      ],
      "execution_count": 0,
      "outputs": []
    }
  ]
}