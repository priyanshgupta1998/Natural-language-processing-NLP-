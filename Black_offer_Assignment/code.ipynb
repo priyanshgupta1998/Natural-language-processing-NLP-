{
  "nbformat": 4,
  "nbformat_minor": 0,
  "metadata": {
    "colab": {
      "name": "TensorFlow with GPU",
      "provenance": [],
      "collapsed_sections": [],
      "include_colab_link": true
    },
    "kernelspec": {
      "name": "python3",
      "display_name": "Python 3"
    },
    "accelerator": "GPU"
  },
  "cells": [
    {
      "cell_type": "markdown",
      "metadata": {
        "id": "view-in-github",
        "colab_type": "text"
      },
      "source": [
        "<a href=\"https://colab.research.google.com/github/priyanshgupta1998/Natural-language-processing-NLP-/blob/master/Black_offer_Assignment/code.ipynb\" target=\"_parent\"><img src=\"https://colab.research.google.com/assets/colab-badge.svg\" alt=\"Open In Colab\"/></a>"
      ]
    },
    {
      "cell_type": "code",
      "metadata": {
        "id": "k2xFbAzlchnR",
        "colab_type": "code",
        "colab": {}
      },
      "source": [
        ""
      ],
      "execution_count": 0,
      "outputs": []
    },
    {
      "cell_type": "code",
      "metadata": {
        "id": "kvbgjNR8c6gz",
        "colab_type": "code",
        "colab": {
          "base_uri": "https://localhost:8080/",
          "height": 34
        },
        "outputId": "9a9c7cf1-e841-4477-e5e0-2a20cbbae313"
      },
      "source": [
        "from google.colab import drive\n",
        "drive.mount('/content/drive')"
      ],
      "execution_count": 3,
      "outputs": [
        {
          "output_type": "stream",
          "text": [
            "Drive already mounted at /content/drive; to attempt to forcibly remount, call drive.mount(\"/content/drive\", force_remount=True).\n"
          ],
          "name": "stdout"
        }
      ]
    },
    {
      "cell_type": "code",
      "metadata": {
        "id": "4sCa_iqgchuA",
        "colab_type": "code",
        "colab": {
          "base_uri": "https://localhost:8080/",
          "height": 34
        },
        "outputId": "21c54a7f-2b0f-4249-a479-f16d5fdf30e2"
      },
      "source": [
        "path = '/content/drive/My Drive/Data Science'\n",
        "import os\n",
        "import pandas as pd\n",
        "print(os.listdir(path))"
      ],
      "execution_count": 5,
      "outputs": [
        {
          "output_type": "stream",
          "text": [
            "['Objective.docx', 'cik_list.xlsx', 'Text Analysis.docx', 'Output Data Structure.xlsx', 'uncertainty_dictionary.xlsx', 'constraining_dictionary.xlsx']\n"
          ],
          "name": "stdout"
        }
      ]
    },
    {
      "cell_type": "code",
      "metadata": {
        "id": "ISoK-HuMciFl",
        "colab_type": "code",
        "colab": {
          "base_uri": "https://localhost:8080/",
          "height": 221
        },
        "outputId": "baef9c46-6622-4d03-9eda-4b2833904cb6"
      },
      "source": [
        "file1 = path + '/cik_list.xlsx'\n",
        "cik = pd.read_excel(file1)\n",
        "print(cik.shape)\n",
        "cik.head()"
      ],
      "execution_count": 7,
      "outputs": [
        {
          "output_type": "stream",
          "text": [
            "(152, 6)\n"
          ],
          "name": "stdout"
        },
        {
          "output_type": "execute_result",
          "data": {
            "text/html": [
              "<div>\n",
              "<style scoped>\n",
              "    .dataframe tbody tr th:only-of-type {\n",
              "        vertical-align: middle;\n",
              "    }\n",
              "\n",
              "    .dataframe tbody tr th {\n",
              "        vertical-align: top;\n",
              "    }\n",
              "\n",
              "    .dataframe thead th {\n",
              "        text-align: right;\n",
              "    }\n",
              "</style>\n",
              "<table border=\"1\" class=\"dataframe\">\n",
              "  <thead>\n",
              "    <tr style=\"text-align: right;\">\n",
              "      <th></th>\n",
              "      <th>CIK</th>\n",
              "      <th>CONAME</th>\n",
              "      <th>FYRMO</th>\n",
              "      <th>FDATE</th>\n",
              "      <th>FORM</th>\n",
              "      <th>SECFNAME</th>\n",
              "    </tr>\n",
              "  </thead>\n",
              "  <tbody>\n",
              "    <tr>\n",
              "      <th>0</th>\n",
              "      <td>3662</td>\n",
              "      <td>SUNBEAM CORP/FL/</td>\n",
              "      <td>199803</td>\n",
              "      <td>1998-03-06</td>\n",
              "      <td>10-K405</td>\n",
              "      <td>edgar/data/3662/0000950170-98-000413.txt</td>\n",
              "    </tr>\n",
              "    <tr>\n",
              "      <th>1</th>\n",
              "      <td>3662</td>\n",
              "      <td>SUNBEAM CORP/FL/</td>\n",
              "      <td>199805</td>\n",
              "      <td>1998-05-15</td>\n",
              "      <td>10-Q</td>\n",
              "      <td>edgar/data/3662/0000950170-98-001001.txt</td>\n",
              "    </tr>\n",
              "    <tr>\n",
              "      <th>2</th>\n",
              "      <td>3662</td>\n",
              "      <td>SUNBEAM CORP/FL/</td>\n",
              "      <td>199808</td>\n",
              "      <td>1998-08-13</td>\n",
              "      <td>NT 10-Q</td>\n",
              "      <td>edgar/data/3662/0000950172-98-000783.txt</td>\n",
              "    </tr>\n",
              "    <tr>\n",
              "      <th>3</th>\n",
              "      <td>3662</td>\n",
              "      <td>SUNBEAM CORP/FL/</td>\n",
              "      <td>199811</td>\n",
              "      <td>1998-11-12</td>\n",
              "      <td>10-K/A</td>\n",
              "      <td>edgar/data/3662/0000950170-98-002145.txt</td>\n",
              "    </tr>\n",
              "    <tr>\n",
              "      <th>4</th>\n",
              "      <td>3662</td>\n",
              "      <td>SUNBEAM CORP/FL/</td>\n",
              "      <td>199811</td>\n",
              "      <td>1998-11-16</td>\n",
              "      <td>NT 10-Q</td>\n",
              "      <td>edgar/data/3662/0000950172-98-001203.txt</td>\n",
              "    </tr>\n",
              "  </tbody>\n",
              "</table>\n",
              "</div>"
            ],
            "text/plain": [
              "    CIK            CONAME  ...     FORM                                  SECFNAME\n",
              "0  3662  SUNBEAM CORP/FL/  ...  10-K405  edgar/data/3662/0000950170-98-000413.txt\n",
              "1  3662  SUNBEAM CORP/FL/  ...     10-Q  edgar/data/3662/0000950170-98-001001.txt\n",
              "2  3662  SUNBEAM CORP/FL/  ...  NT 10-Q  edgar/data/3662/0000950172-98-000783.txt\n",
              "3  3662  SUNBEAM CORP/FL/  ...   10-K/A  edgar/data/3662/0000950170-98-002145.txt\n",
              "4  3662  SUNBEAM CORP/FL/  ...  NT 10-Q  edgar/data/3662/0000950172-98-001203.txt\n",
              "\n",
              "[5 rows x 6 columns]"
            ]
          },
          "metadata": {
            "tags": []
          },
          "execution_count": 7
        }
      ]
    },
    {
      "cell_type": "code",
      "metadata": {
        "id": "p034_DBRfsed",
        "colab_type": "code",
        "colab": {}
      },
      "source": [
        "cik['SECFNAME_link'] = cik['SECFNAME'].apply(lambda x:'https://www.sec.gov/Archives/' + str(x) ) "
      ],
      "execution_count": 0,
      "outputs": []
    },
    {
      "cell_type": "code",
      "metadata": {
        "id": "aNnhs_Z-fsYS",
        "colab_type": "code",
        "colab": {
          "base_uri": "https://localhost:8080/",
          "height": 204
        },
        "outputId": "5499d0e0-9a1a-41ad-90a8-551fcb0ffb91"
      },
      "source": [
        "cik.head()"
      ],
      "execution_count": 14,
      "outputs": [
        {
          "output_type": "execute_result",
          "data": {
            "text/html": [
              "<div>\n",
              "<style scoped>\n",
              "    .dataframe tbody tr th:only-of-type {\n",
              "        vertical-align: middle;\n",
              "    }\n",
              "\n",
              "    .dataframe tbody tr th {\n",
              "        vertical-align: top;\n",
              "    }\n",
              "\n",
              "    .dataframe thead th {\n",
              "        text-align: right;\n",
              "    }\n",
              "</style>\n",
              "<table border=\"1\" class=\"dataframe\">\n",
              "  <thead>\n",
              "    <tr style=\"text-align: right;\">\n",
              "      <th></th>\n",
              "      <th>CIK</th>\n",
              "      <th>CONAME</th>\n",
              "      <th>FYRMO</th>\n",
              "      <th>FDATE</th>\n",
              "      <th>FORM</th>\n",
              "      <th>SECFNAME</th>\n",
              "      <th>SECFNAME_link</th>\n",
              "    </tr>\n",
              "  </thead>\n",
              "  <tbody>\n",
              "    <tr>\n",
              "      <th>0</th>\n",
              "      <td>3662</td>\n",
              "      <td>SUNBEAM CORP/FL/</td>\n",
              "      <td>199803</td>\n",
              "      <td>1998-03-06</td>\n",
              "      <td>10-K405</td>\n",
              "      <td>edgar/data/3662/0000950170-98-000413.txt</td>\n",
              "      <td>https://www.sec.gov/Archives/edgar/data/3662/0...</td>\n",
              "    </tr>\n",
              "    <tr>\n",
              "      <th>1</th>\n",
              "      <td>3662</td>\n",
              "      <td>SUNBEAM CORP/FL/</td>\n",
              "      <td>199805</td>\n",
              "      <td>1998-05-15</td>\n",
              "      <td>10-Q</td>\n",
              "      <td>edgar/data/3662/0000950170-98-001001.txt</td>\n",
              "      <td>https://www.sec.gov/Archives/edgar/data/3662/0...</td>\n",
              "    </tr>\n",
              "    <tr>\n",
              "      <th>2</th>\n",
              "      <td>3662</td>\n",
              "      <td>SUNBEAM CORP/FL/</td>\n",
              "      <td>199808</td>\n",
              "      <td>1998-08-13</td>\n",
              "      <td>NT 10-Q</td>\n",
              "      <td>edgar/data/3662/0000950172-98-000783.txt</td>\n",
              "      <td>https://www.sec.gov/Archives/edgar/data/3662/0...</td>\n",
              "    </tr>\n",
              "    <tr>\n",
              "      <th>3</th>\n",
              "      <td>3662</td>\n",
              "      <td>SUNBEAM CORP/FL/</td>\n",
              "      <td>199811</td>\n",
              "      <td>1998-11-12</td>\n",
              "      <td>10-K/A</td>\n",
              "      <td>edgar/data/3662/0000950170-98-002145.txt</td>\n",
              "      <td>https://www.sec.gov/Archives/edgar/data/3662/0...</td>\n",
              "    </tr>\n",
              "    <tr>\n",
              "      <th>4</th>\n",
              "      <td>3662</td>\n",
              "      <td>SUNBEAM CORP/FL/</td>\n",
              "      <td>199811</td>\n",
              "      <td>1998-11-16</td>\n",
              "      <td>NT 10-Q</td>\n",
              "      <td>edgar/data/3662/0000950172-98-001203.txt</td>\n",
              "      <td>https://www.sec.gov/Archives/edgar/data/3662/0...</td>\n",
              "    </tr>\n",
              "  </tbody>\n",
              "</table>\n",
              "</div>"
            ],
            "text/plain": [
              "    CIK  ...                                      SECFNAME_link\n",
              "0  3662  ...  https://www.sec.gov/Archives/edgar/data/3662/0...\n",
              "1  3662  ...  https://www.sec.gov/Archives/edgar/data/3662/0...\n",
              "2  3662  ...  https://www.sec.gov/Archives/edgar/data/3662/0...\n",
              "3  3662  ...  https://www.sec.gov/Archives/edgar/data/3662/0...\n",
              "4  3662  ...  https://www.sec.gov/Archives/edgar/data/3662/0...\n",
              "\n",
              "[5 rows x 7 columns]"
            ]
          },
          "metadata": {
            "tags": []
          },
          "execution_count": 14
        }
      ]
    },
    {
      "cell_type": "code",
      "metadata": {
        "id": "IJQmLbNOfsUL",
        "colab_type": "code",
        "colab": {}
      },
      "source": [
        "# for i in range(5):\n",
        "#   print(list(cik['SECFNAME_link'])[i])"
      ],
      "execution_count": 0,
      "outputs": []
    },
    {
      "cell_type": "code",
      "metadata": {
        "id": "zPtItgpFfsSJ",
        "colab_type": "code",
        "colab": {}
      },
      "source": [
        ""
      ],
      "execution_count": 0,
      "outputs": []
    },
    {
      "cell_type": "code",
      "metadata": {
        "id": "vujyNyvRfsOf",
        "colab_type": "code",
        "colab": {}
      },
      "source": [
        ""
      ],
      "execution_count": 0,
      "outputs": []
    },
    {
      "cell_type": "code",
      "metadata": {
        "id": "Upo7FUGOesMD",
        "colab_type": "code",
        "colab": {
          "base_uri": "https://localhost:8080/",
          "height": 221
        },
        "outputId": "f642f41d-492c-4a6b-f374-6b501722444b"
      },
      "source": [
        "file2 = path + '/uncertainty_dictionary.xlsx'\n",
        "uncertain = pd.read_excel(file2)\n",
        "print(uncertain.shape)\n",
        "uncertain.head()"
      ],
      "execution_count": 9,
      "outputs": [
        {
          "output_type": "stream",
          "text": [
            "(297, 1)\n"
          ],
          "name": "stdout"
        },
        {
          "output_type": "execute_result",
          "data": {
            "text/html": [
              "<div>\n",
              "<style scoped>\n",
              "    .dataframe tbody tr th:only-of-type {\n",
              "        vertical-align: middle;\n",
              "    }\n",
              "\n",
              "    .dataframe tbody tr th {\n",
              "        vertical-align: top;\n",
              "    }\n",
              "\n",
              "    .dataframe thead th {\n",
              "        text-align: right;\n",
              "    }\n",
              "</style>\n",
              "<table border=\"1\" class=\"dataframe\">\n",
              "  <thead>\n",
              "    <tr style=\"text-align: right;\">\n",
              "      <th></th>\n",
              "      <th>Word</th>\n",
              "    </tr>\n",
              "  </thead>\n",
              "  <tbody>\n",
              "    <tr>\n",
              "      <th>0</th>\n",
              "      <td>ABEYANCE</td>\n",
              "    </tr>\n",
              "    <tr>\n",
              "      <th>1</th>\n",
              "      <td>ABEYANCES</td>\n",
              "    </tr>\n",
              "    <tr>\n",
              "      <th>2</th>\n",
              "      <td>ALMOST</td>\n",
              "    </tr>\n",
              "    <tr>\n",
              "      <th>3</th>\n",
              "      <td>ALTERATION</td>\n",
              "    </tr>\n",
              "    <tr>\n",
              "      <th>4</th>\n",
              "      <td>ALTERATIONS</td>\n",
              "    </tr>\n",
              "  </tbody>\n",
              "</table>\n",
              "</div>"
            ],
            "text/plain": [
              "          Word\n",
              "0     ABEYANCE\n",
              "1    ABEYANCES\n",
              "2       ALMOST\n",
              "3   ALTERATION\n",
              "4  ALTERATIONS"
            ]
          },
          "metadata": {
            "tags": []
          },
          "execution_count": 9
        }
      ]
    },
    {
      "cell_type": "code",
      "metadata": {
        "id": "8Rp0wFEyciT7",
        "colab_type": "code",
        "colab": {
          "base_uri": "https://localhost:8080/",
          "height": 221
        },
        "outputId": "67b8b326-e648-4233-e4d3-18b0be0e6a27"
      },
      "source": [
        "file4 = path + '/constraining_dictionary.xlsx'\n",
        "constrain = pd.read_excel(file4)\n",
        "print(constrain.shape)\n",
        "constrain.head()"
      ],
      "execution_count": 10,
      "outputs": [
        {
          "output_type": "stream",
          "text": [
            "(184, 1)\n"
          ],
          "name": "stdout"
        },
        {
          "output_type": "execute_result",
          "data": {
            "text/html": [
              "<div>\n",
              "<style scoped>\n",
              "    .dataframe tbody tr th:only-of-type {\n",
              "        vertical-align: middle;\n",
              "    }\n",
              "\n",
              "    .dataframe tbody tr th {\n",
              "        vertical-align: top;\n",
              "    }\n",
              "\n",
              "    .dataframe thead th {\n",
              "        text-align: right;\n",
              "    }\n",
              "</style>\n",
              "<table border=\"1\" class=\"dataframe\">\n",
              "  <thead>\n",
              "    <tr style=\"text-align: right;\">\n",
              "      <th></th>\n",
              "      <th>Word</th>\n",
              "    </tr>\n",
              "  </thead>\n",
              "  <tbody>\n",
              "    <tr>\n",
              "      <th>0</th>\n",
              "      <td>ABIDE</td>\n",
              "    </tr>\n",
              "    <tr>\n",
              "      <th>1</th>\n",
              "      <td>ABIDING</td>\n",
              "    </tr>\n",
              "    <tr>\n",
              "      <th>2</th>\n",
              "      <td>BOUND</td>\n",
              "    </tr>\n",
              "    <tr>\n",
              "      <th>3</th>\n",
              "      <td>BOUNDED</td>\n",
              "    </tr>\n",
              "    <tr>\n",
              "      <th>4</th>\n",
              "      <td>COMMIT</td>\n",
              "    </tr>\n",
              "  </tbody>\n",
              "</table>\n",
              "</div>"
            ],
            "text/plain": [
              "      Word\n",
              "0    ABIDE\n",
              "1  ABIDING\n",
              "2    BOUND\n",
              "3  BOUNDED\n",
              "4   COMMIT"
            ]
          },
          "metadata": {
            "tags": []
          },
          "execution_count": 10
        }
      ]
    },
    {
      "cell_type": "code",
      "metadata": {
        "id": "OTgUhQ9qciRb",
        "colab_type": "code",
        "colab": {
          "base_uri": "https://localhost:8080/",
          "height": 86
        },
        "outputId": "c08b7155-0f46-4c7f-e984-2799867c2e2c"
      },
      "source": [
        "file3 = path + '/Output Data Structure.xlsx'\n",
        "output = pd.read_excel(file3)\n",
        "print(output.shape)\n",
        "output.head()"
      ],
      "execution_count": 11,
      "outputs": [
        {
          "output_type": "stream",
          "text": [
            "(0, 49)\n"
          ],
          "name": "stdout"
        },
        {
          "output_type": "execute_result",
          "data": {
            "text/html": [
              "<div>\n",
              "<style scoped>\n",
              "    .dataframe tbody tr th:only-of-type {\n",
              "        vertical-align: middle;\n",
              "    }\n",
              "\n",
              "    .dataframe tbody tr th {\n",
              "        vertical-align: top;\n",
              "    }\n",
              "\n",
              "    .dataframe thead th {\n",
              "        text-align: right;\n",
              "    }\n",
              "</style>\n",
              "<table border=\"1\" class=\"dataframe\">\n",
              "  <thead>\n",
              "    <tr style=\"text-align: right;\">\n",
              "      <th></th>\n",
              "      <th>CIK</th>\n",
              "      <th>CONAME</th>\n",
              "      <th>FYRMO</th>\n",
              "      <th>FDATE</th>\n",
              "      <th>FORM</th>\n",
              "      <th>SECFNAME</th>\n",
              "      <th>mda_positive_score</th>\n",
              "      <th>mda_negative_score</th>\n",
              "      <th>mda_polarity_score</th>\n",
              "      <th>mda_average_sentence_length</th>\n",
              "      <th>mda_percentage_of_complex_words</th>\n",
              "      <th>mda_fog_index</th>\n",
              "      <th>mda_complex_word_count</th>\n",
              "      <th>mda_word_count</th>\n",
              "      <th>mda_uncertainty_score</th>\n",
              "      <th>mda_constraining_score</th>\n",
              "      <th>mda_positive_word_proportion</th>\n",
              "      <th>mda_negative_word_proportion</th>\n",
              "      <th>mda_uncertainty_word_proportion</th>\n",
              "      <th>mda_constraining_word_proportion</th>\n",
              "      <th>qqdmr_positive_score</th>\n",
              "      <th>qqdmr_negative_score</th>\n",
              "      <th>qqdmr_polarity_score</th>\n",
              "      <th>qqdmr_average_sentence_length</th>\n",
              "      <th>qqdmr_percentage_of_complex_words</th>\n",
              "      <th>qqdmr_fog_index</th>\n",
              "      <th>qqdmr_complex_word_count</th>\n",
              "      <th>qqdmr_word_count</th>\n",
              "      <th>qqdmr_uncertainty_score</th>\n",
              "      <th>qqdmr_constraining_score</th>\n",
              "      <th>qqdmr_positive_word_proportion</th>\n",
              "      <th>qqdmr_negative_word_proportion</th>\n",
              "      <th>qqdmr_uncertainty_word_proportion</th>\n",
              "      <th>qqdmr_constraining_word_proportion</th>\n",
              "      <th>rf_positive_score</th>\n",
              "      <th>rf_negative_score</th>\n",
              "      <th>rf_polarity_score</th>\n",
              "      <th>rf_average_sentence_length</th>\n",
              "      <th>rf_percentage_of_complex_words</th>\n",
              "      <th>rf_fog_index</th>\n",
              "      <th>rf_complex_word_count</th>\n",
              "      <th>rf_word_count</th>\n",
              "      <th>rf_uncertainty_score</th>\n",
              "      <th>rf_constraining_score</th>\n",
              "      <th>rf_positive_word_proportion</th>\n",
              "      <th>rf_negative_word_proportion</th>\n",
              "      <th>rf_uncertainty_word_proportion</th>\n",
              "      <th>rf_constraining_word_proportion</th>\n",
              "      <th>constraining_words_whole_report</th>\n",
              "    </tr>\n",
              "  </thead>\n",
              "  <tbody>\n",
              "  </tbody>\n",
              "</table>\n",
              "</div>"
            ],
            "text/plain": [
              "Empty DataFrame\n",
              "Columns: [CIK, CONAME, FYRMO, FDATE, FORM, SECFNAME, mda_positive_score, mda_negative_score, mda_polarity_score, mda_average_sentence_length, mda_percentage_of_complex_words, mda_fog_index, mda_complex_word_count, mda_word_count, mda_uncertainty_score, mda_constraining_score, mda_positive_word_proportion, mda_negative_word_proportion, mda_uncertainty_word_proportion, mda_constraining_word_proportion, qqdmr_positive_score, qqdmr_negative_score, qqdmr_polarity_score, qqdmr_average_sentence_length, qqdmr_percentage_of_complex_words, qqdmr_fog_index, qqdmr_complex_word_count, qqdmr_word_count, qqdmr_uncertainty_score, qqdmr_constraining_score, qqdmr_positive_word_proportion, qqdmr_negative_word_proportion, qqdmr_uncertainty_word_proportion, qqdmr_constraining_word_proportion, rf_positive_score, rf_negative_score, rf_polarity_score, rf_average_sentence_length, rf_percentage_of_complex_words, rf_fog_index, rf_complex_word_count, rf_word_count, rf_uncertainty_score, rf_constraining_score, rf_positive_word_proportion, rf_negative_word_proportion, rf_uncertainty_word_proportion, rf_constraining_word_proportion, constraining_words_whole_report]\n",
              "Index: []"
            ]
          },
          "metadata": {
            "tags": []
          },
          "execution_count": 11
        }
      ]
    },
    {
      "cell_type": "code",
      "metadata": {
        "id": "4VJ7ZlMIciPH",
        "colab_type": "code",
        "colab": {}
      },
      "source": [
        ""
      ],
      "execution_count": 0,
      "outputs": []
    },
    {
      "cell_type": "code",
      "metadata": {
        "id": "F9K7tND7ciLh",
        "colab_type": "code",
        "colab": {}
      },
      "source": [
        ""
      ],
      "execution_count": 0,
      "outputs": []
    },
    {
      "cell_type": "code",
      "metadata": {
        "id": "oumz87uociEn",
        "colab_type": "code",
        "colab": {}
      },
      "source": [
        ""
      ],
      "execution_count": 0,
      "outputs": []
    },
    {
      "cell_type": "code",
      "metadata": {
        "id": "cBVrHWqpciDO",
        "colab_type": "code",
        "colab": {}
      },
      "source": [
        ""
      ],
      "execution_count": 0,
      "outputs": []
    },
    {
      "cell_type": "code",
      "metadata": {
        "id": "BlH-hX1ociBa",
        "colab_type": "code",
        "colab": {}
      },
      "source": [
        ""
      ],
      "execution_count": 0,
      "outputs": []
    },
    {
      "cell_type": "code",
      "metadata": {
        "id": "B8WE7D3sch_W",
        "colab_type": "code",
        "colab": {}
      },
      "source": [
        ""
      ],
      "execution_count": 0,
      "outputs": []
    },
    {
      "cell_type": "code",
      "metadata": {
        "id": "vPWY0e0dch8c",
        "colab_type": "code",
        "colab": {}
      },
      "source": [
        ""
      ],
      "execution_count": 0,
      "outputs": []
    },
    {
      "cell_type": "code",
      "metadata": {
        "id": "Bm9eyxx6ch6N",
        "colab_type": "code",
        "colab": {}
      },
      "source": [
        ""
      ],
      "execution_count": 0,
      "outputs": []
    },
    {
      "cell_type": "code",
      "metadata": {
        "id": "oJdpsz2tch3V",
        "colab_type": "code",
        "colab": {}
      },
      "source": [
        ""
      ],
      "execution_count": 0,
      "outputs": []
    },
    {
      "cell_type": "code",
      "metadata": {
        "id": "oe_uTK9Bchz5",
        "colab_type": "code",
        "colab": {}
      },
      "source": [
        ""
      ],
      "execution_count": 0,
      "outputs": []
    },
    {
      "cell_type": "code",
      "metadata": {
        "id": "w7CrUGRRchqa",
        "colab_type": "code",
        "colab": {}
      },
      "source": [
        ""
      ],
      "execution_count": 0,
      "outputs": []
    }
  ]
}