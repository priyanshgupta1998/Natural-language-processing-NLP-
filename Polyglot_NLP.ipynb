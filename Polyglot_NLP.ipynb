{
  "nbformat": 4,
  "nbformat_minor": 0,
  "metadata": {
    "colab": {
      "name": "Polyglot_NLP.ipynb",
      "version": "0.3.2",
      "provenance": [],
      "collapsed_sections": [],
      "include_colab_link": true
    },
    "kernelspec": {
      "name": "python3",
      "display_name": "Python 3"
    },
    "accelerator": "GPU"
  },
  "cells": [
    {
      "cell_type": "markdown",
      "metadata": {
        "id": "view-in-github",
        "colab_type": "text"
      },
      "source": [
        "<a href=\"https://colab.research.google.com/github/priyanshgupta1998/Natural-language-processing-NLP-/blob/master/Polyglot_NLP.ipynb\" target=\"_parent\"><img src=\"https://colab.research.google.com/assets/colab-badge.svg\" alt=\"Open In Colab\"/></a>"
      ]
    },
    {
      "cell_type": "code",
      "metadata": {
        "id": "THp7H1_eYiWQ",
        "colab_type": "code",
        "colab": {}
      },
      "source": [
        ""
      ],
      "execution_count": 0,
      "outputs": []
    },
    {
      "cell_type": "markdown",
      "metadata": {
        "id": "eqVwhMiiYmPe",
        "colab_type": "text"
      },
      "source": [
        "#INTRODUCTION TO NATURAL LANGUAGE PROCESSING WITH POLYGLOT\n",
        "`Polyglot is a natural language pipeline that supports massive multilingual applications.Polyglot has a similar learning curve with TextBlob making it easier to pick up quickly.`"
      ]
    },
    {
      "cell_type": "code",
      "metadata": {
        "id": "wcFo7dqPYiXw",
        "colab_type": "code",
        "colab": {}
      },
      "source": [
        "!pip install polyglot\n",
        "!pip install PyICU\n",
        "!pip install pycld2\n",
        "!pip install morfessor"
      ],
      "execution_count": 0,
      "outputs": []
    },
    {
      "cell_type": "code",
      "metadata": {
        "id": "BoLHkdahYiY5",
        "colab_type": "code",
        "colab": {}
      },
      "source": [
        "!polyglot download embeddings2.en\n",
        "!polyglot download ner2.en\n",
        "!polyglot download sentiment2.en\n",
        "!polyglot download pos2.en\n",
        "!polyglot download morph2.en\n",
        "!polyglot download transliteration2.ar\n",
        "!polyglot download embeddings2.la"
      ],
      "execution_count": 0,
      "outputs": []
    },
    {
      "cell_type": "code",
      "metadata": {
        "id": "uUySyCh5aMT8",
        "colab_type": "code",
        "colab": {}
      },
      "source": [
        ""
      ],
      "execution_count": 0,
      "outputs": []
    },
    {
      "cell_type": "code",
      "metadata": {
        "id": "ttcJpIisalEF",
        "colab_type": "code",
        "colab": {}
      },
      "source": [
        ""
      ],
      "execution_count": 0,
      "outputs": []
    },
    {
      "cell_type": "markdown",
      "metadata": {
        "id": "kayPbfveaDB5",
        "colab_type": "text"
      },
      "source": [
        "#1. TOKENIZATION"
      ]
    },
    {
      "cell_type": "code",
      "metadata": {
        "id": "ruMe069OYi-u",
        "colab_type": "code",
        "colab": {}
      },
      "source": [
        "# Load packages\n",
        "import polyglot\n",
        "from polyglot.text import Text,Word"
      ],
      "execution_count": 0,
      "outputs": []
    },
    {
      "cell_type": "code",
      "metadata": {
        "id": "pYHypfg2Yi88",
        "colab_type": "code",
        "colab": {
          "base_uri": "https://localhost:8080/",
          "height": 34
        },
        "outputId": "e1a80bc5-cdd9-409e-f269-b4f50627e1cf"
      },
      "source": [
        "# Word Tokens\n",
        "docx = Text(u\"He likes reading and painting\")\n",
        "docx"
      ],
      "execution_count": 12,
      "outputs": [
        {
          "output_type": "execute_result",
          "data": {
            "text/plain": [
              "Text(\"He likes reading and painting\")"
            ]
          },
          "metadata": {
            "tags": []
          },
          "execution_count": 12
        }
      ]
    },
    {
      "cell_type": "code",
      "metadata": {
        "id": "5-v8517-Yi7L",
        "colab_type": "code",
        "colab": {
          "base_uri": "https://localhost:8080/",
          "height": 34
        },
        "outputId": "b5770971-a3f2-4319-ad3b-83459c17ea7c"
      },
      "source": [
        "docx.words"
      ],
      "execution_count": 13,
      "outputs": [
        {
          "output_type": "execute_result",
          "data": {
            "text/plain": [
              "WordList(['He', 'likes', 'reading', 'and', 'painting'])"
            ]
          },
          "metadata": {
            "tags": []
          },
          "execution_count": 13
        }
      ]
    },
    {
      "cell_type": "code",
      "metadata": {
        "id": "Qf4_U_2WYi41",
        "colab_type": "code",
        "colab": {
          "base_uri": "https://localhost:8080/",
          "height": 34
        },
        "outputId": "990ccce5-c9ed-4455-adba-63387a43fd7d"
      },
      "source": [
        "#another example\n",
        "docx2 = Text(u\"He exclaimed, 'what're you doing? Reading?'.\")\n",
        "docx2.words"
      ],
      "execution_count": 15,
      "outputs": [
        {
          "output_type": "execute_result",
          "data": {
            "text/plain": [
              "WordList(['He', 'exclaimed', ',', \"'\", \"what're\", 'you', 'doing', '?', 'Reading', '?', \"'\", '.'])"
            ]
          },
          "metadata": {
            "tags": []
          },
          "execution_count": 15
        }
      ]
    },
    {
      "cell_type": "markdown",
      "metadata": {
        "id": "UAahcoBvb4DF",
        "colab_type": "text"
      },
      "source": [
        "###[ ?  ,  .  ,  !]   End mark"
      ]
    },
    {
      "cell_type": "code",
      "metadata": {
        "id": "SFttlKPfYi2-",
        "colab_type": "code",
        "colab": {
          "base_uri": "https://localhost:8080/",
          "height": 51
        },
        "outputId": "35ee66c4-e72c-46f3-919f-8b6c307acb00"
      },
      "source": [
        "# Sentence tokens\n",
        "docx3 = Text(u\"He likes reading and painting.He exclaimed, 'what're you doing? Reading?'.\")\n",
        "docx3.sentences"
      ],
      "execution_count": 16,
      "outputs": [
        {
          "output_type": "execute_result",
          "data": {
            "text/plain": [
              "[Sentence(\"He likes reading and painting.He exclaimed, 'what're you doing?\"),\n",
              " Sentence(\"Reading?'.\")]"
            ]
          },
          "metadata": {
            "tags": []
          },
          "execution_count": 16
        }
      ]
    },
    {
      "cell_type": "code",
      "metadata": {
        "id": "yKK-L0ZhYi1H",
        "colab_type": "code",
        "colab": {
          "base_uri": "https://localhost:8080/",
          "height": 51
        },
        "outputId": "02be1b9f-4a19-468d-d0d9-106b05a59324"
      },
      "source": [
        "# Sentence tokens\n",
        "docx3 = Text(u\"He likes reading and painting.He exclaimed! 'what're you doing: Reading?'.\")\n",
        "docx3.sentences"
      ],
      "execution_count": 17,
      "outputs": [
        {
          "output_type": "execute_result",
          "data": {
            "text/plain": [
              "[Sentence(\"He likes reading and painting.He exclaimed!\"),\n",
              " Sentence(\"'what're you doing: Reading?'.\")]"
            ]
          },
          "metadata": {
            "tags": []
          },
          "execution_count": 17
        }
      ]
    },
    {
      "cell_type": "markdown",
      "metadata": {
        "id": "cEuDxQcacO9_",
        "colab_type": "text"
      },
      "source": [
        "#2. PARTS OF SPEECH TAGGING"
      ]
    },
    {
      "cell_type": "code",
      "metadata": {
        "id": "qz0lgfgbYixT",
        "colab_type": "code",
        "colab": {
          "base_uri": "https://localhost:8080/",
          "height": 102
        },
        "outputId": "537c8e8b-31da-4ecd-9a25-aad8f5533e54"
      },
      "source": [
        "docx.pos_tags"
      ],
      "execution_count": 24,
      "outputs": [
        {
          "output_type": "execute_result",
          "data": {
            "text/plain": [
              "[('He', 'PRON'),\n",
              " ('likes', 'VERB'),\n",
              " ('reading', 'VERB'),\n",
              " ('and', 'CONJ'),\n",
              " ('painting', 'NOUN')]"
            ]
          },
          "metadata": {
            "tags": []
          },
          "execution_count": 24
        }
      ]
    },
    {
      "cell_type": "markdown",
      "metadata": {
        "id": "yaI2VuJOdK79",
        "colab_type": "text"
      },
      "source": [
        "#3. LANGUAGE DETECTION"
      ]
    },
    {
      "cell_type": "code",
      "metadata": {
        "id": "iFchVcAUYiu6",
        "colab_type": "code",
        "colab": {
          "base_uri": "https://localhost:8080/",
          "height": 34
        },
        "outputId": "a413d7b7-071c-4350-a3c5-37ecfde49760"
      },
      "source": [
        "docx.language.name"
      ],
      "execution_count": 25,
      "outputs": [
        {
          "output_type": "execute_result",
          "data": {
            "text/plain": [
              "'English'"
            ]
          },
          "metadata": {
            "tags": []
          },
          "execution_count": 25
        }
      ]
    },
    {
      "cell_type": "code",
      "metadata": {
        "id": "ggV4WGoKYitY",
        "colab_type": "code",
        "colab": {
          "base_uri": "https://localhost:8080/",
          "height": 34
        },
        "outputId": "062a7179-6d30-498e-8216-b0b7f87116d7"
      },
      "source": [
        "docx.language.code"
      ],
      "execution_count": 26,
      "outputs": [
        {
          "output_type": "execute_result",
          "data": {
            "text/plain": [
              "'en'"
            ]
          },
          "metadata": {
            "tags": []
          },
          "execution_count": 26
        }
      ]
    },
    {
      "cell_type": "code",
      "metadata": {
        "id": "tNyf-C7gYisF",
        "colab_type": "code",
        "colab": {
          "base_uri": "https://localhost:8080/",
          "height": 102
        },
        "outputId": "519d5853-0488-46a9-8c3a-5d13b47d45ff"
      },
      "source": [
        "from polyglot.detect  import Detector\n",
        "en_text = \"He is a student \"\n",
        "fr_text = \"Il est un étudiant\"\n",
        "ru_text = \"Он студент\"\n",
        "detect_en = Detector(en_text)\n",
        "detect_fr = Detector(fr_text)\n",
        "detect_ru = Detector(ru_text)\n",
        "print(detect_en.language)\n",
        "print(detect_fr.language)\n",
        "print(detect_ru.language)"
      ],
      "execution_count": 27,
      "outputs": [
        {
          "output_type": "stream",
          "text": [
            "Detector is not able to detect the language reliably.\n",
            "Detector is not able to detect the language reliably.\n"
          ],
          "name": "stderr"
        },
        {
          "output_type": "stream",
          "text": [
            "name: English     code: en       confidence:  94.0 read bytes:   704\n",
            "name: French      code: fr       confidence:  95.0 read bytes:   870\n",
            "name: Serbian     code: sr       confidence:  95.0 read bytes:   614\n"
          ],
          "name": "stdout"
        }
      ]
    },
    {
      "cell_type": "markdown",
      "metadata": {
        "id": "ksYDFDT1dkVj",
        "colab_type": "text"
      },
      "source": [
        "#4. SENTIMENT ANALYSIS\n",
        "it is based on polarity (it can be +ve or -ve)"
      ]
    },
    {
      "cell_type": "code",
      "metadata": {
        "id": "bFDF8FMNd2RR",
        "colab_type": "code",
        "colab": {}
      },
      "source": [
        "!polyglot download sentiment2.en"
      ],
      "execution_count": 0,
      "outputs": []
    },
    {
      "cell_type": "code",
      "metadata": {
        "id": "wT3-6yQTYiqK",
        "colab_type": "code",
        "colab": {
          "base_uri": "https://localhost:8080/",
          "height": 51
        },
        "outputId": "600ded00-13cb-4dc8-ac2a-f4a04302b9c6"
      },
      "source": [
        "print(docx)\n",
        "docx.polarity"
      ],
      "execution_count": 30,
      "outputs": [
        {
          "output_type": "stream",
          "text": [
            "He likes reading and painting\n"
          ],
          "name": "stdout"
        },
        {
          "output_type": "execute_result",
          "data": {
            "text/plain": [
              "1.0"
            ]
          },
          "metadata": {
            "tags": []
          },
          "execution_count": 30
        }
      ]
    },
    {
      "cell_type": "code",
      "metadata": {
        "id": "3vy_ZeQ7YioV",
        "colab_type": "code",
        "colab": {
          "base_uri": "https://localhost:8080/",
          "height": 51
        },
        "outputId": "60bddc50-d820-4d3d-fa1f-aa0a3a1657cd"
      },
      "source": [
        "docx4 = Text(u\"He hates reading and playing\")\n",
        "print(docx4)\n",
        "docx4.polarity"
      ],
      "execution_count": 31,
      "outputs": [
        {
          "output_type": "stream",
          "text": [
            "He hates reading and playing\n"
          ],
          "name": "stdout"
        },
        {
          "output_type": "execute_result",
          "data": {
            "text/plain": [
              "-1.0"
            ]
          },
          "metadata": {
            "tags": []
          },
          "execution_count": 31
        }
      ]
    },
    {
      "cell_type": "markdown",
      "metadata": {
        "id": "oHWlyeZ2eLZp",
        "colab_type": "text"
      },
      "source": [
        "#5. NAMED ENTITIES"
      ]
    },
    {
      "cell_type": "code",
      "metadata": {
        "id": "ksfiOaeIeUYQ",
        "colab_type": "code",
        "colab": {
          "base_uri": "https://localhost:8080/",
          "height": 34
        },
        "outputId": "6ef7f67f-f580-41bc-dc81-89d35cafc5c7"
      },
      "source": [
        "!polyglot download ner2.en"
      ],
      "execution_count": 33,
      "outputs": [
        {
          "output_type": "stream",
          "text": [
            "[polyglot_data] Downloading package ner2.en to /root/polyglot_data...\n"
          ],
          "name": "stdout"
        }
      ]
    },
    {
      "cell_type": "code",
      "metadata": {
        "id": "hhAFqqhjYinK",
        "colab_type": "code",
        "colab": {
          "base_uri": "https://localhost:8080/",
          "height": 34
        },
        "outputId": "8194da7d-55c0-4aec-d2c0-eb2b840c5a3e"
      },
      "source": [
        "docx5 = Text(u\"John Jones was a FBI detector\")\n",
        "docx5.entities"
      ],
      "execution_count": 34,
      "outputs": [
        {
          "output_type": "execute_result",
          "data": {
            "text/plain": [
              "[I-PER(['John', 'Jones']), I-ORG(['FBI'])]"
            ]
          },
          "metadata": {
            "tags": []
          },
          "execution_count": 34
        }
      ]
    },
    {
      "cell_type": "markdown",
      "metadata": {
        "id": "y-vbi6QTelQ8",
        "colab_type": "text"
      },
      "source": [
        "#6. MORPHOLOGY\n",
        "morpheme is the smallest grammatical unit in a language.   \n",
        "morpheme may or may not stand alone, word, by definition, is freestanding."
      ]
    },
    {
      "cell_type": "code",
      "metadata": {
        "id": "2F_xkd_Eet-Q",
        "colab_type": "code",
        "colab": {
          "base_uri": "https://localhost:8080/",
          "height": 51
        },
        "outputId": "5195135f-4331-4926-a570-94162a9d1528"
      },
      "source": [
        "!polyglot download morph2.en"
      ],
      "execution_count": 36,
      "outputs": [
        {
          "output_type": "stream",
          "text": [
            "[polyglot_data] Downloading package morph2.en to\n",
            "[polyglot_data]     /root/polyglot_data...\n"
          ],
          "name": "stdout"
        }
      ]
    },
    {
      "cell_type": "code",
      "metadata": {
        "id": "uv9YtBcgYily",
        "colab_type": "code",
        "colab": {
          "base_uri": "https://localhost:8080/",
          "height": 51
        },
        "outputId": "e31ea4f3-8d2a-4f87-bf8c-d1c5081cb97d"
      },
      "source": [
        "docx6 = Text(u\"preprocessing\")\n",
        "docx6.morphemes"
      ],
      "execution_count": 37,
      "outputs": [
        {
          "output_type": "stream",
          "text": [
            "Detector is not able to detect the language reliably.\n"
          ],
          "name": "stderr"
        },
        {
          "output_type": "execute_result",
          "data": {
            "text/plain": [
              "WordList(['pre', 'process', 'ing'])"
            ]
          },
          "metadata": {
            "tags": []
          },
          "execution_count": 37
        }
      ]
    },
    {
      "cell_type": "markdown",
      "metadata": {
        "id": "45VwoEdre2dk",
        "colab_type": "text"
      },
      "source": [
        "#7. TRANSLITERATION"
      ]
    },
    {
      "cell_type": "code",
      "metadata": {
        "id": "u7Wwi_bzfEuA",
        "colab_type": "code",
        "colab": {
          "base_uri": "https://localhost:8080/",
          "height": 51
        },
        "outputId": "47726194-e4dc-4881-a029-843e248923b0"
      },
      "source": [
        "!polyglot download transliteration2.fr"
      ],
      "execution_count": 39,
      "outputs": [
        {
          "output_type": "stream",
          "text": [
            "[polyglot_data] Downloading package transliteration2.fr to\n",
            "[polyglot_data]     /root/polyglot_data...\n"
          ],
          "name": "stdout"
        }
      ]
    },
    {
      "cell_type": "code",
      "metadata": {
        "id": "u8a0mnZmenzN",
        "colab_type": "code",
        "colab": {
          "base_uri": "https://localhost:8080/",
          "height": 34
        },
        "outputId": "bc78edf4-d79e-4e1c-fef8-fc6de88bf08c"
      },
      "source": [
        "# Load \n",
        "from polyglot.transliteration import Transliterator\n",
        "translit = Transliterator(source_lang='en',target_lang='fr')\n",
        "translit.transliterate(u\"working\")                          "
      ],
      "execution_count": 40,
      "outputs": [
        {
          "output_type": "execute_result",
          "data": {
            "text/plain": [
              "'working'"
            ]
          },
          "metadata": {
            "tags": []
          },
          "execution_count": 40
        }
      ]
    },
    {
      "cell_type": "code",
      "metadata": {
        "id": "wuMqKO4JenwU",
        "colab_type": "code",
        "colab": {}
      },
      "source": [
        ""
      ],
      "execution_count": 0,
      "outputs": []
    },
    {
      "cell_type": "code",
      "metadata": {
        "id": "eSi4_P_ientk",
        "colab_type": "code",
        "colab": {}
      },
      "source": [
        ""
      ],
      "execution_count": 0,
      "outputs": []
    },
    {
      "cell_type": "code",
      "metadata": {
        "id": "Rbdfra0jenrR",
        "colab_type": "code",
        "colab": {}
      },
      "source": [
        ""
      ],
      "execution_count": 0,
      "outputs": []
    },
    {
      "cell_type": "code",
      "metadata": {
        "id": "CNTVlFyHenoj",
        "colab_type": "code",
        "colab": {}
      },
      "source": [
        ""
      ],
      "execution_count": 0,
      "outputs": []
    },
    {
      "cell_type": "code",
      "metadata": {
        "id": "kvz8g2O5enmK",
        "colab_type": "code",
        "colab": {}
      },
      "source": [
        ""
      ],
      "execution_count": 0,
      "outputs": []
    },
    {
      "cell_type": "code",
      "metadata": {
        "id": "atEd5tRsenjj",
        "colab_type": "code",
        "colab": {}
      },
      "source": [
        ""
      ],
      "execution_count": 0,
      "outputs": []
    },
    {
      "cell_type": "code",
      "metadata": {
        "id": "O_-_kE-3engx",
        "colab_type": "code",
        "colab": {}
      },
      "source": [
        ""
      ],
      "execution_count": 0,
      "outputs": []
    }
  ]
}