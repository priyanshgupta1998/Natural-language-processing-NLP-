{
  "nbformat": 4,
  "nbformat_minor": 0,
  "metadata": {
    "colab": {
      "name": "TensorFlow with GPU",
      "provenance": [],
      "collapsed_sections": [],
      "include_colab_link": true
    },
    "kernelspec": {
      "name": "python3",
      "display_name": "Python 3"
    },
    "accelerator": "GPU"
  },
  "cells": [
    {
      "cell_type": "markdown",
      "metadata": {
        "id": "view-in-github",
        "colab_type": "text"
      },
      "source": [
        "<a href=\"https://colab.research.google.com/github/priyanshgupta1998/Natural-language-processing-NLP-/blob/master/Spam_Detection_Machine_learning.ipynb\" target=\"_parent\"><img src=\"https://colab.research.google.com/assets/colab-badge.svg\" alt=\"Open In Colab\"/></a>"
      ]
    },
    {
      "cell_type": "markdown",
      "metadata": {
        "id": "Dj8EfyMNIidJ",
        "colab_type": "text"
      },
      "source": [
        "#SMS Spam Collection Dataset\n",
        "Collection of SMS messages tagged as spam or legitimate"
      ]
    },
    {
      "cell_type": "code",
      "metadata": {
        "id": "jgGgq8ixIrbG",
        "colab_type": "code",
        "colab": {
          "resources": {
            "http://localhost:8080/nbextensions/google.colab/files.js": {
              "data": "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",
              "ok": true,
              "headers": [
                [
                  "content-type",
                  "application/javascript"
                ]
              ],
              "status": 200,
              "status_text": ""
            }
          },
          "base_uri": "https://localhost:8080/",
          "height": 91
        },
        "outputId": "90678396-262d-4aee-890f-dbd64e3305ab"
      },
      "source": [
        "from google.colab import files\n",
        "files.upload()\n",
        "!pip install -q kaggle\n",
        "!mkdir -p ~/.kaggle\n",
        "!cp kaggle.json ~/.kaggle/\n",
        "!chmod 600 ~/.kaggle/kaggle.json\n",
        "!kaggle datasets download -d uciml/sms-spam-collection-dataset"
      ],
      "execution_count": 34,
      "outputs": [
        {
          "output_type": "display_data",
          "data": {
            "text/html": [
              "\n",
              "     <input type=\"file\" id=\"files-d2a44106-b218-4c26-8c42-dd9c6d4c6d09\" name=\"files[]\" multiple disabled />\n",
              "     <output id=\"result-d2a44106-b218-4c26-8c42-dd9c6d4c6d09\">\n",
              "      Upload widget is only available when the cell has been executed in the\n",
              "      current browser session. Please rerun this cell to enable.\n",
              "      </output>\n",
              "      <script src=\"/nbextensions/google.colab/files.js\"></script> "
            ],
            "text/plain": [
              "<IPython.core.display.HTML object>"
            ]
          },
          "metadata": {
            "tags": []
          }
        },
        {
          "output_type": "stream",
          "text": [
            "Saving kaggle.json to kaggle (1).json\n",
            "sms-spam-collection-dataset.zip: Skipping, found more recently modified local copy (use --force to force download)\n"
          ],
          "name": "stdout"
        }
      ]
    },
    {
      "cell_type": "code",
      "metadata": {
        "id": "h94Y452RKDW_",
        "colab_type": "code",
        "colab": {}
      },
      "source": [
        "!unzip sms-spam-collection-dataset.zip"
      ],
      "execution_count": 0,
      "outputs": []
    },
    {
      "cell_type": "code",
      "metadata": {
        "id": "eqkAOv2NIP_k",
        "colab_type": "code",
        "colab": {}
      },
      "source": [
        "import pandas as pd\n",
        "import numpy as np\n",
        "import matplotlib.pyplot as plt\n",
        "import seaborn as sns\n",
        "from sklearn.model_selection import train_test_split\n",
        "from sklearn.preprocessing import LabelEncoder\n",
        "from keras.preprocessing import sequence\n",
        "from keras.utils import to_categorical\n",
        "from keras.callbacks import EarlyStopping\n",
        "%matplotlib inline"
      ],
      "execution_count": 0,
      "outputs": []
    },
    {
      "cell_type": "code",
      "metadata": {
        "id": "yTFIhG-hIQCo",
        "colab_type": "code",
        "colab": {
          "base_uri": "https://localhost:8080/",
          "height": 221
        },
        "outputId": "52ee46c7-9ed1-41c1-8443-31d30ae88030"
      },
      "source": [
        "df = pd.read_csv('spam.csv',delimiter=',',encoding='latin-1')\n",
        "print(df.shape)\n",
        "df.head()"
      ],
      "execution_count": 37,
      "outputs": [
        {
          "output_type": "stream",
          "text": [
            "(5572, 5)\n"
          ],
          "name": "stdout"
        },
        {
          "output_type": "execute_result",
          "data": {
            "text/html": [
              "<div>\n",
              "<style scoped>\n",
              "    .dataframe tbody tr th:only-of-type {\n",
              "        vertical-align: middle;\n",
              "    }\n",
              "\n",
              "    .dataframe tbody tr th {\n",
              "        vertical-align: top;\n",
              "    }\n",
              "\n",
              "    .dataframe thead th {\n",
              "        text-align: right;\n",
              "    }\n",
              "</style>\n",
              "<table border=\"1\" class=\"dataframe\">\n",
              "  <thead>\n",
              "    <tr style=\"text-align: right;\">\n",
              "      <th></th>\n",
              "      <th>v1</th>\n",
              "      <th>v2</th>\n",
              "      <th>Unnamed: 2</th>\n",
              "      <th>Unnamed: 3</th>\n",
              "      <th>Unnamed: 4</th>\n",
              "    </tr>\n",
              "  </thead>\n",
              "  <tbody>\n",
              "    <tr>\n",
              "      <th>0</th>\n",
              "      <td>ham</td>\n",
              "      <td>Go until jurong point, crazy.. Available only ...</td>\n",
              "      <td>NaN</td>\n",
              "      <td>NaN</td>\n",
              "      <td>NaN</td>\n",
              "    </tr>\n",
              "    <tr>\n",
              "      <th>1</th>\n",
              "      <td>ham</td>\n",
              "      <td>Ok lar... Joking wif u oni...</td>\n",
              "      <td>NaN</td>\n",
              "      <td>NaN</td>\n",
              "      <td>NaN</td>\n",
              "    </tr>\n",
              "    <tr>\n",
              "      <th>2</th>\n",
              "      <td>spam</td>\n",
              "      <td>Free entry in 2 a wkly comp to win FA Cup fina...</td>\n",
              "      <td>NaN</td>\n",
              "      <td>NaN</td>\n",
              "      <td>NaN</td>\n",
              "    </tr>\n",
              "    <tr>\n",
              "      <th>3</th>\n",
              "      <td>ham</td>\n",
              "      <td>U dun say so early hor... U c already then say...</td>\n",
              "      <td>NaN</td>\n",
              "      <td>NaN</td>\n",
              "      <td>NaN</td>\n",
              "    </tr>\n",
              "    <tr>\n",
              "      <th>4</th>\n",
              "      <td>ham</td>\n",
              "      <td>Nah I don't think he goes to usf, he lives aro...</td>\n",
              "      <td>NaN</td>\n",
              "      <td>NaN</td>\n",
              "      <td>NaN</td>\n",
              "    </tr>\n",
              "  </tbody>\n",
              "</table>\n",
              "</div>"
            ],
            "text/plain": [
              "     v1  ... Unnamed: 4\n",
              "0   ham  ...        NaN\n",
              "1   ham  ...        NaN\n",
              "2  spam  ...        NaN\n",
              "3   ham  ...        NaN\n",
              "4   ham  ...        NaN\n",
              "\n",
              "[5 rows x 5 columns]"
            ]
          },
          "metadata": {
            "tags": []
          },
          "execution_count": 37
        }
      ]
    },
    {
      "cell_type": "code",
      "metadata": {
        "id": "CSPcNlGOIQJs",
        "colab_type": "code",
        "colab": {
          "base_uri": "https://localhost:8080/",
          "height": 136
        },
        "outputId": "4e070df0-3d37-47f0-a3a9-b53c360a397c"
      },
      "source": [
        "df.drop(['Unnamed: 2', 'Unnamed: 3', 'Unnamed: 4'],axis=1,inplace=True)\n",
        "df.info()"
      ],
      "execution_count": 38,
      "outputs": [
        {
          "output_type": "stream",
          "text": [
            "<class 'pandas.core.frame.DataFrame'>\n",
            "RangeIndex: 5572 entries, 0 to 5571\n",
            "Data columns (total 2 columns):\n",
            "v1    5572 non-null object\n",
            "v2    5572 non-null object\n",
            "dtypes: object(2)\n",
            "memory usage: 87.1+ KB\n"
          ],
          "name": "stdout"
        }
      ]
    },
    {
      "cell_type": "code",
      "metadata": {
        "id": "CtTozzz4K7xv",
        "colab_type": "code",
        "colab": {
          "base_uri": "https://localhost:8080/",
          "height": 204
        },
        "outputId": "680f8729-b26a-4140-e410-2509a90a0df9"
      },
      "source": [
        "df.head()"
      ],
      "execution_count": 39,
      "outputs": [
        {
          "output_type": "execute_result",
          "data": {
            "text/html": [
              "<div>\n",
              "<style scoped>\n",
              "    .dataframe tbody tr th:only-of-type {\n",
              "        vertical-align: middle;\n",
              "    }\n",
              "\n",
              "    .dataframe tbody tr th {\n",
              "        vertical-align: top;\n",
              "    }\n",
              "\n",
              "    .dataframe thead th {\n",
              "        text-align: right;\n",
              "    }\n",
              "</style>\n",
              "<table border=\"1\" class=\"dataframe\">\n",
              "  <thead>\n",
              "    <tr style=\"text-align: right;\">\n",
              "      <th></th>\n",
              "      <th>v1</th>\n",
              "      <th>v2</th>\n",
              "    </tr>\n",
              "  </thead>\n",
              "  <tbody>\n",
              "    <tr>\n",
              "      <th>0</th>\n",
              "      <td>ham</td>\n",
              "      <td>Go until jurong point, crazy.. Available only ...</td>\n",
              "    </tr>\n",
              "    <tr>\n",
              "      <th>1</th>\n",
              "      <td>ham</td>\n",
              "      <td>Ok lar... Joking wif u oni...</td>\n",
              "    </tr>\n",
              "    <tr>\n",
              "      <th>2</th>\n",
              "      <td>spam</td>\n",
              "      <td>Free entry in 2 a wkly comp to win FA Cup fina...</td>\n",
              "    </tr>\n",
              "    <tr>\n",
              "      <th>3</th>\n",
              "      <td>ham</td>\n",
              "      <td>U dun say so early hor... U c already then say...</td>\n",
              "    </tr>\n",
              "    <tr>\n",
              "      <th>4</th>\n",
              "      <td>ham</td>\n",
              "      <td>Nah I don't think he goes to usf, he lives aro...</td>\n",
              "    </tr>\n",
              "  </tbody>\n",
              "</table>\n",
              "</div>"
            ],
            "text/plain": [
              "     v1                                                 v2\n",
              "0   ham  Go until jurong point, crazy.. Available only ...\n",
              "1   ham                      Ok lar... Joking wif u oni...\n",
              "2  spam  Free entry in 2 a wkly comp to win FA Cup fina...\n",
              "3   ham  U dun say so early hor... U c already then say...\n",
              "4   ham  Nah I don't think he goes to usf, he lives aro..."
            ]
          },
          "metadata": {
            "tags": []
          },
          "execution_count": 39
        }
      ]
    },
    {
      "cell_type": "code",
      "metadata": {
        "id": "4U3byxRbIQMX",
        "colab_type": "code",
        "colab": {
          "base_uri": "https://localhost:8080/",
          "height": 312
        },
        "outputId": "c156913a-6781-4a30-b20a-0642456c7236"
      },
      "source": [
        "sns.countplot(df.v1)\n",
        "plt.xlabel('Label')\n",
        "plt.title('Number of ham and spam messages')"
      ],
      "execution_count": 40,
      "outputs": [
        {
          "output_type": "execute_result",
          "data": {
            "text/plain": [
              "Text(0.5, 1.0, 'Number of ham and spam messages')"
            ]
          },
          "metadata": {
            "tags": []
          },
          "execution_count": 40
        },
        {
          "output_type": "display_data",
          "data": {
            "image/png": "[encoded data removed]",
            "text/plain": [
              "<Figure size 432x288 with 1 Axes>"
            ]
          },
          "metadata": {
            "tags": []
          }
        }
      ]
    },
    {
      "cell_type": "code",
      "metadata": {
        "id": "xR57Kz_IIQWy",
        "colab_type": "code",
        "colab": {}
      },
      "source": [
        "X = df.v2\n",
        "Y = df.v1\n"
      ],
      "execution_count": 0,
      "outputs": []
    },
    {
      "cell_type": "code",
      "metadata": {
        "id": "9WFqRGDRIQhg",
        "colab_type": "code",
        "colab": {}
      },
      "source": [
        "le = LabelEncoder()\n",
        "Y = le.fit_transform(Y)"
      ],
      "execution_count": 0,
      "outputs": []
    },
    {
      "cell_type": "code",
      "metadata": {
        "id": "fy2TpcUJLVaG",
        "colab_type": "code",
        "colab": {
          "base_uri": "https://localhost:8080/",
          "height": 51
        },
        "outputId": "600f8076-1141-4a3e-babd-3cddc56b656e"
      },
      "source": [
        "print(Y.shape)\n",
        "Y[:5]"
      ],
      "execution_count": 43,
      "outputs": [
        {
          "output_type": "stream",
          "text": [
            "(5572,)\n"
          ],
          "name": "stdout"
        },
        {
          "output_type": "execute_result",
          "data": {
            "text/plain": [
              "array([0, 0, 1, 0, 0])"
            ]
          },
          "metadata": {
            "tags": []
          },
          "execution_count": 43
        }
      ]
    },
    {
      "cell_type": "code",
      "metadata": {
        "id": "6inTQnJDIQpX",
        "colab_type": "code",
        "colab": {
          "base_uri": "https://localhost:8080/",
          "height": 34
        },
        "outputId": "a0338162-4316-4c99-c7e3-2e72d281a09c"
      },
      "source": [
        "Y = Y.reshape(-1,1)   #Convert into 2 dimensional array\n",
        "print(Y.shape)"
      ],
      "execution_count": 44,
      "outputs": [
        {
          "output_type": "stream",
          "text": [
            "(5572, 1)\n"
          ],
          "name": "stdout"
        }
      ]
    },
    {
      "cell_type": "code",
      "metadata": {
        "id": "hWi8e6TSIQsW",
        "colab_type": "code",
        "colab": {
          "base_uri": "https://localhost:8080/",
          "height": 102
        },
        "outputId": "efdaaa4e-1b88-4503-bd29-dacb9a44a12e"
      },
      "source": [
        "Y[:5]"
      ],
      "execution_count": 45,
      "outputs": [
        {
          "output_type": "execute_result",
          "data": {
            "text/plain": [
              "array([[0],\n",
              "       [0],\n",
              "       [1],\n",
              "       [0],\n",
              "       [0]])"
            ]
          },
          "metadata": {
            "tags": []
          },
          "execution_count": 45
        }
      ]
    },
    {
      "cell_type": "code",
      "metadata": {
        "id": "TUke7i5NLt0F",
        "colab_type": "code",
        "colab": {}
      },
      "source": [
        "X_train,X_test,Y_train,Y_test = train_test_split(X,Y,test_size=0.15)"
      ],
      "execution_count": 0,
      "outputs": []
    },
    {
      "cell_type": "markdown",
      "metadata": {
        "id": "diiz_IdhMaFk",
        "colab_type": "text"
      },
      "source": [
        "#Process the data\n",
        "* Tokenize the data and convert the text to sequences.   \n",
        "* Add padding to ensure that all the sequences \"have the same shape\".\n",
        "* There are many ways of taking the max_len and here an arbitrary length of 150 is chosen."
      ]
    },
    {
      "cell_type": "code",
      "metadata": {
        "id": "T83xEzEDLtx5",
        "colab_type": "code",
        "colab": {}
      },
      "source": [
        "\"from keras.preprocessing.text import Tokenizer\n",
        "max_words = 1000\n",
        "max_len = 150\n",
        "tok = Tokenizer(num_words=max_words)\n",
        "tok.fit_on_texts(X_train)\n",
        "sequences = tok.texts_to_sequences(X_train)"
      ],
      "execution_count": 0,
      "outputs": []
    },
    {
      "cell_type": "code",
      "metadata": {
        "id": "B8F92qpyRV3V",
        "colab_type": "code",
        "colab": {
          "base_uri": "https://localhost:8080/",
          "height": 105
        },
        "outputId": "02a13dc3-0703-429a-9b78-efda5350025d"
      },
      "source": [
        "print(len(X_train))\n",
        "print(len(sequences ))\n",
        "print(sequences)\n",
        "print(\"word_index : \",tok.word_index)"
      ],
      "execution_count": 48,
      "outputs": [
        {
          "output_type": "stream",
          "text": [
            "4736\n",
            "4736\n",
            "[[309, 38, 289, 146], [3, 22, 4, 747, 6, 17, 105, 496, 20, 347, 348, 157, 27, 4, 43, 294, 403, 2, 4, 304, 798, 20, 131], [87, 9, 290, 81, 16, 104], [846, 438, 404, 32, 80, 25, 72, 52, 273, 477], [28, 3, 68, 27, 22, 3, 139, 703, 799], [103, 218, 20, 336, 9, 29, 847, 43, 36, 48, 20, 347, 638, 27, 32, 177, 73, 78, 241, 2, 86, 20], [461, 82, 3, 9, 4, 274], [198, 13, 95, 143, 188, 4, 602, 579, 748, 153, 18, 388, 749, 39, 8, 5, 462, 478, 2, 355, 3, 16, 989, 423, 405], [1, 554, 6, 144, 93, 21, 92, 250, 522], [36, 990, 2, 35, 800, 2, 3], [87, 81, 16, 104, 42, 41, 262], [12, 13, 325, 2, 189, 4, 48, 991, 55, 91, 88, 37], [406, 32, 10, 918, 254, 223, 310, 1, 74, 124, 2, 49, 18, 263, 9], [848, 407, 9, 639, 21, 992], [127, 6, 105], [22, 3, 2, 49, 12, 289], [87, 6, 28, 25, 674, 275, 5, 463, 378, 120, 4, 208, 15, 704, 97, 154, 91, 255, 43, 125, 675], [161, 408, 10, 82, 47, 801, 6, 22, 10, 102, 479, 234, 65, 2, 6], [67, 4, 20, 29, 20, 76, 4, 256, 73, 69, 993, 69, 603, 2, 43, 38, 195], [145, 1, 31, 35, 169, 705, 246, 3, 70, 2, 49, 12, 5, 706, 213, 1, 31, 439, 3, 33, 64, 994], [98, 750, 219, 8, 276, 136, 2, 676, 89], [12, 107, 555, 424, 849, 17, 3, 105, 40, 28, 92, 255, 16, 48, 850, 27, 68, 88], [158, 40, 26, 45, 6, 337], [919, 425, 389], [15, 556, 390, 480, 8, 25, 79, 523, 154, 802, 5, 995, 142, 61, 79, 523, 36, 76, 707, 5, 241, 247], [3, 26, 13, 677, 408, 255, 34, 3, 204, 38, 74, 2], [132, 90, 77, 364, 164, 242, 66], [751, 148, 62, 4, 851, 2, 35, 5, 305, 2, 852, 5, 25, 524, 5, 920, 406, 33, 851, 2, 35, 65, 2, 852, 3, 7, 21, 209, 525, 3, 24, 525], [106, 230, 39, 87, 12, 853, 19], [1, 31, 67, 170, 2, 13, 678, 26, 3, 291, 42, 41, 526, 251, 117], [25, 604, 20, 224, 349, 154, 527, 9, 148, 43, 10], [138, 440, 1, 70, 2, 3, 37, 11, 356], [87, 81, 16, 104, 9, 290], [1, 26, 56, 5, 605], [127, 3, 54, 557], [2, 189, 157, 50, 752, 2, 854, 424, 640, 73, 7, 67, 2, 391, 195, 66, 264, 365, 91, 43, 675], [461, 481, 44, 127, 3, 336, 32], [1, 149, 61, 441, 87], [55, 6, 165, 855, 49, 94, 210, 6, 77, 24, 1, 528, 529, 679, 20, 164, 996], [3, 74, 2, 30, 44, 21], [114, 49, 2, 921, 121, 20, 482, 18, 166, 5, 37, 753, 43, 922, 42, 41, 205, 856, 29, 753, 61], [708, 14, 120, 803, 8, 21, 338, 5, 216, 2, 606, 24, 102, 530], [87, 81, 16, 104], [1, 204, 292, 2, 3, 21, 1, 31, 16, 45, 1, 28, 100, 181, 531], [36, 997, 9, 18, 3, 169, 26, 185, 707, 26, 17, 4, 116, 350], [37, 143, 42, 41, 12, 998, 42, 483, 41, 120, 105, 2, 5, 295, 18, 42, 41, 32, 42, 63, 41, 42, 41], [22, 3, 72, 2, 921, 999, 39, 112], [214, 220, 3, 17, 4, 103, 497, 580, 267, 12, 3, 106, 16, 21, 2, 580], [100, 54, 3, 28, 182, 32, 107, 857, 56, 34, 3, 409, 484, 27, 190, 19, 3, 31, 185], [76, 5, 136, 8, 2, 164, 199, 100], [33, 257, 326, 9, 285, 804, 34, 6, 70, 20, 439, 10, 111, 17, 4, 139], [1, 102, 17, 143, 1, 92, 641, 286, 44, 4, 136, 2, 165], [642, 20, 95, 84, 558, 16, 21, 680, 13, 681, 327, 607, 532], [98, 33, 234, 498, 18, 7, 174, 56, 2, 218, 37, 3], [250, 6, 379, 287, 6, 17, 754, 20, 26, 559, 29, 58], [709, 22, 3, 5, 442], [3, 17, 188, 4, 186, 39, 8, 54, 3, 30, 45, 3, 189, 89, 48, 639, 2, 101, 410, 67, 186, 2, 21, 755, 756, 643, 264], [339, 93, 250, 522, 443, 1, 554, 1, 243, 99, 137, 464, 148, 1, 287, 93, 858, 147, 216, 55, 93, 522], [1, 70, 61, 64, 182, 20, 64, 20, 38, 64, 20, 20], [8, 9, 29, 296, 45, 6, 805, 10, 44], [444, 11, 499, 149, 71, 277, 80, 20, 500, 216, 52, 43, 268, 328, 1, 49, 682, 6, 77, 1, 16, 6, 45, 1, 355, 445, 77], [501, 9, 20, 4, 502, 859, 12, 4, 325, 2, 189, 124, 923, 73, 2, 2, 30, 501, 73, 446, 175, 683, 365, 12, 426, 269], [1, 183, 12, 128, 211, 139, 392, 75, 129, 24, 924, 117, 406, 72, 12, 4, 21, 17, 4, 57, 117, 403, 2, 3, 212], [198, 178, 319, 351, 19, 3, 17, 188, 348, 157, 27, 4, 294, 16, 21, 2, 131, 175, 147, 405], [158, 1, 102, 82, 156, 25], [3, 96, 54, 557, 100, 56, 39, 2, 10, 46, 38, 74, 2, 144], [33, 9, 289, 28, 3, 25, 503, 18, 14, 2, 134, 14, 46, 97, 21], [7, 42, 41, 59, 38, 255], [122, 3, 225], [46, 191, 6, 560, 45, 1, 230, 11, 311], [144, 710, 443, 94, 71, 149, 204, 134, 24, 71, 149, 183, 77], [111, 340, 78, 83, 7, 14, 120, 4], [87, 85, 1, 59, 286, 15, 531, 3, 312, 15, 526, 608, 1, 31, 16, 3, 32], [250, 192, 609, 137, 215, 250, 287, 533, 14, 148, 18, 29, 242, 90], [1, 23, 1, 28, 86, 79, 28, 3, 106, 165, 5, 293, 561], [6, 17, 4, 757, 118, 8, 411, 20, 134, 206, 37, 6, 162, 52, 118, 111, 84, 860, 118, 758, 29, 23, 278, 16, 18], [309, 58, 215, 759, 31, 35, 109, 212], [13, 8], [270, 36, 54, 1, 59], [19, 174, 35, 116, 610, 35, 32, 5, 231, 164, 18, 27, 925, 31, 30, 9, 644, 215, 393, 89, 926, 101, 17, 4, 57, 112], [3, 22, 4, 747, 3, 17, 105, 496, 2, 347, 348, 157, 27, 4, 602, 447, 403, 2, 4, 304, 798, 2, 131, 16, 391, 562], [1, 172, 287, 139, 801, 78, 25, 10, 6, 250, 235, 137, 46, 72, 20, 443, 127, 62, 711], [57, 117, 11, 110, 159, 101, 193], [1, 60, 9, 427, 712, 5, 121, 10, 21, 1, 31, 16, 3, 32, 645], [127, 22, 3, 110], [23, 3, 108, 1, 141, 394, 292, 2, 130, 25, 16, 225, 9, 5, 167, 1, 207, 2, 39, 226, 178, 258, 7, 71, 243, 10, 127, 1, 231, 49, 7, 30, 11, 296, 71, 853, 10, 83, 47, 123, 71, 1, 174, 58, 88, 9, 47, 71, 234, 25, 279, 11, 143, 806], [3, 22, 234, 13, 52, 65, 3, 482, 15, 13, 760, 18, 3, 22, 78, 15, 5, 485, 713, 263, 209, 352, 927, 156, 174, 1, 108, 4, 15, 13, 357, 174, 525, 3, 134, 3, 224], [107, 325, 3, 341, 17, 135, 37, 10, 75, 212, 75, 3, 11, 76, 11, 115, 143, 50, 13, 25, 297, 32, 51, 106, 26, 25, 206, 10, 199, 27, 1, 31, 3, 2, 13], [581, 24, 1, 6, 144, 1, 55, 6, 250, 235, 10, 148], [236, 329, 338, 605], [55, 61, 485, 366, 14, 34, 3, 100, 17, 100, 479, 14, 31, 49], [138, 1, 58, 2, 12, 7, 60, 298, 2], [117, 367, 221, 129, 209, 36, 105, 2, 82, 5, 15, 7, 259, 299, 221, 199, 7], [39, 8, 11, 143, 76], [3, 17, 75, 761, 9, 32, 177, 7, 807, 42, 41, 2, 928, 15, 26, 25, 27, 2, 646], [313, 29, 161, 57, 117], [8, 19, 54, 63, 3, 70, 10, 2, 58], [57, 221, 8, 79, 5, 330, 120, 2, 4, 19, 5, 31, 7, 280, 34, 3, 70, 2, 53, 125], [26, 684, 3, 70, 3, 53, 54, 5, 22, 40, 135, 4, 292, 861, 39, 112, 79, 54, 135, 2, 326, 3, 275, 187, 112, 137, 28, 1, 5, 39, 136, 54, 79, 19, 136, 26, 684, 33, 862, 15, 306, 293, 37, 3, 187, 112, 7, 4, 42, 41, 647, 5, 254, 92, 279, 9, 154, 114], [11, 110, 163, 611, 448], [179, 138, 89, 556, 8, 18, 4, 648, 6, 534, 182, 281], [12, 107, 555, 424, 849, 17, 3, 105, 40, 28, 92, 255, 16, 48, 850, 27, 68, 88], [47, 8, 11, 353, 38, 367, 535, 412, 12, 10, 39, 167, 47, 504, 3, 66, 11, 69, 122, 3, 326, 13], [158, 12, 3, 32, 19, 393], [368, 118, 51, 178, 117, 9, 7, 52, 15, 5], [22, 6, 8, 65, 65], [106, 16, 75, 65, 8, 124, 198, 142, 267, 12, 3], [808, 29, 342, 505, 555, 15, 486, 612, 48, 501, 20, 89, 506, 502, 319, 73, 532, 2, 929, 140], [19, 613], [23, 38, 428, 135, 484], [145, 297, 51, 20, 15, 20, 6], [314, 63, 3, 380, 10, 83], [38, 582, 64], [214, 220, 40, 614, 2, 134, 4, 580, 2, 3, 24, 227, 2, 26, 23, 106, 16, 2, 583], [759, 449, 35, 32, 714, 9, 42, 41, 389], [751, 234, 105, 5, 78], [57, 167, 440, 47, 22, 3], [27, 17, 3, 412], [1, 369, 128, 61, 464, 19, 10, 180, 33, 169, 130, 3, 641, 260, 194, 2, 224, 79, 275], [261, 25, 273], [171, 81, 181, 19, 9, 291], [762, 19, 413], [237, 649, 12, 13, 68, 97, 140, 584, 674, 37, 86, 38, 863, 650, 255], [97, 26, 10, 4, 97, 11, 343, 2, 97, 83, 8, 99, 343], [171, 615, 247, 864], [50, 109, 154, 5, 447, 8, 187, 480, 350, 25, 12, 78, 350], [141, 1, 182, 130, 4, 20, 27, 141, 1, 182, 130, 103, 27, 809, 191, 10, 53, 585, 22, 3, 616, 1, 141, 182, 5, 42, 41, 507, 7, 54, 22, 3, 616, 79, 5, 79, 5, 42, 41, 507], [187, 930, 112, 35], [429, 13, 393, 2, 153, 271, 68, 2, 38, 140, 177], [1, 243, 13, 143, 2], [75, 251, 13, 810, 120, 105, 617, 75, 13, 12, 51, 922, 381, 2, 13, 222], [158, 40, 28, 395, 931, 76, 358, 11, 44, 37, 225, 359], [1, 226, 51, 29, 563, 18, 150, 148], [3, 32, 714, 3, 141, 283, 2, 932, 52, 47, 123, 238, 618, 120, 12, 865, 7, 7, 1, 22, 298, 2, 932, 52, 89], [328, 46], [1, 250, 522, 6, 1, 287, 6, 243, 130], [33, 265, 128, 3, 22, 57, 26, 101, 193], [854, 811, 8, 3, 2, 35, 99, 266, 91, 138, 27, 38, 82, 99, 140, 237, 866, 6, 86, 67, 86, 750, 2], [90, 90, 45, 31, 3, 155, 715], [21, 763, 450, 154, 19, 64, 1, 28, 58], [1, 867, 429, 85, 296, 32, 285, 586], [135, 13, 95, 716, 320, 764, 186, 806, 51, 48, 465, 262, 68, 18, 360, 68, 138, 12, 38, 2, 856, 50], [1, 31, 58, 160], [1, 69, 3, 125, 338, 535, 17, 4, 66], [84, 6, 9, 39], [72, 4, 173, 508, 7, 44, 37, 5, 293, 8, 5, 293, 63, 31, 509, 1, 522], [200, 200, 42, 41], [38, 85, 72, 2, 292, 9, 404], [765, 349, 210, 3, 44, 32, 79, 285, 155, 510, 63, 2, 30, 65, 933, 7, 19], [368, 54, 3, 53, 3, 337, 162, 52, 118, 14, 8, 155, 216, 4, 16, 18, 50, 382, 195, 208, 269], [6, 711, 77, 49, 414, 1, 62, 281, 2, 26, 6, 235, 20, 413, 4, 25, 58, 383], [26, 119, 560, 34, 8, 72], [191, 10, 53, 34, 3, 74, 194, 587, 27, 27, 190, 47, 248, 466, 1, 30], [28, 127, 2, 315, 7, 499, 717], [4, 430, 934, 8, 267, 12, 3, 89, 935, 120, 3, 50, 89, 95, 2, 347, 4, 934, 36, 16], [39, 8, 5, 462, 478, 2, 6, 3, 17, 188, 39, 704, 564, 153, 15, 505, 348, 157, 27, 153, 36, 16], [38, 137, 267, 9, 150, 296, 477, 152, 180, 183, 766, 62, 321, 20, 26, 32, 80, 28, 26, 11, 281, 27, 413, 404, 152], [98, 176, 61, 47, 84, 6, 1, 59, 18, 767, 117, 14, 59, 116, 47, 59, 13, 393, 6, 105, 415, 10, 177, 68, 86, 2, 86, 195, 68], [1, 31, 3, 316, 9, 290], [11, 266, 36, 62, 109, 7, 449, 431, 225, 651, 76, 4, 307, 431, 62, 42, 41, 45, 28, 3, 30, 109], [1, 487, 3, 23, 123, 12, 51, 3, 26, 37, 1, 69, 3], [34, 254, 685, 15, 10, 78, 55, 38], [110, 51, 75, 40, 53, 42, 41, 8, 5, 42, 41, 343, 15, 89, 686, 40, 22, 2, 155, 4, 848, 486, 18, 19, 66, 511, 118, 56, 2, 9, 19, 3, 22, 849, 106, 206, 89, 12, 125, 426], [1, 60, 9, 21, 72, 2, 413, 9, 4, 307, 389], [75, 4, 718, 319, 43, 4, 506, 486, 768, 31, 192, 18, 15, 4, 868, 936, 45, 22, 5, 239, 73, 936, 2], [19, 81, 49, 215, 23, 6, 28, 26, 11, 488, 769, 26, 14, 48, 146], [38, 615, 869, 275, 236, 33, 48], [96, 10, 273, 3, 9, 481, 54, 51, 2, 30, 21], [870, 77, 183, 43, 11, 687, 20, 331, 565, 55, 17, 268, 77, 1, 770, 167, 536, 32, 80, 871, 11, 357, 21, 11, 357, 361, 871, 872], [109, 97, 16, 198], [33, 990, 3, 22, 13, 588], [512, 44, 1, 185, 3, 1, 937, 3, 1, 74, 3], [938, 3, 7, 13, 589, 939, 252, 7, 133, 103, 258, 9], [1, 25, 48, 83, 1, 679, 20, 210, 11, 812, 44], [36, 183, 537, 332, 15, 940, 45, 132], [106, 16, 89, 214, 220, 941, 18, 850, 390, 75, 3, 17, 188, 4, 271, 348, 157, 27, 538, 153], [61, 23, 47, 84, 6, 152, 84, 6, 163, 47, 59, 29, 66, 23, 191, 10, 165, 6, 190, 122, 6, 300, 83, 34, 25, 26, 14, 21, 247], [156, 409, 40, 223, 7, 183, 12, 317, 2, 4, 45, 5, 9, 191, 65, 35], [566, 45, 279, 18, 50], [209, 184, 11, 451, 13, 68, 154, 40, 182, 170, 96, 3, 54, 2, 26, 23, 36, 40, 141, 49, 30, 170, 39], [90, 81, 35, 65, 197, 43], [], [619, 56, 65, 231, 35, 4, 312, 15, 63, 9, 19, 353, 942, 27, 101, 13, 56, 4, 57, 72, 2, 9, 4, 232, 314, 21], [39, 359, 384, 25, 536, 9, 370, 39, 359, 813, 74, 63, 566, 52, 452, 306, 432, 55, 35, 44, 9, 370], [72, 18, 321, 116], [75, 9], [129, 8, 15, 4, 217], [47, 122, 3, 162, 52, 9, 4, 136, 19, 288, 51, 15, 567, 426], [617, 4, 226, 12, 10, 9, 13, 256, 7, 25, 9, 13, 291, 75, 5, 291, 24, 5, 256, 31, 234, 380, 284, 3, 133, 66], [762, 5, 489, 110, 339, 84, 6, 523], [3, 22, 4, 348, 747, 27, 271, 748, 153, 39, 8, 89, 652, 478, 2, 206, 3, 2, 131, 16, 21], [16, 7, 67, 89, 653, 362, 36, 208, 2, 86, 425, 16, 446], [1, 60, 25, 306, 99, 143, 316], [642, 114, 258, 278, 12, 20, 8, 558, 16, 21, 147, 273, 806, 51, 43, 48, 100, 185, 52], [72, 88, 2, 221], [65, 100, 6, 70, 2, 221], [412, 6, 235, 10, 20, 49, 396, 43, 6], [198, 29, 342, 4, 873, 568, 2, 27, 348, 2, 131, 73, 433, 2, 269, 285, 318, 233, 388], [1, 108, 5, 242, 480, 92, 74, 2, 30, 157, 24, 40, 28, 35, 301, 76, 381], [90, 90, 33, 172, 265, 45, 31, 3, 5, 719], [511, 227, 11], [98, 467, 168, 434, 18, 5, 442, 32, 5, 7, 1, 468, 35, 80, 524, 79, 282, 804, 337, 26, 104, 16, 10, 104, 88, 654], [297, 68, 10, 45, 254], [342, 2, 327, 43, 157, 16, 2, 131, 187, 771, 208, 555], [7, 438, 9, 427], [46, 1, 344, 26, 3, 146, 104], [5, 178, 217, 1, 352, 453, 2, 26, 59, 525, 3, 7, 1, 288, 108, 14, 174, 17, 35, 5, 7, 181, 72, 24, 75, 703, 75, 1, 14, 874, 201, 44, 5, 19, 3, 201, 943, 56, 1, 174, 26, 14, 2, 525, 3, 351, 3, 169, 102, 53, 10, 32, 51, 14, 59, 24, 14, 874, 392, 5, 407, 1, 17, 37, 14, 8, 3, 17, 5, 63, 2, 871, 14, 24, 3, 655, 25, 2, 3, 3, 101, 3, 221, 3, 70, 2, 49, 52, 1, 102, 291, 4, 307, 249, 109, 7, 65, 24, 45, 3, 102, 134, 5, 370, 45, 3, 18, 564, 15, 14, 45, 1, 244, 17, 4, 266, 9, 5, 311, 310, 33, 19, 469, 7, 18, 5, 370, 18, 5, 261, 190, 587, 3, 809, 2, 35, 57, 79, 32, 875, 539, 5, 370], [720, 23, 246, 354], [23, 248, 263, 2, 35, 278, 32, 213, 24, 64, 173, 307, 31, 278, 2, 3, 537, 13, 178, 170, 537, 161, 944, 101, 85], [490, 59, 32, 78, 876, 1, 286, 65, 227, 394, 9, 5, 357, 7, 877, 614, 78, 75, 4], [416, 16, 10, 358, 254, 721], [8, 173, 656, 686, 8, 172, 656, 8, 139, 656, 8, 656, 24, 302, 8, 173, 878], [40, 614, 2, 206, 3, 583, 13, 91, 2, 89, 378, 15, 4, 397, 772, 814, 107, 262, 919, 68, 773, 91, 27, 16, 774, 21], [40, 31, 164, 212, 440], [416, 54, 63, 3, 70, 10, 2, 58, 44], [590, 108, 40, 28, 30, 124, 32, 879, 113, 63, 211], [47, 123, 22, 40, 279], [657, 657, 657, 57, 653, 22], [30, 301, 2, 7], [93, 200, 57, 93, 59, 34, 3, 468, 144, 98, 24, 93, 200, 523, 21, 23, 47, 22, 3, 37, 5, 314], [1, 31, 355, 29, 80, 9, 42, 41, 389], [1, 60, 72, 2, 221, 1, 60, 862, 15], [852], [45, 122, 1, 280, 1, 280, 14, 64, 32, 80, 272, 444, 47, 20, 688, 14, 9, 345], [4, 430, 934, 8, 267, 12, 3, 89, 935, 120, 3, 50, 89, 95, 2, 347, 4, 934, 36, 16], [309, 309, 309], [8, 88, 18, 13, 404, 49, 2, 18, 7, 327, 880, 18, 767, 23, 21, 620, 52, 2], [138, 161, 722, 312, 15, 3, 28, 64, 7, 283, 2, 775, 5], [90, 58, 2, 45, 254, 260], [1, 31, 187, 40, 621], [28, 113, 31, 169, 448, 1, 250, 291, 1, 250, 2, 17, 815, 107], [59, 622, 2, 82, 19, 142, 23, 45, 84, 6, 591, 642, 110, 54, 445, 7, 152, 84, 29, 926], [47, 22, 3, 128, 13, 163, 46, 1, 135, 4, 346, 221, 1, 32, 205, 7, 151, 211, 54, 22, 211, 252], [1, 59, 36, 2, 144, 98, 101, 193], [183, 1, 31, 121, 154, 42, 41, 208], [129, 61, 25, 56, 3, 394, 366, 228, 4, 19, 105], [116, 2, 454, 3, 22, 129, 23, 592, 676], [87, 81, 16, 104], [238, 18, 32, 140, 253, 202, 655, 50, 4, 37, 623, 580, 2, 3, 76], [171, 12, 13, 142, 1, 169, 13, 33, 25, 196, 15, 5, 15, 816, 435, 24, 31, 162, 52, 18, 11, 136, 88, 50, 5, 540, 160, 33, 9, 289, 21, 26, 17, 4, 817, 66], [487, 371, 111, 22, 9, 370], [3, 17, 124, 417, 214, 220, 16, 850, 21], [31, 3, 35, 109, 12, 484], [74, 2, 35, 9, 418, 76, 2, 658, 50], [811, 8, 3, 2, 35, 99, 266, 91, 138, 27, 38, 82, 99, 140, 237, 866, 6, 86, 67, 86, 750, 2], [3, 16, 130, 7, 96, 21, 15, 170, 16, 130, 21], [369, 624], [198, 3, 17, 188, 4, 114, 112, 48, 9, 89, 506, 424, 153, 73, 5, 345, 131, 2, 38, 175, 147, 140, 584, 689], [171, 12, 13, 385, 651, 143, 13, 95, 31, 35, 881, 43, 233, 141, 13, 203, 25, 106, 16, 214, 649], [155, 10, 4, 2, 108, 108, 79, 14], [419, 1, 231, 30, 541, 52, 690, 55, 14, 27, 190], [22, 3, 46, 54, 557, 2, 56, 39], [39, 142, 8, 48, 849, 2, 5, 103, 776, 882, 569, 2, 674, 50, 39, 220, 91, 86, 659, 195, 269, 64], [209, 243, 3, 509, 31, 86, 36, 100, 191, 99, 30], [6, 9, 418, 677], [1, 108, 481, 72, 2, 21, 58], [570, 777, 89, 256, 723, 45, 228, 8, 9, 14, 24, 14, 173, 45, 228, 14, 57, 117], [38, 289, 285, 381, 171, 491, 107, 54, 63, 1, 141, 58, 160], [625, 13, 818, 295, 660, 12], [648, 33, 25, 179], [28, 3, 292, 37, 10], [90, 183, 615, 67, 42, 41, 262], [321, 24, 40, 369, 554, 6, 174, 165, 180, 6, 24, 40, 207, 369, 207, 52, 148, 883, 23, 83, 25, 72, 52, 369, 16, 77], [141, 1, 661, 65, 27, 54], [43, 62, 19, 274], [14, 64, 384, 656, 25], [747, 75, 4, 884, 455, 214, 3, 105, 496, 2, 347, 4, 934, 2, 429, 16, 571, 593, 64], [175, 95, 214, 3, 259, 21, 131, 13, 48, 372, 115, 4, 435, 49, 724, 12, 13, 16, 18, 378, 944, 175, 683, 365], [98, 61, 1, 100, 53, 34, 3, 22, 32, 151, 24, 16, 10, 45, 6, 28, 168, 32, 80, 51, 603, 398], [3], [127, 22, 3, 110], [145, 1, 70, 3, 1, 937, 3, 1, 185, 3, 1, 74, 3, 1, 69, 3], [46, 349, 67, 3, 37, 9, 42, 483, 41, 46], [49, 100, 46], [542, 304, 16, 21, 36, 251, 208, 725, 456, 423, 8, 4, 623, 446, 16], [145, 1, 69, 3, 1, 135, 2, 96, 1, 396, 32, 13, 7, 2, 224, 3, 390, 11, 470, 1, 70, 3, 1, 74, 3, 1, 937, 3], [477, 218, 94, 543, 21, 716, 399, 623, 446, 562, 208, 64, 50], [16, 12, 64, 114, 251, 662, 16, 50, 4, 308, 885, 143, 38, 816, 140, 253, 202], [5, 770, 296, 5, 178, 480, 499, 7, 22, 306, 4, 802, 24, 50, 19, 249, 22, 72, 46, 945], [1, 453, 2, 284, 3, 4, 133, 103, 258, 7, 1, 453, 2, 292, 2, 3, 79, 113, 2, 26, 37, 45, 7, 1, 24, 9, 330, 81, 134, 4, 568, 2, 12, 19, 1, 128, 509, 8, 57, 37, 3, 176, 7, 1, 69, 236], [26, 6, 8, 556, 168, 124, 121, 15, 121, 8, 399, 28, 14, 159, 17, 4, 232, 221, 367, 588], [1, 53, 3, 22, 1, 663, 54, 22, 3, 163, 21], [1, 62, 14, 197, 5, 103, 258, 180, 149, 93, 453, 2, 819, 3, 37, 14, 24, 45, 1, 373, 82, 238, 1, 14, 197, 5, 42, 41, 66], [490, 168, 38, 4, 168, 124, 21], [33, 65, 7, 1, 28, 82, 3, 24, 3, 244, 82, 10, 419, 3, 141, 1, 5], [1, 244, 47, 726, 3, 22, 19, 33, 394, 76], [179, 313, 123], [26, 3, 70, 772, 814, 107, 455, 262, 68, 7, 4, 103, 397, 115, 12, 64, 640, 251, 112, 16, 21, 27, 91, 12, 580, 160], [57, 167, 440, 17, 4, 116, 66], [1, 31, 3, 9, 370, 75, 129], [1, 341, 58, 2, 12, 20, 317, 23, 3, 28, 35, 2, 101, 4, 230, 358, 1, 100, 386, 107, 11, 691, 74, 2, 331, 198], [172, 380, 2, 30, 50, 13, 296], [54, 3, 122, 9, 230], [38, 85, 1, 60, 133, 19, 40, 621, 778], [240, 87, 626, 38, 38, 47, 20, 94, 432, 252], [145, 58, 498, 280, 40, 22, 51, 65], [90, 55, 107, 242, 278], [272, 250, 74, 2, 210, 29], [309, 490, 368, 118, 36, 62, 5, 242, 66], [727, 10, 118, 84, 6], [12], [471, 6, 44, 20, 6, 227, 257, 16, 10, 73, 374, 90], [946, 45, 141, 1, 500, 5, 215], [46, 349, 96, 5, 779], [92, 151, 72, 18, 14, 8, 173, 848, 311], [728, 109, 56, 51, 55, 23], [5, 116, 430, 15, 42, 41, 9, 124, 400], [6, 182, 148], [3, 141, 30, 125, 34, 3, 70, 469, 113, 1, 102, 53, 79], [46, 617, 191, 6, 560, 150, 426, 104], [51, 242, 22, 64], [6, 531, 10, 146, 16, 11, 753, 115], [1, 53, 33, 18, 485, 15, 39, 426, 24, 12, 5, 485, 410, 33, 25, 947, 79, 19], [614, 275, 7, 299, 505], [145, 176, 703, 20, 52, 20, 32, 85, 20, 85, 105, 611, 18, 85, 51, 66], [129, 34, 33, 19, 81, 36, 16, 199], [8, 173, 656, 686, 8, 172, 656, 8, 139, 656, 8, 656, 24, 302, 8, 173, 878, 247], [31, 35, 427, 223, 43, 729, 21, 1, 60, 72], [19, 8, 572], [372, 3, 22, 342, 4, 372, 16, 382, 580, 317], [309, 26, 3, 53, 646, 42, 41, 27, 948, 472, 2, 182, 89, 573, 7, 146, 21, 34, 40, 102, 30, 4, 775, 15, 61, 36, 43, 51, 117], [81, 49, 139, 40, 28, 544, 528, 49, 364, 49, 78], [820, 129, 117, 117], [118, 6, 800, 79], [687, 165, 119, 2, 182, 484, 80], [26, 6, 8, 556, 168, 124, 121, 15, 121, 8, 399, 28, 14, 159, 17, 4, 232, 221, 367, 588], [720, 23, 375, 55, 119, 306, 354, 766], [28, 119, 16, 10, 32, 388, 388, 2, 134, 196, 376, 209, 44], [48, 501, 9, 20, 4, 502, 859, 12, 4, 325, 2, 189, 124, 923, 73, 2, 2, 30, 501, 73, 446, 175, 683, 365, 12, 426, 269], [8, 297, 1, 663, 8], [98, 128, 6, 84, 594, 46, 71, 149, 71, 174, 68, 7, 71, 17, 6, 130, 191, 10, 245, 106], [469, 228, 109, 19, 120, 4, 258, 42, 41, 56, 886, 949, 8, 42, 41, 90, 61, 871, 24, 1, 74, 2, 53, 47, 123, 31, 14, 12, 34, 1, 28, 5, 12, 14, 47, 212, 154, 31, 14, 88], [1, 60, 72, 2, 714, 83, 31, 35, 260, 64, 32, 887], [129, 1, 341, 25, 58, 55], [1, 69, 2, 155, 1, 280, 754, 15, 467, 54, 8, 13], [6, 512, 44, 148, 152, 6, 163, 6, 805, 216, 44, 104, 627, 33, 664, 994, 544, 282, 692, 436, 56, 376, 6, 28, 322, 150, 63, 147, 236, 212], [39, 8, 938, 3, 4, 116, 66, 243, 10, 79, 13, 378, 7, 75, 234, 1, 59, 3, 378, 23, 2, 49, 2, 116, 18, 11, 7, 61, 11, 999, 8, 239, 693, 154, 19, 1, 31, 181, 9, 644, 125, 87], [358, 48, 16, 10, 316, 1, 60, 267, 12, 3], [6, 23, 420], [1, 42, 41, 497, 9, 5, 7, 1, 60, 7, 26, 3, 56], [26, 3, 70, 4, 103, 397, 814, 107, 455, 262, 68, 12, 64, 640, 251, 112, 16, 21, 27, 91, 12, 580, 160], [461, 1, 17, 4, 103, 21], [47, 79, 279, 9, 644, 37, 267, 12, 779, 36, 73, 88, 13, 241, 7, 920, 2, 620, 9, 313, 5, 195, 237], [489, 14, 31, 58, 245, 83, 26, 75, 1, 149, 7], [40, 17, 34, 6, 70], [1, 108, 61, 703, 125, 338, 19, 24, 162, 52, 322, 12, 4, 226, 50, 13], [821, 3, 17, 105, 342, 4, 48, 372, 36, 91, 2, 429, 13, 153, 620, 52, 86, 377], [106, 96, 10, 25, 51, 15, 11, 296, 22, 9, 13], [441, 38, 38, 36, 18, 19, 59, 780, 2, 35, 24, 19, 619, 329], [4, 274, 15, 29, 300, 8, 11, 4, 730, 15, 29, 8, 11, 4, 410, 15, 29, 256, 8, 11, 161, 4, 256, 56, 728, 731, 193, 12, 6, 75, 11], [103, 126, 24, 5, 330, 23, 100, 37, 29, 222, 36, 170, 159, 144, 33, 234, 868], [133, 103, 258, 2, 6, 7, 29, 589, 259, 39, 103, 258, 500, 7, 2, 29, 161], [270, 950, 627, 6, 53, 10, 129, 85, 508, 15, 302, 76, 228, 8, 711, 77, 6, 49, 162, 78, 55, 51, 9, 89, 379], [60, 277, 18, 167, 42, 483, 41, 349, 35, 65, 9, 55, 40, 344, 49, 2, 427, 91, 10, 154, 457, 2, 80], [6, 367, 10, 401, 147, 236, 118, 888], [709, 59, 25, 362, 55], [25, 719, 64, 78, 66, 78, 37, 9, 78, 350, 40, 28, 331], [142, 156, 183, 365, 12, 13, 574, 177], [655, 50, 15, 622, 513, 694, 377, 39, 8, 4, 220, 37, 502, 513, 6, 17, 78, 822, 88, 7, 313], [69, 120, 78, 134, 133, 5, 330, 3, 69, 9, 5, 293, 136, 556, 120, 78, 299, 134, 29, 266, 224, 677, 524, 3, 22, 247, 117], [71, 8, 2, 37, 7, 71, 234, 10, 56, 225, 56, 71, 299, 10, 219, 71, 122, 7, 1, 31, 130, 15, 19, 34], [145, 70, 542, 398, 732, 184, 816, 20, 29, 115, 73, 2, 48, 7, 55, 36, 251, 66, 2, 86, 68], [9, 161, 45, 3, 421, 36, 4, 25, 61, 5, 561, 24, 452, 5, 9, 5, 6, 31, 53, 54, 13, 256, 8, 951, 12], [228, 6, 53, 120, 422, 89, 695, 220, 20, 206, 3, 204, 368, 118, 16, 21, 51, 31, 35, 689, 285, 195], [872, 229, 2], [179, 942, 33, 25, 176, 24, 171, 12, 685, 15, 10], [225, 323, 8, 9], [479, 280, 9, 4, 172, 101, 20], [37, 823, 824, 83, 71, 19, 3, 74, 2, 2, 181, 10, 109, 431, 72, 2, 16, 3, 45, 71, 384, 1, 3, 2, 36, 889, 100, 134, 107, 27, 134, 14, 249, 22, 25, 458, 7, 1, 74, 3, 2, 106, 191, 216, 151, 249, 52, 75, 314, 75, 1, 181, 255, 11, 31, 35, 23, 97, 36, 181, 130, 133, 38, 18, 13, 410], [299, 4, 66, 9, 29, 161, 57, 317, 155, 6, 392, 317, 155, 6, 594, 22, 9, 161, 51, 22, 57, 167], [466, 1, 67, 19, 2, 13, 545, 566], [61, 46, 1, 36, 952, 122, 6, 733, 38], [544, 56, 376, 339], [259, 192, 24, 14, 141, 17, 125], [38, 122, 3, 322, 1, 62, 225, 142, 21], [198, 106, 16, 50, 382, 13, 873, 43, 294, 27, 157, 595, 492, 596, 175, 303, 423], [461, 33, 52, 17, 4, 57, 117], [33, 169, 87, 1, 534, 192, 472, 20, 26, 39, 693, 128, 6, 28, 162, 124, 128, 718, 72, 46], [46, 173, 57, 61, 51, 79, 539, 19, 238], [441, 1, 51, 148, 5, 78, 32], [1, 284, 19, 1, 59, 37, 3, 3, 539, 3, 82, 47, 417, 3, 22, 47, 123, 3, 663, 2, 10, 47, 123, 1, 74, 3, 9, 11, 161], [58, 137], [13, 295, 120, 105, 76, 42, 483, 41, 13, 295, 890, 8, 998, 42, 483, 41, 13, 566, 8, 42, 41], [189, 4, 258, 15, 43, 4, 857, 15, 29, 665, 555, 807, 89, 506, 502, 319, 73, 532, 2, 929, 303, 140, 177], [71, 288, 82, 225, 40, 30, 124, 375], [178, 325, 20, 131, 29, 665, 15, 891, 612, 68, 138, 2, 21, 734, 735, 95, 175, 303, 825, 953, 264, 856, 73, 252, 27, 86], [87, 79, 19, 39, 8, 11, 681, 115, 7, 1, 373, 921, 14, 69, 954], [67, 10, 5, 103, 143], [939, 826, 2, 3, 139, 176, 1, 69, 236], [3, 696, 21, 33, 56, 146, 223, 159, 42, 41], [106, 628, 50, 150, 299, 12, 827, 56, 237, 678, 299, 13, 37], [461, 481, 51, 617, 109, 68, 5, 363], [597, 48, 12, 333, 112, 186, 203, 43, 29, 463, 187, 112, 36, 73, 186, 2, 597, 30, 892, 7, 96, 29, 681, 140, 955, 253, 202, 689, 195, 203, 264], [46, 55, 84, 40, 290, 104], [45, 3, 36, 482, 9, 5, 655, 11, 143, 7, 5, 31, 546, 146], [116, 299, 105, 329, 694, 66, 201, 125, 2, 487, 371], [493, 535, 284, 493, 34, 6, 300, 126, 334, 8, 676, 6, 201, 126, 730, 15, 20, 536, 676, 6, 23, 192, 133, 57, 167, 181, 523], [527, 527, 374, 6, 125, 338, 94, 150, 217, 1, 666, 6], [55, 47], [3, 22, 4, 356], [98, 377, 105, 46, 18, 21, 138, 18, 12, 4, 274, 15, 4, 503, 514, 19, 1, 17, 32, 23, 74, 2, 30, 80, 94, 384, 19, 648, 956, 12, 6], [17, 13, 268, 7, 58, 7, 713, 5], [270, 1, 19, 68, 10, 45, 254, 223], [200, 436, 208, 2, 49, 12, 268], [14, 515, 6, 231, 25, 181, 29, 535], [145, 10, 13, 143, 33, 266], [72, 2, 283, 12, 20, 657, 657, 64], [821, 145, 6, 1, 36, 62, 114, 15, 567, 397, 736, 91, 2, 39, 73, 349, 67, 6, 11, 732, 44, 168, 23, 477, 32, 151, 398, 269, 195], [309, 309, 309, 109, 598, 4, 103, 15, 542, 12, 89, 2, 30, 12, 48, 36, 713, 5, 239, 184, 2, 29], [11, 69, 47, 58, 14, 599, 3, 23, 314, 2, 230, 12, 1, 62, 13, 535, 18, 7, 59, 133, 2, 82, 170, 24, 59, 609, 3, 135, 412, 1, 185, 3], [1, 74, 2, 86], [697, 893, 189, 4, 506, 153, 34, 6, 53, 118, 5, 103, 15, 31, 35, 73, 99, 213, 241, 2, 86, 318, 233], [284, 1, 227, 37, 3, 21], [96, 10, 39, 97], [98, 57, 284, 6, 126, 293], [111, 36, 800, 324, 14, 516, 111, 468, 107, 242], [461, 171, 12, 5, 313, 13, 117, 52, 283, 2, 30, 113, 221], [51, 66, 387, 66, 767, 7, 957], [228, 6, 53, 120, 422, 89, 695, 220, 20, 206, 3, 204, 368, 118, 16, 21, 51, 31, 35, 456], [362, 3, 1, 828, 69, 3, 23, 123, 1, 28, 14], [57, 473, 11, 69, 47, 504, 13, 66, 47, 122, 3, 221, 1, 128, 13, 129, 11, 781, 1, 108, 15, 3], [48, 501, 9, 20, 4, 859, 2, 189, 652, 259, 68, 2, 2, 347, 501, 561, 73, 446, 175, 683, 365], [328, 47, 119, 560, 443], [384, 17, 4, 21], [93, 8, 89, 782, 93, 20, 89, 589, 93, 8, 126, 128, 15, 160, 958, 43, 99, 118, 59, 43, 126, 629, 775, 89, 621, 159, 76, 69, 159, 20, 99, 159, 489, 97, 439, 9, 433, 159, 14, 86], [1, 17, 4, 543, 18, 957, 37, 31], [102, 81, 182, 5, 540, 7, 67, 170, 2, 3, 3, 468, 30, 170, 547, 56, 940, 28, 3, 67, 10, 13, 630, 35, 461, 441], [111, 149, 34, 61, 257, 14, 31, 326, 223, 436, 27, 381, 729, 111, 22, 124, 15], [191, 29, 256, 35, 29, 29, 291, 29, 29, 29, 7, 6, 31, 299, 9, 334, 184, 885, 177], [236, 727, 29, 407], [127, 22, 3, 45, 731, 3, 355, 109], [29, 342, 4, 645, 7, 231, 189, 4, 414, 187, 377, 73, 857, 2, 318], [87, 81, 16, 104], [90, 90, 45, 22, 3, 72], [213, 78, 9, 32, 403, 690], [6, 169, 443, 221, 23, 123, 11, 499, 512, 10, 44, 32, 388, 692, 20, 315, 268, 83], [77, 127, 587], [1, 64, 679, 137, 177], [240, 11, 401, 783, 1, 36, 286, 959, 3, 75, 3, 227, 37, 13, 222, 942, 3, 227, 960, 7, 67, 4, 459], [17, 3, 234, 105, 616], [272, 663, 137, 1, 554, 111, 494, 144, 46, 55], [], [1, 70, 42, 41, 998, 85, 26, 3, 17, 14], [42, 483, 41, 437, 24, 61, 25, 4, 296, 109, 23, 61, 329, 2, 182, 50, 27, 27, 34, 1, 162, 14, 1, 344], [490, 452, 227, 511, 11, 782, 474, 590, 1, 599, 732], [8, 147, 25, 200, 3, 141, 17, 243, 10, 861], [68, 2, 2, 429, 13, 365, 64, 313, 13, 513], [51, 619, 57, 626, 14, 878, 2, 688], [39, 704, 734, 735, 22, 21, 36, 16, 12, 426, 734, 689, 64, 318, 233, 112, 734, 735, 95], [263, 22, 5, 12, 15, 17, 3, 352, 29, 12, 5, 15, 14, 8, 173, 1, 108, 14, 8, 29], [13, 143, 7, 59, 961, 425, 2, 13, 631, 143, 156, 209, 25, 50, 3, 39, 258, 51, 5, 276, 9, 13, 62, 39, 143, 50, 11, 222], [33, 32, 80, 106, 16], [158, 38, 178, 117, 8, 44, 37, 3, 403, 212], [14, 231, 109], [821, 430, 513, 91, 323], [75, 9, 22, 65, 107, 12, 10, 78, 50, 360, 19, 4, 24, 259, 92, 144, 360, 18, 14], [1, 344, 829, 99, 52, 9, 289], [145, 102, 737, 3, 22, 728, 12, 10, 11, 11, 300], [24, 261, 18, 14, 341, 35], [461, 81, 134, 196, 5, 296, 8, 88, 211], [129, 25, 310, 51, 5, 263, 9, 11, 297, 738, 161, 207, 80], [138, 24, 1, 102, 193, 648, 1, 53, 61, 65], [33, 9, 4, 290, 16, 10, 104, 32], [90, 90, 450, 135, 13, 268], [96, 99, 1, 149, 315, 346], [135, 5, 238, 10, 245, 24, 171, 2, 3, 1, 28, 21, 1, 344, 134, 196, 3, 100, 14, 171], [22, 3, 9, 3, 74, 2, 82, 190], [145, 65, 176, 47, 6, 962, 471, 6, 44, 20, 69, 252], [440, 8, 13, 27], [36, 539, 354, 3], [1, 101, 14, 5, 829, 120, 58, 55, 3, 409, 17, 15, 425, 21, 133, 802, 11, 78, 50, 240, 32, 5, 332, 8, 11, 130], [38, 1, 288, 663, 2, 829, 14, 1, 14, 7, 56, 23, 248, 242, 526, 209, 281, 2, 3, 1, 191, 14, 65, 14, 59, 54, 1, 59, 508, 32, 5, 63, 1, 59, 698, 197, 1, 412, 1, 830, 67, 55, 86, 14, 874, 65, 1, 18, 11, 115, 45, 1, 62, 2, 11, 296, 14, 874, 65, 3, 149, 3, 288, 221, 3, 227, 477, 23, 156, 19, 35, 5, 63, 2, 871, 806, 32, 875, 134, 5, 370], [145, 122, 6, 352, 12, 5, 239], [9, 5, 647, 9, 241, 5, 19, 32, 5, 326, 15, 5, 963, 4, 66, 192, 894, 66, 147, 964, 66, 67, 4, 192, 27, 147], [176], [38, 956, 1, 31, 67, 2, 13, 678], [32, 8, 19, 697, 18, 865, 965, 229, 965, 76, 46], [36, 624, 62, 6, 4, 25, 39, 63], [87, 615, 11, 62, 113, 407, 339, 1, 59, 869, 472, 2, 91, 6, 27, 121, 6], [179, 111, 227, 32, 213, 24, 55, 111, 44, 7, 9], [541, 219, 706, 55, 3, 121, 10, 1, 31, 16, 44, 154, 151, 27, 33, 72, 2, 30, 11, 8], [47, 22, 3, 163, 39, 8, 36, 938, 3, 4, 116, 66, 895], [1, 100, 70, 2, 454, 194], [661, 132, 171, 12, 539, 11, 66], [1, 344, 30, 65, 160, 7, 67, 14, 2, 3], [448, 3, 82, 3, 17, 2, 35, 9, 5, 1, 31, 191, 3, 53, 471, 18, 14, 8, 45, 120, 624, 539, 14], [171, 12, 411, 52, 12, 10, 1, 169], [1, 286, 40, 227, 163, 4, 15, 5, 217, 65], [198, 16, 50, 382, 13, 873, 43, 294, 27, 424, 157, 595, 492, 596, 175, 303, 423, 405, 269], [18, 77, 150, 488, 144, 705, 24, 11, 812, 144, 396, 6, 1, 172, 444, 152, 93], [51, 31, 58, 329, 868, 107, 57, 411, 932, 65], [111, 327, 78, 66, 178, 258, 53, 201, 491, 111, 17, 173, 57, 56, 966], [3, 22, 146, 491, 1, 244, 155, 3, 5, 3, 70, 7, 74, 39, 8, 169, 2, 124, 1, 59, 72, 2, 4, 967, 52, 34, 33, 92, 65, 154, 24, 419, 3, 22, 301, 7, 141, 26, 14, 21], [559, 1, 331, 11, 268, 55, 1, 49, 245, 77, 544, 166, 692, 77, 6, 331, 29, 268, 148], [581], [35, 215, 9, 4, 274, 36, 113, 281, 52], [3, 17, 114, 103, 106, 16], [40, 25, 591, 275, 46, 77, 55, 40, 49, 94, 315, 6, 287], [100, 134, 926, 12, 632, 93, 717, 216, 2, 58, 245, 55, 46], [179, 87, 17, 432], [98, 11, 69, 47, 504, 19, 66, 470, 39, 167, 1, 7, 11, 18, 5, 136, 245, 5, 24, 14, 461, 1, 185, 3], [708, 109, 784, 4, 218, 27, 37, 495, 9, 718, 847, 2, 30, 44, 36, 91, 21, 48, 20, 439, 73, 86], [110, 156, 3, 229, 1, 204, 530, 23, 1, 699, 2, 530], [106, 155, 14, 20, 27, 1, 31, 210, 14, 44, 18, 517, 79, 436, 34, 19, 8, 46], [81, 82, 24, 158], [489, 128, 6, 84, 265], [322, 37], [1, 444, 524, 45, 629, 49], [8, 9, 85], [198, 106, 16, 50, 382, 538, 157, 27, 4, 43, 294, 595, 492, 175, 303, 596, 456, 423, 405, 264], [90, 90, 47, 123, 384, 14, 391], [158, 1, 108, 11, 92, 52, 50, 178, 117, 34, 3, 30, 15, 191, 10, 53, 7, 81, 245], [1, 122, 78, 7, 78, 179], [3, 188, 13, 43, 294, 27, 538, 595, 492, 16, 21, 596, 785, 200, 233, 729], [343, 83, 1, 284, 130, 2, 30, 125], [261, 57, 629, 487, 371, 106, 5, 17, 754, 15, 7, 17, 4, 570, 66], [87, 11, 1, 28, 58, 76, 24, 33, 64, 279, 4, 12, 21, 13, 226], [244, 183, 2, 783, 621], [60, 1, 19, 123, 392, 2, 56, 39], [158, 59, 4, 6, 633, 457, 147, 236], [46, 1, 224, 56, 824], [134, 196, 968, 225, 343, 8, 215, 9, 389, 75, 703, 75, 254], [138, 440, 22, 3, 72, 2, 134, 10], [38, 18, 45, 491, 641, 201, 354, 275], [2, 390, 7], [108, 85, 3, 731, 26], [149, 33, 126, 9, 126, 334, 371, 159, 149, 183, 6, 927, 126, 330, 802, 39, 121, 201, 371, 28], [145, 1, 60, 169, 70, 2, 218, 27, 82, 10, 68, 542, 2, 68, 881, 32, 2, 674, 68, 86], [91, 37, 13, 241, 7, 630, 7, 3, 31, 347, 76, 829, 4, 704, 48, 32, 140, 177], [3, 181, 616, 19, 254, 25, 24, 548, 71, 40, 181, 215, 7, 33, 862, 1, 17, 23, 123, 242, 346, 2, 37, 19, 33, 621, 358, 39, 2, 14], [416, 619, 57, 45, 26, 3, 70, 10, 2, 58, 245], [152, 6, 163, 65], [581], [261, 24, 100, 479], [5, 33, 267, 76, 5], [219, 8, 156, 1, 299, 453, 2, 96, 3, 107, 15, 39, 219, 8, 156, 33, 23, 37, 3, 7, 18, 75, 15, 246], [28, 4, 25], [110, 768, 17, 13, 239, 18, 216, 280, 5, 18, 13, 20, 313, 4, 20, 43, 114, 140, 177], [36, 184, 14, 23, 54, 688, 15, 484, 26, 3, 56], [179, 1, 169, 74, 2, 380, 2, 315, 45, 33, 24, 1, 26, 3, 10, 779, 19, 117, 176], [71, 96, 194, 71, 8, 698, 18, 10, 19, 156, 3, 243, 2], [180, 63, 147, 152, 63, 119, 883], [172, 19, 218, 59, 590, 24, 102, 134, 14, 3, 28, 82, 99, 9, 330], [110, 768, 2, 131, 39, 704, 378, 32, 13, 106, 49, 2, 574, 140, 253, 202, 68, 303, 365], [25, 123, 36, 113, 47, 896, 3], [33, 9, 739], [12, 964, 964, 12, 897, 897, 12, 256, 256, 12, 6, 24, 6, 12, 10, 67, 2, 51, 29, 222, 10, 34, 6, 56, 10, 34, 6, 30, 88, 114, 6, 84, 969, 9, 20, 6, 74, 113, 114, 2, 852, 166, 6, 84, 750, 20, 248, 43, 6, 205, 8, 371, 2, 6, 283, 14], [461, 62, 4, 7, 120, 2, 35, 80, 338, 71, 286, 23, 35, 109, 989], [695, 1, 17, 135, 480, 15, 567, 64, 600, 154, 1, 184, 4, 68, 2, 292, 178, 112, 107, 26, 3, 108, 27], [198, 106, 16, 50, 4, 382, 538, 157, 27, 4, 43, 294, 595, 492, 175, 303, 596, 456, 423, 264], [5, 573, 32, 5, 296, 575, 118, 59, 37, 10, 62, 11, 115, 143, 50, 5, 7, 366, 7, 10, 33, 310, 15, 719, 21, 71, 259, 17, 11, 630, 141, 1, 16, 225, 7, 96, 130, 39, 259, 30, 130], [158, 81, 230, 9, 4, 898, 389, 159, 191, 3, 53, 45, 1, 30, 2, 714], [464, 94, 193, 731, 49, 491, 626, 45, 14, 24, 111, 31, 358, 45, 111, 326, 415, 14], [9, 219, 226, 1, 28, 30], [59, 685, 79, 29, 964, 94, 20, 170, 18], [642, 200, 5, 715], [87, 81, 16, 104], [38, 307, 593, 197, 207, 2, 488, 786], [62, 14, 14, 717, 2, 315, 3, 51, 117, 314], [55, 6, 530, 77], [47, 6, 962, 467, 359, 128, 6, 22, 441, 187, 63, 1, 16, 115, 8, 229, 1, 185, 6, 30, 9, 644], [8, 411, 43, 6, 6, 235, 10, 20, 96, 130, 25, 9, 27, 152], [1, 554, 6, 355, 379, 71, 149, 175], [17, 3, 62, 430, 526, 34, 25, 1, 31, 30, 14, 21], [487, 6, 14, 329, 151, 52, 648, 1, 31, 224, 809, 948], [46, 147, 6, 55], [44, 40, 102, 17, 19, 123, 412], [96, 170, 38, 74, 2, 79, 10], [22, 3, 65, 9, 357], [132, 46, 1, 373, 53, 54, 3, 780, 1, 60, 467], [14, 125, 878], [22, 3, 133, 467, 22, 3, 461, 122, 3, 101, 19, 305, 1, 128, 13, 265, 1, 67, 3, 4, 459, 2, 134, 3, 300, 50, 5, 899, 459, 459], [430, 29, 342, 505, 555, 486, 612, 48, 501, 20, 84, 506, 502, 319, 73, 532, 2, 929, 140], [57, 167, 440, 47, 22, 3], [261], [3, 22, 302, 76, 89, 695, 220, 76, 228, 3, 53, 2, 162, 52, 118, 14, 8, 16, 50, 4, 700, 308], [145, 209, 5, 7, 706, 148, 270], [58, 2, 11, 80, 12, 78, 178, 63, 1, 468, 26, 194, 10], [33, 46, 549, 14, 180, 1, 56, 20, 283, 103, 249, 24, 1, 6, 250, 56, 883, 180, 6, 149, 25, 139], [189, 4, 348, 157, 153, 27, 4, 153, 665, 538], [147, 647, 8, 494, 178, 662, 883, 494, 413, 20, 383, 24, 1, 554, 119, 25], [27, 10, 9, 4, 307], [200, 25, 696], [297, 40, 466, 49, 7, 82, 17, 2, 49, 2, 406, 22, 3, 32, 80, 62, 190, 2, 730, 9, 104, 23, 629, 49, 2, 418, 211, 419, 687, 28, 101, 216, 9], [28, 3, 106, 67, 10, 11, 143], [954, 197, 146], [46, 24, 96, 10, 335, 124, 970, 6, 58, 1, 74, 20], [282, 77, 582, 20, 152, 63, 6, 277], [], [94], [48, 186, 27, 764, 37, 114, 550, 48, 252, 584, 262, 48, 16, 667, 18, 27, 16], [363, 39, 442, 8, 23, 23, 23, 971, 1, 108, 254, 257, 30, 65, 197, 10], [309, 11, 568, 62, 3, 92, 44], [26, 17, 4, 232, 66, 83, 1, 69, 3, 23], [4, 286, 30, 862, 15, 163, 401, 249, 43, 632, 511, 401, 249, 126, 410, 9, 831, 247, 740], [273, 232, 229, 20, 20, 11, 18, 20, 192, 809, 20, 9, 239, 608], [11, 781, 1, 185, 3, 54, 803], [54, 3, 163, 47, 22, 3], [776, 44, 29, 95, 37, 4, 48, 495, 736, 15, 36, 68, 176, 2, 55, 187, 377, 30, 4, 495, 253, 202, 43, 125, 732, 264, 825, 377], [291, 38, 125, 31, 50, 21, 18, 9, 126], [64, 23, 40, 600, 83], [24, 40, 475, 62, 85, 275, 627], [70, 776, 9, 804, 666, 21, 208], [1, 60, 116, 47, 22, 3], [132, 129, 147, 6, 104], [240, 741, 624, 738, 21, 23, 73, 10, 45, 6, 331, 34, 6, 28, 69, 954, 398], [1, 5, 103, 95], [1, 59, 34, 14, 174, 35, 441, 12, 3, 2, 16, 823, 824, 7, 191, 130, 53, 19, 249, 22, 25, 5, 293, 9, 75, 111, 84, 109, 19, 42, 41, 8, 184, 7, 19, 3, 53, 61, 4, 24, 1, 386, 2, 435, 88, 187, 71, 187, 23, 12, 10, 2, 194, 50, 3, 8, 25, 190, 56, 19], [75, 4, 884, 214, 1, 60, 2, 3, 19, 15, 13, 463, 38, 3, 22, 342, 37, 4, 579, 153, 16], [946, 168, 604, 20, 5, 37, 471, 896, 6], [832, 115, 39, 115, 1, 551, 39, 78, 24, 5, 242, 8, 263, 1, 102, 129], [111, 17, 4, 18, 5, 15, 5, 127, 829, 326, 50, 5, 178, 7, 429, 50, 5, 44], [657, 657, 297, 297, 615, 615], [240, 11, 69, 47, 504, 19, 66, 1, 284, 13, 129, 7, 265, 176, 7, 128, 19, 3, 162, 113, 305, 1, 185, 3, 781, 4, 459], [517, 273, 57, 34, 31, 3, 9, 102, 3, 479, 765, 661, 46, 24, 82, 3, 32, 55], [742, 20, 688, 6, 104, 48, 55, 96, 10, 55, 1, 16, 94, 94, 96, 6], [71, 4], [57, 11, 69, 47, 22, 83, 1, 128, 13, 57, 7, 419, 17, 113, 1, 512, 7, 185, 3, 176, 4, 459, 50, 5, 899], [927, 6, 9], [869, 1, 243], [87, 168, 154, 178, 527, 207, 32, 62, 44, 43, 151, 32], [33, 32, 80, 24, 25, 180, 223, 349, 403, 2, 3, 104, 896, 526, 7, 281], [106, 102, 68, 10, 1, 17, 321, 587, 2, 144], [92, 325, 65, 34, 3, 638, 742, 3, 31, 30, 14, 191, 17, 4, 283], [54, 84, 6, 10, 12, 354], [8, 65, 277, 693, 8, 230, 12, 26, 3, 30, 107, 668, 50, 13, 151, 226], [24, 1, 17, 2, 1, 56, 2, 17, 69, 7], [87, 81, 16, 104, 9, 290, 107, 217, 2, 106, 16, 42, 41], [98, 741, 122, 10, 168, 34, 218], [47, 26, 3, 336, 49, 2, 82, 18, 13, 787], [138, 47, 8, 4, 705, 56, 3], [161], [97, 155, 99, 5, 484, 173, 900, 37, 901, 15, 3, 28, 101, 44, 2, 124, 400, 2, 155, 14, 7, 55, 113, 173, 173, 900], [28, 3, 36, 58, 9, 12, 4, 469, 109, 1, 70, 3, 2, 82], [38, 18, 5, 136, 80, 23, 34, 25, 12, 5, 314, 5, 174, 17, 105, 215], [98, 8, 290], [788, 58, 601, 29, 48], [261, 5, 213, 63, 6, 149, 6, 476, 10, 408, 992, 34, 1, 476, 6, 213, 3, 26, 69, 10], [476, 13, 16, 648, 1, 59, 32, 185, 6, 244, 183, 12, 6, 2, 58, 80, 33, 23, 83], [581], [64, 32, 42, 41, 2, 20], [71, 8, 65, 3, 16, 7, 164, 130], [11, 266, 634, 32, 2, 49, 414, 7, 2, 24, 14, 259, 35, 12, 158, 40, 141, 30, 621], [19, 47, 174, 3, 56, 2, 35], [47, 248, 496], [46, 1, 26, 6, 53, 1, 62], [34, 1, 25, 290, 119, 51, 627, 55, 81, 49, 80, 77, 34, 119, 250, 224, 56, 972, 137, 46], [321, 28], [51, 567, 232, 103, 7, 5, 64, 217, 1, 28, 170, 2, 8, 3, 9, 714], [108, 1, 341, 17, 2, 155, 14, 4, 185, 60, 547, 55, 17, 32, 480, 39, 387, 217], [6, 336, 299, 10], [45, 8, 445, 127, 31, 3, 536, 592, 5, 56, 7, 5, 484, 26, 3, 17, 4, 852, 56, 222, 9, 5, 445, 51, 567, 249, 22, 417], [546, 29, 20, 43, 114, 378, 30, 124, 203, 18, 29, 115, 18, 5, 220, 142, 12, 675], [1, 172, 113], [12, 107, 555, 424, 849, 17, 3, 105, 40, 28, 92, 255, 16, 48, 850, 27, 68, 88], [19, 66, 119, 144, 119, 786, 29, 488, 32, 8, 14, 366, 488, 26, 119, 560, 47, 123, 8, 4, 488, 786], [720, 933, 25, 9, 448, 62, 406, 34, 150, 276, 364, 40, 494, 17, 2, 101, 14], [272, 287, 15, 152, 2, 315, 211], [6, 92, 72, 2, 5], [82, 3, 55, 481, 51, 109], [8, 19, 8, 25], [90, 11, 172, 717, 4, 7, 340, 266, 259, 172, 70, 113, 23, 386, 18, 863, 81, 96, 3, 45, 111, 53, 12, 196], [870, 77, 71, 235, 20, 49, 147, 83, 883, 23, 315, 861, 77, 1, 6], [1, 102, 503, 552, 973, 6, 1, 658, 900, 159, 14, 10, 19, 6, 102, 193, 510, 2, 86, 10], [21, 265], [1, 70, 2, 62, 2, 32, 42, 483, 41, 23, 3, 58, 2, 442, 32, 381], [127, 22, 3, 16, 10], [98, 741, 168, 18, 168, 257, 192, 44, 5, 20, 527, 106, 58, 44, 69, 954], [33, 80, 11, 69, 34, 13, 92, 686, 459], [25, 472, 2, 26, 194], [26, 40, 17, 107], [26, 6, 92, 17, 7, 4, 40, 231], [833, 8, 824, 55, 824, 8, 5, 241, 15, 833], [788, 75, 248, 75, 6, 56, 38, 20, 655, 6, 28, 201, 67, 20, 718, 73, 316, 2, 825], [62, 24, 62, 20, 77, 78, 576, 8, 361, 723, 94, 150, 242, 8, 77, 394, 33, 260, 634, 11, 488, 21], [133, 103, 258, 440], [592, 44, 11, 949, 412, 11, 115, 32, 80, 7, 36, 577, 29, 428, 128, 3, 22, 57, 17, 4, 116, 393], [176, 1, 815, 3], [8, 13, 145, 23, 529, 1, 164, 3, 32, 974], [372, 3, 22, 342, 4, 372, 16, 382, 580, 317], [201, 34, 71, 11, 266, 71, 8, 4, 16, 130, 21], [9, 45, 26, 3, 230, 1, 108, 504, 88, 2, 445, 27], [183, 1, 31, 58, 52, 42, 41, 208], [762, 5, 127, 5, 332, 15, 658, 8], [62, 147, 1, 2, 688, 1, 514, 119, 9, 996, 1, 577, 4, 24, 56, 25, 273, 232], [808, 29, 342, 555, 15, 486, 612, 27, 486, 271, 20, 506, 319, 532, 2, 929, 140], [8, 163, 9, 404, 71, 8], [34, 71, 600, 71, 31, 30, 305, 9, 307, 317, 71, 17, 116, 7], [3, 17, 188, 4, 271, 348, 157, 27, 4, 602, 153, 2, 131, 718, 153, 16, 89, 214, 220, 941, 18, 390, 391, 562], [36, 62, 289], [84, 6, 945, 9, 34, 40, 164, 40, 28, 49, 20, 11, 311], [11, 853, 19, 693, 8, 230, 12, 51, 242, 23, 14, 31, 35, 230, 12, 3, 107, 136, 16, 7, 14], [132, 1, 59, 15, 604, 32, 388, 364, 38, 2, 49, 32, 166, 364, 28, 2, 43, 581, 77, 6, 16, 10, 45, 301], [180, 1, 70, 14, 2, 35, 13, 217], [371, 44, 4, 7, 6, 7, 5, 71, 39, 266, 8], [127, 22, 3, 1, 231, 15, 3, 53, 1, 74, 3], [46, 38, 956, 101, 29, 63], [236, 36, 853, 533], [8, 5, 2], [163, 321, 55, 6, 25, 306, 354, 682, 216], [46, 47, 3, 110, 122, 3, 16], [868, 23, 47, 59, 151, 83], [324, 297, 1, 13, 3, 22, 173, 495], [152, 9, 127, 30], [487, 3, 7, 76, 5, 136, 1, 36, 815], [1, 183, 43, 119, 85, 296, 933], [51, 31, 35, 129, 9, 4, 307], [55, 250, 77], [395, 257, 35, 109, 12, 4, 452, 82, 3, 104, 211, 42], [189, 5, 7, 5, 651, 15, 5, 541, 205, 91, 551, 205, 975, 325, 2, 35, 5, 213], [98, 109, 171, 1, 17, 5, 281, 591, 88, 220, 76, 7], [179, 132, 3, 62, 4, 266, 12, 5], [240, 47, 6, 163, 54, 6, 105, 44, 20, 45, 31, 6, 192, 52, 15, 5, 180, 1, 31, 74, 2, 2, 210, 44, 5, 806, 101, 193, 240], [110, 29, 319, 43, 506, 486, 768, 31, 192, 18, 15, 4, 868, 936, 45, 59, 343, 73, 551, 2], [3, 172, 373, 30, 778, 98, 98, 98, 98, 98], [57, 281, 31, 26], [132, 146, 46, 81, 134, 196, 19, 1, 26, 901, 15, 151, 5, 66, 62, 4, 169, 83, 7, 8, 94, 23, 19, 141, 169, 255, 14], [46], [168, 36, 54, 13, 163, 146, 21], [158, 1, 62, 4, 37, 64, 6, 7, 34, 33, 508, 169], [160, 1, 60, 25, 72, 2, 23, 1, 28, 58, 6, 16, 10, 96, 10, 127, 7, 45, 2, 58, 160], [314, 77, 6, 306, 354, 21], [272, 183, 43, 10, 9, 565, 1, 331, 544, 205], [1, 204, 210, 5, 115, 146, 21, 97, 67, 4, 142], [6, 53, 47, 2, 582, 12, 4, 530, 9, 11, 530], [316, 57, 167, 128, 3, 135, 4, 57, 393, 1, 366, 2, 191, 3, 53, 19, 1, 59, 472, 2, 42, 41, 50, 11, 499, 71, 149, 71, 174, 134, 5, 976, 696, 76, 39, 8, 92, 361, 7, 1, 59, 951, 3, 174, 255, 26, 17, 4, 57, 66, 895], [657, 1, 144, 19, 1, 36, 288, 777, 194, 362, 136, 6, 1, 102, 56, 20, 35, 1, 19, 12, 9, 5, 697], [33, 257, 16, 3, 32, 56, 42, 41, 40, 22, 25, 25, 962, 39, 346], [46, 283, 2, 26, 112, 332, 719, 9], [814], [622, 23, 47, 26, 3, 5, 585, 5], [3, 17, 188, 114, 424, 157, 27, 4, 20, 424, 153, 2, 131], [189, 40, 17, 4, 747, 886, 175, 188, 124, 923, 125, 212, 23, 181, 124, 18, 29, 95, 27, 691, 140, 189, 253, 202], [299, 283, 677, 2, 101, 5, 15, 4, 19, 598, 52, 15, 29, 256, 7, 834, 29, 234, 380, 4, 266, 8, 109, 2, 977], [1, 14, 6, 273, 246, 512, 44, 23, 246], [6, 512, 44, 148, 420, 43, 150, 137, 361, 232], [925, 26, 3, 30, 5, 225, 143, 31, 35, 9, 65], [808, 29, 342, 550, 15, 612, 27, 271, 48, 501, 20, 752, 319, 73, 532, 2, 929], [597, 43, 9, 74, 978, 18, 29, 463, 96, 29, 73, 203, 2, 597, 12, 27, 635, 12, 20], [712, 5, 241, 118, 8, 664, 289, 12, 216], [946, 137, 34, 3, 28, 36, 500, 27, 27, 190, 261, 394, 4, 401, 125, 338, 157], [28, 3, 191, 10, 53, 426, 15, 710, 45, 6, 162, 52, 180, 33, 25, 9, 27, 710, 171], [116, 668, 16, 2, 131, 13, 271, 348, 157, 27, 602, 486, 403, 2, 4, 304, 798, 21], [24, 11, 589, 25, 12, 194, 21, 60, 9, 357, 25, 207, 2, 80, 12, 24, 38, 78, 366, 10, 7, 156, 25, 277, 14, 626, 10, 224, 56], [38, 33, 25, 257, 35, 472, 2, 139, 246, 81, 35, 80, 9, 4, 307, 704, 406, 54, 22, 5, 926], [5, 330, 8, 261, 9, 24, 9, 111, 259, 36, 1, 344, 16, 3, 21], [293, 979, 386, 4, 568, 55], [129, 33, 257, 331, 11, 21, 17, 4, 57, 265, 117], [155, 4, 471, 111, 108, 7, 1, 291, 107, 266, 15, 728, 7, 51, 19], [590, 81, 82, 3, 9, 4, 274], [709, 40, 204, 82, 34, 40, 28, 439, 7, 27, 384, 70, 677, 63], [110, 127, 3, 31, 35, 45, 1, 355, 65], [108, 3, 184, 5, 68, 2, 5, 80, 115, 19, 204, 425, 34, 3, 92, 70, 2, 67, 14, 225, 143, 8], [5, 865, 8, 56, 4, 552, 50, 11, 311, 769, 530, 146, 76, 14, 548, 944, 32, 7, 3, 17, 2, 101], [138, 36, 624, 438, 317, 15, 89, 1, 69, 14], [10, 172, 85, 1, 224, 518, 117, 183, 547, 117, 110], [132, 8, 39, 5, 213, 63, 6, 280, 567, 688, 15, 535], [10, 265, 265], [34, 78, 28, 26, 14, 6, 139, 28, 26, 14, 34, 28, 26, 14, 6, 409, 26, 14, 34, 78, 28, 26, 14, 191, 130, 26, 14, 34, 28, 26, 14, 230, 14, 7, 708, 34, 78, 28, 26, 14, 86, 130, 163, 14, 34, 28, 26, 14, 134, 4, 14], [129, 1, 874, 696, 75, 1, 37, 178, 117, 23, 111, 135, 2, 165, 15, 10], [684, 168, 705, 229], [37, 5, 334, 8, 458, 6, 505, 189, 27, 789, 399, 37, 118, 8, 721, 2, 6, 8, 34, 6, 789, 6, 789, 34, 6, 189, 6, 92, 789], [3, 288, 17, 2, 96, 10, 19, 21, 33, 685, 585, 431, 72, 2, 86, 51, 13], [28, 6, 396, 43, 10, 9, 85, 1, 62, 281, 475, 331, 275], [55, 194, 278], [1, 368, 14, 8, 531, 6, 43, 190, 417], [96, 3, 54, 34, 3, 134, 4, 401, 7, 14, 59, 2, 669, 2, 118, 139, 123, 12, 5, 350, 15], [56, 3, 835, 190, 2, 26, 242, 338, 669, 116, 305], [47, 58, 1, 147, 119, 328, 1, 786, 11, 488], [132, 19, 59, 4, 995, 142, 1, 286, 3, 67, 19, 2, 10], [328, 137, 32, 1, 475, 836, 20, 786, 275, 872], [742, 24, 464, 47, 123, 3, 546, 159, 13, 69, 2, 228, 19, 123, 14, 31, 525, 45, 111, 230, 3, 27, 3, 30, 517], [28, 3, 97, 67, 10, 19, 779, 241, 9], [46, 1, 835, 433, 78, 219, 854, 61, 18], [111, 22, 36, 539, 14, 458, 2, 435, 88, 1, 17, 42, 41, 2, 144, 24, 1, 28, 435, 88, 861, 3, 30], [657, 6, 369, 23, 367], [272, 902, 180, 1, 494, 1, 62], [8, 19, 47, 3, 225, 241], [38, 242, 720, 5, 8, 18, 13, 33, 23, 990, 1, 169, 288, 413, 13, 546, 3], [48, 385, 68, 213, 2, 12, 4, 635, 27, 68, 30, 2, 12, 4, 464, 203, 255, 264, 154, 333, 48, 513, 22, 2, 73, 86], [138, 82, 236, 25, 18, 5], [126, 837, 4, 363, 59, 835, 18, 42, 483, 41, 42, 41, 473, 114, 225, 451, 366, 903, 20, 903, 618, 166, 451, 316, 1, 59, 611, 45, 5, 599, 226, 43, 1, 59, 205, 1, 59, 805, 285, 311, 1, 207, 20, 126, 829, 427, 282, 40, 207, 20, 327, 436, 40, 207, 20, 4, 903, 126, 14, 91, 37, 743, 34, 6, 84], [3, 392, 359, 1, 28, 92, 380, 170], [234, 888, 4, 570, 686, 451, 24, 5, 64, 78, 451], [799, 154], [4, 353, 960, 4, 904, 71, 399, 93, 373, 291, 71, 399, 99, 838, 199, 126, 353, 836, 20, 126, 904, 63, 4, 59, 126, 904, 14, 59, 79, 20, 830, 126, 359, 126, 353, 56, 94, 99, 93, 422, 6, 503, 23, 801, 810, 126, 353, 8, 126, 757, 15, 11, 94, 126, 359, 89, 94, 15, 126, 613, 1, 48, 659, 126, 247, 740], [101, 4, 736, 7, 67, 14, 2, 10], [22, 3, 9, 418, 39, 8, 273, 417], [171, 12, 209, 105, 298, 2, 96, 19], [45, 6, 22, 9, 69, 114, 6, 56, 20, 6, 30, 127, 6, 82, 5, 241, 15, 13, 166, 6, 534, 30, 698, 45, 13], [90, 92, 22, 3, 686, 10], [240, 39, 826, 217, 1, 108, 1, 17, 836, 2, 181, 39, 19, 151], [22, 3, 92, 279, 5], [49, 661, 356], [328, 978, 38, 633, 540, 71, 149, 322, 498], [200, 85, 84, 42, 41], [980, 717, 2, 53, 127, 3, 32], [6, 611, 21, 27, 3, 72, 2, 101, 270, 1, 62, 152, 10, 498, 997, 94, 77], [174, 30, 88, 2, 3, 419, 25, 83, 24, 1, 243, 130, 3, 28, 35, 225, 816, 9, 5, 216, 9, 279, 71, 12, 498, 3, 7, 3, 30, 4, 786, 27, 6, 12, 4, 127, 6, 238, 12, 7, 71, 722, 193, 15, 5, 976, 6, 192, 212, 479], [22, 6, 277, 2, 5, 80], [24, 81, 192, 72, 20, 565, 18, 11, 744, 74, 20, 101, 692], [122, 6, 62, 19, 613], [61, 4, 2, 5, 540, 14, 36, 3, 173, 975, 2, 540, 13], [207, 801, 110, 101, 193], [28, 1, 164, 119, 32, 205, 75, 43, 127, 18, 127, 119, 235, 20, 9, 77], [360, 3, 50, 51, 63, 37, 4, 48, 830, 694, 112, 49, 2, 732, 18, 905, 2, 86, 567, 91, 86], [138, 71, 8, 169, 116, 243, 276, 154, 9, 334, 173, 2, 30, 52], [1, 60, 9, 85, 358, 3, 600, 50, 427, 16, 10], [23, 45, 3, 257, 30], [487, 3, 23, 123, 45, 40, 676, 7, 40, 373, 30, 5, 15, 13, 779, 128, 3, 22, 57, 3, 132, 40, 22, 245, 2, 313, 39, 8, 5, 142, 1, 184, 317, 906], [846, 324, 265, 1, 341, 17, 4, 605], [790, 83, 1, 60, 246, 12, 42, 483, 41, 208], [28, 1, 106, 58, 44, 21, 418, 34], [1, 100, 70, 2, 454, 36, 144, 54, 557], [177, 839, 15, 182, 210, 12, 89, 44, 215, 19, 8, 4, 205, 953, 251], [132, 171, 4, 312, 1, 148, 20], [192, 46, 77, 420], [24, 1, 344, 35, 48, 239, 393], [1, 28, 165, 223, 24, 469, 25, 4, 312, 9, 981, 15, 44, 109], [1, 144, 38, 75, 71, 8, 4, 363, 7, 1, 224, 609, 12, 130, 23, 1, 31, 49, 7, 1, 36, 453, 3, 2, 53, 1, 174, 395, 35, 799, 246, 362, 13, 117], [466, 1, 58, 2, 30], [652, 18, 11, 837, 23, 1, 204], [145, 54, 63, 8, 13, 578, 18, 710, 40, 49, 12, 18, 710], [43, 9, 74, 978, 18, 29, 463, 96, 29, 73, 203, 2, 597, 12, 27, 635, 12, 20], [283, 2, 26, 190, 110, 3, 777, 190, 12], [25, 196, 1, 19, 68, 24, 145, 219, 393], [156, 1, 58, 9, 390, 3, 263], [46, 8, 107, 407, 2, 6, 973, 130], [36, 58, 80, 1, 102, 70, 6, 2, 35], [125, 263, 22, 882, 9, 13, 847, 21, 16, 7, 439, 56, 336, 156, 25, 114, 628, 469, 114, 39, 517, 233], [416, 81, 190, 2, 315, 139, 68, 10, 45, 254, 88, 32, 714], [670, 37, 11, 178, 22, 496, 2, 4, 907, 447, 34, 13, 143, 106, 16, 2, 131, 13, 907, 447], [39, 8, 29, 421, 540, 114, 20, 166, 43, 205, 285, 282, 436, 381, 42, 41, 107, 143, 1, 31, 96, 29, 421, 60, 267, 91], [1, 204, 210, 5, 115, 146, 21, 97, 67, 4, 142], [98, 741, 1, 128, 3, 135, 4, 232, 117, 1, 284, 1, 135, 58, 204, 183, 2, 82, 3, 69, 1, 70, 776, 7, 1, 70, 4, 388, 363], [34, 40, 830, 14, 229, 3, 28, 967, 9, 37, 10], [57, 167, 519, 16, 10, 316], [309, 3, 336, 352, 932, 52, 47, 123, 40, 74, 12, 7, 1, 22, 298, 2, 932, 52, 47, 123, 40, 28, 18], [581], [328, 379], [90, 1, 82, 3, 90, 127, 22, 3, 21], [46, 1, 172, 235, 20, 413, 150, 381, 729, 546], [2, 35], [106, 16, 89, 214, 220, 941, 18, 390, 75, 3, 17, 188, 4, 271, 348, 157, 27, 538, 153], [708, 179, 1, 476, 89, 568, 178, 112], [938, 3, 7, 13, 589, 939, 252, 7, 133, 103, 258, 9], [1, 59, 9, 5, 45, 6, 366, 145, 4, 32, 82, 33, 25, 791, 281, 56, 19, 384, 557], [19, 59, 23, 605], [67, 10, 13, 566, 7], [309, 3, 257, 92, 35, 9, 160, 83, 33, 298, 2, 30, 4], [38, 926, 275, 54, 22, 3, 163], [11, 812, 11, 11, 222, 94, 11, 51, 819, 7, 1, 59, 267, 18, 5, 810], [566, 17, 2, 322, 24, 469, 64, 56, 114, 665, 412], [127, 122, 6, 49, 11, 115, 8, 257, 3, 17, 2, 536, 9, 109], [1, 2, 155, 18, 39, 350, 332], [341, 347, 4, 322, 50, 35], [1, 102, 503, 552, 973, 6, 1, 658, 900, 159, 14, 10, 19, 6, 102, 193, 510, 2, 86, 10], [33, 438, 682, 11, 744, 433, 559, 23, 6, 235, 20, 164, 10, 43, 354, 32, 527, 4, 25], [28, 119, 67, 10, 4, 15, 85], [97, 93, 888, 2, 376, 900, 27, 93, 31, 125], [3, 276, 413, 54, 3, 144, 648, 1, 30, 75, 4], [33, 305, 56], [97, 49, 65, 83, 42, 41, 1, 100, 70, 107], [11, 162, 43, 10, 78, 77, 1, 287, 225, 1, 475, 165, 99, 275, 96, 6, 559, 1, 165, 99], [1, 62, 13, 88, 26, 3, 17, 107, 9, 370], [147, 9, 39, 30, 114, 48, 36, 546, 121, 571, 43, 282, 887, 147, 175, 147, 91, 43, 963, 735], [6, 44, 9, 433, 334, 64, 217, 219, 37, 94, 312, 508], [168, 381], [265, 60], [3, 277, 80, 390, 289, 146, 1, 74, 2, 151, 52, 7], [6, 17, 4, 757, 118, 8, 411, 20, 134, 206, 37, 6, 162, 52, 118, 111, 84, 860, 118, 758, 29, 23, 278, 16, 18], [46, 19, 174, 192, 792, 34, 6, 84, 196, 108, 79, 471, 6, 70, 2, 26, 9, 52, 79, 44, 2, 6, 471, 79], [38, 407, 292, 2, 3, 104], [65, 78, 137, 124, 6, 9, 5, 15], [30, 5, 33, 109], [47, 84, 119, 72, 2, 67, 14, 2, 10], [1, 31, 355, 29, 80, 9, 42, 41, 389], [46, 147, 236], [71, 149, 19, 71, 135, 4, 146, 45, 71, 577, 6, 199, 3, 174, 35, 5, 213, 50, 24, 108, 47, 123, 3, 231, 12], [47, 58, 14, 722, 23, 401, 63, 12, 4, 118, 8, 15, 5, 2, 4, 118, 717, 2, 536, 52, 51, 117], [240, 158, 209, 36, 62, 52, 15, 5, 7, 74, 2, 26, 11, 488, 23, 81, 58, 44, 45, 33, 260, 158], [60, 64, 12, 57, 95, 450], [68, 10, 45, 254, 109], [134, 19, 166, 43, 252], [626, 249, 128, 626, 249, 151, 69, 626, 249, 570, 259, 3, 17, 51, 39, 826, 939, 826], [38, 10, 33, 9, 5, 267, 357], [158, 9, 71, 36, 422, 34, 40, 194, 56, 124, 400, 906, 45, 7, 47, 123], [100, 3, 53, 39, 8, 5, 671, 63, 93, 120, 135, 56, 19, 23, 181, 1, 15, 54, 93, 315, 7, 122, 5, 66, 197, 27, 34, 194, 5, 66, 197, 23, 19, 40, 28, 35, 196, 61, 321], [123, 329, 21, 171, 179], [87, 81, 16, 104], [1, 243, 99, 1, 135, 4, 239, 112, 93, 758, 33, 257, 1, 243, 99, 61, 36, 4, 322, 321, 2, 35, 947, 79, 24, 93, 288, 889], [1, 284, 249, 227, 1, 982, 45, 1, 31, 35, 472, 2, 546, 3, 47, 123, 1, 3, 97, 5, 38, 408, 10, 106, 7, 162, 249, 2, 79, 1, 69, 3], [128, 3, 22, 25], [476, 16, 567, 366, 24, 412, 38, 142], [90, 1, 31, 155, 11, 426], [178, 325, 131, 29, 665, 15, 891, 612, 83, 68, 575, 2, 21, 734, 735, 95, 175, 303, 734, 825, 953, 264], [622, 103, 220, 304, 776, 397, 218, 18, 13, 463, 82, 5, 653, 304, 18, 29, 115, 43, 426, 68, 2, 2, 67, 86, 2], [132, 122, 3, 650, 372], [64, 135, 13, 95, 3, 22, 2, 553, 2, 5, 320, 576, 372, 95, 12, 48, 16, 5, 95, 553, 253, 48, 18], [28, 33, 48], [33, 25, 196, 34, 61, 92, 696, 491], [132, 1, 422, 12, 432, 270, 101, 193, 119], [47, 58, 6, 62, 321, 2, 26], [90, 96, 10, 194, 79, 3], [444, 586, 192, 578, 77, 180, 1, 49, 565, 114], [11, 402, 8, 7, 38, 8, 5, 839, 8, 28, 3, 91, 2, 928, 209, 184, 39, 2, 5, 146, 330], [395, 4, 898, 593], [65, 8, 366, 219, 31, 503, 408, 9, 742, 3, 28, 280, 19, 2, 5, 417, 9, 7, 155, 14, 2, 575], [240, 36, 62, 109, 965, 353, 61, 4, 314, 136, 61, 1, 31, 181, 3], [490, 40, 141, 49, 199], [87, 1, 204, 101, 13, 16, 146, 21, 14, 23, 19, 65, 84, 26, 152, 3, 70, 93, 28, 58, 7, 349, 30, 99, 7, 35, 472, 2, 7, 17, 193, 33, 908, 414, 12, 5, 146, 12, 99, 23, 36, 155, 10, 547, 693, 167, 324, 45, 1, 344, 82, 5, 330, 19, 28, 10, 2, 5, 146], [720, 23, 971, 1, 554, 6, 355, 314, 906, 379, 6, 20, 125, 317, 64, 1, 43, 125, 443], [8, 851, 2, 53], [40, 17, 51, 23, 25], [106, 18, 767, 603, 50, 739, 2, 7, 199, 50, 2, 739, 18, 957, 603, 1, 148, 82, 9, 584, 38, 696, 1, 70, 2, 541, 834], [499, 207, 52, 902], [1, 672, 175, 108, 23, 3, 102, 74, 2, 35, 72, 52, 19, 246, 18, 4, 445, 117, 45, 5, 78, 289, 3, 17, 8, 5, 78, 3, 476, 178, 7, 395, 4, 540, 9, 18, 693], [36, 310, 11, 422, 54, 1, 59, 44, 2], [948, 135, 410, 63, 305, 778], [189, 4, 164, 37, 43, 6, 27, 4, 111, 22, 908, 18, 54, 114, 20, 166, 68, 114, 20, 27, 166, 2, 391, 68], [1, 554, 6, 766, 180, 855, 144, 6, 58, 414, 15, 719, 40, 232, 152, 40, 369, 207, 396, 32, 771], [23, 85], [272, 144, 524, 56, 376, 1, 250, 182, 528, 902, 383], [168, 257, 185, 6, 23, 123], [47, 314, 120, 14, 105, 548, 3, 440], [8, 169, 57, 312, 15, 575, 7, 8, 57], [57, 167, 11, 781, 460, 511, 11, 495, 21, 54, 26, 3, 26, 26, 3, 108, 15, 10, 26, 3, 937, 10, 26, 3, 74, 10], [138, 467, 40, 28, 51, 5, 15, 5], [461, 610, 500, 14, 2, 3, 82, 3, 9, 56, 42, 41, 262], [201, 6, 100, 30, 9, 452, 36, 727, 130, 358, 27, 7, 36, 727, 225, 659, 100, 147, 7, 777, 14, 36, 100, 91], [507, 717, 2, 53, 127, 5, 470, 3, 22], [282, 9, 11, 334, 3, 29, 29, 300, 29, 29, 462, 29, 237, 7, 333, 29, 792, 556, 57, 167, 110], [62, 54, 14, 722, 20, 101, 410, 9, 5, 9, 6, 28, 37, 68, 2, 82, 27, 253, 202, 35, 6], [33, 862, 15, 37, 3, 79, 39, 112, 154, 112, 26, 54, 3, 70, 7, 50, 21, 18, 81, 26, 5, 293], [19, 40, 141, 169, 283, 2, 82, 34, 646, 587, 28, 35, 89, 573, 197, 40, 2, 4, 490], [1, 62, 221, 1, 44, 187, 20, 593, 2, 82, 34, 11, 453, 2, 58, 9, 1, 479, 79, 130, 45, 61], [181, 29, 9, 29, 256], [116, 17, 4, 568, 100, 51], [542, 304, 16, 21, 36, 251, 208, 725, 456, 423, 8, 4, 623, 446, 16], [78, 15, 5, 9, 44, 694, 19, 510, 4, 167], [133, 27, 609, 78, 217, 79, 8, 61, 38, 125, 57, 167], [56, 44, 362, 225], [114, 421, 20, 523, 421, 166, 421, 43, 421, 205, 421, 285, 421, 282, 421, 436, 421, 381, 421, 42, 41, 421], [652, 325, 131, 29, 665, 15, 891, 612, 83, 68, 138, 2, 21, 734, 735, 95, 175, 303, 734, 825, 953, 264], [82, 1, 286, 14, 51, 834], [120, 149, 4, 28, 165, 125, 975, 338, 4, 363, 28, 551, 21, 3, 53, 156, 51, 15, 216, 22], [198, 13, 95, 143, 120, 105, 342, 37, 4, 602, 579, 748, 153, 16, 50, 700, 308, 571, 840, 64], [39, 142, 8, 50, 4, 116, 9, 966, 114, 26, 25, 606, 14, 920], [16, 2, 5, 143, 219, 8, 696, 9, 7, 165, 2, 5, 16, 2], [2, 131, 29, 294, 67, 4, 630, 2, 18, 216, 202, 456, 423, 893, 767, 86], [98, 176, 168, 32, 80, 21, 337, 26, 190, 654], [158, 684, 179], [13, 79, 10, 114, 215, 20, 166, 43, 205, 285, 282, 25, 436, 381, 656, 97, 91], [23, 469, 4, 666, 19, 598, 37, 5, 336, 137, 65, 23, 111, 28, 486, 831], [1, 28, 67, 3, 4, 736, 34, 3, 56], [9, 29], [54, 63, 3, 15, 604], [1, 13, 103, 311], [145, 176, 11, 266, 135, 2, 92, 44, 12, 4, 691], [55, 6, 329, 49, 221, 250, 6, 379, 6, 512, 44, 55, 121, 10, 77], [1, 19, 39, 124, 540, 15, 11], [434, 146, 441, 171], [42, 41, 22, 3, 72, 2, 30, 19], [106, 16, 75, 65, 8, 124, 198, 142, 267, 12, 3], [180, 855, 144, 119, 883, 23, 1, 165, 119], [38, 361, 711, 5, 103, 219, 8, 172, 859, 18], [672, 38, 85, 712, 3, 386], [97, 88, 34, 124, 713, 19, 1, 17, 28, 35, 12, 10, 2, 49, 88, 2], [6, 20, 16, 2, 131, 538, 153, 6, 17, 20, 807, 51, 29, 95, 426, 5], [1, 102, 53, 6, 7, 6, 102, 53, 10, 67, 218, 2, 636, 21, 7, 162, 694, 242, 64, 195, 121, 755, 756, 643, 983, 269, 497, 27, 215], [48, 333, 112, 501, 20, 43, 4, 325, 20, 189, 923, 27, 909, 157, 187, 377, 73, 2, 303, 140, 584], [96, 170, 5, 279], [9, 290, 85, 1, 31, 16, 3], [619, 116, 22, 3, 80, 21], [36, 945], [6, 38, 29, 4, 44, 21, 146], [34, 1, 1, 70, 6, 2, 17, 51, 11], [8, 9, 89, 357], [129, 55, 3, 17, 4, 116, 393], [3, 534, 522, 14, 24, 137, 464, 137, 793, 91, 507, 21, 2, 249, 19, 31, 13, 291, 50, 64, 73], [261, 173, 3, 18], [8, 7, 259, 35, 93, 30, 739], [925, 52, 65, 5, 723, 228, 108, 9, 15, 6, 113, 127, 52, 65, 127, 588, 58, 464, 159, 367, 588], [98, 65, 29, 726, 117, 105, 910, 20, 5, 218, 73, 218, 2, 636, 21, 195, 755, 756, 643, 983], [138, 24, 3, 22, 5, 7, 5, 403, 212], [42, 41, 9, 24, 25], [1, 355, 80, 94, 379], [67, 10, 143, 97], [261, 5, 136, 3, 141, 536, 132], [61, 297, 24, 135, 2, 101, 229, 23, 481, 257, 182, 12, 130, 7, 730, 14, 229, 32, 225, 226, 104, 211, 89, 651, 8, 4, 3, 62, 510], [38, 1, 780, 5, 8, 5, 293, 19, 42, 41, 32, 42, 41, 39, 445, 8, 169, 17, 3, 600, 13, 310, 61, 417, 7, 17, 3, 836, 34, 3, 22, 163, 15, 445, 27, 34, 769, 36, 26, 5, 999], [3, 12, 518], [397, 569, 74, 255, 675, 253, 202, 27, 16, 3, 409, 35, 264, 569, 32, 140, 253, 202, 313], [65, 22, 248, 779, 96, 10, 5], [237, 866, 543, 8, 437, 50, 322, 130, 52, 574, 237, 866, 682, 43, 38, 67], [145, 84, 119, 92, 498, 209, 624, 5], [221, 28, 255, 29, 139], [47, 123, 14, 31, 391, 251, 350], [145, 97, 1, 70, 2, 30, 232, 175, 12, 11, 232, 11, 8, 42, 41, 90, 255, 97, 1, 31, 126, 724, 181, 10, 374, 20], [337, 26, 113, 126], [110, 22, 3, 698, 1, 59, 608, 110], [7, 460, 13], [87, 490, 100, 53, 47, 1, 514, 201, 154, 10, 87, 128, 3, 336, 135, 432], [272, 273], [214, 226, 1, 731, 6, 316], [137, 92, 25, 387, 7, 39, 63, 1, 172, 614, 19, 59, 5, 5, 997, 8, 42, 41], [179, 3, 514, 14, 911, 138, 81, 500, 14, 9, 176], [158, 34, 244, 26, 14, 1, 231, 419, 165, 223, 4, 274], [34, 254, 92, 44, 419, 230, 5, 822, 724, 23, 1, 28, 30, 865, 45, 1, 30, 88, 56, 71, 243, 10, 2], [89, 238, 621, 7, 182, 4, 15, 984, 34, 40, 189, 1, 30, 42, 41, 6, 30, 42, 41], [90, 81, 101, 193, 15, 14], [790, 83, 1, 60, 246, 12, 42, 483, 41, 208], [236, 111, 22, 129, 7, 265, 572, 201, 93, 361, 7, 29, 627, 109, 61, 139], [87, 81, 16, 104], [316, 1, 60, 267, 12, 13, 545], [46, 55, 1, 58, 94, 210, 6, 32], [176, 54, 22, 3, 163, 127, 22, 3, 118, 22, 3, 800, 2, 26, 3, 108, 15, 10, 22, 3, 302, 4, 57, 353, 22, 3, 415, 10, 26, 3, 69, 10], [17, 3, 13, 308, 2, 976], [129, 260, 7, 374, 236, 51], [33, 7], [93, 74, 107, 540], [58, 2, 10, 13, 163, 14, 199, 72, 362, 13, 7, 10, 3, 22, 539, 10], [261, 339, 1, 149, 137, 392, 376, 51, 150, 53, 6, 152, 6, 163, 21], [57, 473, 11, 781, 47, 504, 19, 109, 7, 65, 66, 122, 3, 30, 19, 903, 22, 3, 92, 52, 7, 79, 1, 512, 7, 185, 3, 176], [106, 628, 50, 150, 299, 12, 827, 56, 237, 678, 299, 13, 37], [198, 40, 22, 298, 2, 206, 6, 670, 319, 351, 19, 3, 17, 188, 4, 602, 153, 271, 16, 50, 700, 308, 131, 571, 840, 64], [71, 8, 4], [1, 60, 83, 97, 181, 31, 292, 104], [581], [68, 2, 2, 82, 391, 195, 269, 398], [240, 50, 360, 12, 114, 48, 2, 607, 668, 7, 585, 388, 48, 425, 7, 854, 428, 91, 138, 981, 365, 140, 360, 253, 202], [966, 17, 2, 101], [76, 5, 705], [261, 54, 1, 69, 2, 454, 273, 82, 3, 55], [679, 6, 152, 63, 6, 235, 10, 20, 58], [122, 3, 82, 19, 963], [1, 53, 3, 22, 24, 204, 93, 174, 17, 105, 7, 61, 34, 93, 722, 510, 2, 99, 99, 31, 7, 34, 3, 155, 99, 21, 93, 31, 36, 61, 4, 93, 120, 219, 515, 9, 4, 307, 317, 14, 31, 86], [84, 6, 196, 841, 19, 57, 36, 135, 4], [13, 502, 297, 463, 513, 22, 301, 2, 788, 39, 704, 103, 513, 114, 791, 811, 20, 166, 100, 945, 125, 675, 9, 94], [33, 9, 4, 647, 16, 10, 43, 152], [1, 16, 3, 104, 102, 17, 455, 34, 237, 10], [236, 14, 457, 4, 452, 906], [6, 84, 139, 123, 721, 2, 11, 256, 34, 6, 49, 552, 1, 31, 35, 519, 536, 37, 10], [279, 984, 43, 285, 940, 11, 745, 8, 279, 10, 170, 18, 434, 349, 435, 11, 715, 70, 20, 49, 73], [7, 154, 751, 58, 80, 50, 19, 306, 2, 11, 134, 10, 354, 7, 255, 10, 30, 301, 12, 11, 543, 22, 3, 196, 13, 301, 12, 19, 794, 15, 161], [58, 2, 10, 146, 21], [31, 6, 164, 29, 880, 212, 8, 29, 229, 20, 4, 326, 20, 162, 52, 48, 73, 76, 29, 150, 507], [3, 28, 245, 249, 3, 70, 2, 380, 104], [209, 243, 130, 19, 209, 14, 19, 141, 1, 583, 651, 14], [158, 11, 52, 15, 418, 24, 263, 223, 1, 53], [416, 82, 3, 9, 4, 274], [46, 57, 55, 1, 104, 58, 162, 119, 147, 726, 1, 243, 119, 2, 49, 861, 104, 101, 331, 119, 38, 125, 199], [87, 516, 1, 207, 2, 575], [1, 287, 77, 24, 444, 28, 30, 984, 4, 25, 152, 6, 163, 21], [33, 549, 130, 21, 383], [1, 243, 6, 376, 33, 362, 421, 21, 24, 1, 169, 56, 150, 413, 6, 180, 137, 6, 420, 43, 509, 376, 260, 83, 33], [24, 1, 679, 62, 56, 43], [38, 24, 5, 771, 28], [30, 301, 12, 42, 41, 15], [133, 103, 258, 11, 110, 699, 1, 169, 26, 185, 3, 36, 62, 13, 143, 7, 836, 2, 67, 3, 39, 68, 938, 3, 64, 895], [59, 622, 2, 82, 19, 142, 23, 45, 84, 6, 591, 642, 110, 54, 445, 7, 152, 84, 29, 926], [30, 215, 109, 3, 22, 25, 13, 136, 52, 15, 39, 346, 9, 4, 643], [328, 33, 92, 306, 549, 11, 11, 155, 10, 4], [166, 3, 17, 13, 95, 795, 313], [90, 90, 47, 8, 13, 782], [54, 13, 386, 12], [46, 1, 30, 29, 121], [790, 11, 23, 60, 18, 230, 83], [103, 497, 37, 11, 699, 7, 225, 589, 629, 386, 2, 164, 239, 112, 22, 3, 301, 2, 35], [54, 26, 6, 70, 45, 1, 58, 88, 4, 570, 75, 4, 15, 11, 256, 12, 3, 324, 54, 1, 31, 155, 24, 64, 2, 11, 451, 15, 11, 35, 19, 7, 82, 38, 78, 28, 155, 3, 19, 100, 16, 10, 1, 31, 183, 537, 1, 58], [324, 297, 127, 141, 1, 842, 18, 3, 27, 9, 3], [90, 252, 120, 4, 375, 160, 167, 24, 431, 32, 89, 226, 211], [179, 38, 6, 28, 10], [378, 131, 29, 665, 15, 891, 612, 68, 138, 2, 21, 734, 735, 95, 175, 303, 825, 953, 264, 91, 252], [21, 33, 72, 52, 43, 354, 212], [38, 60, 387, 18, 5, 6, 217, 24, 17, 770, 15, 23, 60, 11, 488, 52, 686, 6], [129, 1, 59, 79, 2, 155, 44, 180, 111, 51, 149, 38, 111, 26, 78, 1, 7, 835, 78, 24, 14, 8, 173, 23, 1, 9, 14, 8, 36, 925, 2, 221, 14], [467, 126, 530], [22, 3, 9, 418], [553, 13, 421, 541], [19, 63, 3, 100, 56, 432], [110, 222, 87, 12, 5, 246, 827, 83, 8, 5, 343, 15, 89, 686, 12, 125, 426, 761, 18, 2, 421, 541, 7, 82, 61, 225, 143, 42, 41, 100, 185, 4, 715], [499, 449, 5, 44], [298, 692, 21, 6, 315, 148, 40, 475], [30, 4, 48, 95, 397, 771, 48, 647, 2, 429, 68, 49, 2, 61, 48, 863, 28, 35, 7, 683, 365, 269, 64], [38, 38, 1, 31, 322, 51], [11, 812, 11, 11, 222, 94, 11, 51, 819, 7, 1, 59, 267, 18, 5, 810], [200, 24, 71, 135, 113, 985, 20, 482, 245], [47, 58, 49, 94, 96, 99, 55, 6, 243, 99], [466, 1, 58, 2, 30], [38, 395, 42, 41], [179, 27, 1, 231, 36, 7, 789, 4, 76, 5, 332, 15, 5, 66], [96, 127, 3, 986], [65, 22, 38, 242, 154, 7, 3, 28, 3, 56], [288, 3, 30, 192, 9], [47, 31, 1, 18, 3, 21], [293, 33, 32, 11, 116, 783, 9], [127, 22, 3, 110], [], [58, 2, 738, 32, 14, 85], [145, 3, 62, 107, 545], [179, 13, 234, 23], [7, 86, 843, 8, 93, 352, 72, 2, 86, 10, 310, 1, 31, 3, 918, 1, 70, 310, 3, 22, 728], [64, 135, 13, 95, 3, 22, 2, 553, 2, 5, 320, 576, 372, 95, 12, 48, 16, 5, 95, 553, 253, 48, 18], [38, 38, 1, 31, 322, 51], [7, 3, 31, 3, 918, 3, 68, 128, 51, 504, 129, 690], [38, 19, 36, 515, 3, 17, 4, 661], [110, 1, 17, 357], [6, 122, 46, 148, 383, 150, 32], [90, 90, 61, 57, 45, 22, 3, 72], [17, 3, 79, 19, 305, 33, 72, 2, 19, 292, 199, 211, 34, 6, 61, 7, 4, 27, 684, 14, 8], [], [849, 6, 199], [61, 4, 410, 15, 997], [145, 529, 419, 28, 164, 3, 32], [1, 250, 287, 81, 275, 28, 49, 528, 28, 40, 28, 49, 164, 154, 89, 364], [132, 265, 81, 35, 76, 211], [98, 95, 38, 42, 41, 120, 3, 9, 831, 206, 18, 140, 177, 14, 200, 4, 116, 226, 2, 67, 48, 237, 2, 263, 12, 125, 691, 177], [168, 265, 105, 44, 20, 123, 605, 577, 647, 61, 361, 70, 473, 32, 418, 27, 27, 654], [802, 247], [236, 46, 55, 135, 354], [54, 83, 957, 957, 8, 294, 23, 38, 151], [214, 378, 5, 103, 95, 50, 64, 32, 73, 345, 326, 2, 38, 30, 558, 21, 785, 195], [129, 260, 13, 43, 294, 27, 538, 595, 492, 16, 21, 596, 233, 729], [100, 482, 13, 115, 18, 46], [39, 434, 32, 728, 50, 29, 849, 20, 58], [6, 17, 4, 757, 860, 118, 758, 6, 84, 23, 278, 16, 2, 620, 52, 91, 860, 86, 114, 233, 251, 121, 193], [1, 373, 30, 194, 85], [10, 33, 25, 358, 1, 30, 305], [20, 20, 20, 38, 114, 20, 655, 4, 451, 36], [570, 160, 299, 598, 45, 14, 598, 137, 148, 83, 9, 5, 15, 570, 160, 102, 13, 817, 83, 790], [98, 741, 1, 331, 32, 166, 26, 6, 114, 20, 210, 10, 44, 27, 164, 10, 68, 88, 18, 39, 143, 374, 954, 398], [471, 6, 44, 20], [87, 3, 299, 454, 3, 541, 14, 78, 59, 4, 227, 169, 411, 12, 653, 5, 242, 59, 78, 308, 3, 28, 64, 26, 23, 123, 18, 372, 37, 19, 190, 56, 19, 18, 5, 396], [6, 250, 144, 23, 375, 6, 147, 148, 55, 144], [7, 739, 92], [156, 102, 3, 49, 96, 13, 266, 254, 25, 196, 3, 70, 2, 304, 37, 130, 310, 71, 139, 123, 55, 593, 130, 2, 58, 669], [21, 598, 9, 37, 103, 7, 116, 50, 175, 95, 182, 12, 36, 76, 30, 7, 101, 5], [194, 77, 8, 93, 277], [61, 46, 11, 8, 508, 1, 62, 4, 23, 40, 28, 49, 340, 63], [416, 349, 30, 18, 9, 4, 898, 389], [145, 1, 476, 3, 15, 178, 117, 75, 11, 115, 59, 18, 5, 650, 1, 60, 290, 4, 266], [1, 204, 210, 5, 115, 146, 21, 97, 67, 4, 142], [97, 26, 10, 4, 97, 11, 343, 2, 97, 737, 14, 83, 8, 99, 343], [12, 664, 410, 9, 89, 95, 518, 3, 28, 21, 17, 550, 425, 20, 280, 3, 284, 20, 30, 793, 36, 67, 73, 2, 175, 147, 140, 177, 114], [236, 201, 511, 17, 18, 170], [179, 1, 59, 951, 12, 4], [1, 286, 8, 510], [11, 935, 36, 5, 64, 410, 40, 102, 181, 15, 310, 11, 828, 591, 5, 217, 18, 572, 42, 41, 282], [156, 8, 19, 440, 1, 5, 22, 51, 3], [507, 682, 84], [26, 3, 108, 1, 28, 967, 42, 41, 9, 4, 112], [1, 60, 88, 57, 191, 10, 53, 34, 3, 74, 107, 15, 5, 466, 1, 96, 3, 56, 5], [11, 161, 515, 4, 312, 2, 10, 25, 310, 1, 69, 11, 161, 24, 310, 1, 69, 5, 263, 9, 11, 161, 5, 334, 520, 170, 222, 1, 16, 170, 11, 334], [243, 10, 148, 31, 26], [1, 60, 87, 14, 525, 3], [1, 82, 5, 192, 18, 11, 296], [1, 70, 137, 36, 7], [339, 119, 235, 2, 49, 65, 147], [553, 21, 430, 378, 320, 764, 186, 48, 991, 465, 262, 73, 18, 360, 16, 667, 18, 746, 27, 844], [26, 3, 70, 20, 27], [615, 399, 23, 8, 869, 275, 615, 126], [224, 628, 19, 3, 22, 234, 133, 900, 14, 13, 159, 708, 14, 410, 15, 13, 161, 14, 133, 167, 159, 17, 4, 133, 66], [449, 137, 297, 34, 40, 210, 113, 44, 50, 225, 226, 9, 56, 124, 400], [870, 77, 394, 40, 361, 801, 180, 85, 971, 152, 270], [33, 973, 256, 33], [490, 105, 707, 4], [441, 40, 183, 448], [25, 727, 241], [172, 5], [67, 39, 2, 29, 222, 7, 347, 190, 79, 29, 47, 8, 11, 114, 20, 166, 43, 205, 15, 285, 282, 436, 381, 42, 41, 42, 41, 91, 10], [1, 243, 19, 60, 277, 18], [42, 41, 8, 1, 69, 6, 66, 67, 433, 2, 51, 29, 884, 838, 10, 34, 166, 598, 88, 41, 126, 330, 6, 374, 34, 6, 433, 6, 31, 789, 29, 374, 43], [420, 328, 40, 277, 88, 18, 845, 331, 354, 72, 88, 20, 21, 63, 481, 43, 4, 83, 128, 610, 679, 248, 125, 2, 58], [87, 19, 599, 23, 314, 21], [1, 368], [1, 184, 170, 26, 3, 56], [1, 53, 93, 366, 10], [20, 11, 339, 587], [747, 75, 4, 884, 455, 214, 3, 17, 105, 496, 2, 153, 934, 2, 131, 16, 131, 402, 571, 887, 593, 64], [292, 37, 628, 358, 9, 4, 66, 948, 3, 31, 185, 13, 276, 266, 9, 39, 334, 42, 41], [44, 209, 105, 12, 56, 317], [96, 10, 190, 324, 441], [133, 343, 259, 6, 162, 29, 212, 94, 250, 151, 139, 742], [138, 61, 24, 283, 97, 100, 96, 2, 107, 78, 90], [237, 649, 12, 13, 68, 97, 140, 584, 674, 37, 86, 38, 863, 650, 255, 456], [69, 4, 137, 4, 508, 34, 40, 231, 118, 2, 69, 55, 161, 174, 35, 123, 24, 55], [464, 14, 8, 7, 34, 3, 30, 4, 7, 365, 12, 3, 30, 15, 23, 14, 626, 161], [270, 36, 888], [209, 25, 366, 3, 9, 4, 452, 39, 8, 951, 14, 59, 7, 19, 3, 53, 19, 40, 185, 3, 336, 1, 185, 356, 23, 97, 155, 99, 11, 69, 17, 4, 116, 66], [28, 3, 26, 498], [619, 56, 190, 19, 228, 10, 174], [6, 9, 565, 27, 72, 80, 406, 81, 192, 72, 20, 565, 104], [823, 1, 74, 132, 10, 585, 3, 53, 22, 25, 109, 7, 5, 8, 245, 54, 141, 1, 26, 17, 4, 622, 66, 585, 17, 3, 600, 180, 1, 100, 164, 3, 498, 47, 59, 5], [132, 138, 156, 8, 14, 56, 438], [52], [78, 66, 4, 59, 18, 5, 899, 5, 457, 94, 5, 15, 5, 422, 302, 11, 750, 339, 84, 6, 11, 570, 4, 59, 29, 2, 3, 324, 339, 1, 14, 229, 299, 629, 6, 247, 864], [11, 2, 130], [394, 1, 11, 631, 21, 1, 437, 32, 177], [132, 627, 129, 168, 37, 11, 276, 745, 118, 1, 207, 52, 37, 43, 4, 112, 21, 227, 199, 61, 105, 338, 4, 112], [6, 23, 503, 148, 58, 88, 55, 335, 872], [1, 70, 2, 35, 3, 187, 117], [3, 49, 2, 912, 160, 1, 731, 58, 246], [145, 712, 44, 6, 611, 51, 167], [44, 29, 463, 37, 4, 492, 15, 186, 736, 142, 585, 4, 48, 203, 73, 724, 2, 597], [23, 248, 263, 2, 35, 278, 32, 213, 24, 64, 173, 307, 31, 278, 2, 3, 537, 13, 178, 170, 537, 161, 944], [833, 8, 824, 55, 824, 8, 5, 15, 833, 34, 6, 936, 3, 493, 42, 41, 200, 561, 283, 2, 551], [14, 2, 13, 550, 48, 68, 428, 22, 571, 524], [11, 268], [870, 71, 361, 24, 559, 248, 77, 71, 62, 165, 10, 20, 500, 24, 1, 287, 855, 25, 23, 20, 49, 111, 287, 92, 25, 152], [54, 626, 3, 485, 133], [232, 800, 2, 3, 106, 100, 737, 11, 1, 70, 2, 82, 51, 15, 3], [47, 59, 892, 7, 578], [1, 70, 2, 184, 42, 41, 83, 324, 339, 87, 34, 1], [911, 6, 67, 383], [145, 6, 92, 32, 5, 912], [46, 147, 119, 55], [835, 14, 42, 41, 127, 3, 32], [154, 11, 151, 448, 364, 285, 585, 77, 6, 528, 627, 364, 49, 974, 77, 38, 242, 226, 2, 49, 379], [1, 59, 79, 2, 26, 14, 45, 1, 1, 624, 4, 314, 63, 906, 7, 7], [71, 149, 31, 39, 17, 105, 2, 148, 27, 25, 632, 1, 60, 9, 4], [1, 287, 192, 92, 62, 94, 94, 81, 192, 163, 85, 94], [791, 431, 272, 56, 711, 411, 336, 25, 10, 11, 56, 144, 431, 24, 1, 250, 287, 71, 8, 559, 113, 685, 950, 485, 956, 81, 49], [495, 1, 185, 3, 781, 13, 760, 122, 3, 49, 2, 5, 912, 139], [240, 11, 781, 1, 185, 3, 148, 7, 1, 36, 44, 1, 284, 3, 227, 109, 9, 370, 37, 10, 10, 1, 69, 3], [481, 18, 5, 787, 50, 127, 40, 3, 229], [237, 866, 5, 103, 7, 5, 964, 327, 868, 27, 332, 91, 332], [98, 120, 105, 2, 29], [200, 200, 1, 8, 56, 36, 17, 2, 830], [46, 101, 29, 63, 94, 313, 29, 354], [19, 105, 5], [129, 1, 780, 75, 2, 11, 117, 15, 197], [946, 244, 255, 3, 65, 209, 299, 135, 124], [471, 891, 28, 6, 30, 18], [19, 174, 35, 57, 765, 81, 115, 3, 690, 466, 1, 2, 190], [46, 1, 287, 1, 62, 14, 55, 6, 235, 10, 20, 58, 21, 27, 152], [1, 69, 3, 23, 123, 1, 244, 183, 12, 39, 258, 2, 75, 187, 671, 722, 10, 2, 302, 32, 13, 787, 133, 103, 258, 11, 69], [116, 1, 356, 901, 23, 30, 301], [145, 12, 10, 65, 8, 38, 230, 18, 693, 183, 1, 31, 165, 11, 7, 96, 3], [22, 3, 2, 58, 739], [5, 42, 41, 507, 19, 1, 577, 4, 307, 317, 906, 5, 573, 717, 64, 12, 42, 41, 7, 37, 12, 42, 41, 261, 156, 1, 130], [3, 341, 70, 2, 52, 125, 36, 9, 837, 7, 36, 386, 18, 25, 14, 34, 3, 28, 1, 102, 17, 123, 9, 7, 238], [45, 28, 119, 58, 52], [575, 537, 6, 730, 8, 14, 3, 505, 555, 157, 27, 506, 768, 16, 21, 456, 423, 391, 405, 95], [89, 6, 419, 2, 640, 9, 12, 5, 3, 135, 2, 131, 43, 48, 91, 37, 131, 2, 39, 121, 20, 86, 73, 86], [1, 24, 321, 8, 65], [48, 501, 362, 89, 909, 502, 859, 36, 67, 5, 345, 189, 2, 21, 269, 175, 147, 140, 253, 202], [311, 8, 5, 632, 5, 363, 59, 18, 42, 41, 75, 294, 51, 22, 829, 427, 841], [375, 107, 275], [1, 28, 134, 14, 44, 65, 42, 41, 52, 15, 11, 499], [47, 123, 93], [449, 431, 25, 46, 37, 3, 25, 302, 46, 37, 14], [465, 262, 465, 73, 114, 20, 521, 18, 320, 360, 991, 16, 667, 12, 5, 173, 320, 735, 746, 27, 844], [273, 4, 150, 94, 175, 1, 94, 150, 133, 66, 9], [46, 77, 24, 25, 139, 375, 10, 92, 306, 763, 290, 21], [369, 331, 11, 488, 6, 331, 354, 148], [33, 4, 573, 8], [642, 20, 95, 84, 558, 16, 21, 680, 29, 681, 327, 607, 532], [194, 77, 34, 111, 51, 49, 55, 1, 49, 77], [36, 641, 836, 127, 275, 911], [8, 25, 54, 40, 12, 160, 14, 8, 5, 15, 54, 40, 26, 83, 26, 5, 276, 9, 313, 5], [54, 557, 110, 96, 10], [396, 32, 4, 570, 7, 1, 56, 6, 4, 312, 1, 53, 6, 56, 10, 56, 19, 23, 479], [1, 60, 25, 32, 51, 133, 37, 54, 3, 616, 27, 163], [219, 8, 4, 490, 118, 234, 717, 2, 783, 27, 4, 490, 118, 4, 79, 5, 71, 37], [370, 54, 22, 3, 685, 15], [36, 184, 199, 26, 3, 7, 9, 370, 440], [316, 267, 12, 13], [198, 13, 95, 38, 59, 342, 4, 913, 424, 579, 748, 153, 18, 749, 39, 8, 89, 462, 478, 2, 206, 3, 16], [24, 97, 100, 327, 9, 161], [311, 8, 5, 632, 5, 363, 59, 18, 42, 41, 75, 294, 51, 22, 829, 427, 841], [1, 108, 1, 62, 29, 1, 412, 14, 9, 731, 500, 14, 9, 43, 6, 374], [57, 167, 179, 128, 1, 288, 512, 6, 44], [308, 37, 4, 356, 185, 194, 43, 29, 276, 161, 24], [84, 40, 72, 37, 5, 42, 41, 442], [808, 29, 342, 505, 555, 15, 486, 612, 48, 501, 20, 89, 506, 502, 319, 73, 532, 2, 929, 140, 177, 114], [97, 96, 19, 5, 22, 38, 972, 5, 238, 1, 59, 277], [1, 2, 182, 4, 296, 61, 198, 24, 4, 15, 42, 41, 65, 8, 38, 2, 433, 42, 41, 324, 11, 956], [1, 69, 2, 1, 70, 2, 775, 3, 9, 11, 146, 21], [5, 142, 184, 8, 12, 42, 41, 1, 435, 42, 41, 27, 42, 41], [110, 1, 60, 591, 2, 12, 124, 97, 26, 181, 9, 644, 32, 42, 678, 41], [55, 119, 58, 94, 210, 10, 32], [4, 81, 185, 5, 213], [54, 63, 6], [1, 60, 9, 16, 3, 85], [198, 13, 95, 38, 59, 342, 4, 913, 424, 579, 748, 153, 18, 114, 749, 39, 8, 89, 462, 478, 2, 206, 3, 16, 399, 623, 446], [23, 1, 231, 459, 7, 224, 3, 239, 2, 10], [1, 60, 267, 16, 10, 358, 3, 48], [90, 1, 31, 184, 14, 199], [47, 22, 3, 11, 69, 22, 3, 37, 13, 699, 63, 2, 292, 37, 130, 942, 144, 145, 449, 240, 50, 5, 899], [34, 150, 28, 55, 1, 49, 682, 6, 77], [98, 128, 3, 135, 4, 57, 66, 17, 4, 329, 117], [62, 52, 178, 527], [328], [61, 46, 615, 7, 61, 11, 114, 15, 978], [90, 90, 237, 218, 37, 10], [317, 2, 229, 12, 6, 31, 35, 44, 2, 543, 37, 5, 320, 668, 7, 2, 35, 67, 30, 73, 86, 2], [90, 28, 19, 557, 211], [62, 62, 4, 312, 15, 47, 2, 144], [3, 288, 454, 14, 50, 10], [297, 845, 51, 567, 267, 2, 284, 6, 790, 159, 17, 4, 232, 66], [309, 40, 22, 438, 4, 647, 18], [213, 551, 11, 561], [106, 11, 794, 106, 58, 109, 7, 283], [145, 176, 87, 1, 288, 30, 28, 58, 7, 14, 648, 71, 758, 71, 968, 54, 14, 8, 24, 71, 813, 49, 75, 703, 4, 7, 71, 449, 14, 31, 391, 42, 41, 1, 102, 53, 34, 14, 341, 35, 2, 162, 228, 65, 40, 102, 17, 107, 671, 753, 32, 51, 146, 21, 191, 10, 53, 54, 3, 70, 2, 26, 176], [20, 20, 50, 541, 21, 43, 239, 258, 16, 303, 365], [6, 164, 242, 250, 235, 164, 10, 448, 858, 192, 4, 573, 627], [23, 119, 35, 85, 763, 529, 627], [328, 1, 475, 105, 65, 197, 3, 70, 2, 49, 12, 5, 1, 28, 16, 44, 2, 541], [272, 49, 80, 379, 165, 499, 2, 210, 10, 44, 32, 285], [30, 70, 323, 184, 816, 2, 13, 95, 439, 5, 882, 455, 73, 2, 21, 864, 318, 233, 121], [87, 9, 290, 81, 16, 3, 104], [470, 14, 33, 2, 603], [92, 6, 58], [46, 77, 406, 1, 287, 40, 204, 30, 984, 21, 180, 56, 361, 246, 148, 6, 235, 20, 49, 396, 43, 29, 4, 25, 855, 8, 549, 170, 21], [1, 641, 3, 1, 341, 17, 4, 898, 2, 67, 3, 160, 90, 1, 69, 236, 139], [5, 20, 573, 8, 302, 24, 78, 266, 8, 9, 805, 44, 42, 41, 665, 211, 34], [37, 13, 448], [1, 36, 4, 232, 4, 3], [5, 743, 33, 64, 223, 45, 137, 63, 2, 669, 8, 19, 310, 15, 865, 1, 28, 64, 2, 35, 223, 45, 228, 10, 2, 35, 7, 19, 64, 45, 717, 2, 723, 44], [145, 87, 1, 236, 4, 4], [948, 135, 410, 63, 305, 778], [87, 412, 115, 46, 341, 35, 24, 174, 35, 51, 11, 37, 78, 137, 4, 543], [87, 33, 438, 647, 9, 676, 11, 838], [17, 3, 135, 4, 57, 66, 728, 59, 169, 608, 22, 3, 44, 2, 123, 160, 117], [113, 15, 170, 243, 8, 25, 928, 8, 14, 464], [7, 1, 102, 386, 18, 5, 117, 24, 1, 534, 35, 88, 547, 246], [90, 90, 22, 3, 9, 738], [98, 39, 8, 531, 50, 3, 22, 2, 347, 538, 953, 9, 89, 153, 319, 106, 2, 131, 197, 749, 27, 13, 153, 31, 35, 2, 228, 587], [196, 24, 548, 11, 812, 31, 35, 387, 18, 1, 102, 169, 74, 4, 613], [7, 8, 65, 4, 136, 3, 28, 67, 281, 2, 99, 7, 93, 120, 105, 817, 139], [1, 100, 61, 4, 832, 531, 390, 216], [321, 77, 4, 274, 477, 139, 55, 339, 250, 6, 49, 80, 375, 20, 221, 83], [280, 13, 110], [83, 71, 62, 305], [8, 4, 312, 31, 9, 178, 23, 173, 878, 2], [1, 982, 34, 769, 30, 39, 68], [33, 869, 604, 62, 18, 111, 43, 354, 77, 270, 1, 982, 118, 31, 49, 63], [448, 129, 19, 249, 14, 1, 286, 59, 222, 37, 21, 419, 1, 122, 5, 832, 217, 24, 1, 148, 15, 910, 605, 71, 259, 25, 58, 180, 15, 238], [339, 250, 786, 139, 443, 6, 250, 56, 448, 93, 634, 361, 609], [7, 653, 267, 12, 13], [110, 105, 910, 2, 39, 8, 89, 652, 478, 2, 206, 6, 73, 218, 2, 636, 195, 755, 756, 643, 983, 269], [416, 151, 171], [369, 936, 10, 383, 560, 104], [132, 364, 40, 101, 150, 78, 944, 32, 77, 250, 235, 528, 28], [98, 39, 8, 137, 5, 137, 2, 671, 33, 14, 12, 233], [25, 211, 745, 44, 18, 113, 221, 39, 8, 11, 103, 143, 76, 5, 136], [179, 122, 19, 518, 148, 62, 11, 21, 61, 36, 340, 65, 12, 10], [38, 2, 35, 1, 368, 60, 1, 215, 34, 33], [416, 81, 830, 3, 44, 45, 1, 30, 113, 157], [110, 39, 8, 13, 652, 2, 429, 13, 43, 294, 27, 157, 447, 16, 50, 382, 596, 405], [236, 72, 12], [3, 17, 188, 4, 271, 447, 27, 419, 201, 348, 157, 2, 131, 29, 447, 16, 48, 18, 850, 269, 61, 4, 143, 152, 26, 6, 108], [87, 19, 59, 11, 823, 1, 344, 181, 9, 644], [12, 57, 24, 38, 27], [1, 102, 53, 24, 33, 32], [45, 263, 82, 11, 659, 111, 108, 2, 111, 22, 832, 111, 672, 53, 19, 2, 11, 367, 222, 977], [38, 1, 60, 25, 306, 25, 107, 9, 11], [47, 22, 3, 61, 105, 460], [32, 282, 40, 31, 49, 46, 778], [46], [487, 3, 26, 3, 543, 5], [30, 10, 52, 15, 39, 11, 980, 836, 2, 58, 2], [98, 11, 120, 105, 18, 42, 41, 15, 239, 350, 1, 53, 61, 169, 399, 820, 175, 15, 4], [133, 103, 258, 2, 6, 139], [55, 6, 72, 559, 376], [93, 36, 245, 4, 15, 156, 9, 418, 7, 1, 244, 96, 34, 634, 302, 27, 36], [394, 470, 19, 36, 26, 684, 26, 162, 124, 2, 35, 9, 32, 113, 876, 197, 491], [40, 614, 2, 206, 3, 583, 13, 91, 2, 89, 378, 15, 772, 262, 4, 103, 397, 115, 16, 21, 27, 91, 12, 48, 580, 160], [38, 33, 25, 387, 33, 9, 445, 23, 34, 40, 40, 49, 796], [19, 515, 3, 62, 124, 4, 9, 93, 200, 265, 93, 200, 109, 21], [236, 173, 232, 35, 301, 18], [61, 17, 4, 116, 63, 9, 25, 609, 79, 509, 8, 4], [1, 60, 9, 370, 7, 17, 105, 44, 12, 56, 42, 41, 593], [5, 7, 483, 563, 55, 12, 5, 5, 483, 56, 1, 3], [71, 633, 24, 1, 609, 77, 872, 182, 529, 77, 559, 268, 24, 40, 92, 43, 268, 529, 4, 25, 633, 454, 170, 586, 272, 62, 4, 312, 15, 151], [13, 295, 12, 351, 563, 2, 131, 16, 701, 402, 673, 749], [26, 6, 56, 5, 732, 9, 170, 23, 599, 52, 762, 5, 217, 403, 212], [21, 6, 56, 353, 56, 1, 8, 18, 85, 442, 80, 471, 120, 6, 43, 433, 603], [16, 10, 45, 3, 759, 8, 22, 109, 11, 8, 44, 7, 1, 341, 25, 454, 425], [83, 11, 30, 301, 51, 8, 129, 7, 1, 60, 172, 9, 5, 129], [27, 36, 26, 19], [171, 12, 805, 44, 5], [670, 22, 496, 2, 347, 4, 34, 3, 17, 4, 106, 16, 131, 402], [785, 72, 18], [116, 1, 17, 2, 503, 21, 23], [210, 3, 44, 896, 282, 54, 63, 22, 7, 19, 72], [38, 982, 180, 1, 250, 707, 4, 296, 24, 1, 287, 1, 577, 4, 78], [1, 58, 94, 210, 119, 44, 58, 52, 559, 29, 706], [118, 22, 3, 707], [29, 651, 8, 18, 5, 136, 6, 141, 347, 4, 220, 121, 20, 788, 29, 795, 34, 6, 26, 25, 905, 404, 18, 29, 95, 220], [320, 186, 95, 27, 923, 771, 271, 91, 37, 189, 2, 21, 725, 318, 233], [33, 809, 2, 14, 1, 36, 128, 11, 102, 730, 10, 548, 209, 64, 4, 307, 249, 39, 258, 39, 770, 10, 9, 170, 9, 59, 124], [37, 11, 744, 77, 40, 494, 305], [102, 14, 2, 35, 260, 197, 3, 30, 88, 491, 310, 33, 36, 21, 52], [90, 6, 172, 100, 121, 27, 91, 2, 225, 121], [87, 81, 16, 104], [6, 1, 1, 243, 6, 174, 16], [9, 5, 346, 836, 2, 155, 216, 42, 41, 15, 19, 59, 277, 215, 7, 8, 2, 99, 27, 113, 346, 172, 1, 102, 108, 1, 102, 304, 109], [367, 256, 47, 22, 3], [132, 90, 1, 31, 58, 160], [34, 3, 109, 9, 5, 239, 42, 41, 593, 11, 346], [158, 1, 71, 174, 35, 169, 5, 242, 118, 715, 831, 56], [1, 366, 7, 149, 51, 2, 130, 55, 71, 17, 2, 655, 39], [617, 44, 4, 127, 3, 28, 327, 775, 603, 498], [38, 14, 31, 355, 76, 381, 64, 93, 853, 93, 31, 35, 65, 1, 100, 53], [33, 92, 411, 12, 4, 296, 2, 182, 7, 17, 25, 799, 578, 540, 275], [14, 468, 192, 524, 20, 75, 298, 20, 311, 52, 8, 19, 46], [416, 191, 10, 53, 45, 254, 257, 35, 223, 879], [86, 531, 618, 616, 1, 341, 17, 11, 2, 292, 1, 244, 35, 520, 34, 1, 30, 78, 125, 16, 33, 25, 18, 930], [111, 28, 283, 111, 28, 30, 815, 9, 872], [401, 286, 329, 2, 94, 338, 686, 228, 94, 525, 525, 94, 525, 247, 864], [100, 3, 17, 142, 378], [8, 19, 18, 5, 38, 61], [110, 57, 167, 21, 64, 1, 60, 44], [46, 35, 102, 68, 7, 530], [416, 31, 26, 171, 199, 12, 972, 52], [61, 4, 702, 67, 433, 121, 2, 51, 29, 222, 34, 205, 84, 126, 293, 55, 228, 169, 6, 219, 576, 10, 5, 276, 10], [38, 62, 103, 305, 32, 9, 18, 43, 400, 24, 515, 38, 9, 181, 9, 644], [152, 63, 26, 6, 235, 20, 164, 10, 104], [138, 33, 9, 427, 85], [5, 8, 25, 19, 7, 3, 31, 25, 435, 194, 537, 154, 445], [57, 517, 39, 8, 47, 22, 3], [98, 47, 22, 3], [127, 2, 30, 511], [54, 83, 957, 957, 8, 294, 23, 38, 151], [1, 60, 25, 196, 79, 117, 1, 53, 64, 79], [625, 13, 818, 295, 660, 12, 351, 914, 915, 916, 200, 1, 437, 563, 16, 701, 402, 673, 716, 917], [90, 1, 11, 206, 19, 156], [352, 286, 79, 4, 57, 161, 37, 4, 36, 73, 88, 241, 7, 920, 2, 439, 5, 95, 237], [48, 12, 333, 112, 186, 203, 43, 29, 95, 187, 112, 36, 73, 186, 2, 30, 892, 7, 96, 29, 681, 140, 955, 253, 202, 689, 264, 203], [90, 33, 88, 9, 11, 226, 9, 23, 1, 341, 74, 2, 26, 5, 925, 587], [166, 48, 425, 162, 52, 79, 13, 69, 161, 21, 283, 166, 12, 48, 68, 325, 2, 264, 64, 154, 166, 48, 659, 318, 233, 694], [98, 46, 24, 377, 25, 57, 75, 17, 88, 761, 15, 2, 26], [544, 285, 56, 376, 77], [145, 65, 990, 6, 84, 329, 21, 1, 454, 6, 2, 4, 8, 14, 57, 40, 84, 229, 32, 17, 4, 103, 258, 147, 6, 9], [47, 123, 12, 124], [198, 13, 95, 143, 120, 105, 342, 37, 4, 602, 153, 271, 16, 50, 700, 308, 131, 571, 840, 64], [138, 24, 111, 149, 61, 14], [361, 246, 383, 544, 887, 406, 1, 192], [823, 507, 36, 997, 44, 18, 3, 26, 17, 4, 350], [907, 447, 670, 22, 496, 2, 347, 4, 907, 447, 34, 3, 17, 4, 106, 16, 131, 402], [46], [127, 84, 40, 290], [265, 26, 3, 380, 10], [1, 444, 111, 721, 902, 25, 272, 273], [33, 132, 592, 44], [47, 2, 144, 19, 1, 371, 3, 100, 108, 32, 51, 18, 54, 1, 921, 3], [416, 160, 223, 42, 41, 14, 8], [751, 188, 2, 5, 652, 27, 157, 2, 429, 16, 689], [158, 36, 713, 218, 7, 266, 55, 134, 5, 458, 75], [26, 3, 53, 45, 5], [1, 62, 4, 16, 50, 4, 382, 143, 1, 60, 422, 2, 58, 2, 1, 31, 49, 9, 5, 473], [171, 12, 686, 10, 23, 3, 924], [46, 484, 18, 61, 136, 45, 1, 30, 254, 12, 11], [28, 6, 10, 126], [200, 21, 64, 1, 599, 167, 64], [3, 92, 277, 211], [87, 363, 11, 178, 117, 7, 1, 244, 210, 44, 125, 524, 957], [103, 218, 20, 336, 9, 29, 847, 43, 36, 48, 20, 347, 638, 27, 32, 177, 73, 78, 241, 2], [127, 22, 3, 1, 74, 3], [98, 3, 36, 2, 273, 56, 2, 53, 34, 3, 227, 37, 5, 91, 48, 37, 138, 27, 38], [103, 126, 24, 5, 330, 23, 100, 37, 29, 222, 36, 170, 159, 144, 33, 234, 868], [87, 1, 244, 255, 3, 18, 39], [137, 46, 1, 560, 608, 24, 33, 169, 139, 477, 23, 1, 121, 6, 1, 528, 444, 152, 576, 93, 655, 43, 10, 78], [475, 414, 21, 77, 1, 494, 64], [1, 17, 38, 238, 43, 745], [641, 412, 275, 23, 395, 257, 35, 109, 547, 354], [39, 393, 8, 265, 124, 25, 2, 26, 139, 123], [27, 1, 49, 80, 213, 383, 119, 183, 43, 10, 77, 1, 482, 245, 11, 281, 213], [54, 803, 9], [132, 8, 14, 67, 10, 5, 630], [46], [172, 380, 5, 102, 58, 229, 352], [615, 121, 55, 135], [71, 853, 25, 2, 96, 107, 78, 34, 23, 715, 12, 10, 98, 98, 98], [158, 196, 217, 745, 62, 51, 11, 281, 24, 168, 72, 406, 12, 76, 5, 136, 118, 8, 39, 100, 53, 143], [1, 96, 6, 369, 21], [18, 25, 594, 15, 3], [590, 561, 37, 4, 551, 228, 422, 4, 353, 47, 8, 29, 161, 71, 159, 93, 8, 265], [3, 329, 25, 17, 243, 19, 2, 205, 242, 653, 505], [69, 3, 69, 6, 312], [171, 199, 12, 13, 91, 83, 45, 8, 29, 277, 9, 7, 84, 6, 92, 5, 7, 11, 782, 249, 22, 25, 458, 823, 824, 172, 120, 225, 949, 23, 1, 169, 74, 2, 108, 79, 47, 2, 134, 11, 949, 238, 104], [4, 307, 59, 42, 41, 389, 906], [40, 2, 30, 7, 31, 49, 88, 154], [7, 26, 3, 17, 107, 78, 19, 28, 10, 47, 2], [185, 16, 185, 16, 185, 16, 324, 126, 78, 37, 116, 115], [1, 102, 337, 30, 52, 15, 370, 137, 23], [893, 189, 4, 34, 3, 5, 15, 68, 2, 192], [328, 209, 624, 147, 119, 65], [762, 14, 72, 9, 128, 6, 84, 4, 57, 63, 155, 19, 356, 631, 88, 4, 356, 459, 50, 10], [625, 13, 818, 295, 660, 12, 351, 914, 915, 916, 200, 1, 437, 563, 16, 701, 402, 673, 716, 917], [46, 77, 33, 9, 418, 21, 586], [24, 13, 25, 109], [129, 1, 53, 31, 101, 193, 15, 10, 23, 38], [38, 85, 34, 3, 503, 19, 14, 5, 572, 85], [59, 381, 702, 7, 41, 18, 115, 179], [98, 133, 343, 98, 98, 98, 98, 98, 98, 98], [324, 297, 971, 7, 7, 742], [487, 3, 747, 76, 237, 57, 985, 38, 91, 86, 2, 214, 649], [158, 261, 265, 137, 2, 30, 9, 8, 19, 46], [6, 92, 29], [10, 18, 236, 645, 50], [477, 15, 695, 283, 73, 2, 34, 3, 102, 56, 73, 7, 30, 4, 103, 195, 121, 264], [1, 36, 169, 74, 346, 197, 160, 7, 1, 53, 3, 534, 35, 197, 56, 285], [97, 255, 10, 96, 19, 33, 4, 50, 7, 19, 34, 141, 97, 67, 10, 4, 142, 79, 47, 2, 788, 171], [198, 16, 50, 13, 382, 13, 873, 43, 294, 27, 388, 424, 157, 595, 492, 596, 175, 303, 456, 423, 269], [6, 28, 189, 506, 15, 532, 486, 612, 187, 112, 21, 73, 5, 345, 319, 2, 929, 140, 177], [46, 1, 494, 347], [34, 254, 25, 9, 11, 296, 9, 124, 400, 7, 4, 335, 33, 72], [16, 10, 1, 437, 2, 629, 164, 7], [13, 257, 17, 2, 210, 44, 4, 114, 12, 628, 18, 13, 136, 80, 1, 244, 201, 967, 489, 8, 10], [129, 57, 167, 886, 762, 236], [132, 5, 8, 306, 4, 274, 15, 4, 783, 24, 14, 813, 107, 650, 23, 137, 395, 213, 58, 213], [138, 24, 28, 40, 164, 9, 418, 180, 31, 49, 2, 7, 55, 80, 3, 231, 68, 32, 442, 86, 7, 102, 479, 610, 17, 624, 76, 940, 765], [3, 373, 13, 132], [102, 479, 8, 458, 358, 17], [9, 39, 791, 334], [22, 3, 146, 54, 149, 450, 127, 22, 3], [31, 119, 192, 72, 2, 80], [1, 69, 13, 760, 26, 3, 313], [], [52, 317, 906], [309, 368, 54, 1, 36], [461, 867, 582, 11, 651, 2, 4], [34, 40, 189, 61, 169, 38, 114, 787, 12, 314, 63], [38, 38, 39, 8, 80, 80, 418, 8], [81, 355, 9, 544, 854, 262, 46], [76, 5, 136, 134, 196, 6, 30, 2, 25, 17, 432, 117, 252], [5, 8, 150, 293, 24, 150, 564, 94, 1, 62, 4, 21, 1, 287, 33, 25, 72, 379, 139, 250, 235, 20, 6, 172], [122, 505, 15, 3, 17, 107, 26, 3, 53, 15, 163, 190], [591, 2, 9, 638, 15, 124, 51, 207, 801, 97, 10, 9, 29, 110], [168, 87, 896, 178, 527, 14, 29, 14, 59, 10, 14, 59, 27, 6, 10, 1, 108, 6], [1, 53, 19, 11, 266, 148, 243, 19], [808, 6, 28, 131, 20, 643, 4, 984, 20, 147, 9, 9, 27, 486, 271, 16, 2, 131, 303, 140, 584], [11, 161, 515, 4, 312, 2, 10, 25, 310, 1, 69, 11, 161, 24, 310, 1, 69, 5, 263, 9, 11, 161, 5, 334, 520, 170, 222, 1, 16, 170, 11, 334], [46, 35, 46, 1, 368], [279, 124, 120, 2, 230, 25, 314, 154, 381, 28, 3, 30, 109, 9, 56, 124, 400], [868, 18, 11, 115], [27, 6, 165, 111, 51, 34, 239, 434, 28, 4, 25, 34, 51, 15, 170, 28, 134, 14, 55, 33, 46, 77], [39, 8, 826, 34, 6, 11, 364, 10, 88, 34, 6, 30, 166, 6, 84, 285, 6, 84, 381, 6, 84, 23, 726, 263, 6], [320, 668, 903, 17, 321, 2, 49, 18], [90, 28, 1, 210, 44, 340, 45, 254, 260], [158, 40, 62, 78, 44, 12, 216], [3, 82, 5, 106], [23, 54, 79, 3, 54, 26, 3, 380], [14, 36, 56, 19, 5, 117, 19, 51, 3, 7, 507, 70, 8, 12, 10, 2, 58, 669, 8, 5, 293, 66, 75, 45, 4, 8, 2, 10, 234, 277, 215, 7, 539, 618, 669], [92, 1, 17, 25, 14, 85], [70, 2, 708, 17, 268, 83], [657, 657, 615, 6, 248, 249, 676, 10, 23, 703, 1, 288, 243, 107, 7, 201, 4, 345, 533, 6, 34, 29, 10, 23, 123, 47, 28, 1, 96, 567, 2, 519, 63, 100, 280, 511, 535, 2, 10, 46, 615, 192], [240, 47, 61, 109, 76, 5, 136, 168, 57, 105, 18, 20, 37, 19, 573, 1, 927, 9, 23, 703, 40, 17, 2, 164, 44, 212, 762, 618, 587], [369, 853, 6, 376, 81, 192, 591, 43, 18, 23, 610, 679, 125, 63, 20, 164, 44], [129, 33, 990, 3, 288, 162, 14, 179], [33, 685, 19, 739, 514, 2, 58, 12, 639], [58, 88, 2], [3, 31, 13, 203, 5, 239, 12, 981, 7, 106, 82, 6, 772], [106, 16, 75, 65, 8, 124, 198, 142, 267, 12, 3], [337, 327, 32, 4, 564, 30, 20, 197, 333, 7, 49, 27, 37, 7, 658, 52, 4, 747], [138, 5, 64, 226, 9, 418, 2, 164, 8, 21, 9, 5, 202, 73, 218, 2, 636, 21, 195, 121], [13, 295, 120, 105, 76, 42, 483, 41, 13, 295, 890, 8, 998, 42, 483, 41, 13, 566, 8, 42, 41], [297, 70, 10, 2, 49, 2, 27, 141, 1, 164, 3, 766, 714], [59, 14, 190, 6], [3, 17, 114, 103, 142, 106, 16], [639, 43, 5, 8, 21, 239, 8, 2, 67, 150, 507, 388, 2, 2, 57, 985], [158, 395, 1, 92, 867, 322, 52, 37], [187, 59, 358, 4, 467, 7, 187, 116, 59, 358, 4, 25, 127, 6, 84, 83, 24, 127, 6, 731, 355, 247, 740], [57, 38, 74, 107, 260, 765, 138, 106, 96, 99, 143, 1, 231, 666, 99], [92, 9, 5, 847, 15, 5, 349, 283, 2, 58, 88, 212], [98, 176, 346, 52, 885], [55, 156, 3, 25], [1, 102, 53, 6, 7, 6, 102, 53, 10, 67, 218, 2, 636, 21, 7, 162, 694, 242, 64, 195, 121, 755, 756, 643, 983, 269, 497, 27, 215], [60, 9, 963, 349, 16, 3, 104], [22, 3, 196, 3, 102, 663, 30, 109], [114, 166, 3, 17, 4, 385, 13, 651, 8, 302], [230, 14, 6, 31, 234, 35], [270, 11, 266, 36, 422, 34, 3, 231, 30, 130, 4], [18, 5, 23, 204, 73], [762, 5, 604, 962, 4, 94, 150, 136, 6, 337, 842, 215, 154, 738, 654], [22, 3, 301, 2, 7, 9], [227, 257, 49, 30, 113], [54, 56, 99], [110, 106, 16, 50, 4, 382, 13, 873, 43, 294, 27, 348, 157, 595, 492, 596, 175, 303], [46, 46, 101, 193, 1, 28, 841], [22, 3, 25, 223, 27, 36, 92, 273], [272, 29, 55, 72, 2, 85], [29, 385, 220, 120, 48, 49, 2, 177, 2, 655, 795, 21, 86, 73, 569, 86, 2, 195, 377, 456], [176, 47, 504, 19, 66, 54, 22, 3, 163, 127, 22, 3, 1, 11, 7, 108, 15, 3, 11, 69, 1, 67, 4, 459, 2, 3, 50, 5, 899], [198, 13, 43, 294, 27, 538, 595, 492, 16, 21, 596, 785, 200, 233, 729], [15, 556, 390, 480, 8, 25, 79, 523, 154, 802, 5, 995, 142, 61, 79, 523, 36, 76, 707, 5, 241, 247], [34, 71, 600, 71, 31, 30, 305, 9, 307, 317, 71, 17, 116, 7], [1, 74, 426, 79, 19, 498, 305], [33, 387, 852], [90, 394, 28, 3, 336, 164, 10, 32, 5, 18, 14, 141, 35, 146, 18, 5, 136], [100, 191, 3, 52], [248, 248, 133, 15, 126, 66, 11, 110, 367, 256, 133, 343, 110], [11, 1, 70, 3, 2, 101, 20, 27, 166, 15, 628, 83, 9, 723, 18, 13, 115, 723], [490, 6, 336, 52], [71, 31, 3, 336, 721], [1, 560, 6, 979, 528, 627, 90, 77, 242, 317, 364], [33, 9, 418, 21, 23, 81, 369, 101, 245, 104], [6, 17, 4, 757, 860, 118, 758, 6, 84, 23, 278, 16, 2, 620, 52, 91, 860, 86, 114, 233, 251, 121, 193], [56, 19, 3], [38, 520, 428, 476, 520], [54, 8, 5, 15, 5], [17, 3, 25, 624, 151, 275, 27, 190], [29, 157, 890, 8, 908, 550, 640, 2, 29, 157, 9, 21, 67, 429, 2, 64, 195, 121, 456, 423], [36, 298, 2, 932, 52, 45, 33, 2, 82, 4, 898, 263, 39, 112, 40, 149, 30, 621, 24, 1, 288, 617], [36, 74, 9, 5, 14, 525, 130, 4, 312, 23, 71, 10], [3, 17, 9, 51, 5, 9, 39, 642, 247], [98, 110, 40, 577, 110, 40, 594, 22, 133, 127, 3, 11, 8], [26, 3, 70, 4, 103, 397, 772, 107, 63, 107, 455, 262, 919, 68, 773, 91, 27, 16, 21, 774, 12, 434, 60], [531, 174, 13, 401, 56, 4, 16, 50, 430, 603, 16, 2, 541, 3, 63, 178, 175, 147, 140, 177], [3, 149, 2, 10, 197, 1, 207, 88, 2, 370, 19, 3, 244, 221, 12, 194], [590, 386, 2, 30, 109, 107, 63, 154, 56, 42, 41, 81, 68, 3, 426, 9, 4, 274], [11, 744, 8, 150, 546, 9, 150, 473, 23, 33, 25, 438, 682, 99, 23, 147, 6, 235, 20, 413, 83, 27, 529, 77], [19, 613], [92, 32, 101, 2, 58, 88], [90, 51, 5, 276, 642], [46, 155, 10, 205, 389, 1, 108, 1, 82, 99, 254, 11, 3, 227, 11, 488, 5, 770, 63], [46, 741, 1, 14, 59, 46, 1, 36, 479, 139, 123, 1, 17, 2, 26, 113, 963, 281, 11, 745, 7, 55, 17, 2, 199, 24, 3, 28, 16, 10, 65, 654], [1, 437, 994, 9, 340, 20], [688], [98, 467, 36, 62, 88, 50, 151, 7, 1, 59, 2, 82, 6, 1, 128, 1, 373, 6, 229, 18, 5, 115, 83, 34, 6, 22, 44, 155, 10, 4, 16, 398], [29, 173, 406, 33, 265, 139, 494, 33, 139, 123, 94, 18, 270, 23, 278, 803], [71, 384, 8, 32, 10, 34, 94, 150, 504, 832, 61, 11, 516, 84, 11, 44, 15, 130, 15, 339, 493, 420, 654], [247, 110, 17, 4, 232, 66], [85, 8, 57, 57, 771, 156, 71, 8], [209, 62, 14, 245, 2, 4, 25, 196, 219], [3, 22, 302, 229, 30, 13, 95, 795, 50, 140, 177, 16, 635, 464, 607, 12, 64, 166], [579, 278, 550, 640, 15, 612, 2, 35, 188, 36, 551, 43, 458, 975, 327, 21, 67, 2, 636, 125, 675, 140, 323, 177], [267, 9, 150, 296, 43, 11, 687, 77, 6, 443, 355, 80, 148], [27, 329, 92, 28, 3, 99, 7, 191, 165, 99, 34, 93, 28, 42, 41, 12, 10], [328, 33, 18, 5, 7, 113, 242], [946, 33, 4], [87, 1, 244, 255, 3, 18, 39], [122, 6, 162, 4, 12, 1, 59, 7, 51, 66, 518], [34, 3, 102, 254, 92, 7, 326, 531, 94, 346], [40, 22, 594, 265, 171], [46, 77], [340, 350, 1, 74, 7], [619, 329, 338, 11, 517, 168, 36, 163, 11, 168, 25, 196, 54, 63, 1, 331, 160, 24, 1, 31, 73, 3, 32, 5, 332], [146, 14, 3, 118, 14, 59, 228, 37, 4, 143, 56, 558], [176], [490, 62, 4, 21, 61, 44, 65], [19, 136, 8, 338, 18, 434, 117, 76, 5, 136, 34, 6, 70, 2, 165, 94, 2, 439, 11, 224, 48, 24, 74, 2, 53, 75, 18, 710], [219, 8, 310, 1, 53, 1, 135, 14, 32, 78, 876], [411, 12, 21, 205, 323, 2, 13, 115, 68, 2, 121, 391, 195, 20, 86, 73, 86], [58, 2, 442, 86, 42, 483, 41], [127, 1, 35, 408, 11, 467, 5, 286, 677, 645, 10, 7, 1, 337, 49, 791, 24, 888, 225], [1, 62, 15, 511], [14, 373, 151, 199, 132, 46, 55, 1, 344, 7, 17, 14, 301, 76, 5, 63, 3, 512, 44, 3, 22, 173, 476, 17, 4, 57, 117, 221], [13, 8, 169, 392, 83, 911], [911, 364, 434, 6, 541, 150, 379, 720], [449, 19, 254, 4, 465], [247, 740, 110, 129, 101, 193, 588], [200, 24, 25, 56, 19], [14, 120, 509, 2, 26, 37, 5, 181, 863, 61, 4, 24, 321, 97, 754, 15, 147], [8, 800, 8, 228, 19, 6, 19, 876, 39, 32, 8, 14, 21, 777, 14], [26, 119, 51, 235, 20, 164, 44, 94, 51, 5, 460, 85, 976, 15, 85, 763, 72], [45, 263, 82, 11, 659, 111, 108, 2, 111, 22, 832, 111, 672, 53, 19, 2, 11, 367, 222, 977], [7, 300, 12, 10, 146, 21, 75, 3, 49, 7, 5, 334, 31, 982, 54, 3, 22, 523, 79, 7, 108, 13, 791, 7, 181, 552, 50, 3, 942], [45, 22, 3, 336, 591], [38, 40, 482, 783, 282, 317, 4, 112, 7, 1, 108, 40, 74, 2, 319, 9, 113, 23, 111, 53, 481], [712, 19, 277, 215, 5, 8, 14, 4, 128, 3, 17, 4, 116, 66, 249, 84, 72, 265, 109, 608, 491], [138, 110, 396, 47, 1, 60, 3, 594, 945], [6, 17, 4, 757, 118, 8, 411, 20, 134, 206, 37, 6, 162, 52, 118, 111, 84, 860, 118, 758, 29, 23, 278, 16, 18], [6, 17, 4, 757, 118, 8, 411, 20, 134, 206, 37, 6, 162, 52, 118, 111, 84, 860, 118, 758, 29, 23, 278, 16, 18], [138, 14, 9, 52, 15, 172], [38, 1, 31, 58, 85, 18, 5, 136], [3, 17, 114, 103, 106, 16], [10, 139, 8, 664, 2, 210, 44, 11, 7, 5, 489, 8, 277, 88], [133, 103, 258, 47, 22, 3, 127, 22, 3, 45, 22, 40, 707], [1, 59, 44, 51, 117, 139, 79, 39, 137, 4, 40, 476, 4, 653, 117, 52, 37, 7, 3, 163, 11, 488], [54, 6, 800, 896, 375, 167, 137, 877, 127, 13, 32], [487, 3, 467, 1, 204, 183, 2, 5, 323, 217], [46, 6, 28, 101, 10, 414, 45, 6, 30, 126], [367, 40, 259, 27, 259, 25, 49, 2, 2, 164, 759, 23, 9, 19], [12, 29, 325, 2, 189, 4, 909, 157, 187, 377, 73, 2, 683, 140, 404, 377], [110, 105, 910, 2, 39, 8, 89, 652, 478, 2, 206, 6, 73, 218, 2, 636], [23, 8, 745, 219, 8, 127, 1, 60, 47, 84, 6, 363, 51, 8, 57, 9, 349, 192, 88, 147, 6, 39, 377, 118, 59, 5, 121, 43], [98, 3, 36, 2, 273, 56, 2, 53, 34, 3, 227, 37, 5, 91, 48, 37, 138, 27, 38], [1, 960, 2, 13, 535, 39, 167, 1, 185, 3, 139, 11, 69, 1, 128, 13, 66, 504, 129, 7, 3, 22, 133, 1, 183, 12, 216, 2, 35, 621, 199], [46, 46, 46, 55, 712, 29, 670, 386], [69, 4, 137, 4, 508, 34, 40, 231, 118, 2, 69, 55, 161, 174, 35, 123, 24, 55], [1, 31, 35, 467, 212, 3, 31, 35, 664, 51, 42, 41, 13], [38, 122, 3, 142, 170, 27, 150, 545], [30, 166, 203, 91, 43, 27, 43, 635, 43, 125, 49, 20, 140, 253, 202, 5, 94, 276, 513, 455, 798, 365], [1, 82, 45, 40, 331, 40, 17, 901, 15, 2, 435], [176, 6, 6, 20, 192, 18, 129, 128, 46, 101, 193, 15], [116, 23, 141, 1, 67, 3, 11, 295, 143], [98, 440, 487, 3, 12, 5, 732, 3, 22, 173, 705, 47, 22, 3], [87, 1, 21, 55, 147, 29, 121, 870, 77, 23, 969, 217, 24, 64, 43, 78, 117, 529, 17, 4, 103, 357, 20, 221, 9], [150, 56, 361, 356, 443, 34, 1, 28, 32, 875, 503, 80], [372, 361, 57, 388, 7, 17, 4, 792, 294, 35, 7, 1, 128, 3, 493, 4, 57, 133, 103, 258, 2, 3, 594, 82, 3, 9, 4, 898, 15, 704], [300, 9, 300, 9, 489, 300, 45, 56, 300, 45, 6, 300, 228, 92, 2, 82, 6, 523], [1, 514, 20, 165, 119, 51, 692, 469, 4, 724, 18, 85, 586, 47, 272, 51, 70, 20, 921, 692, 27, 18, 14], [87, 59, 32, 5], [431, 124, 7, 174, 50, 5, 469, 38, 323, 1, 36, 100, 56, 111, 100, 74, 24, 38], [969, 813, 4, 325], [1, 17, 4, 18, 11, 146], [33, 25, 93, 37], [794, 15, 599, 14, 2, 410, 15, 888, 410, 94, 664, 14, 2, 35, 690, 167], [47, 123, 3, 62, 12], [18, 4, 117, 84, 6, 43, 323], [567, 534, 26, 17, 2, 967, 18, 2], [36, 44, 135, 4, 392, 880, 79, 6, 605, 23, 1, 100, 56, 6, 146, 21, 1, 373, 53, 194, 79, 117, 24, 1, 368, 168, 44, 12, 14], [413, 77, 1, 577, 4, 307, 78, 1, 287, 361, 46, 544, 24, 1, 74, 462, 443], [38, 74, 2, 144, 194, 2, 10, 1, 53, 1, 60, 124], [33, 604, 2, 35, 246], [270, 24, 38, 238, 443, 104, 62, 2, 49, 12, 270, 7, 411, 12, 987, 12, 578], [38, 1, 62, 19, 3, 72, 2, 182, 9, 739], [189, 5, 7, 5, 651, 15, 5, 541, 205, 91, 551, 205, 975, 325, 2, 35, 5, 213], [129, 33, 72, 2, 35, 124], [792, 18, 39, 442, 7, 14], [286, 35, 19, 6, 100, 17, 509, 6, 70, 19, 515, 6, 92, 17, 124, 2, 35, 160, 338, 6, 22, 83], [3, 22, 271, 5, 320, 186, 115, 4, 923, 771, 27, 4, 555, 153, 73, 345, 429, 2, 38, 195], [110, 40, 22, 72, 2, 89, 226], [846, 108, 1, 31, 49, 12, 14, 18, 930, 87, 1, 23, 246], [17, 4, 396, 32, 5, 9, 837, 27, 4, 541, 38, 4, 2, 35, 4, 541], [3, 22, 302, 76, 89, 695, 220, 76, 228, 3, 53, 2, 162, 52, 118, 14, 8, 16, 50, 13, 95, 27, 382], [995, 50, 98, 39, 8, 13, 237, 3, 17, 43, 428, 3, 17, 106, 16, 88, 18, 2, 13, 428, 7], [46, 77, 119, 994, 55, 142, 10], [179, 138, 24, 14, 31, 113, 2, 13, 66], [23, 54, 6, 163, 83], [69, 14, 5, 653, 32, 5, 427, 259, 982, 156, 3, 22, 523, 24], [461, 81, 661, 52, 9, 4, 307, 389, 68, 10, 127, 2, 164, 3], [240, 249, 361, 49, 2, 386, 8, 900, 80, 76, 7, 37, 229], [3, 17, 58, 362, 11, 161, 7, 5, 845, 245, 18, 10, 11, 256, 4, 300, 18, 11, 421, 539, 10, 224, 960, 7, 12], [81, 82, 34, 1, 28, 931, 76, 9, 4, 274, 62, 113, 249, 2, 101, 193, 15, 109], [33, 80, 10, 489, 449, 509, 8, 265], [29, 890, 8, 21, 555, 29, 239, 561, 8, 118, 9, 5, 20, 551, 73, 29, 551, 2, 57, 985], [137, 46, 383, 6, 221, 375, 139, 527], [353, 3, 276, 30, 309, 760, 52, 109], [135, 13, 95, 553, 12, 48, 2, 320, 576, 372, 919, 393, 520, 16, 95, 18, 746, 27], [73, 16, 2, 38, 131, 13, 934, 15, 166, 593, 292, 63, 2, 280, 50, 13, 115, 21, 264, 86, 140, 404], [202, 645, 981, 365, 20, 131, 3, 13, 131, 143, 219, 8], [168, 18, 5, 568, 1, 59, 34, 13, 2, 30, 618, 621, 40, 49, 4, 164, 7, 794, 15], [85, 57, 12], [213, 7, 671, 90], [384, 823, 255, 9], [158, 1, 60, 23, 81, 230, 419], [40, 614, 2, 16, 3, 583, 13, 91, 2, 89, 237, 12, 4, 397, 95, 772, 262, 919, 68, 48, 773, 91, 15, 16, 774, 21], [57, 117, 60, 72, 2, 221], [54, 28, 1, 26, 341, 390, 925, 23, 519, 159, 102, 479], [26, 3, 19, 9, 79, 497, 610, 17, 15, 631, 223, 37], [81, 35, 246], [13, 79, 10, 114, 215, 20, 166, 43, 205, 285, 282, 25, 436, 381, 656, 97, 91], [76, 930, 239, 112, 155, 10, 5, 572], [5, 311, 8, 18, 5, 37, 4, 4, 44, 37, 4, 118, 9, 5], [14, 249, 362, 45, 190, 56, 39], [165, 507, 27, 209, 243, 5, 613, 56, 526, 148], [152, 63, 119, 331], [26, 114, 217, 582, 19, 362, 310, 1, 70, 20, 9, 11, 168, 591, 109], [808, 583, 313, 14, 7, 1, 284, 3, 248, 133, 2, 7, 3, 49], [121, 601, 6, 126, 6, 144, 240, 26, 6, 733, 8, 126, 323, 15, 240, 137, 126, 241, 15, 4, 359, 138, 7, 6, 733, 118, 8, 376, 359, 240, 93, 8, 126, 811, 118, 78, 28, 126, 241, 15, 4, 330], [97, 1, 468, 371, 25, 64], [1, 475, 586, 239, 28], [10, 94, 130, 23], [8, 29, 9, 150, 27, 559, 529], [61, 36, 19, 39, 8, 29, 143, 23, 8, 14, 175, 192], [550, 103, 50, 409, 49, 73, 186, 2, 38, 429, 558, 83, 50, 64, 318, 140, 43, 785], [406, 33, 72, 414, 18, 11, 949, 21, 180, 11, 744, 25, 260, 275, 250, 6, 379], [404, 893, 54, 384, 2, 126, 150, 811, 73, 126, 150, 27, 811, 2, 21, 43, 325, 20, 189, 506, 157], [25, 533, 43, 119], [358, 48, 16, 10, 316], [25, 2, 479, 33, 196, 769, 30, 14], [87, 36, 2, 322, 19, 3, 102, 291, 805, 10, 44, 690, 32, 335, 50, 174, 19, 35, 46], [5, 485, 838, 299, 17, 5, 293, 36, 17, 5, 276, 15, 831], [23, 156, 373, 3], [156, 862, 54, 278, 65, 3, 135], [519, 34, 646, 531, 50, 4, 95, 253, 159, 6, 2, 688, 42, 41, 27, 42, 41, 26, 25, 26, 23, 5, 16, 632, 14, 124, 478, 15, 2, 134, 280, 15, 5, 724, 38, 76, 186, 94, 764, 94, 120, 105, 76], [26, 6, 70, 20, 164, 44], [419, 144, 98, 2, 7, 162, 52, 34, 62, 225, 724, 116, 27], [240, 57, 112, 784, 4, 606, 27, 190, 104], [36, 707, 13, 476, 16, 11, 110, 699, 26, 17, 4, 622, 66], [87, 11, 599, 14, 46, 34, 1, 58, 76, 21], [1, 672, 53, 295, 426, 1, 31, 165, 11, 980, 7, 67, 3, 11, 980, 8, 52, 15, 355, 21], [420, 4, 312], [152, 626, 113, 263, 8, 25, 36, 516, 376, 6, 224, 45, 6, 164, 170, 24, 516, 489, 6, 224, 45, 6, 185], [33, 9, 289, 31, 104], [34, 3, 92, 475, 5, 97, 191, 10, 53, 23, 1, 28, 49, 2, 5, 226, 1, 184, 14, 2, 30, 5, 143], [132, 138, 1, 28, 403, 73, 20, 6, 38, 820, 122, 6, 30, 678], [414, 911, 1, 533, 443, 270], [54, 6], [96, 99, 511, 535, 146, 21], [40, 474, 14, 32, 8, 887, 804, 75, 128, 92, 57, 2, 82, 3, 654], [36, 4, 274, 37, 11, 32, 5, 129, 20, 136, 62, 4, 9, 4, 208, 792, 1, 466, 313, 19], [26, 6, 560, 47, 20, 67, 390, 20], [324, 297, 1, 70, 2, 106, 3], [5, 103, 702, 972, 375, 239, 718], [46, 383, 1, 465, 322, 549, 85, 488, 148, 71, 149, 786, 273, 71, 149, 31, 786, 524, 1, 396, 232], [15, 719, 102, 10, 3, 53, 1, 409, 82, 942, 26, 181, 10, 11, 686, 300, 459], [3, 106, 155, 216, 83, 197, 42, 483, 41, 27, 5], [38, 78, 259, 35, 113, 386], [17, 6, 105, 238, 362, 11, 295, 34, 23, 171, 62, 4, 819, 45, 1, 11, 890, 6, 147, 1, 102, 30, 43, 19], [592, 29], [349, 16, 3, 517, 349, 113], [24, 3, 9, 644, 37, 10], [137, 46, 1, 192, 698, 121, 6, 559, 1, 58, 80, 211], [87, 81, 16, 104], [90, 90, 54, 22, 3, 70, 2, 38, 510], [2, 30, 13, 48, 68, 256, 2, 21, 175, 147, 365, 264, 64, 74, 255, 16], [946, 1, 102, 108, 71, 504, 2, 879, 71, 223, 109, 491], [98, 127, 22, 3, 481, 32, 7, 25, 2, 49, 52, 1, 794, 15, 60, 24, 224, 1, 23, 28, 40, 49, 52, 690, 102, 291, 26, 3], [13, 566, 8, 12, 67, 86, 2, 214, 649], [28, 3, 134, 14, 211, 27, 26, 3, 70, 2, 36, 183, 547, 160], [31, 3, 56, 2, 35], [152, 119, 163, 21], [270, 590, 88, 21, 55], [395, 277, 80, 393, 154, 239], [169, 250, 10, 443, 6, 221, 375, 139, 527], [335, 521, 360, 308, 988, 320, 372, 797, 43, 48, 135, 13, 115, 16, 48, 18, 2, 553, 21], [33, 257, 52, 11], [57, 473, 11, 69, 47, 504, 13, 66, 54, 22, 3, 44, 2, 1, 375, 7, 60, 498, 267, 12, 3, 353, 8, 498, 1, 82, 942], [97, 16, 10, 85, 54, 557], [759, 449, 40, 28, 210, 44, 50, 130, 104, 23, 158, 481, 617], [54, 8, 417, 8, 19, 3, 76, 99, 510], [642, 261, 116, 1, 453, 2, 96, 3, 25, 2, 96, 10, 13, 180, 14, 341, 134, 10, 24, 61, 10, 23, 171, 12], [92, 325, 65, 34, 3, 638, 742, 3, 31, 30, 14, 191, 17, 4, 283], [90, 26, 1, 74, 4, 27, 194], [29, 72, 20, 7, 403, 2, 4, 304, 798, 2, 131, 505, 157, 269, 64, 2, 620, 52, 73, 252, 2], [118, 227, 511, 263, 227, 3, 9, 4, 1, 286, 3, 227, 163, 19, 217, 3, 184, 10, 13], [384, 93, 101, 828, 389, 2, 2, 4, 138, 27, 38, 561], [376, 8, 367, 40, 28, 108, 15, 190, 2, 26, 71, 71, 17, 4, 232, 63, 211, 349, 395, 73, 6, 104, 180, 168, 398], [38, 110, 1, 59, 611, 945], [145, 33, 477, 23, 33, 685, 15, 6, 23, 152, 84, 6, 163], [46, 85, 1, 148, 1, 731, 210, 3], [282, 9, 11, 334, 3, 29, 29, 300, 29, 29, 462, 29, 237, 7, 333, 29, 792, 556, 57, 167, 110], [116, 668, 16, 2, 131, 13, 271, 348, 157, 27, 602, 486, 403, 2, 4, 304, 798, 21], [132, 46, 38, 956], [141, 1, 67, 3], [129, 74, 2, 197, 81, 191, 3, 53, 45, 33, 52], [765, 406, 248, 57, 2, 6, 200], [1, 624, 11, 268, 148, 6, 512, 44, 148], [54, 557, 2, 99, 96, 5], [168, 18, 54, 22, 2, 104], [38, 3, 298, 2, 30, 10, 2, 229, 4, 27, 190], [18, 117, 72, 37, 4, 931], [879, 1, 368, 341, 75, 129, 101, 114, 296], [11, 38, 9, 666, 10, 34, 29, 223], [237, 866, 240, 3, 297], [61, 42, 41, 90, 109, 132, 141, 1, 67, 80, 12], [180, 10, 94, 11, 744, 62, 38, 268, 83, 11, 499, 207, 52, 23, 444, 20, 315, 9, 565, 27, 152], [247, 110, 493, 4, 232, 66], [33, 21, 77, 24, 604, 88, 2, 151, 212, 150, 546, 720, 1, 413, 970, 379, 173, 232], [1, 184, 11, 2, 7, 1, 135, 2, 26, 12, 4, 307, 1, 108, 34, 3, 22, 685, 15, 26, 4, 18, 391, 172, 206, 99, 445, 8, 78, 10, 5], [40, 89, 317, 267, 12, 5, 2, 9, 15, 216, 24, 54, 40, 737, 8, 22, 474, 76, 25, 76, 267], [128, 3, 22, 306, 4, 116, 66], [672, 53, 183, 1, 31, 322, 14], [132, 55, 13, 115, 10, 24, 14], [328, 33, 48], [64, 135, 13, 95, 3, 22, 2, 553, 2, 5, 320, 576, 372, 95, 12, 48, 16, 5, 95, 553, 48, 18], [228, 120, 89, 695, 220, 7, 13, 115, 310, 111, 784, 3, 2, 162, 52, 118, 14, 8, 16, 50, 4, 382], [129, 181, 9, 291, 209, 64, 62, 510, 865, 12, 78, 125, 568, 4, 15, 157], [34, 3, 17, 10, 58, 2, 11, 80], [11, 9, 284, 3, 336, 4, 116], [430, 29, 342, 505, 555, 486, 612, 48, 501, 20, 84, 506, 502, 319, 73, 532, 2, 929], [1, 286, 40, 149, 20, 593, 25, 166, 3, 22, 246, 47, 141, 1, 3], [171, 12, 792, 3, 924], [1, 60, 25, 306, 99, 143, 316], [138, 1, 6, 2, 182, 103, 281, 989, 23, 1, 28, 283, 14, 52], [46], [38, 24, 610, 26, 2], [38, 407, 37, 5, 1, 344, 26, 14, 146, 552, 24, 1, 100, 53, 225, 426], [40, 28, 134, 4, 467, 9, 309, 605], [270, 30, 809, 2, 578, 2, 879, 363, 1, 53, 4, 312, 15], [601, 6, 185, 228], [49, 154, 99, 7, 503, 99, 215, 452, 634, 5], [90, 33, 301, 42, 41], [619, 56, 4, 386, 8, 92, 109, 7, 92, 33, 18, 5], [1, 56, 24, 133, 2, 52, 18, 5, 34, 14, 626, 3, 224, 329], [198, 39, 8, 89, 462, 478, 2, 206, 6, 13, 153, 50, 518, 8, 92, 492, 2, 131, 16, 21], [609, 613, 15, 4, 363, 178, 112, 59, 11, 11, 451, 284, 10, 11, 812, 514, 94, 23, 122, 11, 1, 207, 2, 151, 201, 11, 122, 25, 284, 75, 1, 11, 11, 450, 149, 637, 133, 637, 1, 943, 278, 93, 952, 10, 43, 268, 154, 268, 93, 910, 10, 2, 99, 40, 207, 65, 93, 149, 637, 26, 6, 291, 34, 1, 49, 362, 5, 12, 4, 662, 637, 1, 9, 4, 495, 93, 457, 52, 205, 680, 4, 94, 11, 451, 11, 812, 11, 11, 222, 94, 11, 51, 819, 7, 1, 59, 267, 18, 5, 810], [324, 329, 21, 1, 62, 4, 245, 10, 192, 329, 34, 1, 135, 4, 307, 245, 10, 20, 57], [145, 537, 21, 40, 164, 25, 201, 4, 63, 55, 47, 28, 1, 577, 5], [36, 229, 88, 21], [762, 11, 330, 83, 84, 6, 742, 221, 199, 178, 527, 6, 32, 43, 804], [83, 60, 72, 2, 738, 23, 60, 25, 472, 2, 5, 289], [444, 71, 369, 144, 49, 293, 63], [95, 569, 655, 107, 15, 5, 564, 12, 13, 95], [87, 209, 25, 799, 2, 19, 226, 1, 344, 26, 23, 160, 169, 87], [315, 32, 631, 24, 21, 902, 62, 4, 312, 15], [60, 18, 4, 88, 50, 23, 33, 25, 33, 229, 83, 31, 35, 223, 491, 26, 3, 784, 5, 569, 39, 112, 76, 5, 136], [297, 81, 68, 3, 9, 4, 307], [144, 39, 900, 371, 1, 69, 3, 159, 1, 74, 3, 871, 11, 256, 37, 13, 897, 67, 39, 2, 278, 263, 159, 6, 147, 160, 26, 14, 97, 97, 26, 14], [47, 22, 3, 163, 128, 751, 9, 12, 5, 103, 445, 258, 36, 3, 4, 622, 66], [87, 81, 16, 104, 9, 290], [168, 9, 352, 619, 56, 302, 228, 76, 18], [46, 33, 257, 661, 44, 2, 879, 9, 56, 389], [155, 99, 190, 2, 606, 34, 93, 722, 14, 7, 813, 55, 3, 99, 341, 730, 34, 93, 191, 10, 53], [22, 3, 2, 49, 12, 289], [13, 48, 385, 8, 267, 2, 35, 68, 5, 2, 2, 30, 7], [98, 741, 168, 6, 128, 3, 22, 306, 4, 57, 63, 45, 22, 6, 88, 7, 54, 63, 34, 6, 28, 155, 10, 4, 16, 32, 80, 654], [33, 88, 53, 45, 254, 301], [431, 36, 257, 479, 12, 321, 7, 71, 534, 155, 3, 238, 61, 38, 280], [36, 21, 577, 13, 142, 14, 90, 85], [161, 37, 228, 12, 4, 259, 35, 24, 4, 307, 37, 228, 118, 169, 69, 3, 515, 125, 338, 161], [33, 298, 2, 155, 3, 551, 13, 828, 115], [581, 420], [19, 149, 28, 3, 68, 130, 78, 125, 63], [11, 14, 18], [460, 14, 224, 886, 13, 25, 11, 323, 36, 11, 309, 201, 605, 6, 327], [50, 239, 350, 30, 233, 125, 520, 43, 29, 455, 650, 20, 16, 147, 584, 391, 318, 233, 208, 125], [514, 2, 96, 119, 692, 28, 119, 56, 143, 5, 23, 19, 137], [89, 695, 220, 120, 105, 422, 20, 206, 6, 76, 228, 16, 21, 51, 31, 35, 195], [575, 537, 6, 730, 8, 14, 3, 505, 555, 157, 27, 506, 768, 16, 21, 456, 423, 391, 405, 95], [240, 11], [38, 316, 261, 156, 1, 135, 124, 436, 568, 18, 5, 442, 178, 112, 17, 340, 239, 24, 1, 108, 1, 341, 530, 39, 63], [3, 196, 13, 373, 210, 14, 44], [204, 522, 3, 514, 11, 886, 349, 155, 6, 4, 61, 7, 37, 437], [87, 10, 72, 80, 213, 58, 119, 104], [98, 26, 6, 70, 2, 439, 10, 37, 104, 290, 170, 32, 16, 6, 154, 289], [114, 854, 19, 16, 391, 219, 1, 368, 392, 185, 236, 74, 236, 70, 236, 69, 236], [1, 135, 952, 6, 4, 561, 113, 593, 197, 61, 551], [122, 6, 62, 19, 613], [176, 6, 46], [388, 208, 104, 90], [187, 65, 8, 4, 723, 267, 12, 3, 2, 162, 14, 187, 276, 266, 65, 8, 234, 7, 69, 977], [548, 1, 292, 79, 51, 44, 9, 11, 660, 179, 1, 19, 34, 1, 135, 14, 149, 14, 449, 21], [101, 190, 12, 489, 34, 14, 2, 107, 787, 9, 5, 239, 82, 4], [189, 40, 17, 4, 747, 886, 175, 188, 124, 923, 125, 212, 23, 181, 124, 18, 29, 95, 27, 691, 140, 189, 253, 202], [11, 530, 28, 64, 35, 777, 1, 74, 2, 921], [364, 152, 31, 150, 192, 18, 845], [759, 8, 664, 225, 367, 63, 75, 23, 191, 10, 53, 45, 3, 7, 22, 260, 70, 2, 669, 7, 81, 96, 130, 2, 760], [189, 4, 258, 15, 43, 4, 857, 15, 29, 665, 555, 807, 89, 506, 502, 319, 73, 532, 2, 929, 303, 140, 177], [33, 80], [300, 9, 300, 9, 489, 300, 45, 56, 300, 45, 6, 300, 228, 92, 2, 82, 6, 523], [138, 178], [22, 13, 22, 3, 80, 275, 31, 3, 380, 2, 459, 13, 980, 9, 5, 167, 26, 3, 69, 10, 26, 3, 108, 15, 10, 22, 3, 415, 10, 275], [309, 3, 32, 7, 796, 56, 4], [1, 60, 9, 21, 72, 2, 413, 9, 4, 307, 389], [1, 135, 11, 484, 85, 50, 52], [3, 22, 25, 10, 24, 3, 17, 2, 11, 97], [90, 90, 156, 204, 3, 58, 109, 7, 638, 305], [352, 352, 243, 76, 9, 4, 330, 118, 6, 234, 8, 5, 78, 118, 6, 123, 24, 2, 14, 247, 864], [5, 899, 65, 4, 924, 9, 5, 924, 65, 8, 124, 9, 5, 65, 8, 4, 18, 5, 65, 22, 166, 535, 810], [796, 336, 508, 796, 7, 44, 43, 14, 21, 16, 36, 562, 208, 2, 86, 425, 16, 562, 208], [328, 71, 121, 10, 8, 55, 1, 554, 137, 11, 745, 180, 40, 290, 83, 883, 33, 34, 119, 591, 861, 27, 152, 883, 180, 950, 119, 679, 2, 658, 273, 703], [83, 33, 25, 24, 25, 48, 528, 6, 32, 29, 575], [34, 6, 250, 530, 55, 47, 1, 49, 20, 565], [395, 70, 2, 210, 44, 125], [209, 105, 298, 2, 355, 130, 408], [265, 1, 185, 3, 173, 123], [46, 23, 204, 183], [626, 11, 935, 245], [196, 1, 60, 578, 24, 31, 355, 11, 212], [475, 32, 974, 9, 11, 296, 72, 43, 354, 21, 6, 443, 23, 84, 111, 48, 211], [33, 9, 85, 15, 85, 643, 18, 85, 146, 753, 787, 15, 85, 42], [135, 13, 95, 388, 553, 2, 320, 360, 372, 397, 797, 12, 48, 37, 48, 425, 393, 520, 68, 138, 12, 4, 2, 620, 52], [47, 22, 3, 39, 101, 193, 699], [90, 90, 50, 160, 600, 448], [179, 116, 21, 168, 279, 796], [709, 1, 42, 41], [869, 275, 615, 656, 533, 6], [297, 374, 24, 273, 862, 20, 648, 1, 17, 105, 962, 901, 15, 51, 377, 40, 17, 62, 89, 649, 32, 5, 101, 193, 252], [1, 128, 3, 261, 5, 15, 302, 7, 794, 326, 992, 130, 79, 7, 181, 13, 713, 7, 51, 5, 276], [1, 70, 2, 82, 13, 705], [23, 629, 134, 14, 767, 27, 930, 75, 251], [145, 239, 845, 469, 4, 719, 32, 40, 28, 49, 12, 19, 239, 434, 96, 10, 54, 63, 3, 84, 48], [237, 639, 4, 103, 186, 8, 44, 43, 639, 83, 639, 8, 48, 20, 439, 101, 410, 73, 186, 2, 21], [1, 3, 56, 411, 9, 5, 346, 362, 4, 146], [769, 299, 522, 39, 24, 1, 17, 394, 62, 229, 32, 843], [272, 64, 67, 10, 5], [46, 77, 420, 272, 9, 445], [759, 8, 245, 24, 1, 17, 2, 210, 14, 44, 50, 130, 23, 81, 931, 76, 879, 9, 4, 401, 274], [46, 594, 89, 317, 23, 54, 22, 3, 539, 12, 354, 60, 1, 910], [1, 60, 9, 4], [490, 6, 733, 172, 247, 90, 247, 864], [120, 58, 2, 13, 588, 2, 134, 170, 7, 11, 237, 2, 155, 3, 7, 221, 57, 117], [46], [38, 74, 2, 272, 139, 477, 339, 287, 15, 39], [1, 394, 122, 12, 5, 213, 63, 9, 4, 452, 1, 207, 2, 370, 25, 139, 314, 154, 1, 37, 3, 44, 32, 282, 47, 59, 13, 117], [261, 297, 35, 109, 51, 117, 53, 45, 254, 223], [122, 71, 36, 144, 8], [1, 27, 6], [34, 78, 28, 26, 14, 6, 139, 28, 26, 14, 34, 28, 26, 14, 6, 409, 26, 14, 34, 78, 28, 26, 14, 191, 130, 26, 14, 34, 28, 26, 14, 230, 14, 7, 708, 34, 78, 28, 26, 14, 86, 130, 163, 14, 34, 28, 26, 14, 134, 4, 14], [322, 680, 1, 150], [48, 142, 171, 12, 5, 639, 220, 269, 195, 20, 124, 639, 73, 52, 20, 674, 73, 86], [6, 141, 17, 474, 124], [846, 33, 25, 1, 633, 85, 586], [122, 3, 546, 130, 7, 471, 122, 71, 144, 27, 231, 6, 25, 147, 130, 43], [60, 72, 2, 101, 349, 226, 5, 9], [240, 47, 84, 6, 168, 477, 286, 566, 30, 477, 37, 5, 404, 24, 1, 60, 96, 10, 190, 120, 803, 65, 194], [40, 17, 184, 12, 214, 220, 842, 2, 29, 545, 566, 12, 426, 206, 216], [67, 225, 143, 7, 155, 91, 160, 167, 12, 156, 3, 149, 19, 2, 130, 56, 19, 46], [1, 28, 134, 12, 3], [36, 5, 36, 599, 229], [38, 36, 67, 2, 3, 3, 9, 778], [138, 106, 230, 32, 42, 41, 23, 19, 32, 42, 41, 40, 28, 230], [55, 30, 113, 157, 621, 7, 81, 68], [98, 168, 277, 80, 18, 710, 145, 15, 719, 1, 4, 849, 783, 7, 754, 15, 349, 115, 6, 45, 1, 30, 88, 901, 15, 69, 252, 252, 252, 252, 252, 252, 252, 252, 252], [47, 22, 3, 163, 128, 751, 9, 12, 5, 103, 445, 258, 36, 3, 4, 622, 66], [51, 13, 129], [672, 38, 85, 712, 3, 386], [240, 38, 668, 18, 305, 111, 22, 539, 10, 183, 4, 112, 158, 168, 44, 12, 113, 7, 9, 92, 24, 35, 80, 79, 166], [316, 1, 60, 267, 12, 13, 16], [43, 282, 273, 20, 37, 4, 656, 50, 285, 50, 4, 76, 2, 155, 4, 20, 154, 262], [45, 3, 457, 2], [23, 123, 12, 5, 16, 1, 13, 193], [33, 9, 4, 290, 16, 10, 104, 32], [494, 21, 475, 44, 23, 4, 274, 28, 499, 207, 52, 379, 1, 204, 842, 21, 528], [46, 1, 60, 4, 7, 31, 715, 3, 37, 7], [820, 158, 34, 13, 25, 139, 52, 7, 168, 411, 2, 11, 278], [371, 44, 4, 7, 6, 7, 5, 71, 39, 266, 8], [1, 70, 2, 49, 2], [642, 20, 95, 84, 558, 16, 21, 680, 29, 681, 327, 607, 532, 195], [48, 121, 30, 791, 385, 48, 36, 91, 49, 2, 39, 142, 146, 21], [1, 369, 986, 80, 1, 49, 213, 24, 11, 744, 584, 96, 6, 45, 93, 90], [33, 88, 159, 481, 5, 296, 21, 81, 191, 3, 53, 34, 469, 357], [272, 152, 63, 119, 331], [97, 26, 10, 4, 97, 11, 343, 2, 97, 737, 14, 83, 8, 99, 343], [61, 542, 545, 177, 3, 82], [8, 88, 18, 13, 404, 49, 2, 18, 7, 327, 880, 18, 767, 23, 21, 620, 52, 2], [90, 33, 591, 212, 35, 65, 4, 401, 154, 381], [55, 40, 867, 26, 14, 154, 19], [132, 87, 106, 61, 215], [6, 144, 443, 15, 719, 321, 557, 383, 25, 144, 273, 369, 4, 274, 64, 77, 1, 287, 150, 527, 25, 23, 232, 443], [132, 132, 364, 858, 582, 386, 379, 49, 88, 17, 2, 199], [46, 1, 121, 6, 970, 1, 230, 11, 311], [87, 85, 137, 11], [22, 65, 696, 191, 10, 53, 106, 180, 1, 169, 74, 2, 326, 387], [3, 16, 130, 21, 46, 1, 149, 16, 130], [179, 111, 102, 53, 79, 11, 590, 115, 1, 231, 146, 21, 34, 1, 70], [469, 38, 876, 18, 2, 886, 25, 146, 34, 431, 25, 6, 133], [6, 28, 189, 506, 15, 532, 486, 612, 187, 112, 21, 73, 5, 345, 319, 2, 929, 140, 177], [1, 62, 4, 16, 50, 4, 382, 143, 1, 60, 422, 2, 58, 2, 1, 31, 49, 9, 5, 473], [1, 70, 2, 184, 42, 41, 83, 324, 339, 87, 34, 1], [924, 718, 30, 15, 398, 732, 18, 718, 115, 21, 2, 725, 251, 205, 317], [44, 13, 463, 37, 4, 492, 15, 4, 736, 142, 585, 4, 48, 203, 73, 724, 2, 597, 251, 736], [6, 84, 20, 859, 333, 377, 200, 48, 561, 881, 195, 121, 20, 674, 73, 86, 20], [31, 16, 154, 322, 9, 89, 161, 31, 50, 23, 97, 958, 173, 742], [149, 33, 126, 9, 126, 334, 371, 159, 149, 183, 6, 927, 126, 330, 802, 39, 121, 201, 371, 28], [110, 105, 910, 2, 39, 8, 89, 652, 478, 2, 206, 6, 73, 218, 2, 636, 195, 755, 756, 643, 983], [142, 417, 827, 12, 83, 8, 13, 726, 66, 20, 162, 52, 156, 761, 574, 140, 177, 65, 8, 4, 819, 3], [31, 14, 255, 34, 40, 72, 88, 199, 160], [145, 54, 557, 516, 22, 3, 461], [21, 73, 359, 27, 29, 241, 920, 993, 359, 269, 2, 597, 2, 439, 7, 30], [8, 301, 12, 9, 462], [1, 17, 815, 388, 75, 15, 83], [419, 34, 3, 44, 197, 828, 166, 39, 35, 4, 407], [1, 60, 542, 94, 7, 1, 304, 2, 3, 68, 4, 91, 2, 454, 88, 50, 10, 195, 251, 121, 91, 86, 2, 332], [6, 74, 11, 234, 6, 204, 69, 62, 14, 100, 10], [40, 22, 441, 72, 2, 221, 21, 104], [21, 62, 404, 20, 413, 6, 38, 151, 83], [24, 13, 699, 64, 42, 41, 42, 41, 450], [135, 13, 95, 388, 553, 2, 5, 320, 372, 397, 797, 12, 48, 181, 29, 293, 143, 30, 863, 48, 262, 425, 68, 138, 12, 4, 16], [40, 28, 49, 43, 150, 154, 89], [328], [43, 9, 74, 978, 18, 29, 463, 96, 29, 73, 203, 2, 597, 12, 27, 635, 12, 20], [168, 8, 416], [182, 43, 4, 325, 20, 189, 702, 922, 12, 607, 905, 650, 82, 253, 202, 607, 43, 981, 38], [14, 120, 146, 21, 349, 12, 99, 76, 160], [203, 569, 13, 120, 21, 20, 583, 91, 43, 27, 43, 114, 502, 195, 251, 112, 73, 86, 20, 86, 39, 121, 48], [47, 58, 93, 28, 30, 14, 141, 192, 361, 2, 368, 627], [51, 150, 276, 43, 29, 578, 529], [556, 110, 709, 110, 6, 84, 25, 24, 1, 28, 454, 100, 30, 304, 37, 38, 125, 6, 84, 234, 11, 110, 247, 740], [169, 1, 52, 18, 11], [406, 830, 10, 44, 45, 254, 88, 310, 948, 1, 17, 2, 723, 44, 37, 7, 71, 234, 120, 346, 7, 27, 8], [328, 1, 679, 544, 388, 34, 1, 272, 51, 62, 47, 248], [297, 1, 60, 42, 41, 314, 128, 3, 56, 170, 356], [286, 3, 780, 340, 78, 81, 396, 160], [156, 5, 470, 8, 9, 418], [238, 1, 17, 188, 143, 471, 26, 1, 26, 239], [113, 22, 75, 123, 75, 20, 593, 3, 341, 30, 726], [90, 55, 22, 3, 277, 2, 289], [1, 69, 387, 50, 80], [106, 16, 89, 214, 220, 941, 18, 390, 75, 3, 17, 188, 4, 271, 348, 157, 27, 538, 153], [85, 1, 169, 185, 6, 110], [417, 142, 39, 8, 4, 652, 206, 478, 3, 17, 417, 428, 267, 52, 89, 214, 673, 43, 917, 16, 21], [1, 493, 877, 986, 16, 1, 437, 2, 6], [179, 461, 1, 59, 19, 139, 270], [1, 2, 182, 4, 296, 61, 198, 24, 4, 15, 42, 41, 65, 8, 38, 2, 433, 42, 41, 324, 11, 956], [102, 134, 161, 139, 234, 162, 63, 2, 14, 259, 25, 497, 2, 13, 161, 24, 125, 161, 2, 29, 497, 247, 740, 588], [1, 135, 4, 57, 63, 139, 61, 232, 2, 26, 190, 4, 274, 37, 11, 12, 4, 582, 82, 236, 212], [172, 22, 3, 27], [75, 6, 28, 16, 10, 544, 388, 692], [487, 3, 23, 123, 45, 40, 676, 7, 40, 373, 30, 5, 15, 13, 779, 128, 3, 22, 57, 3, 132, 40, 22, 245, 2, 313], [3, 336, 279, 88, 507, 149, 3, 227, 685, 79, 25, 12], [81, 191, 3, 53, 45, 14, 9], [289], [9, 219, 226, 26, 3, 70, 85], [3, 22, 181, 511, 487, 3], [61, 56, 19, 702, 1, 108, 3, 9, 4, 847, 217], [152, 84, 6, 163], [132, 8, 14, 219], [448, 969, 467, 128, 374, 15, 151, 145, 49, 20, 6, 754, 15, 398], [145, 3, 243, 13, 241, 2, 448], [145, 592, 44, 87, 79, 5, 246, 91], [11, 782, 72, 2, 125, 338, 10, 85], [380, 18, 19, 66], [574, 177, 566, 213, 147], [98, 61, 10, 3, 22, 395, 306, 139, 123, 432, 2, 30, 39, 142, 24, 1, 286, 566, 73, 6, 180, 168, 477, 7, 120, 105, 32, 10, 51, 117], [6, 180, 53, 84, 962, 32, 332, 6, 9, 666, 10, 34, 29, 434, 69, 398], [171, 4, 312, 12, 13, 18, 11, 343, 171, 3, 12, 539, 11, 343], [21, 64, 1, 986, 80, 1, 60, 173, 862, 21, 1, 31, 58], [1, 100, 53, 231, 3, 165], [48, 501, 362, 89, 909, 502, 36, 68, 5, 345, 189, 2, 21, 269, 175, 147, 140, 253, 202], [], [61, 339, 6, 73, 10, 26, 6, 380, 10, 50, 1, 70, 20, 292, 20, 6, 73, 10], [550, 48, 68, 659, 36, 68, 46, 2, 7, 610, 822, 13, 295], [3, 17, 188, 75, 4, 884, 214, 89, 935, 120, 3, 2, 189, 4, 153, 2, 429, 8, 458, 36, 16], [180, 1, 59, 52, 414, 549, 855, 369, 21, 94, 1, 366, 130, 20, 165, 152, 71, 235, 77, 55, 71, 600, 118, 1, 59, 549, 94, 71, 708, 855, 77], [57, 26, 3, 108, 3, 231, 67, 10, 113, 1, 174, 69, 2, 82, 13, 564, 7], [200], [19, 515, 50, 2, 81, 35, 279, 4, 226, 2, 536, 245, 65, 23, 1, 102, 17, 2, 88, 7, 75, 1, 17, 548, 11, 782, 552, 50], [196, 918, 3, 546, 5, 470, 44, 41], [54, 258, 7, 47, 248], [60, 25, 387, 24, 60, 44, 2, 9, 23, 31, 68, 6, 104, 45, 4, 274, 125, 48, 12, 218], [337, 30, 70, 323, 882, 184, 816, 2, 29, 95, 439, 5, 882, 455, 73, 933, 2, 21, 864, 318, 233, 121], [16, 10, 45, 3, 30, 5, 325, 519, 42, 166], [33, 169, 87, 1, 13, 488, 18], [12, 3, 827, 8, 37, 51, 19, 8, 25, 45, 3, 286, 1, 135, 412, 3, 3, 227, 18, 5, 370, 5, 45, 1, 457, 9, 1, 149, 40, 227, 72, 154, 3, 62, 80, 50, 289, 106, 102, 283, 7, 10, 14, 626, 10, 70, 2, 889, 2, 3], [38, 137, 25, 33, 877, 42, 41, 497, 631, 7, 35, 238, 50, 11, 254, 25, 851, 2, 17, 2, 37, 39, 281, 39, 8, 281, 156, 1, 102, 96, 3], [90, 90, 33, 72, 2, 39, 112, 2, 82, 11, 823, 1, 148, 5, 76, 664, 23, 64, 1, 70, 238, 1, 31, 155, 14, 18, 114], [448, 21, 119, 127, 34, 119, 49, 272, 979, 9], [23, 47, 22, 3, 169, 54, 22, 3, 44, 2, 460, 5, 7, 23, 18], [177, 629, 3, 67, 48, 7, 428, 168, 961, 39, 142, 50, 65, 26, 3, 82, 5, 12], [179, 129, 392, 32, 51, 23, 1], [52, 37, 11, 699, 7, 225, 589], [6, 74, 4, 50, 150, 433, 6, 235, 20, 101, 242, 333], [109, 8, 13, 891, 402, 2, 86, 428, 91, 86, 140, 253, 202, 214, 649], [36, 62, 289, 257, 49, 912], [137, 46, 32, 875, 92, 223], [93, 207, 2, 340, 480, 83, 24, 92, 355, 80], [739, 12, 42, 41, 16, 42, 41, 12, 885, 177], [72, 2, 101, 13, 176, 52], [3, 100, 53, 3, 10], [14, 200, 4, 46], [270, 1, 108, 1, 122, 139], [98, 128, 6, 30, 39, 73, 105, 711, 21, 79, 233, 262, 246, 1, 108], [3, 17, 188, 4, 271, 348, 157, 27, 4, 602, 153, 2, 131, 718, 153, 16, 89, 214, 220, 941, 18], [1, 395, 534, 315, 32, 51, 83, 1, 108, 33, 257, 47, 59, 13, 393, 122, 6, 185, 10], [90, 601, 29, 48, 58, 2, 11, 80, 7, 172, 727, 1, 493, 184, 545, 2, 130, 172, 329, 58, 517, 35, 48, 83], [114, 9, 20, 9, 739], [1, 108, 6, 17, 5, 832, 143], [81, 82, 54, 926, 22], [820, 349, 17, 2, 108, 79, 14, 46, 254, 126], [1, 204, 183, 2, 82, 3, 47, 227, 5, 227], [180, 1, 237, 119, 55, 119, 633, 91, 23, 1, 183, 43, 119, 2, 91, 383, 1, 554, 119, 475, 331, 29, 152], [46, 47, 248, 141, 1, 182], [111, 84, 4, 671, 325, 2], [90, 152, 200], [309, 219, 289, 26, 3, 337, 101, 5, 449, 289, 8, 572], [38, 61, 15, 978], [57, 167, 646], [57, 473, 176, 47, 504, 19, 66, 107, 305, 275, 1, 185, 3, 11, 69], [109, 8, 11, 103, 630, 51, 19], [328, 287, 15, 6, 528, 152], [251, 208, 2, 16, 50, 13, 399, 308, 36, 251, 208, 322, 177, 12, 675, 683, 68, 86, 2, 620, 52], [28, 58, 11, 357, 24, 58, 11, 311, 180, 11, 311, 92, 270], [209, 986, 148], [331, 290, 16, 10], [40, 908, 17, 4, 142, 13, 492, 2, 429, 13, 142, 36, 16], [127, 22, 3, 3, 149, 3, 174, 35, 109, 45, 1], [145, 954], [19, 8, 978], [7, 775], [46], [2, 859], [592, 13, 357, 143, 199, 337, 134, 196, 33, 18, 5, 146], [1, 100, 733, 450, 1, 36, 606], [89, 552, 178, 117, 958, 12, 99, 7, 589], [790, 611], [3, 17, 105, 496, 2, 347, 4, 447, 16, 197, 5, 721, 391, 264, 175, 303, 365], [232, 232, 47, 8, 14, 387], [38, 93, 373, 1, 31, 638, 498, 7, 191, 3, 53], [100, 19], [1, 373, 30, 29, 572, 121, 8, 415, 67, 14, 199], [47, 248, 384, 14, 101, 2, 30, 2, 5, 15, 4], [163, 11, 45, 31, 3, 182, 4, 180, 1, 17, 12, 7, 460], [514, 3, 227, 387, 83, 337, 218, 24, 249, 22, 46, 23, 730, 10, 4, 68, 45, 254, 48, 477, 806, 7, 81, 666, 128, 51, 8, 129, 7, 51, 654], [172, 7, 3, 174, 36, 49, 2, 5, 7, 435, 12, 5, 540, 2, 35, 184], [1, 108, 1, 60, 99, 85], [171, 12, 5, 14, 59, 817, 487, 17, 4, 116, 112], [1, 62, 12, 32, 1, 346, 3, 25, 42, 63, 41, 729], [129, 1, 31, 413, 9, 192], [7, 172, 209, 130, 229, 4, 898, 526, 23, 566, 25, 68, 130, 52, 15, 5, 894, 411, 12], [98, 88, 122, 982, 34, 3, 62, 76, 4, 27, 190, 321, 123], [45, 1, 17, 281, 2, 1, 344, 96, 3], [1, 244, 181, 72, 834, 39, 14, 59, 299, 11, 2, 503, 3, 52, 24, 34, 3, 655, 2, 26, 19, 338, 181, 5, 357, 871, 23, 1, 102, 17, 2, 144, 38, 2, 55, 419, 261, 5, 276, 138, 1, 453, 3, 2, 35, 23, 419, 224, 12, 358, 47, 1, 224, 45, 1, 17, 4, 266, 118, 717, 2, 730, 182, 7, 1, 17, 2, 144, 38, 75, 803, 39, 167, 209, 614, 509, 1, 102, 53, 54, 587, 2, 26], [38, 138, 106, 105], [524, 77, 236, 28, 49, 43, 354, 621], [261, 11], [176, 1, 3, 1, 74, 3, 1, 937, 3, 33, 23, 609, 408, 3, 176, 1, 69, 3], [141, 49, 2, 7], [71, 149, 1, 396, 705, 549, 314, 488, 152, 24, 1, 287, 431, 361, 43, 10, 443], [556, 110, 709, 110, 6, 84, 25, 24, 1, 28, 454, 100, 30, 304, 37, 38, 125, 6, 84, 234, 11, 110, 247, 740], [33, 72, 20, 974, 21, 10, 994, 212, 6, 994], [48, 142, 13, 550, 48, 68, 428, 76, 2, 39, 142, 37, 5, 345, 48, 12, 981, 691, 140, 177], [222, 19, 6, 28, 536, 18, 218, 37], [138, 33, 848, 7, 8, 5, 757, 15, 11], [3, 53, 65, 8, 1, 466, 403, 2, 3, 9, 42, 41, 389, 55], [33, 172, 457, 2, 357], [23, 460, 128, 3, 22, 25, 215, 13, 101, 193, 304, 5, 880], [237, 639, 4, 103, 186, 8, 44, 43, 639, 83, 639, 8, 48, 20, 439, 101, 410, 73, 186, 2, 21, 755, 756, 643, 983], [790, 83, 1, 60, 246, 12, 42, 41, 208], [3, 17, 188, 75, 4, 884, 214, 89, 935, 120, 3, 2, 189, 4, 153, 2, 429, 8, 458, 36, 16], [26, 3, 352, 19, 45, 254, 578, 646, 72, 338, 3, 8, 124, 7, 618, 578, 338, 3, 8, 4], [71, 888, 2, 86, 72, 2, 370, 7, 134, 37, 5, 828], [513, 12, 195, 91, 635, 27, 993, 114, 20, 158, 166, 971, 285, 436, 58, 37, 10, 27, 86, 43, 125, 513, 73, 125], [54, 2, 108, 38, 78, 616, 46, 230, 38, 74, 2, 165, 99, 1, 31, 49, 34, 93, 58, 27, 25], [90, 49, 7, 221, 129, 101, 976], [1, 60, 18, 5, 136, 2], [132, 3, 62, 248], [38, 47, 6, 5], [46], [181, 11, 65, 34], [29, 157, 890, 8, 908, 550, 640, 2, 29, 157, 9, 21, 67, 49, 2, 636, 64, 195, 121, 456, 423], [138, 5, 64, 226, 9, 418, 2, 164, 8, 21, 9, 5, 202, 73, 218, 2, 636, 21, 195, 121], [281, 54, 132], [33, 32, 151, 106, 16], [2, 280, 13, 822, 5, 905, 9, 5, 239, 73, 142, 27, 109, 574, 905, 177, 94], [3, 149, 25, 21, 38, 407, 45, 3, 28, 191, 10, 53], [93, 149, 637, 26, 6, 291, 34, 1, 49, 362, 5, 12, 4, 662, 637, 1, 9, 4, 495, 93, 457, 52, 205, 680, 4, 94, 11, 451], [98, 615, 67, 113, 232, 659], [519, 34, 646, 531, 50, 4, 95, 253, 159, 6, 2, 688, 42, 41, 27, 42, 41, 26, 25, 26, 23, 5, 16, 632, 14, 124, 478, 15, 2, 134, 280, 15, 5, 724, 38, 76, 186, 94, 764, 94, 120, 105, 76], [40, 53, 75, 15, 69, 24, 5, 242, 114, 59, 451, 52, 15, 225, 282, 20, 2, 99, 166, 9, 99, 42, 41, 580, 43, 71, 55, 782, 561, 127, 5, 8, 5, 69, 5, 116], [4, 353, 59, 246, 20, 80, 225, 833, 15], [57, 473, 11, 69, 107, 305, 22, 3, 415, 10, 54, 26, 3, 26, 22, 3, 302, 7, 27, 133, 7, 37, 11, 69], [254, 25, 196, 19, 33, 25, 298, 2, 134, 669, 310, 1, 102, 70, 2, 669, 154, 302, 243, 1, 669, 139, 123], [34, 3, 663, 5, 138], [36, 1, 457, 2, 85], [33, 973, 256, 33], [28, 6, 30, 20, 115, 21, 1, 337, 218, 20, 617, 44, 164, 16, 10, 21, 18, 6, 28, 842, 109, 374, 654], [45, 122, 3, 30, 2, 5], [164, 154, 268], [194, 383], [179, 8, 19, 13, 268, 645], [3, 17, 188, 4, 271, 447, 27, 201, 348, 131, 29, 447, 16, 48, 18, 269, 20, 86, 18], [39, 8, 5, 462, 63, 40, 17, 614, 20, 206, 6, 6, 17, 188, 5, 772, 153, 20, 131, 8, 458, 16, 21, 64, 562, 251, 208, 399, 623, 446], [3, 17, 2, 97, 134, 4, 15, 51, 93, 200, 2, 172, 162, 52, 50, 99, 445, 34, 646, 587, 59, 8, 65, 4, 27, 9, 5, 311, 191, 10, 53, 104], [500, 672, 737], [328, 46, 1, 49, 80, 396, 32, 5, 55, 1, 121, 119, 199, 72, 2, 18, 462, 259, 139, 24, 99, 706, 8, 32], [158, 151, 8, 265, 600, 178, 112, 51, 5, 293, 281, 75, 197, 24, 458, 7, 336, 22, 432], [38, 24, 40, 835, 4, 575, 2, 182, 113, 18, 136, 88, 21, 28, 1, 16, 9], [26, 6, 493, 107, 750, 76, 241, 9, 29, 738], [244, 292, 18, 115, 37, 812], [846, 494, 229, 50, 151], [45, 3, 30, 48, 16, 10], [939, 826, 2, 6, 139], [1, 74, 124, 24, 33, 229, 231, 1, 210, 44, 9, 124, 400, 27, 480], [21, 60, 48, 16, 10, 450], [198, 106, 16, 50, 382, 538, 157, 27, 4, 43, 294, 595, 492, 175, 303, 596, 447, 405, 264], [5, 345, 9, 598, 50, 5, 219, 515, 5, 8, 790, 17, 4, 57, 66], [224, 56, 298, 199, 273], [61, 34, 34, 335, 136, 55, 61, 329, 12, 130, 2, 14], [24, 3, 227, 621, 23, 3, 141, 35, 79, 130], [33, 9, 4, 647, 429, 296, 902], [1, 70, 2, 13, 21], [33, 32, 151, 106, 16], [420, 24, 11, 343, 8, 215, 148], [969, 359, 244, 49, 78, 66], [269, 317, 2, 6, 31, 35, 15, 51, 5, 320, 668, 7, 674, 67, 30, 86, 2], [46, 28, 35, 104, 223, 436, 436, 804, 34, 3, 70, 17, 606, 197, 25, 2, 238, 18, 34, 3, 102, 291, 75, 163, 19, 377], [145, 1, 31, 35, 246, 33, 32, 74, 2, 606, 27], [1, 491, 40, 49, 52, 94, 17, 113, 432, 23, 9, 418, 27, 190, 46], [309, 5, 702, 877, 215, 70, 2, 49, 2, 212], [542, 304, 16, 21, 36, 251, 208, 725, 456, 423, 8, 4, 623, 446, 16], [132, 324, 246, 129, 17, 4, 57, 117, 7, 1, 31, 155, 6, 4, 16, 160, 21, 72, 2, 49, 2, 221, 117, 117], [1, 11, 410, 902, 28, 119, 30, 14, 130], [97, 97, 162, 52, 50], [55, 119, 165, 499, 2, 210, 119, 44, 383, 272, 235, 20, 536, 524, 285], [31, 212, 30, 2, 304], [1, 3, 22, 4, 608, 573, 7, 33, 298, 25, 2, 35, 4, 1, 17, 2, 30, 113, 5, 136, 7, 55, 283, 5, 26, 17, 4, 622, 66], [62, 305, 9], [38, 85, 72, 2, 292, 9, 404], [4, 56, 42, 41, 4, 335, 8, 491, 7, 3, 877, 4, 770, 671, 12, 42, 41], [236, 135, 36, 21], [129, 1, 17, 2, 230, 12, 11, 289, 176, 3, 299, 457, 88, 2, 10, 128, 3, 17, 4, 232, 221, 11, 69], [54, 63, 6, 30, 52, 6, 227, 851, 2, 101, 10, 414, 83], [1, 36, 474, 113, 23, 100, 17, 19, 123, 87, 174, 3, 70, 14, 27, 5, 242, 136], [324, 297, 1, 60, 4, 7, 31, 715, 3, 37, 7], [48, 513, 128, 3, 13, 103, 795, 68, 86, 2, 2, 674, 255, 76, 253, 202], [535, 1, 286, 302, 133, 59, 5, 485, 217, 18, 24], [297, 68, 10, 45, 3, 661, 52], [499, 453, 2, 292, 79, 5, 23, 1, 62, 4, 246, 326, 21], [158, 261, 54, 1, 286, 53, 34, 604, 18, 104], [6, 84, 4, 747, 6, 105, 496, 20, 347, 348, 157, 27, 4, 43, 294, 403, 2, 4, 304, 798, 20, 131, 208, 269], [61, 742, 2, 522, 249, 56, 39, 51, 28, 144, 24, 108, 197, 616, 194, 2, 10], [46, 1, 64, 165, 533, 150, 647, 6, 235, 528], [122, 6, 162, 52, 54, 63, 5, 442, 8, 32, 632, 1, 74, 2, 113, 281, 52], [355, 80, 16, 10], [46, 77], [451, 47, 93, 5, 63, 15], [328, 306, 11, 268, 21, 6, 315, 148], [46, 77], [3, 28, 299, 26, 321], [237, 649, 12, 13, 68, 97, 140, 584, 674, 37, 86, 38, 863, 650, 255], [14, 8, 4, 57, 217, 33, 21, 279, 5, 2], [47, 26, 3, 386, 2, 19], [821, 98, 467, 843, 36, 62, 4, 103, 337, 147, 4, 542, 736, 27, 784, 4, 218, 168, 218, 2], [444, 586, 71, 633, 144], [93, 149, 637, 26, 6, 291, 34, 1, 49, 362, 5, 12, 4, 662, 637, 1, 9, 4, 495, 93, 457, 52, 205, 680, 4, 94, 11, 451], [132, 75, 963, 27, 61], [158, 261, 5, 1, 62], [1, 28, 24, 14, 31, 96, 361, 314, 180, 1, 641, 331, 11, 963, 275], [55, 6, 49, 88, 77], [1, 100, 17, 107, 15, 13, 9, 11, 1, 59, 9, 151, 45, 3, 366, 10, 1, 96, 3, 34, 1, 162, 194, 9, 11, 357], [38, 114, 186, 203, 43, 29, 463, 187, 112, 36, 73, 2, 333, 203, 48, 23, 30, 21, 7, 96, 29, 222, 195, 203, 264, 91], [46, 1, 466, 292, 2, 130], [47, 22, 3, 37, 238, 75, 9, 2, 3, 238, 4, 217, 47, 22, 3], [531, 174, 13, 401, 56, 4, 16, 50, 430, 603, 16, 2, 541, 13, 63], [1, 422, 2, 58, 739, 7, 638, 12, 305], [299, 4, 66, 9, 29, 161, 57, 317, 155, 6, 392, 317, 155, 6, 594, 22, 9, 161, 51, 22, 57, 167], [97, 100, 737, 2], [1, 53, 3, 229, 83], [1, 31, 358, 1, 30, 80], [87, 81, 16, 104], [979, 164, 18, 434, 119, 18, 434], [592, 630], [132, 8, 39, 5, 213, 63, 6, 280, 567, 688, 15, 535], [948, 135, 410, 63, 305, 778], [151, 1, 380, 19, 54, 384, 14, 224, 56, 179], [176, 1, 815, 3, 31, 3, 283], [148, 78, 573, 686, 3], [47, 59, 178, 117, 209, 105, 7, 7, 173, 401, 301, 12, 125, 414, 605, 54, 794, 15, 63, 26, 3, 337, 164], [14, 599, 886, 166], [], [98, 5, 136, 1, 59, 37, 6, 8, 5, 136, 39, 8, 5, 323, 10, 29, 1, 128, 1, 53, 6, 43, 5, 976, 15, 128, 6, 162, 471, 59, 815], [25, 466, 32, 285, 30, 4, 442, 2, 311], [287, 192, 28, 236, 1, 979, 49, 43, 270, 28, 49, 12, 78, 770], [46, 24, 199], [938, 3, 4, 817, 112], [438, 404, 77, 232, 78, 55, 1, 56, 77], [48, 372, 797, 37, 50, 43, 350, 37, 772, 262, 114, 20, 521, 73, 172, 16, 27, 844], [17, 57, 393], [821, 128, 6, 56, 20, 181, 10, 779, 62, 4, 337, 147, 11, 736, 73, 27, 91, 543, 2, 86, 2], [54, 22, 104, 398], [172, 245, 107, 3, 28, 162], [38, 1, 59, 298, 14, 51, 393, 273], [90, 196, 60, 9, 11, 80, 237, 10, 516, 97], [48, 142, 13, 550, 48, 68, 428, 76, 2, 39, 142, 37, 5, 345, 48, 12, 981, 691, 140, 177], [200, 50, 5, 14, 546, 65, 8, 38, 61, 51, 79, 7], [12], [1, 244, 403, 95, 17, 407, 1, 28, 889, 3, 24, 3, 889, 11, 23, 1, 520, 3, 104], [48, 121, 87, 4, 220, 3, 50, 231, 25, 35, 75, 3, 26, 25, 17, 822, 106, 564, 44, 2, 347, 5, 220], [158, 15, 4, 828], [132, 169, 921, 4, 49, 2, 4, 647, 7, 35, 80, 76, 720], [70, 5, 320, 397, 772, 814, 107, 455, 262, 335, 521, 308, 988, 91, 27, 16, 774, 12, 580, 160], [5, 572, 23, 1, 341, 35, 76, 211], [57, 167, 440, 133, 103, 258], [60, 18, 4, 88, 50, 23, 33, 25], [33, 32, 80, 94, 301], [13, 45, 1, 74, 14], [184, 10, 516, 12], [171, 12, 13, 15, 4, 397, 50, 751, 105, 881, 108, 3, 28, 26, 329, 156, 25, 67, 4, 397, 9, 4], [925, 52, 65, 5, 723, 228, 108, 9, 15, 6, 113, 127, 52, 65, 127, 588, 58, 464, 159, 367, 588], [465, 39, 112, 7, 7, 57, 2, 170], [369, 457, 88, 268, 549, 11, 744, 64, 6, 443], [75, 1, 11, 11, 450, 149, 637, 133, 637, 1, 943, 278, 93, 952, 10, 43, 268, 154, 268, 93, 910, 10, 2, 99, 40, 207, 65], [1, 36, 68, 5, 345, 46, 18, 13, 95, 115, 7, 67], [346, 176, 274, 44], [29, 157, 890, 8, 908, 550, 640, 2, 29, 157, 9, 21, 67, 157, 2, 636, 64, 195, 121, 456, 423], [15, 132, 346, 4, 573, 4, 374, 18, 4, 904, 24, 18, 99, 661, 4], [198, 106, 16, 50, 382, 13, 873, 43, 294, 27, 538, 157, 595, 492, 596, 175, 303, 423, 405], [282, 9, 11, 334, 3, 29, 29, 300, 29, 29, 462, 29, 237, 7, 333, 29, 792, 556, 57, 167, 110], [15, 261, 547, 3, 30, 109, 491], [1, 368, 261, 156, 3, 583, 947, 3, 409, 53, 19, 469, 4, 136, 5, 7, 33, 361, 196, 3, 479, 610, 101, 14, 971, 213, 5, 111, 31, 45, 13, 8, 55, 36, 321, 751, 149, 8, 4, 743, 2, 479, 24, 1, 344, 181, 18, 3, 44], [409, 58, 104, 1, 130, 9, 85, 473, 883], [8, 65, 107, 647, 1, 28, 49, 2, 7, 413, 919, 7, 36, 435, 358], [129, 260, 158, 1, 380, 471, 19, 8, 820], [57, 167, 519, 16, 10, 316], [404, 893, 54, 384, 2, 126, 150, 811, 73, 126, 150, 27, 811, 2, 21, 43, 325, 20, 189, 506, 157], [508, 83, 1, 466, 30, 19, 110], [145, 28, 3, 155, 10, 4, 45, 3, 30, 39, 74, 2, 292, 2, 3, 79, 39, 691, 18, 5, 333], [183, 26, 3, 53, 34, 9, 418, 1, 93, 384], [90, 81, 661, 52, 9, 4, 307, 262, 82, 3, 65], [33, 21, 24, 17, 2, 183, 537, 20, 12, 5, 442, 2, 210, 10], [57, 76, 5, 136, 31, 155, 6, 984, 12, 434, 603, 282, 804, 403, 197, 55, 252], [1, 80, 9, 5, 423], [198, 40, 22, 298, 2, 206, 6, 670, 319, 351, 19, 3, 17, 188, 4, 602, 153, 271, 16, 50, 700, 308, 131, 571, 840, 64], [395, 861, 338, 19, 34, 5, 127, 1, 108, 14, 8], [240, 47, 504, 19, 103, 305, 22, 3, 65, 21, 22, 3, 133, 26, 3, 108, 15, 10, 1, 512, 11, 7, 67, 3, 4, 459, 50, 5, 899], [1, 204, 210, 5, 115, 146, 21, 97, 67, 4, 142], [841, 225, 8, 11, 23, 26, 3, 151, 445], [28, 3, 106, 666, 822], [83, 8, 87, 66, 34, 352, 1, 59, 698, 37, 3, 34, 352, 1, 27, 525, 3, 519, 519, 36, 61, 29, 33, 57], [24, 3, 141, 155, 14, 18, 78, 66], [436, 32, 5, 320, 92, 65, 34, 3, 28, 44, 113, 7, 70, 2, 155, 5, 103, 4, 283], [46, 77, 27, 6, 235, 10, 49, 396, 43, 6], [4, 307, 263, 22, 32, 5, 702, 33, 32, 5, 37, 7], [172, 96, 130, 1, 149, 133, 343], [9, 85, 296, 933], [470, 176, 1, 185, 3, 123, 1, 284, 3, 227, 109, 2, 221, 37, 10, 11, 370, 8, 23, 1, 49, 21, 2, 221, 2, 880, 15, 3, 11, 69], [24, 33, 169, 169, 132, 38, 8, 139, 848, 201, 42, 41], [90, 90, 47, 79, 13], [57, 473, 47, 19, 66, 22, 40, 7, 133, 2, 35, 26, 40, 9, 5, 7, 300, 1, 108, 15, 3, 11, 69, 75, 234], [6, 102, 53, 47, 1, 60, 1, 288, 201, 70, 2, 49, 2, 5, 1, 853, 33, 25, 4, 22, 12], [47, 22, 3, 284, 3, 4, 116], [90, 90], [87, 207, 2, 370, 375], [22, 3, 302, 57, 467], [15, 5, 15, 5, 9, 857, 21, 91, 76, 20, 43, 325, 20, 189, 91, 86, 2, 332, 793], [3, 92, 223, 411, 2, 210, 44, 104], [33, 9, 445, 21, 94, 81, 35, 9, 85, 163, 113, 281, 155, 10, 4, 16, 45, 119, 84, 260], [1, 3, 44, 65, 197], [272, 83], [47, 8, 13, 239, 112, 1, 60, 52, 15, 418, 39, 393], [98, 33, 1, 60, 854, 497, 631, 7, 151, 75, 4, 1, 69, 776, 68, 10, 304, 33, 1, 11, 21, 68, 2, 76, 269], [328, 1, 287, 111, 84, 150, 149, 19, 31, 134, 11, 421, 396, 855, 165, 10, 25, 20, 786, 139], [272, 761, 229, 43, 152, 137], [126, 837, 4, 363, 59, 835, 18, 42, 483, 41, 42, 41, 473, 114, 225, 451, 366, 903, 20, 903, 618, 166, 451, 316, 1, 59, 611, 45, 5, 599, 226, 43, 1, 59, 205, 1, 59, 805, 285, 311, 1, 207, 20, 126, 829, 427, 282, 40, 207, 20, 327, 436, 40, 207, 20, 4, 903, 126, 14, 91, 37, 743, 34, 6, 84], [138, 1, 600, 2, 67, 2, 134, 14, 24, 489, 457, 88, 23, 33, 88, 9, 370, 465, 32, 5, 139, 1, 867, 157, 9, 51, 11], [28, 26, 77], [471, 8, 6, 44, 20, 55], [179, 17, 3, 474, 926, 12, 103, 497], [132, 158, 137, 11], [1, 165, 34, 6, 290, 85, 529, 527], [200, 1, 31, 101, 64], [341, 129, 168, 65], [64, 34, 3, 13, 279, 52, 75, 212, 75, 3, 28, 7, 769, 68, 10, 9, 5, 167, 2, 191, 10, 53, 3, 474, 14, 9, 46], [54, 79, 39, 78, 55], [25, 50, 4, 452, 16, 43, 218, 625, 308, 2, 842, 235, 732, 15, 10, 55, 68, 2, 67, 86, 398], [439, 5, 882, 220, 7, 6, 28, 17, 776, 36, 44, 7, 5, 73, 501, 2, 21, 864, 121, 195], [3, 234, 151, 36], [47, 122, 6, 53, 54, 1], [55, 29, 30, 4], [5, 15, 161, 8, 9, 239, 671, 219, 15, 1, 284, 187, 671, 31, 35, 817, 9, 29, 161, 247], [240, 47, 22, 3, 83, 1, 174, 69, 2, 17, 4, 218, 156, 100, 3, 96, 10, 54, 3, 396, 56, 7, 54, 3, 22, 9, 2, 495], [7, 185, 5, 7, 465, 6, 409, 25, 53, 10, 173, 129], [16, 10, 85, 1, 60, 267, 12, 13, 16], [7, 76, 5, 136, 14, 59, 505, 27, 25, 594], [243, 19, 71, 8, 72, 2, 439, 225, 823, 9], [634, 265, 57, 2, 454, 50, 3, 47, 22, 3, 11, 110, 133, 103, 258, 132], [335, 521, 360, 308, 988, 320, 372, 797, 43, 48, 135, 13, 115, 16, 48, 18, 2, 553, 21], [81, 30, 65, 32, 166, 3, 336, 70, 10, 2, 58, 113, 63], [641, 194, 7, 431, 25, 11, 425, 23, 33, 71, 19, 149, 5, 8], [657, 594, 15, 216, 163, 150, 293, 217, 24, 1, 62, 404, 20, 413, 6, 28, 287, 15, 127, 20, 49, 211, 27, 6, 148, 679, 692, 9, 291], [3, 31, 35, 9, 5, 226, 15, 19, 363], [106, 137, 64, 4, 42, 483, 41, 400, 530, 12, 10, 1, 58, 245, 51, 5, 63, 7, 31, 35, 12], [93, 412, 14, 173, 93, 36, 149, 93, 174, 5, 330, 9, 79, 5, 7, 19, 1, 141, 37, 5, 79, 11, 340, 226, 24, 997, 498, 21, 7, 51, 223, 22, 42, 41, 7, 44], [15, 653, 248, 20, 6, 118, 84, 20, 39, 84, 301, 20, 29, 187, 74, 28, 6, 68, 2, 318, 437], [466, 16, 21, 110, 306, 484], [17, 3, 88, 32], [8, 7, 10, 19, 252, 8, 828, 44, 5, 75, 40, 403], [808, 171, 2, 4, 57, 266, 6, 17, 188, 5, 913, 424, 430, 153, 20, 131, 8, 458, 36, 16, 21, 64, 562, 251, 662, 399, 623, 446], [34, 1, 326, 961, 2, 31, 3, 162, 12, 10, 56, 350, 7, 96, 499, 25, 2, 182, 50, 646, 132], [90, 85, 47, 248, 3, 70], [240, 467, 122, 3, 30, 88, 2, 13, 22, 3, 44, 5, 935, 21, 13, 47, 504, 14, 1, 185, 3, 148], [132, 14, 518, 1, 135, 4, 880, 19, 1, 135, 20, 594, 1, 59, 23, 25, 64, 79, 5, 24, 170, 302, 1, 201, 243, 9, 11, 880, 19, 71, 59, 648, 33, 25, 279, 9, 5, 421], [85, 11, 9, 8, 9, 24, 323, 543, 8, 83, 24, 100, 14, 1, 466, 155, 3, 4, 278, 715, 34, 3, 181, 5, 757, 107, 136, 171, 12, 5], [23, 19, 722, 552, 113, 238], [7, 805, 170, 44, 50, 563], [843, 288, 108, 14, 59, 19, 1, 101, 14, 51, 88, 29, 25, 4, 6, 14, 229], [1, 31, 82, 9, 335, 124, 400], [196, 24, 134, 196, 71, 968, 40, 275], [158, 24, 219, 8, 12, 1], [106, 5, 115], [145, 642, 566, 374, 20, 24, 135, 20, 49, 80], [3, 17, 75, 761, 9, 32, 177, 7, 807, 42, 41, 2, 928, 15, 26, 25, 27, 2, 646], [126, 837, 4, 363, 59, 835, 18, 42, 483, 41, 42, 41, 473, 114, 225, 451, 366, 903, 20, 903, 618, 166, 451, 316, 1, 59, 611, 45, 5, 599, 226, 43, 1, 59, 205, 1, 59, 805, 285, 311, 1, 207, 20, 126, 829, 427, 282, 40, 207, 20, 327, 436, 40, 207, 20, 4, 903, 126, 14, 91, 37, 743, 34, 6, 84], [12, 6, 68], [48, 564, 385, 2, 502, 385, 30, 333, 112, 48, 67, 2, 166, 251, 112, 86, 237], [16, 10, 45, 6, 331, 55, 1, 58, 94, 210, 6], [169, 57, 358, 199], [46, 5, 540, 45, 22, 119, 72, 2, 541, 1, 108, 137, 18, 259, 632, 286, 337, 49, 52, 37, 24, 93, 48], [3, 17, 188, 4, 271, 348, 157, 27, 4, 602, 153, 2, 131, 718, 153, 16, 89, 214, 220, 941, 18, 390], [122, 6, 82, 54, 1, 18, 13], [361, 46, 24, 4, 274, 6, 329, 49, 315, 692, 21, 587, 81, 224], [87, 81, 16, 104], [525, 10, 10, 134, 10, 24, 9, 5, 332, 15, 11, 161, 45, 1, 519, 181, 78, 18, 11, 7, 144, 1, 185, 6, 17, 4, 232, 66, 977], [38, 11, 687, 207, 20], [], [46, 261, 116, 420, 4, 312], [1, 60, 285, 40, 31, 35, 4, 57], [1, 101, 14, 40, 288, 17, 5, 115, 693, 28, 40, 40, 534, 17, 14, 39, 258, 21], [101, 29, 63], [66, 278, 189, 215, 348, 9, 89, 893, 7, 101, 13, 18, 5, 568, 15, 4, 67, 49, 2, 21, 195, 121], [359, 6, 53, 8, 633, 832, 101, 193, 367, 7, 479, 147, 6, 69], [449, 30, 13, 760, 215, 2], [39, 8, 78, 15, 5, 317, 3, 17, 4, 146], [870, 1, 554, 6, 433, 174, 557, 314, 906, 148], [4, 274, 15, 29, 300, 8, 11, 4, 730, 15, 29, 8, 11, 4, 410, 15, 29, 256, 8, 11, 161, 4, 256, 56, 728, 731, 193, 12, 6, 75, 11], [179, 38, 36, 59, 608], [90, 24, 1, 70, 2, 582, 5, 85, 1, 337, 30, 27, 455], [171, 10, 37, 7], [33, 18, 5, 442, 69, 3], [1, 38, 115, 32, 54, 8, 394, 4, 705, 400, 24, 33], [54, 8, 664, 3, 23, 314], [309, 3, 223, 4, 266, 15, 2, 210, 44, 104, 211], [54, 63, 3, 108, 769, 17, 14, 74, 2, 53, 45, 1, 141, 35], [420, 43, 961, 10, 80], [61, 869], [84, 6, 109, 275, 33, 894, 94], [132, 90, 1, 108, 485, 15, 7], [843, 1, 69, 3, 123, 3, 53, 1, 28, 14, 1, 982, 47, 13, 66, 504, 7, 34, 3, 22, 129, 11, 69, 1, 108, 15, 3, 7, 185, 3], [198, 13, 95, 143, 120, 105, 342, 37, 4, 602, 153, 271, 16, 50, 700, 308, 131, 571, 840, 64], [31, 356, 71, 8, 617], [32, 54, 63, 141, 1, 58, 160], [97, 67, 10, 13, 630, 316], [870, 77, 181, 86, 27, 6, 235, 20, 49], [6, 96, 168, 192, 4, 274, 180, 20, 493, 180, 111, 227, 572, 168, 92, 43, 114, 252], [38, 516, 24, 16, 10, 154, 113, 63, 349, 96, 3, 90], [38, 11, 25, 277], [176, 33, 88, 58, 88, 2, 10], [1, 21, 273, 796], [22, 3, 92, 37], [1, 69, 236, 139, 24, 283, 7, 13, 238, 329, 176, 174, 18, 10, 34, 71], [46, 1, 60, 18, 5, 136, 2, 80, 98, 98], [659, 84, 25, 63, 111, 144, 19, 1, 60, 685, 15, 6, 146, 21, 7, 172, 539, 6, 108, 15, 10, 32, 875, 43, 4, 711, 869], [487, 3, 440, 1, 70, 2, 82, 13, 232], [138, 3, 204], [7, 775], [4, 330, 28, 17, 4, 817, 300, 19, 626, 201, 225, 99, 2, 224, 12, 302, 124, 23, 5, 334, 37, 13, 300, 790, 159, 17, 4, 957], [590, 68, 10, 45, 254], [38, 1, 60, 25, 306, 25, 107, 9, 11], [634, 265, 99], [98, 54, 3, 108, 79], [189, 4, 414, 187, 112, 21, 20, 327, 68, 857, 2, 318], [3, 708, 30, 2, 362, 19, 154, 1, 17, 482, 3, 834, 13, 419, 201, 306, 3, 315, 10, 12, 4, 452, 197, 1, 412, 24, 172, 5, 224, 15, 19, 18, 13, 76, 5, 3, 234, 118, 3, 313, 11], [37, 143, 42, 41, 12, 998, 42, 483, 41, 120, 105, 2, 5, 295, 18, 42, 41, 32, 42, 63, 41, 42, 41], [57, 57, 681, 51, 799, 36, 105, 199, 122, 313], [156, 3, 10, 552, 56, 39], [360, 214, 3, 259, 21, 131, 13, 48, 372, 115, 12, 13, 16, 21, 18, 378, 944, 175, 683, 365, 620, 52, 696], [823, 133, 103, 258, 895], [779], [70, 20, 30, 211, 70, 323, 882, 184, 816, 20, 29, 463, 439, 5, 882, 455, 76, 892, 2, 121, 195], [353, 8, 71, 302, 57, 27, 392, 8, 71, 302, 27, 156, 8, 302, 474, 2, 183], [46, 297, 82, 236, 55], [1, 60, 246, 1, 31, 35, 65, 32], [19, 515, 30, 5], [416, 141, 1, 36, 386, 2, 58, 44, 104, 211], [1, 29, 46], [158, 49, 18, 55, 477, 7, 12, 115, 2, 666, 128, 5, 491], [45, 1, 3, 59, 5, 346, 62], [590, 19, 257, 35, 212, 27, 104, 211], [33, 257, 35, 80, 212, 7, 1, 102, 70, 2, 292, 79, 39, 281, 211, 90, 209, 510, 83], [1, 31, 58, 2, 29, 80, 21], [38, 1, 344, 164, 3, 9, 5], [3, 409, 35, 129, 215, 113, 19], [40, 482, 223, 89, 25, 36, 2, 35, 50, 279, 525, 24, 2, 162, 52, 118, 510, 2, 645, 5, 159, 30], [1, 100, 53, 165, 2, 11, 699, 321, 407, 113, 217, 19, 36, 1, 243], [2, 35, 187, 117], [270, 11, 7, 22, 10, 7, 11, 22, 951, 2, 332, 5, 117, 37, 4, 108, 1, 231, 931, 76, 9, 56, 124, 400], [152, 63, 6, 331, 29, 996, 83], [3, 17, 124, 417, 214, 220, 50], [16, 10, 45, 260], [385, 569, 622, 103, 816, 2, 13, 95, 187, 112], [48, 397, 372, 797, 37, 335, 521, 308, 988, 12, 887, 7, 550, 262, 752, 793, 16, 667, 27, 844], [444, 586, 119, 51, 77, 47, 533, 1, 554, 8, 72, 94, 1, 121, 130], [364, 64, 62, 278, 521, 204, 315, 379, 786, 528, 858, 183, 524, 1, 331, 152, 268, 92, 858, 315, 152], [98, 852, 2, 216, 214, 834, 16, 7, 678], [128, 3, 13, 103, 795, 68, 86, 2, 2, 674, 255, 76, 253, 202], [2, 7, 181, 5, 186, 94, 702, 37, 569, 186, 49, 20, 140, 177, 674, 50, 91, 37, 5, 345, 52], [75, 251, 13, 810, 120, 105, 617, 75, 13, 12, 51, 922, 381, 2, 13, 222], [9, 242, 668, 154, 10, 2, 30, 130, 12, 4, 112, 120, 38, 238], [198, 13, 95, 143, 120, 105, 342, 37, 4, 602, 153, 271, 16, 50, 700, 308, 131, 571, 840, 64, 405], [61, 25, 5, 293, 109, 92, 411, 12, 4, 305, 47, 123, 26, 65], [8, 39, 13, 115, 92, 61, 50, 738, 7, 54, 22, 3, 44, 2, 21], [843, 5, 84, 88, 101, 19, 202, 189, 984, 541, 37, 569, 73, 569, 2, 725, 675], [179, 46, 81, 99, 139], [7, 2, 3, 316], [110, 768, 20, 131, 13, 333, 289, 45, 13, 294, 768, 16, 45, 333, 289, 252, 20], [270, 169, 132, 38, 47, 55, 31, 111, 13, 706, 529], [93, 200, 162, 1, 184, 3, 124, 142, 2, 53, 47, 21], [57, 473, 11, 781, 47, 22, 3, 508, 83, 329, 1, 128, 22, 3, 302, 11, 57, 353, 22, 3, 11, 26, 3, 106, 13], [321, 1, 780, 19, 358, 5, 238, 13, 295, 109, 5, 839, 31, 856, 61, 446, 228, 42, 41, 2, 11, 295, 7, 42, 41, 62, 23, 5, 7, 172, 35, 196, 3, 5, 330, 3, 22, 961, 295, 426, 2, 180], [27, 71], [138, 137, 51, 432, 709], [43, 32, 728, 36, 2, 52, 4, 386], [55, 152, 84, 6, 163, 21, 608, 549, 151], [75, 78, 15, 89, 6, 28, 807, 5, 319, 43, 4, 752, 507, 192, 486, 768, 76, 37, 807, 2, 674, 68, 86], [1, 53, 653, 234, 7, 53, 1, 62, 14, 450, 487, 3, 57, 117], [48, 121, 40, 13, 95, 143, 76, 50, 106, 16, 2, 17, 39, 16, 31, 35, 48, 50, 4, 399, 382], [61, 36, 5, 15, 36, 14], [57, 473, 460, 11, 781, 384, 71, 937, 10, 275, 2, 470, 10, 1, 185, 3, 176, 459], [116, 23, 54, 3, 2, 5], [475, 92, 75, 272, 58, 88, 565, 902], [59, 232, 605, 14, 122, 10, 229, 4, 274, 71, 71, 40, 49, 52, 43, 4, 606, 212, 493, 20, 49, 20, 85, 43, 4, 212, 69, 252, 252], [1, 207, 2, 763], [3, 11, 37, 5, 378, 15, 238, 1, 60, 9, 74, 45, 5, 332, 15, 5, 350, 7, 14, 11, 17, 4, 622, 393], [171, 7, 27, 7, 543, 75, 11, 115, 453, 2, 144], [34, 3, 102, 13, 153, 31, 49, 2, 340, 214, 175, 147, 32, 140, 175, 147, 269, 195, 208, 725, 106, 16, 88, 34, 608], [843, 254, 146, 1, 288, 663, 2, 26, 19, 1, 368, 358, 1, 44, 18, 7, 11, 638, 2, 190, 18, 11, 14, 92, 449], [22, 3, 510, 162, 52, 50, 140, 253, 202], [6, 28, 16, 21], [1, 60, 279, 50, 13, 75, 1, 130, 61, 124, 142], [272, 301, 55, 16, 10], [361, 77, 24, 250, 96, 130, 183, 71, 30], [7, 672, 337], [8, 72, 43, 150, 268], [25, 19, 1, 53, 15, 485, 263, 44, 109, 22, 92, 52, 15, 418], [122, 93, 144, 194], [3, 3, 17, 4, 116, 63, 7, 82, 3, 594, 212], [87, 85, 1, 799, 23, 248, 54, 2, 26], [1, 181, 707, 346, 7, 51, 55, 137, 394, 7, 33, 51, 132], [481, 51, 279, 947, 215, 109, 7, 17, 148, 5], [26, 3, 53, 156, 371, 390, 13, 23, 19, 78, 118, 8, 474, 12, 3, 598, 159, 511, 76, 13, 753, 37, 69], [61, 46, 34, 533, 10, 6, 727, 170, 945], [1, 204, 210, 5, 115, 146, 21, 97, 67, 4, 142], [1, 53, 127, 5, 42, 41, 8, 81, 35, 65, 223, 205], [3, 22, 4, 747, 6, 17, 105, 496, 20, 347, 348, 157, 27, 4, 43, 294, 403, 2, 4, 304, 798, 20, 131], [33, 80, 544, 152, 63, 31, 6, 355], [5, 573, 105, 548, 5, 645, 1, 53, 78, 242, 573, 24, 431, 75, 470, 7, 813, 56, 408, 10, 65, 7, 1, 244, 35, 44, 65, 547, 246, 211], [270, 128, 119, 28, 454, 5, 711, 985], [542, 218, 21, 16, 623, 446, 50, 114, 208, 2, 282, 208, 2, 86, 425, 16, 562, 208], [6, 6, 158, 84, 377, 434, 181, 15], [26, 3, 92, 17, 5], [84, 6, 290, 85, 32, 527, 529], [93, 243, 2, 19, 71, 70, 9, 739, 310, 33, 387, 109], [132, 46, 29, 678], [47, 92], [194, 77, 494, 594, 15, 216, 77], [27, 119, 49, 182, 549, 130, 55, 1, 164, 119, 104, 28], [75, 265, 133, 159, 163, 129], [64, 36, 62, 39, 142, 25, 3, 138, 1, 59, 414, 19, 8], [33, 234, 18, 21, 36, 67, 5, 142, 2, 10, 7, 1, 344, 30, 14, 3, 259, 17, 2, 67, 14, 9, 5, 95, 24, 1, 344, 30, 14, 7, 31, 91], [11, 161, 7, 69, 3, 312, 110], [103, 9, 202, 1, 396, 776, 37, 202, 336, 34, 6, 56, 432, 37, 10, 68, 2, 269, 73, 333, 318, 233], [765, 7, 479, 17, 624, 76, 940, 765], [23, 54, 26, 3, 336, 26], [55, 1, 182], [34, 3, 28, 134, 14, 107, 63, 211, 27, 918, 3, 28, 137, 297, 36, 68, 10, 918, 254, 223], [1, 204, 210, 5, 115, 146, 21, 97, 67, 4, 142], [592, 5], [46, 324, 297, 61, 36, 229, 505, 27, 5, 666, 45, 29, 82, 3], [23, 19, 515, 3, 92, 108, 15], [182, 43, 4, 325, 20, 189, 702, 922, 12, 607, 905, 650, 82, 253, 202, 607, 43, 981, 38], [727, 10, 273, 260], [110, 31, 16, 97], [30, 166, 203, 91, 43, 27, 43, 635, 43, 125, 49, 20, 140, 253, 202, 5, 94, 276, 513, 455, 798, 365], [48, 12, 333, 112, 186, 203, 43, 29, 463, 187, 112, 36, 73, 186, 2, 597, 30, 892, 7, 96, 29, 681, 140, 955, 253, 202, 689, 203, 264], [46, 24, 36, 457, 80, 7, 207, 2, 221, 25, 57, 32, 39, 572, 63, 151], [833, 8, 824, 55, 824, 8, 5, 15, 833, 34, 6, 936, 3, 493, 42, 41, 200, 561, 283, 2, 551], [460, 13], [75, 34, 1, 874, 306, 510, 611], [38, 346, 24, 1, 874, 19, 23, 1, 207, 7, 5, 517, 37, 19, 573, 1, 927, 9, 418, 109, 7, 40, 223, 4, 274, 24, 1, 288, 191, 130, 470, 10], [9, 161, 61, 878, 2, 712, 832, 4, 19, 4, 300, 27, 5, 19, 4], [100, 737, 3, 28, 226, 75, 248, 48, 37, 253, 202, 75, 3, 284, 12, 125, 827, 16], [152, 23, 246, 92, 375, 883, 27, 40, 494, 49, 43, 354, 77, 1, 444], [23, 460, 5, 215, 65], [769, 25, 107, 125, 659, 50, 5, 218, 12, 48, 649, 68, 49, 2, 34, 6, 30, 321, 6, 409, 920, 37, 718, 455, 283, 199], [219, 8, 172, 7, 5, 779, 19, 722, 5, 242, 136, 8, 219, 722, 4, 112, 24, 45, 14, 2, 3, 259, 17, 2, 2, 30, 13, 281], [6, 315, 315, 524, 6, 514, 533, 10, 148, 627, 6, 101, 23, 314, 20, 91, 1, 287, 137, 125, 338, 970, 23, 192, 21, 152, 466, 1, 315], [22, 3, 698, 37, 10, 54, 557, 110], [152, 84, 6, 163], [39, 217, 8, 4, 468, 4, 26, 102, 26, 4, 75, 244, 26, 39, 352, 199], [339, 586, 1, 554, 119, 144], [47, 17, 13, 401, 105, 23, 703, 39, 112, 74, 4, 503, 690, 244, 522, 137, 19, 63, 15, 112, 148, 765], [1, 874, 129, 176, 1, 17, 32, 11, 54, 122, 3, 332, 44, 163], [3, 17, 124, 417, 214, 220, 50, 16, 850, 21], [1, 468, 644, 3, 37, 52, 13], [40, 22, 298, 2, 206, 3, 178, 319, 351, 19, 3, 188, 4, 348, 153, 271, 16, 131, 402, 571, 840, 64, 405], [87, 81, 16, 104], [938, 3, 4, 570, 66, 694, 201, 125, 249, 2, 181, 3, 523, 26, 313, 14], [127, 32, 227, 796, 139], [46, 55, 1, 31, 58, 2, 29, 80, 154, 335, 124, 400], [570, 777, 89, 256, 723, 45, 228, 8, 9, 14, 24, 14, 173, 45, 228, 14, 57, 117], [38, 24, 3, 243, 10, 3, 227, 72, 197, 3, 62], [420, 43, 150, 137, 273, 232], [132, 236, 62, 713, 270, 1, 59, 685, 28, 49, 12, 55, 2, 394, 211, 33, 48, 443, 7, 469, 4, 706, 211], [7, 21, 36, 207, 52], [461, 176], [57, 138, 106], [98, 490, 84, 6, 85, 6, 83], [1, 514, 2, 96, 6, 1, 28, 30, 18, 18, 11, 115], [54, 26, 3, 26, 11, 409, 1, 234, 183, 537, 5, 332, 15, 13, 66, 2, 17, 345, 50, 3, 122, 3, 503, 52, 15, 63, 18, 13, 148], [12, 29, 325, 2, 189, 4, 909, 414, 73, 575, 2, 683, 140, 73, 20, 575, 177, 377], [28, 3, 97, 162, 52, 47, 123, 111, 9, 7, 47, 248, 526, 28, 14, 35, 809, 61, 173, 417, 2, 17, 4, 91, 197, 930], [60, 1, 5, 64, 78, 118, 813], [415, 3, 139, 958], [96, 13, 222, 54, 3, 386, 2, 26, 18, 66, 42, 41], [129, 32, 39, 146, 33, 257, 17, 2, 30, 44, 7, 322, 23, 68, 10, 45, 3, 70, 10, 2, 58, 30, 3], [1, 184, 170, 26, 3, 56], [3, 17, 114, 103, 106, 16], [1, 60, 664, 3, 12, 484, 47, 79, 4, 705, 37, 38], [328, 522, 152, 6, 169, 633, 147, 150, 121, 1, 184], [70, 20, 30, 211, 70, 323, 882, 184, 816, 20, 29, 463, 439, 5, 882, 455, 399, 892, 2, 869, 121, 195], [111, 31, 210, 44, 7, 730, 9, 296, 23, 38, 407], [137, 64, 544, 976, 51, 544, 32, 875, 219, 8, 521, 43, 20], [179, 38, 1, 36, 74, 2, 157, 9, 11, 58, 18, 197, 1, 52], [87, 158, 33, 109], [111, 102, 482, 19, 281, 18, 5, 2, 181, 14, 50, 279, 215, 65], [98, 61, 954, 14, 59, 792, 2, 82, 3, 211, 7, 349, 115, 3, 160, 1, 62, 2, 7, 4, 573, 10, 225, 724, 398], [47, 314, 384, 14, 101, 2, 30, 14], [14, 8, 64, 518, 464, 464], [61, 464, 2, 61, 241], [15, 51, 5, 159, 111, 952, 20, 9, 124, 111, 434, 111, 243, 376, 5, 474, 76, 831, 51, 52, 15, 126, 399, 64, 114, 373, 967, 71, 149, 34, 14, 8, 474, 76, 11], [12, 323, 45, 6, 279, 18, 309, 1, 64, 74, 20, 125, 984, 7, 78, 125, 7, 33, 260, 1, 148, 809, 51, 11], [8, 29, 215], [995, 50, 106, 16, 75, 65, 8, 124, 198, 142, 267, 12, 3], [965], [1, 102, 108, 71, 120], [81, 68, 21, 51, 56, 23, 71, 534, 108, 19, 40, 514], [61, 25], [465, 13, 262, 793, 18, 360, 27, 114, 20, 521, 764, 7, 37, 192, 48, 186, 48, 16, 667, 18, 746], [186, 513, 203, 2, 597, 993, 203, 2, 597, 140, 955, 253, 202, 195], [55, 29, 744, 47], [785, 72, 18], [198, 29, 342, 4, 873, 568, 2, 27, 348, 2, 131, 73, 433, 2, 269, 285, 318, 233, 388], [47, 1, 560, 634, 9, 85, 296, 21, 104, 55, 147, 383, 33], [309, 759, 4, 307, 222, 22, 148, 992, 10, 79, 3, 3, 387, 32, 51, 39, 393], [349, 155, 14, 2, 3, 452, 277, 2], [17, 3, 624, 151, 275], [1, 194, 77], [384, 25, 154, 42, 41, 27, 54], [88, 2, 50, 3, 454, 54, 803], [33, 802, 5, 68, 1, 36, 184, 3, 61, 780, 2, 35, 4, 23, 777, 14, 9, 19, 723], [14, 36, 830, 10, 20, 168, 828, 283, 11, 20, 842, 374, 6], [110, 10, 32, 9, 837, 6, 84, 277, 97, 16, 6, 326, 1, 466, 172, 355, 27, 96, 10, 219, 66, 6, 84, 277, 1, 60, 936, 61, 294], [247, 740, 110, 129, 101, 193, 588], [198, 40, 22, 298, 2, 206, 6, 670, 319, 351, 19, 3, 17, 188, 4, 153, 271, 16, 50, 700, 308, 131, 64], [54, 688, 15, 281, 26, 3], [33, 25, 578, 55, 81, 30, 32, 150, 77], [270, 129, 1, 835, 5, 7], [378, 131, 29, 665, 15, 891, 612, 68, 138, 2, 21, 734, 735, 95, 175, 303, 825, 953, 264, 91, 252], [152, 174, 6, 56, 43, 29, 343], [91, 2, 189, 506, 502, 54, 384, 327, 67, 86, 2, 2, 332, 220], [33, 14, 18, 21, 14, 141, 35, 301, 12, 42, 63, 41], [145, 26, 3, 70, 194, 2, 182], [19], [158, 26, 2, 721, 605, 190], [60, 498, 857, 12, 735, 26, 3, 70, 2, 182, 107, 217], [84, 6, 92, 387, 21], [968, 4, 573, 118, 24, 431, 245, 9, 7, 1, 102, 108, 1, 231, 617, 14, 44, 197, 56, 436], [394, 11, 95, 8, 572, 15, 121, 7, 1, 437, 163, 4, 151, 498, 127, 1, 74, 2, 67, 170, 42, 41, 184, 121, 1, 731, 6, 104], [184, 10, 29, 678, 566, 212], [129, 63, 2, 134, 520], [12, 15, 37, 5, 15, 51, 19, 3, 36, 122, 17, 4], [198, 13, 95, 143, 120, 105, 342, 4, 153, 271, 16, 50, 382, 131, 571, 840, 64, 405], [145, 406, 1, 17, 2], [3, 28, 134, 4, 9, 156, 26, 111, 30, 51, 5, 57, 281], [813, 507, 17, 289, 375, 160, 7, 35, 298, 2, 669, 32, 42, 41], [46, 10, 438, 404, 139], [214, 220, 40, 614, 2, 134, 4, 580, 2, 3, 24, 227, 2, 26, 23, 106, 16, 2, 583], [122, 3, 283, 539, 340], [685, 15, 6, 252], [270, 57, 2, 454, 33, 7, 18, 5, 12, 124], [601, 29, 698, 680, 6, 101, 14, 632, 302, 698, 8, 126, 485, 94, 464, 136, 15, 193, 94, 374, 17, 232, 66, 85], [45, 141, 1, 58, 215], [694, 9, 4, 66, 120, 61, 949, 167, 128, 473, 517, 374, 117, 976, 284, 6, 162, 170, 51, 83, 57, 167], [254, 257, 17, 2, 35, 136, 125, 338, 19], [511], [40, 53, 228, 118, 3, 53, 19, 3, 16, 2, 162, 52, 118, 689, 285, 195], [490, 47, 26, 3, 56, 5], [1, 31, 101, 193, 15, 407, 1, 31, 255], [321, 31, 352, 35, 458, 24, 102, 35, 411, 12, 4, 743, 25, 2, 101, 4, 18, 161, 7, 69], [97, 928, 5, 63, 2, 429, 5], [1, 74, 632, 1, 299, 49, 197], [5, 8, 2, 39, 639, 67, 52, 214, 193], [458, 745, 368, 5, 606, 59, 274], [158, 23, 107, 63, 239, 112, 3, 28, 30, 552, 50, 13, 980, 159, 30, 44, 197, 166], [36, 611, 7], [23, 45, 26, 3, 337, 912], [83, 8, 66, 6, 10, 75, 699, 782, 38, 515], [116, 945, 8, 11, 7, 598, 12, 187, 167], [161, 295, 38, 106], [5, 899, 65, 4, 924, 9, 5, 924, 65, 8, 124, 9, 5, 65, 8, 4, 18, 5, 65, 22, 166, 535, 810], [709, 179, 141, 327, 381, 309], [36, 611, 7], [720, 24, 1, 204, 49, 20, 29, 311, 987, 146], [198, 40, 22, 298, 2, 206, 3, 178, 319, 351, 19, 3, 17, 188, 4, 153, 271, 16, 131, 402, 571, 64], [15, 51, 5, 159, 111, 952, 20, 9, 124, 111, 434, 111, 243, 376, 5, 474, 76, 831, 51, 52, 15, 126, 399, 64, 114, 373, 967, 71, 149, 34, 14, 8, 474, 76, 11], [6, 58, 94, 638, 25], [13, 295, 120, 105, 37, 550, 48, 68, 428, 2, 36, 73, 5, 345, 822, 2, 38, 175, 303, 140], [14, 8, 55, 441], [209, 62, 8, 302], [28, 119, 51, 180, 11, 744, 72, 80, 379], [9, 565, 24, 633, 291, 6, 315, 333, 77], [200, 1, 108, 71, 8, 12], [4, 312, 15, 39, 217, 72, 101, 14, 458, 128, 6, 224, 329, 212, 179], [38, 49, 38, 12, 19, 357, 154, 408, 124], [28, 3, 97, 97, 67, 10, 4, 545, 18, 51, 3, 53, 79, 277, 2, 109, 51, 3, 53, 79, 7, 194, 587, 171], [1, 108, 209, 14, 28, 3, 67, 4, 540, 142], [90, 90, 127, 22, 3, 47, 122, 3], [1, 59, 19, 63, 3, 65], [460, 14, 72, 62, 107, 688, 33, 2, 327, 39, 603, 508, 491], [168, 11, 54, 79], [1, 184, 426, 2, 5, 545, 423], [110, 105, 910, 2, 39, 8, 89, 652, 478, 2, 206, 6, 73, 218, 2, 636, 195, 755, 756, 643, 983], [6, 16, 10, 32, 716, 46], [500, 14, 34, 3, 62, 14], [84, 119, 72, 43, 290], [46, 46, 46, 55, 712, 29, 670, 386], [38, 110, 1, 26, 17, 48, 428, 408, 107, 98, 98, 98], [46, 28], [105, 496, 2, 536, 9, 114, 15, 564, 12, 321, 294, 884, 32, 907, 2, 131, 623, 446, 16], [751, 188, 2, 5, 652, 27, 157, 2, 429, 16, 689], [260, 14, 24, 273, 971, 7, 67, 14, 31, 283, 199, 104, 27, 213, 217, 690], [179, 46, 13], [129, 260, 30, 5, 635, 385, 27, 576, 18, 95, 68, 203, 27, 2, 21, 620, 52, 73, 86, 318, 233], [87, 81, 16, 104], [179, 1, 19, 1, 577, 130, 9, 5, 857], [315, 260, 528, 559, 29, 996, 152, 272, 62, 996, 32, 887, 627], [138, 1, 31, 35, 65, 990, 3, 474, 14], [308, 37, 4, 356, 185, 194, 43, 29, 276, 161, 24], [230, 14, 516, 326, 12, 239], [61, 4, 101, 14, 37, 3], [40, 614, 2, 206, 3, 583, 89, 378, 15, 103, 397, 115, 772, 814, 107, 455, 262, 335, 521, 988, 773, 16, 774, 27, 91, 12, 580], [1, 31, 82, 9, 335, 124, 400], [297, 23, 47, 58, 3, 475, 105, 7, 197], [137, 4, 127, 3, 49, 174, 35, 125], [1, 61, 173], [75, 4, 884, 214, 1, 60, 2, 3, 19, 15, 13, 463, 38, 3, 22, 342, 37, 4, 579, 153, 16], [495, 495, 842, 7, 68, 10, 168, 7, 7, 301, 12, 113, 6, 44, 12, 113, 432, 39, 121, 8, 48, 659, 195, 20, 68, 86], [477, 218, 94, 543, 21, 716, 399, 623, 446, 562, 208, 64, 50], [36, 23, 19, 3, 53, 184, 238, 275, 1, 36, 184, 99, 4, 68, 25, 2, 961, 23, 61, 215, 3, 100, 17, 2, 628, 9, 194, 1, 17, 194, 18, 3, 9, 5, 213, 226, 23, 12, 19, 1], [1, 60, 9, 442, 18, 5, 136, 2], [309, 87, 59, 9, 5], [39, 8, 5, 462, 63, 40, 17, 614, 2, 206, 6, 6, 17, 188, 5, 153, 20, 131, 8, 458, 36, 16, 21, 64, 562, 251, 662, 399, 623, 446], [51, 5, 50, 7, 5, 189, 607, 37, 905, 27, 68, 905, 2], [10, 201, 34, 65, 61, 65], [1, 102, 361, 53, 54, 2, 26, 1, 92, 244, 30, 775, 15, 646, 1, 210, 3, 44, 896, 282, 7, 40, 28, 82, 34, 9, 5, 697], [133, 343, 2, 3, 110, 37, 754, 15, 69], [75, 1, 11, 11, 450, 149, 637, 133, 637, 1, 943, 278, 93, 952, 10, 43, 268, 154, 268, 93, 910, 10, 2, 99, 40, 207, 65], [5, 430, 613, 8, 5, 430, 121, 8, 69, 5, 430, 8, 493, 4, 350, 159, 284, 6, 939, 430], [3, 22, 302, 76, 89, 695, 220, 76, 228, 3, 53, 2, 162, 52, 118, 14, 8, 16, 50, 4, 700, 308], [39, 142, 8, 48, 849, 2, 5, 103, 776, 882, 569, 2, 674, 50, 39, 220, 91, 86, 659, 195, 269, 64], [21, 19, 3, 17, 600, 100, 86, 36, 958, 12, 125, 57, 7, 194, 1, 82, 19, 28, 255, 3, 336, 1, 344, 3, 4], [23, 45, 26, 3, 337, 912], [475, 2, 182, 104, 1, 322, 148, 64, 62, 546, 9, 150, 473, 6, 331, 151, 148], [71, 449, 98, 7, 2, 30, 13, 760, 88, 2, 32, 4], [697, 893, 189, 4, 506, 153, 34, 6, 53, 118, 5, 103, 15, 31, 35, 73, 99, 213, 241, 2, 86, 318, 233], [3, 22, 342, 4, 372, 16, 50, 382, 580, 175, 303, 405, 264, 945], [84, 119, 972, 88, 12, 354], [709, 129, 8, 56], [7, 15, 719, 3, 141, 134, 4], [34, 3, 22, 25, 55, 61, 321], [33, 994, 80, 9, 205, 208], [46, 72, 2, 221, 128, 1, 28, 164, 99], [349, 35, 65, 18, 42, 41, 46], [416, 209, 105, 617, 48, 108, 3, 231, 68, 10, 630, 14, 2, 10, 33, 25, 361, 75, 196, 54, 33, 163, 75, 1, 286, 1, 59], [116, 1, 59, 279, 947, 79, 3, 36, 53, 19, 4, 817, 7, 330, 56, 3, 31, 17, 64, 5, 276, 9, 161, 53, 19, 6, 84, 817, 7, 69, 8, 558], [56, 1, 474, 130, 44, 45, 40, 227, 9, 89, 296, 78, 63, 14, 59, 590], [158, 81, 283, 2, 190, 44], [54, 39, 85, 28, 1, 67, 11, 2, 39, 566], [23, 22, 3, 336, 992, 19, 1, 30, 19, 199, 27, 61, 799, 37, 178, 258], [306, 540, 392, 45], [150, 65, 1, 341, 192, 861, 81, 16, 6, 45, 33, 994], [322, 52, 655, 13, 176, 237], [106, 85, 16, 10, 107, 50, 11, 787, 87, 85, 97, 85], [270, 590, 35, 65, 9, 4, 662], [171, 12, 13, 2, 385, 202, 13, 95, 31, 35, 881, 350, 106, 928, 76, 138, 27, 38, 34, 3, 91, 38, 3, 31, 25, 35, 881], [1, 17, 20, 239, 112, 33, 862, 15, 170, 281, 44, 10, 156, 1, 17, 135, 4], [109, 60, 63, 60, 21, 677, 6, 337, 842, 215, 218, 21, 128, 20, 147, 6, 374, 654], [1, 204, 210, 5, 115, 146, 21, 97, 67, 4, 142], [11, 103, 497, 603, 59, 46, 1, 207, 2, 4, 783, 37, 11, 118, 8, 39, 55, 145], [97, 26, 10, 4, 97, 11, 343, 2, 97, 83, 8, 99, 343], [135, 4, 57, 66, 17, 3, 2, 548, 5, 393], [228, 6, 53, 120, 422, 89, 695, 220, 20, 206, 3, 204, 368, 118, 16, 21, 51, 31, 35, 456], [46, 187, 117, 101, 4, 606, 4, 15, 7, 769, 82, 4, 151, 15, 3, 92, 74, 2, 36, 23, 19, 3, 53], [68, 164, 228, 495, 83, 6, 28, 162, 4, 543, 27, 201, 61, 44, 2, 6, 439, 43, 36, 562, 91, 37, 241, 920, 993, 269, 121], [145, 145, 144, 40], [87, 81, 16, 104, 46], [158, 1, 141, 35, 472, 2, 81, 68, 3, 45, 33, 301, 2, 164, 44], [3, 474, 11, 66, 26, 17, 4, 116, 66, 139], [236, 19, 78, 8, 971, 75], [4, 2, 13, 120, 105, 184, 3, 28, 172, 280, 574, 253, 202, 709], [169, 26, 128, 5, 151, 30, 17, 4, 622, 66], [38, 520, 428, 476, 520], [46, 21, 1, 60, 9, 442, 34, 1, 58, 212, 1, 31, 58, 948, 160], [455, 798, 5, 220, 8, 48, 12, 175, 683, 691], [33, 150, 330, 163, 150, 237], [129, 260, 13, 43, 294, 27, 538, 595, 492, 16, 21, 596, 233, 729], [98, 33, 87, 1, 476, 13, 16, 28, 3, 97, 16, 88], [339, 23, 246, 24, 1, 74, 2, 49, 94, 30, 85], [64, 383, 18, 219, 115, 11, 833, 28, 30, 77], [846, 549, 11, 744, 77, 559, 11, 55, 1, 28, 56, 137, 72, 20, 212], [179, 13, 146, 54, 1, 406, 33, 780, 2, 35, 4], [110, 47, 8, 122, 3, 292, 2, 99], [38, 407, 467, 8, 39, 8, 4, 57, 63, 2, 292, 1, 366, 7, 412, 4, 142], [39, 115, 120, 5, 868], [31, 26, 17, 4, 57, 66], [468, 9, 462], [511, 34, 14, 626, 3, 224, 329, 22, 7, 3, 141, 224, 392, 12, 201, 78], [26, 6, 733, 433, 38, 42, 41], [26, 3, 53, 156, 371, 390, 13, 23, 19, 78, 118, 8, 474, 12, 3, 598, 159, 511, 76, 13, 753, 37, 69], [28, 25, 280, 9, 39, 57], [487, 3, 164, 3, 930], [174, 3, 56, 2, 82, 11, 398, 732, 111, 22, 23, 542, 111, 227, 9, 5, 202], [7, 30, 113, 238, 88], [57, 167, 11, 110, 17, 4, 116, 159, 66], [98, 28, 1, 106, 30, 4, 42, 41, 50, 3, 1, 344, 435, 3, 88, 76, 97], [356, 169, 5, 37, 39, 15], [26, 3, 70, 4, 103, 186, 576, 115, 160, 37, 48, 389, 2, 107, 95, 752, 48, 68, 48, 773, 91, 27, 16], [176, 1, 74, 13], [6, 235, 20, 679, 268, 33, 9, 85, 21], [115, 968, 19, 78, 180, 324, 4, 323, 345], [1, 70, 2, 13, 705], [64, 20, 39, 561, 9, 205, 166, 20, 42, 41, 381, 20, 43, 42, 41, 436, 285, 166, 42, 41, 55, 282, 20, 205, 96, 10, 5, 551, 34, 6, 84, 1, 62, 126], [1, 45, 93, 384, 39, 93, 54, 141, 35, 4, 432, 414, 568, 362, 124, 66, 15, 47, 509, 174, 396, 9, 99, 311], [1, 100, 17, 1, 466, 182, 78, 110], [77, 272, 183, 43, 10, 65], [97, 403, 37, 10, 1, 468, 165, 194, 242, 55, 3, 556], [198, 29, 555, 271, 447, 8, 92, 16, 21, 318], [240, 781, 33, 415, 3, 83, 1, 56, 2, 67, 3, 4, 7, 3, 33, 685, 15, 3, 7, 3, 22, 960, 686, 459], [205, 40, 869, 32, 379, 139], [438, 532, 159, 32, 603, 135, 2, 49, 159, 54, 79, 6], [1, 108, 13, 8, 24, 25, 752, 196], [57, 985, 319, 722, 226, 57, 985, 12, 67, 86, 2, 214, 649], [171, 12, 13, 385, 651, 143, 13, 95, 31, 35, 881, 43, 233, 141, 13, 203, 25, 106, 16, 214, 649], [39, 22, 40, 585, 1, 149, 60, 7, 3, 373, 91], [57, 473, 11, 69, 14, 59, 57, 2, 82, 13, 535, 18, 7, 30, 13, 173, 967, 11, 1, 606, 11, 7, 595, 3], [349, 192, 245, 212], [1, 128, 3, 53, 33, 92, 32, 3], [990, 14, 207, 129, 58, 215, 32, 716, 55, 610, 17, 15, 63, 197, 504, 2, 151], [13, 32, 166, 8, 23, 324, 25, 392], [631, 974, 47, 79, 3], [33, 9, 4, 290, 16, 10, 104, 32], [116, 1, 784, 5, 24, 888, 99, 82, 3, 690], [38, 61, 25, 28, 151, 24, 61, 31, 396, 12, 14, 39, 350, 180, 38, 43], [132, 90, 156, 3, 62, 305, 55, 712, 44], [176, 3, 149, 20, 593, 7, 137, 105, 877, 43, 8, 13, 245], [137, 19, 63, 15, 5, 112, 199], [548, 40, 22, 52, 148], [90, 1, 379, 434, 40, 28, 49, 43, 78, 973, 388, 2, 166, 364, 2, 43, 845, 28, 49, 973, 2, 20, 364, 2, 43, 32, 43], [194, 77, 24, 62, 226, 20, 658], [510, 194, 72, 18], [60, 1, 19, 123], [97, 26, 10, 4, 97, 11, 343, 2, 97, 737, 14, 83, 8, 99, 343], [102, 737, 118, 3, 7, 625, 3, 22, 7, 35, 11, 57, 353, 234, 459], [3, 17, 188, 4, 271, 447, 27, 201, 348, 131, 29, 447, 16, 48, 18, 269, 20, 86, 18], [486, 12, 75, 493, 113, 486, 973, 371], [145, 886, 712, 5, 241, 15, 19, 541, 5, 78, 79, 7, 535], [132, 90, 33, 438, 109], [132, 6, 409, 17, 13, 323, 52, 414, 213], [179, 38, 36, 298, 2, 134, 13, 66, 4, 401, 125], [47, 123, 84, 119, 2, 435], [61, 4, 702, 67, 433, 121, 2, 51, 29, 222, 34, 205, 84, 126, 293, 55, 228, 169, 6, 219, 576, 10, 5, 276], [1, 224, 56, 4, 310, 1, 181, 611, 834, 13, 425, 7, 428, 3, 9, 418], [1, 53, 24, 3, 74, 2, 30, 21, 1, 36, 62, 11, 24, 1, 135, 2, 8, 2, 367, 12, 10, 2, 58, 2, 113], [167, 64, 1, 28, 46], [21, 1, 17, 150, 199], [395, 257, 931, 76, 9, 4, 274], [106, 16, 89, 214, 220, 941, 18, 390, 75, 3, 17, 188, 4, 271, 348, 157, 27, 538, 153], [106, 119, 62, 63], [438, 404, 77, 339, 93, 23, 40, 99, 43, 152, 310, 93, 287, 137, 390, 216], [24, 33, 18, 4, 7, 1, 114, 139, 248, 15, 518, 33, 234, 18, 4], [237, 649, 12, 13, 68, 97, 140, 584, 674, 37, 86, 38, 863, 650, 255], [27, 419, 11, 36, 922, 51, 567, 7, 14, 813, 53, 54, 2, 26], [40, 304, 9, 5, 239, 42, 41, 262], [26, 3, 56, 13, 18, 5], [7, 11, 363, 759, 8, 277, 76, 714, 211, 38], [87, 1, 244, 68, 159, 530, 82, 3, 9], [138, 40, 227, 766, 12, 56, 20, 593, 7, 1, 366, 11, 770, 589, 2, 512, 170, 44, 648, 14, 600, 32, 114, 60], [808, 751, 188, 254, 4, 747, 9, 89, 348, 153, 319, 16, 21, 153, 402], [946, 24, 92], [270, 100, 35, 698, 37, 628, 101, 14, 75, 4, 12, 5, 323, 217], [132, 247, 247, 615], [846, 33, 92, 9, 5], [172, 470, 3, 7, 13, 589, 12, 72, 2, 27, 5, 470, 7, 591, 10, 51, 677, 5, 112, 1, 17, 4, 103, 41], [47, 61, 4, 401, 878, 24, 61, 4, 656, 136, 2, 807, 39, 226], [77, 152, 63, 6, 235, 20, 58, 94, 396, 43, 216], [32, 80, 438, 404, 77], [3, 31, 49, 2, 1, 344, 536], [6, 196, 6, 244, 101, 107, 63], [47, 22, 6, 1, 17, 476, 6, 1, 475, 105, 44, 20, 123, 4, 274, 477, 37, 5, 294, 70, 20, 49, 20, 738, 609, 14, 654], [460, 249, 36, 4, 561], [32, 5], [87, 62, 4, 246, 326, 481, 18, 5, 136], [273, 139, 24, 307, 49, 164, 9, 24, 8, 273, 34, 1, 100, 134, 14, 493, 711, 117], [54, 1, 663, 59, 1, 412, 139, 375, 2, 322, 180, 33, 387, 4, 381, 285], [34, 3, 454, 4, 9, 79, 42, 41, 389, 61, 648, 11, 31, 35, 249, 44, 10, 19, 102], [34, 6, 961, 99, 80, 213, 137, 46, 77, 33, 25, 301, 275], [16, 2, 280, 29, 262, 520, 562, 208, 463, 220, 76, 36, 350, 524, 6, 86, 269, 64], [75, 9, 1, 70, 891, 132], [6, 604, 52], [156, 321, 46, 406, 155, 10, 715], [444, 1, 494, 180, 1, 62, 4, 724, 62, 854, 229, 43, 4, 366, 488, 23, 1, 554, 137, 85, 78, 119, 786, 29, 488], [1, 56, 3, 173, 123, 24, 60, 173, 450], [17, 62, 307, 249, 2, 26, 259, 35, 9, 697, 104], [90, 1, 31, 184, 14, 199], [3, 257, 35, 109, 197, 381], [33, 169, 25, 44, 2, 14, 92, 211, 176], [256, 8, 987, 408, 69, 291, 8, 987, 408, 84, 987, 408, 588, 159, 161, 8, 987, 408, 838, 23, 35, 9, 644, 57, 117, 159, 367, 588], [237, 639, 3, 17, 188, 4, 186, 39, 8, 54, 3, 30, 45, 3, 189, 89, 48, 639, 2, 101, 410, 67, 186, 2, 21, 755, 756, 643, 264], [179, 158, 32, 39, 876, 1, 368, 25], [40, 92, 18, 12, 211], [61, 25, 19, 63, 15, 5, 350, 15, 5, 63], [794, 15, 36, 476, 180, 15, 78, 9, 335, 23, 578, 9, 25, 196, 127, 2, 933], [54, 71, 149, 8, 25, 5, 11, 291, 616, 113, 242, 8, 65], [179, 12, 323, 93, 243, 11, 499, 1, 17], [56, 42, 41, 293, 561], [68, 10, 45, 3, 30, 229, 102, 16, 11, 797, 306], [590, 53, 918, 254, 223], [14, 141, 101, 79, 42, 41, 208], [33, 72, 43, 268, 21, 549, 11, 589, 55, 559, 376, 1, 49, 20, 974, 77], [466, 1, 326, 50, 454], [57, 167, 168, 50, 7, 31, 25, 35, 472, 2, 58, 2, 427, 83], [186, 513, 203, 2, 597, 993, 203, 2, 597, 140, 955, 253, 202, 195], [416, 470, 14, 81, 30, 14, 104], [236, 46, 147, 42, 41, 262, 7, 91, 6], [58, 2, 714, 481, 52, 89], [179, 38, 24, 284, 959, 52, 4, 274], [100, 53, 760, 7, 1, 1, 108, 28, 327, 834, 139], [829, 433, 42, 41], [198, 13, 95, 38, 188, 4, 913, 424, 579, 748, 153, 18, 749, 39, 8, 5, 462, 478, 2, 355, 3, 16, 989, 405], [90, 90, 90, 57, 647], [67, 29, 37, 350, 7, 258, 1, 31, 727, 6, 29, 161, 241, 7, 5, 15, 91, 409], [29, 157, 890, 8, 908, 550, 640, 2, 29, 157, 9, 21, 67, 49, 2, 636, 64, 195, 121, 755, 756, 643, 983], [1, 25, 608, 494, 250, 235, 20, 49, 23, 375, 872], [46, 313, 84, 6, 65, 9, 80], [36, 453, 2, 144, 346, 3, 336, 79, 39], [99, 706, 23, 375, 33, 92, 270, 581, 6, 49, 80, 379, 364, 928, 682, 10, 77], [1, 70, 2, 727, 6, 78, 217, 6, 141, 25, 10, 90, 39, 8, 5, 142, 19, 3, 184], [1, 31, 1, 70, 2, 49, 2, 154, 19, 1, 731, 39, 54, 1, 62, 50, 99, 110, 54, 2, 26, 93, 373, 144, 107, 63], [198, 417, 827, 12, 83, 8, 13, 726, 66, 20, 162, 52, 156, 761, 574, 140, 177, 65, 8, 4, 819, 12, 3], [46, 77, 24, 182, 152], [972, 20, 114, 965, 112, 9, 62, 229, 18, 103, 603, 24, 1, 59, 111, 227, 6, 32, 738, 275, 11, 151, 20], [135, 432, 39, 517, 185, 3], [198, 13, 95, 59, 342, 4, 318, 550, 579, 748, 153, 18, 285, 749, 89, 652, 478, 20, 206, 6, 16], [629, 280, 14, 239, 112, 440], [11, 2, 130], [38, 114, 203, 43, 29, 463, 187, 112, 36, 73, 2, 333, 203, 48, 23, 30, 21, 7, 96, 29, 222, 195, 203, 264, 91], [81, 292, 2, 5, 7, 395, 36, 58, 375, 160, 55], [1, 108, 30, 78], [833, 8, 824, 55, 824, 8, 5, 241, 15, 833], [142, 156, 183, 365, 12, 13, 574, 177], [116, 204, 86, 85], [67, 113, 78, 2, 89, 197, 42, 483, 41, 83], [248, 248, 133, 15, 126, 66, 11, 110, 367, 256, 133, 343, 110], [414, 77, 170, 883, 742, 20, 230, 974], [46, 29, 91], [47, 58], [12, 323, 605, 39, 1, 244, 201, 11, 770, 8, 52, 7, 33, 796], [46, 24, 1, 331, 32, 285], [26, 3, 291, 34, 1, 165, 54, 803, 3, 100, 17, 2, 144, 34, 14, 8], [90, 31, 26, 159, 1, 22, 163, 113, 23, 81, 35, 109, 45, 3, 30, 80], [17, 4, 57, 517], [1, 234, 218, 37, 3, 9, 1, 74, 238, 28, 3, 10], [461, 34, 254, 196, 191, 10, 53, 45, 254, 591], [1, 17, 2, 101, 999, 37, 940, 166], [309, 16, 10, 45, 3, 30, 5, 325, 4, 266, 15, 728, 453, 10, 2, 165, 3, 79, 4, 356, 651], [38, 71, 83], [83, 14, 59, 232, 20, 44, 24, 40, 20, 162, 125, 63, 125, 132, 129, 101, 193, 147, 6, 212, 147], [98, 11, 741, 168, 18, 11, 136, 2, 7, 40, 17, 36, 105, 362, 76, 340, 7, 17, 4, 356, 168, 169, 415, 6, 54, 17, 6, 105, 44, 2, 398], [90, 68, 10, 45, 254, 18, 5, 136], [1, 17, 248], [8, 65, 4, 743, 25, 39, 258, 17, 4, 116, 112, 7, 51, 5, 276, 9, 13, 999], [38, 11, 22], [122, 1, 737, 2, 96, 3, 1, 70, 3, 1, 74, 3, 1, 937, 3, 24, 485, 15, 51, 1, 69, 3, 11, 367], [121, 778, 282, 241, 114, 20, 166, 43, 205, 285, 282, 282, 241, 42, 41, 239, 767, 57, 668, 114, 42, 41, 464, 102], [80, 23, 40, 28, 234, 218], [132, 51, 17, 2, 58, 448], [127, 9, 22, 3, 22, 3, 37, 499, 27, 677], [42, 41, 262, 24, 1, 135, 2, 86, 925, 213], [98, 745, 61, 122, 6, 493, 4, 232, 36, 4, 142, 166, 144, 240, 632, 184, 6, 114, 9, 600, 578, 23, 536, 229], [604, 2, 77, 858, 789, 150], [581, 581, 858, 134, 280, 15, 150, 919, 270], [69, 19, 294, 930, 508, 201, 34, 1, 17, 2, 49, 2, 5, 9, 124, 400], [158, 395, 24, 25, 196, 191, 6, 53, 24, 1, 55, 199, 34, 29, 604, 2, 55, 1, 75, 129], [69, 14, 1, 70, 2, 19, 705, 37, 842], [19, 54, 4, 489, 1, 329, 58, 55], [553, 11, 759, 207, 2, 7, 135, 4, 289, 37], [33, 387, 852], [7, 805, 170, 44, 50, 563, 72, 20, 7, 111, 31, 26, 5, 763, 43, 166, 593, 7, 55, 6, 101, 170, 80, 887, 20, 205, 804, 173, 458], [1, 62, 340, 305, 5, 78, 32, 5, 163, 27, 190, 18, 930, 25, 196, 45, 11, 31, 62, 624], [3, 53, 8, 298, 2, 206, 3, 885, 89, 695, 220, 2, 162, 52, 118, 14, 231, 35, 16, 50, 13, 95, 27, 382], [821, 5, 66, 34, 3, 22, 301, 33, 304, 9, 13, 418, 1, 69, 776, 432, 607, 725, 251, 121, 91, 86, 2, 332], [], [911, 87, 443, 1, 147, 29, 121, 25, 609, 148, 383, 10, 438, 404, 21, 6, 92, 9, 427], [360, 214, 3, 259, 21, 131, 13, 48, 372, 115, 12, 13, 16, 21, 18, 378, 944, 175, 683, 365, 620, 52], [6, 139], [198, 39, 8, 5, 462, 478, 2, 206, 6, 6, 17, 188, 16, 970, 175, 405, 233], [395, 25, 33, 877, 52, 15, 865, 7, 1, 30, 113, 157, 160], [3, 53, 54, 44, 515, 146], [40, 614, 2, 206, 3, 583, 13, 91, 2, 89, 378, 15, 4, 397, 772, 814, 262, 919, 68, 773, 91, 27, 16, 774, 21], [138, 440], [129, 5, 521, 8, 42, 41, 191, 10, 53, 34, 45, 47, 123, 3, 70], [87, 1, 368, 918, 1, 28, 30, 4, 775, 15, 11, 419, 124, 400, 27, 480, 81, 68, 3], [11, 2, 130], [72, 12, 354, 121, 3, 154], [240, 11, 781, 1, 474, 14, 80, 7, 11, 286, 8, 15, 3, 11, 69, 1, 128, 13, 306, 4, 232, 691, 24, 1, 244, 183, 537, 3, 58, 80, 2, 10, 459], [368, 118, 60, 1, 39, 8, 5, 213, 63, 1, 4, 140, 177, 777, 51, 1, 33, 267, 12, 13, 1, 70, 2, 35, 13, 266, 114, 114], [270, 158, 20, 8, 794, 15, 4], [20, 1, 560, 24, 139, 971, 383, 1, 235, 801, 78], [90, 90, 33, 172, 265, 45, 31, 3, 5, 719], [51, 260, 51, 9, 102, 53, 34, 575, 9, 75, 24, 324, 54, 33, 163], [46], [3, 31, 35, 39, 385, 313, 14], [870, 77, 47, 6, 560, 6, 809, 376, 139], [209, 986, 565, 148], [145, 27, 12, 205, 549], [3, 17, 105, 496, 2, 347, 4, 447, 16, 197, 5, 721, 391, 264, 175, 303, 365], [225, 49, 55, 71, 9, 77, 25, 677, 549, 11, 687, 94, 744, 77], [598, 2, 11, 291, 272, 255, 10, 182, 77, 29, 25], [272, 250, 235, 2, 413], [39, 8, 951, 3, 13, 702, 518, 87, 209, 25, 105, 9, 644, 24, 97, 53, 19, 3, 22, 229, 17, 4, 116, 112, 895], [368, 219, 697, 168, 9, 168, 75, 133, 75, 4, 9, 27, 684, 5, 616, 8], [5, 1, 36, 135, 2, 788], [282, 32, 26, 119, 291, 10, 4, 180, 1, 62, 38, 296, 83], [3, 257, 666, 39, 393, 27, 471], [92, 9, 214, 226], [556, 8, 25, 4, 702, 2, 327, 14, 8, 25, 4, 345, 2, 144, 14, 326, 18, 940, 7, 944, 18, 259, 14, 8, 160, 518, 83, 7, 150], [111, 708, 457, 2, 5], [38, 142, 38, 54], [711, 985, 43, 29], [38, 7, 484, 109, 1, 60, 677, 172], [11, 32, 162], [820, 392, 668, 933, 64, 412, 20], [33, 32, 151, 106, 16], [62, 14, 640, 12, 128, 46], [441, 293, 37, 10, 129, 171, 12, 5], [8, 29, 83, 9, 150, 27, 559], [417, 827, 43, 360, 83, 8, 13, 726, 66, 52, 156, 761, 574, 140, 177, 469, 4, 819, 3], [108, 1, 231, 86, 76, 9, 56, 124, 400, 27, 23, 11, 411, 2, 44, 12, 4, 568], [959, 144, 261, 4, 57, 24, 129, 3, 53, 11, 32, 802], [15, 9, 738], [212, 3, 31, 17, 5, 323, 217, 440, 26, 1, 134, 3], [33, 32, 879, 21, 931, 76, 5, 357, 918], [448, 54, 107, 407], [64, 767, 7, 957, 294, 23, 61, 173, 878], [9, 353, 422, 359, 96, 10, 5, 12, 433, 551, 1, 28, 364, 18, 11, 949, 154, 312, 15, 94, 223, 93, 149, 5], [831, 4, 653, 241, 39, 613, 813, 44, 32, 51], [50, 5, 78, 1, 243, 3, 79, 518], [110, 62, 442, 2], [39, 435, 8, 42, 483, 41], [88, 9, 171, 12, 216, 44, 7, 216, 51, 7, 133, 82, 3, 212], [33, 416, 18, 13, 787], [759, 599, 4, 452, 199, 40, 230, 9, 4, 662], [625, 13, 818, 295, 660, 12, 351, 914, 915, 916, 200, 1, 437, 563, 16, 701, 402, 673, 716, 917], [39, 8, 5, 462, 63, 40, 17, 614, 20, 206, 6, 6, 17, 188, 5, 772, 153, 20, 131, 8, 458, 16, 21, 64, 562, 251, 208, 399, 623, 446], [471, 6, 337, 26, 55], [47, 123, 1, 2, 3, 167], [48, 501, 9, 20, 4, 502, 859, 12, 4, 325, 2, 189, 124, 923, 73, 2, 2, 30, 501, 73, 446, 175, 683, 365, 12, 426, 269], [27, 1, 368, 42, 41, 208], [1, 60, 18, 5, 136, 2, 29, 80], [9, 33, 51, 265, 37, 10, 25, 196, 5, 217, 31, 35, 605, 406, 17, 4], [843, 23, 631, 77, 204, 287, 15, 194, 587, 24, 81, 192, 11, 104], [39, 8, 5, 462, 478, 2, 206, 6, 6, 17, 188, 16, 970, 175, 405, 233], [19, 78, 112, 230, 1, 482, 53, 19, 63, 156], [369, 54, 44], [8, 200, 57], [487, 3, 12, 531, 514, 2, 144, 133, 2, 3, 1, 60, 265, 109, 7, 3, 45, 1, 927, 124, 330, 164, 3, 9, 118], [6], [33, 973, 256, 33], [207, 2, 575], [38, 1, 836, 19, 64, 263, 118, 193, 79, 281, 7, 79, 281, 8, 12], [154, 5, 93, 31, 35, 472, 2, 315], [110, 222, 39, 8, 11, 103, 159, 143, 76], [75, 265, 133, 159, 163, 129], [3, 26, 54, 51, 3, 56], [38, 769, 36, 30, 4, 298, 2, 932, 14, 52, 6, 28, 10, 2, 26, 5, 1, 709], [3, 22, 146, 460, 763, 972, 44], [420], [179, 11, 980, 8, 664, 37, 11, 8, 56, 20, 389, 552], [19], [171, 12, 13, 385, 651, 143, 13, 95, 31, 35, 881, 233, 141, 13, 203, 25, 106, 16, 214, 649, 18], [240, 75, 251, 50, 42, 41, 998, 205, 120, 105, 2, 3], [100, 546, 628, 47, 703, 482, 103, 44, 18], [], [179, 54, 9, 9], [141, 1, 35, 6], [129, 353, 60, 1, 990, 507, 51, 117, 32, 12, 321], [48, 501, 2, 5, 859, 43, 4, 325, 2, 189, 5, 320, 186, 27, 909, 157, 187, 377, 73, 116, 2, 574, 140, 177], [46, 38, 407, 328, 33, 72, 2, 565, 32, 43, 34, 1], [46, 450, 321, 407], [1, 53, 4, 307, 263, 1, 28, 830, 44, 7, 470, 2, 5, 138], [65, 22, 113, 232, 109, 27, 65, 8, 94, 5], [33, 9, 427, 92, 672, 53, 45, 111, 230, 10], [145, 1, 877, 514, 133, 192, 66, 176, 1, 69, 236], [261, 5, 37, 19, 49, 129, 254, 4, 78, 765, 728, 690, 82, 3, 12, 293, 63, 293, 226], [1, 453, 2, 165, 119, 2, 183, 43, 10, 2, 331, 996, 180, 11, 996, 9, 124, 400, 406], [34, 1, 191, 3, 26, 39, 1, 70, 3, 9, 5, 311, 76], [1, 554, 137, 11, 745, 726, 1, 475, 91, 152, 63, 26, 119, 74, 2, 230], [17, 3, 7, 172, 13, 63, 229, 47, 22, 3, 76, 5, 136], [90, 90, 518, 1, 59, 9], [111, 102, 96, 6, 19, 5, 787, 15, 22, 12, 5, 213, 20, 1, 288, 221, 32, 51, 178, 117], [168, 246, 168, 18, 11, 136], [48, 12, 333, 112, 186, 203, 43, 29, 463, 187, 112, 36, 73, 186, 2, 597, 30, 892, 7, 96, 29, 681, 140, 955, 253, 202, 689, 203, 264], [133, 343, 259, 51, 29, 588, 58, 464], [327, 682, 935, 1, 20, 6, 77], [117, 120, 12, 340, 66, 167, 120, 58, 9, 4, 278, 136, 259, 3, 300, 56, 5, 7, 13, 32, 5, 894, 894, 247], [46, 77], [65, 20, 42, 41, 8, 19, 558], [198, 13, 95, 38, 188, 4, 913, 424, 579, 748, 153, 18, 749, 39, 8, 5, 462, 478, 2, 355, 3, 16, 989, 405], [198, 106, 16, 50, 13, 382, 13, 873, 43, 294, 27, 348, 157, 595, 492, 596, 175, 303], [438, 404, 77], [87, 450, 1, 100, 733, 118, 450], [416, 309], [240, 219, 5, 2, 788, 61, 198, 97], [19, 31, 5, 106, 102, 658, 5, 1, 102, 70, 2, 4, 367, 266], [31, 26, 3, 257, 35, 32, 51, 117, 1, 341, 35, 472, 2, 30, 52, 15, 109, 4, 401, 375], [33, 57, 17, 3, 2], [319, 1, 100, 108, 23], [200, 468, 327, 9, 213, 480], [46, 65, 259, 35, 4, 48, 912, 79], [1, 60, 32, 4, 783, 37], [45, 5, 213, 8, 4, 964, 78, 5, 9, 5, 522, 39, 5, 15, 31], [97, 592, 5, 572, 241, 15, 445, 180, 9, 15, 2, 394, 35, 42, 41, 90, 97, 88], [25, 12, 25, 213], [46, 24, 111, 149, 209, 62, 94, 950, 74, 20, 856], [26, 3, 70, 4, 103, 186, 576, 115, 37, 48, 389, 2, 107, 95, 752, 48, 425, 48, 773, 91, 27, 16, 774], [36, 2, 315, 4, 33, 169, 25, 796, 605, 39, 8, 279, 947, 71, 968, 33, 45, 1, 245, 179], [59, 4, 232, 66, 7, 1, 59, 207, 80, 375, 7, 21, 224, 265, 27, 60, 1, 36, 558, 1, 244, 380], [209, 105, 50, 51, 192, 7, 12, 161, 39, 9, 360, 457, 44, 2, 10, 7, 422, 34, 1, 453, 23, 1, 62, 5, 213, 9], [132, 7, 76, 5, 136, 3, 26, 17, 125, 484, 9, 13, 70, 2, 49, 52, 12, 4, 211], [138, 40, 409, 403, 693, 12], [416, 40, 28, 210, 113, 44, 3, 713, 197, 211], [240, 22, 3, 19, 305, 25, 302, 387, 279, 88, 19, 584, 12, 11, 781, 21, 384, 71, 185, 10], [592, 44, 128, 3, 135, 4, 116, 645, 26, 17, 4], [1, 108, 34, 71, 55, 61, 173, 12, 89, 263], [100, 638, 69, 191, 69, 162, 6, 324, 156, 61, 366, 9, 69, 6, 100, 628, 6, 36, 7, 6, 53, 65, 8, 2, 775, 6, 977], [31, 3, 58, 498, 83, 117], [26, 3, 70, 4, 103, 186, 576, 115, 37, 48, 389, 2, 107, 95, 752, 48, 425, 48, 773, 91, 27, 16, 774], [642, 186, 397, 372, 115, 8, 13, 16, 520, 391, 405, 16, 50, 264, 721, 829], [236, 1, 733, 6, 61, 46, 171, 406, 313, 676, 29, 589, 676, 333], [1, 102, 53, 346, 79, 194, 27, 959, 144, 165, 190, 24, 34, 3, 70, 3, 28, 19, 1, 122, 7, 36, 68, 10, 684, 9, 2, 5], [179, 1, 53, 23, 148, 12, 160, 40, 244, 530, 9, 5, 15, 227, 851, 2, 30], [843, 273, 273, 17, 414], [5, 217, 37, 6, 28, 2, 5, 2, 181, 190, 24, 5, 662, 111, 17, 14, 45, 6, 191, 49, 324, 14], [103, 50, 409, 49, 73, 186, 2, 38, 429, 558, 83, 50, 64, 318, 140, 43, 785], [145, 21, 60, 48, 3, 28, 16, 10], [8, 19, 8, 25], [98, 614, 531, 6, 21, 2, 355, 6, 155, 10, 4, 476, 358, 6, 147, 121], [464, 110, 1, 434, 2, 958, 517, 7, 943, 23, 23, 1, 3, 9, 113, 63], [256, 8, 987, 408, 69, 291, 8, 987, 408, 84, 987, 408, 588, 159, 161, 8, 987, 408, 838, 23, 35, 9, 644, 57, 117, 159, 367, 588], [416, 610, 661, 52, 9, 4, 307], [81, 35, 32, 714, 9, 56, 42, 41], [145, 4, 573, 1, 53, 8, 245, 11, 2, 30, 130, 113, 406, 35, 472, 2, 30, 4, 335, 2, 879, 211], [158, 395, 109, 12, 4, 452], [687, 128, 3, 22, 306, 4, 116, 66, 951, 39, 68, 3, 129, 7, 572, 15, 161, 17, 4, 116, 66, 895], [3, 62, 366, 4], [990, 2, 82, 13, 91], [594, 1, 356, 901, 23, 30, 301], [750, 4, 9, 161, 4, 750, 6, 224, 32, 29, 6, 26, 29, 152, 533, 533, 476, 159, 6, 14, 2, 51, 511, 110, 686, 838, 6, 204, 304, 1, 122, 14, 790], [156, 516, 3, 411, 57, 64], [5, 15, 8, 25, 45, 40, 326, 616, 356, 249, 24, 394, 14, 8, 45, 40, 326, 848, 249, 17, 4, 232, 517, 977], [48, 564, 385, 2, 502, 385, 30, 333, 112, 48, 67, 2, 166, 251, 112, 86, 237], [121, 40, 614, 2, 16, 3, 583, 13, 91, 2, 89, 237, 12, 4, 48, 186, 95, 48, 773, 106, 16, 21, 774, 12, 580, 160], [145, 22, 40, 72, 12, 5, 706, 27, 912], [420, 43, 85, 245, 18, 10], [803, 109, 452, 3, 227], [87, 137, 4, 312, 15, 266, 15, 4, 266, 281, 33, 36, 21, 79, 2, 292, 2, 5, 573, 118, 717, 2, 182], [657, 3, 53, 505, 1, 122, 4, 4, 24, 656, 217, 37, 5, 242, 66, 12, 826], [4, 45, 3, 5, 2, 889, 2, 408, 13, 27, 14, 515, 3, 22], [61, 46, 366, 980, 17, 432], [48, 501, 362, 89, 909, 502, 859, 36, 67, 5, 345, 807, 2, 21, 269, 175, 147, 140, 177, 193], [6, 92, 475, 62, 4, 448], [1, 244, 522, 47, 1, 60, 2, 707, 3, 187, 66, 1, 53, 3, 31, 26, 5, 276, 3, 28, 2, 30, 2, 10, 176, 1, 31, 49, 2, 11, 289, 32, 13], [1, 299, 291, 34, 6, 100, 185, 10, 27, 34, 6, 100, 74, 10, 24, 6, 731, 169, 525, 10, 601, 6, 74, 10, 159, 6, 100, 96, 10, 101, 193], [87, 1, 178, 117, 604, 245, 37, 11, 54, 3, 44, 2, 211], [179, 3, 534, 224, 392, 45, 1, 280, 99, 238, 2, 101, 3, 52, 2, 4, 354, 126], [156, 288, 6, 16, 18, 13, 268], [23, 10, 477, 21, 85, 178, 704, 281, 63], [101, 193, 94, 30, 129, 212], [3, 22, 18, 5, 5, 201, 18, 11, 7, 45, 1, 713, 11, 3, 22, 51, 19, 598, 52, 1, 880, 15, 11, 334, 408, 3, 55, 335, 11, 22, 52, 139, 4, 63, 15, 12, 10, 754, 15, 404, 351, 1, 344, 82, 24, 1, 368, 56, 51, 249, 3, 36, 409, 56, 7, 7, 45, 11, 63, 109, 8, 260, 3, 7, 1, 78], [145, 176, 460, 14, 72, 122, 3, 352, 932, 52, 127, 13, 72, 12, 103, 497], [90, 9], [1, 61, 9, 13, 27, 190], [40, 17, 5, 7, 18, 5, 7, 1, 663, 9, 17, 4, 57, 976, 15, 112], [90, 122, 3, 16, 10, 36, 21, 448], [87, 1, 476, 3, 176, 1, 59, 44, 246, 7, 9, 1, 128, 3, 313, 13, 578, 706, 781, 1, 185, 3, 139, 459], [1, 74, 3, 2, 35, 9, 11], [1, 31, 58, 37, 296, 106, 183, 537, 31], [240, 111, 22, 72, 2, 5, 697, 32, 436, 23, 505, 58, 109, 27, 65, 46], [38, 74, 12, 5], [89, 25, 139, 248, 15, 511, 223, 32, 19, 63, 15, 117], [687, 25, 72, 148], [19, 66, 3, 422, 79, 143, 156], [11, 568, 59, 46, 24, 361, 77, 83, 24, 137, 46, 43, 10, 180, 33, 25, 664, 107, 24, 369, 18, 11, 652, 718, 763], [3, 534, 522, 14, 24, 137, 464, 137, 793, 91, 507, 21, 2, 249, 19, 31, 13, 291, 50, 64, 73], [127, 22, 3, 409, 1, 3, 2, 10, 51, 5, 63, 21, 102, 3, 284, 2, 58, 2, 10, 18, 13, 949], [444, 586, 1, 341, 192, 549, 11, 34, 119, 235, 2, 315, 55, 1, 183, 43, 119, 383], [128, 3, 22, 306, 4, 116, 103, 26, 284, 3, 5, 173, 276, 3, 22, 474, 12], [269, 795, 13, 397, 31, 35, 37, 3], [70, 2, 67, 10, 4, 1, 74, 78], [14], [158, 56, 34, 14, 504, 56, 14, 122, 37, 11, 222, 11, 346, 9, 56, 335, 124, 400], [38, 407, 40, 31, 35, 4, 312, 15, 63, 621], [1, 36, 39, 308, 525, 10, 37, 5], [132, 36, 279, 201, 37, 6, 6], [171, 12, 13, 385, 651, 143, 13, 95, 31, 35, 881, 43, 233, 141, 13, 203, 25, 106, 16, 214, 649, 50, 576, 964, 68, 576], [110, 40, 62, 42, 41, 98, 98], [487, 3, 440, 3, 22, 23, 495], [1, 108, 739, 129], [62, 505, 40, 315, 364, 49, 94, 27, 49, 27], [420, 6, 741, 168, 297, 420, 4, 307, 20, 527, 229, 101, 193, 147, 6, 212, 398], [97, 67, 10, 5, 868, 241, 85], [22, 3, 277, 2, 66, 12, 289], [47, 533, 539, 113, 15, 5, 732], [156, 93, 717, 2, 292, 2, 10], [116, 103, 378, 465, 262, 465, 73, 18, 276, 360, 7, 30, 320, 372, 797, 43, 48, 16, 667, 48, 18, 746, 21, 27, 175, 303], [1, 943, 23, 25, 107, 743, 71, 54, 79, 10], [40, 17, 103, 9, 13, 847, 754, 15, 103, 263, 9, 13, 847, 91, 543, 2, 326, 21, 269, 64, 140, 216], [9, 113], [1, 204, 210, 5, 115, 146, 21, 97, 67, 4, 142], [15, 556, 390, 480, 8, 25, 79, 523, 154, 802, 5, 995, 142, 61, 79, 523, 36, 76, 707, 5, 241, 247], [90, 55, 58, 6, 2, 58, 7, 172, 727, 2, 58, 76, 279, 48, 63], [57, 222, 193, 12, 694, 242, 721, 222, 841, 694, 242, 7, 464, 222, 536, 535, 63, 247, 740], [33, 260, 33, 87, 1, 128, 13, 239, 3, 509, 3, 70, 380, 51, 5, 8, 558, 34, 33, 25, 223, 45, 3, 967, 14, 36, 51, 5, 7, 230, 5, 37], [542, 304, 16, 21, 36, 251, 208, 725, 456, 423, 90], [6, 31, 13, 18], [80, 8, 260], [1, 100, 53, 54, 2, 26, 2, 58, 52, 15, 39, 23, 64, 60, 165, 975, 56, 39, 100, 10], [1, 53, 3, 22, 24, 204, 93, 174, 17, 105, 7, 61, 34, 93, 722, 510, 2, 99, 99, 31, 7, 34, 3, 155, 99, 21, 93, 31, 36, 61, 4, 93, 120, 219, 515, 9, 4, 307, 317, 14, 31, 86], [1, 286, 5, 52, 15], [1, 280, 2, 606, 125], [30, 5, 320, 668, 20, 29, 95, 114, 377, 48, 585, 4, 48, 203, 73, 18, 2, 597, 140, 955, 253, 202], [154, 65, 8, 38, 280, 9], [470, 7, 470, 99, 58, 215, 406, 605], [128, 3, 22, 306, 4, 57, 112, 36, 997, 9], [98, 8, 481, 290, 32, 282, 729, 32, 211], [198, 417, 827, 12, 83, 8, 13, 726, 66, 20, 162, 52, 156, 761, 574, 140, 177, 65, 8, 4, 819, 3], [], [137, 265, 30, 4, 606, 27, 70, 10, 2, 58, 162, 3], [1, 979, 9, 374, 11, 11, 370, 9, 374, 10, 637, 417, 247], [3, 16, 526, 305, 83, 46, 7, 165, 170, 2, 44], [1, 19, 316, 366, 10, 23, 64, 1, 237, 56, 19, 79, 763, 243, 83, 23, 64, 450, 100, 10], [40, 22, 851, 2, 164, 2, 533, 89, 568, 286, 243, 3, 9, 5, 473, 286, 40, 28, 49, 12, 706, 154, 19], [98, 11, 678, 630, 120, 21, 14, 8], [441, 24, 1, 286, 3, 227, 5], [132, 843, 324, 31, 553, 255], [38, 407, 47, 22, 3, 163], [171, 69, 24, 60, 1, 163, 27], [471, 79, 18, 527, 1, 60, 166, 55, 24, 64, 547, 381], [33, 92, 705, 83, 392, 66], [8, 51], [45, 3, 22, 356, 371, 31, 500], [30, 13, 301, 12, 37, 4, 48, 15, 7, 665, 233, 64, 37, 5, 39, 767, 2, 86, 253, 202], [110, 768, 2, 131, 39, 704, 378, 32, 3, 106, 49, 2, 574, 140, 150, 253, 202, 934, 303, 365], [619, 116, 168, 72, 2, 221, 21, 17, 4, 57, 117], [61, 72, 57, 38, 407, 24, 92, 74, 401, 2, 841, 214], [309, 6, 653, 299, 154, 966], [30, 29, 333, 385, 48, 21, 91, 2, 39, 121, 37, 203, 622, 564, 854, 513, 2, 13, 115, 187, 112, 36, 318, 233, 251, 377, 20, 620, 52, 67, 86, 264], [6, 17, 4, 757, 118, 8, 411, 20, 134, 206, 37, 6, 162, 52, 118, 111, 84, 860, 118, 758, 29, 23, 278, 16, 18], [346, 19, 8, 169, 7, 204, 12, 4, 671, 44, 12, 117, 52, 26, 6, 108, 65, 8, 925, 1, 231, 12, 117, 18], [46, 55, 38, 74, 2, 96, 10, 194, 1, 60, 72, 2, 221, 57, 117], [54, 384, 5, 26], [371, 30, 57, 221, 11, 110, 1, 31, 958], [80, 6, 356, 44, 18, 13, 178, 748, 34, 6, 17, 2, 484, 8, 260, 7, 33, 102, 165, 54, 1], [10, 85, 45, 3, 58, 2, 738], [324, 297, 47, 59, 13, 66], [25, 169, 490, 17, 38, 222, 33], [1, 11, 48, 317, 710, 528, 28, 272, 165, 511, 77], [36, 62, 113, 865, 238, 107, 325, 3, 7, 5, 70, 2, 49, 18, 4], [331, 148, 870, 111, 181, 616, 1, 1, 23, 46], [577, 336, 7, 178, 117, 37, 14, 59, 116], [1, 927, 3, 75, 4, 7, 655, 3, 75, 11, 266, 75, 314, 75, 5, 334, 89, 556, 299, 944, 629, 35, 222, 247], [6, 227, 76, 18, 5, 20, 199, 691, 237, 866, 20, 332, 91, 332, 52], [297, 26, 3, 56, 1, 17, 4, 7, 32, 11, 311], [209, 986, 80, 708], [46], [416, 28, 3, 68, 10, 5, 630], [121, 601, 6, 126, 6, 144, 240, 26, 6, 733, 8, 126, 323, 15, 240, 137, 126, 241, 15, 4, 359, 138, 7, 6, 733, 118, 8, 376, 359, 240, 93, 8, 126, 811, 118, 78, 28, 126, 241, 15, 4, 330], [122, 3, 30, 107, 486, 39, 258, 1, 373, 30, 194, 23, 392], [47, 703, 8, 99, 2, 27, 36], [236, 45, 22, 119, 664, 1, 326, 9], [55, 40, 183, 43, 6, 77, 38, 74, 20, 224, 392, 383], [16, 12, 64, 114, 251, 662, 16, 50, 4, 308, 885, 143, 38, 816], [51, 260, 51, 9, 9, 572, 931, 275], [171, 12, 302, 65, 12, 10, 36, 2, 292, 2, 18, 767, 3, 22, 173, 110, 2, 10, 1, 306, 3, 75, 4, 699, 7], [45, 1, 59, 371, 149, 132, 38, 340, 45, 3, 227], [11, 782, 9, 128, 3, 22, 306, 4, 116, 350, 36, 616, 145, 895], [87, 33, 25, 48], [1, 60, 246, 1, 31, 35, 65, 32], [132, 46], [78, 15, 276, 9, 601, 1], [121, 601, 6, 126, 6, 144, 240, 26, 6, 733, 8, 126, 323, 15, 240, 137, 126, 241, 15, 4, 359, 138, 7, 6, 733, 118, 8, 376, 359, 240, 93, 8, 126, 811, 118, 78, 28, 126, 241, 15, 4, 330], [394, 279, 301, 2, 230, 5, 311], [134, 24, 61, 4, 326, 22, 3, 14, 2, 30, 12, 5, 239], [490, 592, 44, 47, 128, 3, 17, 105, 441, 45, 1, 373, 454, 50, 567, 263, 1, 366, 170, 7, 111, 135, 5, 548, 42, 41, 36, 56, 2, 53, 26, 17, 4, 258, 7, 51, 5, 276, 37, 13, 802, 585, 34, 3, 28, 169, 169, 213, 12, 55, 13, 151, 8, 260], [7, 173, 51, 40, 8, 390, 6, 7, 1, 64], [11, 115], [38, 33, 25, 1, 244, 155, 3, 509, 3, 70, 7, 74, 3, 394, 231, 26, 329, 12, 628, 18, 949, 751, 62, 125, 238, 338, 1, 26, 1, 244, 30, 151, 1, 244, 30, 4, 363, 1, 244, 435, 5, 1, 244, 201, 11, 828, 865, 138, 33, 7, 1, 288, 201, 16, 80, 12, 81, 17, 2, 96, 170, 1, 437, 44, 2, 321], [396, 32, 5, 63, 54, 5, 470, 3, 108, 8, 44], [1, 60, 246, 23, 16, 3, 160, 167, 101, 193, 367, 588, 6, 7, 10], [592, 4, 8, 19, 190, 336, 17, 19, 1, 102, 53, 79], [465, 262, 793, 18, 360, 320, 764, 186, 37, 991, 48, 16, 667, 18, 746, 27, 844], [42, 41, 261, 51, 368, 261, 458, 510], [74, 4, 503, 690, 244, 522, 137, 19, 63, 15, 112, 148], [117, 117, 82, 3, 160], [2, 66, 289, 8, 65, 22, 38, 289], [47, 314, 384, 828, 101], [90, 90, 47, 8, 13, 21], [1, 60, 88, 274, 314, 180, 15, 18, 135, 2, 885, 1, 135, 4, 393, 171, 403, 212, 754, 15, 69], [128, 3, 22, 508, 116, 97, 10, 9, 895], [179, 261, 1, 102, 49, 298, 2, 162, 187, 323, 161, 3, 352, 599], [270, 590, 209, 105, 2, 4, 898, 526, 118, 277], [873, 43, 294, 27, 424, 157, 888, 13, 198, 492, 21, 50, 382, 25, 2, 789, 52], [237, 866, 8, 24, 6, 259, 25, 53, 127, 14, 29, 84, 91, 936, 682, 561, 332, 91, 332], [2, 3, 59, 552, 50, 5, 47, 13, 787], [5, 540, 15, 18, 8, 2, 408, 256, 785], [3, 17, 62, 24, 3, 22], [152, 626, 113, 263, 8, 25, 36, 516, 376, 6, 224, 45, 6, 164, 170, 24, 516, 489, 6, 224, 45, 6, 185], [47, 248, 526, 1, 243, 9, 5, 51, 280, 2, 3, 25, 889], [790, 83, 1, 60, 246, 12], [1, 344, 234, 35, 65, 201, 34, 61, 36, 9, 1, 344, 30, 4, 212, 36, 298, 2, 35, 196, 1, 74, 14], [46, 77], [1, 185, 3, 23, 123, 33, 23, 1, 17, 5, 142, 3, 412, 12, 10, 5, 242, 66, 7, 889, 2, 14, 36, 2, 454, 5, 15, 13, 1, 69, 3], [54, 26, 6, 75, 74, 20, 34, 6, 244, 26, 14, 171], [1, 108, 19, 624, 23, 158, 81, 35, 76, 32, 113, 876], [90, 34, 6, 477, 44, 36, 58, 2, 11, 80], [36, 583, 777, 14, 7, 1, 17, 38, 24, 96, 10, 47, 71, 722, 14, 7, 34, 71, 1, 31, 6, 43, 352, 25, 169, 43, 352, 36, 4, 314, 63], [316, 1, 74, 839, 295, 38, 7, 839, 630], [544, 77, 1, 46, 55, 142, 119, 77], [67, 2, 228, 587], [642, 715, 1, 60, 25, 18, 545, 12, 20, 317, 31, 545, 358, 32, 80, 322], [1, 128, 3, 229, 24, 566, 174, 169, 56, 2, 82, 3, 160, 69, 10], [5, 442, 32, 42, 41], [1, 194, 77], [1, 100, 514, 2, 58, 1, 31, 234, 35, 9, 644, 9, 37, 3], [32, 54, 63, 141, 1, 58, 160], [198, 40, 22, 298, 2, 206, 6, 670, 319, 351, 19, 3, 17, 188, 4, 153, 271, 16, 50, 700, 308, 131, 64], [4, 21, 24, 158, 81, 230, 45, 33, 260], [1, 100, 61, 4, 832, 531, 390, 216], [1, 135, 105, 951, 1, 174, 25, 17, 2, 67, 3, 39, 142, 11, 8, 7, 1, 100, 17, 510, 12, 14, 11, 22, 799, 61, 4, 1, 74, 7, 59, 951, 3, 231, 99, 5, 890, 8, 42, 41, 8, 65, 4, 136, 1, 231, 30, 19, 50, 3, 537, 940, 45, 1, 128, 2, 435, 88], [98, 476, 13, 16, 7, 11, 964, 51, 215, 54, 8, 13], [16, 10, 1, 60, 50], [28, 6, 30, 736, 659, 2, 13, 115], [46, 38, 956, 81, 58, 154, 268, 55], [29, 72, 20, 7, 403, 2, 4, 304, 798, 2, 131, 505, 157, 269, 64, 2, 620, 52, 73, 252, 2], [65, 8, 4, 213, 63, 12, 509], [1, 583, 927, 50, 445, 7, 14, 52, 431], [18, 136, 2, 445, 28, 3, 97, 67, 10, 143], [37, 5, 334, 8, 458, 6, 505, 189, 27, 789, 399, 37, 118, 8, 721, 2, 6, 8, 34, 6, 789, 6, 789, 34, 6, 189, 6, 92, 789], [85, 15, 29, 115], [161, 8, 125, 338, 706, 159, 55, 999, 24, 161, 213, 999, 159, 55, 133, 167], [261, 265, 81, 32, 3, 79, 14, 104, 55], [490, 12, 71, 62, 631, 7, 62], [200, 34, 40, 17, 78, 57, 72, 40, 31, 101], [49, 2, 516, 100, 191, 14], [328, 119, 25, 972], [14, 8, 141, 35, 32, 39, 63, 15, 258], [46], [625, 13, 818, 295, 660, 12, 351, 914, 915, 916, 200, 1, 437, 563, 16, 701, 402, 673, 269, 716, 917], [5, 540, 15, 18, 8, 2, 408, 256, 785], [33, 229, 11, 115, 11, 853, 618, 1, 17, 7, 11, 782, 534, 86, 531, 14, 2, 292, 244, 482, 44, 37, 14, 82, 6, 45, 6, 30, 80, 69, 6], [47, 79, 7], [641, 51, 66, 33, 109, 32, 39, 7, 1, 244, 315, 14, 567, 22, 11, 161], [33, 32, 80, 106, 16], [50, 228, 25, 2, 669, 45, 187, 63, 209, 9, 5, 178, 480, 704, 8, 310, 15, 3, 531, 27, 10, 19, 3, 453, 2, 669], [542, 15, 171, 199, 12, 5, 25, 4, 68, 345], [1, 60, 9, 85, 1, 31, 80, 9, 517], [5, 334, 4, 312, 25, 310, 15, 5, 15, 392, 263, 24, 310, 15, 5, 15, 57, 263], [58, 223, 42, 63, 41], [34, 646, 520, 12, 4, 144, 769, 182, 14, 134, 196, 61, 387, 1, 835, 124, 18, 12, 42, 41], [87, 545], [316, 128, 13, 66, 8, 72, 1, 169, 1, 468, 17, 2, 3, 79, 39, 1, 17, 113, 19, 1, 244, 39, 350, 1, 60, 52, 15, 51, 863, 157, 1, 53, 39, 8, 4, 63, 12, 3, 172, 24, 1, 17, 2, 191, 3, 53], [6, 20], [21, 64, 1, 986, 80, 1, 60, 173, 862, 21, 1, 31, 58], [158, 469, 361, 4, 274, 412, 81, 931, 76, 160, 45, 1, 30, 44], [144, 39, 900, 371, 1, 69, 3, 159, 1, 74, 3, 871, 11, 256, 37, 13, 897, 67, 39, 2, 278, 263, 159, 6, 147, 160, 26, 14, 97, 97, 26, 14], [40, 672, 16, 56, 42, 41, 526, 132, 38, 155, 216, 132], [380, 2, 165, 79, 225], [328, 46, 420], [122, 6, 347, 11, 121], [138, 21, 64, 577, 13, 142], [218, 30, 501, 362, 218, 32, 4, 15, 5, 391, 91, 27, 16, 2, 729, 423], [132, 90, 1, 31, 58, 160], [762, 5, 36, 591], [105, 44, 2, 217, 122, 3, 17, 4, 57, 343, 45, 22, 6, 1, 600, 83], [1, 102, 53, 6, 7, 6, 102, 53, 10, 67, 218, 2, 636, 21, 7, 162, 694, 242, 64, 195, 121, 755, 756, 643, 983, 269, 497, 27, 215], [625, 13, 818, 295, 660, 12, 351, 914, 915, 916, 200, 1, 437, 563, 16, 701, 402, 673, 716, 917], [14, 231, 151, 610, 355, 4, 32, 5, 239, 290], [33, 664, 159, 2, 34, 33, 25, 88, 76, 5, 63, 254, 260, 36, 230, 5, 18, 11, 7, 81, 68, 3, 45, 301], [48, 12, 333, 112, 186, 203, 43, 29, 463, 187, 112, 36, 73, 186, 2, 30, 892, 7, 96, 29, 681, 689, 203, 264], [11, 115, 7, 1, 288, 201, 53, 158, 1, 56, 14, 329], [438, 647, 152, 533, 6], [35, 109, 9, 4, 662, 34, 3, 92, 74, 2, 182], [28, 1, 30, 13, 18, 190, 213], [995, 50, 48, 501, 362, 89, 909, 502, 859, 36, 67, 5, 345, 807, 2, 21, 269, 175, 147, 140, 177], [259, 1, 16, 3, 104, 97], [31, 101, 57, 193, 15, 3], [270, 590, 1, 341, 74, 2, 101, 3, 44, 18, 19, 54, 3, 962, 211], [97, 58, 204, 39], [1, 727, 17, 6, 75, 4, 206, 18, 177, 2, 67, 48, 237, 2, 856, 50, 237, 38, 2, 42, 41], [85, 1, 337], [15, 777, 263, 63, 12, 238, 7, 5, 293, 238, 8, 12, 63, 57, 167, 181, 523], [113, 222, 70, 10, 2, 530, 395, 101, 4, 452], [329, 474, 44, 12, 693, 7, 56, 4, 518, 21, 1, 224, 24, 32, 875, 61, 25, 489, 794, 15], [46, 230, 38, 74, 2, 165], [138, 85, 107, 32, 29, 427], [380, 51, 511, 1, 525, 317, 15, 9, 10, 74, 2, 435, 4, 521, 23, 35, 14, 259, 181, 10, 72, 7, 75, 6, 149, 958, 19, 1, 30, 5, 291, 2, 30, 215, 5, 293], [33, 9, 21, 119, 58, 245, 10, 173, 796], [145, 1, 31, 35, 246, 448, 164, 3, 32], [142, 50, 1, 60, 32, 18, 3, 28, 115, 10, 109, 75, 1, 17, 4, 115, 76, 11, 787], [33, 32, 159, 21, 24, 33, 9, 11, 296, 23, 1, 244, 933, 314, 613], [114, 1, 102, 17, 99, 143, 7, 20, 61, 257, 35, 4, 489, 9, 5, 760, 7, 959, 25, 30, 34, 261], [56, 4, 27, 54], [625, 13, 818, 295, 660, 12, 351, 914, 915, 916, 200, 1, 437, 563, 16, 701, 402, 673, 716, 917], [110, 93, 366, 10, 21], [54, 1, 780, 2, 144, 8, 204, 183, 2, 82, 6, 199, 279, 477, 15, 39], [100, 210, 44, 126, 16, 45, 190, 417, 8, 65, 2, 96], [87, 2, 6, 199, 28, 182, 12, 11, 499, 199, 51, 20, 356, 114, 848, 434, 94, 845, 420], [316, 3, 31, 347, 5, 295, 38, 340, 63, 87, 12, 5], [], [145, 745, 762, 6, 122, 6, 57, 294, 516, 252], [217, 84, 57, 420, 62, 9, 940, 260, 38, 8, 92, 37, 867, 43, 274, 947, 252], [38, 520, 428, 476, 520], [6, 150, 199, 150, 241, 15, 29, 311], [158, 71, 62, 9, 32, 20, 7, 59, 273, 94, 135, 52, 7, 93, 59, 56, 7, 71, 62, 44, 9, 19, 537, 20, 24, 40, 534, 49, 65, 25, 163, 139, 3], [11, 782, 47, 22, 3, 163, 445, 8, 65, 4, 183, 197, 3, 26, 101, 193], [893, 189, 4, 564, 771, 34, 6, 53, 219, 5, 8, 9, 73, 2, 318, 233], [33, 415, 6], [104, 1, 368, 1, 26, 139], [495, 965, 66, 736, 15, 73, 736, 2, 100, 185, 52, 55, 187, 377, 4, 43, 125, 732, 147, 253, 202, 825, 377], [1, 31, 35, 766, 427, 101, 51, 50, 65], [135, 13, 95, 716, 320, 764, 186, 806, 51, 48, 465, 262, 68, 18, 360, 68, 138, 12, 38, 2, 856, 50], [145, 495, 54, 15, 19, 66, 38, 345, 50, 3, 39, 167, 18, 1, 108, 15, 3], [29, 342, 4, 645, 7, 231, 189, 4, 414, 187, 377, 73, 857, 2, 318], [160, 71, 52, 32, 205, 225, 151, 8, 76, 13, 311, 23, 71, 28, 164, 6], [132, 270, 364, 40, 135, 207, 83, 139, 1, 250, 291, 604, 528, 713, 204, 44], [158, 34, 40, 26, 17, 2, 30, 4, 490, 40, 74, 2, 582, 89, 675, 2, 783, 42, 41, 282, 299, 36, 2, 35], [622, 635, 513, 43, 51, 816, 37, 635, 2, 597, 993, 635, 955, 253, 202], [111, 149, 119, 250, 679, 27, 692, 56, 376, 27, 119, 494, 67, 2, 11, 678, 295], [98, 110, 16, 10, 61, 1, 102, 53, 712, 13, 407, 3, 102, 70, 2, 151, 27, 34, 3, 17, 107, 242, 407, 32, 875, 96, 10, 12, 13, 91], [106, 16, 37, 2, 27, 13, 175, 95, 48, 15, 650, 378, 944, 83, 727, 2, 7, 683], [38, 516, 60, 707, 9, 498, 575, 23, 19, 1, 422], [207, 2, 435, 23, 1, 135, 2, 49, 2, 5, 839, 2, 5], [122, 6, 788, 5], [634, 24, 158, 684], [1, 5, 540, 518, 61, 190, 19, 629, 3, 53, 5, 66, 6, 45, 31, 30, 9, 79, 20, 2, 24, 97, 97, 100, 1, 53, 6, 84, 947, 97, 172, 8, 65, 194, 9, 29, 6, 74, 2, 96, 10], [90, 81, 16, 3, 45, 33, 721], [46, 46, 46, 55, 712, 29, 670, 386], [21], [14, 31, 86, 18, 1, 93, 37, 228, 19, 31, 35, 472, 2, 155, 12, 187], [183, 20, 208, 32, 442, 86], [46, 55, 1, 31, 58, 2, 29, 80, 154, 335, 124, 400], [132, 18, 434, 146], [820, 46, 81, 536, 12, 56, 124, 400, 180, 11, 8, 169], [31, 378], [156, 102, 3, 183, 32, 875, 2, 82, 34, 3, 30, 13], [81, 395, 35, 223, 714, 4, 312], [22, 3, 39, 123], [34, 3, 102, 13, 153, 31, 49, 2, 340, 214, 175, 147, 32, 140, 175, 147, 269, 195, 208, 725, 106, 16, 88, 34, 608], [820, 139, 248, 15, 170, 732, 542, 61, 432, 605], [247, 740, 101, 193], [247, 247, 90, 615, 193, 221, 129, 247, 864], [28, 6, 10, 126], [98, 61, 32, 51, 66, 710, 1, 31, 192, 677, 32, 6, 784, 215, 97, 230, 121, 252], [100, 53, 3, 500, 113, 484], [12, 10, 5, 69, 141, 326, 37, 1, 141, 224, 19, 1, 74, 99, 187, 63, 223, 10, 93, 141, 35, 5, 213, 217, 219, 598, 9, 11, 1, 174, 326, 5, 66, 7, 332, 14, 37, 99, 93, 141, 35, 65, 187, 63, 1, 880, 69, 31, 35, 55, 45, 11, 187, 120, 99, 241, 11, 161, 141, 557, 223, 99, 11, 161, 31, 35, 2, 99, 1, 174, 12, 99, 31, 155, 51, 11, 7, 101, 51, 99, 1, 31, 35, 301, 2, 37, 646, 12, 99, 1, 31, 35, 9, 69, 45, 1, 31, 35, 163, 5, 249, 12, 99, 69, 31, 35, 45, 1, 102, 17, 2, 646, 19, 11, 359, 8, 5, 485, 570, 18, 5, 770, 1, 31, 234, 35, 12, 99, 69, 31, 35, 45, 1, 326, 44, 539, 7, 332, 44, 161, 31, 35, 5, 485, 570, 55, 31, 30, 187, 167, 7, 487, 371, 12, 5, 66, 310, 93, 8, 37, 10, 1, 174, 56, 2, 144, 4, 312, 31, 96, 104], [54, 410, 15, 102, 102, 3, 841], [6, 3], [9, 5, 332, 93, 341, 92, 24, 61, 441, 25, 509, 31, 58, 52], [527], [11, 710, 448, 581, 77, 604, 43, 11, 364, 49, 154], [120, 4, 278, 127, 4, 42, 41, 8, 20, 23, 1, 53, 54, 481, 962, 211], [5, 638, 43, 8, 114, 15, 126, 15, 161, 5, 136, 14, 598, 6, 31, 162, 9, 187, 6, 304], [38, 71, 288, 8, 277, 375], [90, 90, 156, 204, 3, 58, 109, 7, 638, 305], [465, 262, 7, 793, 43, 48, 991, 18, 360, 696, 18, 186, 764, 797, 16, 667, 18, 746, 27, 844], [39, 142, 8, 2, 3, 76, 725, 7, 8, 25, 2, 5], [36, 12, 340, 34, 3, 231, 221, 5, 489, 8, 25, 4, 23, 82, 47, 14, 441], [609, 613, 15, 4, 363, 178, 112, 59, 11, 11, 451, 284, 10, 11, 812, 514, 94, 23, 122, 11, 1, 207, 2, 151, 201, 11, 122, 25, 284], [3, 17, 188, 4, 186, 39, 8, 54, 3, 30, 45, 3, 189, 89, 48, 639, 2, 101, 410, 67, 186, 2, 21, 755, 756, 643, 264], [3, 227, 851, 2, 512, 10, 44, 41], [55, 8, 265, 282, 804, 27, 436, 804, 12, 920], [5, 8, 7, 33, 1, 17], [22, 3, 32, 151, 146, 21], [6, 102, 380, 19, 631], [17, 4, 232, 66, 11, 110], [15], [316, 1, 17, 105, 246, 9, 12, 5, 307, 7, 135, 2, 435, 4, 42, 41, 650, 1, 943, 14, 174, 35, 15, 10, 2, 79, 190, 3, 155, 32, 116, 391, 2, 628, 7, 261, 156, 1, 373, 403, 44, 1, 60, 9, 4, 7, 468, 35, 472, 2, 435, 5, 650, 39, 350, 11, 129, 15, 332, 28, 3, 106, 255, 171], [642, 20, 95, 84, 558, 16, 21, 680, 29, 681, 327, 607, 532], [487, 3, 110, 12, 5], [54, 8, 13, 12, 78, 117], [261, 265, 17, 130, 155, 10, 4, 16, 34, 71, 968, 54, 71, 717, 27, 120, 107, 975], [444, 180, 1, 59, 273, 246, 94, 45, 1, 355, 111, 148, 24, 40, 77, 137, 150, 118, 84, 32, 10, 77], [11, 8, 32, 40, 49, 12, 5, 2, 78, 26, 3, 291], [416, 53, 592, 44], [93, 59, 851, 2, 35, 24, 134, 14, 634, 92, 9, 418, 491], [328, 591, 146, 21, 35, 88, 212], [765, 40, 84, 109, 124, 863, 112, 88, 239, 47, 122, 40, 26, 9, 5, 39, 393, 98, 2, 7, 7, 147, 6, 212], [13, 48, 385, 8, 267, 2, 35, 68, 5, 2, 2, 30, 7], [71, 8, 334], [808, 171, 2, 4, 57, 266, 6, 17, 188, 5, 913, 424, 430, 153, 20, 131, 8, 458, 36, 16, 21, 64, 562, 251, 662, 399, 623, 446], [21, 33, 72, 12, 268], [1, 17, 38, 127, 3, 22], [1, 475, 119, 275, 146], [171, 85, 1, 224, 173, 173, 133, 110, 1, 172, 185, 3, 85], [120, 149, 4, 28, 165, 125, 975, 338, 4, 363, 28, 551, 21, 3, 53, 156, 51, 15, 216, 22], [138, 8, 173, 23, 61, 5, 136, 40], [87, 81, 16, 104], [843, 1, 299, 19, 3, 227, 23, 76, 13, 1, 286, 3, 14, 548, 1, 59, 163, 5, 276, 1, 231, 7, 3, 234, 23, 133, 79, 5, 33, 87, 1, 288, 7, 102, 17, 125, 2, 155, 33, 87, 1, 33, 87, 13, 357, 59, 23], [11, 8, 176], [198, 13, 95, 38, 59, 342, 4, 913, 424, 579, 748, 153, 18, 749, 39, 8, 89, 462, 478, 2, 206, 3, 16], [23, 6], [], [40, 928, 32], [50, 815, 255], [3, 28, 86, 569, 513, 76, 86, 82, 11, 203, 177, 313, 12, 981, 569, 513, 391, 233, 112], [57, 517, 47, 22, 3], [14, 23, 19, 65, 84, 26, 152, 3, 70, 93, 28, 58, 7, 349, 30, 99, 7, 35, 472, 2, 7, 17, 193, 33, 908, 414, 12, 5, 146, 12, 99, 23, 36, 155, 10, 547, 693, 167, 324, 45, 1, 344, 82, 5, 330, 19, 28, 10, 2, 5, 146], [542, 304, 16, 21, 36, 251, 208, 725, 456, 423, 90], [110, 57, 167, 47, 3, 508, 110], [40, 22, 298, 2, 206, 3, 178, 319, 351, 19, 3, 188, 4, 348, 153, 271, 16, 131, 402, 571, 840, 64, 405], [132, 1, 31, 30, 5, 485, 78, 8, 12, 4, 1, 122, 12, 9, 111, 474, 216, 834, 23, 248, 2, 30, 92, 25], [272, 155, 10, 113, 63, 2, 658, 65], [49, 127, 94, 182, 494, 182, 45, 40, 30, 65, 383], [45, 119, 376, 63, 499, 119, 80, 21], [137, 297, 191, 10, 53, 197, 14, 229, 223, 42, 41, 81, 35, 52, 7, 79, 51, 66], [240, 240, 98, 87, 14, 599, 23, 314, 20, 91, 1, 412, 95, 32, 222, 9, 36, 62, 14, 168, 87, 1, 134, 29, 20], [313, 5, 15, 18, 6, 76, 29, 960, 9, 39, 334, 15, 14, 8, 4, 486, 2, 35, 960], [85, 64, 1, 457, 2, 80], [198, 13, 95, 38, 188, 4, 913, 424, 579, 748, 153, 18, 749, 39, 8, 5, 462, 478, 2, 355, 3, 16, 989, 405], [69, 120, 38, 120, 38, 120, 38, 259, 6, 17, 234, 9, 29, 161, 247, 740], [1, 184, 13, 19, 238, 518, 132], [28, 3, 519, 96, 10, 5, 936, 977, 184, 885, 177], [92, 1, 17, 25, 14, 85], [138, 1, 108, 23, 1, 60, 9, 427, 24, 11, 8, 9, 357, 1, 108, 324, 18, 12, 5, 178, 307, 317, 1, 373, 19, 245], [98, 109, 20, 493, 412, 149, 6, 27, 29, 950, 9, 14, 1, 493, 887, 23, 223], [35, 133, 65, 1, 31, 58, 154], [181, 628, 12, 10, 310, 1, 74, 3, 7, 1, 185, 3, 148, 7, 1, 618, 19, 3, 9, 323, 161], [145, 646, 15, 6, 72, 245, 2, 150, 578, 529], [1, 17, 799, 362, 30, 675, 399, 100, 53, 54, 2, 26], [10, 139, 17, 4, 792, 117, 398], [38, 1, 102, 17, 539, 4, 356, 52, 15, 4], [821, 89, 3, 259, 35, 2, 640, 12, 5, 3, 135, 2, 131, 12, 48, 91, 37, 138, 2, 39, 121, 2, 620, 52, 68, 86], [259, 1, 16, 3, 104, 97], [25, 123, 38, 14, 59, 4, 57, 527], [107, 489, 18, 107, 217, 587], [10, 1, 100, 53, 199, 132], [57, 37, 5, 6, 231, 192, 4, 20, 439, 5, 569, 91, 91, 86, 121, 318], [87, 2, 35, 4, 489, 8, 14, 46, 34, 40, 164, 340, 117, 1, 246, 473, 9, 7, 19, 515, 1, 641, 260, 107, 15, 339, 7, 19, 51, 11, 63, 7, 19, 87], [1, 108, 3, 141, 49, 5, 16, 5, 839, 160, 61, 5, 19, 134, 216, 116, 263], [38, 40, 14, 51, 23, 610, 17, 34, 55, 89, 2, 228, 238, 88, 9, 161], [57, 38], [625, 13, 295, 660, 12, 351, 579, 563, 2, 131, 16, 701, 402, 673], [747, 75, 4, 884, 455, 214, 3, 17, 105, 496, 2, 153, 934, 2, 131, 16, 131, 402, 571, 887, 593, 64], [62, 865, 238, 70, 2, 49, 18, 4, 37, 9, 4, 401, 274], [244, 1, 224, 33, 23, 1, 288, 315, 107, 51, 112, 648, 83, 1, 59, 2, 52, 1, 59, 51, 112, 7, 21, 33, 25, 796], [127, 22, 3, 54, 26, 3, 26, 47, 28, 3, 2, 35, 552, 50, 10, 813, 13, 256, 408, 10, 102, 3, 982, 15, 10, 102, 3, 937, 10], [90, 7, 254, 196, 1, 102, 17, 2, 17, 2, 26, 14, 273], [25, 275, 36, 959, 56, 2, 181, 9, 644, 7, 14, 31, 35, 5, 136, 2, 26, 19, 50, 76, 5, 136, 47, 7, 47, 8, 5, 311], [44, 2, 119, 272, 235, 58, 55, 58, 77, 24, 1, 147, 107], [29, 120, 105, 7, 3, 17, 105, 881, 233, 3, 28, 655, 388, 125, 39, 350, 140, 253, 202, 121], [145, 190, 457, 44, 178, 208, 108, 1, 35, 44, 529, 872], [100, 479, 114, 66, 173, 356, 58, 547, 55, 313, 783], [71, 172, 968, 79, 268, 64, 85, 1, 53], [42, 41], [60, 103, 20, 569, 100, 40, 927, 275, 31, 192, 622, 20, 147, 6, 106, 230, 121, 29, 847, 91, 252], [87, 1, 31, 35, 472, 2, 30, 2, 3, 82, 3, 9, 5, 167], [158, 196, 155, 10, 4, 898, 389, 2, 245, 11], [198, 16, 50, 13, 382, 13, 873, 43, 294, 27, 388, 424, 157, 595, 492, 596, 175, 303, 456, 423, 269], [9], [416, 1, 141, 35, 65, 76, 436, 32, 5, 320, 395, 2, 282, 22, 7, 245, 27, 141, 40, 36, 26, 480], [54, 450, 96, 10, 1, 207, 2], [17, 3, 600, 9], [35, 196, 2, 322, 13, 678, 40, 184, 518], [416, 38, 81, 165], [168, 23, 123, 1, 174, 144, 67, 6, 4, 123, 325, 15, 8, 25, 225, 374], [110, 47, 3, 22, 3, 46], [672, 53, 1, 121, 130], [36, 64, 109], [23, 711, 62, 48, 1, 528, 235], [12, 964, 964, 12, 897, 897, 12, 256, 256, 12, 6, 24, 6, 12, 10, 67, 2, 51, 29, 222, 10, 34, 6, 56, 10, 34, 6, 30, 88, 114, 6, 84, 969, 9, 20, 6, 74, 113, 114, 2, 852, 166, 6, 84, 750, 20, 248, 43, 6, 205, 8, 371, 2, 6, 283, 14], [250, 74, 2, 280, 44, 494, 713, 85, 94], [466, 1, 165, 78, 217, 34, 3, 100, 10], [28, 3, 16, 10, 519, 13, 143, 351, 52, 15, 847, 1, 17, 16, 9, 159, 17, 2, 355, 197, 23, 16, 10, 519], [76, 5, 136, 209, 482, 4, 146, 766, 5, 15, 5, 311, 23, 3, 28, 82, 219, 311, 14, 8, 36, 44, 197, 14], [209, 902, 43, 11, 379], [129, 5, 9, 116, 24, 61, 22, 116, 3, 74, 4, 296, 2, 967, 61, 22, 24, 51, 9, 51, 61, 4, 116, 226, 5, 609, 410, 8, 1, 415, 80], [214, 226, 1, 31, 16, 3], [26, 3, 151, 51, 39, 112], [48, 142, 30, 5, 791, 21, 12, 635, 68, 12, 323, 68, 2, 285, 791, 619, 12, 36, 166, 112, 264, 64, 175, 683, 365], [61, 4, 356, 42, 41, 42, 41, 187, 42, 41], [34, 1, 59, 1, 874], [145, 176, 1, 577, 3, 457, 498, 12, 4, 671, 7, 55, 3, 54, 803], [122, 3, 144, 55, 104, 27, 78, 7], [6, 23, 969, 217, 55, 6, 250, 235, 20, 315, 6, 148], [152, 63, 84, 119, 72, 2], [544, 321, 2, 26, 77, 6, 443, 608, 682, 151], [570, 15, 5, 421, 231, 35, 76, 618, 24, 5, 15, 256, 231, 35, 64, 76, 5, 960, 247, 740], [465, 262, 7, 793, 43, 48, 991, 18, 360, 696, 18, 186, 764, 797, 16, 667, 18, 746, 27, 844], [1, 67, 5, 85], [138, 109, 404, 8, 234, 696, 9, 151, 226], [171, 12, 961, 39, 561], [138, 1, 4, 898, 15, 732, 18, 469, 92, 766, 139, 33, 36, 44], [14, 59, 57, 2, 512, 2, 13, 535, 39, 167, 11, 69, 470, 1, 69, 3, 139, 11, 459, 50, 5, 899], [48, 121, 162, 4, 9, 13, 847, 15, 323, 263, 22, 267, 2, 218, 21, 67, 218, 2, 67, 233, 251, 121], [38, 114, 186, 203, 43, 29, 463, 187, 112, 36, 73, 2, 333, 203, 48, 23, 30, 21, 7, 96, 29, 222, 195, 203, 264, 91], [96, 13, 222, 54, 3, 386, 2, 26, 18, 66, 42, 41], [158, 1, 31, 192, 65, 32, 87, 36, 96, 10, 219, 697, 2, 9, 7, 58, 601, 6, 28], [1, 3, 231, 205, 526, 251, 117, 9, 107, 837], [481, 708, 301], [5, 15, 8, 25, 45, 40, 326, 616, 356, 249, 24, 394, 14, 8, 45, 40, 326, 848, 249, 17, 4, 232, 517, 977], [46, 420], [75, 9, 44, 44], [38, 970], [171, 12, 13, 385, 651, 143, 13, 95, 31, 35, 881, 233, 141, 13, 203, 25, 106, 16, 214, 649, 18], [117, 120, 12, 340, 66, 167, 120, 58, 9, 4, 278, 136, 259, 3, 300, 56, 5, 7, 13, 32, 5, 894, 894], [1, 135, 952, 6, 4, 561, 113, 593, 197, 61, 551], [47, 22, 3, 1, 185, 3], [59, 36, 79, 2, 165, 31, 181, 39, 78, 419, 261, 156, 3, 288, 30, 51, 5, 428, 40, 184, 3, 18], [158, 705, 123, 35, 5, 276, 837], [30, 4, 103, 95, 115, 76, 302, 124, 15, 5, 463, 585, 901, 125, 12, 125, 675, 36, 68, 2], [121, 85], [33, 257, 144, 38, 87, 1, 174, 24, 75, 60, 2, 79, 63, 87, 199, 22, 3, 707, 18], [110, 1, 60, 25, 13, 535, 106], [288, 283, 507, 7, 1, 836, 25, 2, 661, 52], [610, 3, 435, 215, 56, 42, 41, 23, 61, 25, 139, 878], [105, 216, 548, 25, 21, 171, 2, 13, 827, 40, 31, 170], [23, 3, 28, 36, 49, 2, 13, 912, 27, 684, 11, 69, 1, 128, 13, 46, 7, 306, 4, 57, 66, 176, 1, 185, 3, 23, 123, 148], [3, 22, 2, 347, 4, 907, 447, 97, 16, 131, 143, 2, 429, 13, 447, 219, 3, 22, 496, 2, 347, 75, 4, 884, 95, 214], [1, 366, 24, 38, 78, 210, 44, 150, 115, 1, 165, 594, 15, 170, 148, 111, 149, 46], [98, 1, 534, 192, 544, 43, 826, 24, 26, 313, 94, 939], [198, 40, 22, 298, 2, 206, 6, 670, 319, 351, 19, 3, 17, 188, 4, 153, 271, 16, 50, 700, 308, 131, 64], [128, 25, 306, 139, 123, 432, 408, 10, 82, 6, 160, 69, 252], [59, 394, 611, 7, 92, 341, 45, 6, 16, 88, 23, 4, 68, 8, 622, 3, 924, 744, 31, 67, 6, 4, 68, 601, 1, 512], [1, 457, 1, 437, 72, 2, 221, 519, 16, 10, 44, 197, 289], [475, 165, 34, 6, 28, 333, 152, 15, 164, 43, 268, 364, 6, 94, 130, 164, 28, 148, 77, 27, 6, 235, 20, 49, 165, 85, 333, 55, 928, 682, 10, 989], [47, 123, 8, 9], [60, 441, 31, 212, 35, 215, 51, 5, 276], [25, 286, 896, 14, 606, 9, 32, 8, 19, 697, 18, 865, 965, 229, 965, 76, 46], [36, 10, 19, 3, 89, 171], [314, 154, 1, 1, 30, 18, 64, 56, 205, 389, 4, 66, 75, 14, 8], [84, 6, 215, 14], [38, 85, 71, 8, 85, 234, 961, 56, 39, 672, 522, 107, 15, 511, 142, 8, 4], [31, 35, 76, 55], [12, 248, 249, 61, 124, 7, 14, 28, 35, 809, 12, 7, 201], [1, 31, 12, 11, 256, 10], [232, 183, 141, 3, 35, 146, 21, 33, 25, 257, 435, 13, 236, 53], [165, 34, 6, 979, 164, 44], [198, 40, 22, 298, 2, 206, 6, 670, 319, 351, 19, 3, 17, 188, 4, 153, 271, 16, 50, 700, 308, 131, 456], [152, 699, 122, 2], [416, 26, 3, 92, 70, 2, 30, 238], [240, 47, 22, 3], [371, 422, 54, 8, 4, 401, 792, 91], [179, 21, 33, 154, 19, 542], [24, 35, 4, 57, 330], [38, 428, 18, 99, 115, 33, 14, 21], [36, 52, 52, 2, 730, 229, 11, 281, 21], [132, 158, 7, 493, 4, 116, 63, 9, 67, 10, 4, 114, 396, 154, 51, 5, 653, 452, 168, 799, 6, 53, 5, 896, 654], [33, 23, 9, 69, 37, 3, 33, 694, 66, 1, 37, 3, 3, 134, 10, 23, 133], [581, 119, 235, 164, 32, 180, 10, 32, 21, 33, 25, 578, 83], [69, 14, 31, 134, 3, 37, 1, 60, 72, 2, 13, 760, 37, 11], [98, 214, 378, 5, 103, 95, 50, 64, 32, 73, 345, 326, 2, 38, 30, 558, 21], [46, 90, 1, 733, 20, 339, 1, 952], [69, 3, 69, 6, 312], [25, 4, 312, 120, 803, 109, 173, 8, 32, 99, 7, 8, 387, 754, 36, 10, 7, 9, 32, 5, 47, 17, 3, 105], [282, 9, 11, 334, 3, 29, 29, 300, 29, 29, 462, 29, 237, 7, 333, 29, 792, 556, 57, 167, 110], [38, 142, 38, 54], [90, 70, 216, 2, 58, 76, 21], [90, 155, 88, 11, 171], [40, 614, 2, 206, 3, 583, 13, 2, 89, 378, 15, 4, 103, 186, 7, 773, 830, 91, 27, 16, 774, 12, 580], [12, 905, 177, 8, 280, 13, 905, 115, 25], [877, 65, 82, 6, 9, 4], [25, 279, 37, 39, 305, 215, 109], [59, 9, 13, 357, 27, 190], [1, 60, 25, 277, 2, 912], [171, 43, 13, 852, 13, 561, 39, 112, 31, 807, 6, 89, 319, 43, 506, 157, 241, 5, 103, 216, 73, 936, 2], [505, 136, 12, 10, 1, 60, 42, 41, 497, 631, 128, 19, 3], [33, 87, 24, 7, 1, 139, 608, 2, 35, 472, 2, 49, 414, 28, 3, 36, 106, 162, 113, 242, 136, 2, 30, 54, 3, 453, 216, 2, 30, 106, 10, 3, 28, 91, 48, 885], [196], [1, 244, 146, 39, 671, 867, 830, 263, 44, 213], [23, 176, 232, 2, 5], [5, 449, 42, 41, 150, 965, 507, 42, 41, 42, 63, 41, 60, 81, 465, 322, 7, 68, 3, 199, 160], [61, 25], [55, 36, 315, 4, 346, 7, 183, 12, 29, 421, 6], [11, 286, 1, 234, 283, 2, 181, 133, 51, 5, 63, 24, 10, 45, 1, 60, 677], [6, 48, 18, 434, 627, 6, 235, 20, 413, 549, 10, 94, 855, 94, 950], [30, 5, 635, 385, 27, 576, 18, 95, 12, 702, 68, 203, 27, 2, 73, 86, 318, 233], [54, 6, 663, 6, 877, 260, 260, 549, 611, 24, 1, 554, 6, 72, 2, 101, 4, 328, 1, 67, 99, 379, 23, 33, 805, 99, 44, 32, 544, 43, 692, 77], [1, 286, 959, 30, 130, 4, 413, 36, 180, 324, 5, 794, 15, 217, 6, 7, 71, 23, 123], [141, 1, 17, 44, 4, 27, 190, 861], [50, 205, 2, 20, 64, 11, 151], [138, 440, 1, 70, 2, 134, 3, 133], [1, 100, 61, 4, 832, 531, 390, 216], [38, 128, 207, 129, 17, 4, 432, 32], [34, 6, 169, 34, 6, 292, 34, 6, 100, 193, 54, 224, 6, 22, 395, 37, 13, 110, 159, 276, 222, 110], [176, 33, 3, 244, 3, 82, 10, 419, 329, 1, 62, 5, 137, 116], [96, 10, 450, 47, 8, 489, 516], [600, 966, 42, 41, 12, 20], [127, 8, 19, 78, 66], [46, 25, 123, 2, 26, 109, 491, 437, 693, 204, 183, 444, 471, 5, 168, 257, 26, 12, 340, 166, 704, 4, 132, 183, 148, 260, 19], [138, 109, 404, 8, 234, 696, 9, 151, 226], [28, 255, 6, 76, 805, 6, 44, 50, 29, 242, 84, 290, 34, 6, 70], [26, 3, 70, 4, 103, 186, 576, 115, 160, 37, 48, 389, 2, 107, 95, 752, 48, 68, 48, 773, 91, 27, 16, 774], [5, 573, 122, 113, 24, 1, 56, 959, 35, 9, 190, 587, 239, 112, 7, 71, 14, 2, 216, 12, 48], [590, 47, 26, 1, 37, 5, 243, 10, 178, 117, 24, 158], [78, 848, 407, 21], [106, 16, 89, 214, 220, 941, 18, 390, 75, 3, 17, 188, 4, 271, 348, 157, 27, 538, 153], [87, 81, 16, 3, 104, 1, 60, 9, 290, 316], [3, 52, 15, 577, 5, 242, 66, 21, 92, 37, 10, 45, 6, 30, 4, 359, 886, 29, 687, 92, 758, 40, 31, 30], [209, 25, 184, 14, 71, 28, 67, 10], [261, 648, 13, 631, 1, 304, 2, 35], [3, 17, 25, 5, 795, 3, 17, 148, 12, 574, 404, 2, 429, 13, 795], [179, 129, 102, 26, 14, 408, 10, 40, 231, 17, 4, 356, 621], [4, 353, 960, 4, 904, 71, 399, 93, 373, 291, 71, 399, 99, 838, 199, 126, 353, 836, 20, 126, 904, 63, 4, 59, 126, 904, 14, 59, 79, 20, 830, 126, 359, 126, 353, 56, 94, 99, 93, 422, 6, 503, 23, 801, 810, 126, 353, 8, 126, 757, 15, 11, 94, 126, 359, 89, 94, 15, 126, 613, 1, 48, 659, 126, 247, 740], [601, 29, 698, 680, 6, 101, 14, 632, 302, 698, 8, 126, 485, 94, 464, 136, 15, 193, 94, 374, 17, 232, 66, 85], [182, 78, 12, 10, 85, 106], [49, 524, 876, 791, 696, 64, 9, 94, 116, 334, 150, 65, 62, 152], [48, 385, 91, 323, 27, 635, 993, 114, 20, 166, 43, 205, 333, 203, 48, 7, 285, 125, 45, 6, 439, 12, 825, 377], [846, 1, 267, 9, 565, 43], [3, 608, 27, 28, 1, 58, 76, 32, 113, 876, 7, 932, 52, 54, 481, 163, 160], [34, 1, 30, 65, 197, 3, 154, 13, 520, 7, 425, 23, 255, 10, 371], [540, 18, 42, 41], [62, 45], [87, 77, 514, 20, 96, 6], [12, 176, 1, 6, 426, 104, 218, 252], [820, 7, 179], [253, 202, 125, 607, 50, 110, 15, 48, 607, 37, 116], [23, 61, 2, 35, 363, 19, 111, 3, 9, 47, 22, 3, 36, 616, 98], [138, 11, 8], [316, 267, 12, 13, 545], [581], [25, 275, 615, 72, 2, 357, 33, 9, 442], [178, 325, 131, 29, 665, 15, 891, 612, 83, 68, 575, 2, 21, 734, 735, 95, 175, 303, 734, 825, 953, 264], [18, 5, 136, 2, 427, 85], [490, 36, 577, 4, 296, 37, 61, 44], [29, 157, 890, 8, 908, 550, 640, 2, 29, 157, 9, 21, 67, 157, 2, 636, 64, 195, 121, 755, 756, 643, 983], [280, 13, 110], [265, 460, 7], [228, 120, 89, 695, 220, 7, 13, 115, 784, 3, 2, 162, 52, 118, 14, 8, 16, 50, 4, 382, 195], [132, 12, 634, 9, 56], [3, 17, 114, 103, 142, 106, 16], [132, 236, 236, 1, 380, 85], [129, 3, 53, 54, 1, 663], [138, 438, 24, 947, 481, 72, 2, 14], [103, 126, 24, 5, 330, 23, 100, 37, 29, 222, 36, 170, 159, 144, 33, 234, 868], [1, 468, 23, 676, 5, 336], [71, 172, 968, 79, 268, 64, 85, 1, 53], [87, 1, 476, 13, 16, 28, 3, 106, 16, 88], [570, 777, 89, 256, 723, 45, 228, 8, 9, 14, 24, 14, 173, 45, 228, 14, 790], [39, 8, 4, 314], [47, 174, 11, 630, 540, 19, 11, 935, 4], [128, 29, 661, 813, 525, 20, 123, 60, 11, 136, 834, 4, 15, 9, 37, 4, 211, 58, 34, 3, 56], [145, 230, 14, 25, 4, 356, 101, 193], [100, 35, 609, 110], [36, 14, 44, 7, 504, 88, 930, 2, 35, 99], [713, 37, 45, 14, 901, 36, 482, 585, 9, 5, 241, 226, 7, 14, 31, 546, 3, 480, 5, 143, 8, 11, 143, 358, 3, 210, 19, 143, 5, 31, 441], [22, 3, 578, 27], [1, 108, 992, 12, 4, 912, 8, 5, 12, 263, 1], [1, 100, 841, 13, 142], [158, 30, 5, 919], [8, 24, 152, 8, 179], [102, 479, 491, 1, 841, 47, 417, 14, 8, 19, 1, 35, 482, 9, 11, 226, 37, 4, 286, 52, 9, 5, 421, 15, 5, 217, 19, 120, 352, 803, 2, 10, 257, 49], [559, 290, 62, 151, 20, 26, 379, 6, 387, 21], [7, 86, 302, 124, 631, 363, 3, 30, 2, 7], [417, 827, 43, 360, 83, 8, 13, 726, 66, 52, 156, 761, 574, 140, 177, 469, 4, 819, 3], [720, 515, 339, 111, 56, 376, 78, 109, 94, 65], [507, 449, 3, 299, 551, 13, 425, 928], [90, 90, 39, 350, 343, 53], [101, 113, 848, 12], [36, 624, 415, 3], [158, 156, 25, 8, 5, 51, 301], [57, 167, 519, 16, 10, 316], [608, 109, 298, 2, 331, 12, 103, 258, 1, 60, 411, 2, 708, 290, 3], [619, 57, 181, 10], [121, 10, 45, 598], [22, 3, 39, 123], [471, 6, 44, 20, 6], [46, 21, 1, 60, 9, 442, 34, 1, 58, 212, 1, 31, 58, 948, 160], [90, 90, 55, 413, 113], [328], [32, 43, 49, 2], [353, 1, 69, 6, 353, 353, 353, 114, 1, 69, 6], [293, 109, 24, 1, 7, 7, 346, 417, 36, 310, 1, 299, 327, 18, 24, 1, 368, 13, 226, 8, 510, 19, 14, 102], [198, 3, 17, 188, 4, 114, 112, 48, 9, 89, 506, 424, 153, 73, 5, 345, 131, 2, 38, 175, 147, 140, 584, 689], [139, 246, 1, 149, 1, 17, 5, 1, 288, 1, 17, 27, 100, 17, 5], [328, 1, 287, 23, 524, 150, 575, 77], [475], [3, 22, 271, 5, 320, 186, 115, 4, 923, 771, 27, 4, 555, 153, 73, 345, 429, 2, 38, 195], [57, 167, 32, 5, 575, 5, 64, 743, 33, 44, 32, 39, 400], [36, 44, 61, 246, 24, 1, 288, 547, 42, 41, 60], [90, 1, 341, 58, 76, 211, 55, 34, 11, 289, 629, 52, 375], [30, 125, 7, 607, 50, 140, 177, 975, 675, 253, 202], [1, 207, 50, 4, 2], [6, 2, 130, 61, 25, 225, 508, 61, 5], [198, 40, 22, 298, 2, 206, 6, 670, 319, 351, 19, 3, 17, 188, 4, 153, 271, 16, 50, 700, 308, 131, 571, 840, 64], [687, 209, 184, 3, 248, 248, 428, 548, 1, 62, 109, 1, 36, 70, 2, 53, 19, 3, 22, 394, 279, 170, 26, 313, 5, 976, 15, 13, 66], [144], [592, 44, 47, 13, 699, 97, 67, 225, 143, 2, 11], [98, 214, 378, 5, 103, 95, 50, 64, 32, 73, 345, 326, 2, 38, 30, 558, 21], [553, 21, 335, 521, 360, 308, 988, 16, 667, 18, 746, 27, 844], [1, 313, 438, 7, 7, 194, 7, 3], [267, 12, 13, 16], [100, 108, 23, 14, 229, 56, 15], [5, 488, 120, 25, 105], [38, 38, 1, 31, 322, 51], [272, 51, 921, 27, 152], [198, 13, 43, 294, 27, 538, 595, 492, 16, 21, 596, 785, 200, 233, 729], [96, 110, 54, 557, 2, 3, 156, 3, 800, 2, 10, 56, 124], [158, 71, 231, 35, 472, 2, 58], [995, 50, 98, 39, 8, 13, 237, 3, 17, 106, 16, 88, 18, 2, 13, 428, 7, 208], [353, 3, 10, 7, 51, 13, 9, 58, 245, 34, 3], [46, 1, 49, 582, 172], [416, 68, 10, 45, 254, 88, 32, 714, 7, 81, 931, 76, 74, 2, 30, 5, 12, 10], [1, 184, 3, 42, 41], [152, 84, 6, 163, 21], [441, 77, 56, 19, 111, 468, 191, 216, 49, 270, 54, 122, 111, 144, 9, 5, 981, 7], [70, 2, 44, 29, 37, 4, 502, 103, 203, 91, 20, 39, 68, 140, 253, 202, 5, 94, 276, 513, 455, 798, 365], [98, 61, 954, 47, 8, 13, 517, 1, 128, 1, 28, 82, 3, 160, 12, 4, 274, 24, 1, 17, 2, 73, 88, 34, 6, 28, 398], [321, 6, 94, 77, 87, 77, 85, 336, 633, 147, 6, 9, 330, 24, 111, 15, 53, 6, 77, 23, 6, 235, 20, 164, 170, 165, 10, 20, 500, 6, 43, 89, 239, 290], [316, 1, 60, 267, 12, 13, 16, 358, 48, 106, 16, 10], [430, 378, 320, 764, 186, 48, 991, 27, 465, 262, 73, 18, 360, 16, 667, 18, 746, 27, 844], [57, 473, 495, 47, 504, 5, 305, 638, 1, 512, 7, 3, 22, 11, 213, 286, 75, 234, 11, 69, 1, 284, 13, 265, 7, 133, 7, 53, 1, 3], [227, 925, 18], [129, 260, 30, 5, 635, 385, 27, 576, 18, 95, 68, 203, 27, 2, 21, 620, 52, 73, 86, 318, 233], [87, 81, 16, 104], [98, 46, 36, 453, 20, 218, 632, 20, 6, 43, 4, 314, 63, 128, 29, 962, 17, 57, 32, 69, 236, 60, 252], [201, 11, 699, 8, 25, 56, 2, 403, 37, 10, 111, 715, 10, 56], [60, 971, 9], [33, 591, 11, 311, 21], [641, 11, 720, 179], [1, 28, 26, 19, 1, 70, 2, 106, 3, 594, 7, 766, 5], [1, 30, 52, 15, 289, 9, 9, 56, 42, 41, 389, 3, 53, 127, 8], [1, 60, 685, 15, 72, 245, 2, 12, 11, 270, 152, 63, 6, 72], [305, 8, 65], [73, 65, 2, 2, 807, 84, 502, 319, 43, 4, 909, 486, 768, 43, 4, 857, 15, 718, 175, 303, 140, 177, 2, 233, 112], [444, 443, 204, 380, 950, 77, 23, 152, 63, 84, 40, 290, 529], [47, 22, 3, 44], [3, 31, 35, 9, 5, 226, 15, 19, 363], [198, 13, 95, 143, 120, 105, 342, 37, 4, 602, 153, 271, 16, 50, 700, 308, 131, 571, 840, 64, 405], [22, 3, 72, 2, 83], [54, 557, 110, 156, 3, 1, 60], [168, 113, 32, 5, 480, 22, 800, 79, 47, 111, 22, 7, 78, 758], [60, 18, 11, 136], [103, 9, 202, 1, 396, 776, 37, 202, 336, 34, 6, 56, 432, 37, 10, 68, 2, 269, 73, 333, 318, 233], [87, 81, 16, 104], [87, 81, 16, 104], [6, 92, 28, 49, 414], [272, 92, 85], [316, 790, 358, 48, 16, 10], [109, 62, 29, 94, 62, 11, 46, 383, 1, 250, 144, 148, 183, 29, 326], [145, 3, 223, 209, 62, 510, 12, 4, 335, 5, 1, 3], [625, 13, 818, 295, 660, 12, 351, 914, 915, 916, 200, 1, 437, 563, 16, 701, 402, 673, 388, 917], [86, 5, 613, 209, 243, 130, 209, 14, 7, 431, 616, 1, 141, 25, 583, 651, 14], [89, 552, 178, 117, 36, 958, 12, 99, 7, 589], [22, 3, 44, 12, 5, 1, 53, 1, 60], [114, 49, 2, 921, 121, 20, 482, 18, 166, 5, 37, 753, 43, 922, 42, 41, 205, 856, 29, 753, 61], [129, 469, 25, 4, 312, 15, 249, 9, 18, 103, 497, 113, 9, 7, 5, 894, 120, 190, 72], [1, 60, 4, 9, 5, 7, 4, 9, 5, 8, 19, 3], [286, 40, 231, 49, 52, 12, 354, 81, 715, 3, 46], [145, 8, 290, 92, 18], [46, 77, 1, 165, 55, 93, 144, 361, 711, 20, 280, 23, 1], [39, 8, 51, 36, 7, 791, 2, 10], [61, 4, 410, 15, 997], [9, 714, 267, 12, 618, 2, 30, 52, 15, 11, 23, 1, 28, 101, 4], [46], [28, 3, 280, 12, 684, 3, 67, 170, 229, 12], [1, 69, 3, 3, 617, 11, 18, 14, 8, 25, 36, 4, 24, 14, 8, 4, 4, 356], [84, 40, 92, 290, 43, 354, 211], [128, 3, 22, 25, 306, 19, 794, 15, 66, 17, 78, 37, 901, 15, 2, 300], [893, 189, 4, 564, 771, 34, 6, 53, 219, 9, 112, 73, 2, 318, 233], [404, 427], [33, 260], [129, 60, 9, 4, 23, 34, 6, 337, 16, 60, 32, 80, 301, 2, 35], [148, 60, 8, 5, 103, 136, 15], [71, 449, 98, 7, 2, 30, 13, 760, 88, 2, 32, 4], [26, 3, 56, 484], [132, 1, 288, 663, 709, 67, 19, 2, 3, 179], [34, 3, 70, 2, 14, 27, 190, 396, 44, 879, 530], [3, 92, 32], [198, 13, 95, 38, 188, 4, 913, 424, 579, 748, 153, 18, 749, 39, 8, 5, 462, 478, 2, 355, 3, 16, 989], [55, 329, 49, 94, 245], [46, 255, 10, 165, 34, 634, 387, 529, 4, 25], [1, 60, 9, 85, 1, 31, 80, 9, 517], [1, 60, 246, 1, 31, 35, 65, 32], [8, 78, 15, 126, 20, 4, 226, 9, 23], [431, 9, 261, 36, 5, 609, 410, 24, 40, 181, 9, 644, 171, 2], [820, 444, 443, 950, 4, 43, 52, 376, 8, 25, 139, 848, 27, 369, 194, 692, 376, 1, 28, 181], [33, 72, 52, 2, 182], [137, 297, 40, 28, 178, 4, 401, 452, 279, 125, 107, 63, 212], [87, 81, 16, 104], [11, 69, 1, 128, 13, 25, 163, 194, 102, 3, 13, 27, 13, 115], [50, 160, 603, 285, 2, 166, 151], [101, 216, 52, 414, 7, 31, 126], [625, 13, 818, 295, 660, 12, 351, 914, 915, 916, 200, 1, 437, 563, 16, 701, 402, 673, 388, 917], [10, 3, 460, 11], [652, 325, 131, 29, 665, 15, 891, 612, 83, 68, 138, 2, 21, 734, 735, 95, 175, 303, 734, 825, 953, 264], [335, 521, 360, 308, 988, 320, 372, 797, 43, 48, 135, 13, 115, 16, 48, 18, 2, 553, 21, 175, 303], [33, 9, 427, 21, 85, 127, 22, 3], [855, 59, 616, 376, 34, 6, 290, 85, 364, 40, 250, 164, 43, 354, 180, 104, 6, 230, 31, 224, 364, 6, 164, 130, 43, 268, 77], [23, 5, 845, 8, 221], [20, 20], [422, 34, 9, 48, 262, 966, 138, 62, 166, 100, 4, 346, 9, 317, 1, 709, 909, 166, 70], [34, 3, 68, 18, 13, 136, 2, 86, 19, 141, 151, 7, 19, 141, 35, 442], [65, 22, 4, 55], [128, 39, 68, 3, 523, 34, 25, 55, 191, 39, 68, 155, 3, 4, 743, 2, 300, 17, 4, 570, 66], [149, 93, 28, 10, 42, 41], [230, 223, 46], [322, 52, 89, 15, 795, 607, 513, 7, 181, 13, 95, 7, 68, 905, 2], [96, 11, 392, 219, 6, 9, 10, 81, 283, 2, 582, 9, 42, 41, 1, 344, 20, 11, 103, 258, 267, 12, 29, 91, 35, 57, 167], [33, 9, 427, 21, 1, 31, 16, 3, 42, 41, 208], [96, 2, 225, 9, 5], [1, 60, 18, 5, 136, 2], [820, 11, 823, 36, 10, 19, 431, 5, 445, 23, 97, 182, 484], [750, 200, 25, 494, 4, 345, 25, 4, 61, 4, 219, 449, 1, 31, 35, 37, 3, 110], [11, 222, 280, 2, 16, 5, 293], [200, 200, 966, 72, 2, 319, 5, 154, 248, 497, 9], [55, 3, 22, 53], [26, 33, 72, 2, 32, 1, 641, 62, 4, 136, 2, 206, 130, 524, 55], [1, 63, 42, 41, 729, 8, 25], [98, 5, 653, 22, 267, 12, 3, 2, 68, 170, 68, 21, 12, 4, 116, 117, 67, 86, 2, 86, 39, 220], [46, 38, 956], [96, 170, 6, 17, 4, 7, 36, 70, 2, 280, 114, 400, 15, 63], [205, 37, 50, 48, 20, 51, 675], [145, 133, 343], [110, 986, 54, 557, 2, 3], [1, 235, 24, 139, 375, 586, 10, 766, 21, 192, 80, 23, 375, 633, 291, 55], [324, 4, 274, 201, 127, 8, 5, 26, 851, 2, 35, 24, 57, 196, 111, 31, 35, 9, 697], [1, 25, 32, 80, 21, 586], [78, 385, 7, 21, 279, 425, 166, 125, 513, 806], [145, 741, 1, 28, 210, 6, 44, 32, 738, 34, 6, 96, 10, 601, 127, 20, 69, 654], [461, 38, 136, 1, 28, 164, 44, 37, 3], [90, 81, 151, 190, 52], [129, 168, 63, 2, 134, 113], [30, 245, 9, 7, 658, 2, 786, 146, 787, 42, 41, 7, 32, 213, 146], [98, 708, 1, 5, 719], [670, 37, 22, 496, 2, 4, 347, 4, 907, 447, 34, 13, 143, 16, 2, 347, 13, 907, 447], [172, 316, 1, 184, 3, 124, 678, 79, 47, 2, 761, 362, 5, 1, 344, 67, 3, 340, 142, 19, 141, 47, 249, 22, 88, 80, 17, 4, 116, 393], [120, 137, 4, 413], [40, 50, 11, 146, 18, 146, 18, 412, 18, 630, 8, 42, 41], [106, 100, 144, 56, 19, 98, 98, 98], [6, 17, 4, 757, 118, 8, 411, 20, 134, 206, 37, 6, 162, 52, 118, 111, 84, 860, 118, 758, 29, 23, 278, 16, 18], [33, 46, 31, 26, 11, 410, 160], [145, 54, 47, 79, 13, 763, 600, 85], [845, 204, 58, 2, 24, 67, 374, 75, 204, 58, 2, 24, 67, 374, 75, 1, 204, 58, 2, 164, 6, 24, 28, 67, 11, 193, 75, 121, 2, 6, 247], [7, 47, 3, 31, 26, 19, 440], [185, 236, 74, 236, 70, 236, 69, 236], [369, 331, 11, 268, 18, 11, 136, 80, 77, 1, 554, 6, 250, 235, 20, 536, 9, 565, 83], [171, 12, 518, 316, 3, 17, 105, 817, 128, 3, 5], [8, 10, 52, 634, 51, 11, 222, 2, 162, 15, 10, 7, 55, 634, 992, 79, 281, 18, 11, 219, 1, 641, 201, 18, 9, 56, 4, 258], [12, 29, 325, 2, 189, 909, 157, 187, 377, 73, 327, 2, 683, 140, 532, 584, 377], [1, 184, 3, 5, 7, 26, 3, 663, 5, 42, 41, 507], [38, 1, 62, 19, 3, 72, 2, 182, 9, 739], [248, 248, 133, 15, 126, 66, 11, 110, 367, 256, 133, 343, 110], [1, 512, 44, 314, 906, 148, 444, 54, 242, 217], [171, 24, 92, 641, 194, 1, 31, 230, 14, 4, 274, 23, 25, 20, 130, 7, 31, 283, 104, 116, 171, 128, 8, 92, 65], [90, 349, 606, 450, 55, 54, 163, 1, 74, 97, 67, 14, 2, 11, 545, 566, 450], [42, 41, 8, 801, 23, 284, 6, 4, 173, 133, 103, 258, 133, 133, 66, 133, 66, 133, 133, 133, 66, 133, 259, 66, 133, 66, 133, 556, 833, 66, 159, 133, 343, 43, 6, 133, 133, 133, 133, 826, 42, 41, 57, 60, 5, 213, 2, 938, 6, 51, 567], [13, 79, 10, 114, 215, 20, 166, 43, 205, 285, 282, 25, 436, 381, 656, 97, 91], [3, 234, 134, 249, 338, 111, 22], [33, 441, 5, 880, 592, 57, 54, 22, 3, 163, 239], [146, 18, 82, 3, 104], [8, 14, 13, 19, 500, 9, 5, 27], [47, 314, 197, 3, 30, 91, 36, 547, 239], [26, 3, 70, 4, 103, 397, 772, 814, 107, 455, 262, 335, 521, 308, 988, 773, 91, 27, 16, 774, 12, 580, 160], [839, 15, 182, 210, 12, 89, 44, 215, 19, 8, 4, 205, 953, 251], [441, 241, 29, 521, 75, 314, 75, 61, 601, 28, 1, 210, 170, 44, 339, 6, 252, 654], [313, 529], [1, 70, 113, 11, 552, 1, 74, 4, 323, 363, 20, 10, 73, 451, 2, 12, 38, 73, 86, 20, 332, 73, 318], [2, 189, 157, 50, 752, 2, 854, 424, 640, 73, 7, 67, 2, 391, 195, 66, 264, 365, 91, 43, 675], [48, 12, 333, 112, 186, 203, 43, 29, 463, 187, 112, 36, 73, 186, 2, 597, 30, 892, 7, 96, 29, 681, 140, 955, 253, 202, 689, 203, 264], [137, 3, 9, 27], [100, 292, 2, 130, 352, 46, 61, 11, 345], [28, 3, 26, 4, 290, 39, 32, 113, 876], [1, 204, 210, 5, 115, 146, 21, 97, 67, 4, 142], [590, 35, 65, 9, 4, 662], [12, 5, 142, 105, 32, 11, 115, 12, 124, 920, 2, 68, 27, 25], [7, 431, 37, 21], [33, 9, 289, 122, 3, 30, 11, 68], [194, 383, 55, 119, 25, 72, 80, 43, 354], [179, 1, 174, 24, 11, 980, 174, 17, 4, 7, 96, 5, 770, 589, 47, 791, 7, 1, 60], [19, 59, 577, 11, 631, 18, 71], [87, 81, 16, 104], [133, 103, 497], [1, 135, 14, 148, 422, 10, 2, 49], [98, 433, 8, 1, 174, 35, 133, 2, 151, 549, 119, 51, 12], [138, 50, 178, 112, 33, 664, 304, 16], [3, 17, 124, 417, 214, 220, 16, 850, 21], [54, 143, 26, 6, 304, 32, 8, 14, 716], [328, 24, 137, 25, 10, 21, 23, 950, 81, 369, 230, 14], [45, 122, 499, 30, 88], [128, 3, 22, 306, 4, 57, 112, 36, 997, 9], [47, 6, 128, 29, 46, 554, 79, 6, 69, 94, 185, 101, 193], [145, 28, 3, 96, 10, 630, 759, 453, 10, 2, 164, 130, 65, 24, 1, 62, 815, 7, 431, 25, 225, 115], [46, 1, 121, 6, 970, 1, 230, 11, 311], [1, 60, 323, 467, 1, 70, 2, 500, 52, 13], [8, 93, 120, 225, 115, 143], [163, 763, 682, 77], [89, 95, 143, 120, 188, 538, 2, 131, 520, 216, 88, 27, 666, 5, 542, 308, 18], [441, 209, 14, 23, 1, 141, 210, 14, 18, 693], [158, 102, 49, 2, 370, 81, 35, 88, 197], [9, 151, 21, 72, 17, 9, 307, 208], [911, 29, 62, 38, 586, 71, 144, 858, 58, 199, 2, 101, 4, 396, 147, 62, 4, 25], [187, 66, 1, 280, 2, 221, 154, 42, 41, 23, 64], [98, 39, 8, 50, 47, 22, 3], [25, 275, 135, 236, 572, 7], [1, 128, 13, 461, 176, 1, 479, 19, 3, 341, 17, 943, 4, 274, 45, 3, 5, 305, 59, 4, 1, 60, 109, 267, 45, 3, 58, 88, 11, 69], [1, 60, 190, 434], [7, 19, 8, 5, 407, 3, 658, 223, 9, 2, 54, 8, 72, 18, 223, 3, 1, 144, 5, 293, 249, 7, 111, 49, 9, 78, 7, 52, 5, 242, 452, 3, 49, 229, 163, 684, 3, 70, 2, 26, 137, 25, 19, 3, 102, 53, 156, 33, 137, 19, 3, 102, 889, 45, 1, 96, 3, 54, 8, 72, 2, 10, 55, 3, 70, 2, 35, 45, 33], [173, 94, 352, 1, 509, 12, 11, 69], [3, 188, 13, 43, 294, 27, 538, 595, 492, 16, 21, 596, 785, 200, 233, 729], [316, 67, 2, 545, 322, 14], [4, 401, 144, 101, 358, 187, 436, 593, 137, 64, 105, 205, 24, 489, 8, 88, 23, 1, 599, 340, 128, 1, 102], [449, 482, 9, 42, 41], [51, 150, 276, 43, 29, 999, 104], [821, 784, 4, 91, 543, 21, 439, 5, 95, 695, 220, 659, 36, 2, 73, 86, 2, 91, 543, 21], [138, 24, 1, 100, 193, 1, 74, 3, 392, 440], [61, 46, 58, 2, 11, 80, 14, 232, 2, 164, 7, 273, 28, 218], [26, 129, 51, 31, 12, 401, 63, 217, 15, 57, 526], [48, 385, 68, 2, 2, 30, 13, 48, 635, 203, 15, 5, 112, 21, 264], [213, 120, 93, 125, 338, 42, 41, 548, 93, 599, 9, 671, 120, 93, 260, 5, 897, 34, 93, 120, 7, 61, 46, 7, 99, 897, 8, 55, 38], [82, 3, 65], [4, 174, 35, 959, 74, 754, 15, 7, 197, 107, 794, 15], [383, 38, 74, 182, 23, 375, 180, 34, 182, 21, 1, 867, 933, 11, 296], [720, 285, 172, 55, 64, 47, 248], [349, 35, 32, 558, 9, 79, 166, 262, 24, 396, 52, 12, 10], [129, 3, 243, 170], [39, 60, 9, 289], [466, 1, 500, 216, 4, 15, 2, 181, 216, 64, 500, 78, 406], [16, 889, 2, 304, 218, 72, 18, 9, 5, 427, 146, 21, 38, 78, 968, 13, 208], [23, 100, 280, 44, 107, 47], [471, 6, 44, 20, 373, 332, 44, 604, 245, 418, 369, 85, 697, 369, 32, 85, 9, 10, 69, 398], [141, 1, 96, 11, 266, 25, 2, 58, 547, 56, 42, 41], [579, 278, 550, 640, 15, 612, 2, 35, 188, 36, 551, 43, 458, 975, 327, 21, 67, 2, 636, 125, 675, 140, 323, 177], [23, 29, 533, 130, 7, 47, 533, 8], [145, 116, 2, 233, 76, 264, 259], [26, 3, 53, 54, 122, 518, 162, 52, 21, 42, 41], [23, 3, 422, 10, 25, 2, 16], [20, 7, 335, 497, 1, 476, 13, 556], [32, 11, 226, 32, 879, 38, 650, 24, 34, 3, 28, 9, 107, 136, 14, 8, 7, 158, 40, 62, 357, 12, 78, 125], [21, 465, 262, 7, 793, 18, 360, 320, 764, 186, 991, 48, 16, 667, 18, 746, 27, 844], [1, 466, 541, 12, 335, 34, 261, 46, 37, 3], [200, 24, 25, 472, 2, 221], [1, 344, 155, 99, 358, 1, 17, 14, 585, 93, 149, 3, 918, 40, 403], [742, 304, 218, 36, 208, 655, 13, 359, 7, 304, 16, 21, 218, 304, 220], [1, 69, 2, 7, 11], [138, 71, 8, 169, 116, 243, 276, 154, 9, 334, 173, 2, 30, 52], [38, 125, 359, 222, 134, 901, 15, 238, 18, 27, 190, 7, 155, 171, 2, 371], [441, 57, 38, 407, 7, 420], [198, 13, 95, 38, 59, 342, 602, 579, 748, 153, 18, 205, 381, 749, 39, 8, 89, 652, 283, 2, 206, 6, 16, 50, 382, 405], [299, 210, 44, 99, 115], [198, 13, 95, 143, 120, 105, 342, 37, 4, 602, 153, 271, 16, 50, 700, 308, 131, 571, 840, 64, 405], [548, 45, 219, 787, 107, 107], [98, 128, 29, 66, 57, 88, 50, 658, 12, 335, 191, 10, 53, 45, 29, 277, 215], [25, 196, 275, 92, 298, 2, 30, 4, 775, 15, 130], [97, 155, 99, 55, 42, 41, 262, 104], [29, 893, 157, 890, 8, 908, 555, 2, 29, 157, 9, 21, 67, 2, 636, 64, 195, 121], [116, 128, 3, 22, 13, 50, 172, 180, 3, 28, 299, 53, 156, 631, 222, 28, 3, 2, 83], [40, 84, 766, 148], [625, 13, 818, 295, 660, 12, 351, 914, 915, 916, 200, 1, 437, 563, 16, 701, 402, 673, 388], [657, 657, 135, 245, 2, 5, 45, 3, 240, 10, 240], [494, 49, 94, 638, 43], [11, 451, 59, 25, 472, 2, 17, 26, 3, 70, 78, 66], [33, 18, 11, 136, 2, 11, 634, 539], [60, 438, 311, 173, 60, 279, 5, 770, 217, 201, 37, 5, 37, 5], [87, 81, 16, 104, 9, 290], [129, 469, 4, 15, 11, 222, 853, 10, 2, 530, 44, 7, 58, 669, 37, 170, 7, 55, 853, 10, 19, 33, 4, 134, 170, 669, 139, 123, 831, 163, 242, 249, 23, 3, 82, 47, 33], [161, 120, 299, 105, 39, 123, 432, 7, 116, 524, 3, 457, 9, 3, 474, 14, 278, 12, 10, 1, 534, 737, 3, 313, 78, 237], [40, 22, 32, 132, 110, 6, 92, 349, 1, 943, 346, 39, 167, 24, 1, 108, 1, 60, 36, 340, 117, 55, 40, 230, 18, 434], [420, 43, 6, 84, 4, 1, 108, 29, 627, 114, 6, 10, 44, 69, 6], [25, 275, 72, 2, 439, 779, 18, 205, 64, 672, 53, 54, 31, 557, 154, 19], [87, 85, 173, 173, 87, 1, 60, 44, 37], [1, 207, 2, 29, 24, 38, 78, 8, 65], [137, 25, 19, 3, 134, 10, 137, 36, 19, 45, 51, 89, 281, 18, 564, 15, 509, 587, 14, 10, 215, 5, 3, 102, 47, 1, 215, 11, 87, 87, 161], [33, 277, 80, 43, 354], [57, 57, 305, 1, 56], [61, 4, 116, 66, 26, 17, 628, 4, 570, 78], [679, 6, 835, 130, 1, 224, 23, 85, 273, 59, 387], [54, 63, 141, 1, 96, 11, 266, 2, 35, 223], [6, 306, 268, 677, 1, 21, 23, 477], [31, 17, 480, 125, 229, 6, 7, 8, 173, 37], [1, 100, 17, 107, 15, 13, 9, 11, 1, 59, 9, 151, 45, 3, 366, 10, 1, 96, 3, 34, 1, 162, 194, 9, 11, 357], [261, 46, 1, 9, 2, 165, 896, 190, 7, 93, 149, 105, 9, 22, 3, 223, 601, 39, 359, 598], [1, 108, 137, 51, 92, 9, 11, 296], [179, 1, 174, 24, 567, 1, 56, 302, 4, 359], [145, 22, 3, 72, 2, 212, 7, 1, 387, 537, 332, 15, 5, 350], [36, 182, 4, 27, 6, 30, 2, 210], [26, 6, 560, 152, 63, 150, 226, 376], [174, 10, 3, 52, 255, 216, 151, 834, 39, 878, 63], [60, 172, 163, 9, 64, 24, 17, 2, 435], [240, 40, 74, 113, 7, 2, 12, 28, 1, 482, 3, 245, 1, 74, 13, 630, 7, 989, 84], [9, 837, 3, 512, 44, 127, 1, 60, 1, 514, 1, 17, 2, 101, 193, 15, 190, 12, 83, 141, 35, 260, 197, 5], [518, 61, 37, 10, 64, 21, 60, 72, 80], [751, 105, 9, 4, 12, 480, 497, 61, 11, 578, 3, 141, 35, 125, 947, 79], [98, 741, 36, 62, 88, 7, 1, 135, 4, 169, 232, 117, 7, 171, 23, 123, 12, 5, 82, 6, 160, 398], [1, 24, 65, 8, 64, 219, 1, 28, 64, 503, 19, 154], [240, 6, 16, 601, 6, 331, 1, 784, 44, 6, 51, 75, 1, 74, 4, 645, 50, 122, 43, 178, 527, 20, 83, 15], [50, 2, 30, 20, 233, 640, 48, 16, 822, 7, 426, 15, 116, 735, 97, 91, 20, 39, 68, 37, 13, 571, 241, 311, 38, 7], [22, 3, 926, 37, 13, 589, 617, 9], [129, 634, 9, 12, 4, 356, 819], [316, 1, 74, 543, 15, 7, 779, 839, 426], [66, 38, 66, 38, 66, 38, 66, 38, 166, 66, 38, 20, 6, 193], [127, 22, 5, 111, 18, 5], [82, 1, 3, 4, 645, 4, 307, 526, 2, 3, 234, 2, 185, 1, 59, 257, 3, 78, 24, 4, 647, 8, 25, 257, 30, 52, 547, 154, 20, 3, 74, 2, 58, 80, 3, 74, 2, 7, 34, 194, 3, 74, 2, 192], [3, 31, 35, 9, 5, 226, 15, 19, 363], [1, 100, 53, 156, 93, 200, 25, 279, 13, 428], [33, 25, 452, 263, 280, 139, 123, 2, 11, 346], [158, 179, 1, 288, 17, 4, 56, 3], [42, 41, 15, 37, 831, 111, 493, 247, 376, 1, 184, 433, 20, 6, 6, 731, 30, 247, 668, 18, 693, 76, 126, 330, 3, 56, 7, 160, 31, 35, 5, 276, 66, 15, 13, 161, 100, 645, 39, 34, 3, 645, 3, 31, 67, 39, 2, 42, 41, 838, 9, 42, 41, 262, 6, 777], [313, 29, 287, 150, 671, 619, 81, 49, 364, 121, 6], [239, 2, 4, 45, 22, 3, 277, 9, 83, 26, 3, 108], [65, 5, 15, 6, 44, 29, 760], [204, 522, 1, 149, 23, 248, 249, 2, 3, 39, 167, 45, 51, 1, 169, 453, 2, 144, 59, 57, 167, 1, 69, 3, 17, 4, 570, 167, 82, 3, 9, 5, 104], [33, 1, 62, 16, 50, 13, 143], [145, 54, 22, 3, 163, 339, 38, 91, 450], [256, 228, 173, 123, 228, 212, 256, 31, 25, 56, 618, 24, 31, 35, 977], [416, 68, 10, 211, 7, 610, 82, 592, 44], [38, 33, 9, 5, 293, 92, 109, 32, 11, 322, 10, 52, 18, 309, 33, 335], [672, 53, 71, 8, 438, 963, 9, 935], [], [46, 21, 3, 32], [87, 723, 1, 780, 340, 266, 453, 42, 41, 665, 24, 71, 259, 25, 35, 223], [189, 4, 164, 37, 43, 6, 27, 4, 111, 22, 908, 18, 54, 114, 20, 166, 68, 114, 20, 27, 166, 2, 391, 68], [36, 82, 3, 9, 4, 898, 317, 42, 166], [57, 473, 47, 504, 3, 66, 107, 985, 58, 13, 136, 1, 108, 15, 3, 7, 67, 11, 69, 5, 899, 2, 134, 3, 300, 7, 133], [98, 168, 306, 5, 485, 63, 352, 40, 17, 2, 30, 44, 32, 187, 66, 59, 5, 783, 57, 5, 242, 117, 1, 30, 80, 160, 32], [101, 193, 7, 221, 129, 3, 74, 2, 2, 582, 9, 161, 3, 64, 74, 2, 30, 18, 19, 1, 31, 183, 24, 38, 125, 390, 216, 30, 76, 19, 63, 13, 589, 8, 215, 12, 3, 9, 248, 170, 24, 25, 27, 6, 17, 38, 9, 11, 161], [17, 3, 352, 135, 78, 197], [252, 719, 14, 36, 23, 99, 428, 18, 3, 84, 961, 10], [142, 113, 68, 415, 241, 415, 143, 415, 184, 543, 415, 415, 6, 4, 312, 324, 339, 509, 8, 415, 184, 885, 177], [1, 16, 3, 104, 102, 17, 455, 34, 237, 10], [87, 81, 16, 104], [36, 279, 88, 80], [191, 10, 53, 47, 14, 9, 5, 239, 14, 28, 201, 35, 24, 3, 22, 52, 15, 19, 920, 61, 25, 23, 36, 7, 191, 10, 53, 9], [6, 72, 2, 43, 7, 30, 4, 274, 30, 29, 488, 324, 14], [1, 70, 2, 96, 3, 47, 392, 1, 224, 19, 5, 64, 526, 1, 68, 3, 22, 45, 1, 74], [814, 51, 5, 276, 37, 14], [127, 28, 788], [36, 11, 678, 7, 431, 184, 10, 340, 71, 4], [46, 77, 121, 10, 970, 6, 16], [179, 6, 92, 508], [36, 184, 3, 124, 678, 2, 124, 630, 37, 9, 14, 8, 19, 146], [13, 17, 105, 44, 12, 574, 140, 177, 13, 8], [1, 56, 433, 24, 38, 125, 11, 148, 23], [3, 22, 342, 4, 372, 16, 50, 382, 580, 175, 303, 405, 264, 945], [55, 156, 38, 78, 800, 2, 10], [1, 60, 18, 5, 136, 2, 29, 80], [144, 39, 900, 371, 1, 69, 3, 159, 1, 74, 3, 871, 11, 256, 37, 13, 897, 67, 39, 2, 278, 263, 159, 6, 147, 160, 26, 14, 97, 97, 26, 14], [438, 532, 159, 32, 603, 135, 2, 49, 159, 54, 79, 6], [293, 109], [40, 22, 951, 2, 30, 552, 76, 282, 50, 3, 92, 44, 12, 418, 211], [6, 277, 20, 210, 10], [13, 8, 387, 265, 5, 15, 8, 172, 24, 92, 8, 1, 31, 58, 223], [90, 90, 133], [328, 194, 77, 34, 6, 250, 235, 137, 46], [27, 349, 35, 4, 401, 56, 32, 5, 442, 86, 18, 5, 293], [87, 81, 16, 104], [11, 9, 284, 3, 336, 4, 116], [444, 586, 1, 287, 687, 2, 49, 52, 1, 633, 165, 99, 275], [84, 969, 24, 966, 8, 25, 4, 969, 449, 78, 15, 5, 839, 71, 449, 19, 42, 41, 15, 238, 8, 9, 219, 28, 35, 809, 12, 12, 42, 41, 28, 155, 42, 41, 2, 51, 50, 107, 2, 43, 48, 2, 125, 338, 42, 41, 187, 28, 30, 42, 41, 12, 42, 41, 38, 74, 15, 334, 839, 159, 108, 47, 89, 238, 8, 76, 40, 17, 572, 966, 507, 437], [743, 8, 34, 5, 8, 696, 32, 178, 111, 182, 5, 12, 32, 446], [3, 22, 21, 51, 649, 30, 15, 495, 27, 2, 13, 115, 49, 2, 574, 253, 202, 38], [110, 768, 20, 131, 39, 704, 378, 32, 13, 49, 2, 574, 140, 150, 253, 202, 303, 365, 20, 86, 425, 73, 86, 2], [], [1, 31, 355, 197, 167], [270, 441, 83, 393, 443], [26, 3, 70, 4, 103, 186, 576, 115, 37, 48, 389, 2, 107, 95, 752, 48, 425, 48, 773, 91, 27, 16, 774], [38, 645, 63, 78, 47, 1, 58, 52, 94, 30, 11, 281, 119], [261, 57, 310, 1, 74], [808, 171, 2, 4, 57, 266, 6, 17, 188, 5, 913, 424, 430, 153, 20, 131, 8, 458, 36, 16, 21, 64, 562, 251, 662, 399, 623, 446], [11, 9, 284, 3, 336, 4, 116], [642, 114, 258, 278, 12, 20, 8, 558, 16, 21, 147, 273, 806, 51, 43, 48, 100, 185, 52], [19, 23, 54, 26, 3, 62, 12, 13, 309, 1, 60, 13, 309, 1], [642, 20, 95, 84, 558, 16, 21, 680, 29, 681, 327, 607, 532, 195], [870, 1, 453, 20, 6, 24, 246, 148, 1, 127, 62, 3, 34, 6, 165, 10, 970, 71, 165, 10, 55, 81, 49, 52, 682, 6, 51, 77, 94, 6, 92, 28, 23, 323], [45, 3, 7, 260, 37, 289], [811, 8, 3, 2, 35, 99, 266, 91, 138, 27, 38, 82, 99, 140, 237, 866, 6, 86, 67, 86, 750, 2], [1, 468, 26, 194, 516], [826, 8, 124, 19, 8, 75, 4, 15, 29, 159, 17, 124, 826], [272, 92, 62, 272, 9, 565], [867, 530, 88, 2, 50, 11, 8], [625, 13, 295, 660, 12, 282, 351, 579, 563, 2, 131, 16, 701, 402, 673], [672, 53, 39, 112, 33, 72, 2, 85], [736, 7, 7, 9, 51, 283, 218, 37, 16, 562, 208, 20, 86, 425, 16], [38, 1, 368, 610, 151, 19, 52, 124, 400, 154, 481, 851, 2, 230, 548, 75, 120, 107, 9, 346, 52, 197, 5, 178, 671], [81, 164, 3, 9, 5], [297, 68, 10, 45, 254, 301], [38], [684, 26, 684, 3, 70], [98, 980, 40, 341, 35, 88, 104, 338, 42, 41], [11, 782, 480, 9, 518], [131, 4, 414, 36, 16, 21, 17, 3, 188], [3, 22, 271, 5, 186, 115, 4, 923, 771, 27, 4, 555, 153, 73, 345, 429, 2, 38, 785, 195], [309, 33, 32, 11, 157, 57, 668, 40, 44, 4], [122, 6, 62, 19, 613], [100, 224, 1, 28, 13, 522, 10, 78, 517, 37, 10, 7, 1, 17, 113, 817, 926, 12, 594, 15, 216, 191, 161, 199, 16, 10, 814], [406, 1, 102, 108, 1, 28, 194, 44, 109, 53, 34, 3, 70, 10, 2, 530, 245, 7], [328, 24, 25, 77, 33, 9, 150, 83], [657, 55, 40, 409, 658, 2, 101, 11, 149, 28, 658, 2, 50, 89], [83, 66, 34, 6, 69, 11, 155, 10, 114, 159, 67, 39, 2, 29, 159, 82, 47, 248, 185, 520, 6, 30, 34, 6, 30, 6, 29], [240, 11, 69, 54, 22, 3, 163, 122, 3, 30, 2, 19, 83, 22, 3, 3, 133, 22, 3, 302, 4, 57, 353, 26, 3, 108, 15, 10, 22, 3, 415, 10], [172, 98, 3, 105], [430, 103, 497, 603, 984, 22, 21, 18, 50, 5, 569, 5, 66, 50, 537, 7, 18, 710, 434, 117, 39, 112, 801], [48, 186, 48, 764, 48, 18, 360, 16, 667, 18, 746, 27, 16], [54, 63, 3, 277, 245, 104], [34, 3, 84, 80, 55, 58, 245, 205, 208], [42, 41, 389, 59, 205, 389, 906], [98, 95, 38, 42, 41, 120, 3, 9, 831, 206, 18, 140, 177, 14, 200, 4, 116, 226, 2, 67, 48, 237, 2, 263, 12, 125, 691, 177], [6, 22, 2, 5, 276, 95, 795, 220, 9, 5, 202, 12, 825, 251, 388, 317, 524, 3, 67, 86, 2], [48, 385, 91, 323], [138, 1, 60, 4, 78, 363, 106, 96, 10, 13, 7, 9, 370], [3, 17, 114, 103, 142, 16], [107, 1, 28, 30, 97], [97, 255, 10, 96, 19, 1, 204, 162, 99, 143, 132], [90, 449, 431, 257, 35, 223, 23, 81, 35, 44, 65, 223, 42, 41], [17, 985, 2, 189, 113, 356, 23, 40, 31, 189], [19, 395, 72, 2, 9, 79, 854], [158, 137, 369, 627], [46, 33, 277, 80, 21], [471, 6, 44, 20, 168, 9, 23, 123, 32, 80, 32, 10, 201, 6, 471, 5, 1, 260, 21, 339, 468, 6, 36, 96, 10, 68, 106, 374], [98, 741, 61, 954, 22, 6, 44, 12, 962, 211, 168, 72, 2, 4, 697, 366, 5, 27, 190, 37, 11, 812, 12, 78, 606, 23, 115, 10, 34, 6, 28], [106, 178, 217, 1, 74, 8, 12, 358, 9, 13, 161, 35], [24, 35, 4, 57, 330], [81, 68, 3, 45, 1, 730, 252, 229], [1, 374, 6, 123, 6, 841, 47, 278, 6, 84, 20, 10, 666, 6, 374, 6, 398], [87, 1, 102, 39, 143, 7, 60, 21, 118, 84, 6, 106], [8, 14, 46, 34, 1, 536, 5, 117, 109, 120, 4, 611, 7, 33, 279, 862], [158, 3, 141, 1, 108, 3, 28, 280, 13, 41, 21, 2, 25, 196, 24, 34, 469, 406, 1, 28, 255, 191, 10, 53, 24, 45, 3, 26, 35, 196, 3, 22, 301], [619, 56, 3, 17, 248, 174, 3, 56, 2, 49, 18, 4, 354, 543, 239, 112], [36, 611, 7], [352, 352, 243, 76, 9, 4, 330, 118, 6, 234, 8, 5, 78, 118, 6, 123, 24, 2, 14, 247, 864], [158, 13, 289, 32], [247, 110, 493, 4, 232, 66], [87, 1, 11], [261, 297, 81, 58, 76, 56, 42, 41], [528, 152], [46, 1, 468, 16, 27, 107, 78, 1, 53, 51, 22, 10, 1, 60, 4, 12, 51], [87, 1, 476, 13, 16, 292, 45, 3, 17, 5, 63, 33, 18], [87, 9, 290, 81, 16, 104], [47, 123, 8, 9], [779, 8, 173, 57, 8, 7, 484, 8, 169, 232], [1, 468, 30, 110, 3, 53, 3, 22, 11, 291, 7, 509], [100, 45, 431, 245], [106, 650, 11, 95, 45, 3, 30, 44, 9, 167], [156, 26, 3, 165, 440], [114, 49, 2, 921, 121, 20, 482, 18, 166, 5, 37, 753, 43, 922, 42, 41, 205, 856, 29, 753, 61], [98, 122, 3, 422, 2, 79, 230], [3, 64, 10, 3, 28, 16, 107, 24, 3, 373, 201, 4, 16, 15, 728, 27, 201, 3], [590, 1, 380, 5, 178, 63, 40, 62, 12, 5, 213, 63, 37, 273], [1, 2, 60, 411, 2, 51, 5, 776, 64, 480, 125], [5, 334, 8, 7, 1, 60, 92, 419, 51, 22, 508, 5, 293, 23, 35, 14, 27, 1, 17, 2, 1, 60, 55, 127, 8, 5, 27, 191, 10, 16, 39, 8, 161, 7, 181, 37, 5, 334, 259, 35, 6, 84, 172, 629, 503], [61, 9, 5, 36, 297], [7, 84, 474, 973, 293, 24, 26, 6, 53, 126, 300, 18, 29, 421, 10, 133, 201, 491, 1, 60, 552, 50, 6, 181, 523, 57, 864], [417, 827, 43, 360, 83, 8, 29, 726, 66, 20, 162, 52, 156, 761, 574, 140, 177, 469, 4, 3], [15, 180, 28, 383, 33, 25, 23, 46, 114, 729, 77, 339, 6, 299, 165, 127, 40, 49, 448, 1, 149, 6, 174, 165, 18, 710, 24, 71, 149, 6, 31, 165, 83], [1, 60, 72, 2, 370, 21], [658, 8, 4, 66], [87, 81, 16, 104], [132, 8, 39, 5, 213, 63, 6, 280, 567, 688, 15, 535], [633, 291, 137, 46], [625, 13, 818, 295, 660, 12, 38, 351, 914, 915, 916, 200, 1, 437, 563, 16, 701, 402, 673, 388, 917], [36, 1, 108, 61, 172, 417, 2, 162, 228, 19, 53, 5, 226, 129, 4, 19, 8, 172, 2, 255, 3, 834, 201, 249, 56, 4, 115, 386, 45, 9, 165, 653], [1, 26, 53, 54, 6, 663, 8, 5, 15, 25, 822, 33, 21, 117, 117, 367, 221], [132, 116, 1, 344, 130, 125, 23, 19, 40, 28, 292], [98, 1, 62, 5, 238, 85], [117, 120, 12, 340, 66, 167, 120, 58, 9, 4, 278, 136, 259, 3, 300, 56, 5, 7, 13, 32, 5, 894, 894, 247], [110, 101, 193, 1, 60, 36, 994, 80, 69, 6, 4, 312], [54, 141, 1, 315, 268], [87, 363, 11, 27, 1, 174, 34, 3, 70, 40, 231, 88, 335, 27, 1, 231, 182, 113, 346, 37, 11, 822, 724], [641, 835, 4, 136, 2, 30, 340, 12, 13, 115, 911, 31, 3, 49, 2, 5, 584, 122, 3, 101, 19, 305, 1, 74, 3, 176, 1, 937, 2, 82, 3], [1, 17, 4, 137, 45, 1, 292], [821, 156, 641, 3, 2, 11, 68, 33, 495, 7, 304, 374, 2, 454, 50, 6, 725, 251, 121, 91, 86, 2, 332], [46, 38, 36, 380, 19, 4, 266, 9, 74], [232, 308, 149, 76, 4, 256, 519, 102, 842, 114, 125, 526, 15, 10, 242, 358, 199, 1, 344, 6, 57], [229, 4, 103, 37, 48, 668, 2, 29, 95, 73, 29, 569, 241, 2, 993, 2], [176, 1, 69, 3, 13, 421, 9], [98, 176, 6, 84, 485, 2, 35, 9, 370, 24, 168, 23, 87, 79, 211, 1, 169, 337, 82, 6, 160, 23, 16, 10, 32, 381, 69, 10, 398], [17, 3, 27, 190, 46, 419, 205, 804, 59, 4, 274], [209, 105, 12, 5, 146, 535, 2, 487, 3, 12, 39, 1, 1, 468, 101, 13, 255, 12, 7, 31, 11, 3, 17, 105, 817, 7, 4, 32, 51, 526], [48, 919, 816, 20, 13, 95, 73, 2, 30, 48, 12, 55, 251, 66, 73, 86, 39, 121, 8, 48], [58, 76, 89, 357, 32, 113, 876, 23, 40, 28, 52, 5, 386, 12, 39, 393], [14, 134, 2, 101, 14, 65, 61, 48, 34, 3, 74, 2, 53, 125, 177], [54, 63, 26, 6, 30, 52], [1, 122, 17, 14, 42, 41], [57, 66, 2, 3, 139, 958, 12, 10, 856, 5, 75, 61, 242, 281], [17, 4, 116, 568, 2, 966, 7, 500, 5, 723, 2, 618, 25, 36, 37, 5, 763, 24, 37, 618, 19, 8, 726, 2, 82, 3, 300, 895], [8, 65, 277, 693, 8, 230, 12, 26, 3, 30, 107, 668, 50, 13, 151, 226], [24, 34, 93, 200, 33, 46], [65, 144, 98, 2, 89], [11, 311, 109, 150, 361, 379, 34, 55, 62, 25, 20, 503, 148, 627, 872], [82, 5, 142, 12], [87, 85, 83, 1, 468, 58, 2, 327, 1, 17, 578], [420, 4, 312, 43, 29, 255], [97, 403, 2, 19, 214], [158, 196, 81, 230, 9, 4, 208], [87, 81, 16, 104], [33, 87, 209, 5, 15, 263, 19, 100, 181, 9, 644, 3, 663, 4, 116, 2, 10, 3, 17, 105, 4, 266, 32, 51, 526, 201, 32, 116, 391, 26, 17, 4, 116, 112], [106, 96, 10, 3, 17, 113, 15, 19, 278, 3, 227, 800, 79], [290, 6, 8, 11, 151, 727, 10, 45, 466, 1, 26, 11, 151, 160], [17, 4, 792, 117, 7, 45, 3, 512, 44, 2, 82, 39, 142, 1, 128, 3, 300, 51, 8, 75, 141, 35, 17, 4, 116, 167], [1, 31, 35, 440, 40, 31, 134, 367, 69], [23, 322, 13, 7, 34, 3, 135, 26], [1, 69, 3, 3, 53, 28, 3, 224, 14, 384, 14, 134, 13, 1, 284, 14, 384, 11, 69, 1, 466, 164, 3, 9, 13, 588, 459], [102, 108, 79, 54, 6, 17, 62, 108, 79, 47, 2, 280, 14, 19, 3, 17, 62, 57, 740], [449, 19, 431, 32, 4, 66, 23, 1, 101, 123, 15, 19, 946, 93, 288, 291, 22, 3, 257, 82, 130, 199, 26, 3, 70, 2, 58, 2, 211, 6, 28, 96, 10, 51, 79], [500, 80, 113, 126], [581], [87, 81, 16, 104], [21, 712, 13, 311, 199, 7, 26, 3, 17, 107, 65], [328, 38, 74, 81, 369, 183, 43, 150, 20, 86], [3, 17, 188, 4, 913, 424, 521, 2, 131, 16], [550, 103, 50, 409, 49, 73, 186, 2, 38, 429, 558, 83, 50, 64, 318, 140, 43, 785], [846, 24, 81, 192, 72, 20, 565, 18, 710, 361, 375, 77, 180, 744, 62, 9, 85], [52, 11, 222, 22, 12, 5, 770, 546, 7, 534, 35, 88, 547, 42, 41, 23, 224, 48, 2, 49, 7, 669, 19, 42, 41, 665], [46], [26, 25, 192, 246, 69, 687], [33, 260, 147, 119, 65], [46], [127], [625, 13, 818, 295, 660, 12, 351, 914, 915, 916, 200, 1, 437, 563, 16, 701, 402, 673, 388, 917], [261, 339, 6, 679, 20, 181, 10, 608], [179, 946, 874, 139, 392, 171, 61, 57, 2, 192, 80, 24, 61, 105, 361, 4, 322, 762, 29, 66, 105, 122, 6, 26, 194, 37], [22, 3, 48, 21, 28, 1, 16, 21], [60, 32, 11, 9, 274, 703, 88, 690, 82, 3, 212, 252], [8, 452, 6, 84, 4, 6, 399, 69, 8, 9, 15, 126, 159, 10, 10], [470, 176, 1, 185, 3, 148, 3, 53, 244, 3, 191, 10, 67, 3, 113, 238, 13, 584, 1, 74, 3, 1, 70, 3, 1, 937, 3], [132, 46, 183, 43, 10, 65, 11, 996, 475, 331], [845, 448, 287, 950, 28, 34, 250, 17, 18, 287, 17, 2, 541, 150, 706, 150, 8, 32, 974, 6, 560], [465, 262, 465, 73, 114, 20, 521, 18, 320, 360, 991, 16, 667, 12, 5, 173, 320, 735, 746, 27, 844], [70, 776, 9, 804, 666, 21, 208, 689], [145, 84, 6, 508, 107, 329], [670, 37, 22, 496, 2, 347, 4, 907, 934, 34, 3, 17, 4, 106, 16, 131, 402, 365], [17, 4, 57, 517], [15, 719, 1, 368, 36, 62, 10, 18, 775, 146, 21], [904, 94, 353, 9, 126, 933, 904, 28, 1, 775, 29, 753, 353, 339, 26, 6, 108, 1, 174, 503, 552, 904, 38, 979, 147, 47, 14, 9, 37, 124], [26, 6, 352, 30, 4, 978, 9, 13, 661, 12, 38, 743, 7, 14, 534, 49, 552, 547, 6, 889, 2, 14, 56, 205, 526], [186, 115, 8], [8, 800, 37, 3], [145, 6, 51, 337, 164, 43, 354, 32], [460, 5, 47, 22, 3, 163, 39, 8, 36, 938, 3, 4, 116, 66, 895], [90, 90, 107, 278, 83], [176, 6, 70, 10, 100, 6, 467, 168, 7, 17, 4, 217, 43, 784, 4, 63, 37, 4, 495, 47, 79, 40, 49, 94, 742, 73, 398], [1, 185, 3, 148, 3, 53, 13, 51, 1, 28, 108, 79, 470, 1, 244, 183, 537, 239, 258, 45, 40, 31, 35, 621, 686, 459], [28, 3, 96, 2, 106, 49, 2, 738, 15, 7, 691, 5, 96, 5, 54, 5, 8, 7, 165, 34, 93, 28, 65, 93, 141, 165, 228, 2, 322, 12, 5, 293, 217, 7, 61, 93, 99, 9, 61, 123, 93, 31, 35, 279, 9, 103], [98, 3, 36, 2, 273, 56, 2, 53, 34, 3, 227, 37, 5, 91, 48, 37, 138, 27, 38], [33, 173, 133, 12, 3, 176, 783, 18, 490], [110, 316, 7, 290, 3, 83, 32, 5, 575, 40, 22, 2, 67, 3, 89, 206, 143, 32, 124, 97, 89, 143], [709, 52, 1, 135, 69, 18, 115, 5], [460, 249, 33, 88, 32, 80, 7, 4, 401, 477, 148], [76, 940, 1, 141, 35, 301, 24, 31, 16, 3, 12, 196, 5, 407, 8, 19, 11, 299, 47, 703, 37, 3, 460, 151, 7, 5], [38, 191, 10, 26, 5, 13, 25, 57, 32, 14], [33, 277, 88, 18, 8, 14, 257, 35, 46, 2, 30, 5, 238, 132, 158, 7, 47, 22, 3, 509, 461, 762, 445, 27, 26, 3, 16, 14, 151, 21], [144, 39, 900, 371, 1, 69, 3, 159, 1, 74, 3, 871, 11, 256, 37, 13, 897, 67, 39, 2, 278, 263, 159, 6, 147, 160, 26, 14, 97, 97, 26, 14], [272, 62, 152, 2, 182, 96, 216, 55, 119, 38, 74, 2, 58, 9, 199], [100, 108, 3, 74, 724, 12, 202, 165, 228, 19, 120, 799, 197, 34, 3, 26, 61, 36, 42, 41], [5, 8, 12, 886, 11, 823], [17, 3, 50, 39, 112], [22, 3, 146, 21], [160, 1, 60, 25, 72, 2, 23, 1, 28, 58, 6, 16, 10, 96, 10, 127, 7, 45, 2, 58, 160], [322, 545, 1, 17, 7, 2, 3, 101, 193], [25, 50, 4, 452, 16, 10, 21, 60, 109, 51, 117, 37, 36, 11, 18, 134, 10, 12, 14, 56, 6, 122, 178, 63, 654, 374, 584], [47, 1, 560, 122, 119, 85, 75, 272, 92, 9, 565], [272, 972, 2, 216, 902], [54, 59, 93, 411, 12], [40, 22, 2, 19, 13, 12, 8, 13, 31, 557, 166, 317], [821, 145, 33, 7, 69, 2, 80, 677, 508, 91, 20, 147, 11, 4, 121, 67, 86, 2, 86, 793], [191, 10, 53, 47, 2, 206, 3, 209, 3, 9, 4, 357, 629, 53, 3, 22, 46], [191, 10, 53, 45, 751, 62, 5, 238, 23, 759, 28, 134, 5, 16], [1, 244, 134, 14, 211], [158, 40, 230, 12, 124, 400, 32, 875, 460, 43], [628, 5, 34, 5, 330, 120, 4, 295, 36, 67, 13, 295, 426, 7, 5, 238, 31, 35, 184, 2, 3], [26, 3, 70, 4, 103, 397, 115, 814, 107, 455, 262, 397, 520, 7, 205, 251, 112, 48, 16, 27, 91, 21], [36, 62, 44, 17, 2, 35, 52, 15, 5, 357, 173, 212, 765, 1, 482, 5, 88, 547, 32, 436, 1, 32, 618, 2, 30, 44, 7, 55, 14, 59, 282, 340, 400, 9, 370], [22, 9], [87, 81, 16, 104], [75, 251, 13, 810, 120, 105, 617, 75, 13, 12, 51, 922, 381, 2, 13, 222], [39, 121, 8, 12, 13, 95, 795, 651, 14, 120, 105, 75, 478, 2, 455, 2, 202, 177], [46], [40, 412, 148, 40, 32, 974, 21], [25, 196, 1, 17, 5, 12, 14], [942, 122, 1, 13, 760, 13, 13, 127, 26, 3, 181, 13, 115, 8, 5, 18, 122, 3, 224, 14], [946, 363, 11, 296, 8, 780, 2, 35, 572, 15, 263], [97, 165, 47, 123, 8, 12, 20, 8, 180, 1, 577, 4, 103, 78, 12, 42, 41], [438, 963, 448], [1, 780, 75, 124, 50, 10, 12, 3, 2, 30, 10, 32, 42, 41, 32, 117], [34, 3, 567, 14, 5, 293, 357, 5, 111, 82, 629, 9, 585, 480, 585, 78, 61], [456, 516, 38, 74, 305], [48, 666, 203, 36, 68, 2, 55, 187, 112, 30, 4, 103, 203, 64, 318, 233, 377], [83, 8, 66, 6, 10, 75, 699, 782, 38, 515], [236, 24, 14, 204, 23, 1, 867, 170], [33, 265, 128, 3, 22, 172], [16, 850, 21], [6, 17, 4, 757, 118, 8, 411, 20, 134, 206, 37, 6, 162, 52, 118, 111, 84, 860, 118, 758, 29, 23, 278, 16, 18], [12, 107, 201, 34, 3, 17, 392, 822, 849, 16, 177, 18], [], [227, 298, 2, 162, 4, 484, 226, 223, 109], [1, 74, 2, 58, 80, 7, 155, 3, 113, 57], [394, 62, 157, 40, 92, 18, 12, 42, 41], [23, 119, 435, 213, 383, 55, 45, 8, 85, 972], [6, 355, 974, 148, 6, 235, 20, 49, 182, 984, 213], [1, 60, 72, 2, 963, 85, 32, 87, 85], [46, 33, 544, 21, 26, 6, 235, 10, 20, 182, 194, 49, 29, 311], [13, 768, 682, 147, 749, 8, 761, 140, 177, 12, 891, 822, 2, 620, 52, 91, 86, 214, 193, 16], [1, 28, 101, 3, 32, 56], [176, 134, 10, 10, 18, 73, 10, 13, 21, 176, 168, 542, 7, 74, 3, 21, 51, 391, 318, 233, 20, 67, 86], [870, 24, 111, 144, 62, 113], [5, 722, 193, 15, 14, 182, 539, 196, 14, 28, 40, 97, 39, 292, 18, 767], [132, 346, 1, 286, 19, 59, 13, 568, 19, 36, 626, 23, 123, 125, 21, 942, 7, 5, 59, 5, 221, 18, 4, 3, 184, 10, 874, 19, 47, 3, 207, 18, 13, 568, 132, 7, 288, 13, 176, 49, 37, 3, 12, 19, 37, 13], [1, 53, 3, 22, 28, 3, 97, 713, 5, 88], [5, 80, 15, 313, 14], [90, 155, 10, 4, 4, 42, 41, 32], [324, 297, 1, 60, 4, 7, 31, 715, 3, 37, 7], [83, 8, 978, 66, 219, 978, 31, 6, 12, 10, 67, 39, 2, 51, 29, 838, 24, 213, 10], [938, 3, 7, 13, 589, 939, 252, 7, 133, 103, 258, 9], [287, 196, 62, 63, 2, 544, 236, 28, 49, 43, 48, 533, 858, 16, 6, 2, 379], [163, 14, 2, 754, 15, 64, 7, 22], [1, 288, 30, 5, 671, 335, 15, 19, 142], [97, 67, 10, 4, 545, 79, 118, 33, 45, 7, 47, 123], [59, 163, 11, 540, 861, 1, 3, 31, 16, 3, 160], [7, 419, 113], [46, 55, 81, 191, 130, 560, 104, 94, 165, 130, 16, 6, 529], [46, 209, 184, 6, 85, 320, 15, 85, 763], [98, 155, 216, 88, 89, 219, 40, 12, 50], [65, 8, 38, 9, 11, 7], [55, 54, 79, 386], [152, 63, 119, 235, 83], [395, 25, 92, 72, 215, 113, 281, 109], [142, 113, 68, 415, 241, 415, 143, 415, 184, 543, 415, 415, 6, 4, 312, 324, 339, 509, 8, 415, 184, 885, 177], [292, 495, 134, 103, 222, 27, 9, 69, 9, 5, 485, 68, 695, 220, 36, 68, 2, 7, 82, 118, 3, 231, 164], [34, 1, 149, 194, 832, 87, 516], [127, 26, 3, 74, 2, 49, 2, 30, 14], [481, 260], [183, 42, 41, 208], [87, 316, 1, 31, 16, 3, 160], [90, 1, 31, 184, 14, 199], [165, 172, 2, 58, 96, 130, 28, 327, 104, 621], [145, 111, 84, 25, 438, 647, 211, 23, 81, 956, 192, 80, 375], [204, 108, 15, 646, 37, 357, 229, 564, 15, 11, 661], [321, 36, 279, 659, 76, 433, 241, 676], [145, 367, 1, 59, 45, 3, 135, 4, 34, 3, 341, 58, 2, 10, 1, 70, 2, 67, 4, 2, 228, 24, 14, 534, 49, 215, 12, 170, 310, 831, 380, 45, 3, 617, 44, 19, 12, 10, 2, 49, 2, 7, 788, 5, 231, 3, 96, 10, 47, 2, 26, 19, 27, 26, 3, 53, 113, 242, 136, 2, 788, 356, 310, 111, 28, 788, 281, 50, 5, 107, 255, 174, 35, 116, 11, 459], [420, 43, 5, 63, 61, 29, 11, 467, 7, 51, 1, 70, 8, 6], [1, 17, 14, 132, 23, 42, 41, 58], [122, 3, 454, 79, 5, 103, 14, 598, 37, 51, 15, 281], [7, 22, 531, 21, 102, 185, 5, 432, 16, 32, 562, 208, 20, 86, 425, 16, 446], [145, 745, 2, 5, 263, 18, 5, 8, 76, 5, 332, 15, 5, 350, 18, 5, 292, 104], [6, 141, 134, 4], [81, 395, 35, 76, 160, 27, 201, 104, 211, 34, 72, 18], [849, 2, 202, 95, 543, 39, 121, 8, 48, 3, 48, 531, 2, 32, 195, 2, 67, 49, 86, 2], [1, 11, 222, 19, 3, 2, 75, 13, 222], [38, 490, 61, 25, 11, 838, 62, 238, 339, 33, 6, 34, 6, 676, 11, 545, 6, 35, 42, 41, 998, 7, 35, 42, 41, 998, 1, 28, 319, 11, 601, 14, 8, 42, 41, 998], [171, 17, 4, 116, 66], [2, 30, 9, 8, 19, 46], [265, 34, 5, 136, 6, 224, 5, 136, 61, 192], [6, 84, 525, 76, 126, 118, 200, 721, 20, 6, 26, 676, 632, 433, 4, 399, 302, 9, 4, 247], [26, 6, 108, 19, 107, 359, 31, 6, 83, 76, 29, 346, 828, 421], [122, 6, 30, 19, 142], [95, 327, 5, 363, 702, 233, 18, 29, 95, 146, 21, 68, 2, 12, 5, 702, 40, 344, 67, 6, 4, 48], [47, 2, 134, 4, 359, 133, 137, 25, 32, 51, 878, 2, 134, 653, 133, 6, 64, 74, 2, 35, 114, 4, 266, 20, 166, 43, 42, 41, 57, 42, 41, 42, 41, 57, 42, 41, 173, 871, 42, 41, 42, 41, 42, 41, 42, 41, 42, 41, 42, 41, 464, 42, 41, 42, 41, 42, 41, 42, 41, 42, 41, 42, 41, 42, 41, 42, 41], [1, 100, 17, 19, 123, 9, 289], [98, 741, 47, 59, 151, 122, 6, 30, 362, 2, 13, 687, 51, 167, 1, 135, 4, 169, 57, 63, 178, 117, 168, 604, 52, 212, 24, 16, 10, 34, 6, 28], [179, 1, 59, 257, 178, 350, 1, 113, 9, 24, 1, 412, 42, 41, 36, 9, 837, 1, 59, 125, 5, 112, 648, 111, 14, 18, 5], [1, 60, 664, 335, 66, 230, 1, 60, 25, 129], [198, 16, 382, 13, 873, 43, 294, 27, 424, 157, 595, 492, 596, 175, 303, 456, 423, 405, 269], [26, 3, 53, 127, 11, 207], [132, 371, 5, 8, 14], [5, 15, 4, 451, 100, 14, 1, 60, 298, 75, 139, 629, 82], [6, 23, 969, 217, 1, 155, 6, 11, 852, 90, 3, 81, 108, 15, 6], [47, 123, 6, 298, 2, 30], [117, 158, 196, 217, 610, 151, 14, 52, 55], [397, 48, 788, 688, 39, 9, 638], [132, 4, 335, 400, 8, 123, 9, 338, 911, 843, 3, 409, 30, 23, 123, 125, 151, 260, 9, 4, 66, 338, 216, 37, 51, 19, 863, 63, 942], [272, 633, 96, 10, 47, 1, 560, 33, 25, 32, 80, 9, 85, 559, 152], [98, 39, 8, 28, 1, 164, 6, 32, 716, 529], [127, 22, 3, 54, 22, 3, 163, 22, 387, 18, 279, 5, 2, 13, 122, 3, 162, 4, 19, 14, 174, 151, 1, 74, 3], [34, 3, 227, 22, 48, 1, 28, 155, 948], [625, 13, 295, 660, 12, 351, 579, 563, 2, 131, 16, 701, 402, 673], [1, 59, 257, 165, 3, 179, 24, 1, 108, 61, 32, 282], [11, 343, 8, 18, 42, 41, 85], [23, 6, 235, 20, 58, 12, 89, 354, 211, 4, 25], [5, 19, 254, 351, 3, 53, 156, 33, 13, 8, 54, 1, 70, 2, 26], [821, 131, 29, 237, 428, 68, 46, 2, 21, 280, 20, 29, 681, 806, 439, 177, 12, 114, 377, 175, 147, 264, 856, 27, 86], [893, 189, 4, 564, 771, 34, 6, 53, 219, 9, 112, 73, 2, 318, 233], [129, 19, 409, 35, 4, 489, 2], [106, 16, 89, 214, 220, 941, 18, 850, 390, 75, 3, 17, 188, 4, 271, 348, 157, 27, 538, 153], [1, 60, 80, 176, 22, 3, 92, 44], [369, 331], [3, 22], [42, 41, 116, 430, 553, 3, 28, 82, 109], [97, 86, 811, 8, 3, 2, 35, 99, 266, 91, 138, 27, 38, 82, 99, 140, 237, 866, 6, 86, 67, 86, 750, 2], [10, 796, 182, 113, 484, 57, 586, 24, 687, 94, 250, 235, 494, 182, 4, 401, 274], [306, 268, 3, 22, 25, 9, 498, 156], [164, 3, 9, 965, 766, 765, 3, 28, 82, 47, 11, 291, 8, 387], [26, 114, 217, 582, 19, 362, 310, 1, 70, 20, 9, 11, 168, 591, 109], [451, 47, 93, 5, 63, 15], [270, 127, 62, 23, 801, 789, 287, 858, 49, 43, 4, 350, 364, 62, 104, 40, 49, 482, 150], [17, 4, 57, 568, 413, 52, 12, 380, 45, 3, 30, 88, 40, 409, 79], [174, 6, 522, 14, 111, 373, 53, 1, 135, 229, 23, 111, 583, 10, 199, 19, 888, 2, 192], [46, 6, 313, 29, 351], [132, 470, 44, 9, 4, 370, 18, 4, 5, 680, 258, 631, 6, 85, 398], [7, 97, 97, 606], [54, 3, 74, 3, 17, 4, 330, 2, 155, 778], [778, 583, 778, 115, 778, 519, 519], [179, 1, 17, 2, 101, 14, 47, 1, 149, 11, 288, 691, 12, 285, 137, 648, 1, 8, 5, 64, 136, 2, 170], [283, 633, 745], [14, 384, 14, 18, 61, 949, 485, 15, 5, 63, 14, 11, 24, 14, 4, 345, 49, 932], [156, 22, 6, 44, 23, 375], [55, 93, 250, 522, 152], [15, 556, 390, 480, 8, 25, 79, 523, 154, 802, 5, 995, 142, 61, 79, 523, 36, 76, 707, 5, 241, 247], [240, 460, 3, 7, 47, 122, 767, 49, 1, 59, 36, 2, 82, 34, 836, 2, 26, 194, 690, 25, 19, 33, 298, 2, 27, 194], [385, 569, 30, 5, 202, 18, 13, 95, 694, 112, 7, 655, 107, 564, 385, 39, 142, 8, 48, 15, 650], [209, 986, 80, 94, 1, 379, 6, 28, 16, 10, 21], [138, 1, 17, 23, 261, 156, 6, 415, 3, 23, 123], [261, 4, 419, 164, 12, 307, 690], [1, 204, 210, 5, 115, 146, 21, 97, 67, 4, 142], [309, 3, 223, 36, 62, 11, 296, 88], [45, 6, 979, 82, 14, 55], [38, 14, 59, 158, 467, 129, 19, 619, 417, 23, 1, 841, 11, 741, 155, 10, 4, 666, 104, 18, 39, 69, 954, 252], [23, 33, 163, 4, 15], [110, 127, 3, 16, 10], [110, 15, 51, 72, 2, 386, 39, 332, 139], [337, 17, 4, 283, 218, 18, 13, 95, 21, 76, 892, 5, 345, 218, 7, 67, 14, 2, 38, 456, 423, 264, 121], [720, 1, 204, 287, 15, 125, 902, 47, 248, 26, 40, 17], [272, 104, 24, 33, 549, 11, 21, 586, 272, 72, 80, 213], [22, 3, 9, 5, 697], [145, 322, 14, 85, 1, 17, 85], [33, 766, 661, 742, 924, 7, 769, 503, 362, 10], [71, 4], [172, 806, 806], [46], [394, 33, 267, 12, 20, 704, 45, 111, 326], [444, 152, 71, 243, 10, 46, 77], [1, 982, 34, 13, 115, 207, 1, 135, 2, 96, 3, 1, 69, 3, 176], [38, 85, 83, 172, 1, 514], [40, 17, 184, 12, 214, 220, 842, 2, 29, 545, 566, 12, 426, 206, 216], [54, 25], [28, 3, 106, 165, 54, 225, 521, 8, 384, 71, 70, 190, 103, 27, 809, 585, 14, 71, 64, 9, 5, 42, 41, 27, 107], [57, 167, 11, 69, 1, 49, 2, 221, 21, 7, 284, 3, 4, 116, 66, 572, 15, 508, 329, 7, 3, 22, 11, 178, 286, 176, 1, 69, 3, 459], [726, 363, 55, 28, 238, 872], [808, 9, 39, 319, 6, 17, 188, 5, 153, 2, 131, 36, 16, 175, 303, 86, 237, 215, 269, 64, 405], [46, 1, 468, 35, 6, 2, 26, 11, 488], [15], [47, 123, 122, 29, 391], [846, 81, 58, 498, 21], [93, 200, 265, 1, 17, 135, 37, 99, 115, 14, 37, 728, 28, 3, 97, 67, 99, 340, 266], [3, 22, 2, 347, 4, 907, 447, 97, 16, 131, 143, 2, 429, 13, 447, 219, 3, 22, 496, 2, 347, 75, 4, 884, 95, 214], [23, 47, 248, 317, 548, 55], [28, 3, 713, 5], [54, 26, 6, 70, 12, 430, 47, 79, 752, 48, 68, 428, 4, 103, 397, 115, 37, 335, 521, 308, 988, 16, 48, 21, 18, 850, 2, 162, 52, 125], [13, 546], [116, 47, 8, 5, 427, 83], [210, 29, 44, 21, 6], [1, 204, 183, 2, 14], [458, 448, 62, 496, 515, 61, 57], [98, 633, 479, 896, 85, 632, 5, 31, 10, 20, 29, 256, 5, 875, 4, 330, 56, 6, 221, 27, 167], [87, 81, 16, 104], [1, 62, 2, 397, 688, 9, 142, 77, 6, 23, 48, 235, 20, 255, 10, 872, 180, 1, 560, 6, 235, 20, 413, 23, 165, 6, 992, 528], [13, 146, 81, 134, 5, 146, 21], [542, 218, 21, 16, 623, 446, 50, 114, 208, 2, 282, 208, 2, 86, 425, 16, 562, 208], [846, 24, 33, 72, 80, 21, 55, 49, 77, 56, 72, 20, 212], [83, 8, 87, 66, 34, 352, 1, 59, 698, 37, 3, 34, 352, 1, 27, 525, 3, 519, 519, 36, 61, 29, 33, 57], [201, 1, 204, 721, 11, 3, 22, 9, 10, 89, 126], [33, 796, 182, 692, 80], [35, 24, 81, 26, 54, 1, 17, 2], [46, 406, 38, 74, 2, 582, 37, 54, 3, 149], [601, 29, 698, 680, 6, 101, 14, 632, 302, 698, 8, 126, 485, 94, 464, 136, 15, 193, 94, 374, 17, 232, 66, 85], [13, 325, 2, 35, 18, 4, 546, 16, 21, 36, 251, 208, 725, 456, 423, 8, 4, 623, 446, 16], [132, 25, 392, 116, 5, 327, 31, 155, 208], [1, 287, 6, 250, 679, 20, 9, 150, 148, 77, 180, 1, 243, 94, 855, 8, 72, 20, 96], [1, 780, 412, 27, 146], [97, 49, 37, 1, 36, 453, 2, 35, 196, 26, 17, 4, 116, 393, 895], [32, 54, 63, 22, 3, 277], [89, 103, 95, 532, 220, 8, 21, 304, 5, 48, 532, 771, 31, 36, 18, 13, 115, 2, 795, 50, 5, 564], [670, 22, 496, 2, 347, 4, 447, 34, 3, 17, 4, 106, 16, 131, 402], [18, 127, 6, 72, 77], [61, 139, 246, 24, 61, 90, 284, 3, 5, 293], [1, 70, 2, 546, 3, 5, 334, 440, 47, 79], [90, 81, 35, 196, 2, 30, 44, 197, 7, 82, 592, 54], [321, 152, 533, 6, 7], [36, 62, 2, 42, 41], [6, 84, 5, 485, 570, 359, 352, 6, 84, 11, 467, 58, 7, 147, 10, 9, 5, 357], [1, 815, 43, 640, 548, 11, 691, 178, 112, 21, 33, 257, 76, 11, 421], [1, 60, 9, 13, 427, 778], [59, 5, 999, 338], [23, 54, 122, 5, 839, 144, 79, 5, 238], [144, 582, 20, 6, 560, 127, 127, 84, 6, 21], [609, 613, 15, 4, 363, 178, 112, 59, 11, 11, 451, 284, 10, 11, 812, 514, 94, 23, 122, 11, 1, 207, 2, 151, 201, 11, 122, 25, 284, 75, 1, 11, 11, 450, 149, 637, 133, 637, 1, 943, 278, 93, 952, 10, 43, 268, 154, 268, 93, 910, 10, 2, 99, 40, 207, 65, 93, 149, 637, 26, 6, 291, 34, 1, 49, 362, 5, 12, 4, 662, 637, 1, 9, 4, 495, 93, 457, 52, 205, 680, 4, 94, 11, 451, 11, 812, 11, 11, 222, 94, 11, 51, 819, 7, 1, 59, 267, 18, 5, 810], [3, 141, 582, 13, 2], [888, 2, 18], [32, 80, 76, 5, 136], [321, 123, 32, 80, 107, 386], [460, 29], [1, 62, 56, 42, 41, 1, 28, 30, 113, 125, 104, 491, 30, 684, 3, 224, 56], [470, 939, 826, 2, 10], [22, 3, 5, 359, 9, 5, 334, 27, 54], [808, 29, 342, 505, 4, 15, 50, 27, 4, 486, 271, 16, 303, 140, 584, 318], [33, 18, 11, 136, 80, 207, 2, 582, 43, 11, 413, 55, 49, 575, 4, 274, 77], [22, 3, 32, 151], [209, 62, 42, 41, 107, 136, 1, 231, 210, 44], [64, 135, 13, 95, 3, 22, 2, 553, 2, 5, 320, 576, 372, 95, 12, 48, 16, 5, 95, 553, 253, 48, 18], [1, 728, 2], [55, 119, 183, 43, 10, 32, 442, 86, 559, 29, 996, 383, 34, 1, 250, 147, 119, 55, 1, 49, 30, 11, 296, 55, 58, 88, 94, 210, 119], [814, 77], [3, 17, 105, 496, 2, 536, 9, 114, 15, 564, 12, 321, 294, 665, 907, 2, 131, 16], [276, 308, 149, 9, 69, 1, 31, 183, 537, 5, 66, 1, 28, 737, 6, 27, 5, 66, 6, 19, 6, 737, 10], [461, 599, 5, 88, 9, 309], [138, 265], [24, 61, 23, 432], [634, 57, 47, 22, 3, 127, 84, 6, 387, 21], [46, 55, 6, 96, 10, 152, 63, 6, 277, 104, 77], [1, 70, 2, 1, 7, 1, 815, 125], [240, 11, 69, 47, 207, 13, 66, 22, 3, 461, 1, 108, 15, 3, 11, 367, 7, 67, 4, 2, 13, 256, 2, 3, 1, 69, 3, 28, 3, 454, 14, 1, 14, 5, 899, 12, 51, 5, 334, 2, 454, 8, 960, 7, 459], [1, 56, 2, 292, 450, 24, 60, 25, 472, 2, 1, 100, 53, 339], [132, 132, 364, 858, 18, 434, 94, 845, 379], [38, 114, 203, 43, 29, 463, 187, 112, 36, 73, 2, 333, 203, 48, 23, 30, 21, 7, 96, 29, 222, 195, 203, 264, 91], [23, 1, 422, 460, 499, 7, 13], [13, 499, 8, 88, 9], [904, 10, 9, 565, 163, 113, 281, 47, 58, 6, 62], [158, 146, 81, 500, 11, 710], [12, 5, 724, 8, 14, 19, 63, 15, 258, 148], [270, 619, 791, 444, 28], [3, 22, 4, 116, 3, 22, 23, 123, 7, 1, 169, 284, 694, 66, 12, 4, 24, 371, 75, 4, 743, 12, 509, 7, 1, 409, 144, 1, 284, 1, 156, 24, 1, 100, 209, 44, 2, 3, 548, 1, 59, 7, 1, 92, 26, 17, 4, 116, 66], [911, 6, 380, 47, 20, 225, 241, 138, 1, 122, 71, 273, 134, 524, 1, 273], [179, 106, 26, 394, 67, 4, 736, 15, 628, 146, 21, 1, 337, 82, 37, 4, 7, 488, 27, 190], [54, 8, 13, 295, 143], [17, 3, 105, 13], [581, 420], [116, 103, 378, 465, 262, 465, 73, 18, 276, 360, 7, 30, 320, 372, 797, 43, 48, 16, 667, 48, 18, 746, 21, 27, 175, 303], [1, 344, 753, 99, 11, 115, 2, 218, 676, 6], [624, 289, 127, 22, 3], [433, 8, 1, 369, 577, 29, 545, 9, 837, 475, 184, 6, 11, 433, 8, 11], [29, 609, 29, 168, 109, 20, 20, 6, 337, 144, 369, 658, 680, 10, 4, 401, 452, 159, 1, 81, 500, 88, 29, 300], [113, 263, 76, 714, 33, 32, 5, 76], [5, 430, 613, 8, 5, 430, 121, 8, 69, 5, 430, 8, 493, 4, 350, 159, 284, 6, 939, 430], [138, 14, 9, 52, 15, 172], [444, 85, 239, 546, 559, 285, 8, 62], [98, 65, 40, 17, 21, 89, 697, 174, 35, 116, 20, 147, 6, 34, 6, 58, 44], [200, 39, 31, 5, 325, 15], [98, 176, 61, 10, 171, 12, 277, 201, 491, 14, 373, 49, 19, 129, 1, 36, 453, 11, 370, 128, 2, 82, 3, 212, 69, 7, 398], [143, 29, 342, 4, 645, 7, 231, 189, 4, 414, 187, 377, 73, 857, 2, 318], [512, 44, 367, 167, 3, 313, 39, 66, 37, 572, 15, 247], [48, 397, 372, 797, 37, 335, 521, 308, 988, 12, 887, 7, 550, 262, 752, 793, 16, 667, 27, 844], [38, 24, 533], [57, 117, 11, 110, 159, 101, 193], [992, 26, 6, 733, 170, 27, 869, 259, 35, 29, 838, 27], [98, 176, 61, 47, 84, 6, 168, 80, 50, 7, 68, 10, 88, 34, 6, 337, 218, 177, 68, 86, 2, 195], [228, 120, 89, 695, 220, 7, 13, 115, 310, 111, 784, 3, 2, 162, 52, 118, 14, 8, 16, 50, 382], [60, 25, 2, 26, 56, 19], [581, 77, 270, 276, 8, 94, 711, 484, 528, 581, 18, 979, 315, 27, 484, 364, 219, 6], [], [145, 3, 28, 435, 37, 516, 64, 42, 41], [38, 97, 1, 17, 135, 510, 50, 3, 7, 589, 452, 1, 60, 9, 5, 542, 845, 9, 4, 226, 38, 743, 156, 65, 141, 35, 124, 15, 25, 72, 25, 45, 394, 61, 2, 49, 183, 12, 173], [46, 77, 55, 40, 49, 77], [138, 7, 52, 15], [179, 61, 46, 1, 288, 380, 547, 178, 527], [48, 12, 333, 112, 186, 203, 43, 29, 95, 187, 112, 36, 73, 186, 2, 30, 892, 7, 96, 29, 681, 140, 955, 253, 202, 689, 264, 203], [138, 687], [437, 8, 3, 2, 35, 225, 266, 91, 138, 27, 38, 82, 130, 140, 237, 866, 6, 86, 67, 86, 750, 2], [24, 1, 494, 1, 867, 11, 83], [127, 8, 14, 8, 65, 107, 12], [8, 65, 107, 160], [75, 251, 13, 810, 120, 105, 617, 75, 13, 12, 51, 922, 381, 2, 13, 222], [221, 129, 85, 106, 101, 193, 450, 106], [720, 24, 1, 62, 706, 32, 43, 586, 94, 1, 59, 15, 72, 2, 565, 861, 94, 1, 554, 15, 32], [619, 711, 270, 28, 6, 23, 801, 379], [821, 145, 65, 137, 105, 166, 21, 7, 38, 345, 88, 959, 56, 113, 432, 3, 44, 12, 14, 92, 46, 398, 2, 67, 318, 233, 2], [53, 45, 254, 109], [46, 1, 31, 96, 99, 2, 536, 52, 158, 61, 105, 24, 40, 22, 249, 31, 39, 350], [145, 156, 100, 40, 36, 49, 413, 252, 7, 17, 268, 270], [25, 50, 39, 22, 3, 9, 5], [4, 353, 59, 246, 20, 80, 225, 833, 15], [38, 74, 2, 182, 268, 12, 10, 1, 315], [1, 422, 3, 2, 16, 130, 21, 46], [50, 815, 255], [3, 17, 188, 4, 271, 348, 157, 27, 4, 602, 153, 2, 131, 718, 153, 16, 89, 214, 220, 941, 18, 390, 391, 562], [94, 894, 1, 287, 1, 147, 119], [1, 53, 64, 49, 2, 365, 12, 14], [582], [55, 156, 3, 457, 2], [784, 4, 1, 26, 177, 73, 2, 793, 391, 114, 233, 251, 121, 18, 252], [196, 34, 1, 30, 124, 50, 3, 19, 137, 7, 2, 4, 897]]\n",
            "word_index :  {'i': 1, 'to': 2, 'you': 3, 'a': 4, 'the': 5, 'u': 6, 'and': 7, 'is': 8, 'in': 9, 'me': 10, 'my': 11, 'for': 12, 'your': 13, 'it': 14, 'of': 15, 'call': 16, 'have': 17, 'on': 18, 'that': 19, '2': 20, 'now': 21, 'are': 22, 'so': 23, 'but': 24, 'not': 25, 'do': 26, 'or': 27, 'can': 28, 'ur': 29, 'get': 30, 'will': 31, 'at': 32, \"i'm\": 33, 'if': 34, 'be': 35, 'just': 36, 'with': 37, 'no': 38, 'this': 39, 'we': 40, 'gt': 41, 'lt': 42, '4': 43, 'up': 44, 'when': 45, 'ok': 46, 'how': 47, 'free': 48, 'go': 49, 'from': 50, 'all': 51, 'out': 52, 'know': 53, 'what': 54, 'then': 55, 'like': 56, 'good': 57, 'come': 58, 'was': 59, 'am': 60, 'its': 61, 'got': 62, 'time': 63, 'only': 64, 'there': 65, 'day': 66, 'send': 67, 'text': 68, 'love': 69, 'want': 70, 'he': 71, 'going': 72, 'txt': 73, 'need': 74, 'as': 75, 'by': 76, 'lor': 77, 'one': 78, 'about': 79, 'home': 80, \"i'll\": 81, 'see': 82, 'today': 83, 'r': 84, 'da': 85, 'stop': 86, 'sorry': 87, 'back': 88, 'our': 89, 'k': 90, 'reply': 91, 'still': 92, 'she': 93, 'n': 94, 'mobile': 95, 'tell': 96, 'pls': 97, 'hi': 98, 'her': 99, 'dont': 100, 'take': 101, \"don't\": 102, 'new': 103, 'later': 104, 'been': 105, 'please': 106, 'any': 107, 'think': 108, 'here': 109, 'dear': 110, 'they': 111, 'week': 112, 'some': 113, '1': 114, 'phone': 115, 'great': 116, 'night': 117, 'who': 118, 'ì': 119, 'has': 120, 'msg': 121, 'did': 122, 'much': 123, 'an': 124, 'more': 125, 'd': 126, 'where': 127, 'hope': 128, 'well': 129, 'him': 130, 'claim': 131, 'oh': 132, 'happy': 133, 'make': 134, 'had': 135, 'way': 136, \"it's\": 137, 'yes': 138, 'too': 139, 'www': 140, 'should': 141, 'message': 142, 'number': 143, 'say': 144, 'hey': 145, 'right': 146, 'c': 147, 'already': 148, 'said': 149, 'e': 150, 'work': 151, 'wat': 152, 'prize': 153, 'after': 154, 'give': 155, 'why': 156, 'cash': 157, 'yeah': 158, 'amp': 159, 'tomorrow': 160, 'life': 161, 'find': 162, 'doing': 163, 'meet': 164, 'ask': 165, '3': 166, 'morning': 167, 'im': 168, 'really': 169, 'them': 170, 'thanks': 171, 'also': 172, 'very': 173, 'would': 174, 't': 175, 'babe': 176, 'com': 177, 'last': 178, 'lol': 179, 'cos': 180, 'keep': 181, 'buy': 182, 'wait': 183, 'sent': 184, 'miss': 185, 'nokia': 186, 'every': 187, 'won': 188, 'win': 189, 'something': 190, 'let': 191, 'b': 192, 'care': 193, 'anything': 194, '150p': 195, 'sure': 196, 'before': 197, 'urgent': 198, 'again': 199, 's': 200, 'even': 201, 'uk': 202, 'tone': 203, 'cant': 204, '5': 205, 'contact': 206, 'went': 207, 'min': 208, \"i've\": 209, 'pick': 210, 'tonight': 211, 'soon': 212, 'first': 213, 'customer': 214, 'over': 215, 'us': 216, 'thing': 217, 'chat': 218, 'which': 219, 'service': 220, 'sleep': 221, 'friends': 222, 'around': 223, 'feel': 224, 'his': 225, 'place': 226, 'were': 227, 'someone': 228, 'off': 229, 'leave': 230, 'could': 231, 'nice': 232, '50': 233, 'always': 234, 'wan': 235, 'ya': 236, 'sms': 237, 'money': 238, 'next': 239, 'hello': 240, 'name': 241, 'other': 242, 'told': 243, \"can't\": 244, 'down': 245, 'late': 246, 'gud': 247, 'many': 248, 'things': 249, 'dun': 250, 'per': 251, 'x': 252, 'co': 253, \"you're\": 254, 'help': 255, 'heart': 256, 'gonna': 257, 'year': 258, 'may': 259, 'done': 260, \"that's\": 261, 'mins': 262, 'people': 263, '16': 264, 'fine': 265, 'friend': 266, 'waiting': 267, 'lunch': 268, '18': 269, 'haha': 270, 'guaranteed': 271, 'ìï': 272, 'v': 273, 'bit': 274, 'yet': 275, 'best': 276, 'coming': 277, 'special': 278, 'getting': 279, 'use': 280, 'stuff': 281, '7': 282, 'try': 283, 'wish': 284, '6': 285, 'thought': 286, 'thk': 287, \"didn't\": 288, 'class': 289, 'meeting': 290, 'mind': 291, 'talk': 292, 'same': 293, 'holiday': 294, 'account': 295, 'car': 296, 'cool': 297, 'trying': 298, 'never': 299, 'smile': 300, 'ready': 301, 'being': 302, 'cs': 303, 'live': 304, 'job': 305, 'having': 306, 'few': 307, 'line': 308, 'yo': 309, 'because': 310, 'house': 311, 'lot': 312, 'enjoy': 313, 'long': 314, 'eat': 315, 'sir': 316, 'days': 317, 'å£1': 318, 'draw': 319, 'latest': 320, 'nothing': 321, 'check': 322, 'real': 323, 'thats': 324, 'chance': 325, 'start': 326, 'play': 327, 'yup': 328, 'better': 329, 'person': 330, 'finish': 331, 'end': 332, '1st': 333, 'world': 334, 'half': 335, 'guys': 336, 'wanna': 337, 'than': 338, 'y': 339, 'another': 340, 'might': 341, 'awarded': 342, 'birthday': 343, 'll': 344, 'word': 345, 'shit': 346, 'receive': 347, 'å£1000': 348, 'ill': 349, 'month': 350, 'shows': 351, 'ever': 352, 'boy': 353, 'dinner': 354, 'reach': 355, 'big': 356, 'room': 357, 'once': 358, 'girl': 359, 'orange': 360, 'quite': 361, 'into': 362, 'man': 363, 'den': 364, 'apply': 365, 'called': 366, 'sweet': 367, 'guess': 368, 'jus': 369, 'bed': 370, 'god': 371, 'camera': 372, 'didnt': 373, 'luv': 374, 'early': 375, 'dat': 376, 'wk': 377, 'offer': 378, 'liao': 379, 'remember': 380, '9': 381, 'landline': 382, 'lar': 383, 'does': 384, 'ringtone': 385, 'plan': 386, 'working': 387, '10': 388, 'minutes': 389, 'between': 390, 'cost': 391, 'bad': 392, 'weekend': 393, 'actually': 394, 'probably': 395, 'look': 396, 'video': 397, 'xxx': 398, 'bt': 399, 'hour': 400, 'little': 401, 'code': 402, 'speak': 403, 'tv': 404, '150ppm': 405, 'anyway': 406, 'problem': 407, 'without': 408, 'must': 409, 'part': 410, 'looking': 411, 'left': 412, 'watch': 413, 'shopping': 414, 'missing': 415, 'aight': 416, 'important': 417, 'town': 418, 'maybe': 419, 'thanx': 420, 'face': 421, 'asked': 422, 'box': 423, '000': 424, 'texts': 425, 'details': 426, 'office': 427, 'messages': 428, 'collect': 429, 'xmas': 430, \"he's\": 431, 'fun': 432, 'dis': 433, 'sat': 434, 'pay': 435, '8': 436, 'm': 437, 'watching': 438, 'join': 439, 'princess': 440, 'okay': 441, 'bus': 442, 'leh': 443, 'dunno': 444, 'school': 445, 'rate': 446, 'award': 447, 'ah': 448, 'says': 449, 'pa': 450, 'wife': 451, 'while': 452, 'wanted': 453, 'hear': 454, 'network': 455, 'po': 456, 'came': 457, 'easy': 458, 'kiss': 459, \"how's\": 460, 'alright': 461, '2nd': 462, 'mob': 463, 'true': 464, 'double': 465, 'shall': 466, 'baby': 467, 'wont': 468, \"there's\": 469, 'fuck': 470, 'wot': 471, 'able': 472, 'afternoon': 473, 'made': 474, 'havent': 475, 'missed': 476, 'bored': 477, 'attempt': 478, 'worry': 479, 'two': 480, \"we're\": 481, 'put': 482, 'decimal': 483, 'food': 484, 'most': 485, 'gift': 486, 'thank': 487, 'hair': 488, 'pain': 489, 'dude': 490, 'though': 491, 'collection': 492, 'hav': 493, 'juz': 494, 'sexy': 495, 'selected': 496, 'years': 497, 'online': 498, 'dad': 499, 'bring': 500, 'entry': 501, 'weekly': 502, 'run': 503, 'goes': 504, 'either': 505, 'å£100': 506, 'g': 507, 'feeling': 508, 'everything': 509, 'enough': 510, 'those': 511, 'wake': 512, 'tones': 513, 'forgot': 514, 'means': 515, 'de': 516, 'evening': 517, 'yesterday': 518, 'plz': 519, 'calls': 520, 'price': 521, 'believe': 522, 'smiling': 523, 'until': 524, 'hurt': 525, 'times': 526, 'nite': 527, 'oso': 528, 'tmr': 529, 'drive': 530, 'calling': 531, 'music': 532, 'abt': 533, \"won't\": 534, 'words': 535, 'stay': 536, 'till': 537, 'å£5000': 538, 'making': 539, 'test': 540, 'book': 541, 'hot': 542, 'date': 543, 'ard': 544, 'mail': 545, 'show': 546, 'til': 547, 'since': 548, 'wif': 549, '500': 550, 'answer': 551, 'away': 552, 'update': 553, 'tot': 554, 'å£500': 555, 'friendship': 556, 'happen': 557, 'yours': 558, 'aft': 559, 'noe': 560, 'question': 561, '10p': 562, 'points': 563, 'top': 564, 'sch': 565, 'id': 566, 'these': 567, 'trip': 568, 'club': 569, 'beautiful': 570, 'valid': 571, 'full': 572, 'guy': 573, 'http': 574, 'shop': 575, 'colour': 576, 'saw': 577, 'driving': 578, 'bonus': 579, 'delivery': 580, 'okie': 581, 'change': 582, 're': 583, 'net': 584, 'plus': 585, 'lei': 586, 'else': 587, 'dreams': 588, 'family': 589, 'awesome': 590, 'leaving': 591, \"what's\": 592, 'hours': 593, 'both': 594, 'await': 595, 'sae': 596, '8007': 597, 'comes': 598, 'took': 599, 'started': 600, 'wen': 601, 'å£2000': 602, 'eve': 603, 'goin': 604, 'tho': 605, 'drink': 606, 'games': 607, 'busy': 608, 'sad': 609, \"we'll\": 610, 'sleeping': 611, 'vouchers': 612, 'story': 613, 'tried': 614, 'chikku': 615, 'saying': 616, 'set': 617, 'everyone': 618, 'sounds': 619, 'opt': 620, 'together': 621, 'gr8': 622, 'national': 623, 'finished': 624, 'private': 625, 'makes': 626, 'rite': 627, 'yourself': 628, 'lets': 629, 'address': 630, 'old': 631, 'coz': 632, 'neva': 633, \"she's\": 634, 'poly': 635, '86688': 636, \"''\": 637, 'search': 638, 'auction': 639, 'pounds': 640, \"haven't\": 641, 'congrats': 642, 'row': 643, 'touch': 644, 'break': 645, 'anyone': 646, 'movie': 647, 'cause': 648, 'services': 649, 'charge': 650, 'order': 651, 'final': 652, 'girls': 653, 'xx': 654, 'choose': 655, 'simple': 656, 'ha': 657, 'walk': 658, 'msgs': 659, 'statement': 660, 'head': 661, 'minute': 662, 'mean': 663, 'taking': 664, 'worth': 665, 'ring': 666, 'mobileupd8': 667, 'news': 668, 'smoke': 669, 'todays': 670, 'second': 671, 'don': 672, 'expires': 673, 'unsubscribe': 674, 'info': 675, 'wit': 676, 'alone': 677, 'email': 678, 'haf': 679, 'wid': 680, 'mates': 681, 'w': 682, \"c's\": 683, 'whatever': 684, 'thinking': 685, 'loving': 686, 'mum': 687, 'type': 688, 'pobox': 689, 'tomo': 690, 'visit': 691, 'smth': 692, 'friday': 693, 'each': 694, 'dating': 695, 'available': 696, 'pub': 697, 'angry': 698, 'brother': 699, 'land': 700, 'identifier': 701, 'game': 702, 'far': 703, 'weeks': 704, 'pretty': 705, 'lesson': 706, 'seeing': 707, 'finally': 708, 'o': 709, 'fri': 710, 'gd': 711, 'whats': 712, 'open': 713, 'mu': 714, 'treat': 715, '11': 716, 'wants': 717, 'yr': 718, 'course': 719, 'huh': 720, 'close': 721, 'takes': 722, 'light': 723, 'card': 724, 'ltd': 725, 'lucky': 726, 'tel': 727, 'mine': 728, 'pm': 729, 'drop': 730, 'wil': 731, 'pics': 732, 'knw': 733, 'savamob': 734, 'offers': 735, 'pic': 736, 'forget': 737, 'college': 738, 'chennai': 739, 'ni8': 740, 'darlin': 741, 'hard': 742, 'reason': 743, 'sis': 744, 'mate': 745, '08000839402': 746, 'winner': 747, 'caller': 748, '03': 749, 'frnd': 750, \"you've\": 751, '100': 752, 'hand': 753, 'lots': 754, 'suite342': 755, '2lands': 756, 'secret': 757, 'thinks': 758, 'carlos': 759, 'ass': 760, 'log': 761, 'hows': 762, 'project': 763, 'motorola': 764, '\\x89û': 765, 'outside': 766, 'saturday': 767, 'voucher': 768, \"you'll\": 769, 'whole': 770, 'player': 771, '750': 772, 'camcorder': 773, '08000930705': 774, 'hold': 775, 'sex': 776, 'read': 777, 'na': 778, 'company': 779, 'meant': 780, 'boytoy': 781, 'sister': 782, 'party': 783, 'fancy': 784, 'tc': 785, 'cut': 786, 'side': 787, 'download': 788, 'lose': 789, 'goodmorning': 790, 'crazy': 791, 'lovely': 792, 'txts': 793, 'kind': 794, 'content': 795, 'hungry': 796, 'phones': 797, 'operator': 798, 'gone': 799, 'talking': 800, 'fast': 801, 'reading': 802, 'happened': 803, '30': 804, 'picking': 805, 'etc': 806, 'enter': 807, 'congratulations': 808, 'used': 809, \"'\": 810, 'f': 811, 'parents': 812, \"doesn't\": 813, 'anytime': 814, 'lost': 815, 'direct': 816, 'wonderful': 817, '2003': 818, 'surprise': 819, 'hmm': 820, 'freemsg': 821, 'credit': 822, 'uncle': 823, 'john': 824, 'å£3': 825, 'christmas': 826, 'information': 827, 'fucking': 828, 'post': 829, 'hit': 830, 'their': 831, 'wrong': 832, 'father': 833, 'through': 834, 'found': 835, 'decided': 836, 'case': 837, 'frnds': 838, 'bank': 839, '12hrs': 840, 'understand': 841, 'cum': 842, 'wow': 843, 'call2optout': 844, 'sun': 845, 'nope': 846, 'area': 847, 'small': 848, 'welcome': 849, '0800': 850, 'supposed': 851, 'support': 852, 'telling': 853, '20': 854, 'darren': 855, 'remove': 856, 'store': 857, 'muz': 858, 'comp': 859, 'reveal': 860, 'earlier': 861, 'tired': 862, 'extra': 863, 'nyt': 864, 'gas': 865, 'ac': 866, 'gotta': 867, 'correct': 868, 'nt': 869, 'yar': 870, 'clean': 871, 'hee': 872, 'complimentary': 873, \"wasn't\": 874, 'least': 875, 'point': 876, 'almost': 877, 'difficult': 878, 'usf': 879, 'dream': 880, 'charged': 881, 'dogging': 882, 'mah': 883, 'valued': 884, 'via': 885, 'mr': 886, '12': 887, 'needs': 888, 'listen': 889, 'balance': 890, 'discount': 891, 'txting': 892, 'quiz': 893, 'blue': 894, 'abiola': 895, 'bout': 896, 'blood': 897, 'couple': 898, 'sea': 899, 'slowly': 900, 'loads': 901, 'oredi': 902, 'police': 903, 'gal': 904, 'wap': 905, 'ago': 906, 'å£350': 907, 'currently': 908, 'å£250': 909, 'invited': 910, 'eh': 911, 'gym': 912, 'å£2': 913, '800': 914, 'un': 915, 'redeemed': 916, '04': 917, 'whenever': 918, 'unlimited': 919, 'age': 920, 'write': 921, 'press': 922, 'ipod': 923, 'rock': 924, 'somewhere': 925, 'plans': 926, 'met': 927, 'confirm': 928, '87066': 929, 'monday': 930, 'swing': 931, 'figure': 932, 'park': 933, 'reward': 934, 'computer': 935, 'ans': 936, 'crave': 937, 'wishing': 938, 'merry': 939, 'march': 940, 'representative': 941, 'grins': 942, 'felt': 943, 'ends': 944, 'p': 945, 'nah': 946, 'worried': 947, 'otherwise': 948, 'own': 949, 'mayb': 950, 'hoping': 951, 'askd': 952, '00': 953, 'kate': 954, 'getzed': 955, 'prob': 956, 'sunday': 957, 'pray': 958, \"i'd\": 959, 'loved': 960, 'sending': 961, 'doin': 962, 'film': 963, 'red': 964, 'st': 965, 'india': 966, 'move': 967, 'knows': 968, 'poor': 969, 'b4': 970, 'slow': 971, 'comin': 972, 'frm': 973, 'orchard': 974, 'questions': 975, 'rest': 976, 'bslvyl': 977, 'song': 978, 'wana': 979, 'mom': 980, 'terms': 981, 'wonder': 982, 'w1j6hl': 983, 'tickets': 984, 'luck': 985, 'reached': 986, 'empty': 987, 'rental': 988, 'asap': 989, 'glad': 990, 'bluetooth': 991, 'asking': 992, 'eg': 993, 'reaching': 994, 'forwarded': 995, 'lect': 996, 'checking': 997, 'rs': 998, 'exam': 999, 'hg': 1000, 'std': 1001, 'water': 1002, 'admirer': 1003, 'rain': 1004, 'staying': 1005, 'snow': 1006, 'immediately': 1007, 'jay': 1008, 'weed': 1009, 'different': 1010, 'somebody': 1011, 'th': 1012, 'entered': 1013, 'bath': 1014, 'laugh': 1015, 'knew': 1016, 'fr': 1017, 'situation': 1018, 'wondering': 1019, 'spend': 1020, 'seen': 1021, 'save': 1022, 'truth': 1023, 'feels': 1024, 'others': 1025, 'unless': 1026, 'sofa': 1027, 'hospital': 1028, 'within': 1029, 'sell': 1030, 'ice': 1031, 'happiness': 1032, 'sub': 1033, 'dnt': 1034, 'å£150': 1035, 'heard': 1036, 'gave': 1037, 'fone': 1038, 'wkly': 1039, 'less': 1040, 'ringtones': 1041, 'woke': 1042, 'usual': 1043, 'ge': 1044, 'deal': 1045, 'myself': 1046, 'cheap': 1047, 'trust': 1048, 'lovable': 1049, 'ive': 1050, 'hmmm': 1051, 'ugh': 1052, 'children': 1053, 'charity': 1054, 'none': 1055, 'laptop': 1056, 'numbers': 1057, \"isn't\": 1058, 'ldn': 1059, 'sound': 1060, 'using': 1061, 'bcoz': 1062, 'tampa': 1063, 'gettin': 1064, 'rply': 1065, 'ten': 1066, 'paper': 1067, 'user': 1068, 'fantastic': 1069, '06': 1070, 'loan': 1071, 'study': 1072, 'catch': 1073, 'yep': 1074, 'mode': 1075, 'mark': 1076, 'xy': 1077, 'thinkin': 1078, 'doesnt': 1079, 'studying': 1080, 'spent': 1081, 'men': 1082, 'convey': 1083, 'vl': 1084, 'å£200': 1085, 'callertune': 1086, 'picked': 1087, 'rakhesh': 1088, 'pass': 1089, 'mo': 1090, 'sitting': 1091, 'match': 1092, \"you'd\": 1093, 'fact': 1094, 'ar': 1095, 'freephone': 1096, 'against': 1097, 'leaves': 1098, 'oops': 1099, '20p': 1100, 'ntt': 1101, 'goodnight': 1102, 'during': 1103, 'wine': 1104, 'future': 1105, 'ts': 1106, 'member': 1107, 'sign': 1108, 'link': 1109, 'street': 1110, 'daddy': 1111, 'normal': 1112, 'bill': 1113, '2nite': 1114, 'king': 1115, 'itself': 1116, 'starting': 1117, 'del': 1118, \"where's\": 1119, 'cheers': 1120, 'gn': 1121, 'short': 1122, 'across': 1123, 'training': 1124, 'seriously': 1125, 'single': 1126, '2004': 1127, \"joy's\": 1128, 'lazy': 1129, '4u': 1130, 'die': 1131, 'energy': 1132, 'stupid': 1133, '2day': 1134, 'sale': 1135, 'yrs': 1136, 'honey': 1137, 'replying': 1138, 'brings': 1139, 'mm': 1140, 'bathe': 1141, 'sony': 1142, 'drugs': 1143, '11mths': 1144, 'medical': 1145, 'especially': 1146, 'trouble': 1147, 'safe': 1148, 'warm': 1149, 'doctor': 1150, 'kids': 1151, 'voice': 1152, 'pete': 1153, 'hurts': 1154, '02': 1155, 'hiya': 1156, 'rates': 1157, 'å£800': 1158, 'forever': 1159, '\\x89ûò': 1160, 'semester': 1161, 'near': 1162, 'horny': 1163, '25p': 1164, 'request': 1165, 'imagine': 1166, 'disturb': 1167, 'lover': 1168, 'yahoo': 1169, 'mrt': 1170, \"they're\": 1171, 'cover': 1172, 'strong': 1173, 'reference': 1174, 'alex': 1175, 'noon': 1176, 'road': 1177, 'fat': 1178, 'learn': 1179, \"wat's\": 1180, 'cd': 1181, 'credits': 1182, 'comuk': 1183, 'wishes': 1184, 'bold': 1185, 'torch': 1186, 'copy': 1187, 'thru': 1188, 'nobody': 1189, 'decide': 1190, 'sp': 1191, 'planning': 1192, 'ex': 1193, 'advance': 1194, 'tonite': 1195, 'gets': 1196, 'sit': 1197, 'summer': 1198, 'dog': 1199, 'rather': 1200, 'sort': 1201, 'valentines': 1202, 'ip4': 1203, '5we': 1204, 'complete': 1205, 'wednesday': 1206, 'seems': 1207, 'sky': 1208, 'moment': 1209, 'weight': 1210, 'arrive': 1211, 'idea': 1212, 'il': 1213, '0870': 1214, 'access': 1215, 'mid': 1216, 'longer': 1217, '150': 1218, 'booked': 1219, 'ticket': 1220, 'bag': 1221, 'pizza': 1222, 'tear': 1223, 'kick': 1224, 'hai': 1225, '50p': 1226, 'experience': 1227, 'round': 1228, '85023': 1229, 'password': 1230, 'no1': 1231, '36504': 1232, 'promise': 1233, 'shower': 1234, 'rcvd': 1235, 'click': 1236, 'high': 1237, 'deep': 1238, 'stand': 1239, 'bb': 1240, 'train': 1241, 'age16': 1242, 'yijue': 1243, 'opinion': 1244, 'aha': 1245, 'dey': 1246, 'å£10': 1247, 'flirt': 1248, 'costa': 1249, 'sol': 1250, 'sk38xh': 1251, 'battery': 1252, 'moral': 1253, 'completely': 1254, 'pc': 1255, 'black': 1256, 'interested': 1257, 'nigeria': 1258, 'page': 1259, 'anymore': 1260, 'movies': 1261, \"today's\": 1262, 'planned': 1263, 'england': 1264, 'flag': 1265, 'inside': 1266, 'list': 1267, 'however': 1268, 'eyes': 1269, 'polys': 1270, 'marriage': 1271, \"who's\": 1272, 'hell': 1273, 'tough': 1274, 'pleasure': 1275, 'ending': 1276, 'matches': 1277, 'quick': 1278, 'colleagues': 1279, 'eatin': 1280, 'possible': 1281, 'changed': 1282, 'cancel': 1283, 'happens': 1284, 'insurance': 1285, 'waste': 1286, 'silent': 1287, 'ones': 1288, 'slave': 1289, '3030': 1290, 'malaria': 1291, 'coffee': 1292, 'frens': 1293, 'em': 1294, 'lessons': 1295, 'fullonsms': 1296, 'workin': 1297, 'omw': 1298, 'cake': 1299, 'goto': 1300, 'pix': 1301, 'rent': 1302, 'mobiles': 1303, 'meaning': 1304, 'la': 1305, 'iam': 1306, 'valentine': 1307, 'loves': 1308, 'urself': 1309, 'paying': 1310, 'dvd': 1311, 'worries': 1312, 'add': 1313, 'bid': 1314, 'behind': 1315, 'mrng': 1316, 'hmv': 1317, 'sick': 1318, 'apartment': 1319, 'biz': 1320, 'giving': 1321, 'awaiting': 1322, \"b'day\": 1323, 'bedroom': 1324, 'miracle': 1325, 'lemme': 1326, 'mistake': 1327, 'onto': 1328, 'umma': 1329, \"god's\": 1330, 'specially': 1331, 'inc': 1332, 'simply': 1333, 'holla': 1334, 'joined': 1335, 'evng': 1336, 'babes': 1337, 'hl': 1338, 'arrange': 1339, '3g': 1340, 'tuesday': 1341, 'boss': 1342, 'kept': 1343, 'facebook': 1344, 'registered': 1345, 'showing': 1346, 'ldew': 1347, 'persons': 1348, 'jst': 1349, 'tat': 1350, 'announcement': 1351, 'recently': 1352, 'login': 1353, 'nxt': 1354, 'hotel': 1355, 'budget': 1356, 'contract': 1357, 'tariffs': 1358, 'å£400': 1359, 'cal': 1360, 'plenty': 1361, 'theatre': 1362, 'sucks': 1363, 'following': 1364, '10am': 1365, 'relax': 1366, 'bye': 1367, 'internet': 1368, '08712460324': 1369, 'bx420': 1370, 'handset': 1371, 'joke': 1372, 'moan': 1373, 'scream': 1374, 'starts': 1375, 'turns': 1376, 'meh': 1377, 'gee': 1378, 'worse': 1379, 'process': 1380, 'return': 1381, 'loyalty': 1382, 'al': 1383, '1327': 1384, 'croydon': 1385, 'cr9': 1386, '5wb': 1387, 'role': 1388, 'kerala': 1389, 'works': 1390, 'dead': 1391, 'izzit': 1392, 'excellent': 1393, 'liked': 1394, 'april': 1395, 'spoke': 1396, 'yay': 1397, 'pin': 1398, 'door': 1399, 'hurry': 1400, '82277': 1401, 'spree': 1402, 'kinda': 1403, 'naughty': 1404, 'expensive': 1405, 'omg': 1406, 'died': 1407, 'tick': 1408, 'earth': 1409, 'depends': 1410, 'space': 1411, 'mood': 1412, '09050090044': 1413, 'toclaim': 1414, 'pobox334': 1415, 'stockport': 1416, 'costå£1': 1417, 'max10mins': 1418, 'naked': 1419, 'some1': 1420, 'marry': 1421, 'kano': 1422, 'hr': 1423, 'swt': 1424, 'indian': 1425, 'j': 1426, 'wed': 1427, 'system': 1428, 'ate': 1429, 'flower': 1430, 'wherever': 1431, 'feb': 1432, 'exciting': 1433, 'slept': 1434, 'don\\x89û÷t': 1435, 'ho': 1436, 'version': 1437, 'track': 1438, 'din': 1439, 'fb': 1440, 'towards': 1441, 'mp3': 1442, 'quality': 1443, 'kallis': 1444, 'funny': 1445, 'students': 1446, 'pobox84': 1447, 'entitled': 1448, 'cold': 1449, 'posted': 1450, 'tuition': 1451, 'style': 1452, '4th': 1453, 'nature': 1454, 'random': 1455, 'ladies': 1456, 'cancer': 1457, 'sunshine': 1458, \"let's\": 1459, 'custcare': 1460, 'walking': 1461, \"u've\": 1462, 'lift': 1463, \"t's\": 1464, 'pound': 1465, 'forward': 1466, 'boo': 1467, 'running': 1468, 'realy': 1469, 'website': 1470, 'weekends': 1471, 'bucks': 1472, 'present': 1473, 'mother': 1474, 'paid': 1475, 'imma': 1476, 'w45wq': 1477, 'norm150p': 1478, 'south': 1479, 'wun': 1480, 'cute': 1481, 'super': 1482, 'sometimes': 1483, 'london': 1484, 'ish': 1485, 'alrite': 1486, 'fault': 1487, 'maximize': 1488, 'bother': 1489, 'brand': 1490, 'directly': 1491, 'under': 1492, 'gay': 1493, 'urawinner': 1494, \"uk's\": 1495, 'shuhui': 1496, 'wer': 1497, 'accept': 1498, 'ahead': 1499, 'excuse': 1500, 'willing': 1501, 'searching': 1502, '87077': 1503, 'interesting': 1504, 'aftr': 1505, 'cheaper': 1506, 'transaction': 1507, 'videophones': 1508, 'videochat': 1509, 'java': 1510, 'dload': 1511, 'noline': 1512, 'rentl': 1513, '86021': 1514, 'italian': 1515, 'pussy': 1516, '7pm': 1517, 'matter': 1518, 'aathi': 1519, 'fixed': 1520, 'putting': 1521, 'rose': 1522, 'share': 1523, 'body': 1524, 'happening': 1525, 'argument': 1526, 'sighs': 1527, 'awake': 1528, 'howz': 1529, 'l8r': 1530, 'unable': 1531, 'romantic': 1532, 'inclusive': 1533, 'nimya': 1534, 'current': 1535, 'inviting': 1536, '62468': 1537, 'records': 1538, 'chinese': 1539, 'team': 1540, 'common': 1541, 'sight': 1542, \"she'll\": 1543, 'cinema': 1544, '150pm': 1545, 'somethin': 1546, 'bin': 1547, 'wins': 1548, 'living': 1549, 'ttyl': 1550, '8th': 1551, 'travel': 1552, 'nights': 1553, 'asleep': 1554, 'appreciate': 1555, '25': 1556, 'yest': 1557, 'straight': 1558, 'å£900': 1559, 'sim': 1560, 'ahmad': 1561, 'fantasies': 1562, '08707509020': 1563, 'advice': 1564, 'january': 1565, 'ym': 1566, 'buzz': 1567, 'playing': 1568, 'arrested': 1569, 'pongal': 1570, 'bak': 1571, 'players': 1572, 'digital': 1573, 'yan': 1574, 'jiu': 1575, 'cine': 1576, 'air': 1577, \"u're\": 1578, 'gals': 1579, 'group': 1580, 'law': 1581, 'boys': 1582, 'expecting': 1583, 'tenerife': 1584, 'including': 1585, 'bugis': 1586, 'holding': 1587, 'cds': 1588, 'choice': 1589, 'asks': 1590, 'atm': 1591, 'gives': 1592, 'lik': 1593, 'months': 1594, 'unsub': 1595, 'cup': 1596, 'guide': 1597, 'unsold': 1598, 'charges': 1599, 'fingers': 1600, 'opportunity': 1601, 'obviously': 1602, 'childish': 1603, 'checked': 1604, \"wouldn't\": 1605, 'green': 1606, 'cell': 1607, 'thts': 1608, 'mad': 1609, 'become': 1610, 'pilates': 1611, 'drug': 1612, 'locations': 1613, 'holder': 1614, 'smiles': 1615, 'fetch': 1616, 'tis': 1617, 'relation': 1618, 'sport': 1619, 'connection': 1620, 'rooms': 1621, 'shirt': 1622, 'contacted': 1623, 'hrs': 1624, 'linerental': 1625, '2optout': 1626, 'dollars': 1627, 'pleased': 1628, 'review': 1629, 'teasing': 1630, 'lady': 1631, 'lonely': 1632, 'ages': 1633, 'damn': 1634, 'social': 1635, 'sense': 1636, 'power': 1637, 'library': 1638, 'photos': 1639, 'amount': 1640, 'fyi': 1641, 'due': 1642, 'zed': 1643, 'notice': 1644, 'usually': 1645, 'instead': 1646, 'whether': 1647, 'murdered': 1648, 'murder': 1649, 'maid': 1650, 'murderer': 1651, 'brilliant': 1652, 'replied': 1653, 'boost': 1654, 'lmao': 1655, 'cars': 1656, 'self': 1657, 'mon': 1658, '300': 1659, 'bought': 1660, '9am': 1661, 'stock': 1662, 'screaming': 1663, 'plane': 1664, 'vomit': 1665, 'askin': 1666, 'acc': 1667, 'december': 1668, 'deliver': 1669, 'cuz': 1670, 'tour': 1671, 'cannot': 1672, 'cbe': 1673, 'past': 1674, 'envelope': 1675, 'character': 1676, 'personal': 1677, 'truly': 1678, 'amazing': 1679, 'campus': 1680, 'moon': 1681, 'xchat': 1682, 'tyler': 1683, '21': 1684, 'laid': 1685, 'photo': 1686, 'lead': 1687, 'meds': 1688, 'definitely': 1689, 'pple': 1690, 'isnt': 1691, 'er': 1692, 'english': 1693, 'aint': 1694, 'txtauction': 1695, 'weak': 1696, 'sonyericsson': 1697, 'prabha': 1698, 'exactly': 1699, 'mths': 1700, 'salary': 1701, '80488': 1702, 'darling': 1703, 'geeee': 1704, 'donåõt': 1705, 'qatar': 1706, 'timing': 1707, 'model': 1708, 'birds': 1709, 'ec2a': 1710, 'vikky': 1711, 'thnk': 1712, 'selling': 1713, '08712300220': 1714, 'standard': 1715, 'app': 1716, 'menu': 1717, 'boston': 1718, 'gentle': 1719, 'tea': 1720, 'sunny': 1721, 'activate': 1722, '434': 1723, 'conditions': 1724, 'bf': 1725, 'cc': 1726, '08718720201': 1727, 'local': 1728, 'rd': 1729, \"shouldn't\": 1730, 'sed': 1731, 'bitch': 1732, 'ta': 1733, 'respect': 1734, 'o2': 1735, 'num': 1736, 'ave': 1737, 'midnight': 1738, 'raining': 1739, 'official': 1740, 'hop': 1741, 'surfing': 1742, 'country': 1743, '3510i': 1744, 'moms': 1745, 'texting': 1746, 'flights': 1747, 'themob': 1748, 'logo': 1749, 'pobox36504w45wq': 1750, 'purpose': 1751, 'tenants': 1752, 'purity': 1753, 'six': 1754, '87575': 1755, 'dictionary': 1756, 'gently': 1757, 'credited': 1758, 'pack': 1759, 'cafe': 1760, 'aiyar': 1761, 'takin': 1762, 'iåõm': 1763, 'yetunde': 1764, 'pictures': 1765, 'scared': 1766, 'google': 1767, 'nyc': 1768, 'urn': 1769, 'tncs': 1770, 'spk': 1771, 'schedule': 1772, 'ref': 1773, 'blackberry': 1774, 'paris': 1775, 'callers': 1776, 'moji': 1777, 'infernal': 1778, 'escape': 1779, 'receipt': 1780, 'stopped': 1781, 'def': 1782, 'bloody': 1783, 'jess': 1784, 'optout': 1785, 'embarassed': 1786, 'throw': 1787, 'laughing': 1788, 'technical': 1789, 'fantasy': 1790, 'football': 1791, 'upto': 1792, 'selection': 1793, 'brought': 1794, '542': 1795, 'membership': 1796, 'sec': 1797, 'heavy': 1798, '24': 1799, 'loverboy': 1800, '85': 1801, 'legal': 1802, 'yuo': 1803, 'tihs': 1804, 'ended': 1805, 'five': 1806, 'bowl': 1807, 'played': 1808, 'original': 1809, 'sipix': 1810, '28': 1811, \"hasn't\": 1812, 'theory': 1813, 'argue': 1814, 'faster': 1815, 'bloomberg': 1816, 'center': 1817, '1000s': 1818, 'remind': 1819, 'porn': 1820, 'revealed': 1821, 'lecture': 1822, 'essential': 1823, 'tht': 1824, 'ppm': 1825, 'anybody': 1826, 'appointment': 1827, 'wylie': 1828, 'sup': 1829, 'moby': 1830, \"u'll\": 1831, 'city': 1832, '88039': 1833, 'skilgme': 1834, 'pig': 1835, 'esplanade': 1836, 'polyphonic': 1837, 'atlanta': 1838, 'mmm': 1839, 'vote': 1840, 'ma': 1841, 'hill': 1842, \"did't\": 1843, 'str': 1844, 'i\\x89û÷ll': 1845, 'dropped': 1846, 'singles': 1847, 'passed': 1848, 've': 1849, 'shame': 1850, 'fifteen': 1851, 'gm': 1852, 'keeping': 1853, 'added': 1854, 'dint': 1855, 'abi': 1856, 'sooner': 1857, 'radio': 1858, 'texted': 1859, 'looks': 1860, 'ure': 1861, 'decision': 1862, 'prepare': 1863, 'received': 1864, '08001950382': 1865, 'jordan': 1866, 'costs': 1867, 'expect': 1868, 'assume': 1869, 'throat': 1870, 'cooking': 1871, 'preferably': 1872, 'sugar': 1873, 'dry': 1874, 'season': 1875, \"we've\": 1876, 'weather': 1877, 'fever': 1878, 'tb': 1879, 'comedy': 1880, 'sam': 1881, 'flat': 1882, 'seemed': 1883, 'handle': 1884, 'profit': 1885, 'drinks': 1886, 'station': 1887, 'lives': 1888, 'pissed': 1889, 'rem': 1890, '87131': 1891, 'solve': 1892, 'cook': 1893, 'intelligent': 1894, 'ran': 1895, 'saved': 1896, 'hv': 1897, 'understanding': 1898, 'sura': 1899, 'listening': 1900, 'site': 1901, 'issues': 1902, \"couldn't\": 1903, 'exams': 1904, 'vodafone': 1905, 'dirty': 1906, '0808': 1907, '145': 1908, '4742': 1909, '11pm': 1910, 'kidz': 1911, 'informed': 1912, 'village': 1913, 'iz': 1914, \"aren't\": 1915, 'afraid': 1916, 'shoot': 1917, 'm263uz': 1918, '08002986906': 1919, 'shd': 1920, 'files': 1921, 'greet': 1922, 'buns': 1923, 'twice': 1924, 'wonders': 1925, '7th': 1926, '6th': 1927, '5th': 1928, 'personality': 1929, '3rd': 1930, 'oz': 1931, 'btw': 1932, 'waking': 1933, 'problems': 1934, 'subs': 1935, 'spl': 1936, 'stylish': 1937, 'tells': 1938, '40gb': 1939, 'msgrcvdhg': 1940, 'total': 1941, 'whom': 1942, 'dates': 1943, 'hw': 1944, 'wearing': 1945, 'fml': 1946, 'loss': 1947, 'urgnt': 1948, 'partner': 1949, 'career': 1950, '530': 1951, 'buying': 1952, 'spending': 1953, 'ordered': 1954, 'befor': 1955, 'activities': 1956, 'tm': 1957, 'iq': 1958, 'quit': 1959, 'jazz': 1960, 'recd': 1961, 'cust': 1962, 'teaches': 1963, 'shortly': 1964, 'journey': 1965, '1000': 1966, 'married': 1967, 'regards': 1968, 'machan': 1969, 'eerie': 1970, 'pg': 1971, 'begin': 1972, 'closer': 1973, 'confidence': 1974, 'derek': 1975, 'vary': 1976, 'result': 1977, 'vry': 1978, 'lacs': 1979, 'amt': 1980, 'euro2004': 1981, 'results': 1982, 'daily': 1983, 'sen': 1984, 'fix': 1985, \"'ll\": 1986, 'largest': 1987, 'hunny': 1988, '05': 1989, 'tt': 1990, 'addicted': 1991, 'thursday': 1992, 'places': 1993, '786': 1994, 'unredeemed': 1995, '26': 1996, 'looked': 1997, 'horrible': 1998, 'voda': 1999, 'quoting': 2000, 'practice': 2001, '83355': 2002, 'suite': 2003, 'answering': 2004, 'answers': 2005, 'airport': 2006, 'cam': 2007, 'drivin': 2008, \"we'd\": 2009, 'interview': 2010, 'sha': 2011, 'cream': 2012, 'teach': 2013, 'ibiza': 2014, 'grand': 2015, 'vip': 2016, 'weird': 2017, 'ru': 2018, 'totally': 2019, 'adult': 2020, 'santa': 2021, \"ain't\": 2022, 'sore': 2023, 'jesus': 2024, 'unique': 2025, 'bahamas': 2026, 'seem': 2027, 'cabin': 2028, \"''ok''\": 2029, 'minuts': 2030, 'latr': 2031, 'settled': 2032, '6hrs': 2033, 'quote': 2034, 'cartoon': 2035, 'freak': 2036, 'subscription': 2037, 'hostel': 2038, 'thangam': 2039, '250': 2040, 'arcade': 2041, 'surely': 2042, 'aiyo': 2043, 'lab': 2044, 'callså£1': 2045, 'enjoyed': 2046, 'file': 2047, 'txtin': 2048, '4info': 2049, 'uni': 2050, 'cross': 2051, 'height': 2052, 'hella': 2053, 'basically': 2054, 'coins': 2055, 'discuss': 2056, 'cry': 2057, 'cud': 2058, 'anyways': 2059, 'bishan': 2060, 'allah': 2061, 'title': 2062, 'eng': 2063, 'wet': 2064, 'taken': 2065, 'wah': 2066, 'hook': 2067, 'å£4': 2068, 'rays': 2069, 'q': 2070, 'fight': 2071, 'grl': 2072, 'upset': 2073, 'kadeem': 2074, 'postcode': 2075, 'stranger': 2076, 'package': 2077, 'å£75': 2078, 'homeowners': 2079, 'previously': 2080, 'refused': 2081, '1956669': 2082, \"'help'\": 2083, 'ride': 2084, 'wrk': 2085, 'hands': 2086, 'screen': 2087, 'beer': 2088, '9ja': 2089, 'belly': 2090, '09063458130': 2091, 'polyph': 2092, '7250i': 2093, 'w1jhl': 2094, 'tog': 2095, 'pod': 2096, '80182': 2097, '08452810073': 2098, 'cornwall': 2099, 'behave': 2100, 'released': 2101, 'concentrate': 2102, 'macho': 2103, 'perfect': 2104, 'suggest': 2105, 'business': 2106, 'picture': 2107, 'supervisor': 2108, 'likely': 2109, 'rule': 2110, 'hanging': 2111, 'confirmed': 2112, \"he'll\": 2113, 'missin': 2114, 'guilty': 2115, '3qxj9': 2116, '08702840625': 2117, '9ae': 2118, 'period': 2119, 'gautham': 2120, 'roommate': 2121, 'finishes': 2122, 'alcohol': 2123, 'callback': 2124, 'vijay': 2125, 'erm': 2126, 'affairs': 2127, '80062': 2128, 'female': 2129, 'mas': 2130, '9pm': 2131, 'celebrate': 2132, 'magical': 2133, 'white': 2134, 'wkend': 2135, '60p': 2136, 'cramps': 2137, 'suntec': 2138, '87121': 2139, 'exact': 2140, 'parked': 2141, '08718727870': 2142, 'skype': 2143, 'floor': 2144, 'remain': 2145, '3d': 2146, 'winning': 2147, 'networking': 2148, 'register': 2149, 'gravity': 2150, 'carefully': 2151, 'art': 2152, 'mt': 2153, 'upgrade': 2154, '0845': 2155, 'fool': 2156, 'ache': 2157, 'germany': 2158, 'pence': 2159, 'map': 2160, 'gary': 2161, 'ptbo': 2162, 'ese': 2163, 'returned': 2164, 'mini': 2165, 'tree': 2166, 'chicken': 2167, 'armand': 2168, 'flaked': 2169, 'skip': 2170, 'blah': 2171, 'raise': 2172, 'speechless': 2173, 'wa': 2174, 'goal': 2175, 'medicine': 2176, 'ph': 2177, 'forevr': 2178, 'loses': 2179, 'tomarrow': 2180, '2moro': 2181, 'alive': 2182, 'impossible': 2183, 'wc1n3xx': 2184, 'becoz': 2185, 'settle': 2186, 'bday': 2187, 'pieces': 2188, 'tablets': 2189, 'promises': 2190, 'blame': 2191, 'blessings': 2192, 'exe': 2193, '5000': 2194, 'cw25wx': 2195, 'successfully': 2196, 'supply': 2197, '08717898035': 2198, 'kisses': 2199, 'threats': 2200, 'reasons': 2201, \"dsn't\": 2202, \"mum's\": 2203, 'hols': 2204, 'four': 2205, 'quickly': 2206, 'iouri': 2207, 'i\\x89û÷m': 2208, 'joking': 2209, 'downloads': 2210, 'members': 2211, 'whos': 2212, 'except': 2213, 'barely': 2214, 'tkts': 2215, 'incident': 2216, 'chain': 2217, 'women': 2218, 'wats': 2219, 'tscs087147403231winawk': 2220, '50perwksub': 2221, 'twelve': 2222, 'aah': 2223, 'books': 2224, 'catching': 2225, 'letters': 2226, 'possession': 2227, 'elsewhere': 2228, 'issue': 2229, 'natural': 2230, 'wiv': 2231, 'favourite': 2232, 'bless': 2233, 'july': 2234, 'seven': 2235, 'collecting': 2236, 'okey': 2237, 'voicemail': 2238, 'ne': 2239, 'islands': 2240, 'gram': 2241, 'goodnite': 2242, 'various': 2243, 'moved': 2244, 'drinking': 2245, 'praying': 2246, 'often': 2247, 'maga': 2248, 'anywhere': 2249, 'iscoming': 2250, 'yoga': 2251, 'loud': 2252, 'understood': 2253, 'dearly': 2254, 'tom': 2255, 'measure': 2256, 'swimming': 2257, 'requests': 2258, 'prospects': 2259, 'fill': 2260, 'remains': 2261, 'bro': 2262, 'bros': 2263, 'passionate': 2264, 'arun': 2265, 'oru': 2266, 'spell': 2267, 'concert': 2268, 'sometime': 2269, 'songs': 2270, 'mall': 2271, 'dubsack': 2272, 'tape': 2273, '80082': 2274, 'addie': 2275, 'captain': 2276, 'potential': 2277, 'outta': 2278, 'fathima': 2279, 'yogasana': 2280, 'rush': 2281, 'touched': 2282, 'chechi': 2283, 'newest': 2284, 'among': 2285, 'shot': 2286, 'anti': 2287, \"when's\": 2288, 'album': 2289, 'eye': 2290, 'alfie': 2291, \"moon's\": 2292, 'm8s': 2293, 'nokias': 2294, '08701417012': 2295, 'bud': 2296, 'freefone': 2297, 'display': 2298, 'strike': 2299, 'fighting': 2300, 'runs': 2301, 'smokes': 2302, 'february': 2303, 'express': 2304, 'dot': 2305, 'questioned': 2306, 'gardener': 2307, 'vegetables': 2308, 'neighbour': 2309, 'caring': 2310, 'innings': 2311, 'wn': 2312, 'instantly': 2313, 'shouted': 2314, 'shipping': 2315, 'receiving': 2316, 'sachin': 2317, 'tirupur': 2318, 'symbol': 2319, 'eggs': 2320, '5p': 2321, 'gang': 2322, 'garage': 2323, 'university': 2324, 'kindly': 2325, 'lotr': 2326, 'drunk': 2327, 'warner': 2328, 'doors': 2329, 'generally': 2330, 'research': 2331, 'child': 2332, 'three': 2333, 'docs': 2334, 'needed': 2335, 'alert': 2336, 'basic': 2337, 'failed': 2338, 'yummy': 2339, 'regarding': 2340, 'lousy': 2341, 'cat': 2342, 'wise': 2343, 'connect': 2344, 'jada': 2345, 'kusruthi': 2346, 'matured': 2347, 'hint': 2348, 'belovd': 2349, 'considering': 2350, 'careful': 2351, '81303': 2352, '08712405020': 2353, 'fish': 2354, 'blow': 2355, 'rude': 2356, 'software': 2357, 'uks': 2358, '18yrs': 2359, 'ringtoneking': 2360, 'doc': 2361, 'husband': 2362, 'freezing': 2363, 'eaten': 2364, 'temp': 2365, 'inches': 2366, 'apologise': 2367, 'films': 2368, 'transfer': 2369, 'aiyah': 2370, 'caught': 2371, 'scary': 2372, '81151': 2373, '4t': 2374, 'tcs': 2375, 'challenge': 2376, 'tessy': 2377, 'favor': 2378, 'shijas': 2379, 'idiot': 2380, 'brothas': 2381, 'chasing': 2382, 'letter': 2383, 'jason': 2384, 'soryda': 2385, 'sory': 2386, 'shy': 2387, 'ignore': 2388, 'score': 2389, 'crab': 2390, 'cleared': 2391, 'footprints': 2392, 'spook': 2393, 'ths': 2394, 'contents': 2395, 'standing': 2396, 'accident': 2397, 'closed': 2398, 'woman': 2399, '09': 2400, '0871': 2401, 'box95qu': 2402, 'arms': 2403, 'bloo': 2404, 'bright': 2405, '3lp': 2406, '2morrow': 2407, 'apparently': 2408, 'chosen': 2409, '29': 2410, 'bat': 2411, 'meetin': 2412, 'intro': 2413, 'arsenal': 2414, \"'t\": 2415, 'boring': 2416, 'ws': 2417, 'broke': 2418, 'usc': 2419, '07xxxxxxxxx': 2420, 'gudnite': 2421, 'mtmsgrcvd18': 2422, 'meanwhile': 2423, 'xavier': 2424, 'lie': 2425, 'monthly': 2426, 'terrible': 2427, '6months': 2428, 'roger': 2429, 'xxxx': 2430, 'respond': 2431, 'maneesha': 2432, 'satisfied': 2433, 'toll': 2434, 'gimme': 2435, 'sk3': 2436, '8wp': 2437, 'burger': 2438, 'it\\x89û÷s': 2439, 'hug': 2440, 'hate': 2441, 'hun': 2442, 'sept': 2443, 'serious': 2444, 'settings': 2445, 'stress': 2446, 'ummmmmaah': 2447, 'returns': 2448, '83600': 2449, '114': 2450, '14': 2451, 'tcr': 2452, 'w1': 2453, '3mins': 2454, 'stops': 2455, 'sports': 2456, 'wanting': 2457, 'sentence': 2458, 'cha': 2459, 'action': 2460, 'mite': 2461, 'hardcore': 2462, '1x150p': 2463, 'mono': 2464, '3gbp': 2465, '2u': 2466, 'bite': 2467, 'centre': 2468, 'that\\x89û÷s': 2469, 'storming': 2470, 'phne': 2471, 'wt': 2472, 'margaret': 2473, 'girlfrnd': 2474, 'grahmbell': 2475, 'invnted': 2476, 'telphone': 2477, '4get': 2478, 'morn': 2479, '89545': 2480, '087187262701': 2481, '50gbp': 2482, 'mtmsg18': 2483, '84025': 2484, 'eight': 2485, 'note': 2486, 'dem': 2487, 'collected': 2488, 'taunton': 2489, 'roast': 2490, '87239': 2491, '4mths': 2492, 'mobilesdirect': 2493, '08000938767': 2494, 'or2stoptxt': 2495, 'thanksgiving': 2496, 'uncles': 2497, 'cardiff': 2498, \"did'nt\": 2499, 'nearly': 2500, 'apps': 2501, 'mix': 2502, 'verify': 2503, 'audition': 2504, 'shut': 2505, 'stuck': 2506, 'middle': 2507, 'sn': 2508, 'yun': 2509, 'key': 2510, 'executive': 2511, 'temple': 2512, 'liverpool': 2513, 'gentleman': 2514, 'dignity': 2515, 'normally': 2516, 'textcomp': 2517, 'netcollex': 2518, 'transfered': 2519, '0': 2520, 'purchase': 2521, 'diff': 2522, 'fear': 2523, 'pages': 2524, 'james': 2525, 'miles': 2526, 'dress': 2527, 'masters': 2528, 'further': 2529, '6pm': 2530, 'headache': 2531, 'ranjith': 2532, '5min': 2533, 'milk': 2534, 'lines': 2535, 'frndship': 2536, 'nw': 2537, 'wtf': 2538, 'xuhui': 2539, 'sry': 2540, 'prefer': 2541, 'walmart': 2542, 'provided': 2543, 'painful': 2544, '82242': 2545, '87021': 2546, 'ntwk': 2547, 'delivered': 2548, 'accordingly': 2549, 'yeh': 2550, 'june': 2551, 'slap': 2552, 'teacher': 2553, \"mom's\": 2554, 'nvm': 2555, 'thatåõs': 2556, 'fills': 2557, 'lookin': 2558, 'gona': 2559, 'waitin': 2560, 'juicy': 2561, 'booty': 2562, 'enemy': 2563, 'cock': 2564, '0207': 2565, 'senthil': 2566, 'walls': 2567, 'se': 2568, 'indians': 2569, 'august': 2570, 'pending': 2571, 'created': 2572, 'gap': 2573, 'male': 2574, 'havin': 2575, 'messenger': 2576, 'vava': 2577, 'beyond': 2578, '08715705022': 2579, 'url': 2580, 'ì©': 2581, '900': 2582, 'roads': 2583, 'sing': 2584, 'rofl': 2585, 'titles': 2586, '2morow': 2587, 'valid12hrs': 2588, 'butt': 2589, 'market': 2590, 'bcums': 2591, 'affection': 2592, 'kettoda': 2593, 'manda': 2594, 'buff': 2595, 'handed': 2596, \"'til\": 2597, 'yer': 2598, '84199': 2599, 'box39822': 2600, 'w111wx': 2601, \"blake's\": 2602, 'smoking': 2603, 'dai': 2604, 'claire': 2605, 'spoken': 2606, 'bathing': 2607, 'diet': 2608, '200': 2609, 'dick': 2610, 'wisdom': 2611, 'box97n7qp': 2612, \"week's\": 2613, 'series': 2614, 'remembered': 2615, 'insha': 2616, 'bay': 2617, '09066362231': 2618, 'nichols': 2619, 'teeth': 2620, 'deliveredtomorrow': 2621, 'turn': 2622, 'fall': 2623, 'giv': 2624, 'response': 2625, 'losing': 2626, 'we\\x89û÷re': 2627, 'soup': 2628, 'fuckin': 2629, 'snake': 2630, 'ansr': 2631, 'tyrone': 2632, 'sheets': 2633, 'chill': 2634, '88066': 2635, '45239': 2636, 'popped': 2637, 'blank': 2638, 'along': 2639, 'gossip': 2640, 'whenevr': 2641, 'citizen': 2642, 'tmrw': 2643, '0871277810810': 2644, 'textbuddy': 2645, 'gaytextbuddy': 2646, '89693': 2647, 'creep': 2648, 'sarasota': 2649, 'tiwary': 2650, 'term': 2651, 'goodnoon': 2652, 'names': 2653, 'avoid': 2654, 'beloved': 2655, 'musthu': 2656, 'flaky': 2657, 'parent': 2658, 'topic': 2659, 'jane': 2660, 'furniture': 2661, 'chances': 2662, 'csh11': 2663, '6days': 2664, 'tsandcs': 2665, 'sian': 2666, 'petrol': 2667, 'neft': 2668, 'beneficiary': 2669, 'dancing': 2670, 'shore': 2671, 'itåõs': 2672, \"weekend's\": 2673, 'spanish': 2674, 'ron': 2675, 'ding': 2676, 'option': 2677, 'lil': 2678, 'papers': 2679, 'ipad': 2680, '447801259231': 2681, '09058094597': 2682, 'bristol': 2683, 'flight': 2684, 'sleepwell': 2685, 'hoped': 2686, 'violated': 2687, 'privacy': 2688, 'paperwork': 2689, 'report': 2690, 'vivek': 2691, 'sinco': 2692, 'payee': 2693, 'icicibank': 2694, 'beware': 2695, 'frauds': 2696, 'disclose': 2697, 'rhythm': 2698, 'responsibility': 2699, 'thread': 2700, 'com1win150ppmx3age16': 2701, 'crisis': 2702, 'raji': 2703, 'favour': 2704, 'wifi': 2705, \"'maangalyam\": 2706, 'alaipayuthe': 2707, 'module': 2708, '165': 2709, 'mnths': 2710, 'di': 2711, 'rich': 2712, 'decisions': 2713, 'coping': 2714, 'individual': 2715, 'nervous': 2716, 'jaya': 2717, \"that'll\": 2718, 'fancies': 2719, 'ben': 2720, 'desert': 2721, 'randomly': 2722, 'loyal': 2723, 'customers': 2724, '09066380611': 2725, \"dat's\": 2726, 'smashed': 2727, 'visionsms': 2728, 'admin': 2729, 'kavalan': 2730, 'subscriber': 2731, 'deciding': 2732, '169': 2733, '6031': 2734, 'worlds': 2735, 'dressed': 2736, 'east': 2737, 'coast': 2738, 'lounge': 2739, 'recovery': 2740, 'welp': 2741, 'include': 2742, 'easily': 2743, 'forgets': 2744, 'nat': 2745, '09061209465': 2746, 'suprman': 2747, 'matrix3': 2748, 'starwars3': 2749, 'eurodisinc': 2750, 'trav': 2751, 'aco': 2752, 'entry41': 2753, 'morefrmmob': 2754, 'shracomorsglsuplt': 2755, 'ls1': 2756, '3aj': 2757, 'å£50': 2758, 'delete': 2759, 'messy': 2760, 'laundry': 2761, 'maintain': 2762, 'avatar': 2763, 'imp': 2764, 'flies': 2765, 'tooo': 2766, \"'simple'\": 2767, 'networks': 2768, 'gamestar': 2769, 'active': 2770, 'å£250k': 2771, 'scoring': 2772, '88088': 2773, 'thgt': 2774, 'fell': 2775, 'knackered': 2776, 'callin': 2777, 'bruv': 2778, 'woulda': 2779, 'ola': 2780, 'wedding': 2781, 'superb': 2782, 'sacrifice': 2783, '0825': 2784, 'reckon': 2785, '440': 2786, 'infront': 2787, 'jackpot': 2788, '81010': 2789, 'dbuk': 2790, 'lccltd': 2791, '4403ldnw1a7rw18': 2792, 'improved': 2793, 'ba': 2794, 'acl03530150pm': 2795, '021': 2796, '3680': 2797, 'unbelievable': 2798, 'hallaq': 2799, 'cheat': 2800, 'legs': 2801, 'housewives': 2802, '0871750': 2803, '77': 2804, 'landlines': 2805, '0844': 2806, '861': 2807, 'prepayment': 2808, 'appreciated': 2809, 'apart': 2810, 'konw': 2811, 'waht': 2812, 'rael': 2813, 'gving': 2814, 'exmpel': 2815, 'jsut': 2816, 'evrey': 2817, 'splleing': 2818, 'wrnog': 2819, 'sitll': 2820, 'raed': 2821, 'wihtuot': 2822, 'ayn': 2823, 'mitsake': 2824, 'serving': 2825, 'reboot': 2826, '08000776320': 2827, 'prepared': 2828, 'msn': 2829, 'gf': 2830, 'china': 2831, 'loxahatchee': 2832, 'burning': 2833, 'apo': 2834, 'mokka': 2835, '09061221066': 2836, 'fromm': 2837, 'woken': 2838, 'dough': 2839, 'fave': 2840, 'force': 2841, 'community': 2842, 'dorm': 2843, 'keys': 2844, 'purse': 2845, 'shining': 2846, 'signing': 2847, 'hppnss': 2848, 'sorrow': 2849, 'goodfriend': 2850, 'attached': 2851, '447797706009': 2852, 'careers': 2853, 'costing': 2854, '300p': 2855, '24hrs': 2856, 'coin': 2857, 'ls15hb': 2858, 'tee': 2859, 'beg': 2860, 'clear': 2861, 'gods': 2862, 'posts': 2863, 'abta': 2864, '326': 2865, 'refilled': 2866, 'inr': 2867, 'keralacircle': 2868, 'prepaid': 2869, 'kr': 2870, 'subs16': 2871, '1win150ppmx3': 2872, 'spring': 2873, 'protect': 2874, 'sib': 2875, 'sensitive': 2876, 'passwords': 2877, 'norm': 2878, 'evry': 2879, '\\rham': 2880, 'sleepin': 2881, 'duchess': 2882, '008704050406': 2883, '09058091854': 2884, 'box385': 2885, 'm6': 2886, '6wu': 2887, 'fa': 2888, '21st': 2889, '2005': 2890, 'violence': 2891, 'fret': 2892, 'ovulation': 2893, 'inch': 2894, 'soul': 2895, 'loose': 2896, 'reminding': 2897, 'adoring': 2898, 'oni': 2899, 'gibbs': 2900, 'makin': 2901, 'cookies': 2902, '69669': 2903, 'nowadays': 2904, 'mcat': 2905, 'probs': 2906, 'property': 2907, 'ebay': 2908, 'breathe': 2909, 'easier': 2910, 'regret': 2911, 'castor': 2912, 'annie': 2913, 'caroline': 2914, 'wrote': 2915, '2007': 2916, 'tap': 2917, 'spile': 2918, 'broad': 2919, 'canal': 2920, 'eating': 2921, 'dresser': 2922, 'setting': 2923, 'definite': 2924, 'dokey': 2925, 'sorting': 2926, '08719181513': 2927, 'prolly': 2928, 'lib': 2929, '09061213237': 2930, 'luxury': 2931, 'canary': 2932, '177': 2933, 'm227xy': 2934, \"guy's\": 2935, 'slice': 2936, 'lou': 2937, 'bang': 2938, 'honeybee': 2939, 'sweetest': 2940, 'laughed': 2941, 'havnt': 2942, 'crack': 2943, 'jokes': 2944, '69698': 2945, 'idk': 2946, 'heads': 2947, 'freedom': 2948, 'edge': 2949, 'meal': 2950, 'dining': 2951, 'asp': 2952, 'regular': 2953, 'luvs': 2954, 'flirting': 2955, 'knowing': 2956, 'lov': 2957, 'mistakes': 2958, 'whr': 2959, 'shu': 2960, 'uh': 2961, 'tnc': 2962, 'necessarily': 2963, 'respectful': 2964, 'pobox45w2tg150p': 2965, 'rec': 2966, '7ish': 2967, 'acted': 2968, '12mths': 2969, 'mth': 2970, 'somtimes': 2971, 'occupy': 2972, 'biggest': 2973, 'hearts': 2974, 'opinions': 2975, 'celeb': 2976, 'pocketbabe': 2977, 'tsunamis': 2978, 'explicit': 2979, 'secs': 2980, '02073162414': 2981, 'dime': 2982, 'practical': 2983, 'advise': 2984, 'recent': 2985, 'å£1500': 2986, 'ppl': 2987, 'bottom': 2988, 'event': 2989, 'scold': 2990, 'amongst': 2991, 'remembr': 2992, '630': 2993, 'trade': 2994, 'pap': 2995, 'elaine': 2996, 'aww': 2997, 'yelling': 2998, '2marrow': 2999, 'treated': 3000, 'wear': 3001, 'invite': 3002, 'colours': 3003, 'euro': 3004, 'upload': 3005, 'paragon': 3006, 'confused': 3007, 'reverse': 3008, 'cheating': 3009, 'mathematics': 3010, 'bringing': 3011, 'racing': 3012, 'rice': 3013, 'kills': 3014, 'spare': 3015, 'borrow': 3016, 'mandan': 3017, 'tues': 3018, 'drunken': 3019, 'talent': 3020, 'superior': 3021, 'department': 3022, 'waheed': 3023, 'conform': 3024, 'nd': 3025, 'parco': 3026, 'nb': 3027, 'dippeditinadew': 3028, 'lovingly': 3029, 'itwhichturnedinto': 3030, 'gifted': 3031, 'tomeandsaid': 3032, 'feet': 3033, 'causing': 3034, 'thx': 3035, 'jeans': 3036, 'potter': 3037, 'phoenix': 3038, 'harry': 3039, 'readers': 3040, 'moving': 3041, 'nasty': 3042, 'joanna': 3043, 'usb': 3044, 'flash': 3045, 'bc': 3046, 'island': 3047, 'traffic': 3048, 'foley': 3049, 'prizes': 3050, '82050': 3051, 'falls': 3052, 'sar': 3053, 'telephone': 3054, 'staff': 3055, 'useful': 3056, '08006344447': 3057, 'responding': 3058, 'diwali': 3059, 'certainly': 3060, 'denis': 3061, 'block': 3062, 'howard': 3063, 'japanese': 3064, 'proverb': 3065, 'fightng': 3066, 'dificult': 3067, 'whose': 3068, 'proof': 3069, 'tool': 3070, 'outstanding': 3071, 'propsd': 3072, 'gv': 3073, 'lv': 3074, 'lttrs': 3075, 'threw': 3076, 'thm': 3077, 'aproach': 3078, 'dt': 3079, 'truck': 3080, 'speeding': 3081, \"'hw\": 3082, 'cn': 3083, 'thy': 3084, 'lived': 3085, 'happily': 3086, '2gthr': 3087, 'evrydy': 3088, 'mails': 3089, 'bids': 3090, 'partnership': 3091, 'invest': 3092, 'wud': 3093, 'chart': 3094, 'bhaji': 3095, 'cricketer': 3096, 'skyped': 3097, 'kz': 3098, 'given': 3099, 'ultimatum': 3100, 'countin': 3101, 'aburo': 3102, 'nap': 3103, 'philosophy': 3104, 'granite': 3105, 'explosive': 3106, 'nasdaq': 3107, 'cdgt': 3108, 'mids': 3109, 'pickle': 3110, 'miserable': 3111, 'fran': 3112, 'ps': 3113, 'madam': 3114, 'rgds': 3115, 'excuses': 3116, 'dislikes': 3117, 'med': 3118, 'popcorn': 3119, 'kiosk': 3120, 'finishing': 3121, '09058094599': 3122, 'drinkin': 3123, 'noun': 3124, 'dark': 3125, 'sake': 3126, 'faith': 3127, 'appt': 3128, 'value': 3129, 'continue': 3130, '89070': 3131, 'os': 3132, 'installing': 3133, 'repair': 3134, '2waxsto': 3135, 'major': 3136, 'tirunelvali': 3137, 'curious': 3138, 'wan2': 3139, 'westlife': 3140, 'm8': 3141, 'unbreakable': 3142, 'untamed': 3143, 'unkempt': 3144, '83049': 3145, 'ericsson': 3146, 'screamed': 3147, 'convincing': 3148, 'wrc': 3149, 'rally': 3150, 'lucozade': 3151, 'le': 3152, 'panic': 3153, 'thoughts': 3154, 'cares': 3155, 'shorter': 3156, 'tension': 3157, 'innocent': 3158, 'edison': 3159, 'rightly': 3160, 'viva': 3161, 'ms': 3162, 'si': 3163, 'textpod': 3164, 'taste': 3165, 'curry': 3166, 'incredible': 3167, 'o2fwd': 3168, '18p': 3169, 'beneath': 3170, 'pale': 3171, 'potato': 3172, 'mca': 3173, 'calculation': 3174, 'language': 3175, 'blind': 3176, 'beauty': 3177, 'pimples': 3178, 'approx': 3179, 'hubby': 3180, 'dan': 3181, 'fan': 3182, 'pool': 3183, 'airtel': 3184, 'avoiding': 3185, 'joining': 3186, '89555': 3187, 'textoperator': 3188, \"month's\": 3189, 'ow': 3190, 'gastroenteritis': 3191, 'replace': 3192, 'reduce': 3193, 'limiting': 3194, 'illness': 3195, 'frog': 3196, 'horo': 3197, 'followed': 3198, 'star': 3199, \"there're\": 3200, 'enuff': 3201, 'mb': 3202, 'fren': 3203, 'expired': 3204, 'spoiled': 3205, 'necklace': 3206, 'didn\\x89û÷t': 3207, 'aunts': 3208, 'nydc': 3209, 'broken': 3210, '2mrw': 3211, 'sumthin': 3212, 'habit': 3213, 'nan': 3214, '09065174042': 3215, '07821230901': 3216, 'hor': 3217, 'delhi': 3218, 'format': 3219, 'å£5': 3220, 'arm': 3221, 'survey': 3222, 'slide': 3223, 'roommates': 3224, 'bet': 3225, 'lyfu': 3226, 'lyf': 3227, 'ali': 3228, 'ke': 3229, 'meow': 3230, 'becomes': 3231, 'follow': 3232, 'lotta': 3233, 'lately': 3234, 'piece': 3235, 'expression': 3236, 'ful': 3237, 'irritating': 3238, 'båõday': 3239, 'receivea': 3240, '09061701461': 3241, 'kl341': 3242, 'shesil': 3243, 'prince': 3244, 'simpler': 3245, 'kidding': 3246, 'boye': 3247, 'kothi': 3248, 'print': 3249, 'waves': 3250, 'clearing': 3251, 'deleted': 3252, '2geva': 3253, 'halloween': 3254, 'sh': 3255, 'ias': 3256, '31': 3257, 'clever': 3258, 'aiya': 3259, 'leona': 3260, 'mesages': 3261, 'twenty': 3262, 'sweetheart': 3263, 'cuddling': 3264, 'sptv': 3265, 'detroit': 3266, 'pattern': 3267, 'student': 3268, 'mmmmmm': 3269, 'pull': 3270, 'management': 3271, '10k': 3272, '5k': 3273, '09064011000': 3274, 'cr01327bt': 3275, 'fixedline': 3276, 'indicate': 3277, '80086': 3278, 'txttowin': 3279, 'public': 3280, 'govt': 3281, 'instituitions': 3282, 'bird': 3283, 'lf56': 3284, 'l': 3285, '09061744553': 3286, 'polyh': 3287, 'complaint': 3288, 'oooh': 3289, 'ey': 3290, '872': 3291, 'pie': 3292, 'wnt': 3293, 'bmw': 3294, 'urgently': 3295, 'shortage': 3296, 'source': 3297, 'arng': 3298, 'cuddle': 3299, 'removed': 3300, '83222': 3301, 'fujitsu': 3302, '69696': 3303, 'cooked': 3304, 'upstairs': 3305, 'swoop': 3306, 'easter': 3307, 'hahaha': 3308, 'brain': 3309, 'pandy': 3310, 'filthy': 3311, 'lk': 3312, 'dave': 3313, 'restaurant': 3314, 'poker': 3315, 'msging': 3316, 'abj': 3317, 'shocking': 3318, 'ikea': 3319, 'faggy': 3320, 'secretary': 3321, 'blessing': 3322, 'literally': 3323, 'count': 3324, 'division': 3325, 'push': 3326, 'xxxxx': 3327, 'steve': 3328, '3100': 3329, 'silver': 3330, 'headin': 3331, 'seconds': 3332, 'warning': 3333, \"jay's\": 3334, 'flip': 3335, '15': 3336, 'ques': 3337, 'suits': 3338, 'bar': 3339, '08718738001': 3340, '8077': 3341, \"parents'\": 3342, 'fab': 3343, 'wks': 3344, 'eighth': 3345, 'rewarding': 3346, '09058099801': 3347, 'b4190604': 3348, '7876150ppm': 3349, 'anna': 3350, 'nagar': 3351, 'transfr': 3352, 'en': 3353, 'sorted': 3354, 'carry': 3355, 'disturbing': 3356, 'bags': 3357, 'bills': 3358, 'ship': 3359, 'capital': 3360, 'å£6': 3361, 'speed': 3362, 'speedchat': 3363, '09066350750': 3364, 'tscs': 3365, 'idew': 3366, 'skillgame': 3367, '1winaweek': 3368, '150ppermesssubscription': 3369, 'killing': 3370, 'gist': 3371, 'doggy': 3372, 'ground': 3373, 'fringe': 3374, 'distract': 3375, 'blu': 3376, 'smsco': 3377, 'auto': 3378, 'building': 3379, 'åð': 3380, 'selfish': 3381, 'processed': 3382, 'revision': 3383, 'lux': 3384, 'cappuccino': 3385, 'field': 3386, 'sary': 3387, 'prof': 3388, 'sem': 3389, 'low': 3390, 'wee': 3391, 'west': 3392, 'haiz': 3393, 'cutting': 3394, 'mostly': 3395, 'piss': 3396, 'puttin': 3397, 'anythin': 3398, 'genuine': 3399, '100percent': 3400, 'chocolate': 3401, 'phoned': 3402, 'transport': 3403, 'booking': 3404, 'discreet': 3405, 'mahal': 3406, 'kb': 3407, 'slp': 3408, 'muah': 3409, 'realise': 3410, 'custom': 3411, 'form': 3412, 'clark': 3413, 'utter': 3414, 'plm': 3415, 'prescription': 3416, 'interest': 3417, 'mmmmm': 3418, 'tight': 3419, 'lions': 3420, 'lionm': 3421, 'lionp': 3422, 'loans': 3423, 'loveme': 3424, 'pours': 3425, 'sum1': 3426, 'lip': 3427, 'exhaust': 3428, 'cleaning': 3429, 'morphine': 3430, 'swatch': 3431, 'yunny': 3432, 'slots': 3433, 'rumour': 3434, 'aunty': 3435, 'ibhltd': 3436, 'ldnw15h': 3437, 'frying': 3438, 'pan': 3439, '21870000': 3440, 'mailbox': 3441, 'messaging': 3442, '09056242159': 3443, 'retrieve': 3444, 'constant': 3445, 'cared': 3446, 'affair': 3447, 'moves': 3448, 'slip': 3449, 'realize': 3450, '40': 3451, 'thousands': 3452, 'boat': 3453, 'educational': 3454, 'moments': 3455, 'belive': 3456, 'nic': 3457, 'eastenders': 3458, 'compare': 3459, 'herself': 3460, 'violet': 3461, 'tulip': 3462, 'lily': 3463, 'wkent': 3464, '150p16': 3465, 'disconnect': 3466, \"'terrorist'\": 3467, 'itz': 3468, 'confirmd': 3469, 'verified': 3470, 'cnn': 3471, 'ibn': 3472, 'dearer': 3473, 'control': 3474, 'tease': 3475, 'prey': 3476, 'devouring': 3477, 'ideas': 3478, 'jamster': 3479, 'wallpaper': 3480, '88888': 3481, 'removal': 3482, '08708034412': 3483, 'bluff': 3484, 'callfreefone': 3485, '08081560665': 3486, 'cruise': 3487, 'ofå£2000': 3488, '07786200117': 3489, 'evenings': 3490, 'h': 3491, 'oic': 3492, 'scores': 3493, 'application': 3494, 'schools': 3495, 'ideal': 3496, 'front': 3497, 'renewal': 3498, 'sathya': 3499, 'rang': 3500, 'lido': 3501, 'items': 3502, 'northampton': 3503, 'wishin': 3504, 'weirdest': 3505, '85069': 3506, 'usher': 3507, 'britney': 3508, 'lifetime': 3509, 'christ': 3510, 'hardly': 3511, 'm26': 3512, '3uz': 3513, 'lush': 3514, 'realized': 3515, 'jerry': 3516, 'irritates': 3517, 'fails': 3518, 'lays': 3519, 'success': 3520, 'onwards': 3521, '1030': 3522, '7250': 3523, 'youre': 3524, 'turning': 3525, 'telugu': 3526, 'stars': 3527, 'peaceful': 3528, 'named': 3529, 'sarcasm': 3530, '08718726270': 3531, 'develop': 3532, 'jd': 3533, 'accounts': 3534, 'vodka': 3535, 'bec': 3536, 'juan': 3537, 'exeter': 3538, 'henry': 3539, 'blur': 3540, 'jobs': 3541, 'subscribed': 3542, '84128': 3543, '0776xxxxxxx': 3544, 'propose': 3545, \"1000's\": 3546, 'bloke': 3547, 'zoe': 3548, 'chatting': 3549, 'mis': 3550, 'filled': 3551, 'invaders': 3552, 'orig': 3553, 'console': 3554, 'poem': 3555, 'cheer': 3556, 'vomiting': 3557, 'figures': 3558, 'goodo': 3559, 'argh': 3560, 'claims': 3561, '13': 3562, 'galileo': 3563, 'kicks': 3564, 'gorgeous': 3565, 'charles': 3566, 'earn': 3567, 'calm': 3568, 'up4': 3569, 'tomorro': 3570, 'competition': 3571, '09061743386': 3572, 'guessing': 3573, 'fire': 3574, 'pride': 3575, 'kid': 3576, 'wkg': 3577, 'modules': 3578, 'attend': 3579, 'indyarocks': 3580, 'pop': 3581, 'forgiven': 3582, 'hm': 3583, '2p': 3584, \"1's\": 3585, 'drpd': 3586, 'deeraj': 3587, 'deepak': 3588, '2000': 3589, '08712402050': 3590, '10ppm': 3591, 'ag': 3592, 'promo': 3593, 'licks': 3594, 'lion': 3595, 'andros': 3596, '07781482378': 3597, 'dealing': 3598, 'clearly': 3599, 'hon': 3600, 'xxxmobilemovieclub': 3601, 'mumtaz': 3602, \"mumtaz's\": 3603, 'minmoremobsemspobox45po139wa': 3604, 'cashto': 3605, '08000407165': 3606, 'getstop': 3607, '88222': 3608, 'php': 3609, '08712101358': 3610, '8am': 3611, 'farm': 3612, 'cheese': 3613, '09066612661': 3614, 'lick': 3615, 'cld': 3616, 'aunt': 3617, 'birla': 3618, 'soft': 3619, '61610': 3620, '08712400602450p': 3621, 'tones2you': 3622, 'buffet': 3623, '220': 3624, 'cm2': 3625, 'manage': 3626, 'hlp': 3627, '08712317606': 3628, 'msg150p': 3629, '2rcv': 3630, 'nok': 3631, 'clothes': 3632, 'yor': 3633, 'shld': 3634, 'relatives': 3635, 'sufficient': 3636, 'lookatme': 3637, 'repeat': 3638, 'tests': 3639, 'sleepy': 3640, 'jolly': 3641, 'gain': 3642, 'misbehaved': 3643, 'scrounge': 3644, 'sooooo': 3645, 'hospitals': 3646, 'sue': 3647, 'nitros': 3648, 'u4': 3649, '8552': 3650, 'instructions': 3651, '69888': 3652, 'indeed': 3653, 'finance': 3654, 'inform': 3655, '4fil': 3656, 'filling': 3657, 'birthdate': 3658, 'subpoly': 3659, '81618': 3660, 'billion': 3661, 'classes': 3662, 'administrator': 3663, 'reasonable': 3664, 'holy': 3665, 'sac': 3666, 'hundred': 3667, 'buses': 3668, 'silently': 3669, 'drms': 3670, 'sends': 3671, 'owns': 3672, '153': 3673, '26th': 3674, '5pm': 3675, '31p': 3676, 'mummy': 3677, 'depressed': 3678, 'wind': 3679, 'craziest': 3680, 'neck': 3681, 'premier': 3682, '674': 3683, 'pre': 3684, 'queen': 3685, 'banks': 3686, 'differ': 3687, 'nahi': 3688, 'zindgi': 3689, 'wo': 3690, 'jo': 3691, 'billed': 3692, 'effect': 3693, 'polo': 3694, '373': 3695, 'w1j': 3696, '6hl': 3697, 'location': 3698, 'sales': 3699, 'bein': 3700, 'taylor': 3701, 'worst': 3702, 'gaps': 3703, '08709222922': 3704, '8p': 3705, 'peak': 3706, 'mila': 3707, 'age23': 3708, 'blonde': 3709, 'mtalk': 3710, '69866': 3711, '30pp': 3712, '5free': 3713, 'increments': 3714, 'help08718728876': 3715, 'avent': 3716, 'surprised': 3717, 'rcv': 3718, '2wks': 3719, 'lag': 3720, 'toot': 3721, '0578': 3722, 'gent': 3723, '09064012160': 3724, 'k52': 3725, 'hip': 3726, 'electricity': 3727, '80878': 3728, 'bedrm': 3729, 'crash': 3730, 'aeronautics': 3731, 'professors': 3732, 'calld': 3733, 'aeroplane': 3734, 'hurried': 3735, 'jacket': 3736, 'creepy': 3737, 'dracula': 3738, 'ghost': 3739, 'addamsfa': 3740, 'munsters': 3741, 'exorcist': 3742, 'twilight': 3743, '09050001808': 3744, 'm95': 3745, \"priscilla's\": 3746, 'unnecessarily': 3747, 'sells': 3748, 'explain': 3749, 'officially': 3750, 'dear1': 3751, 'best1': 3752, 'clos1': 3753, 'lvblefrnd': 3754, 'jstfrnd': 3755, 'cutefrnd': 3756, 'lifpartnr': 3757, 'swtheart': 3758, 'bstfrnd': 3759, 'ic': 3760, 'recharge': 3761, 'british': 3762, 'hotels': 3763, 'dial': 3764, 'sw73ss': 3765, 'dollar': 3766, 'calicut': 3767, '82468': 3768, 'peace': 3769, 'blessed': 3770, 'kegger': 3771, '09061221061': 3772, '28days': 3773, 'box177': 3774, 'm221bp': 3775, '2yr': 3776, 'warranty': 3777, 'på£3': 3778, '99': 3779, 'slippers': 3780, 'shoving': 3781, 'boyfriend': 3782, 'wave': 3783, 'everyday': 3784, 'garbage': 3785, 'foreign': 3786, 'stamps': 3787, 'solved': 3788, 'annoying': 3789, 'kent': 3790, 'vale': 3791, 'church': 3792, 'x49': 3793, '09065989182': 3794, 'smart': 3795, 'å£33': 3796, 'kay': 3797, 'toa': 3798, 'payoh': 3799, 'fair': 3800, 'dance': 3801, 'planet': 3802, 'aom': 3803, 'alwys': 3804, 'cme': 3805, 'everybody': 3806, '27': 3807, 'pt2': 3808, 'driver': 3809, 'ee': 3810, '08700621170150p': 3811, 'å£1250': 3812, '09071512433': 3813, '050703': 3814, 'csbcm4235wc1n3xx': 3815, 'callcost': 3816, 'mobilesvary': 3817, 'maxå£7': 3818, 'connections': 3819, 'mega': 3820, 'celebration': 3821, '700': 3822, 'nothin': 3823, 'thot': 3824, 'responce': 3825, 'happend': 3826, '2find': 3827, 'record': 3828, 'penis': 3829, '41685': 3830, '07': 3831, 'ganesh': 3832, 'raj': 3833, 'math': 3834, 'vegas': 3835, 'stays': 3836, 'wasted': 3837, 'applebees': 3838, 'gr8prizes': 3839, 'forms': 3840, 'birth': 3841, 'massive': 3842, 'tok': 3843, 'science': 3844, 'sunlight': 3845, 'odi': 3846, 'stores': 3847, 'egg': 3848, 'tortilla': 3849, 'meets': 3850, 'maturity': 3851, 'actual': 3852, 'ability': 3853, 'everywhere': 3854, 'windows': 3855, 'flowing': 3856, 'joy': 3857, 'trains': 3858, 'bigger': 3859, '2stoptxt': 3860, 'lock': 3861, 'completed': 3862, 'vth': 3863, 'eveb': 3864, 'tlp': 3865, 'river': 3866, 'adventure': 3867, 'born': 3868, 'jsco': 3869, 'greatest': 3870, 'courage': 3871, 'bear': 3872, 'defeat': 3873, '1hr': 3874, 'desparate': 3875, 'hsbc': 3876, 'conducts': 3877, 'sux': 3878, 'trips': 3879, 'staring': 3880, 'ruining': 3881, 'ad': 3882, '121': 3883, '88877': 3884, 'bleh': 3885, 'hrishi': 3886, '4d': 3887, 'minimum': 3888, 'kaiez': 3889, 'payment': 3890, 'buzy': 3891, 'lucy': 3892, 'jia': 3893, 'main': 3894, 'n9dx': 3895, 'commercial': 3896, 'california': 3897, 'stayin': 3898, 'lies': 3899, 'aka': 3900, 'fights': 3901, 'fastest': 3902, 'growing': 3903, 'tons': 3904, '07742676969': 3905, '08719180248': 3906, 'postcard': 3907, 'clock': 3908, 'gbp': 3909, 'difference': 3910, 'mental': 3911, 'mmmm': 3912, 'doubt': 3913, 'nalla': 3914, '09066364311': 3915, 'chest': 3916, 'infections': 3917, 'bone': 3918, '07734396839': 3919, 'ibh': 3920, 'nokia6600': 3921, 'quiet': 3922, 'helen': 3923, 'in2': 3924, 'jolt': 3925, 'suzy': 3926, 'reminder': 3927, 'downloaded': 3928, 'canada': 3929, 'reg': 3930, 'agalla': 3931, 'closes': 3932, 'txt82228': 3933, 'hurting': 3934, 'opening': 3935, 'petey': 3936, 'knock': 3937, '09061790121': 3938, 'favorite': 3939, 'stomach': 3940, 'flame': 3941, 'fit': 3942, 'funky': 3943, 'railway': 3944, '8pm': 3945, 'satisfy': 3946, 'mag': 3947, 'fake': 3948, 'constantly': 3949, 'ear': 3950, 'chillin': 3951, 'table': 3952, 'stick': 3953, 'lovers': 3954, 'size': 3955, 'sweetie': 3956, 'convinced': 3957, 'foot': 3958, 'sender': 3959, 'range': 3960, 'desires': 3961, 'mystery': 3962, 'swiss': 3963, 'crore': 3964, 'politicians': 3965, 'rights': 3966, '910': 3967, 'bears': 3968, 'yellow': 3969, 'thurs': 3970, 'correction': 3971, 'fo': 3972, 'randy': 3973, 'difficulties': 3974, 'reality': 3975, 'slo': 3976, 'academic': 3977, \"'melle\": 3978, 'melle': 3979, 'minnaminunginte': 3980, 'nurungu': 3981, 'vettam': 3982, 'error': 3983, 'spider': 3984, 'demand': 3985, 'bootydelious': 3986, 'cancelled': 3987, 'woot': 3988, 'goldviking': 3989, '762': 3990, 'theres': 3991, 'fffff': 3992, '08715500022': 3993, 'rpl': 3994, 'cnl': 3995, '09066368753': 3996, '97n7qp': 3997, 'orh': 3998, 'headset': 3999, 'adp': 4000, 'punj': 4001, 'hiding': 4002, 'aptitude': 4003, '54': 4004, 'resubmit': 4005, 'expiry': 4006, \"l'm\": 4007, 'name1': 4008, 'name2': 4009, 'mobno': 4010, 'adam': 4011, '07123456789': 4012, 'txtno': 4013, 'ads': 4014, 'tp': 4015, 'missunderstding': 4016, \"one's\": 4017, 'totes': 4018, 'limited': 4019, 'studies': 4020, 'anyones': 4021, 'icic': 4022, \"it'snot\": 4023, \"child's\": 4024, 'unintentional': 4025, 'nonetheless': 4026, 'lst': 4027, 'foned': 4028, 'chuck': 4029, 'pink': 4030, 'hooked': 4031, 'decades': 4032, 'goverment': 4033, 'expects': 4034, 'jeremiah': 4035, 'ccna': 4036, 'annoncement': 4037, '07046744435': 4038, 'cereals': 4039, 'gari': 4040, \"'rencontre'\": 4041, 'mountains': 4042, 'ooh': 4043, '4got': 4044, 'moseley': 4045, 'weds': 4046, \"anybody's\": 4047, 'tactful': 4048, 'someday': 4049, 'cupboard': 4050, 'kfc': 4051, 'meals': 4052, 'gravy': 4053, 'ree': 4054, 'canåõt': 4055, 'isnåõt': 4056, 'shite': 4057, 'kip': 4058, '09050000332': 4059, 'rstm': 4060, 'sw7': 4061, '3ss': 4062, 'popping': 4063, 'ibuprofens': 4064, 'stitch': 4065, 'trouser': 4066, 'tai': 4067, 'feng': 4068, 'reservations': 4069, 'cosign': 4070, 'agree': 4071, 'guild': 4072, '087123002209am': 4073, 'regretted': 4074, 'evaporated': 4075, 'stealing': 4076, \"employer's\": 4077, 'srsly': 4078, 'yi': 4079, 'mittelschmertz': 4080, 'paracetamol': 4081, 'audiitions': 4082, 'relocate': 4083, 'exorcism': 4084, 'emily': 4085, 'hugs': 4086, 'snogs': 4087, 'establish': 4088, 'rules': 4089, 'bend': 4090, 'thia': 4091, 'inlude': 4092, 'previews': 4093, 'phasing': 4094, 'fourth': 4095, 'dimension': 4096, '08712402902': 4097, 'das': 4098, 'iknow': 4099, 'wellda': 4100, 'peril': 4101, 'studentfinancial': 4102, '07099833605': 4103, '9280114': 4104, 'brainy': 4105, 'resizing': 4106, 'gotto': 4107, '220cm2': 4108, 'performance': 4109, 'calculated': 4110, 'completing': 4111, \"valentine's\": 4112, '69101': 4113, 'rtf': 4114, 'sphosting': 4115, 'cultures': 4116, 'natalie': 4117, 'natalie2k9': 4118, 'continent': 4119, 'wavering': 4120, 'heal': 4121, '45pm': 4122, 'secretly': 4123, '09065394514': 4124, 'datebox1282essexcm61xn': 4125, 'salad': 4126, 'beers': 4127, '09066361921': 4128, 'chloe': 4129, 'upping': 4130, 'grams': 4131, 'selflessness': 4132, 'lifting': 4133, 'gopalettan': 4134, 'participate': 4135, 'olympics': 4136, \"how're\": 4137, 'throwing': 4138, 'aldrine': 4139, 'rtm': 4140, 'baaaaaaaabe': 4141, 'el': 4142, 'nino': 4143, 'himself': 4144, 'hearin': 4145, 'such': 4146, 'oooooh': 4147, 'onluy': 4148, 'matters': 4149, 'offcampus': 4150, 'chastity': 4151, 'device': 4152, 'beatings': 4153, 'cooped': 4154, 'styles': 4155, 'semiobscure': 4156, '09071517866': 4157, '150ppmpobox10183bhamb64xe': 4158, '09095350301': 4159, 'erotic': 4160, 'ecstacy': 4161, 'whatsup': 4162, 'dessert': 4163, 'intentions': 4164, 'ortxt': 4165, 'u\\x89ûªve': 4166, 'instant': 4167, '08715203028': 4168, '9th': 4169, 'tag': 4170, 'underwear': 4171, 'bras': 4172, 'strewn': 4173, 'pillows': 4174, 'cr': 4175, 'hittng': 4176, 'reflex': 4177, 'seekers': 4178, 'distance': 4179, 'associate': 4180, 'soc': 4181, 'byatch': 4182, 'whassup': 4183, 'ammae': 4184, 'steering': 4185, 'nordstrom': 4186, 'treasure': 4187, 'clash': 4188, 'dreading': 4189, 'thou': 4190, 'punto': 4191, 'settling': 4192, 'happenin': 4193, 'lingerie': 4194, 'bridal': 4195, 'petticoatdreams': 4196, 'weddingfriend': 4197, 'eightish': 4198, 'carpark': 4199, 'natalja': 4200, 'nat27081980': 4201, 'nigro': 4202, 'x29': 4203, '09065989180': 4204, 'dehydrated': 4205, \"finn's\": 4206, 'dice': 4207, '078': 4208, 'freaky': 4209, 'gua': 4210, 'faber': 4211, 'arithmetic': 4212, 'percentages': 4213, 'hvae': 4214, '09061701444': 4215, '28thfeb': 4216, 'faglord': 4217, 'saeed': 4218, 'telediscount': 4219, 'semi': 4220, 'split': 4221, 'pisces': 4222, 'aquarius': 4223, 'describe': 4224, 'spoil': 4225, 'finalise': 4226, \"dobby's\": 4227, 'drivby': 4228, '0quit': 4229, 'edrunk': 4230, 'iff': 4231, 'pthis': 4232, 'senrd': 4233, 'dnot': 4234, 'dancce': 4235, 'drum': 4236, 'basq': 4237, 'ihave': 4238, '2nhite': 4239, 'ros': 4240, 'xxxxxxx': 4241, 'neshanth': 4242, 'thout': 4243, 'cheetos': 4244, 'noisy': 4245, 'newspapers': 4246, 'broth': 4247, 'ramen': 4248, 'lacking': 4249, 'particular': 4250, \"dramastorm's\": 4251, 'yavnt': 4252, 'spun': 4253, 'wrld': 4254, 'desperate': 4255, 'nte': 4256, 'wondar': 4257, 'flim': 4258, 'liquor': 4259, 'loko': 4260, 'okies': 4261, 'printer': 4262, 'groovy': 4263, 'groovying': 4264, 'toyota': 4265, 'camry': 4266, \"olayiwola's\": 4267, 'mileage': 4268, 'landing': 4269, 'sao': 4270, 'massages': 4271, 'oil': 4272, 'position': 4273, 'sq825': 4274, 'arrival': 4275, 'lengths': 4276, 'behalf': 4277, 'stunning': 4278, 'efficient': 4279, 'iraq': 4280, 'afghanistan': 4281, 'stable': 4282, 'honest': 4283, 'traveling': 4284, 'phone750': 4285, 'folks': 4286, 'ystrday': 4287, 'maps': 4288, 'snap': 4289, 'quizclub': 4290, '80122300p': 4291, 'rwm': 4292, '08704050406': 4293, 'stability': 4294, 'tranquility': 4295, 'vibrant': 4296, 'colourful': 4297, 'ana': 4298, 'sathy': 4299, 'rto': 4300, 'ceri': 4301, 'rebel': 4302, 'dreamz': 4303, 'buddy': 4304, 'blokes': 4305, 'fps': 4306, 'maths': 4307, 'chapter': 4308, 'splashmobile': 4309, 'subscrition': 4310, 'treats': 4311, 'necessary': 4312, '69855': 4313, 'stopbcm': 4314, 'sf': 4315, 'choices': 4316, 'toss': 4317, 'gudni8': 4318, '09058097189': 4319, 'cheery': 4320, 'cloth': 4321, 'strongly': 4322, 'creativity': 4323, 'stifled': 4324, '515': 4325, 'approve': 4326, 'panalam': 4327, 'detailed': 4328, '09061743810': 4329, 'alternative': 4330, \"term's\": 4331, 'tightly': 4332, 'shadow': 4333, 'hillsborough': 4334, 'w4': 4335, '5wq': 4336, 'emotion': 4337, 'prayrs': 4338, 'othrwise': 4339, 'pocay': 4340, 'wocay': 4341, '4eva': 4342, '2morrowxxxx': 4343, 'repent': 4344, 'chic': 4345, 'declare': 4346, 'hairdressers': 4347, 'beforehand': 4348, \"ryan's\": 4349, 'fones': 4350, 'wild': 4351, 'stop2stop': 4352, \"zaher's\": 4353, 'fuuuuck': 4354, 'mornin': 4355, 'thanku': 4356, \"i'ma\": 4357, 'mmmmmmm': 4358, 'snuggles': 4359, 'contented': 4360, 'sigh': 4361, 'whispers': 4362, \"08452810075over18's\": 4363, 'belongs': 4364, 'fated': 4365, 'shoranur': 4366, 'fuelled': 4367, 'concern': 4368, 'prior': 4369, 'grief': 4370, 'strips': 4371, 'postal': 4372, 'predicting': 4373, 'accumulation': 4374, 'compass': 4375, 'gnun': 4376, 'way2sms': 4377, 'hotmail': 4378, 'animal': 4379, 'mike': 4380, 'hussey': 4381, 'asia': 4382, 'weirdy': 4383, 'brownies': 4384, 'crucify': 4385, 'gprs': 4386, 'accessible': 4387, '08709501522': 4388, '139': 4389, 'la3': 4390, '2wu': 4391, 'notixiquating': 4392, 'laxinorficated': 4393, 'bambling': 4394, 'entropication': 4395, 'oblisingately': 4396, 'opted': 4397, 'masteriastering': 4398, 'amplikater': 4399, 'fidalfication': 4400, 'champlaxigating': 4401, 'atrocious': 4402, 'wotz': 4403, 'junna': 4404, 'misplaced': 4405, 'fav': 4406, 'i\\x89ûªm': 4407, 'isn\\x89ûªt': 4408, 'weigh': 4409, 'kitty': 4410, 'shaved': 4411, 'ritten': 4412, 'fold': 4413, 'rats': 4414, 'themes': 4415, 'simpsons': 4416, 'band': 4417, 'plate': 4418, 'leftovers': 4419, 'sth': 4420, 'specs': 4421, 'px3748': 4422, 'tunde': 4423, 'swell': 4424, 'lingo': 4425, '09061749602': 4426, '528': 4427, 'hp20': 4428, '1yf': 4429, 'gong': 4430, 'kaypoh': 4431, 'greece': 4432, 'wknd': 4433, 'stairs': 4434, 'phews': 4435, 'summers': 4436, 'matched': 4437, 'help08714742804': 4438, 'nuerologist': 4439, 'hui': 4440, 'xin': 4441, 'ahold': 4442, 'breadstick': 4443, 'arr': 4444, 'oscar': 4445, 'gailxx': 4446, 'lennon': 4447, 'concerned': 4448, 'gotten': 4449, 'rcb': 4450, 'battle': 4451, 'kochi': 4452, 'accommodation': 4453, 'global': 4454, 'phb1': 4455, '08700435505150p': 4456, 'butting': 4457, 'vs': 4458, 'significant': 4459, \"table's\": 4460, 'occupied': 4461, 'experiencehttp': 4462, 'vouch4me': 4463, 'etlp': 4464, 'arranging': 4465, 'wtlp': 4466, \"textin'\": 4467, 'velachery': 4468, \"tyler's\": 4469, 'minor': 4470, 'coincidence': 4471, 'fired': 4472, 'nevr': 4473, 'unrecognized': 4474, 'somone': 4475, 'valuing': 4476, 'definitly': 4477, 'undrstnd': 4478, 'chuckin': 4479, 'trainners': 4480, 'carryin': 4481, 'bac': 4482, 'scrumptious': 4483, 'singapore': 4484, 'investigate': 4485, 'jontin': 4486, 'bcum': 4487, 'com1win150ppmx3age16subscription': 4488, '09050000928': 4489, 'webpage': 4490, 'tip': 4491, \"aunty's\": 4492, 'jackson': 4493, 'upon': 4494, '2price': 4495, '100txt': 4496, \"b'tooth\": 4497, 'd3wv': 4498, 'postponed': 4499, 'stocked': 4500, 'nver': 4501, 'sheffield': 4502, 'categories': 4503, 'ethnicity': 4504, 'census': 4505, 'transcribing': 4506, '88600': 4507, '087016248': 4508, 'blastin': 4509, 'occur': 4510, 'rajnikant': 4511, 'ocean': 4512, 'sday': 4513, '2years': 4514, 'strain': 4515, '09066364589': 4516, 'wrks': 4517, 'wishlist': 4518, 'section': 4519, 'forums': 4520, 'nitro': 4521, 'db': 4522, 'somewhat': 4523, 'laden': 4524, 'wrecked': 4525, 'afternon': 4526, 'interviews': 4527, 'ambrith': 4528, 'madurai': 4529, 'dha': 4530, 'marrge': 4531, 'stil': 4532, 'fucked': 4533, 'tobed': 4534, '430': 4535, 'doke': 4536, 'laying': 4537, 'related': 4538, 'arul': 4539, 'youphone': 4540, 'athome': 4541, 'youwanna': 4542, 'alle': 4543, 'mone': 4544, 'eppolum': 4545, 'pole': 4546, 'allalo': 4547, 'ela': 4548, 'scrappy': 4549, 'warwick': 4550, 'tmw': 4551, 'canceled': 4552, \"havn't\": 4553, 'adsense': 4554, 'approved': 4555, 'shirts': 4556, 'nudist': 4557, 'themed': 4558, 'teaching': 4559, '3lions': 4560, 'ofcourse': 4561, 'hyde': 4562, 'mel': 4563, 'opps': 4564, \"tt's\": 4565, 'christmassy': 4566, 'horse': 4567, 'court': 4568, 'helens': 4569, 'princes': 4570, 'supplies': 4571, 'plumbers': 4572, 'wrench': 4573, 'restrictions': 4574, 'buddys': 4575, 'darker': 4576, 'styling': 4577, 'oga': 4578, 'hamster': 4579, '1pm': 4580, 'priest': 4581, 'pouch': 4582, 'å£125': 4583, 'freeentry': 4584, 'xt': 4585, 'vijaykanth': 4586, '08714712412': 4587, 'eachother': 4588, 'ours': 4589, 'thkin': 4590, 'loneliness': 4591, 'pouts': 4592, 'stomps': 4593, 'cps': 4594, 'outages': 4595, 'conserve': 4596, 'uniform': 4597, 'åòharry': 4598, 'shanil': 4599, 'exchanged': 4600, 'uncut': 4601, 'diamond': 4602, 'dino': 4603, 'prem': 4604, 'lamp': 4605, 'elvis': 4606, 'presleys': 4607, 'cough': 4608, 'beach': 4609, 'expected': 4610, 'yoyyooo': 4611, 'permissions': 4612, 'mac': 4613, 'judgemental': 4614, 'fridays': 4615, 'sporadically': 4616, 'coimbatore': 4617, 'victoria': 4618, 'call09050000327': 4619, 'tau': 4620, 'piah': 4621, 'woodland': 4622, 'avenue': 4623, 'parish': 4624, 'magazine': 4625, '125gift': 4626, 'mentionned': 4627, 'unconscious': 4628, 'adults': 4629, 'abnormally': 4630, 'sometme': 4631, 'flying': 4632, 'monkeys': 4633, 'mina': 4634, 'armenia': 4635, 'swann': 4636, 'absolutly': 4637, 'washob': 4638, 'nobbing': 4639, 'nickey': 4640, 'platt': 4641, 'useless': 4642, 'spreadsheet': 4643, 'determine': 4644, 'entire': 4645, 'seperated': 4646, '\\x8eö´\\x89ó': 4647, '\\x8bû¬ud': 4648, 'saibaba': 4649, 'colany': 4650, 'pierre': 4651, 'cardin': 4652, 'bot': 4653, 'notes': 4654, 'rupaul': 4655, '2814032': 4656, '3xå£150pw': 4657, 'eå£nd': 4658, 'adjustable': 4659, 'cooperative': 4660, 'allows': 4661, 'gam': 4662, 'symptoms': 4663, 'goods': 4664, 'hmph': 4665, 'baller': 4666, 'creative': 4667, 'above': 4668, 'spys': 4669, 'reliant': 4670, 'funeral': 4671, 'simulate': 4672, 'readiness': 4673, 'heroes': 4674, 'tips': 4675, 'rimac': 4676, 'imin': 4677, 'dontmatter': 4678, 'urgoin': 4679, 'outl8r': 4680, 'dorothy': 4681, 'kiefer': 4682, 'shb': 4683, 'dying': 4684, 'hearing': 4685, 'evaluation': 4686, 'entirely': 4687, '09090204448': 4688, 'minded': 4689, 'aå£1': 4690, 'minapn': 4691, 'ls278bb': 4692, 'grab': 4693, '0089': 4694, 'digits': 4695, '09063442151': 4696, 'select': 4697, 'astrology': 4698, 'anal': 4699, 'safely': 4700, 'pleasured': 4701, 'parking': 4702, 'collapsed': 4703, 'heehee': 4704, 'bowls': 4705, 'disturbance': 4706, 'dlf': 4707, 'premarica': 4708, 'motherfucker': 4709, 'profile': 4710, 'bpo': 4711, '83118': 4712, 'colin': 4713, 'farrell': 4714, 'swat': 4715, 'mre': 4716, 'watever': 4717, 'built': 4718, 'atlast': 4719, 'lonlines': 4720, 'lotz': 4721, 'memories': 4722, 'dancin': 4723, 'uncountable': 4724, 'giggle': 4725, 'possibly': 4726, 'person2die': 4727, 'nvq': 4728, 'teenager': 4729, 'dual': 4730, 'noice': 4731, 'fucks': 4732, 'hesitate': 4733, 'weakness': 4734, 'notebook': 4735, 'dr': 4736, 'brisk': 4737, 'walks': 4738, '07008009200': 4739, 'kvb': 4740, 'sexiest': 4741, 'dirtiest': 4742, 'natwest': 4743, 'tops': 4744, 'ubandu': 4745, 'disk': 4746, 'andrews': 4747, 'shhhhh': 4748, 'rounder': 4749, 'required': 4750, 'reserve': 4751, 'thirunelvali': 4752, 'tackle': 4753, 'lim': 4754, 'showrooms': 4755, 'shaping': 4756, 'lips': 4757, 'positions': 4758, 'kama': 4759, 'sutra': 4760, 'neglect': 4761, '61200': 4762, 'packs': 4763, 'itcould': 4764, 'arguing': 4765, 'commit': 4766, 'surrender': 4767, '08707500020': 4768, 'joys': 4769, 'lifeis': 4770, 'daywith': 4771, 'somewheresomeone': 4772, 'tosend': 4773, 'greeting': 4774, 'gaze': 4775, 'terror': 4776, 'cruel': 4777, 'decent': 4778, 'joker': 4779, '09058095201': 4780, 'appy': 4781, 'fizz': 4782, 'contains': 4783, 'stamped': 4784, '113': 4785, 'bray': 4786, 'wicklow': 4787, 'eire': 4788, 'costumes': 4789, 'yowifes': 4790, 'chk': 4791, 'dict': 4792, 'unconvinced': 4793, 'elaborate': 4794, 'willpower': 4795, 'x2': 4796, '08712402779': 4797, 'como': 4798, 'listened2the': 4799, 'plaid': 4800, 'air1': 4801, 'hilarious': 4802, 'boughtåóbraindanceåóa': 4803, 'ofstuff': 4804, 'aphexåõs': 4805, 'abel': 4806, 'clarify': 4807, 'preponed': 4808, '09066358152': 4809, 'prompts': 4810, 'vpod': 4811, \"dealer's\": 4812, 'impatient': 4813, 'grown': 4814, 'stuffs': 4815, 'designation': 4816, 'developer': 4817, '2nights': 4818, 'uve': 4819, 'wildest': 4820, 'pert': 4821, 'head\\x89û': 4822, \"yetty's\": 4823, 'quarter': 4824, 'units': 4825, 'practicing': 4826, 'accent': 4827, '4years': 4828, 'dental': 4829, 'nmde': 4830, 'waited': 4831, 'rt': 4832, 'pro': 4833, '08701237397': 4834, 'redeemable': 4835, 'rodds1': 4836, 'aberdeen': 4837, 'united': 4838, 'kingdom': 4839, 'img': 4840, 'icmb3cktz8r7': 4841, 'hide': 4842, 'formatting': 4843, 'fiting': 4844, 'load': 4845, 'mj': 4846, 'reminded': 4847, 'adding': 4848, 'zeros': 4849, 'savings': 4850, 'hopefully': 4851, 'bunch': 4852, 'lotto': 4853, 'bbd': 4854, 'pooja': 4855, 'sweatter': 4856, 'engin': 4857, 'craving': 4858, 'shell': 4859, 'unconsciously': 4860, 'unhappy': 4861, 'abstract': 4862, '09058094507': 4863, 'womdarfull': 4864, 'actor': 4865, 'formally': 4866, 'banneduk': 4867, 'g696ga': 4868, 'sculpture': 4869, 'sundayish': 4870, \"they'll\": 4871, 'slurp': 4872, 'axel': 4873, 'akon': 4874, 'eyed': 4875, 'shattered': 4876, 'walsall': 4877, 'tue': 4878, 'terry': 4879, 'rub': 4880, 'flyng': 4881, 'aries': 4882, 'jot': 4883, 'tix': 4884, 'although': 4885, 'baig': 4886, 'watches': 4887, 'bluray': 4888, 'idc': 4889, 'weaseling': 4890, 'drove': 4891, 'grandfather': 4892, 'token': 4893, 'liking': 4894, 'crashing': 4895, 'ringing': 4896, 'houseful': 4897, 'brats': 4898, 'pulling': 4899, 'nighters': 4900, 'persevered': 4901, 'brainless': 4902, 'doll': 4903, 'vehicle': 4904, 'sariyag': 4905, 'madoke': 4906, 'barolla': 4907, 'status': 4908, 'frequently': 4909, 'praveesh': 4910, 'delicious': 4911, '89105': 4912, 'catches': 4913, 'guoyang': 4914, 'starve': 4915, 'withdraw': 4916, 'anyhow': 4917, 'hep': 4918, 'immunisation': 4919, 'anniversary': 4920, 'tarpon': 4921, 'springs': 4922, \"tm'ing\": 4923, 'laughs': 4924, 'reache': 4925, 'wheellock': 4926, 'wildlife': 4927, 'want2come': 4928, 'that2worzels': 4929, 'wizzle': 4930, 'hanks': 4931, 'lotsly': 4932, 'yck': 4933, 'bari': 4934, 'hudgi': 4935, 'yorge': 4936, 'pataistha': 4937, 'ertini': 4938, 'nokia6650': 4939, 'ctxt': 4940, 'mtmsg': 4941, 'bbq': 4942, '6ish': 4943, 'volcanoes': 4944, 'erupt': 4945, 'arise': 4946, 'hurricanes': 4947, 'sway': 4948, 'aroundn': 4949, 'disasters': 4950, 'hunt': 4951, 'thet': 4952, 'skinny': 4953, 'casting': 4954, 'begging': 4955, 'breaker': 4956, 'deluxe': 4957, 'features': 4958, 'graphics': 4959, 'bbdeluxe': 4960, '80160': 4961, 'txt43': 4962, 'jelly': 4963, 'fried': 4964, 'spares': 4965, 'looovvve': 4966, 'receipts': 4967, 'pendent': 4968, 'windy': 4969, 'f4q': 4970, 'yalru': 4971, 'astne': 4972, 'innu': 4973, 'mundhe': 4974, 'halla': 4975, 'bilo': 4976, 'program': 4977, 'edhae': 4978, 'ovr': 4979, 'vargu': 4980, 'corvettes': 4981, 'speaking': 4982, 'sentiment': 4983, 'rowdy': 4984, 'attitude': 4985, 'attractive': 4986, 'evn': 4987, 'evr': 4988, 'atleast': 4989, 'shakespeare': 4990, 'deficient': 4991, 'charming': 4992, '08700469649': 4993, 'box420': 4994, 'passable': 4995, 'phd': 4996, '5years': 4997, 'papa': 4998, 'bani': 4999, 'testing': 5000, 'sayy': 5001, 'torrents': 5002, 'particularly': 5003, 'slowing': 5004, 'torture': 5005, 'marandratha': 5006, 'fox': 5007, 'frndsship': 5008, 'dwn': 5009, 'blogging': 5010, 'magicalsongs': 5011, 'blogspot': 5012, 'sppok': 5013, 'jas': 5014, 'guesses': 5015, 'attach': 5016, 'wrongly': 5017, 'enc': 5018, 'showered': 5019, \"er'ything\": 5020, 'durham': 5021, 'reserved': 5022, 'seat': 5023, 'cthen': 5024, 'conclusion': 5025, 'references': 5026, 'korean': 5027, \"leona's\": 5028, 'plum': 5029, 'smacks': 5030, 'opposite': 5031, 'jersey': 5032, 'devils': 5033, 'wings': 5034, 'hockey': 5035, 'incorrect': 5036, \"harish's\": 5037, 'transfred': 5038, 'acnt': 5039, 'thinl': 5040, 'crap': 5041, 'opposed': 5042, 'iphone': 5043, 'lunchtime': 5044, 'organise': 5045, 'blanked': 5046, \"taylor's\": 5047, 'compensation': 5048, 'attended': 5049, 'purchases': 5050, 'squeezed': 5051, 'payed': 5052, 'suganya': 5053, 'aluable': 5054, 'ffectionate': 5055, 'oveable': 5056, 'ternal': 5057, 'oble': 5058, 'ruthful': 5059, 'ntimate': 5060, 'atural': 5061, 'namous': 5062, 'blowing': 5063, 'browsin': 5064, 'compulsory': 5065, 'amy': 5066, 'derp': 5067, 'abusers': 5068, 'ridden': 5069, '07808726822': 5070, '9758': 5071, 'brolly': 5072, 'franxx': 5073, 'pookie': 5074, 'win150ppmx3age16': 5075, 'nelson': 5076, \"bb's\": 5077, 'shoul': 5078, 'hero': 5079, 'apt': 5080, 'wrkin': 5081, '08': 5082, '4719': 5083, '523': 5084, 'muhommad': 5085, 'penny': 5086, 'voted': 5087, '22': 5088, 'ibm': 5089, 'hp': 5090, 'toshiba': 5091, 'breeze': 5092, 'fresh': 5093, 'twittering': 5094, 'netflix': 5095, 'machines': 5096, 'å£79': 5097, '08704439680ts': 5098, 'submitting': 5099, 'wamma': 5100, 'doggin': 5101, 'dogs': 5102, 'resubbing': 5103, 'otside': 5104, 'forgotten': 5105, 'discussed': 5106, 'salmon': 5107, 'fwiw': 5108, 'afford': 5109, 'didntgive': 5110, 'bellearlier': 5111, 'hectic': 5112, 'olave': 5113, 'mandara': 5114, 'trishul': 5115, 'accenture': 5116, 'mandy': 5117, 'sullivan': 5118, 'hotmix': 5119, 'fm': 5120, '09041940223': 5121, 'transferred': 5122, \"shade's\": 5123, '4w': 5124, 'technologies': 5125, 'ball': 5126, 'spin': 5127, 'confuses': 5128, 'stories': 5129, '3230': 5130, 'textbook': 5131, 'algorithms': 5132, 'edition': 5133, 'fireplace': 5134, 'icon': 5135, 'nosy': 5136, 'reacting': 5137, 'freaked': 5138, '09061743806': 5139, 'box326': 5140, '32000': 5141, 'legitimat': 5142, 'efreefone': 5143, 'dartboard': 5144, 'condition': 5145, 'doubles': 5146, 'trebles': 5147, 'raping': 5148, 'dudes': 5149, 'dump': 5150, 'heap': 5151, 'lowes': 5152, 'engagement': 5153, 'fixd': 5154, 'njan': 5155, 'vilikkam': 5156, 'sudn': 5157, \"nobody's\": 5158, 'sarcastic': 5159, 'textand': 5160, '08002988890': 5161, 'rushing': 5162, 'epi': 5163, 'olowoyey': 5164, 'edu': 5165, 'argentina': 5166, 'multiply': 5167, 'independently': 5168, 'showed': 5169, 'grumble': 5170, '08719181259': 5171, 'hlday': 5172, 'camp': 5173, 'amrca': 5174, 'serena': 5175, 'manky': 5176, 'scouse': 5177, 'travelling': 5178, 'inmind': 5179, 'recreation': 5180, \"phone's\": 5181, 'vibrate': 5182, 'acting': 5183, '6times': 5184, 'trash': 5185, '1225': 5186, 'å£50award': 5187, '30ish': 5188, 'bangbabes': 5189, 'bangb': 5190, 'proze': 5191, 'norcorp': 5192, 'agents': 5193, 'experiment': 5194, 'watched': 5195, '60': 5196, '400thousad': 5197, 'samantha': 5198, 'guitar': 5199, 'impress': 5200, 'doug': 5201, 'realizes': 5202, 'unlike': 5203, 'patients': 5204, 'turkeys': 5205, 'spacebucks': 5206, '4the': 5207, 'everyones': 5208, 'babysitting': 5209, \"'its\": 5210, 'telly': 5211, 'brdget': 5212, 'jones': 5213, 'satsgettin': 5214, '47per': 5215, 'cts': 5216, 'employee': 5217, '49557': 5218, '100p': 5219, 'tarot': 5220, '85555': 5221, 'huge': 5222, 'marking': 5223, 'digi': 5224, 'coupla': 5225, '09058094455': 5226, 'phony': 5227, 'immed': 5228, 'lists': 5229, 'lipo': 5230, 'reaction': 5231, 'stash': 5232, 'decorating': 5233, 'beads': 5234, 'nange': 5235, 'bakra': 5236, 'kalstiya': 5237, 'haunt': 5238, 'promoting': 5239, 'hex': 5240, '420': 5241, 'smiled': 5242, 'answered': 5243, 'visa': 5244, 'gucci': 5245, 'khelate': 5246, 'kintu': 5247, 'opponenter': 5248, 'dhorte': 5249, 'lage': 5250, 'recorder': 5251, 'canname': 5252, 'australia': 5253, 'mquiz': 5254, 'africa': 5255, 'avin': 5256, '07808247860': 5257, '08719899229': 5258, '40411': 5259, 'z': 5260, 'playng': 5261, 'sonetimes': 5262, 'rough': 5263, 'notified': 5264, 'marketing': 5265, '84122': 5266, '08450542832': 5267, 'painting': 5268, 'wall': 5269, 'fassyole': 5270, 'blacko': 5271, 'londn': 5272, '80155': 5273, 'swap': 5274, 'chatter': 5275, 'chat80155': 5276, 'rcd': 5277, 'hont': 5278, 'apeshit': 5279, 'bhaskar': 5280, \"treatin'\": 5281, 'treacle': 5282, 'mention': 5283, 'served': 5284, 'gep': 5285, 'ingredients': 5286, 'reassuring': 5287, 'priya': 5288, 'gran': 5289, 'onlyfound': 5290, 'afew': 5291, 'cusoon': 5292, 'honi': 5293, 'half8th': 5294, 'amla': 5295, 'durban': 5296, 'worc': 5297, 'foregate': 5298, 'shrub': 5299, 'length': 5300, \"idea's\": 5301, 'anyplaces': 5302, 'prayers': 5303, 'wasnåõt': 5304, 'spouse': 5305, 'pmt': 5306, '4give': 5307, 'shldxxxx': 5308, 'november': 5309, '09061104276': 5310, 'costå£3': 5311, '75max': 5312, 'squeeeeeze': 5313, 'frndshp': 5314, 'luvd': 5315, 'toilet': 5316, 'stolen': 5317, 'cops': 5318, 'lined': 5319, 'requirements': 5320, 'shitstorm': 5321, 'attributed': 5322, 'yalrigu': 5323, 'heltini': 5324, 'iyo': 5325, 'shared': 5326, 'uttered': 5327, 'trusting': 5328, 'walkabout': 5329, 'shanghai': 5330, 'cya': 5331, 'disagreeable': 5332, 'ffffuuuuuuu': 5333, 'recieve': 5334, 'channel': 5335, 'teletext': 5336, '08712402578': 5337, 'footy': 5338, 'stadium': 5339, 'large': 5340, 'coca': 5341, 'cola': 5342, 'kappa': 5343, '08715205273': 5344, 'highest': 5345, 'å£54': 5346, 'maximum': 5347, 'å£71': 5348, '83383': 5349, 'leo': 5350, 'crying': 5351, 'imprtant': 5352, 'tomorw': 5353, 'receipts\\x89ûówell': 5354, 'what\\x89û÷s': 5355, 'uawake': 5356, 'feellikw': 5357, 'justfound': 5358, 'aletter': 5359, 'thatmum': 5360, 'gotmarried': 5361, '4thnov': 5362, 'ourbacks': 5363, 'fuckinnice': 5364, 'recpt': 5365, 'ignorant': 5366, 'jod': 5367, 'keris': 5368, 'smidgin': 5369, 'ecstasy': 5370, 'tacos': 5371, 'proper': 5372, 'tongued': 5373, 'matthew': 5374, '09063440451': 5375, 'ppm150': 5376, 'box334': 5377, 'configure': 5378, 'club4mobiles': 5379, '87070': 5380, 'club4': 5381, 'box1146': 5382, 'mk45': 5383, '2wt': 5384, 'sip': 5385, 'sunoco': 5386, 'thnx': 5387, 'pei': 5388, 'jerk': 5389, 'plural': 5390, 'suppose': 5391, 'tim': 5392, 'bollox': 5393, 'tol': 5394, 'enna': 5395, 'kalaachutaarama': 5396, '09077818151': 5397, 'calls1': 5398, '50ppm': 5399, '30s': 5400, 'santacalling': 5401, \"ìï'll\": 5402, 'alibi': 5403, 'supose': 5404, 'babysit': 5405, 'lyk': 5406, 'footbl': 5407, 'crckt': 5408, 'allday': 5409, 'openin': 5410, 'formal': 5411, 'thin': 5412, 'arguments': 5413, 'fed': 5414, 'himso': 5415, '2go': 5416, 'flavour': 5417, 'ripped': 5418, 'clubmoby': 5419, '08717509990': 5420, 'elaborating': 5421, 'safety': 5422, 'aspects': 5423, 'perpetual': 5424, 'dd': 5425, 'sitter': 5426, 'kaitlyn': 5427, 'costume': 5428, 'wasnt': 5429, 'quiteamuzing': 5430, 'thatåõscool': 5431, 'haircut': 5432, 'breezy': 5433, 'problematic': 5434, 'nos': 5435, '69969': 5436, 'bcmsfwc1n3xx': 5437, 'wuld': 5438, 'everyboy': 5439, 'xxxxxxxx': 5440, 'geeeee': 5441, 'faggot': 5442, 'vitamin': 5443, 'backwards': 5444, 'combine': 5445, 'parts': 5446, 'lightly': 5447, 'checkboxes': 5448, 'monster': 5449, 'hugging': 5450, '09058094594': 5451, '09058094565': 5452, 'infact': 5453, 'worrying': 5454, 'quizzes': 5455, 'gauge': 5456, \"patty's\": 5457, '80608': 5458, 'movietrivia': 5459, '08712405022': 5460, 'gower': 5461, 'wales': 5462, 'åômorrow': 5463, 'multimedia': 5464, 'enjoyin': 5465, 'yourjob': 5466, 'iåõllspeak': 5467, 'soonlots': 5468, 'drizzling': 5469, '1mega': 5470, 'pixels': 5471, '3optical': 5472, '5digital': 5473, 'dooms': 5474, 'grocers': 5475, 'danger': 5476, 'peeps': 5477, 'comment': 5478, 'zac': 5479, 'prominent': 5480, 'cheek': 5481, 'synced': 5482, 'shangela': 5483, 'replacing': 5484, 'ahhhh': 5485, '116': 5486, 'outsider': 5487, '\\x89ûïharry': 5488, 'smell': 5489, 'tobacco': 5490, 'grateful': 5491, 'happier': 5492, 'rubber': 5493, 'perhaps': 5494, 'silly': 5495, 'isn\\x89û÷t': 5496, '09064017305': 5497, 'pobox75ldns7': 5498, 'spice': 5499, 'limping': 5500, 'aa': 5501, 'shiny': 5502, 'warming': 5503, 'firsg': 5504, 'sang': 5505, \"'uptown\": 5506, \"girl'\": 5507, \"80's\": 5508, 'oranges': 5509, 'upd8': 5510, '2stoptx': 5511, '86888': 5512, 'subscribe6gbp': 5513, 'mnth': 5514, '3hrs': 5515, 'txtstop': 5516, 'gamb': 5517, '83039': 5518, '62735': 5519, 'å£450': 5520, 'accommodationvouchers': 5521, 'mustprovide': 5522, '15541': 5523, 'snowboarding': 5524, 'replacement': 5525, 'murali': 5526, 'genus': 5527, 'timi': 5528, 'accidant': 5529, 'tookplace': 5530, 'ghodbandar': 5531, 'slovely': 5532, 'tattoos': 5533, 'dock': 5534, 'rolled': 5535, 'newscaster': 5536, 'dabbles': 5537, 'flute': 5538, 'wheel': 5539, 'puts': 5540, 'perspective': 5541, 'ore': 5542, 'owo': 5543, 'fro': 5544, 'checkin': 5545, 'rows': 5546, \"world's\": 5547, 'happiest': 5548, 'characters': 5549, 'differences': 5550, '2morro': 5551, 'wetherspoons': 5552, 'ger': 5553, 'toking': 5554, 'syd': 5555, 'eta': 5556, 'okday': 5557, 'arty': 5558, 'collages': 5559, 'tryin': 5560, 'computers': 5561, 'deus': 5562, 'refund': 5563, 'pleasant': 5564, 'statements': 5565, 'detail': 5566, '08701213186': 5567, 'keen': 5568, '1172': 5569, 'rip': 5570, 'uterus': 5571, 'prevent': 5572, 'dehydration': 5573, 'fluids': 5574, 'motivating': 5575, 'sharing': 5576, 'awww': 5577, 'restock': 5578, 'gloucesterroad': 5579, 'uup': 5580, 'gifts': 5581, 'cliff': 5582, 'hen': 5583, 'luton': 5584, '0125698789': 5585, 'sun0819': 5586, 'mountain': 5587, 'deer': 5588, 'sophas': 5589, 'secondary': 5590, 'applying': 5591, 'ogunrinde': 5592, 'path': 5593, 'appear': 5594, 'paths': 5595, 'disconnected': 5596, 'vco': 5597, '09111032124': 5598, 'pobox12n146tf150p': 5599, 'barring': 5600, 'sudden': 5601, 'influx': 5602, '74355': 5603, 'punish': 5604, 'wisheds': 5605, 'missions': 5606, 'stoners': 5607, 'chase': 5608, 'crossing': 5609, 'radiator': 5610, 'splash': 5611, '09061702893': 5612, 'iåõd': 5613, 'atten': 5614, '930': 5615, '7cfca1a': 5616, 'skyving': 5617, 'inperialmusic': 5618, 'listening2the': 5619, 'byåóleafcutter': 5620, 'johnåó': 5621, 'insects': 5622, 'molested': 5623, 'plumbing': 5624, 'remixed': 5625, 'evil': 5626, 'acid': 5627, 'unmits': 5628, 'meaningless': 5629, 'leg': 5630, 'musta': 5631, 'overdid': 5632, '9061100010': 5633, 'wire3': 5634, '1st4terms': 5635, 'mobcudb': 5636, 'sections': 5637, 'clearer': 5638, '09058091870': 5639, 'peach': 5640, 'tasts': 5641, 'neighbors': 5642, 'surname': 5643, 'clue': 5644, 'begins': 5645, 'sts': 5646, 'ello': 5647, 'motivate': 5648, 'darkness': 5649, 'patty': 5650, 'haul': 5651, 'jp': 5652, 'mofo': 5653, 'bothering': 5654, '08718730555': 5655, \"fren's\": 5656, 'photoshop': 5657, 'destination': 5658, \"dad's\": 5659, 'å£s': 5660, 'orno': 5661, 'enjoying': 5662, 'smash': 5663, 'religiously': 5664, 'habba': 5665, 'inspection': 5666, 'nursery': 5667, 'consistently': 5668, 'practicum': 5669, 'links': 5670, 'ears': 5671, 'convenience': 5672, 'mirror': 5673, 'function': 5674, 'color': 5675, 'musical': 5676, 'qi': 5677, 'suddenly': 5678, 'corect': 5679, 'speling': 5680, 'msgrcvd': 5681, 'customercare': 5682, 'dust': 5683, 'window': 5684, 'inever': 5685, 'lasagna': 5686, 'presents': 5687, 'nicky': 5688, 'programs': 5689, 'fifth': 5690, 'woozles': 5691, 'weasels': 5692, 'yards': 5693, 'bergkamp': 5694, 'margin': 5695, '78': 5696, 'thankyou': 5697, 'grooved': 5698, 'perumbavoor': 5699, 'gnarls': 5700, 'barkleys': 5701, 'packing': 5702, 'predict': 5703, 'scenery': 5704, 'hangin': 5705, 'chik': 5706, \"100's\": 5707, 'filth': 5708, 'saristar': 5709, 'e14': 5710, '9yt': 5711, '08701752560': 5712, '450p': 5713, 'stop2': 5714, '08701417012150p': 5715, 'follows': 5716, 'subsequent': 5717, 'ummma': 5718, 'kilos': 5719, 'strt': 5720, 'ltdhelpdesk': 5721, '02085076972': 5722, 'presnts': 5723, 'bcz': 5724, 'jeevithathile': 5725, 'irulinae': 5726, 'neekunna': 5727, 'prakasamanu': 5728, 'sneham': 5729, 'prakasam': 5730, 'ennal': 5731, \"'that\": 5732, 'mns': 5733, \"is'love'\": 5734, 'mw': 5735, 'tuth': 5736, 'monoc': 5737, 'monos': 5738, 'polyc': 5739, 'stream': 5740, '0871212025016': 5741, 'crashed': 5742, 'cuddled': 5743, 'praps': 5744, 'wining': 5745, '946': 5746, 'lasting': 5747, 'dept': 5748, '08717507382': 5749, 'stressfull': 5750, 'adds': 5751, 'dobby': 5752, \"when're\": 5753, 'mcr': 5754, 'varaya': 5755, 'elaya': 5756, 'cumming': 5757, 'dusk': 5758, 'puzzles': 5759, 'urfeeling': 5760, 'bettersn': 5761, 'probthat': 5762, 'overdose': 5763, 'lovejen': 5764, 'tms': 5765, 'widelive': 5766, 'index': 5767, 'wml': 5768, '820554ad0a1705572711': 5769, 'trueåác': 5770, 'ringtoneåá': 5771, 'farting': 5772, 'downon': 5773, 'theacusations': 5774, 'itxt': 5775, 'iwana': 5776, 'wotu': 5777, 'thew': 5778, 'haventcn': 5779, 'nething': 5780, 'memorable': 5781, '84484': 5782, 'jade': 5783, 'paul': 5784, 'didnåõt': 5785, 'barmed': 5786, 'guessed': 5787, 'antha': 5788, 'corrct': 5789, 'dane': 5790, 'hustle': 5791, 'forth': 5792, 'harlem': 5793, 'lit': 5794, 'spelled': 5795, 'caps': 5796, 'mess': 5797, 'bullshit': 5798, 'grownup': 5799, 'nus': 5800, 'sc': 5801, 'specialise': 5802, 'wad': 5803, 'thesmszone': 5804, 'anonymous': 5805, 'masked': 5806, 'abuse': 5807, 'complaining': 5808, 'humanities': 5809, 'rp176781': 5810, 'regalportfolio': 5811, '08717205546': 5812, \"armand's\": 5813, 'rounds': 5814, 'hcl': 5815, 'requires': 5816, 'freshers': 5817, 'suman': 5818, 'telephonic': 5819, 'jabo': 5820, 'taxt': 5821, 'massage': 5822, 'tie': 5823, 'pos': 5824, 'lool': 5825, 'hasnt': 5826, \"riley's\": 5827, 'rahul': 5828, 'dengra': 5829, 'chad': 5830, 'gymnastics': 5831, 'christians': 5832, 'lyrics': 5833, 'apples': 5834, 'pairs': 5835, 'malarky': 5836, '08448350055': 5837, 'planettalkinstant': 5838, '08718723815': 5839, 'wondarfull': 5840, 'rdy': 5841, 'knocking': 5842, \"prashanthettan's\": 5843, 'ga': 5844, 'caveboy': 5845, 'sometext': 5846, 'tootsie': 5847, 'nose': 5848, 'essay': 5849, 'north': 5850, 'carolina': 5851, 'texas': 5852, 'gre': 5853, 'temales': 5854, 'shrek': 5855, 'sorta': 5856, 'blown': 5857, 'wlcome': 5858, 'intention': 5859, 'visitors': 5860, '545': 5861, 'honeymoon': 5862, 'outfit': 5863, 'miiiiiiissssssssss': 5864, 'steal': 5865, 'laready': 5866, 'scotland': 5867, 'jjc': 5868, 'tendencies': 5869, 'slower': 5870, 'maniac': 5871, 'boltblue': 5872, 'poly3': 5873, 'jamz': 5874, 'toxic': 5875, 'responsibilities': 5876, 'doinat': 5877, 'payasam': 5878, 'rinu': 5879, 'swashbuckling': 5880, 'qjkgighjjgcbl': 5881, 'taj': 5882, 'lesser': 5883, 'known': 5884, 'facts': 5885, \"shahjahan's\": 5886, 'wifes': 5887, 'shahjahan': 5888, 'killed': 5889, 'arises': 5890, 'hari': 5891, 'bleak': 5892, 'hme': 5893, '09096102316': 5894, 'exposed': 5895, 'timings': 5896, 'dull': 5897, 'ashwini': 5898, '20m12aq': 5899, '\\x89ûï': 5900, 'checkmate': 5901, 'chess': 5902, 'persian': 5903, 'phrase': 5904, 'shah': 5905, 'maat': 5906, 'uses': 5907, 'kickoff': 5908, 'wld': 5909, 'nosh': 5910, 'amk': 5911, 'emailed': 5912, 'yifeng': 5913, 'nike': 5914, 'converted': 5915, 'sindu': 5916, 'smarter': 5917, 'onion': 5918, 'payments': 5919, 'fedex': 5920, 'toughest': 5921, \"anything's\": 5922, '0871277810710p': 5923, 'ktv': 5924, 'bw': 5925, 'w8in': 5926, '4utxt': 5927, 'impression': 5928, '09058094583': 5929, 'ay': 5930, 'nannys': 5931, 'ahhh': 5932, 'vaguely': 5933, 'rebooting': 5934, 'owl': 5935, 'pathaya': 5936, 'enketa': 5937, 'maraikara': 5938, \"pa'\": 5939, 'mylife': 5940, 'enufcredeit': 5941, 'tocall': 5942, 'ileave': 5943, 'stretch': 5944, '49': 5945, 'bundle': 5946, 'deals': 5947, 'avble': 5948, 'mf': 5949, 'feelin': 5950, 'lnly': 5951, 'youdoing': 5952, 'lighters': 5953, 'manual': 5954, 'tech': 5955, 'reset': 5956, 'troubleshooting': 5957, 'host': 5958, 'based': 5959, 'idps': 5960, 'linux': 5961, 'systems': 5962, 'bcaz': 5963, \"cann't\": 5964, 'retard': 5965, 'perform': 5966, \"basket's\": 5967, 'memory': 5968, 'webadres': 5969, 'geting': 5970, 'clip': 5971, '35p': 5972, 'mmsto': 5973, '32323': 5974, 'eviction': 5975, 'spiral': 5976, 'michael': 5977, 'riddance': 5978, 'thasa': 5979, 'messed': 5980, 'throws': 5981, 'brothers': 5982, '09061743811': 5983, 'repairs': 5984, 'followin': 5985, 'blimey': 5986, 'exercise': 5987, 'chief': 5988, 'bell': 5989, 'royal': 5990, 'wesleys': 5991, 'accidentally': 5992, '09066358361': 5993, 'y87': 5994, \"station's\": 5995, 'meive': 5996, 'gotany': 5997, \"g's\": 5998, 'ammo': 5999, 'ak': 6000, 'kaila': 6001, 'dawns': 6002, 'refreshed': 6003, 'stubborn': 6004, 'sucker': 6005, 'suckers': 6006, 'congratulation': 6007, 'nightnight': 6008, 'lord': 6009, 'rings': 6010, 'soundtrack': 6011, 'stdtxtrate': 6012, 'pocked': 6013, 'linear': 6014, 'algebra': 6015, 'lapdancer': 6016, 'g2': 6017, '1da': 6018, '150ppmsg': 6019, 'sdryb8i': 6020, 'factory': 6021, 'ax': 6022, '01223585334': 6023, '2c': 6024, 'shagged': 6025, '2end': 6026, 'horniest': 6027, 'boooo': 6028, 'physics': 6029, 'hides': 6030, 'secrets': 6031, 'n8': 6032, 'vday': 6033, 'parachute': 6034, 'jb': 6035, 'chile': 6036, 'subletting': 6037, 'vague': 6038, 'accounting': 6039, 'delayed': 6040, 'housing': 6041, 'agency': 6042, 'renting': 6043, 'virgins': 6044, 'sexual': 6045, 'theirs': 6046, '69911': 6047, 'holby': 6048, 'snickering': 6049, 'chords': 6050, '08718726971': 6051, 'buyer': 6052, '4a': 6053, 'changing': 6054, 'diapers': 6055, 'owed': 6056, 'certificate': 6057, 'publish': 6058, 'chop': 6059, 'smokin': 6060, '2u2': 6061, \"rct'\": 6062, 'thnq': 6063, 'adrian': 6064, 'vatian': 6065, 'dhanush': 6066, 'rocks': 6067, 'jiayin': 6068, '08714712394': 6069, 'grave': 6070, 'dentist': 6071, 'raviyog': 6072, 'peripherals': 6073, 'bhayandar': 6074, 'ft': 6075, 'combination': 6076, 'callon': 6077, 'gail': 6078, 'l8tr': 6079, 'yaxxx': 6080, 'epsilon': 6081, 'reassurance': 6082, 'answerin': 6083, \"mine's\": 6084, 'scarcasim': 6085, 'pants': 6086, 'wi': 6087, 'nz': 6088, 'sooo': 6089, '09058094454': 6090, 'batsman': 6091, 'non': 6092, 'l8': 6093, 'gon': 6094, 'objection': 6095, 'nigh': 6096, 'pure': 6097, 'hearted': 6098, 'enemies': 6099, 'smiley': 6100, 'restocked': 6101, 'greetings': 6102, 'tscs08714740323': 6103, '1winawk': 6104, '50perweeksub': 6105, 'sink': 6106, 'paces': 6107, 'cage': 6108, 'surrounded': 6109, 'cuck': 6110, 'billy': 6111, 'jogging': 6112, 'upgrdcentre': 6113, '9153': 6114, 'abbey': 6115, 'apnt': 6116, '69888nyt': 6117, \"mummy's\": 6118, 'positive': 6119, 'negative': 6120, 'hmmmm': 6121, 'sittin': 6122, 'drops': 6123, 'disappointment': 6124, 'cried': 6125, 'jez': 6126, 'todo': 6127, 'workand': 6128, 'whilltake': 6129, 'pounded': 6130, 'amigos': 6131, 'burn': 6132, 'weekdays': 6133, 'nails': 6134, 'providing': 6135, 'assistance': 6136, 'gage': 6137, 'deck': 6138, 'cnupdates': 6139, 'newsletter': 6140, 'alerts': 6141, 'hassling': 6142, 'andres': 6143, 'haughaighgtujhyguj': 6144, '09061790126': 6145, \"ta's\": 6146, 'jenny': 6147, 'leanne': 6148, 'trackmarque': 6149, 'vipclub4u': 6150, 'snatch': 6151, 'several': 6152, 'passes': 6153, '08704439680': 6154, 'deduct': 6155, 'offline': 6156, \"anjola's\": 6157, 'obedient': 6158, 'enters': 6159, 'waqt': 6160, 'pehle': 6161, 'naseeb': 6162, 'zyada': 6163, 'kisi': 6164, 'ko': 6165, 'kuch': 6166, 'milta': 6167, 'hum': 6168, 'sochte': 6169, 'ham': 6170, 'jeetey': 6171, 'oclock': 6172, 'bash': 6173, 'subscribers': 6174, 'shortcode': 6175, '83332': 6176, '08081263000': 6177, 'refunded': 6178, 'irritation': 6179, 'starshine': 6180, 'sips': 6181, 'attracts': 6182, 'kane': 6183, 'shud': 6184, 'lifted': 6185, 'hopes': 6186, 'approaches': 6187, 'bomb': 6188, 'signin': 6189, '30th': 6190, 'areyouunique': 6191, 'shifad': 6192, 'raised': 6193, 'complacent': 6194, 'ibored': 6195, 'intrepid': 6196, 'duo': 6197, 'woah': 6198, 'realising': 6199, 'assumed': 6200, 'paranoid': 6201, 'spjanuary': 6202, 'tex': 6203, 'mecause': 6204, 'werebored': 6205, 'okden': 6206, 'uin': 6207, 'soundåõs': 6208, 'likeyour': 6209, 'gr8fun': 6210, 'updat': 6211, 'countinlots': 6212, 'grinder': 6213, 'posting': 6214, 'ignoring': 6215, 'we\\x89û÷ll': 6216, 'significance': 6217, 'raglan': 6218, 'edward': 6219, 'cricket': 6220, 'closeby': 6221, 'teju': 6222, 'pleassssssseeeeee': 6223, 'sportsx': 6224, 'tmorrow': 6225, 'accomodate': 6226, 'lark': 6227, 'french': 6228, 'fooled': 6229, \"'an\": 6230, \"quote''\": 6231, '1stchoice': 6232, '08707808226': 6233, 'svc': 6234, '69988': 6235, 'ups': 6236, '3days': 6237, 'usps': 6238, 'bribe': 6239, 'nipost': 6240, 'macs': 6241, 'pen': 6242, 'biro': 6243, 'lavender': 6244, 'darlings': 6245, 'swollen': 6246, 'glands': 6247, 'permission': 6248, 'revealing': 6249, 'brownie': 6250, 'zoom': 6251, 'velly': 6252, 'mising': 6253, 'ooooooh': 6254, 'yoville': 6255, 'predicte': 6256, 'stalk': 6257, 'profiles': 6258, 'inshah': 6259, 'steam': 6260, 'pee': 6261, '08719181503': 6262, 'panties': 6263, 'gravel': 6264, '140': 6265, 'ìä': 6266, '180': 6267, 'slippery': 6268, 'multis': 6269, '448712404000': 6270, '08712404000': 6271, 'andre': 6272, \"virgil's\": 6273, 'spatula': 6274, 'tooth': 6275, 'or2optout': 6276, 'hv9d': 6277, 'shorts': 6278, 'surly': 6279, 'operate': 6280, 'palm': 6281, 'shitin': 6282, 'defo': 6283, 'hardest': 6284, 'millions': 6285, 'lekdog': 6286, 'cherthala': 6287, 'cochin': 6288, 'bfore': 6289, 'tmorow': 6290, 'engaged': 6291, 'professional': 6292, 'tiger': 6293, 'woods': 6294, 'affectionate': 6295, 'you\\x89û÷ll': 6296, 'balls': 6297, 'fainting': 6298, 'housework': 6299, 'cuppa': 6300, 'ukp': 6301, '09061790125': 6302, 'chapel': 6303, 'frontierville': 6304, 'thus': 6305, '07090298926': 6306, '9307622': 6307, 'specific': 6308, 'ducking': 6309, 'chinchillas': 6310, '09058097218': 6311, 'financial': 6312, 'risk': 6313, 'cheque': 6314, 'leading': 6315, '151': 6316, 'pause': 6317, 'ambitious': 6318, 'harri': 6319, 'diddy': 6320, 'neighbor': 6321, 'toothpaste': 6322, 'garments': 6323, '09061701851': 6324, 'k61': 6325, '12hours': 6326, 'vid': 6327, 'finishd': 6328, 'spoons': 6329, 'noncomittal': 6330, 'rr': 6331, 'sickness': 6332, 'openings': 6333, 'upcharge': 6334, 'risks': 6335, 'benefits': 6336, 'performed': 6337, 'karaoke': 6338, 'debating': 6339, 'soz': 6340, 'imat': 6341, 'mums': 6342, 'lanre': 6343, \"fakeye's\": 6344, 'eckankar': 6345, 'alter': 6346, 'bx526': 6347, 'can\\x89û÷t': 6348, 'jap': 6349, 'wined': 6350, 'dined': 6351, 'gurl': 6352, 'appropriate': 6353, 'dled': 6354, '09066368470': 6355, 'vat': 6356, 'involve': 6357, 'imposed': 6358, '087104711148': 6359, 'lastest': 6360, 'stereophonics': 6361, 'marley': 6362, 'dizzee': 6363, 'racal': 6364, 'libertines': 6365, 'strokes': 6366, 'nookii': 6367, 'bookmark': 6368, '30pm': 6369, 'nri': 6370, '09050000878': 6371, 'arrow': 6372, 'uv': 6373, 'causes': 6374, 'mutations': 6375, 'sunscreen': 6376, 'thesedays': 6377, 'stink': 6378, 'coughing': 6379, 'occurs': 6380, \"friend's\": 6381, 'resume': 6382, 'uhhhhrmm': 6383, 'slightly': 6384, 'videos': 6385, 'shsex': 6386, 'netun': 6387, 'fgkslpopw': 6388, 'fgkslpo': 6389, 'appointments': 6390, 'borin': 6391, '09099725823': 6392, 'magic': 6393, 'thirtyeight': 6394, 'werethe': 6395, 'monkeespeople': 6396, 'monkeyaround': 6397, 'howdy': 6398, 'poo': 6399, 'alto18': 6400, '44345': 6401, 'stressful': 6402, 'jokin': 6403, 'fatty': 6404, 'cocksuckers': 6405, 'ipads': 6406, 'worthless': 6407, 'novelty': 6408, 'banned': 6409, 'cheyyamo': 6410, 'successful': 6411, 'brother\\x89û÷s': 6412, 'scraped': 6413, 'barrel': 6414, 'misfits': 6415, '8000930705': 6416, 'canteen': 6417, 'nimbomsons': 6418, 'grasp': 6419, \"'xam\": 6420, '1thing': 6421, 'answr': 6422, 'unclaimed': 6423, '09066368327': 6424, 'closingdate04': 6425, 'claimcode': 6426, 'm39m51': 6427, '50pmmorefrommobile2bremoved': 6428, 'mobypobox734ls27yf': 6429, 'port': 6430, 'step': 6431, 'mentor': 6432, 'percent': 6433, '28th': 6434, '65': 6435, 'univ': 6436, 'bridge': 6437, 'lager': 6438, 'specialisation': 6439, 'labor': 6440, 'shakara': 6441, 'beggar': 6442, 'ryan': 6443, 'vill': 6444, 'orc': 6445, 'fellow': 6446, 'rg21': 6447, '4jx': 6448, 'humans': 6449, 'brison': 6450, 'invitation': 6451, 'cali': 6452, \"bloke's\": 6453, 'weddin': 6454, 'slices': 6455, 'buttons': 6456, 'shaking': 6457, 'coherently': 6458, '09066660100': 6459, '2309': 6460, 'dub': 6461, 'je': 6462, 'howda': 6463, 'mathe': 6464, 'samachara': 6465, 'rhode': 6466, 'bong': 6467, 'taka': 6468, 'earliest': 6469, 'skint': 6470, 'fancied': 6471, 'bevies': 6472, 'waz': 6473, 'othrs': 6474, 'spoon': 6475, 'watchng': 6476, 'comfey': 6477, 'gyno': 6478, 'belong': 6479, '09094100151': 6480, 'cast': 6481, 'gbp5': 6482, 'box61': 6483, 'm60': 6484, '1er': 6485, 'officer': 6486, 'salon': 6487, 'peoples': 6488, 'guessin': 6489, 'nor': 6490, 'asthma': 6491, 'attack': 6492, 'suffering': 6493, 'dysentry': 6494, 'witin': 6495, 'narcotics': 6496, 'ouch': 6497, 'stayed': 6498, 'supports': 6499, 'srt': 6500, 'ps3': 6501, 'poyyarikatur': 6502, 'kolathupalayam': 6503, 'unjalur': 6504, 'erode': 6505, '077xxx': 6506, '09066362206': 6507, \"partner's\": 6508, 'method': 6509, \"weren't\": 6510, 'hos': 6511, 'les': 6512, 'rudi': 6513, 'snoring': 6514, 'ink': 6515, '08714714011': 6516, 'steyn': 6517, 'wicket': 6518, 'typical': 6519, 'uncomfortable': 6520, 'thanx4': 6521, 'cer': 6522, 'dent': 6523, 'dependents': 6524, 'blankets': 6525, 'arabian': 6526, 'steed': 6527, 'poortiyagi': 6528, 'odalebeku': 6529, 'hanumanji': 6530, 'hanuman': 6531, 'bajarangabali': 6532, 'maruti': 6533, 'pavanaputra': 6534, 'sankatmochan': 6535, 'ramaduth': 6536, 'mahaveer': 6537, 'janarige': 6538, 'ivatte': 6539, 'kalisidare': 6540, 'olage': 6541, 'ondu': 6542, 'keluviri': 6543, 'maretare': 6544, 'inde': 6545, 'dodda': 6546, 'problum': 6547, 'nalli': 6548, 'siguviri': 6549, 'idu': 6550, 'matra': 6551, 'neglet': 6552, 'rv': 6553, 'hol': 6554, 'havenåõt': 6555, 'rvx': 6556, 'workout': 6557, 'fats': 6558, 'dentists': 6559, 'ilol': 6560, 'personally': 6561, 'wuldnt': 6562, 'flood': 6563, 'gosh': 6564, 'spose': 6565, 'dealer': 6566, 'lunsford': 6567, 'yeovil': 6568, 'motor': 6569, 'max': 6570, 'data': 6571, 'analysis': 6572, 'thesis': 6573, 'someonone': 6574, '09064015307': 6575, 'box334sk38ch': 6576, 'erutupalam': 6577, 'thandiyachu': 6578, '9996': 6579, '14thmarch': 6580, 'availa': 6581, '449071512431': 6582, 'toledo': 6583, 'general': 6584, 'web': 6585, 'asjesus': 6586, 'shitload': 6587, 'infra': 6588, 'asda': 6589, 'counts': 6590, 'triple': 6591, 'echo': 6592, 'route': 6593, 'breakfast': 6594, 'hamper': 6595, '3000': 6596, 'hanger': 6597, 'fondly': 6598, 'clover': 6599, 'evo': 6600, 'jealous': 6601, 'doesn': 6602, 'ceiling': 6603, 'hype': 6604, 'plaza': 6605, 'studio': 6606, 'seventeen': 6607, 'ml': 6608, 'clarification': 6609, \"roommate's\": 6610, 'placement': 6611, 'amrita': 6612, 'machi': 6613, 'xam': 6614, 'hall': 6615, 'hesitation': 6616, 'intha': 6617, 'ponnungale': 6618, 'ipaditan': 6619, 'lakhs': 6620, 'brum': 6621, '07808': 6622, 'xxxxxx': 6623, '08719899217': 6624, 'missy': 6625, 'neither': 6626, 'sterm': 6627, 'resolved': 6628, 'healthy': 6629, 'rgent': 6630, 'chillaxin': 6631, 'lifebook': 6632, 'onam': 6633, 'sirji': 6634, 'tata': 6635, 'aig': 6636, 'tissco': 6637, 'tayseer': 6638, 'playin': 6639, 'losers': 6640, 'rajitha': 6641, 'ranju': 6642, 'twins': 6643, 'grr': 6644, 'pharmacy': 6645, 'hostile': 6646, 'k718': 6647, '09065069120': 6648, 'jam': 6649, 'bread': 6650, 'hannaford': 6651, 'wheat': 6652, 'chex': 6653, 'stalking': 6654, '8800': 6655, 'psp': 6656, 'correctly': 6657, 'pubs': 6658, 'frankie': 6659, 'bennys': 6660, 'dodgey': 6661, 'bookedthe': 6662, 'hut': 6663, 'effects': 6664, 'gut': 6665, 'wrenching': 6666, 'tellmiss': 6667, 'eh74rr': 6668, 'dats': 6669, 'dogg': 6670, 'melt': 6671, 'va': 6672, 'antelope': 6673, 'toplay': 6674, 'fieldof': 6675, 'selfindependence': 6676, 'contention': 6677, 'grow': 6678, \"joke's\": 6679, 'fees': 6680, 'florida': 6681, 'offense': 6682, 'hidden': 6683, 'forced': 6684, 'impressively': 6685, 'sensible': 6686, 'barred': 6687, 'twat': 6688, 'dungerees': 6689, 'decking': 6690, 'punch': 6691, 'fridge': 6692, 'ratio': 6693, 'handsome': 6694, 'finding': 6695, 'tamilnadu': 6696, 'falling': 6697, 'smeone': 6698, '3650': 6699, '09066382422': 6700, '300603': 6701, 'bcm4284': 6702, 'jack': 6703, 'helpful': 6704, 'pretend': 6705, 'hypotheticalhuagauahahuagahyuhagga': 6706, 'dramatic': 6707, 'impressed': 6708, 'funs': 6709, 'apes': 6710, 'death': 6711, 'chachi': 6712, 'pl': 6713, 'tiz': 6714, 'kanagu': 6715, \"sms'd\": 6716, 'breathing': 6717, 'necesity': 6718, 'witout': 6719, \"hw'd\": 6720, 'colleg': 6721, \"wat'll\": 6722, 'wth': 6723, 'functions': 6724, 'events': 6725, \"espe'll\": 6726, 'irritated': 6727, '4wrd': 6728, 'wthout': 6729, 'takecare': 6730, '07732584351': 6731, 'rodger': 6732, 'burns': 6733, 'lo': 6734, 'adventuring': 6735, 'pears': 6736, 'famous': 6737, \"'anything'\": 6738, 'unconditionally': 6739, 'temper': 6740, \"'married'\": 6741, \"shit's\": 6742, 'steak': 6743, 'li': 6744, 'lecturer': 6745, 'repeating': 6746, 'dirt': 6747, 'mouth': 6748, 'chores': 6749, 'exist': 6750, 'hail': 6751, 'mist': 6752, 'rocking': 6753, 'ashes': 6754, 'donno': 6755, 'genes': 6756, 'allo': 6757, 'braved': 6758, 'triumphed': 6759, 'b\\x89û÷ham': 6760, 'karnan': 6761, 'equally': 6762, 'uneventful': 6763, 'pesky': 6764, 'cyclists': 6765, 'robinson': 6766, 'anand': 6767, 'tiring': 6768, 'concentrating': 6769, 'slaaaaave': 6770, 'summon': 6771, 'greatness': 6772, 'virtual': 6773, 'txtstar': 6774, 'chinatown': 6775, 'porridge': 6776, 'claypot': 6777, 'yam': 6778, 'fishhead': 6779, 'beehoon': 6780, 'conveying': 6781, 'flirtparty': 6782, 'replys150': 6783, 'betta': 6784, 'aging': 6785, 'products': 6786, 'wenever': 6787, 'locks': 6788, 'jenne': 6789, 'switch': 6790, 'dammit': 6791, 'the4th': 6792, 'october': 6793, 'fans': 6794, '0870141701216': 6795, '4txt': 6796, '120p': 6797, 'degree': 6798, 'cedar': 6799, 'esaplanade': 6800, 'wiskey': 6801, 'brandy': 6802, 'rum': 6803, 'gin': 6804, 'scotch': 6805, 'shampain': 6806, 'kudi': 6807, 'yarasu': 6808, 'dhina': 6809, 'vaazhthukkal': 6810, \"'wnevr\": 6811, 'fal': 6812, 'fals': 6813, 'yen': 6814, 'madodu': 6815, 'nav': 6816, 'pretsorginta': 6817, 'nammanna': 6818, 'pretsovru': 6819, 'alwa': 6820, 'taught': 6821, 'becaus': 6822, 'hes': 6823, 'verifying': 6824, 'prabu': 6825, 'expert': 6826, 'firmware': 6827, 'wewa': 6828, '130': 6829, 'iriver': 6830, '255': 6831, '128': 6832, 'garden': 6833, 'bulbs': 6834, 'seeds': 6835, 'scotsman': 6836, 'go2': 6837, 'notxt': 6838, 'american': 6839, '08452810071': 6840, 'taxi': 6841, 'hang': 6842, 'starving': 6843, 'mushy': 6844, 'embarrassed': 6845, 'dolls': 6846, 'patrick': 6847, 'swayze': 6848, 'stands': 6849, 'nitz': 6850, 'outbid': 6851, 'simonwatson5120': 6852, 'shinco': 6853, 'plyr': 6854, 'smsrewards': 6855, 'notifications': 6856, 'jacuzzi': 6857, 'jide': 6858, 'visiting': 6859, 'celebrations': 6860, 'cherish': 6861, 'dialogue': 6862, 'reltnship': 6863, 'abeg': 6864, 'sponsors': 6865, 'teresa': 6866, 'dec': 6867, \"you'ld\": 6868, 'bam': 6869, 'aid': 6870, 'usmle': 6871, 'importantly': 6872, 'tank': 6873, 'stressed': 6874, 'ummifying': 6875, 'feathery': 6876, 'bowa': 6877, 'hf8': 6878, 'a30': 6879, 'divert': 6880, 'wadebridge': 6881, \"all's\": 6882, '09066364349': 6883, 'box434sk38wp150ppm18': 6884, '2channel': 6885, 'leadership': 6886, 'skills': 6887, 'psychic': 6888, 'compliments': 6889, 'tallent': 6890, 'wasting': 6891, 'stage': 6892, 'spirit': 6893, 'recorded': 6894, \"tantrum's\": 6895, 'axis': 6896, 'arnt': 6897, 'xxxxxxxxxxxxxx': 6898, 'reserves': 6899, 'mumhas': 6900, 'beendropping': 6901, 'theplace': 6902, 'adress': 6903, \"ashley's\": 6904, 'strict': 6905, 'raiden': 6906, 'loosu': 6907, 'careless': 6908, 'bognor': 6909, 'splendid': 6910, '07815296484': 6911, '41782': 6912, 'jewelry': 6913, 'smoked': 6914, 'urgh': 6915, 'coach': 6916, 'smells': 6917, 'chip': 6918, 'duvet': 6919, 'predictive': 6920, 'suffers': 6921, 'silence': 6922, 'treadmill': 6923, 'craigslist': 6924, 'smoothly': 6925, 'challenging': 6926, 'hypertension': 6927, 'hack': 6928, 'backdoor': 6929, 'fraction': 6930, 'neo69': 6931, '09050280520': 6932, 'subscribe': 6933, 'dps': 6934, 'bcm': 6935, '8027': 6936, 'champ': 6937, 'glasgow': 6938, 'wrking': 6939, '08718738002': 6940, '48922': 6941, 'consensus': 6942, 'mouse': 6943, 'desk': 6944, \"carlos'll\": 6945, 'bare': 6946, 'phonebook': 6947, 'smith': 6948, 'gayle': 6949, 'recycling': 6950, 'earning': 6951, 'someplace': 6952, 'stuffed': 6953, 'writhing': 6954, 'satanic': 6955, 'imposter': 6956, 'destiny': 6957, 'citylink': 6958, '945': 6959, 'truro': 6960, 'ext': 6961, 'bruce': 6962, 'fowler': 6963, 'involved': 6964, 'sized': 6965, '08719899230': 6966, 'bridgwater': 6967, 'banter': 6968, '1405': 6969, '1680': 6970, '1843': 6971, 'delay': 6972, 'audrie': 6973, 'autocorrect': 6974, 'gimmi': 6975, 'goss': 6976, 'boyf': 6977, 'interviw': 6978, 'apologetic': 6979, 'fallen': 6980, 'actin': 6981, 'spoilt': 6982, 'badly': 6983, 'resuming': 6984, 'reapply': 6985, 'algarve': 6986, 'needa': 6987, 'free2day': 6988, \"george's\": 6989, '89080': 6990, 'saucy': 6991, '0870241182716': 6992, 'afterwards': 6993, 'hiphop': 6994, 'mobs': 6995, 'breathe1': 6996, 'crazyin': 6997, 'sleepingwith': 6998, 'finest': 6999, 'ymca': 7000, 'pobox365o4w45wq': 7001, 'passport': 7002, 'wating': 7003, 'amanda': 7004, 'regard': 7005, 'renewing': 7006, 'upgrading': 7007, 'subject': 7008, 'authorise': 7009, 'fring': 7010, 'borderline': 7011, 'ovulate': 7012, '3wks': 7013, 'history': 7014, 'ryder': 7015, 'ors': 7016, 'stool': 7017, 'unfortunately': 7018, 'arent': 7019, 'cakes': 7020, 'tke': 7021, 'meetins': 7022, 'cumin': 7023, '09099726395': 7024, 'minmobsmorelkpobox177hp51fl': 7025, 'attraction': 7026, 'breath': 7027, 'sorrows': 7028, 'proove': 7029, 'singing': 7030, 'praises': 7031, 'makiing': 7032, 'sambar': 7033, 'initiate': 7034, 'shant': 7035, 'shoppin': 7036, \"gumby's\": 7037, 'sources': 7038, 'unhappiness': 7039, 'gmw': 7040, 'connected': 7041, 'surgical': 7042, 'emergency': 7043, 'unfolds': 7044, 'nevering': 7045, 'southern': 7046, 'inconsiderate': 7047, 'nag': 7048, 'recession': 7049, 'hence': 7050, 'unni': 7051, 'spageddies': 7052, '330': 7053, '1120': 7054, '1205': 7055, 'rugby': 7056, 'famamus': 7057, '08712103738': 7058, 'accomodations': 7059, 'cave': 7060, 'offered': 7061, 'embarassing': 7062, '9755': 7063, 'overtime': 7064, 'nigpun': 7065, 'beerage': 7066, 'å£12': 7067, 'html': 7068, 'gbp4': 7069, 'mfl': 7070, 'hasbro': 7071, 'jump': 7072, 'hoops': 7073, 'fetching': 7074, 'lancaster': 7075, 'neway': 7076, 'couldnåõt': 7077, 'showers': 7078, 'possessiveness': 7079, 'poured': 7080, 'golden': 7081, '09066362220': 7082, 'limit': 7083, 'grace': 7084, 'boundaries': 7085, 'endless': 7086, 'lap': 7087, 'jon': 7088, 'spain': 7089, 'sum': 7090, 'dinero': 7091, 'åôrents': 7092, '000pes': 7093, 'å£48': 7094, 'envy': 7095, \"see's\": 7096, 'checkup': 7097, 'smear': 7098, '3750': 7099, 'urination': 7100, 'gsoh': 7101, 'spam': 7102, 'gigolo': 7103, 'mens': 7104, 'oncall': 7105, 'mjzgroup': 7106, '08714342399': 7107, '2stop': 7108, '50rcvd': 7109, 'casualty': 7110, 'stuff42moro': 7111, 'includes': 7112, 'honesty': 7113, 'paypal': 7114, 'voila': 7115, 'pockets': 7116, 'swimsuit': 7117, 'allowed': 7118, 'nauseous': 7119, 'sweets': 7120, 'dieting': 7121, 'consent': 7122, 'easiest': 7123, 'barcelona': 7124, 'stripes': 7125, 'skirt': 7126, 'tonexs': 7127, 'renewed': 7128, 'clubzed': 7129, 'billing': 7130, 'lambu': 7131, 'ji': 7132, 'batchlor': 7133, 'naal': 7134, 'eruku': 7135, 'fink': 7136, '09099726553': 7137, 'promised': 7138, 'carlie': 7139, 'minmobsmore': 7140, 'lkpobox177hp51fl': 7141, 'wallet': 7142, 'logging': 7143, 'geoenvironmental': 7144, 'implications': 7145, 'skye': 7146, 'gonnamissu': 7147, 'buttheres': 7148, 'aboutas': 7149, 'merememberin': 7150, 'asthere': 7151, 'ofsi': 7152, 'breakin': 7153, 'yaxx': 7154, 'browser': 7155, 'surf': 7156, 'coveragd': 7157, 'vasai': 7158, \"4'o\": 7159, 'yupz': 7160, \"cali's\": 7161, 'complexities': 7162, 'freely': 7163, 'taxes': 7164, 'outrageous': 7165, 'mad1': 7166, 'mad2': 7167, 'versus': 7168, 'attention': 7169, 'disappeared': 7170, '2bold': 7171, \"xin's\": 7172, 'depression': 7173, 'outs': 7174, '62220cncl': 7175, 'stopcs': 7176, '08717890890å£1': 7177, 'missionary': 7178, 'r836': 7179, '09065069154': 7180, 'glo': 7181, \"that'd\": 7182, 'scenario': 7183, 'agent': 7184, 'goodies': 7185, 'mat': 7186, 'denying': 7187, 'tbs': 7188, 'persolvo': 7189, 'forå£38': 7190, 'kath': 7191, 'manchester': 7192, \"x'mas\": 7193, '09050003091': 7194, 'c52': 7195, 'youåõre': 7196, 'mus': 7197, 'bold2': 7198, 'scratching': 7199, 'september': 7200, 'antibiotic': 7201, 'abdomen': 7202, 'gynae': 7203, 'guides': 7204, 'jos': 7205, '09050000460': 7206, 'j89': 7207, 'box245c2150pm': 7208, 'wright': 7209, 'fly': 7210, 'forgiveness': 7211, 'balloon': 7212, 'heading': 7213, 'newquay': 7214, '1im': 7215, 'talkin': 7216, 'excited': 7217, 'siva': 7218, 'tats': 7219, 'beth': 7220, 'charlie': 7221, 'mobsi': 7222, '391784': 7223, 'hunting': 7224, 'hhahhaahahah': 7225, 'nig': 7226, 'leonardo': 7227, '2mro': 7228, 'continued': 7229, 'president': 7230, 'forgive': 7231, 'props': 7232, 'affidavit': 7233, 'twiggs': 7234, 'courtroom': 7235, 'monkey': 7236, 'asshole': 7237, 'recognises': 7238, 'tonights': 7239, 'get4an18th': 7240, 'spiffing': 7241, 'workage': 7242, 'spontaneously': 7243, 'goodevening': 7244, 'slob': 7245, 'bitching': 7246, 'gate': 7247, 'prestige': 7248, 'heåõs': 7249, '2getha': 7250, 'doit': 7251, 'mymoby': 7252, 'jurong': 7253, 'amore': 7254, 'real1': 7255, 'pushbutton': 7256, 'dontcha': 7257, 'babygoodbye': 7258, 'golddigger': 7259, 'webeburnin': 7260, \"hi'\": 7261, 'sozi': 7262, 'culdnt': 7263, 'talkbut': 7264, 'wannatell': 7265, 'wenwecan': 7266, 'properly': 7267, 'bits': 7268, 'tddnewsletter': 7269, 'emc1': 7270, 'thedailydraw': 7271, 'dozens': 7272, 'prizeswith': 7273, 'poking': 7274, 'ciao': 7275, 'sunroof': 7276, '08708800282': 7277, 'becausethey': 7278, '09058098002': 7279, 'pobox1': 7280, 'w14rg': 7281, \"fuck's\": 7282, 'tallahassee': 7283, '08718738034': 7284, 'footie': 7285, 'phil': 7286, 'neville': 7287, 'showr': 7288, 'ip': 7289, 'minecraft': 7290, 'server': 7291, 'ploughing': 7292, 'pile': 7293, 'ironing': 7294, 'chinky': 7295, 'rebtel': 7296, 'firefox': 7297, 'lower': 7298, 'jog': 7299, 'poorly': 7300, 'punishment': 7301, 'brb': 7302, 'kill': 7303, 'build': 7304, 'snowman': 7305, 'angels': 7306, 'snowball': 7307, '0789xxxxxxx': 7308, 'computational': 7309, 'deny': 7310, 'kotees': 7311, 'dose': 7312, 'tablet': 7313, 'rajini': 7314, 'weirdo': 7315, 'millers': 7316, 'hogolo': 7317, 'gold': 7318, 'kodstini': 7319, 'madstini': 7320, 'hogli': 7321, 'mutai': 7322, 'eerulli': 7323, 'kodthini': 7324, 'consider': 7325, 'bunkers': 7326, 'yeesh': 7327, 'text82228': 7328, 'logos': 7329, 'lolnice': 7330, 'ned': 7331, 'convince': 7332, 'witot': 7333, '09050001295': 7334, 'a21': 7335, 'thanks2': 7336, 'genius': 7337, '400mins': 7338, 'j5q': 7339, 'basketball': 7340, 'outdoors': 7341, 'randomlly': 7342, 'shipped': 7343, 'alian': 7344, 'theoretically': 7345, 'cc100p': 7346, 'whereare': 7347, 'friendsare': 7348, 'thekingshead': 7349, 'canlove': 7350, 'funk': 7351, 'tones2u': 7352, 'babyjontet': 7353, 'smsing': 7354, '4qf2': 7355, 'adore': 7356, 'fredericksburg': 7357, 'noiåõm': 7358, 'nit': 7359, 'js': 7360, 'aids': 7361, 'patent': 7362, \"biola's\": 7363, 'fne': 7364, 'bsn': 7365, 'advising': 7366, 'pract': 7367, 'flung': 7368, 'tkls': 7369, 'stoptxtstopå£1': 7370, 'wipro': 7371, 'tensed': 7372, 'lul': 7373, 'nurses': 7374, 'shes': 7375, 'obese': 7376, 'oyea': 7377, 'attending': 7378, 'talks': 7379, 'oyster': 7380, 'sashimi': 7381, 'rumbling': 7382, 'owe': 7383, '07753741225': 7384, '08715203677': 7385, '42478': 7386, 'prasanth': 7387, 'ettans': 7388, 'lindsay': 7389, 'bars': 7390, 'heron': 7391, 'seeking': 7392, 'salesman': 7393, 'spark': 7394, 'rawring': 7395, 'xoxo': 7396, 'biola': 7397, 'kalainar': 7398, 'thenampet': 7399, 'philosophical': 7400, 'hole': 7401, 'squatting': 7402, 'dang': 7403, 'mapquest': 7404, 'dogwood': 7405, 'prix': 7406, 'powerful': 7407, 'weapon': 7408, \"'heart'\": 7409, 'goigng': 7410, 'perfume': 7411, 'drastic': 7412, 'dare': 7413, 'isaiah': 7414, '07973788240': 7415, '08715203649': 7416, '40533': 7417, 'sef': 7418, 'anjie': 7419, 'awkward': 7420, '146tf150p': 7421, '3mobile': 7422, 'chatlines': 7423, 'inclu': 7424, 'servs': 7425, 'l8er': 7426, 'bailiff': 7427, 'childporn': 7428, 'lara': 7429, 'resolution': 7430, 'frank': 7431, 'rob': 7432, 'mack': 7433, 'theater': 7434, 'merely': 7435, 'relationship': 7436, 'wherevr': 7437, 'gudnyt': 7438, 'african': 7439, 'soil': 7440, 'eldest': 7441, 'err': 7442, 'thinkthis': 7443, 'dangerous': 7444, 'sexychat': 7445, 'xclusive': 7446, 'clubsaisai': 7447, 'soiree': 7448, 'speciale': 7449, 'zouk': 7450, 'roses': 7451, '07946746291': 7452, '07880867867': 7453, 'offering': 7454, 'ffffffffff': 7455, 'computerless': 7456, 'oreo': 7457, 'truffles': 7458, 'gandhipuram': 7459, '4882': 7460, '09064019014': 7461, 'portal': 7462, \"ron's\": 7463, 'walked': 7464, 'stagwood': 7465, 'winterstone': 7466, 'victors': 7467, 'cloud': 7468, 'burial': 7469, 'mojibiola': 7470, 'freaking': 7471, 'myspace': 7472, 'logged': 7473, '83370': 7474, 'trivia': 7475, 'prices': 7476, 'crowd': 7477, 'srs': 7478, 'approaching': 7479, 'sankranti': 7480, 'republic': 7481, 'shivratri': 7482, 'ugadi': 7483, 'fools': 7484, 'independence': 7485, 'teachers': 7486, 'childrens': 7487, 'festival': 7488, 'dasara': 7489, 'mornings': 7490, 'afternoons': 7491, 'rememberi': 7492, \"your's\": 7493, 'brah': 7494, 'perf': 7495, 'defer': 7496, 'admission': 7497, 'ams': 7498, \"hubby's\": 7499, '89938': 7500, 'strings': 7501, '50ea': 7502, 'otbox': 7503, '731': 7504, 'la1': 7505, '7ws': 7506, 'avo': 7507, 'zogtorius': 7508, 'iåõve': 7509, 'bffs': 7510, 'carly': 7511, 'roomate': 7512, 'graduated': 7513, 'melody': 7514, 'sabarish': 7515, 'gek1510': 7516, 'swhrt': 7517, 'inner': 7518, 'tigress': 7519, '09050005321': 7520, 'cl': 7521, 'sapna': 7522, 'manege': 7523, \"y'day\": 7524, 'hogidhe': 7525, 'chinnu': 7526, 'swalpa': 7527, 'agidhane': 7528, 'learned': 7529, 'julianaland': 7530, 'oblivious': 7531, 'meaningful': 7532, 'compromised': 7533, '83021': 7534, 'pobox202': 7535, 'nr31': 7536, '7zs': 7537, '450pw': 7538, 'gained': 7539, 'kg': 7540, 'pressure': 7541, 'limits': 7542, 'fumbling': 7543, 'nearer': 7544, 'bottle': 7545, 'amused': 7546, '09090900040': 7547, 'extreme': 7548, 'sic': 7549, '7mp': 7550, '0870753331018': 7551, 'jen': 7552, '95': 7553, 'pax': 7554, 'deposit': 7555, 'mallika': 7556, 'sherawat': 7557, \"party's\": 7558, 'contribute': 7559, 'greatly': 7560, 'pdate': 7561, 'yhl': 7562, 'chez': 7563, 'jules': 7564, 'grinule': 7565, '09094646899': 7566, 'vu': 7567, 'bcm1896wc1n3xx': 7568, 'dine': 7569, 'weightloss': 7570, '09064019788': 7571, 'box42wr29c': 7572, 'auntie': 7573, 'huai': 7574, 'vomitin': 7575, 'prometazine': 7576, 'syrup': 7577, '5mls': 7578, 'feed': 7579, 'hmv1': 7580, '08715203652': 7581, '42810': 7582, 'loo': 7583, 'ed': 7584, 'qet': 7585, 'yummmm': 7586, 'entertaining': 7587, 'hugh': 7588, 'laurie': 7589, 'emerging': 7590, 'fiend': 7591, 'impede': 7592, 'hesitant': 7593, 'grandmas': 7594, 'hungover': 7595, 'goodmate': 7596, 'asusual': 7597, 'cheered': 7598, 'franyxxxxx': 7599, 'jan': 7600, 'held': 7601, 'prasad': 7602, 'pushes': 7603, 'underdtand': 7604, 'entrepreneurs': 7605, 'cartons': 7606, 'shelves': 7607, 'tonght': 7608, 'despite': 7609, 'meat': 7610, 'supreme': 7611, 'posh': 7612, 'chaps': 7613, 'trial': 7614, 'prods': 7615, 'champneys': 7616, 'dob': 7617, 'grandma': 7618, 'parade': 7619, 'pansy': 7620, 'jungle': 7621, 'dabooks': 7622, 'stone': 7623, 'velusamy': 7624, \"sir's\": 7625, 'facilities': 7626, '1apple': 7627, '1tulsi': 7628, 'leaf': 7629, '1lemon': 7630, '1cup': 7631, 'problms': 7632, 'litres': 7633, 'watr': 7634, 'diseases': 7635, 'snd': 7636, 'bookshelf': 7637, 'woul': 7638, 'curfew': 7639, 'gibe': 7640, 'getsleep': 7641, 'studdying': 7642, 'justify': 7643, 'luckily': 7644, 'starring': 7645, 'becz': 7646, 'undrstndng': 7647, 'avoids': 7648, 'suffer': 7649, 'whn': 7650, 'beta': 7651, 'elephant': 7652, 'shove': 7653, 'um': 7654, 'remembrs': 7655, 'everytime': 7656, 'turned': 7657, 'arrived': 7658, 'relaxing': 7659, '7am': 7660, '5ish': 7661, 'conversations': 7662, 'senses': 7663, 'overemphasise': 7664, '2yrs': 7665, 'changes': 7666, 'appendix': 7667, 'liver': 7668, 'managed': 7669, \"s'fine\": 7670, 'copies': 7671, 'opened': 7672, 'batch': 7673, 'incomm': 7674, 'topped': 7675, 'bubbletext': 7676, 'tgxxrz': 7677, 'sweater': 7678, 'mango': 7679, 'aslamalaikkum': 7680, 'tohar': 7681, 'beeen': 7682, 'muht': 7683, 'albi': 7684, 'mufti': 7685, 'mahfuuz': 7686, 'langport': 7687, 'board': 7688, 'overheating': 7689, 'reslove': 7690, 'inst': 7691, \"8'o\": 7692, 'directors': 7693, 'lac': 7694, 'deposited': 7695, \"'taxless'\": 7696, 'lane': 7697, 'suply': 7698, 'projects': 7699, 'imf': 7700, 'blocked': 7701, 'corrupt': 7702, 'itna': 7703, 'karo': 7704, 'ki': 7705, 'pura': 7706, 'padhe': 7707, 'base': 7708, 'unsubscribed': 7709, 'hunks': 7710, 'gotbabes': 7711, 'subscriptions': 7712, 'expressoffer': 7713, 'busetop': 7714, '44': 7715, '7732584351': 7716, '08718726978': 7717, 'zhong': 7718, 'qing': 7719, 'act': 7720, 'lyricalladie': 7721, 'hmmross': 7722, 'occasion': 7723, 'celebrated': 7724, 'reflection': 7725, 'values': 7726, 'affections': 7727, 'traditions': 7728, 'sd': 7729, '078498': 7730, '08719180219': 7731, 'tirunelvai': 7732, 'nick': 7733, 'types': 7734, '08718730666': 7735, 'figuring': 7736, 'lobby': 7737, 'puzzeles': 7738, 'juliana': 7739, '08717895698': 7740, 'mobstorequiz10ppm': 7741, '07801543489': 7742, 'latests': 7743, 'llc': 7744, 'ny': 7745, 'usa': 7746, 'msgrcvd18': 7747, 'downstem': 7748, 'macha': 7749, 'mindset': 7750, 'secure': 7751, 'tram': 7752, 'cousin': 7753, 'vic': 7754, 'misscall': 7755, 'frndz': 7756, '6missed': 7757, 'wesley': 7758, \"how've\": 7759, 'panasonic': 7760, 'bluetoothhdset': 7761, 'doublemins': 7762, 'doubletxt': 7763, '82324': 7764, 'helpline': 7765, '08706091795': 7766, '85233': 7767, 'likes': 7768, '083': 7769, '6089': 7770, 'sos': 7771, 'ashley': 7772, 'dhoni': 7773, 'stu': 7774, 'truble': 7775, 'evone': 7776, 'hates': 7777, 'av': 7778, 'bck': 7779, 'swan': 7780, 'noooooooo': 7781, 'soo': 7782, 'recognise': 7783, 'talents': 7784, 'keypad': 7785, 'burden': 7786, '07090201529': 7787, 'environment': 7788, 'terrific': 7789, 'concentration': 7790, 'coco': 7791, 'waheeda': 7792, 'messaged': 7793, 'diesel': 7794, 'sleeps': 7795, 'admit': 7796, \"weather's\": 7797, 'keeps': 7798, '0796xxxxxx': 7799, 'prizeawaiting': 7800, 'dao': 7801, 'prin': 7802, '3miles': 7803, '08715203656': 7804, '42049': 7805, 'hu': 7806, 'navigate': 7807, 'choosing': 7808, 'require': 7809, 'guidance': 7810, 'goin2bed': 7811, 'only1more': 7812, 'senor': 7813, \"account's\": 7814, 'scratches': 7815, 'wahala': 7816, '9t': 7817, 'goals': 7818, 'villa': 7819, 'covers': 7820, 'emigrated': 7821, 'hopeful': 7822, 'breather': 7823, 'granted': 7824, 'fulfil': 7825, '69200': 7826, 'chrgd': 7827, '2exit': 7828, 'iron': 7829, 'wikipedia': 7830, 'maintaining': 7831, 'drugdealer': 7832, 'forwarding': 7833, 'clas': 7834, 'league': 7835, 'errors': 7836, 'quitting': 7837, 'least5times': 7838, \"wudn't\": 7839, 'wendy': 7840, '449050000301': 7841, '09050000301': 7842, 'mys': 7843, '08715203685': 7844, '4xx26': 7845, 'somerset': 7846, 'arngd': 7847, 'walkin': 7848, 'unfortuntly': 7849, 'bites': 7850, 'frnt': 7851, 'sayin': 7852, 'gsex': 7853, '2667': 7854, 'wc1n': 7855, '3xx': 7856, '7634': 7857, '7684': 7858, 'heaven': 7859, 'lovly': 7860, 'gokila': 7861, 'nìâte': 7862, 'tunji': 7863, 'filthyguys': 7864, '4msgs': 7865, 'shola': 7866, 'sagamu': 7867, 'lautech': 7868, 'vital': 7869, 'completes': 7870, 'education': 7871, 'zealand': 7872, 'woo': 7873, 'hoo': 7874, 'salam': 7875, 'alaikkum': 7876, 'stereo': 7877, 'mi': 7878, 'unknown': 7879, 'adewale': 7880, 'egbon': 7881, 'mailed': 7882, 'varma': 7883, 'knickers': 7884, '01223585236': 7885, 'nikiyu4': 7886, 'specify': 7887, 'domain': 7888, 'nusstu': 7889, 'broadband': 7890, 'installation': 7891, 'buffy': 7892, 'qlynnbv': 7893, 'help08700621170150p': 7894, '600': 7895, '400': 7896, 'deltomorrow': 7897, '08002888812': 7898, \"hadn't\": 7899, 'clocks': 7900, 'realised': 7901, 'wahay': 7902, 'fudge': 7903, 'oreos': 7904, 'resent': 7905, 'previous': 7906, 'queries': 7907, 'customersqueries': 7908, 'netvision': 7909, 'buzzzz': 7910, 'vibrator': 7911, 'shake': 7912, 'crammed': 7913, 'ajith': 7914, 'apology': 7915, 'rearrange': 7916, 'dormitory': 7917, 'astronomer': 7918, 'starer': 7919, 'election': 7920, 'recount': 7921, 'hitler': 7922, 'eleven': 7923, '0870737910216yrs': 7924, 'internal': 7925, 'extract': 7926, '09065171142': 7927, 'stopsms': 7928, '08718727870150ppm': 7929, 'noworriesloans': 7930, '08717111821': 7931, 'nowhere': 7932, 'ikno': 7933, 'doesdiscount': 7934, 'shitinnit': 7935, 'lovin': 7936, 'waliking': 7937, 'b4u': 7938, 'marsms': 7939, 'b4utele': 7940, '08717168528': 7941, 'cmon': 7942, 'sticky': 7943, 'replies': 7944, 'progress': 7945, 'loooooool': 7946, 'couch': 7947, 'rents': 7948, 'breaking': 7949, 'cstore': 7950, 'dedicated': 7951, 'dedicate': 7952, 'valuable': 7953, 'theyre': 7954, 'comprehensive': 7955, 'pressies': 7956, 'documents': 7957, 'submitted': 7958, 'stapati': 7959, '83110': 7960, \"no's\": 7961, 'disc': 7962, 'weåõve': 7963, 'mint': 7964, 'printed': 7965, 'divorce': 7966, 'barbie': 7967, \"ken's\": 7968, 'twinks': 7969, 'scallies': 7970, 'skins': 7971, 'jocks': 7972, '08712466669': 7973, '24th': 7974, \"something's\": 7975, '08719839835': 7976, 'mgs': 7977, '89123': 7978, 'tagged': 7979, 'reffering': 7980, 'getiing': 7981, 'gota': 7982, 'prsn': 7983, 'saves': 7984, 'seing': 7985, 'asssssholeeee': 7986, 'marvel': 7987, 'ultimate': 7988, '83338': 7989, '8ball': 7990, 'companion': 7991, 'chef': 7992, 'listener': 7993, 'organizer': 7994, 'sympathetic': 7995, 'athletic': 7996, 'courageous': 7997, 'determined': 7998, 'dependable': 7999, 'psychologist': 8000, 'pest': 8001, 'exterminator': 8002, 'psychiatrist': 8003, 'healer': 8004, 'stylist': 8005, 'aaniye': 8006, 'pudunga': 8007, 'venaam': 8008, 'image': 8009, 'ijust': 8010, 'talked': 8011, 'cashed': 8012, 'announced': 8013, 'blog': 8014, '09066649731from': 8015, 'goggles': 8016, 'paining': 8017, 'converter': 8018, 'syria': 8019, 'yuou': 8020, 'spot': 8021, 'adi': 8022, 'entey': 8023, 'nattil': 8024, 'kittum': 8025, 'priority': 8026, 'web2mobile': 8027, 'txt250': 8028, 'box139': 8029, 'la32wu': 8030, 'txtx': 8031, 'daaaaa': 8032, 'whore': 8033, '32': 8034, 'corporation': 8035, 'aust': 8036, 'bk': 8037, 'sacked': 8038, 'juswoke': 8039, 'boatin': 8040, 'docks': 8041, 'spinout': 8042, 'oi': 8043, 'ami': 8044, 'parchi': 8045, 'kicchu': 8046, 'kaaj': 8047, 'korte': 8048, 'iccha': 8049, 'korche': 8050, 'tul': 8051, 'flow': 8052, 'developed': 8053, 'ovarian': 8054, 'cysts': 8055, 'shrink': 8056, 'fixes': 8057, 'spelling': 8058, 'pshew': 8059, 'buyers': 8060, 'relieved': 8061, 'westonzoyland': 8062, 'chit': 8063, 'logon': 8064, '8883': 8065, 'cm': 8066, '4217': 8067, 'w1a': 8068, '6zf': 8069, '118p': 8070, 'listed': 8071, 'interfued': 8072, '123': 8073, 'å£1450': 8074, '09050002311': 8075, 'b4280703': 8076, '08718727868': 8077, 'needing': 8078, 'hdd': 8079, 'casing': 8080, '0721072': 8081, 'whens': 8082, 'dumb': 8083, 'deserve': 8084, 'pump': 8085, \"it'll\": 8086, 'unintentionally': 8087, 'forum': 8088, 'watts': 8089, 'install': 8090, 'browse': 8091, 'artists': 8092, '7548': 8093, '350': 8094, '4041': 8095, 'europe': 8096, 'stuffing': 8097, 'harder': 8098, 'nbme': 8099, 'steamboat': 8100, 'jaykwon': 8101, 'thuglyfe': 8102, 'falconerf': 8103, 'cutest': 8104, 'virgin': 8105, '09061104283': 8106, '50pm': 8107, 'batt': 8108, 'aaooooright': 8109, 'uploaded': 8110, '02072069400': 8111, 'bx': 8112, '526': 8113, 'weighed': 8114, 'woohoo': 8115, 'owned': 8116, 'possessive': 8117, 'chiong': 8118, 'anthony': 8119, 'mc': 8120, 'tahan': 8121, 'anot': 8122, 'young': 8123, 'pose': 8124, 'comb': 8125, 'dryer': 8126, 'practising': 8127, 'curtsey': 8128, 'huiming': 8129, 'gray': 8130, 'listn': 8131, 'watevr': 8132, 'lambda': 8133, '850': 8134, '650': 8135, 'increase': 8136, 'promotion': 8137, '8714714': 8138, 'helloooo': 8139, 'welcomes': 8140, 'classmates': 8141, 'abroad': 8142, 'xxsp': 8143, 'stopcost': 8144, '08712400603': 8145, 'conacted': 8146, '09111030116': 8147, 'pobox12n146tf15': 8148, 'western': 8149, '645': 8150, 'drama': 8151, 'struggling': 8152, 'strange': 8153, 'ego': 8154, \"'if\": 8155, \"invited'\": 8156, 'necessity': 8157, 'reppurcussions': 8158, 'gauti': 8159, 'sehwag': 8160, 'parkin': 8161, 'chgs': 8162, 'optimistic': 8163, 'improve': 8164, 'maggi': 8165, 'mee': 8166, '3pound': 8167, '08714712379': 8168, 'complain': 8169, 'bettr': 8170, 'bsnl': 8171, 'offc': 8172, 'logoff': 8173, 'shag': 8174, 'sextextuk': 8175, 'xxuk': 8176, '69876': 8177, 'acknowledgement': 8178, 'astoundingly': 8179, 'tactless': 8180, 'oath': 8181}\n"
          ],
          "name": "stdout"
        }
      ]
    },
    {
      "cell_type": "code",
      "metadata": {
        "id": "fiMpyDYYLtv7",
        "colab_type": "code",
        "colab": {}
      },
      "source": [
        "sequences_matrix = sequence.pad_sequences(sequences,maxlen=max_len)"
      ],
      "execution_count": 0,
      "outputs": []
    },
    {
      "cell_type": "code",
      "metadata": {
        "id": "7AlCnjsiLttx",
        "colab_type": "code",
        "colab": {
          "base_uri": "https://localhost:8080/",
          "height": 170
        },
        "outputId": "bbcc055c-2693-4dd6-e556-46fed8e5e079"
      },
      "source": [
        "print(len(sequences_matrix))\n",
        "print(sequences_matrix.shape)\n",
        "print(sequences_matrix)"
      ],
      "execution_count": 50,
      "outputs": [
        {
          "output_type": "stream",
          "text": [
            "4736\n",
            "(4736, 150)\n",
            "[[  0   0   0 ...  38 289 146]\n",
            " [  0   0   0 ... 798  20 131]\n",
            " [  0   0   0 ...  81  16 104]\n",
            " ...\n",
            " [  0   0   0 ...   3 457   2]\n",
            " [  0   0   0 ... 121  18 252]\n",
            " [  0   0   0 ...   2   4 897]]\n"
          ],
          "name": "stdout"
        }
      ]
    },
    {
      "cell_type": "code",
      "metadata": {
        "id": "rBMljgMWLtrn",
        "colab_type": "code",
        "colab": {}
      },
      "source": [
        "from keras.layers import LSTM, Activation, Dense, Dropout, Input, Embedding\n",
        "from keras.models import Model\n",
        "def RNN():\n",
        "    inputs = Input(name='inputs',shape=[max_len])\n",
        "    layer = Embedding(max_words,50,input_length=max_len)(inputs)\n",
        "    layer = LSTM(64)(layer)\n",
        "    layer = Dense(256,name='FC1')(layer)\n",
        "    layer = Activation('relu')(layer)\n",
        "    layer = Dropout(0.5)(layer)\n",
        "    layer = Dense(1,name='out_layer')(layer)\n",
        "    layer = Activation('sigmoid')(layer)\n",
        "    model = Model(inputs=inputs,outputs=layer)\n",
        "    return model"
      ],
      "execution_count": 0,
      "outputs": []
    },
    {
      "cell_type": "code",
      "metadata": {
        "id": "zHK62N-TLtpx",
        "colab_type": "code",
        "colab": {
          "base_uri": "https://localhost:8080/",
          "height": 649
        },
        "outputId": "5cf3b416-722a-4f9b-f4bf-e19991c94507"
      },
      "source": [
        "from keras.optimizers import RMSprop\n",
        "model = RNN()\n",
        "print(model.summary())"
      ],
      "execution_count": 52,
      "outputs": [
        {
          "output_type": "stream",
          "text": [
            "WARNING:tensorflow:From /usr/local/lib/python3.6/dist-packages/keras/backend/tensorflow_backend.py:541: The name tf.placeholder is deprecated. Please use tf.compat.v1.placeholder instead.\n",
            "\n",
            "WARNING:tensorflow:From /usr/local/lib/python3.6/dist-packages/keras/backend/tensorflow_backend.py:66: The name tf.get_default_graph is deprecated. Please use tf.compat.v1.get_default_graph instead.\n",
            "\n",
            "WARNING:tensorflow:From /usr/local/lib/python3.6/dist-packages/keras/backend/tensorflow_backend.py:4432: The name tf.random_uniform is deprecated. Please use tf.random.uniform instead.\n",
            "\n",
            "WARNING:tensorflow:From /usr/local/lib/python3.6/dist-packages/keras/backend/tensorflow_backend.py:148: The name tf.placeholder_with_default is deprecated. Please use tf.compat.v1.placeholder_with_default instead.\n",
            "\n",
            "WARNING:tensorflow:From /usr/local/lib/python3.6/dist-packages/keras/backend/tensorflow_backend.py:3733: calling dropout (from tensorflow.python.ops.nn_ops) with keep_prob is deprecated and will be removed in a future version.\n",
            "Instructions for updating:\n",
            "Please use `rate` instead of `keep_prob`. Rate should be set to `rate = 1 - keep_prob`.\n",
            "Model: \"model_1\"\n",
            "_________________________________________________________________\n",
            "Layer (type)                 Output Shape              Param #   \n",
            "=================================================================\n",
            "inputs (InputLayer)          (None, 150)               0         \n",
            "_________________________________________________________________\n",
            "embedding_1 (Embedding)      (None, 150, 50)           50000     \n",
            "_________________________________________________________________\n",
            "lstm_1 (LSTM)                (None, 64)                29440     \n",
            "_________________________________________________________________\n",
            "FC1 (Dense)                  (None, 256)               16640     \n",
            "_________________________________________________________________\n",
            "activation_1 (Activation)    (None, 256)               0         \n",
            "_________________________________________________________________\n",
            "dropout_1 (Dropout)          (None, 256)               0         \n",
            "_________________________________________________________________\n",
            "out_layer (Dense)            (None, 1)                 257       \n",
            "_________________________________________________________________\n",
            "activation_2 (Activation)    (None, 1)                 0         \n",
            "=================================================================\n",
            "Total params: 96,337\n",
            "Trainable params: 96,337\n",
            "Non-trainable params: 0\n",
            "_________________________________________________________________\n",
            "None\n"
          ],
          "name": "stdout"
        }
      ]
    },
    {
      "cell_type": "code",
      "metadata": {
        "id": "NommwIqULtnh",
        "colab_type": "code",
        "colab": {
          "base_uri": "https://localhost:8080/",
          "height": 156
        },
        "outputId": "2dcdc411-64b8-4e76-b2f7-b48df6dea91c"
      },
      "source": [
        "model.compile(loss='binary_crossentropy',optimizer=RMSprop(),metrics=['accuracy'])"
      ],
      "execution_count": 53,
      "outputs": [
        {
          "output_type": "stream",
          "text": [
            "WARNING:tensorflow:From /usr/local/lib/python3.6/dist-packages/keras/optimizers.py:793: The name tf.train.Optimizer is deprecated. Please use tf.compat.v1.train.Optimizer instead.\n",
            "\n",
            "WARNING:tensorflow:From /usr/local/lib/python3.6/dist-packages/keras/backend/tensorflow_backend.py:3657: The name tf.log is deprecated. Please use tf.math.log instead.\n",
            "\n",
            "WARNING:tensorflow:From /usr/local/lib/python3.6/dist-packages/tensorflow_core/python/ops/nn_impl.py:183: where (from tensorflow.python.ops.array_ops) is deprecated and will be removed in a future version.\n",
            "Instructions for updating:\n",
            "Use tf.where in 2.0, which has the same broadcast rule as np.where\n"
          ],
          "name": "stdout"
        }
      ]
    },
    {
      "cell_type": "markdown",
      "metadata": {
        "id": "hOmJ9J0tvBt3",
        "colab_type": "text"
      },
      "source": [
        "#Fit on the training data."
      ]
    },
    {
      "cell_type": "code",
      "metadata": {
        "id": "z9U2SPbKLtlO",
        "colab_type": "code",
        "colab": {
          "base_uri": "https://localhost:8080/",
          "height": 153
        },
        "outputId": "002baa3d-eadf-4a93-a1cd-656ef6678eda"
      },
      "source": [
        "model.fit(sequences_matrix,\n",
        "          Y_train,\n",
        "          batch_size=128,\n",
        "          epochs=5,\n",
        "          validation_split=0.2,\n",
        "          callbacks=[EarlyStopping(monitor='val_loss',min_delta=0.0001)])"
      ],
      "execution_count": 55,
      "outputs": [
        {
          "output_type": "stream",
          "text": [
            "Train on 3788 samples, validate on 948 samples\n",
            "Epoch 1/5\n",
            "3788/3788 [==============================] - 10s 3ms/step - loss: 0.0301 - acc: 0.9908 - val_loss: 0.0820 - val_acc: 0.9810\n",
            "Epoch 2/5\n",
            "3788/3788 [==============================] - 10s 3ms/step - loss: 0.0257 - acc: 0.9929 - val_loss: 0.0743 - val_acc: 0.9842\n",
            "Epoch 3/5\n",
            "3788/3788 [==============================] - 10s 3ms/step - loss: 0.0195 - acc: 0.9931 - val_loss: 0.0823 - val_acc: 0.9831\n"
          ],
          "name": "stdout"
        },
        {
          "output_type": "execute_result",
          "data": {
            "text/plain": [
              "<keras.callbacks.History at 0x7fc7b2f7bd30>"
            ]
          },
          "metadata": {
            "tags": []
          },
          "execution_count": 55
        }
      ]
    },
    {
      "cell_type": "markdown",
      "metadata": {
        "id": "nNA72evCvsie",
        "colab_type": "text"
      },
      "source": [
        "#Process the test data"
      ]
    },
    {
      "cell_type": "code",
      "metadata": {
        "id": "VOWumrsIvIvN",
        "colab_type": "code",
        "colab": {}
      },
      "source": [
        "test_sequences = tok.texts_to_sequences(X_test)\n",
        "test_sequences_matrix = sequence.pad_sequences(test_sequences,maxlen=max_len)"
      ],
      "execution_count": 0,
      "outputs": []
    },
    {
      "cell_type": "code",
      "metadata": {
        "id": "jRwi41qoLtjE",
        "colab_type": "code",
        "colab": {
          "base_uri": "https://localhost:8080/",
          "height": 51
        },
        "outputId": "8fc05034-ae86-457a-9e8a-7a13cfe98ee6"
      },
      "source": [
        "#Evaluate the model on the test set.\n",
        "accr = model.evaluate(test_sequences_matrix,Y_test)\n",
        "accr"
      ],
      "execution_count": 57,
      "outputs": [
        {
          "output_type": "stream",
          "text": [
            "836/836 [==============================] - 3s 4ms/step\n"
          ],
          "name": "stdout"
        },
        {
          "output_type": "execute_result",
          "data": {
            "text/plain": [
              "[0.045359829996053, 0.9832535885167464]"
            ]
          },
          "metadata": {
            "tags": []
          },
          "execution_count": 57
        }
      ]
    },
    {
      "cell_type": "code",
      "metadata": {
        "id": "qHrTrJM1Ltg4",
        "colab_type": "code",
        "colab": {
          "base_uri": "https://localhost:8080/",
          "height": 68
        },
        "outputId": "3413a49a-8340-41dd-dc85-9ed5cebeda2c"
      },
      "source": [
        "print('Test set\\n  Loss: {:0.3f}%\\n  Accuracy: {:0.3f}%'.format(accr[0]*100,accr[1]*100))"
      ],
      "execution_count": 59,
      "outputs": [
        {
          "output_type": "stream",
          "text": [
            "Test set\n",
            "  Loss: 4.536%\n",
            "  Accuracy: 98.325%\n"
          ],
          "name": "stdout"
        }
      ]
    },
    {
      "cell_type": "markdown",
      "metadata": {
        "id": "XJ5cBo3sw628",
        "colab_type": "text"
      },
      "source": [
        "\n",
        "\n",
        "---\n",
        "\n",
        "\n",
        "\n",
        "---\n",
        "\n",
        "\n",
        "\n",
        "---\n",
        "\n",
        "\n",
        "\n",
        "---\n",
        "\n",
        "\n",
        "\n",
        "---\n",
        "\n",
        "\n",
        "\n",
        "#by using another method"
      ]
    },
    {
      "cell_type": "code",
      "metadata": {
        "id": "skVQ4JuvLtew",
        "colab_type": "code",
        "colab": {}
      },
      "source": [
        "import numpy as np\n",
        "import pandas as pd\n",
        "import matplotlib as mpl\n",
        "import matplotlib.pyplot as plt\n",
        "import seaborn as sns\n",
        "import string\n",
        "from sklearn.model_selection import train_test_split\n",
        "from nltk.corpus import stopwords\n",
        "%matplotlib inline"
      ],
      "execution_count": 0,
      "outputs": []
    },
    {
      "cell_type": "code",
      "metadata": {
        "id": "82XHwIQ6IQni",
        "colab_type": "code",
        "colab": {
          "base_uri": "https://localhost:8080/",
          "height": 221
        },
        "outputId": "f235e4c9-9a2a-4a16-bc41-45f91f64078c"
      },
      "source": [
        "sms = df.copy()\n",
        "print(sms.shape)\n",
        "sms.head()"
      ],
      "execution_count": 61,
      "outputs": [
        {
          "output_type": "stream",
          "text": [
            "(5572, 2)\n"
          ],
          "name": "stdout"
        },
        {
          "output_type": "execute_result",
          "data": {
            "text/html": [
              "<div>\n",
              "<style scoped>\n",
              "    .dataframe tbody tr th:only-of-type {\n",
              "        vertical-align: middle;\n",
              "    }\n",
              "\n",
              "    .dataframe tbody tr th {\n",
              "        vertical-align: top;\n",
              "    }\n",
              "\n",
              "    .dataframe thead th {\n",
              "        text-align: right;\n",
              "    }\n",
              "</style>\n",
              "<table border=\"1\" class=\"dataframe\">\n",
              "  <thead>\n",
              "    <tr style=\"text-align: right;\">\n",
              "      <th></th>\n",
              "      <th>v1</th>\n",
              "      <th>v2</th>\n",
              "    </tr>\n",
              "  </thead>\n",
              "  <tbody>\n",
              "    <tr>\n",
              "      <th>0</th>\n",
              "      <td>ham</td>\n",
              "      <td>Go until jurong point, crazy.. Available only ...</td>\n",
              "    </tr>\n",
              "    <tr>\n",
              "      <th>1</th>\n",
              "      <td>ham</td>\n",
              "      <td>Ok lar... Joking wif u oni...</td>\n",
              "    </tr>\n",
              "    <tr>\n",
              "      <th>2</th>\n",
              "      <td>spam</td>\n",
              "      <td>Free entry in 2 a wkly comp to win FA Cup fina...</td>\n",
              "    </tr>\n",
              "    <tr>\n",
              "      <th>3</th>\n",
              "      <td>ham</td>\n",
              "      <td>U dun say so early hor... U c already then say...</td>\n",
              "    </tr>\n",
              "    <tr>\n",
              "      <th>4</th>\n",
              "      <td>ham</td>\n",
              "      <td>Nah I don't think he goes to usf, he lives aro...</td>\n",
              "    </tr>\n",
              "  </tbody>\n",
              "</table>\n",
              "</div>"
            ],
            "text/plain": [
              "     v1                                                 v2\n",
              "0   ham  Go until jurong point, crazy.. Available only ...\n",
              "1   ham                      Ok lar... Joking wif u oni...\n",
              "2  spam  Free entry in 2 a wkly comp to win FA Cup fina...\n",
              "3   ham  U dun say so early hor... U c already then say...\n",
              "4   ham  Nah I don't think he goes to usf, he lives aro..."
            ]
          },
          "metadata": {
            "tags": []
          },
          "execution_count": 61
        }
      ]
    },
    {
      "cell_type": "code",
      "metadata": {
        "id": "h_t11iXmIQfI",
        "colab_type": "code",
        "colab": {}
      },
      "source": [
        "sms = sms.rename(columns = {'v1':'label','v2':'message'})"
      ],
      "execution_count": 0,
      "outputs": []
    },
    {
      "cell_type": "code",
      "metadata": {
        "id": "r0V_Awqsx5pi",
        "colab_type": "code",
        "colab": {
          "base_uri": "https://localhost:8080/",
          "height": 139
        },
        "outputId": "6d77ab43-4f5a-42b0-9e82-79af4e917568"
      },
      "source": [
        "sms.message.value_counts()[:5]"
      ],
      "execution_count": 68,
      "outputs": [
        {
          "output_type": "execute_result",
          "data": {
            "text/plain": [
              "Sorry, I'll call later                                                                                                                                   30\n",
              "I cant pick the phone right now. Pls send a message                                                                                                      12\n",
              "Ok...                                                                                                                                                    10\n",
              "Okie                                                                                                                                                      4\n",
              "Please call our customer service representative on FREEPHONE 0808 145 4742 between 9am-11pm as you have WON a guaranteed å£1000 cash or å£5000 prize!     4\n",
              "Name: message, dtype: int64"
            ]
          },
          "metadata": {
            "tags": []
          },
          "execution_count": 68
        }
      ]
    },
    {
      "cell_type": "code",
      "metadata": {
        "id": "HL5dRRv3IQdH",
        "colab_type": "code",
        "colab": {
          "base_uri": "https://localhost:8080/",
          "height": 142
        },
        "outputId": "391100c9-8b10-4284-8280-b8fd67d00e89"
      },
      "source": [
        "sms.groupby('label').first()"
      ],
      "execution_count": 65,
      "outputs": [
        {
          "output_type": "execute_result",
          "data": {
            "text/html": [
              "<div>\n",
              "<style scoped>\n",
              "    .dataframe tbody tr th:only-of-type {\n",
              "        vertical-align: middle;\n",
              "    }\n",
              "\n",
              "    .dataframe tbody tr th {\n",
              "        vertical-align: top;\n",
              "    }\n",
              "\n",
              "    .dataframe thead th {\n",
              "        text-align: right;\n",
              "    }\n",
              "</style>\n",
              "<table border=\"1\" class=\"dataframe\">\n",
              "  <thead>\n",
              "    <tr style=\"text-align: right;\">\n",
              "      <th></th>\n",
              "      <th>message</th>\n",
              "    </tr>\n",
              "    <tr>\n",
              "      <th>label</th>\n",
              "      <th></th>\n",
              "    </tr>\n",
              "  </thead>\n",
              "  <tbody>\n",
              "    <tr>\n",
              "      <th>ham</th>\n",
              "      <td>Go until jurong point, crazy.. Available only ...</td>\n",
              "    </tr>\n",
              "    <tr>\n",
              "      <th>spam</th>\n",
              "      <td>Free entry in 2 a wkly comp to win FA Cup fina...</td>\n",
              "    </tr>\n",
              "  </tbody>\n",
              "</table>\n",
              "</div>"
            ],
            "text/plain": [
              "                                                 message\n",
              "label                                                   \n",
              "ham    Go until jurong point, crazy.. Available only ...\n",
              "spam   Free entry in 2 a wkly comp to win FA Cup fina..."
            ]
          },
          "metadata": {
            "tags": []
          },
          "execution_count": 65
        }
      ]
    },
    {
      "cell_type": "code",
      "metadata": {
        "id": "zluILW2lIQaV",
        "colab_type": "code",
        "colab": {
          "base_uri": "https://localhost:8080/",
          "height": 173
        },
        "outputId": "bee1945e-1f90-483f-95d9-b81d604a85c6"
      },
      "source": [
        "sms.groupby('label').describe()"
      ],
      "execution_count": 72,
      "outputs": [
        {
          "output_type": "execute_result",
          "data": {
            "text/html": [
              "<div>\n",
              "<style scoped>\n",
              "    .dataframe tbody tr th:only-of-type {\n",
              "        vertical-align: middle;\n",
              "    }\n",
              "\n",
              "    .dataframe tbody tr th {\n",
              "        vertical-align: top;\n",
              "    }\n",
              "\n",
              "    .dataframe thead tr th {\n",
              "        text-align: left;\n",
              "    }\n",
              "\n",
              "    .dataframe thead tr:last-of-type th {\n",
              "        text-align: right;\n",
              "    }\n",
              "</style>\n",
              "<table border=\"1\" class=\"dataframe\">\n",
              "  <thead>\n",
              "    <tr>\n",
              "      <th></th>\n",
              "      <th colspan=\"4\" halign=\"left\">message</th>\n",
              "    </tr>\n",
              "    <tr>\n",
              "      <th></th>\n",
              "      <th>count</th>\n",
              "      <th>unique</th>\n",
              "      <th>top</th>\n",
              "      <th>freq</th>\n",
              "    </tr>\n",
              "    <tr>\n",
              "      <th>label</th>\n",
              "      <th></th>\n",
              "      <th></th>\n",
              "      <th></th>\n",
              "      <th></th>\n",
              "    </tr>\n",
              "  </thead>\n",
              "  <tbody>\n",
              "    <tr>\n",
              "      <th>ham</th>\n",
              "      <td>4825</td>\n",
              "      <td>4516</td>\n",
              "      <td>Sorry, I'll call later</td>\n",
              "      <td>30</td>\n",
              "    </tr>\n",
              "    <tr>\n",
              "      <th>spam</th>\n",
              "      <td>747</td>\n",
              "      <td>653</td>\n",
              "      <td>Please call our customer service representativ...</td>\n",
              "      <td>4</td>\n",
              "    </tr>\n",
              "  </tbody>\n",
              "</table>\n",
              "</div>"
            ],
            "text/plain": [
              "      message                                                               \n",
              "        count unique                                                top freq\n",
              "label                                                                       \n",
              "ham      4825   4516                             Sorry, I'll call later   30\n",
              "spam      747    653  Please call our customer service representativ...    4"
            ]
          },
          "metadata": {
            "tags": []
          },
          "execution_count": 72
        }
      ]
    },
    {
      "cell_type": "code",
      "metadata": {
        "id": "rMKELSs7IQU-",
        "colab_type": "code",
        "colab": {
          "base_uri": "https://localhost:8080/",
          "height": 204
        },
        "outputId": "a8b8dab4-624f-48ae-9e5c-eb3787fd6f18"
      },
      "source": [
        "sms['length'] = sms['message'].apply(len)\n",
        "sms.head()"
      ],
      "execution_count": 73,
      "outputs": [
        {
          "output_type": "execute_result",
          "data": {
            "text/html": [
              "<div>\n",
              "<style scoped>\n",
              "    .dataframe tbody tr th:only-of-type {\n",
              "        vertical-align: middle;\n",
              "    }\n",
              "\n",
              "    .dataframe tbody tr th {\n",
              "        vertical-align: top;\n",
              "    }\n",
              "\n",
              "    .dataframe thead th {\n",
              "        text-align: right;\n",
              "    }\n",
              "</style>\n",
              "<table border=\"1\" class=\"dataframe\">\n",
              "  <thead>\n",
              "    <tr style=\"text-align: right;\">\n",
              "      <th></th>\n",
              "      <th>label</th>\n",
              "      <th>message</th>\n",
              "      <th>length</th>\n",
              "    </tr>\n",
              "  </thead>\n",
              "  <tbody>\n",
              "    <tr>\n",
              "      <th>0</th>\n",
              "      <td>ham</td>\n",
              "      <td>Go until jurong point, crazy.. Available only ...</td>\n",
              "      <td>111</td>\n",
              "    </tr>\n",
              "    <tr>\n",
              "      <th>1</th>\n",
              "      <td>ham</td>\n",
              "      <td>Ok lar... Joking wif u oni...</td>\n",
              "      <td>29</td>\n",
              "    </tr>\n",
              "    <tr>\n",
              "      <th>2</th>\n",
              "      <td>spam</td>\n",
              "      <td>Free entry in 2 a wkly comp to win FA Cup fina...</td>\n",
              "      <td>155</td>\n",
              "    </tr>\n",
              "    <tr>\n",
              "      <th>3</th>\n",
              "      <td>ham</td>\n",
              "      <td>U dun say so early hor... U c already then say...</td>\n",
              "      <td>49</td>\n",
              "    </tr>\n",
              "    <tr>\n",
              "      <th>4</th>\n",
              "      <td>ham</td>\n",
              "      <td>Nah I don't think he goes to usf, he lives aro...</td>\n",
              "      <td>61</td>\n",
              "    </tr>\n",
              "  </tbody>\n",
              "</table>\n",
              "</div>"
            ],
            "text/plain": [
              "  label                                            message  length\n",
              "0   ham  Go until jurong point, crazy.. Available only ...     111\n",
              "1   ham                      Ok lar... Joking wif u oni...      29\n",
              "2  spam  Free entry in 2 a wkly comp to win FA Cup fina...     155\n",
              "3   ham  U dun say so early hor... U c already then say...      49\n",
              "4   ham  Nah I don't think he goes to usf, he lives aro...      61"
            ]
          },
          "metadata": {
            "tags": []
          },
          "execution_count": 73
        }
      ]
    },
    {
      "cell_type": "code",
      "metadata": {
        "id": "mnsFrtEAIQTZ",
        "colab_type": "code",
        "colab": {
          "base_uri": "https://localhost:8080/",
          "height": 394
        },
        "outputId": "dba77b8d-7156-45aa-a3ff-e75ba2806415"
      },
      "source": [
        "mpl.rcParams['patch.force_edgecolor'] = True\n",
        "plt.style.use('seaborn-bright')\n",
        "sms.hist(column='length', by='label', bins=50,figsize=(11,5))"
      ],
      "execution_count": 74,
      "outputs": [
        {
          "output_type": "execute_result",
          "data": {
            "text/plain": [
              "array([<matplotlib.axes._subplots.AxesSubplot object at 0x7fc76001eb00>,\n",
              "       <matplotlib.axes._subplots.AxesSubplot object at 0x7fc75ffb3ac8>],\n",
              "      dtype=object)"
            ]
          },
          "metadata": {
            "tags": []
          },
          "execution_count": 74
        },
        {
          "output_type": "display_data",
          "data": {
            "image/png": "[encoded data removed]",
            "text/plain": [
              "<Figure size 792x360 with 2 Axes>"
            ]
          },
          "metadata": {
            "tags": []
          }
        }
      ]
    },
    {
      "cell_type": "markdown",
      "metadata": {
        "id": "x-y0WWSqzQmq",
        "colab_type": "text"
      },
      "source": [
        "`Looks like the lengthy is the message, more likely it is a spam.`"
      ]
    },
    {
      "cell_type": "markdown",
      "metadata": {
        "id": "4VUUOdRkzaUJ",
        "colab_type": "text"
      },
      "source": [
        "#Text processing and vectorizing our messages"
      ]
    },
    {
      "cell_type": "code",
      "metadata": {
        "id": "BqX1_tj0IQR0",
        "colab_type": "code",
        "colab": {}
      },
      "source": [
        "text_feat = sms['message'].copy()"
      ],
      "execution_count": 0,
      "outputs": []
    },
    {
      "cell_type": "code",
      "metadata": {
        "id": "C0sHR1Psw1dB",
        "colab_type": "code",
        "colab": {}
      },
      "source": [
        "#Remove all the punctuation and redundancy from the message \n",
        "def text_process(text):\n",
        "    text = text.translate(str.maketrans('', '', string.punctuation))\n",
        "    text = [word for word in text.split() if word.lower() not in stopwords.words('english')]    \n",
        "    return \" \".join(text)"
      ],
      "execution_count": 0,
      "outputs": []
    },
    {
      "cell_type": "code",
      "metadata": {
        "id": "XMLnc_Sh3I_7",
        "colab_type": "code",
        "colab": {
          "base_uri": "https://localhost:8080/",
          "height": 68
        },
        "outputId": "c54b4c21-c4ec-4f50-e9bc-f7a29a3433d9"
      },
      "source": [
        "import nltk\n",
        "nltk.download('stopwords')"
      ],
      "execution_count": 87,
      "outputs": [
        {
          "output_type": "stream",
          "text": [
            "[nltk_data] Downloading package stopwords to /root/nltk_data...\n",
            "[nltk_data]   Unzipping corpora/stopwords.zip.\n"
          ],
          "name": "stdout"
        },
        {
          "output_type": "execute_result",
          "data": {
            "text/plain": [
              "True"
            ]
          },
          "metadata": {
            "tags": []
          },
          "execution_count": 87
        }
      ]
    },
    {
      "cell_type": "code",
      "metadata": {
        "id": "E0w28MRhw1bD",
        "colab_type": "code",
        "colab": {}
      },
      "source": [
        "text_feat = text_feat.apply(text_process)"
      ],
      "execution_count": 0,
      "outputs": []
    },
    {
      "cell_type": "code",
      "metadata": {
        "id": "G6q9dxtAw1Yx",
        "colab_type": "code",
        "colab": {
          "base_uri": "https://localhost:8080/",
          "height": 136
        },
        "outputId": "ac62dc3e-8677-4d4f-a80d-e51ca94d0456"
      },
      "source": [
        "#Word Embedding \n",
        "from sklearn.feature_extraction.text import TfidfVectorizer\n",
        "vectorizer = TfidfVectorizer(\"english\")\n",
        "vectorizer "
      ],
      "execution_count": 89,
      "outputs": [
        {
          "output_type": "execute_result",
          "data": {
            "text/plain": [
              "TfidfVectorizer(analyzer='word', binary=False, decode_error='strict',\n",
              "                dtype=<class 'numpy.float64'>, encoding='utf-8',\n",
              "                input='english', lowercase=True, max_df=1.0, max_features=None,\n",
              "                min_df=1, ngram_range=(1, 1), norm='l2', preprocessor=None,\n",
              "                smooth_idf=True, stop_words=None, strip_accents=None,\n",
              "                sublinear_tf=False, token_pattern='(?u)\\\\b\\\\w\\\\w+\\\\b',\n",
              "                tokenizer=None, use_idf=True, vocabulary=None)"
            ]
          },
          "metadata": {
            "tags": []
          },
          "execution_count": 89
        }
      ]
    },
    {
      "cell_type": "code",
      "metadata": {
        "id": "2ym19MEuw1V7",
        "colab_type": "code",
        "colab": {}
      },
      "source": [
        "features = vectorizer.fit_transform(text_feat)"
      ],
      "execution_count": 0,
      "outputs": []
    },
    {
      "cell_type": "code",
      "metadata": {
        "id": "ytsnrXNEw1Tp",
        "colab_type": "code",
        "colab": {
          "base_uri": "https://localhost:8080/",
          "height": 68
        },
        "outputId": "6d616f71-ad50-4774-b903-81736b1fa231"
      },
      "source": [
        "features[0].data"
      ],
      "execution_count": 93,
      "outputs": [
        {
          "output_type": "execute_result",
          "data": {
            "text/plain": [
              "array([0.1969634 , 0.34544531, 0.16228383, 0.29183359, 0.32976489,\n",
              "       0.29183359, 0.23822188, 0.19227005, 0.29183359, 0.26268322,\n",
              "       0.26752361, 0.27019175, 0.34544531, 0.15705626])"
            ]
          },
          "metadata": {
            "tags": []
          },
          "execution_count": 93
        }
      ]
    },
    {
      "cell_type": "markdown",
      "metadata": {
        "id": "wHiq5Rz93kIr",
        "colab_type": "text"
      },
      "source": [
        "#Classifiers and predictions"
      ]
    },
    {
      "cell_type": "code",
      "metadata": {
        "id": "1qF6ZR7fw1RD",
        "colab_type": "code",
        "colab": {}
      },
      "source": [
        "features_train, features_test, labels_train, labels_test = train_test_split(features, sms['label'], test_size=0.3, random_state=111)"
      ],
      "execution_count": 0,
      "outputs": []
    },
    {
      "cell_type": "code",
      "metadata": {
        "id": "B0dLZHp91Vlq",
        "colab_type": "code",
        "colab": {}
      },
      "source": [
        "#Let's import all the classifiers in order to check the btter accuracy \n",
        "from sklearn.linear_model import LogisticRegression\n",
        "from sklearn.svm import SVC\n",
        "from sklearn.naive_bayes import MultinomialNB\n",
        "from sklearn.tree import DecisionTreeClassifier\n",
        "from sklearn.neighbors import KNeighborsClassifier\n",
        "from sklearn.ensemble import RandomForestClassifier\n",
        "from sklearn.ensemble import AdaBoostClassifier\n",
        "from sklearn.ensemble import BaggingClassifier\n",
        "from sklearn.ensemble import ExtraTreesClassifier\n",
        "from sklearn.metrics import accuracy_score"
      ],
      "execution_count": 0,
      "outputs": []
    },
    {
      "cell_type": "code",
      "metadata": {
        "id": "TCzngJ-Y1ViI",
        "colab_type": "code",
        "colab": {}
      },
      "source": [
        "svc = SVC(kernel='sigmoid', gamma=1.0)\n",
        "knc = KNeighborsClassifier(n_neighbors=49)\n",
        "mnb = MultinomialNB(alpha=0.2)\n",
        "dtc = DecisionTreeClassifier(min_samples_split=7, random_state=111)\n",
        "lrc = LogisticRegression(solver='liblinear', penalty='l1')\n",
        "rfc = RandomForestClassifier(n_estimators=31, random_state=111)\n",
        "abc = AdaBoostClassifier(n_estimators=62, random_state=111)\n",
        "bc = BaggingClassifier(n_estimators=9, random_state=111)\n",
        "etc = ExtraTreesClassifier(n_estimators=9, random_state=111)"
      ],
      "execution_count": 0,
      "outputs": []
    },
    {
      "cell_type": "code",
      "metadata": {
        "id": "dRNzEF3T1Ve_",
        "colab_type": "code",
        "colab": {}
      },
      "source": [
        "clfs = {'SVC' : svc,'KN' : knc, 'NB': mnb, 'DT': dtc, 'LR': lrc, 'RF': rfc, 'AdaBoost': abc, 'BgC': bc, 'ETC': etc}"
      ],
      "execution_count": 0,
      "outputs": []
    },
    {
      "cell_type": "markdown",
      "metadata": {
        "id": "W6a4lGyr4eRo",
        "colab_type": "text"
      },
      "source": [
        "#Let's make functions to fit our classifiers and make predictions"
      ]
    },
    {
      "cell_type": "code",
      "metadata": {
        "id": "KUECfmdi1Vbt",
        "colab_type": "code",
        "colab": {}
      },
      "source": [
        "def train_classifier(clf, feature_train, labels_train):\n",
        "  clf.fit(feature_train, labels_train)"
      ],
      "execution_count": 0,
      "outputs": []
    },
    {
      "cell_type": "code",
      "metadata": {
        "id": "xdNEOosb1VYw",
        "colab_type": "code",
        "colab": {}
      },
      "source": [
        "def predict_labels(clf, features):\n",
        "    return (clf.predict(features))"
      ],
      "execution_count": 0,
      "outputs": []
    },
    {
      "cell_type": "code",
      "metadata": {
        "id": "xivNkinP1VVa",
        "colab_type": "code",
        "colab": {}
      },
      "source": [
        "pred_scores = []\n",
        "for k,v in clfs.items():\n",
        "    train_classifier(v, features_train, labels_train)\n",
        "    pred = predict_labels(v,features_test)\n",
        "    pred_scores.append((k, [accuracy_score(labels_test,pred)]))"
      ],
      "execution_count": 0,
      "outputs": []
    },
    {
      "cell_type": "code",
      "metadata": {
        "id": "CD09YXkL1VSL",
        "colab_type": "code",
        "colab": {
          "base_uri": "https://localhost:8080/",
          "height": 170
        },
        "outputId": "1c3bb5fb-7022-4eb8-95cd-217937476b12"
      },
      "source": [
        "pred_scores"
      ],
      "execution_count": 103,
      "outputs": [
        {
          "output_type": "execute_result",
          "data": {
            "text/plain": [
              "[('SVC', [0.9784688995215312]),\n",
              " ('KN', [0.9246411483253588]),\n",
              " ('NB', [0.9844497607655502]),\n",
              " ('DT', [0.958732057416268]),\n",
              " ('LR', [0.9431818181818182]),\n",
              " ('RF', [0.9700956937799043]),\n",
              " ('AdaBoost', [0.9671052631578947]),\n",
              " ('BgC', [0.9671052631578947]),\n",
              " ('ETC', [0.9772727272727273])]"
            ]
          },
          "metadata": {
            "tags": []
          },
          "execution_count": 103
        }
      ]
    },
    {
      "cell_type": "code",
      "metadata": {
        "id": "MrLspZmL1VOl",
        "colab_type": "code",
        "colab": {
          "base_uri": "https://localhost:8080/",
          "height": 382
        },
        "outputId": "f23c9725-e649-4b0f-bfd2-f824dd6f7b08"
      },
      "source": [
        "df = pd.DataFrame.from_items(pred_scores,orient='index', columns=['Score'])\n",
        "df"
      ],
      "execution_count": 104,
      "outputs": [
        {
          "output_type": "stream",
          "text": [
            "/usr/local/lib/python3.6/dist-packages/ipykernel_launcher.py:1: FutureWarning: from_items is deprecated. Please use DataFrame.from_dict(dict(items), ...) instead. DataFrame.from_dict(OrderedDict(items)) may be used to preserve the key order.\n",
            "  \"\"\"Entry point for launching an IPython kernel.\n"
          ],
          "name": "stderr"
        },
        {
          "output_type": "execute_result",
          "data": {
            "text/html": [
              "<div>\n",
              "<style scoped>\n",
              "    .dataframe tbody tr th:only-of-type {\n",
              "        vertical-align: middle;\n",
              "    }\n",
              "\n",
              "    .dataframe tbody tr th {\n",
              "        vertical-align: top;\n",
              "    }\n",
              "\n",
              "    .dataframe thead th {\n",
              "        text-align: right;\n",
              "    }\n",
              "</style>\n",
              "<table border=\"1\" class=\"dataframe\">\n",
              "  <thead>\n",
              "    <tr style=\"text-align: right;\">\n",
              "      <th></th>\n",
              "      <th>Score</th>\n",
              "    </tr>\n",
              "  </thead>\n",
              "  <tbody>\n",
              "    <tr>\n",
              "      <th>SVC</th>\n",
              "      <td>0.978469</td>\n",
              "    </tr>\n",
              "    <tr>\n",
              "      <th>KN</th>\n",
              "      <td>0.924641</td>\n",
              "    </tr>\n",
              "    <tr>\n",
              "      <th>NB</th>\n",
              "      <td>0.984450</td>\n",
              "    </tr>\n",
              "    <tr>\n",
              "      <th>DT</th>\n",
              "      <td>0.958732</td>\n",
              "    </tr>\n",
              "    <tr>\n",
              "      <th>LR</th>\n",
              "      <td>0.943182</td>\n",
              "    </tr>\n",
              "    <tr>\n",
              "      <th>RF</th>\n",
              "      <td>0.970096</td>\n",
              "    </tr>\n",
              "    <tr>\n",
              "      <th>AdaBoost</th>\n",
              "      <td>0.967105</td>\n",
              "    </tr>\n",
              "    <tr>\n",
              "      <th>BgC</th>\n",
              "      <td>0.967105</td>\n",
              "    </tr>\n",
              "    <tr>\n",
              "      <th>ETC</th>\n",
              "      <td>0.977273</td>\n",
              "    </tr>\n",
              "  </tbody>\n",
              "</table>\n",
              "</div>"
            ],
            "text/plain": [
              "             Score\n",
              "SVC       0.978469\n",
              "KN        0.924641\n",
              "NB        0.984450\n",
              "DT        0.958732\n",
              "LR        0.943182\n",
              "RF        0.970096\n",
              "AdaBoost  0.967105\n",
              "BgC       0.967105\n",
              "ETC       0.977273"
            ]
          },
          "metadata": {
            "tags": []
          },
          "execution_count": 104
        }
      ]
    },
    {
      "cell_type": "code",
      "metadata": {
        "id": "1hmRYH8G1VLu",
        "colab_type": "code",
        "colab": {
          "base_uri": "https://localhost:8080/",
          "height": 444
        },
        "outputId": "bfa3044a-8fdd-4869-ab1d-5c09be37551b"
      },
      "source": [
        "df.plot(kind='bar', ylim=(0.9,1.0), figsize=(11,6), align='center', colormap=\"Accent\")\n",
        "plt.xticks(np.arange(9), df.index)\n",
        "plt.ylabel('Accuracy Score')\n",
        "plt.title('Distribution by Classifier')\n",
        "plt.legend(bbox_to_anchor=(1.05, 1), loc=2, borderaxespad=0.)"
      ],
      "execution_count": 105,
      "outputs": [
        {
          "output_type": "execute_result",
          "data": {
            "text/plain": [
              "<matplotlib.legend.Legend at 0x7fc75dad1588>"
            ]
          },
          "metadata": {
            "tags": []
          },
          "execution_count": 105
        },
        {
          "output_type": "display_data",
          "data": {
            "image/png": "[encoded data removed]",
            "text/plain": [
              "<Figure size 792x432 with 1 Axes>"
            ]
          },
          "metadata": {
            "tags": []
          }
        }
      ]
    },
    {
      "cell_type": "code",
      "metadata": {
        "id": "VI1MHiQi6lnW",
        "colab_type": "code",
        "colab": {
          "base_uri": "https://localhost:8080/",
          "height": 34
        },
        "outputId": "78dae6db-7026-477a-c15f-19374e06b2ba"
      },
      "source": [
        "text_feat[0]"
      ],
      "execution_count": 108,
      "outputs": [
        {
          "output_type": "execute_result",
          "data": {
            "text/plain": [
              "'Go jurong point crazy Available bugis n great world la e buffet Cine got amore wat'"
            ]
          },
          "metadata": {
            "tags": []
          },
          "execution_count": 108
        }
      ]
    },
    {
      "cell_type": "markdown",
      "metadata": {
        "id": "CHzxLPgF7_WC",
        "colab_type": "text"
      },
      "source": [
        "#Now we are gponna aplly stemming to get the better accuracy"
      ]
    },
    {
      "cell_type": "code",
      "metadata": {
        "id": "0FN7a6nT1VHx",
        "colab_type": "code",
        "colab": {}
      },
      "source": [
        "from nltk.stem import SnowballStemmer\n",
        "#Stemming\n",
        "def stemmer(text):\n",
        "    text = text.split()\n",
        "    words = \"\"\n",
        "    for i in text:\n",
        "            stemmer = SnowballStemmer(\"english\")\n",
        "            words += (stemmer.stem(i))+\" \"\n",
        "    return words\n",
        "  "
      ],
      "execution_count": 0,
      "outputs": []
    },
    {
      "cell_type": "code",
      "metadata": {
        "id": "xFdabqpN1U_2",
        "colab_type": "code",
        "colab": {}
      },
      "source": [
        "#getting text after stemming \n",
        "text_feat = text_feat.apply(stemmer) "
      ],
      "execution_count": 0,
      "outputs": []
    },
    {
      "cell_type": "code",
      "metadata": {
        "id": "5fEWfPwZ4ghO",
        "colab_type": "code",
        "colab": {}
      },
      "source": [
        "features = vectorizer.fit_transform(text_feat)"
      ],
      "execution_count": 0,
      "outputs": []
    },
    {
      "cell_type": "code",
      "metadata": {
        "id": "7PmhB8pc4gdr",
        "colab_type": "code",
        "colab": {
          "base_uri": "https://localhost:8080/",
          "height": 68
        },
        "outputId": "7fc6d88e-a63b-4f69-914b-c8d4f81139ec"
      },
      "source": [
        "features[0].data"
      ],
      "execution_count": 113,
      "outputs": [
        {
          "output_type": "execute_result",
          "data": {
            "text/plain": [
              "array([0.19449555, 0.35011128, 0.16447582, 0.29577542, 0.33421906,\n",
              "       0.29577542, 0.23792722, 0.19449555, 0.29577542, 0.26623131,\n",
              "       0.27113709, 0.23906338, 0.35011128, 0.14081218])"
            ]
          },
          "metadata": {
            "tags": []
          },
          "execution_count": 113
        }
      ]
    },
    {
      "cell_type": "code",
      "metadata": {
        "id": "4IAqEJz74gaK",
        "colab_type": "code",
        "colab": {}
      },
      "source": [
        "features_train, features_test, labels_train, labels_test = train_test_split(features, sms['label'], test_size=0.3, random_state=111)"
      ],
      "execution_count": 0,
      "outputs": []
    },
    {
      "cell_type": "code",
      "metadata": {
        "id": "seyhJ8qP4gWS",
        "colab_type": "code",
        "colab": {}
      },
      "source": [
        "#Getting score2 after performing stemming\n",
        "pred_scores = []\n",
        "for k,v in clfs.items():\n",
        "    train_classifier(v, features_train, labels_train)\n",
        "    pred = predict_labels(v,features_test)\n",
        "    pred_scores.append((k, [accuracy_score(labels_test,pred)]))"
      ],
      "execution_count": 0,
      "outputs": []
    },
    {
      "cell_type": "code",
      "metadata": {
        "id": "EDXQTLK74gS0",
        "colab_type": "code",
        "colab": {
          "base_uri": "https://localhost:8080/",
          "height": 382
        },
        "outputId": "8bfc6e24-3390-460d-f09a-227f44533aa8"
      },
      "source": [
        "df2 = pd.DataFrame.from_items(pred_scores,orient='index', columns=['Score2'])\n",
        "df = pd.concat([df,df2],axis=1)\n",
        "df"
      ],
      "execution_count": 116,
      "outputs": [
        {
          "output_type": "stream",
          "text": [
            "/usr/local/lib/python3.6/dist-packages/ipykernel_launcher.py:1: FutureWarning: from_items is deprecated. Please use DataFrame.from_dict(dict(items), ...) instead. DataFrame.from_dict(OrderedDict(items)) may be used to preserve the key order.\n",
            "  \"\"\"Entry point for launching an IPython kernel.\n"
          ],
          "name": "stderr"
        },
        {
          "output_type": "execute_result",
          "data": {
            "text/html": [
              "<div>\n",
              "<style scoped>\n",
              "    .dataframe tbody tr th:only-of-type {\n",
              "        vertical-align: middle;\n",
              "    }\n",
              "\n",
              "    .dataframe tbody tr th {\n",
              "        vertical-align: top;\n",
              "    }\n",
              "\n",
              "    .dataframe thead th {\n",
              "        text-align: right;\n",
              "    }\n",
              "</style>\n",
              "<table border=\"1\" class=\"dataframe\">\n",
              "  <thead>\n",
              "    <tr style=\"text-align: right;\">\n",
              "      <th></th>\n",
              "      <th>Score</th>\n",
              "      <th>Score2</th>\n",
              "    </tr>\n",
              "  </thead>\n",
              "  <tbody>\n",
              "    <tr>\n",
              "      <th>SVC</th>\n",
              "      <td>0.978469</td>\n",
              "      <td>0.978469</td>\n",
              "    </tr>\n",
              "    <tr>\n",
              "      <th>KN</th>\n",
              "      <td>0.924641</td>\n",
              "      <td>0.927632</td>\n",
              "    </tr>\n",
              "    <tr>\n",
              "      <th>NB</th>\n",
              "      <td>0.984450</td>\n",
              "      <td>0.985048</td>\n",
              "    </tr>\n",
              "    <tr>\n",
              "      <th>DT</th>\n",
              "      <td>0.958732</td>\n",
              "      <td>0.959928</td>\n",
              "    </tr>\n",
              "    <tr>\n",
              "      <th>LR</th>\n",
              "      <td>0.943182</td>\n",
              "      <td>0.946770</td>\n",
              "    </tr>\n",
              "    <tr>\n",
              "      <th>RF</th>\n",
              "      <td>0.970096</td>\n",
              "      <td>0.974880</td>\n",
              "    </tr>\n",
              "    <tr>\n",
              "      <th>AdaBoost</th>\n",
              "      <td>0.967105</td>\n",
              "      <td>0.970096</td>\n",
              "    </tr>\n",
              "    <tr>\n",
              "      <th>BgC</th>\n",
              "      <td>0.967105</td>\n",
              "      <td>0.968900</td>\n",
              "    </tr>\n",
              "    <tr>\n",
              "      <th>ETC</th>\n",
              "      <td>0.977273</td>\n",
              "      <td>0.977871</td>\n",
              "    </tr>\n",
              "  </tbody>\n",
              "</table>\n",
              "</div>"
            ],
            "text/plain": [
              "             Score    Score2\n",
              "SVC       0.978469  0.978469\n",
              "KN        0.924641  0.927632\n",
              "NB        0.984450  0.985048\n",
              "DT        0.958732  0.959928\n",
              "LR        0.943182  0.946770\n",
              "RF        0.970096  0.974880\n",
              "AdaBoost  0.967105  0.970096\n",
              "BgC       0.967105  0.968900\n",
              "ETC       0.977273  0.977871"
            ]
          },
          "metadata": {
            "tags": []
          },
          "execution_count": 116
        }
      ]
    },
    {
      "cell_type": "code",
      "metadata": {
        "id": "fIy7WKtB4gOa",
        "colab_type": "code",
        "colab": {
          "base_uri": "https://localhost:8080/",
          "height": 444
        },
        "outputId": "3b4e5378-0942-469e-c3f8-29cea3a75d32"
      },
      "source": [
        "df.plot(kind='bar', ylim=(0.85,1.0), figsize=(11,6), align='center', colormap=\"Accent\")\n",
        "plt.xticks(np.arange(9), df.index)\n",
        "plt.ylabel('Accuracy Score')\n",
        "plt.title('Distribution by Classifier')\n",
        "plt.legend(bbox_to_anchor=(1.05, 1), loc=2, borderaxespad=0.)"
      ],
      "execution_count": 117,
      "outputs": [
        {
          "output_type": "execute_result",
          "data": {
            "text/plain": [
              "<matplotlib.legend.Legend at 0x7fc75f8e78d0>"
            ]
          },
          "metadata": {
            "tags": []
          },
          "execution_count": 117
        },
        {
          "output_type": "display_data",
          "data": {
            "image/png": "[encoded data removed]",
            "text/plain": [
              "<Figure size 792x432 with 1 Axes>"
            ]
          },
          "metadata": {
            "tags": []
          }
        }
      ]
    },
    {
      "cell_type": "markdown",
      "metadata": {
        "id": "KGFZQyFu-_Mr",
        "colab_type": "text"
      },
      "source": [
        "#Getting score by using length of the message and making matrix horizontally"
      ]
    },
    {
      "cell_type": "code",
      "metadata": {
        "id": "aMoX1dk54gHo",
        "colab_type": "code",
        "colab": {
          "base_uri": "https://localhost:8080/",
          "height": 51
        },
        "outputId": "ef817edb-4aca-4813-c45f-ca8cff1337f0"
      },
      "source": [
        "lf = sms['length'].as_matrix() #make one dimensinal array"
      ],
      "execution_count": 118,
      "outputs": [
        {
          "output_type": "stream",
          "text": [
            "/usr/local/lib/python3.6/dist-packages/ipykernel_launcher.py:1: FutureWarning: Method .as_matrix will be removed in a future version. Use .values instead.\n",
            "  \"\"\"Entry point for launching an IPython kernel.\n"
          ],
          "name": "stderr"
        }
      ]
    },
    {
      "cell_type": "code",
      "metadata": {
        "id": "0U82wzHa8N8P",
        "colab_type": "code",
        "colab": {
          "base_uri": "https://localhost:8080/",
          "height": 51
        },
        "outputId": "9da44177-eb12-4f13-e0d8-1eab4360959f"
      },
      "source": [
        "print(lf.shape)\n",
        "lf"
      ],
      "execution_count": 120,
      "outputs": [
        {
          "output_type": "stream",
          "text": [
            "(5572,)\n"
          ],
          "name": "stdout"
        },
        {
          "output_type": "execute_result",
          "data": {
            "text/plain": [
              "array([111,  29, 155, ...,  57, 125,  26])"
            ]
          },
          "metadata": {
            "tags": []
          },
          "execution_count": 120
        }
      ]
    },
    {
      "cell_type": "code",
      "metadata": {
        "id": "5IAO9on_7b9U",
        "colab_type": "code",
        "colab": {}
      },
      "source": [
        "newfeat = np.hstack((features.todense(),lf[:, None]))"
      ],
      "execution_count": 0,
      "outputs": []
    },
    {
      "cell_type": "code",
      "metadata": {
        "id": "mSvVuCmE7b2l",
        "colab_type": "code",
        "colab": {
          "base_uri": "https://localhost:8080/",
          "height": 153
        },
        "outputId": "091db765-3ca3-4b2d-b325-5ed287927e48"
      },
      "source": [
        "print(newfeat.shape)\n",
        "newfeat"
      ],
      "execution_count": 126,
      "outputs": [
        {
          "output_type": "stream",
          "text": [
            "(5572, 8038)\n"
          ],
          "name": "stdout"
        },
        {
          "output_type": "execute_result",
          "data": {
            "text/plain": [
              "matrix([[  0.,   0.,   0., ...,   0.,   0., 111.],\n",
              "        [  0.,   0.,   0., ...,   0.,   0.,  29.],\n",
              "        [  0.,   0.,   0., ...,   0.,   0., 155.],\n",
              "        ...,\n",
              "        [  0.,   0.,   0., ...,   0.,   0.,  57.],\n",
              "        [  0.,   0.,   0., ...,   0.,   0., 125.],\n",
              "        [  0.,   0.,   0., ...,   0.,   0.,  26.]])"
            ]
          },
          "metadata": {
            "tags": []
          },
          "execution_count": 126
        }
      ]
    },
    {
      "cell_type": "code",
      "metadata": {
        "id": "-04sMjPq7bui",
        "colab_type": "code",
        "colab": {}
      },
      "source": [
        "features_train, features_test, labels_train, labels_test = train_test_split(newfeat, sms['label'], test_size=0.3, random_state=111)"
      ],
      "execution_count": 0,
      "outputs": []
    },
    {
      "cell_type": "code",
      "metadata": {
        "id": "4Kq2ME2q7bqa",
        "colab_type": "code",
        "colab": {}
      },
      "source": [
        "pred_scores = []\n",
        "for k,v in clfs.items():\n",
        "    train_classifier(v, features_train, labels_train)\n",
        "    pred = predict_labels(v,features_test)\n",
        "    pred_scores.append((k, [accuracy_score(labels_test,pred)]))"
      ],
      "execution_count": 0,
      "outputs": []
    },
    {
      "cell_type": "code",
      "metadata": {
        "id": "UVdYDvUR7bme",
        "colab_type": "code",
        "colab": {
          "base_uri": "https://localhost:8080/",
          "height": 382
        },
        "outputId": "fa3eab9e-1814-4e95-8e3b-8934dfb83ddf"
      },
      "source": [
        "df3 = pd.DataFrame.from_items(pred_scores,orient='index', columns=['Score3'])\n",
        "df = pd.concat([df,df3],axis=1)\n",
        "df"
      ],
      "execution_count": 129,
      "outputs": [
        {
          "output_type": "stream",
          "text": [
            "/usr/local/lib/python3.6/dist-packages/ipykernel_launcher.py:1: FutureWarning: from_items is deprecated. Please use DataFrame.from_dict(dict(items), ...) instead. DataFrame.from_dict(OrderedDict(items)) may be used to preserve the key order.\n",
            "  \"\"\"Entry point for launching an IPython kernel.\n"
          ],
          "name": "stderr"
        },
        {
          "output_type": "execute_result",
          "data": {
            "text/html": [
              "<div>\n",
              "<style scoped>\n",
              "    .dataframe tbody tr th:only-of-type {\n",
              "        vertical-align: middle;\n",
              "    }\n",
              "\n",
              "    .dataframe tbody tr th {\n",
              "        vertical-align: top;\n",
              "    }\n",
              "\n",
              "    .dataframe thead th {\n",
              "        text-align: right;\n",
              "    }\n",
              "</style>\n",
              "<table border=\"1\" class=\"dataframe\">\n",
              "  <thead>\n",
              "    <tr style=\"text-align: right;\">\n",
              "      <th></th>\n",
              "      <th>Score</th>\n",
              "      <th>Score2</th>\n",
              "      <th>Score3</th>\n",
              "    </tr>\n",
              "  </thead>\n",
              "  <tbody>\n",
              "    <tr>\n",
              "      <th>SVC</th>\n",
              "      <td>0.978469</td>\n",
              "      <td>0.978469</td>\n",
              "      <td>0.861244</td>\n",
              "    </tr>\n",
              "    <tr>\n",
              "      <th>KN</th>\n",
              "      <td>0.924641</td>\n",
              "      <td>0.927632</td>\n",
              "      <td>0.881579</td>\n",
              "    </tr>\n",
              "    <tr>\n",
              "      <th>NB</th>\n",
              "      <td>0.984450</td>\n",
              "      <td>0.985048</td>\n",
              "      <td>0.982656</td>\n",
              "    </tr>\n",
              "    <tr>\n",
              "      <th>DT</th>\n",
              "      <td>0.958732</td>\n",
              "      <td>0.959928</td>\n",
              "      <td>0.957536</td>\n",
              "    </tr>\n",
              "    <tr>\n",
              "      <th>LR</th>\n",
              "      <td>0.943182</td>\n",
              "      <td>0.946770</td>\n",
              "      <td>0.954545</td>\n",
              "    </tr>\n",
              "    <tr>\n",
              "      <th>RF</th>\n",
              "      <td>0.970096</td>\n",
              "      <td>0.974880</td>\n",
              "      <td>0.975478</td>\n",
              "    </tr>\n",
              "    <tr>\n",
              "      <th>AdaBoost</th>\n",
              "      <td>0.967105</td>\n",
              "      <td>0.970096</td>\n",
              "      <td>0.961722</td>\n",
              "    </tr>\n",
              "    <tr>\n",
              "      <th>BgC</th>\n",
              "      <td>0.967105</td>\n",
              "      <td>0.968900</td>\n",
              "      <td>0.962321</td>\n",
              "    </tr>\n",
              "    <tr>\n",
              "      <th>ETC</th>\n",
              "      <td>0.977273</td>\n",
              "      <td>0.977871</td>\n",
              "      <td>0.975478</td>\n",
              "    </tr>\n",
              "  </tbody>\n",
              "</table>\n",
              "</div>"
            ],
            "text/plain": [
              "             Score    Score2    Score3\n",
              "SVC       0.978469  0.978469  0.861244\n",
              "KN        0.924641  0.927632  0.881579\n",
              "NB        0.984450  0.985048  0.982656\n",
              "DT        0.958732  0.959928  0.957536\n",
              "LR        0.943182  0.946770  0.954545\n",
              "RF        0.970096  0.974880  0.975478\n",
              "AdaBoost  0.967105  0.970096  0.961722\n",
              "BgC       0.967105  0.968900  0.962321\n",
              "ETC       0.977273  0.977871  0.975478"
            ]
          },
          "metadata": {
            "tags": []
          },
          "execution_count": 129
        }
      ]
    },
    {
      "cell_type": "code",
      "metadata": {
        "id": "yNGZDNuCSp5L",
        "colab_type": "code",
        "colab": {
          "base_uri": "https://localhost:8080/",
          "height": 444
        },
        "outputId": "bdd39e1b-8032-4864-d0dd-2d6cbe68ee70"
      },
      "source": [
        "df.plot(kind='bar', ylim=(0.85,1.0), figsize=(11,6), align='center', colormap=\"Accent\")\n",
        "plt.xticks(np.arange(9), df.index)\n",
        "plt.ylabel('Accuracy Score')\n",
        "plt.title('Distribution by Classifier')\n",
        "plt.legend(bbox_to_anchor=(1.05, 1), loc=2, borderaxespad=0.)"
      ],
      "execution_count": 130,
      "outputs": [
        {
          "output_type": "execute_result",
          "data": {
            "text/plain": [
              "<matplotlib.legend.Legend at 0x7fc75f8b4da0>"
            ]
          },
          "metadata": {
            "tags": []
          },
          "execution_count": 130
        },
        {
          "output_type": "display_data",
          "data": {
            "image/png": "[encoded data removed]",
            "text/plain": [
              "<Figure size 792x432 with 1 Axes>"
            ]
          },
          "metadata": {
            "tags": []
          }
        }
      ]
    },
    {
      "cell_type": "markdown",
      "metadata": {
        "id": "u2GSe12ETFP8",
        "colab_type": "text"
      },
      "source": [
        "#Voting classifier\n",
        "`Voting is one of the simplest way of combining the predictions from multiple machine learning algorithms. Voting classifier isn't an actual classifier but it is a wrapper`"
      ]
    },
    {
      "cell_type": "code",
      "metadata": {
        "id": "JKagxUP7Sp0l",
        "colab_type": "code",
        "colab": {}
      },
      "source": [
        "from sklearn.ensemble import VotingClassifier\n",
        "eclf = VotingClassifier(estimators=[('BgC', bc), ('ETC', etc), ('RF', rfc), ('Ada', abc)], voting='soft')"
      ],
      "execution_count": 0,
      "outputs": []
    },
    {
      "cell_type": "code",
      "metadata": {
        "id": "ATt7JsguSpvP",
        "colab_type": "code",
        "colab": {
          "base_uri": "https://localhost:8080/",
          "height": 578
        },
        "outputId": "4d2ad4a1-a66e-404c-deb5-14e4f08bc5c0"
      },
      "source": [
        "eclf.fit(features_train,labels_train)"
      ],
      "execution_count": 132,
      "outputs": [
        {
          "output_type": "execute_result",
          "data": {
            "text/plain": [
              "VotingClassifier(estimators=[('BgC',\n",
              "                              BaggingClassifier(base_estimator=None,\n",
              "                                                bootstrap=True,\n",
              "                                                bootstrap_features=False,\n",
              "                                                max_features=1.0,\n",
              "                                                max_samples=1.0, n_estimators=9,\n",
              "                                                n_jobs=None, oob_score=False,\n",
              "                                                random_state=111, verbose=0,\n",
              "                                                warm_start=False)),\n",
              "                             ('ETC',\n",
              "                              ExtraTreesClassifier(bootstrap=False,\n",
              "                                                   class_weight=None,\n",
              "                                                   criterion='gini',\n",
              "                                                   max_depth=None,\n",
              "                                                   max_features='auto',...\n",
              "                                                     min_impurity_split=None,\n",
              "                                                     min_samples_leaf=1,\n",
              "                                                     min_samples_split=2,\n",
              "                                                     min_weight_fraction_leaf=0.0,\n",
              "                                                     n_estimators=31,\n",
              "                                                     n_jobs=None,\n",
              "                                                     oob_score=False,\n",
              "                                                     random_state=111,\n",
              "                                                     verbose=0,\n",
              "                                                     warm_start=False)),\n",
              "                             ('Ada',\n",
              "                              AdaBoostClassifier(algorithm='SAMME.R',\n",
              "                                                 base_estimator=None,\n",
              "                                                 learning_rate=1.0,\n",
              "                                                 n_estimators=62,\n",
              "                                                 random_state=111))],\n",
              "                 flatten_transform=True, n_jobs=None, voting='soft',\n",
              "                 weights=None)"
            ]
          },
          "metadata": {
            "tags": []
          },
          "execution_count": 132
        }
      ]
    },
    {
      "cell_type": "code",
      "metadata": {
        "id": "HNzp6i2BSplX",
        "colab_type": "code",
        "colab": {}
      },
      "source": [
        "pred = eclf.predict(features_test)"
      ],
      "execution_count": 0,
      "outputs": []
    },
    {
      "cell_type": "code",
      "metadata": {
        "id": "glZ-qoJk7bhZ",
        "colab_type": "code",
        "colab": {
          "base_uri": "https://localhost:8080/",
          "height": 34
        },
        "outputId": "bb1494d0-7486-4349-a8c7-2852765a7ad0"
      },
      "source": [
        "print(accuracy_score(labels_test,pred))"
      ],
      "execution_count": 135,
      "outputs": [
        {
          "output_type": "stream",
          "text": [
            "0.979066985645933\n"
          ],
          "name": "stdout"
        }
      ]
    },
    {
      "cell_type": "code",
      "metadata": {
        "id": "bF3fafa9UEPh",
        "colab_type": "code",
        "colab": {}
      },
      "source": [
        ""
      ],
      "execution_count": 0,
      "outputs": []
    },
    {
      "cell_type": "code",
      "metadata": {
        "id": "vVNrEnXxUELU",
        "colab_type": "code",
        "colab": {}
      },
      "source": [
        ""
      ],
      "execution_count": 0,
      "outputs": []
    },
    {
      "cell_type": "code",
      "metadata": {
        "id": "6j63hWxhUEHM",
        "colab_type": "code",
        "colab": {}
      },
      "source": [
        ""
      ],
      "execution_count": 0,
      "outputs": []
    },
    {
      "cell_type": "code",
      "metadata": {
        "id": "pmMFq6TRUEBp",
        "colab_type": "code",
        "colab": {}
      },
      "source": [
        ""
      ],
      "execution_count": 0,
      "outputs": []
    },
    {
      "cell_type": "code",
      "metadata": {
        "id": "uHCt-ATcUD9k",
        "colab_type": "code",
        "colab": {}
      },
      "source": [
        ""
      ],
      "execution_count": 0,
      "outputs": []
    },
    {
      "cell_type": "code",
      "metadata": {
        "id": "xUkKZrYXUD5W",
        "colab_type": "code",
        "colab": {}
      },
      "source": [
        ""
      ],
      "execution_count": 0,
      "outputs": []
    },
    {
      "cell_type": "code",
      "metadata": {
        "id": "Af0w65KPUDzi",
        "colab_type": "code",
        "colab": {}
      },
      "source": [
        ""
      ],
      "execution_count": 0,
      "outputs": []
    },
    {
      "cell_type": "code",
      "metadata": {
        "id": "EbdO7UiqUDiA",
        "colab_type": "code",
        "colab": {}
      },
      "source": [
        ""
      ],
      "execution_count": 0,
      "outputs": []
    },
    {
      "cell_type": "code",
      "metadata": {
        "id": "CpU02Jr4UDd-",
        "colab_type": "code",
        "colab": {}
      },
      "source": [
        ""
      ],
      "execution_count": 0,
      "outputs": []
    },
    {
      "cell_type": "code",
      "metadata": {
        "id": "ZP0i-gawUDZx",
        "colab_type": "code",
        "colab": {}
      },
      "source": [
        ""
      ],
      "execution_count": 0,
      "outputs": []
    },
    {
      "cell_type": "code",
      "metadata": {
        "id": "8cBvqFmfUDV8",
        "colab_type": "code",
        "colab": {}
      },
      "source": [
        ""
      ],
      "execution_count": 0,
      "outputs": []
    },
    {
      "cell_type": "code",
      "metadata": {
        "id": "gy_ReVW_UDR-",
        "colab_type": "code",
        "colab": {}
      },
      "source": [
        ""
      ],
      "execution_count": 0,
      "outputs": []
    },
    {
      "cell_type": "code",
      "metadata": {
        "id": "UOfBDKocUDOB",
        "colab_type": "code",
        "colab": {}
      },
      "source": [
        ""
      ],
      "execution_count": 0,
      "outputs": []
    },
    {
      "cell_type": "code",
      "metadata": {
        "id": "OvzHNkpJUDKV",
        "colab_type": "code",
        "colab": {}
      },
      "source": [
        ""
      ],
      "execution_count": 0,
      "outputs": []
    },
    {
      "cell_type": "code",
      "metadata": {
        "id": "tfEwgmOJUDG5",
        "colab_type": "code",
        "colab": {}
      },
      "source": [
        ""
      ],
      "execution_count": 0,
      "outputs": []
    },
    {
      "cell_type": "code",
      "metadata": {
        "id": "4LQsDDlYUDDB",
        "colab_type": "code",
        "colab": {}
      },
      "source": [
        ""
      ],
      "execution_count": 0,
      "outputs": []
    },
    {
      "cell_type": "code",
      "metadata": {
        "id": "MMLT2bY9UC-j",
        "colab_type": "code",
        "colab": {}
      },
      "source": [
        ""
      ],
      "execution_count": 0,
      "outputs": []
    },
    {
      "cell_type": "code",
      "metadata": {
        "id": "85ND09dtUC6P",
        "colab_type": "code",
        "colab": {}
      },
      "source": [
        ""
      ],
      "execution_count": 0,
      "outputs": []
    },
    {
      "cell_type": "code",
      "metadata": {
        "id": "Rd7LsO8CUC2W",
        "colab_type": "code",
        "colab": {}
      },
      "source": [
        ""
      ],
      "execution_count": 0,
      "outputs": []
    },
    {
      "cell_type": "code",
      "metadata": {
        "id": "iSZTG1USUCyX",
        "colab_type": "code",
        "colab": {}
      },
      "source": [
        ""
      ],
      "execution_count": 0,
      "outputs": []
    },
    {
      "cell_type": "code",
      "metadata": {
        "id": "lEqelfqRUCtn",
        "colab_type": "code",
        "colab": {}
      },
      "source": [
        ""
      ],
      "execution_count": 0,
      "outputs": []
    },
    {
      "cell_type": "code",
      "metadata": {
        "id": "MtGFC8Fv7bdJ",
        "colab_type": "code",
        "colab": {}
      },
      "source": [
        ""
      ],
      "execution_count": 0,
      "outputs": []
    },
    {
      "cell_type": "code",
      "metadata": {
        "id": "WkaZWzmq-tS_",
        "colab_type": "code",
        "colab": {}
      },
      "source": [
        ""
      ],
      "execution_count": 0,
      "outputs": []
    },
    {
      "cell_type": "code",
      "metadata": {
        "id": "2N78Y9_g-tPL",
        "colab_type": "code",
        "colab": {}
      },
      "source": [
        ""
      ],
      "execution_count": 0,
      "outputs": []
    },
    {
      "cell_type": "code",
      "metadata": {
        "id": "iup1Do6b-tLH",
        "colab_type": "code",
        "colab": {}
      },
      "source": [
        ""
      ],
      "execution_count": 0,
      "outputs": []
    },
    {
      "cell_type": "code",
      "metadata": {
        "id": "cjPqy2OU-tGU",
        "colab_type": "code",
        "colab": {}
      },
      "source": [
        ""
      ],
      "execution_count": 0,
      "outputs": []
    },
    {
      "cell_type": "markdown",
      "metadata": {
        "id": "05Z0JikgR6ce",
        "colab_type": "text"
      },
      "source": [
        "#Other Task for understanding\n",
        "\n",
        "#Keras Tokenizer"
      ]
    },
    {
      "cell_type": "code",
      "metadata": {
        "id": "4Ch7UFaOIQPw",
        "colab_type": "code",
        "colab": {
          "base_uri": "https://localhost:8080/",
          "height": 122
        },
        "outputId": "71ebcd82-0f4e-42f5-ecf5-dc504555e60a"
      },
      "source": [
        "from keras.preprocessing.text import Tokenizer\n",
        "t  = Tokenizer()\n",
        "fit_text = \"The earth is an awesome place live\"\n",
        "t.fit_on_texts(fit_text)\n",
        "print(t)\n",
        "test_text = \"The earth is an great place live\"\n",
        "sequences = t.texts_to_sequences(test_text)\n",
        "print(len(test_text))\n",
        "print(len(sequences ))\n",
        "print(sequences )\n",
        "print(\"word_index : \",t.word_index)   #'e' is is kept at first place because it has more frequency than others ,so it is given number 1"
      ],
      "execution_count": 25,
      "outputs": [
        {
          "output_type": "stream",
          "text": [
            "<keras_preprocessing.text.Tokenizer object at 0x7fc7bb96bb70>\n",
            "32\n",
            "32\n",
            "[[3], [4], [1], [], [1], [2], [8], [3], [4], [], [5], [6], [], [2], [9], [], [], [8], [1], [2], [3], [], [13], [7], [2], [14], [1], [], [7], [5], [15], [1]]\n",
            "word_index :  {'e': 1, 'a': 2, 't': 3, 'h': 4, 'i': 5, 's': 6, 'l': 7, 'r': 8, 'n': 9, 'w': 10, 'o': 11, 'm': 12, 'p': 13, 'c': 14, 'v': 15}\n"
          ],
          "name": "stdout"
        }
      ]
    },
    {
      "cell_type": "code",
      "metadata": {
        "id": "MFddgsuWPwoE",
        "colab_type": "code",
        "colab": {
          "base_uri": "https://localhost:8080/",
          "height": 88
        },
        "outputId": "c4b0afb2-8961-4d53-e17d-3e859c141e83"
      },
      "source": [
        "t  = Tokenizer()\n",
        "fit_text = \"The earth is an awesome place live\"\n",
        "t.fit_on_texts(fit_text)\n",
        "seq1 = t.texts_to_sequences(fit_text)\n",
        "print(len(seq1))\n",
        "print(seq1 )\n",
        "print(\"word_index : \",t.word_index)"
      ],
      "execution_count": 28,
      "outputs": [
        {
          "output_type": "stream",
          "text": [
            "34\n",
            "[[3], [4], [1], [], [1], [2], [8], [3], [4], [], [5], [6], [], [2], [9], [], [2], [10], [1], [6], [11], [12], [1], [], [13], [7], [2], [14], [1], [], [7], [5], [15], [1]]\n",
            "word_index :  {'e': 1, 'a': 2, 't': 3, 'h': 4, 'i': 5, 's': 6, 'l': 7, 'r': 8, 'n': 9, 'w': 10, 'o': 11, 'm': 12, 'p': 13, 'c': 14, 'v': 15}\n"
          ],
          "name": "stdout"
        }
      ]
    },
    {
      "cell_type": "code",
      "metadata": {
        "id": "8ILrU7oxPuzJ",
        "colab_type": "code",
        "colab": {
          "base_uri": "https://localhost:8080/",
          "height": 68
        },
        "outputId": "6ca87cf0-0a92-4d66-aff6-37652609f3b2"
      },
      "source": [
        "t  = Tokenizer()\n",
        "fit_text = [\"The earth is an awesome place live\"]\n",
        "t.fit_on_texts(fit_text)\n",
        "\n",
        "#fit_on_texts fits on sentences when list of sentences is passed to fit_on_texts() function. \n",
        "#ie - fit_on_texts( [ sent1, sent2, sent3,....sentN ] )\n",
        "\n",
        "#Similarly, list of sentences/single sentence in a list must be passed into texts_to_sequences.\n",
        "test_text1 = \"The earth is an great place live\"\n",
        "test_text2 = \"The is my program\"\n",
        "sequences = t.texts_to_sequences([test_text1, test_text2])\n",
        "\n",
        "print('sequences : ',sequences,'\\n')\n",
        "\n",
        "print('word_index : ',t.word_index)\n",
        "#texts_to_sequences() returns list of list. ie - [ [] ]\n"
      ],
      "execution_count": 32,
      "outputs": [
        {
          "output_type": "stream",
          "text": [
            "sequences :  [[1, 2, 3, 4, 6, 7], [1, 3]] \n",
            "\n",
            "word_index :  {'the': 1, 'earth': 2, 'is': 3, 'an': 4, 'awesome': 5, 'place': 6, 'live': 7}\n"
          ],
          "name": "stdout"
        }
      ]
    },
    {
      "cell_type": "markdown",
      "metadata": {
        "id": "WVxBFtAe8swM",
        "colab_type": "text"
      },
      "source": [
        "#????"
      ]
    },
    {
      "cell_type": "code",
      "metadata": {
        "id": "M5W2Zfx-8rSR",
        "colab_type": "code",
        "colab": {
          "base_uri": "https://localhost:8080/",
          "height": 51
        },
        "outputId": "c7fc0ab3-ef30-48d5-eaf2-2031208dce1f"
      },
      "source": [
        "joker = [4,5,8,9,7,8,9]\n",
        "has = np.array(joker)\n",
        "print(has.shape)\n",
        "has   #one dimnesional"
      ],
      "execution_count": 122,
      "outputs": [
        {
          "output_type": "stream",
          "text": [
            "(7,)\n"
          ],
          "name": "stdout"
        },
        {
          "output_type": "execute_result",
          "data": {
            "text/plain": [
              "array([4, 5, 8, 9, 7, 8, 9])"
            ]
          },
          "metadata": {
            "tags": []
          },
          "execution_count": 122
        }
      ]
    },
    {
      "cell_type": "code",
      "metadata": {
        "id": "ofaBLJPg8rOd",
        "colab_type": "code",
        "colab": {
          "base_uri": "https://localhost:8080/",
          "height": 136
        },
        "outputId": "8ea9baa9-5bde-4352-bfc0-3ea8fff11634"
      },
      "source": [
        "has[:,None]  #This is the way to convert into 2 dimensional or reshaping"
      ],
      "execution_count": 123,
      "outputs": [
        {
          "output_type": "execute_result",
          "data": {
            "text/plain": [
              "array([[4],\n",
              "       [5],\n",
              "       [8],\n",
              "       [9],\n",
              "       [7],\n",
              "       [8],\n",
              "       [9]])"
            ]
          },
          "metadata": {
            "tags": []
          },
          "execution_count": 123
        }
      ]
    },
    {
      "cell_type": "code",
      "metadata": {
        "id": "zIUiZ4uz8rKi",
        "colab_type": "code",
        "colab": {}
      },
      "source": [
        ""
      ],
      "execution_count": 0,
      "outputs": []
    },
    {
      "cell_type": "code",
      "metadata": {
        "id": "xs6ZVLdm8rGr",
        "colab_type": "code",
        "colab": {}
      },
      "source": [
        ""
      ],
      "execution_count": 0,
      "outputs": []
    },
    {
      "cell_type": "code",
      "metadata": {
        "id": "vpZKgrqx8rC6",
        "colab_type": "code",
        "colab": {}
      },
      "source": [
        ""
      ],
      "execution_count": 0,
      "outputs": []
    },
    {
      "cell_type": "code",
      "metadata": {
        "id": "T4kz8Qhv8q-U",
        "colab_type": "code",
        "colab": {}
      },
      "source": [
        ""
      ],
      "execution_count": 0,
      "outputs": []
    },
    {
      "cell_type": "code",
      "metadata": {
        "id": "rlF3e2VH8q62",
        "colab_type": "code",
        "colab": {}
      },
      "source": [
        ""
      ],
      "execution_count": 0,
      "outputs": []
    },
    {
      "cell_type": "code",
      "metadata": {
        "id": "VdiFAf3b8q3u",
        "colab_type": "code",
        "colab": {}
      },
      "source": [
        ""
      ],
      "execution_count": 0,
      "outputs": []
    },
    {
      "cell_type": "code",
      "metadata": {
        "id": "Q7gZJEX08q0V",
        "colab_type": "code",
        "colab": {}
      },
      "source": [
        ""
      ],
      "execution_count": 0,
      "outputs": []
    },
    {
      "cell_type": "code",
      "metadata": {
        "id": "oY7j05n-8qwH",
        "colab_type": "code",
        "colab": {}
      },
      "source": [
        ""
      ],
      "execution_count": 0,
      "outputs": []
    },
    {
      "cell_type": "code",
      "metadata": {
        "id": "TyRAX2zZ8qqr",
        "colab_type": "code",
        "colab": {}
      },
      "source": [
        ""
      ],
      "execution_count": 0,
      "outputs": []
    },
    {
      "cell_type": "code",
      "metadata": {
        "id": "6qL9FH_88ql_",
        "colab_type": "code",
        "colab": {}
      },
      "source": [
        ""
      ],
      "execution_count": 0,
      "outputs": []
    },
    {
      "cell_type": "code",
      "metadata": {
        "id": "EGnFOSBT8qhl",
        "colab_type": "code",
        "colab": {}
      },
      "source": [
        ""
      ],
      "execution_count": 0,
      "outputs": []
    },
    {
      "cell_type": "code",
      "metadata": {
        "id": "rJ_todEk8qc1",
        "colab_type": "code",
        "colab": {}
      },
      "source": [
        ""
      ],
      "execution_count": 0,
      "outputs": []
    },
    {
      "cell_type": "code",
      "metadata": {
        "id": "iE7oXo2U8qXs",
        "colab_type": "code",
        "colab": {}
      },
      "source": [
        ""
      ],
      "execution_count": 0,
      "outputs": []
    }
  ]
}