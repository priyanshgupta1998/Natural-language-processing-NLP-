{
  "nbformat": 4,
  "nbformat_minor": 0,
  "metadata": {
    "colab": {
      "name": "NLTK_NLP_2.ipynb",
      "version": "0.3.2",
      "provenance": [],
      "collapsed_sections": [],
      "include_colab_link": true
    },
    "kernelspec": {
      "name": "python3",
      "display_name": "Python 3"
    },
    "accelerator": "GPU"
  },
  "cells": [
    {
      "cell_type": "markdown",
      "metadata": {
        "id": "view-in-github",
        "colab_type": "text"
      },
      "source": [
        "<a href=\"https://colab.research.google.com/github/priyanshgupta1998/Natural-language-processing-NLP-/blob/master/NLTK_NLP_2.ipynb\" target=\"_parent\"><img src=\"https://colab.research.google.com/assets/colab-badge.svg\" alt=\"Open In Colab\"/></a>"
      ]
    },
    {
      "cell_type": "code",
      "metadata": {
        "id": "mYfWrATiMosz",
        "colab_type": "code",
        "colab": {}
      },
      "source": [
        ""
      ],
      "execution_count": 0,
      "outputs": []
    },
    {
      "cell_type": "code",
      "metadata": {
        "id": "nTNchE8CMo2u",
        "colab_type": "code",
        "colab": {}
      },
      "source": [
        ""
      ],
      "execution_count": 0,
      "outputs": []
    },
    {
      "cell_type": "markdown",
      "metadata": {
        "id": "NaaEM8DtMqKU",
        "colab_type": "text"
      },
      "source": [
        "#NLP Libraries\n",
        "There are many open source Natural Language Processing (NLP) libraries. These are some of them:    \n",
        "\n",
        "Natural language toolkit (NLTK)   \n",
        "Apache OpenNLP      \n",
        "Stanford NLP suite    \n",
        "Gate NLP library   "
      ]
    },
    {
      "cell_type": "code",
      "metadata": {
        "id": "ERTWaV7nNuu6",
        "colab_type": "code",
        "colab": {}
      },
      "source": [
        "import nltk"
      ],
      "execution_count": 0,
      "outputs": []
    },
    {
      "cell_type": "code",
      "metadata": {
        "id": "s1gTWNiRMple",
        "colab_type": "code",
        "colab": {}
      },
      "source": [
        "#This will show the NLTK downloader to choose what packages need to be installed. \n",
        "#You can install all packages since they all have small sizes with no problem. \n",
        "nltk.download() "
      ],
      "execution_count": 0,
      "outputs": []
    },
    {
      "cell_type": "markdown",
      "metadata": {
        "id": "w8CRwiD0N7pz",
        "colab_type": "text"
      },
      "source": [
        "#1. Tokenize Text Using Pure Python\n",
        "First, we will grab some web page content. . We will use the urllib module to crawl the web page:"
      ]
    },
    {
      "cell_type": "code",
      "metadata": {
        "id": "Z5j-ErT_Mo6R",
        "colab_type": "code",
        "outputId": "9cb0694e-31a6-4378-f8c6-c7eb73ae12ad",
        "colab": {
          "base_uri": "https://localhost:8080/",
          "height": 54
        }
      },
      "source": [
        "import urllib.request\n",
        "response = urllib.request.urlopen('http://php.net/')\n",
        "html = response.read()\n",
        "print(html)"
      ],
      "execution_count": 0,
      "outputs": [
        {
          "output_type": "stream",
          "text": [
            "b'<!DOCTYPE html>\\n<html xmlns=\"http://www.w3.org/1999/xhtml\" lang=\"en\">\\n<head>\\n\\n  <meta charset=\"utf-8\">\\n  <meta name=\"viewport\" content=\"width=device-width, initial-scale=1.0\">\\n\\n  <title>PHP: Hypertext Preprocessor</title>\\n\\n <link rel=\"shortcut icon\" href=\"https://www.php.net/favicon.ico\">\\n <link rel=\"search\" type=\"application/opensearchdescription+xml\" href=\"http://php.net/phpnetimprovedsearch.src\" title=\"Add PHP.net search\">\\n <link rel=\"alternate\" type=\"application/atom+xml\" href=\"https://www.php.net/releases/feed.php\" title=\"PHP Release feed\">\\n <link rel=\"alternate\" type=\"application/atom+xml\" href=\"https://www.php.net/feed.atom\" title=\"PHP: Hypertext Preprocessor\">\\n\\n <link rel=\"canonical\" href=\"https://www.php.net/index.php\">\\n <link rel=\"shorturl\" href=\"https://www.php.net/index\">\\n <link rel=\"alternate\" href=\"https://www.php.net/index\" hreflang=\"x-default\">\\n\\n\\n\\n<link rel=\"stylesheet\" type=\"text/css\" href=\"/cached.php?t=1539771603&amp;f=/fonts/Fira/fira.css\" media=\"screen\">\\n<link rel=\"stylesheet\" type=\"text/css\" href=\"/cached.php?t=1539765004&amp;f=/fonts/Font-Awesome/css/fontello.css\" media=\"screen\">\\n<link rel=\"stylesheet\" type=\"text/css\" href=\"/cached.php?t=1540425603&amp;f=/styles/theme-base.css\" media=\"screen\">\\n<link rel=\"stylesheet\" type=\"text/css\" href=\"/cached.php?t=1540425603&amp;f=/styles/theme-medium.css\" media=\"screen\">\\n<link rel=\"stylesheet\" type=\"text/css\" href=\"/cached.php?t=1429259403&amp;f=/styles/home.css\" media=\"screen\">\\n\\n <!--[if lte IE 7]>\\n <link rel=\"stylesheet\" type=\"text/css\" href=\"https://www.php.net/styles/workarounds.ie7.css\" media=\"screen\">\\n <![endif]-->\\n\\n <!--[if lte IE 8]>\\n <script>\\n  window.brokenIE = true;\\n </script>\\n <![endif]-->\\n\\n <!--[if lte IE 9]>\\n <link rel=\"stylesheet\" type=\"text/css\" href=\"https://www.php.net/styles/workarounds.ie9.css\" media=\"screen\">\\n <![endif]-->\\n\\n <!--[if IE]>\\n <script src=\"https://www.php.net/js/ext/html5.js\"></script>\\n <![endif]-->\\n\\n <base href=\"https://www.php.net/index.php\">\\n\\n</head>\\n<body class=\"home \">\\n\\n<nav id=\"head-nav\" class=\"navbar navbar-fixed-top\">\\n  <div class=\"navbar-inner clearfix\">\\n    <a href=\"/\" class=\"brand\"><img src=\"/images/logos/php-logo.svg\" width=\"48\" height=\"24\" alt=\"php\"></a>\\n    <div id=\"mainmenu-toggle-overlay\"></div>\\n    <input type=\"checkbox\" id=\"mainmenu-toggle\">\\n    <ul class=\"nav\">\\n      <li class=\"\"><a href=\"/downloads\">Downloads</a></li>\\n      <li class=\"\"><a href=\"/docs.php\">Documentation</a></li>\\n      <li class=\"\"><a href=\"/get-involved\" >Get Involved</a></li>\\n      <li class=\"\"><a href=\"/support\">Help</a></li>\\n    </ul>\\n    <form class=\"navbar-search\" id=\"topsearch\" action=\"/search.php\">\\n      <input type=\"hidden\" name=\"show\" value=\"quickref\">\\n      <input type=\"search\" name=\"pattern\" class=\"search-query\" placeholder=\"Search\" accesskey=\"s\">\\n    </form>\\n  </div>\\n  <div id=\"flash-message\"></div>\\n</nav>\\n<nav id=\"trick\"><div><dl>\\n<dt><a href=\\'/manual/en/getting-started.php\\'>Getting Started</a></dt>\\n\\t<dd><a href=\\'/manual/en/introduction.php\\'>Introduction</a></dd>\\n\\t<dd><a href=\\'/manual/en/tutorial.php\\'>A simple tutorial</a></dd>\\n<dt><a href=\\'/manual/en/langref.php\\'>Language Reference</a></dt>\\n\\t<dd><a href=\\'/manual/en/language.basic-syntax.php\\'>Basic syntax</a></dd>\\n\\t<dd><a href=\\'/manual/en/language.types.php\\'>Types</a></dd>\\n\\t<dd><a href=\\'/manual/en/language.variables.php\\'>Variables</a></dd>\\n\\t<dd><a href=\\'/manual/en/language.constants.php\\'>Constants</a></dd>\\n\\t<dd><a href=\\'/manual/en/language.expressions.php\\'>Expressions</a></dd>\\n\\t<dd><a href=\\'/manual/en/language.operators.php\\'>Operators</a></dd>\\n\\t<dd><a href=\\'/manual/en/language.control-structures.php\\'>Control Structures</a></dd>\\n\\t<dd><a href=\\'/manual/en/language.functions.php\\'>Functions</a></dd>\\n\\t<dd><a href=\\'/manual/en/language.oop5.php\\'>Classes and Objects</a></dd>\\n\\t<dd><a href=\\'/manual/en/language.namespaces.php\\'>Namespaces</a></dd>\\n\\t<dd><a href=\\'/manual/en/language.errors.php\\'>Errors</a></dd>\\n\\t<dd><a href=\\'/manual/en/language.exceptions.php\\'>Exceptions</a></dd>\\n\\t<dd><a href=\\'/manual/en/language.generators.php\\'>Generators</a></dd>\\n\\t<dd><a href=\\'/manual/en/language.references.php\\'>References Explained</a></dd>\\n\\t<dd><a href=\\'/manual/en/reserved.variables.php\\'>Predefined Variables</a></dd>\\n\\t<dd><a href=\\'/manual/en/reserved.exceptions.php\\'>Predefined Exceptions</a></dd>\\n\\t<dd><a href=\\'/manual/en/reserved.interfaces.php\\'>Predefined Interfaces and Classes</a></dd>\\n\\t<dd><a href=\\'/manual/en/context.php\\'>Context options and parameters</a></dd>\\n\\t<dd><a href=\\'/manual/en/wrappers.php\\'>Supported Protocols and Wrappers</a></dd>\\n</dl>\\n<dl>\\n<dt><a href=\\'/manual/en/security.php\\'>Security</a></dt>\\n\\t<dd><a href=\\'/manual/en/security.intro.php\\'>Introduction</a></dd>\\n\\t<dd><a href=\\'/manual/en/security.general.php\\'>General considerations</a></dd>\\n\\t<dd><a href=\\'/manual/en/security.cgi-bin.php\\'>Installed as CGI binary</a></dd>\\n\\t<dd><a href=\\'/manual/en/security.apache.php\\'>Installed as an Apache module</a></dd>\\n\\t<dd><a href=\\'/manual/en/security.sessions.php\\'>Session Security</a></dd>\\n\\t<dd><a href=\\'/manual/en/security.filesystem.php\\'>Filesystem Security</a></dd>\\n\\t<dd><a href=\\'/manual/en/security.database.php\\'>Database Security</a></dd>\\n\\t<dd><a href=\\'/manual/en/security.errors.php\\'>Error Reporting</a></dd>\\n\\t<dd><a href=\\'/manual/en/security.globals.php\\'>Using Register Globals</a></dd>\\n\\t<dd><a href=\\'/manual/en/security.variables.php\\'>User Submitted Data</a></dd>\\n\\t<dd><a href=\\'/manual/en/security.magicquotes.php\\'>Magic Quotes</a></dd>\\n\\t<dd><a href=\\'/manual/en/security.hiding.php\\'>Hiding PHP</a></dd>\\n\\t<dd><a href=\\'/manual/en/security.current.php\\'>Keeping Current</a></dd>\\n<dt><a href=\\'/manual/en/features.php\\'>Features</a></dt>\\n\\t<dd><a href=\\'/manual/en/features.http-auth.php\\'>HTTP authentication with PHP</a></dd>\\n\\t<dd><a href=\\'/manual/en/features.cookies.php\\'>Cookies</a></dd>\\n\\t<dd><a href=\\'/manual/en/features.sessions.php\\'>Sessions</a></dd>\\n\\t<dd><a href=\\'/manual/en/features.xforms.php\\'>Dealing with XForms</a></dd>\\n\\t<dd><a href=\\'/manual/en/features.file-upload.php\\'>Handling file uploads</a></dd>\\n\\t<dd><a href=\\'/manual/en/features.remote-files.php\\'>Using remote files</a></dd>\\n\\t<dd><a href=\\'/manual/en/features.connection-handling.php\\'>Connection handling</a></dd>\\n\\t<dd><a href=\\'/manual/en/features.persistent-connections.php\\'>Persistent Database Connections</a></dd>\\n\\t<dd><a href=\\'/manual/en/features.safe-mode.php\\'>Safe Mode</a></dd>\\n\\t<dd><a href=\\'/manual/en/features.commandline.php\\'>Command line usage</a></dd>\\n\\t<dd><a href=\\'/manual/en/features.gc.php\\'>Garbage Collection</a></dd>\\n\\t<dd><a href=\\'/manual/en/features.dtrace.php\\'>DTrace Dynamic Tracing</a></dd>\\n</dl>\\n<dl>\\n<dt><a href=\\'/manual/en/funcref.php\\'>Function Reference</a></dt>\\n\\t<dd><a href=\\'/manual/en/refs.basic.php.php\\'>Affecting PHP\\'s Behaviour</a></dd>\\n\\t<dd><a href=\\'/manual/en/refs.utilspec.audio.php\\'>Audio Formats Manipulation</a></dd>\\n\\t<dd><a href=\\'/manual/en/refs.remote.auth.php\\'>Authentication Services</a></dd>\\n\\t<dd><a href=\\'/manual/en/refs.utilspec.cmdline.php\\'>Command Line Specific Extensions</a></dd>\\n\\t<dd><a href=\\'/manual/en/refs.compression.php\\'>Compression and Archive Extensions</a></dd>\\n\\t<dd><a href=\\'/manual/en/refs.creditcard.php\\'>Credit Card Processing</a></dd>\\n\\t<dd><a href=\\'/manual/en/refs.crypto.php\\'>Cryptography Extensions</a></dd>\\n\\t<dd><a href=\\'/manual/en/refs.database.php\\'>Database Extensions</a></dd>\\n\\t<dd><a href=\\'/manual/en/refs.calendar.php\\'>Date and Time Related Extensions</a></dd>\\n\\t<dd><a href=\\'/manual/en/refs.fileprocess.file.php\\'>File System Related Extensions</a></dd>\\n\\t<dd><a href=\\'/manual/en/refs.international.php\\'>Human Language and Character Encoding Support</a></dd>\\n\\t<dd><a href=\\'/manual/en/refs.utilspec.image.php\\'>Image Processing and Generation</a></dd>\\n\\t<dd><a href=\\'/manual/en/refs.remote.mail.php\\'>Mail Related Extensions</a></dd>\\n\\t<dd><a href=\\'/manual/en/refs.math.php\\'>Mathematical Extensions</a></dd>\\n\\t<dd><a href=\\'/manual/en/refs.utilspec.nontext.php\\'>Non-Text MIME Output</a></dd>\\n\\t<dd><a href=\\'/manual/en/refs.fileprocess.process.php\\'>Process Control Extensions</a></dd>\\n\\t<dd><a href=\\'/manual/en/refs.basic.other.php\\'>Other Basic Extensions</a></dd>\\n\\t<dd><a href=\\'/manual/en/refs.remote.other.php\\'>Other Services</a></dd>\\n\\t<dd><a href=\\'/manual/en/refs.search.php\\'>Search Engine Extensions</a></dd>\\n\\t<dd><a href=\\'/manual/en/refs.utilspec.server.php\\'>Server Specific Extensions</a></dd>\\n\\t<dd><a href=\\'/manual/en/refs.basic.session.php\\'>Session Extensions</a></dd>\\n\\t<dd><a href=\\'/manual/en/refs.basic.text.php\\'>Text Processing</a></dd>\\n\\t<dd><a href=\\'/manual/en/refs.basic.vartype.php\\'>Variable and Type Related Extensions</a></dd>\\n\\t<dd><a href=\\'/manual/en/refs.webservice.php\\'>Web Services</a></dd>\\n\\t<dd><a href=\\'/manual/en/refs.utilspec.windows.php\\'>Windows Only Extensions</a></dd>\\n\\t<dd><a href=\\'/manual/en/refs.xml.php\\'>XML Manipulation</a></dd>\\n\\t<dd><a href=\\'/manual/en/refs.ui.php\\'>GUI Extensions</a></dd>\\n</dl>\\n<dl>\\n<dt>Keyboard Shortcuts</dt><dt>?</dt>\\n<dd>This help</dd>\\n<dt>j</dt>\\n<dd>Next menu item</dd>\\n<dt>k</dt>\\n<dd>Previous menu item</dd>\\n<dt>g p</dt>\\n<dd>Previous man page</dd>\\n<dt>g n</dt>\\n<dd>Next man page</dd>\\n<dt>G</dt>\\n<dd>Scroll to bottom</dd>\\n<dt>g g</dt>\\n<dd>Scroll to top</dd>\\n<dt>g h</dt>\\n<dd>Goto homepage</dd>\\n<dt>g s</dt>\\n<dd>Goto search<br>(current page)</dd>\\n<dt>/</dt>\\n<dd>Focus search box</dd>\\n</dl></div></nav>\\n<div id=\"goto\">\\n    <div class=\"search\">\\n         <div class=\"text\"></div>\\n         <div class=\"results\"><ul></ul></div>\\n   </div>\\n</div>\\n\\n\\n\\n<div id=\"intro\" class=\"clearfix\">\\n  <div class=\"container\">\\n      <div class=\"row clearfix\">\\n    <div class=\"blurb\">\\n      <p>PHP is a popular general-purpose scripting language that is especially suited to web development.</p>\\n      <p>Fast, flexible and pragmatic, PHP powers everything from your blog to the most popular websites in the world.</p>\\n    </div>\\n    <div class=\"download\">\\n      <h3>Download</h3><ul>\\n\\n            <li><a class=\\'download-link\\' href=\\'/downloads.php#v7.1.29\\'>7.1.29</a><span class=\\'dot\\'>&middot;</span><a class=\\'notes\\' href=\\'/ChangeLog-7.php#7.1.29\\'>Release Notes</a><span class=\\'dot\\'>&middot;</span><a class=\\'notes\\' href=\\'/migration71\\'>Upgrading</a></li>\\n\\n            <li><a class=\\'download-link\\' href=\\'/downloads.php#v7.2.18\\'>7.2.18</a><span class=\\'dot\\'>&middot;</span><a class=\\'notes\\' href=\\'/ChangeLog-7.php#7.2.18\\'>Release Notes</a><span class=\\'dot\\'>&middot;</span><a class=\\'notes\\' href=\\'/migration72\\'>Upgrading</a></li>\\n\\n            <li><a class=\\'download-link\\' href=\\'/downloads.php#v7.3.5\\'>7.3.5</a><span class=\\'dot\\'>&middot;</span><a class=\\'notes\\' href=\\'/ChangeLog-7.php#7.3.5\\'>Release Notes</a><span class=\\'dot\\'>&middot;</span><a class=\\'notes\\' href=\\'/migration73\\'>Upgrading</a></li>\\n</ul>\\n    </div>\\n  </div>  </div>\\n</div>\\n\\n\\n<div id=\"layout\" class=\"clearfix\">\\n  <section id=\"layout-content\">\\n<div class=\\'home-content\\'><article class=\"newsentry\">\\n  <header class=\"title\">\\n    <time datetime=\"2019-05-03T06:05:20+00:00\">03 May 2019</time>\\n    <h2 class=\"newstitle\">\\n      <a href=\"https://www.php.net/archive/2019.php#id2019-05-03-1\" id=\"id2019-05-03-1\">PHP 7.1.29 Released</a>\\n    </h2>\\n  </header>\\n  <div class=\"newscontent\">\\n    <div>\\n       <p>The PHP development team announces the immediate availability of PHP\\n       7.1.29. This is a security release.</p>\\n     \\n       <p>All PHP 7.1 users are encouraged to upgrade to this version.</p>\\n     \\n       <p>For source downloads of PHP 7.1.29 please visit our <a href=\"http://www.php.net/downloads.php\">downloads page</a>,\\n       Windows source and binaries can be found on <a href=\"http://windows.php.net/download/\">windows.php.net/download/</a>.\\n       The list of changes is recorded in the <a href=\"http://www.php.net/ChangeLog-7.php#7.1.29\">ChangeLog</a>.\\n       </p>\\n    </div>\\n  \\n  </div>\\n</article><article class=\"newsentry\">\\n  <header class=\"title\">\\n    <time datetime=\"2019-05-02T09:47:58+00:00\">02 May 2019</time>\\n    <h2 class=\"newstitle\">\\n      <a href=\"https://www.php.net/archive/2019.php#id2019-05-02-2\" id=\"id2019-05-02-2\">PHP 7.2.18 Released</a>\\n    </h2>\\n  </header>\\n  <div class=\"newscontent\">\\n    <div>\\n     <p>The PHP development team announces the immediate availability of PHP\\n     7.2.18. This is a security release which also contains several minor bug fixes.</p>\\n\\n     <p>All PHP 7.2 users are encouraged to upgrade to this version.</p>\\n\\n     <p>For source downloads of PHP 7.2.18 please visit our <a href=\"http://www.php.net/downloads.php\">downloads page</a>,\\n     Windows source and binaries can be found on <a href=\"http://windows.php.net/download/\">windows.php.net/download/</a>.\\n     The list of changes is recorded in the <a href=\"http://www.php.net/ChangeLog-7.php#7.2.18\">ChangeLog</a>.\\n     </p>\\n    </div>\\n  \\n  </div>\\n</article><article class=\"newsentry\">\\n  <header class=\"title\">\\n    <time datetime=\"2019-05-02T10:27:19+02:00\">02 May 2019</time>\\n    <h2 class=\"newstitle\">\\n      <a href=\"https://www.php.net/archive/2019.php#id2019-05-02-1\" id=\"id2019-05-02-1\">PHP 7.3.5 Release Announcement</a>\\n    </h2>\\n  </header>\\n  <div class=\"newscontent\">\\n    <div>\\n      <p>The PHP development team announces the immediate availability of PHP\\n      7.3.5. This is a security release which also contains several bug fixes.</p>\\n\\n      <p>All PHP 7.3 users are encouraged to upgrade to this version.</p>\\n\\n      <p>For source downloads of PHP 7.3.5 please visit our <a href=\"http://www.php.net/downloads.php\">downloads page</a>,\\n      Windows source and binaries can be found on <a href=\"http://windows.php.net/download/\">windows.php.net/download/</a>.\\n      The list of changes is recorded in the <a href=\"http://www.php.net/ChangeLog-7.php#7.3.5\">ChangeLog</a>.\\n      </p>\\n    </div>\\n  \\n  </div>\\n</article><article class=\"newsentry\">\\n  <header class=\"title\">\\n    <time datetime=\"2019-04-04T16:56:38+00:00\">04 Apr 2019</time>\\n    <h2 class=\"newstitle\">\\n      <a href=\"https://www.php.net/archive/2019.php#id2019-04-04-3\" id=\"id2019-04-04-3\">PHP 7.1.28 Released</a>\\n    </h2>\\n  </header>\\n  <div class=\"newscontent\">\\n    <div>\\n       <p>The PHP development team announces the immediate availability of PHP\\n       7.1.28. This is a security release.</p>\\n     \\n       <p>All PHP 7.1 users are encouraged to upgrade to this version.</p>\\n     \\n       <p>For source downloads of PHP 7.1.28 please visit our <a href=\"http://www.php.net/downloads.php\">downloads page</a>,\\n       Windows source and binaries can be found on <a href=\"http://windows.php.net/download/\">windows.php.net/download/</a>.\\n       The list of changes is recorded in the <a href=\"http://www.php.net/ChangeLog-7.php#7.1.28\">ChangeLog</a>.\\n       </p>\\n    </div>\\n  \\n  </div>\\n</article><article class=\"newsentry\">\\n  <header class=\"title\">\\n    <time datetime=\"2019-04-04T14:17:48+00:00\">04 Apr 2019</time>\\n    <h2 class=\"newstitle\">\\n      <a href=\"https://www.php.net/archive/2019.php#id2019-04-04-2\" id=\"id2019-04-04-2\">PHP 7.2.17 Release Announcement</a>\\n    </h2>\\n  </header>\\n  <div class=\"newscontent\">\\n    <div>\\n     <p>The PHP development team announces the immediate availability of PHP 7.2.17.\\n     This is a security release which also contains several minor bug fixes.</p>\\n     \\n     <p>All PHP 7.2 users are encouraged to upgrade to this version.</p>\\n     \\n     <p>For source downloads of PHP 7.2.17 please visit our <a href=\"http://www.php.net/downloads.php\">downloads page</a>,\\n     Windows source and binaries can be found on <a href=\"http://windows.php.net/download/\">windows.php.net/download/</a>.\\n     The list of changes is recorded in the <a href=\"http://www.php.net/ChangeLog-7.php#7.2.17\">ChangeLog</a>.\\n     </p>\\n    </div>\\n  \\n  </div>\\n</article><article class=\"newsentry\">\\n  <header class=\"title\">\\n    <time datetime=\"2019-04-04T14:02:16+02:00\">04 Apr 2019</time>\\n    <h2 class=\"newstitle\">\\n      <a href=\"https://www.php.net/archive/2019.php#id2019-04-04-1\" id=\"id2019-04-04-1\">PHP 7.3.4 Release Announcement</a>\\n    </h2>\\n  </header>\\n  <div class=\"newscontent\">\\n    <div>\\n       <p>The PHP development team announces the immediate availability of PHP\\n       7.3.4. This is a security release which also contains several bug fixes.</p>\\n     \\n       <p>All PHP 7.3 users are encouraged to upgrade to this version.</p>\\n     \\n       <p>For source downloads of PHP 7.3.4 please visit our <a href=\"http://www.php.net/downloads.php\">downloads page</a>,\\n       Windows source and binaries can be found on <a href=\"http://windows.php.net/download/\">windows.php.net/download/</a>.\\n       The list of changes is recorded in the <a href=\"http://www.php.net/ChangeLog-7.php#7.3.4\">ChangeLog</a>.\\n       </p>\\n    </div>\\n  \\n  </div>\\n</article><article class=\"newsentry\">\\n  <header class=\"title\">\\n    <time datetime=\"2018-11-22T12:22:47+01:00\">22 Nov 2018</time>\\n    <h2 class=\"newstitle\">\\n      <a href=\"https://www.php.net/archive/2018.php#id2018-11-22-1\" id=\"id2018-11-22-1\">PHP 7.3.0RC6 Released</a>\\n    </h2>\\n  </header>\\n  <div class=\"newscontent\">\\n    <div>\\n      <p>\\n        The PHP team is glad to announce the presumably last PHP 7.3.0 pre-release, PHP 7.3.0RC6.\\n        The rough outline of the PHP 7.3 release cycle is specified in the\\n        <a href=\"https://wiki.php.net/todo/php73\">PHP Wiki</a>.\\n      </p>\\n\\n      <p>\\n        For source downloads of PHP 7.3.0RC6 please visit the <a href=\"https://downloads.php.net/~cmb/\">download page</a>.\\n        Windows sources and binaries can be found on <a href=\"https://windows.php.net/qa/\">windows.php.net/qa/</a>.\\n      </p>\\n\\n      <p>\\n        Please carefully test this version and report any issues found in the <a href=\" https://bugs.php.net\">bug reporting system</a>.\\n      </p>\\n\\n      <p>\\n        <b>THIS IS A DEVELOPMENT PREVIEW - DO NOT USE IT IN PRODUCTION!</b>\\n      </p>\\n\\n      <p>\\n        For more information on the new features and other changes, you can read the\\n        <a href=\"https://github.com/php/php-src/blob/php-7.3.0RC6/NEWS\">NEWS</a> file,\\n        or the <a href=\"https://github.com/php/php-src/blob/php-7.3.0RC6/UPGRADING\">UPGRADING</a>\\n        file for a complete list of upgrading notes. Internal changes are listed in the\\n        <a href=\"https://github.com/php/php-src/blob/php-7.3.0RC6/UPGRADING.INTERNALS\">UPGRADING.INTERNALS</a> file.\\n        These files can also be found in the release archive.\\n      </p>\\n\\n      <p>\\n        The next release would be 7.3.0 (GA), planned for December 6th.\\n      </p>\\n\\n      <p>\\n        The signatures for the release can be found in <a href=\"https://gist.github.com/cmb69/6d9574612d0fb78b8549e42ec096a5a6\">the manifest</a>\\n        or on <a href=\"https://qa.php.net/\">the QA site</a>.\\n      </p>\\n\\n      <p>\\n        Thank you for helping us make PHP better.\\n      </p>\\n    </div>\\n  \\n  </div>\\n</article><article class=\"newsentry\">\\n  <header class=\"title\">\\n    <time datetime=\"2018-11-08T11:11:26+01:00\">08 Nov 2018</time>\\n    <h2 class=\"newstitle\">\\n      <a href=\"https://www.php.net/archive/2018.php#id2018-11-08-1\" id=\"id2018-11-08-1\">PHP 7.3.0RC5 Released</a>\\n    </h2>\\n  </header>\\n  <div class=\"newscontent\">\\n    <div>\\n      <p>\\n        The PHP team is glad to announce the next PHP 7.3.0 pre-release, PHP 7.3.0RC5.\\n        The rough outline of the PHP 7.3 release cycle is specified in the\\n        <a href=\"https://wiki.php.net/todo/php73\">PHP Wiki</a>.\\n      </p>\\n\\n      <p>\\n        For source downloads of PHP 7.3.0RC5 please visit the <a href=\"https://downloads.php.net/~cmb/\">download page</a>.\\n        Windows sources and binaries can be found on <a href=\"https://windows.php.net/qa/\">windows.php.net/qa/</a>.\\n      </p>\\n\\n      <p>\\n        Please carefully test this version and report any issues found in the <a href=\" https://bugs.php.net\">bug reporting system</a>.\\n      </p>\\n\\n      <p>\\n        <b>THIS IS A DEVELOPMENT PREVIEW - DO NOT USE IT IN PRODUCTION!</b>\\n      </p>\\n\\n      <p>\\n        For more information on the new features and other changes, you can read the\\n        <a href=\"https://github.com/php/php-src/blob/php-7.3.0RC5/NEWS\">NEWS</a> file,\\n        or the <a href=\"https://github.com/php/php-src/blob/php-7.3.0RC5/UPGRADING\">UPGRADING</a>\\n        file for a complete list of upgrading notes. Internal changes are listed in the\\n        <a href=\"https://github.com/php/php-src/blob/php-7.3.0RC5/UPGRADING.INTERNALS\">UPGRADING.INTERNALS</a> file.\\n        These files can also be found in the release archive.\\n      </p>\\n\\n      <p>\\n        The next release would be RC6, planned for November 22nd.\\n      </p>\\n\\n      <p>\\n        The signatures for the release can be found in <a href=\"https://gist.github.com/cmb69/a14634afdd52b7f69d65d2bd5a79ac99\">the manifest</a>\\n        or on <a href=\"https://qa.php.net/\">the QA site</a>.\\n      </p>\\n\\n      <p>\\n        Thank you for helping us make PHP better.\\n      </p>\\n    </div>\\n  \\n  </div>\\n</article><article class=\"newsentry\">\\n  <header class=\"title\">\\n    <time datetime=\"2018-10-25T11:07:32+02:00\">25 Oct 2018</time>\\n    <h2 class=\"newstitle\">\\n      <a href=\"https://www.php.net/archive/2018.php#id2018-10-25-1\" id=\"id2018-10-25-1\">PHP 7.3.0RC4 Released</a>\\n    </h2>\\n  </header>\\n  <div class=\"newscontent\">\\n    <div>\\n      <p>\\n        The PHP team is glad to announce the next PHP 7.3.0 pre-release, PHP 7.3.0RC4.\\n        The rough outline of the PHP 7.3 release cycle is specified in the\\n        <a href=\"https://wiki.php.net/todo/php73\">PHP Wiki</a>.\\n      </p>\\n\\n      <p>\\n        For source downloads of PHP 7.3.0RC4 please visit the <a href=\"https://downloads.php.net/~cmb/\">download page</a>.\\n        Windows sources and binaries can be found on <a href=\"https://windows.php.net/qa/\">windows.php.net/qa/</a>.\\n      </p>\\n\\n      <p>\\n        Please carefully test this version and report any issues found in the <a href=\" https://bugs.php.net\">bug reporting system</a>.\\n      </p>\\n\\n      <p>\\n        <b>THIS IS A DEVELOPMENT PREVIEW - DO NOT USE IT IN PRODUCTION!</b>\\n      </p>\\n\\n      <p>\\n        For more information on the new features and other changes, you can read the\\n        <a href=\"https://github.com/php/php-src/blob/php-7.3.0RC4/NEWS\">NEWS</a> file,\\n        or the <a href=\"https://github.com/php/php-src/blob/php-7.3.0RC4/UPGRADING\">UPGRADING</a>\\n        file for a complete list of upgrading notes. Internal changes are listed in the\\n        <a href=\"https://github.com/php/php-src/blob/php-7.3.0RC4/UPGRADING.INTERNALS\">UPGRADING.INTERNALS</a> file.\\n        These files can also be found in the release archive.\\n      </p>\\n\\n      <p>\\n        The next release would be RC5, planned for November 8th.\\n      </p>\\n\\n      <p>\\n        The signatures for the release can be found in <a href=\"https://gist.github.com/cmb69/594d9a18290f1b019b2ba68a098413c6\">the manifest</a>\\n        or on <a href=\"https://qa.php.net/\">the QA site</a>.\\n      </p>\\n\\n      <p>\\n        Thank you for helping us make PHP better.\\n      </p>\\n    </div>\\n  \\n  </div>\\n</article><article class=\"newsentry\">\\n  <header class=\"title\">\\n    <time datetime=\"2018-10-11T13:47:50+02:00\">11 Oct 2018</time>\\n    <h2 class=\"newstitle\">\\n      <a href=\"https://www.php.net/archive/2018.php#id2018-10-11-1\" id=\"id2018-10-11-1\">PHP 7.3.0RC3 Released</a>\\n    </h2>\\n  </header>\\n  <div class=\"newscontent\">\\n    <div>\\n      <p>\\n        The PHP team is glad to announce the next PHP 7.3.0 pre-release, PHP 7.3.0RC3.\\n        The rough outline of the PHP 7.3 release cycle is specified in the\\n        <a href=\"https://wiki.php.net/todo/php73\">PHP Wiki</a>.\\n      </p>\\n\\n      <p>\\n        For source downloads of PHP 7.3.0RC3 please visit the <a href=\"https://downloads.php.net/~cmb/\">download page</a>.\\n        Windows sources and binaries can be found on <a href=\"https://windows.php.net/qa/\">windows.php.net/qa/</a>.\\n      </p>\\n\\n      <p>\\n        Please carefully test this version and report any issues found in the <a href=\" https://bugs.php.net\">bug reporting system</a>.\\n      </p>\\n\\n      <p>\\n        <b>THIS IS A DEVELOPMENT PREVIEW - DO NOT USE IT IN PRODUCTION!</b>\\n      </p>\\n\\n      <p>\\n        For more information on the new features and other changes, you can read the\\n        <a href=\"https://github.com/php/php-src/blob/php-7.3.0RC3/NEWS\">NEWS</a> file,\\n        or the <a href=\"https://github.com/php/php-src/blob/php-7.3.0RC3/UPGRADING\">UPGRADING</a>\\n        file for a complete list of upgrading notes. Internal changes are listed in the\\n        <a href=\"https://github.com/php/php-src/blob/php-7.3.0RC3/UPGRADING.INTERNALS\">UPGRADING.INTERNALS</a> file.\\n        These files can also be found in the release archive.\\n      </p>\\n\\n      <p>\\n        The next release would be RC4, planned for October 25th.\\n      </p>\\n\\n      <p>\\n        The signatures for the release can be found in <a href=\"https://gist.github.com/cmb69/3b521933b5524c92e880fc96559a5f5c\">the manifest</a>\\n        or on <a href=\"https://qa.php.net/\">the QA site</a>.\\n      </p>\\n\\n      <p>\\n        Thank you for helping us make PHP better.\\n      </p>\\n    </div>\\n  \\n  </div>\\n</article><article class=\"newsentry\">\\n  <header class=\"title\">\\n    <time datetime=\"2018-09-28T10:31:16+02:00\">28 Sep 2018</time>\\n    <h2 class=\"newstitle\">\\n      <a href=\"https://www.php.net/archive/2018.php#id2018-09-28-1\" id=\"id2018-09-28-1\">PHP 7.3.0RC2 Released</a>\\n    </h2>\\n  </header>\\n  <div class=\"newscontent\">\\n    <div>\\n      <p>\\n        The PHP team is glad to announce the next PHP 7.3.0 pre-release, PHP 7.3.0RC2.\\n        The rough outline of the PHP 7.3 release cycle is specified in the\\n        <a href=\"https://wiki.php.net/todo/php73\">PHP Wiki</a>.\\n      </p>\\n\\n      <p>\\n        For source downloads of PHP 7.3.0RC2 please visit the <a href=\"https://downloads.php.net/~cmb/\">download page</a>.\\n        Windows sources and binaries can be found on <a href=\"https://windows.php.net/qa/\">windows.php.net/qa/</a>.\\n      </p>\\n\\n      <p>\\n        Please carefully test this version and report any issues found in the <a href=\" https://bugs.php.net\">bug reporting system</a>.\\n      </p>\\n\\n      <p>\\n        <b>THIS IS A DEVELOPMENT PREVIEW - DO NOT USE IT IN PRODUCTION!</b>\\n      </p>\\n\\n      <p>\\n        For more information on the new features and other changes, you can read the\\n        <a href=\"https://github.com/php/php-src/blob/php-7.3.0RC2/NEWS\">NEWS</a> file,\\n        or the <a href=\"https://github.com/php/php-src/blob/php-7.3.0RC2/UPGRADING\">UPGRADING</a>\\n        file for a complete list of upgrading notes. Internal changes are listed in the\\n        <a href=\"https://github.com/php/php-src/blob/php-7.3.0RC2/UPGRADING.INTERNALS\">UPGRADING.INTERNALS</a> file.\\n        These files can also be found in the release archive.\\n      </p>\\n\\n      <p>\\n        The next release would be RC3, planned for October 11th.\\n      </p>\\n\\n      <p>\\n        The signatures for the release can be found in <a href=\"https://gist.github.com/cmb69/ffe9373d127254a19e73e73251e4ff7d\">the manifest</a>\\n        or on <a href=\"https://qa.php.net/\">the QA site</a>.\\n      </p>\\n\\n      <p>\\n        Thank you for helping us make PHP better.\\n      </p>\\n    </div>\\n  \\n  </div>\\n</article><article class=\"newsentry\">\\n  <header class=\"title\">\\n    <time datetime=\"2018-09-13T10:57:40+02:00\">13 Sep 2018</time>\\n    <h2 class=\"newstitle\">\\n      <a href=\"https://www.php.net/archive/2018.php#id2018-09-13-2\" id=\"id2018-09-13-2\">PHP 7.3.0RC1 Released</a>\\n    </h2>\\n  </header>\\n  <div class=\"newscontent\">\\n    <div>\\n      <p>\\n        The PHP team is glad to announce the release of the next PHP 7.3.0 pre-release, PHP 7.3.0RC1.\\n        The rough outline of the PHP 7.3 release cycle is specified in the\\n        <a href=\"https://wiki.php.net/todo/php73\">PHP Wiki</a>.\\n      </p>\\n\\n      <p>\\n        For source downloads of PHP 7.3.0RC1 please visit the <a href=\"https://downloads.php.net/~cmb/\">download page</a>.\\n        Windows sources and binaries can be found on <a href=\"https://windows.php.net/qa/\">windows.php.net/qa/</a>.\\n      </p>\\n\\n      <p>\\n        Please carefully test this version and report any issues found in the <a href=\" https://bugs.php.net\">bug reporting system</a>.\\n      </p>\\n\\n      <p>\\n        <b>THIS IS A DEVELOPMENT PREVIEW - DO NOT USE IT IN PRODUCTION!</b>\\n      </p>\\n\\n      <p>\\n        For more information on the new features and other changes, you can read the\\n        <a href=\"https://github.com/php/php-src/blob/php-7.3.0RC1/NEWS\">NEWS</a> file,\\n        or the <a href=\"https://github.com/php/php-src/blob/php-7.3.0RC1/UPGRADING\">UPGRADING</a>\\n        file for a complete list of upgrading notes. Internal changes are listed in the\\n        <a href=\"https://github.com/php/php-src/blob/php-7.3.0RC1/UPGRADING.INTERNALS\">UPGRADING.INTERNALS</a> file.\\n        These files can also be found in the release archive.\\n      </p>\\n\\n      <p>\\n        The next release would be RC2, planned for September 27th.\\n      </p>\\n\\n      <p>\\n        The signatures for the release can be found in <a href=\"https://gist.github.com/cmb69/224ae1ef28b1e3f2e0a62a4ab50966e4\">the manifest</a>\\n        or on <a href=\"https://qa.php.net/\">the QA site</a>.\\n      </p>\\n\\n      <p>\\n        Thank you for helping us make PHP better.\\n      </p>\\n    </div>\\n  \\n  </div>\\n</article><article class=\"newsentry\">\\n  <header class=\"title\">\\n    <time datetime=\"2018-08-30T17:37:34+02:00\">30 Aug 2018</time>\\n    <h2 class=\"newstitle\">\\n      <a href=\"https://www.php.net/archive/2018.php#id2018-08-30-1\" id=\"id2018-08-30-1\">PHP 7.3.0.beta3 Released</a>\\n    </h2>\\n  </header>\\n  <div class=\"newscontent\">\\n    <div>\\n      <p>\\n        The PHP team is glad to announce the release of the seventh PHP 7.3.0 version, PHP 7.3.0beta3.\\n        The rough outline of the PHP 7.3 release cycle is specified in the\\n        <a href=\"https://wiki.php.net/todo/php73\">PHP Wiki</a>.\\n      </p>\\n\\n      <p>\\n        For source downloads of PHP 7.3.0beta3 please visit the <a href=\"https://downloads.php.net/~cmb/\">download page</a>.\\n        Windows sources and binaries can be found on <a href=\"https://windows.php.net/qa/\">windows.php.net/qa/</a>.\\n      </p>\\n\\n      <p>\\n        Please carefully test this version and report any issues found in the <a href=\" https://bugs.php.net\">bug reporting system</a>.\\n      </p>\\n\\n      <p>\\n        <b>THIS IS A DEVELOPMENT PREVIEW - DO NOT USE IT IN PRODUCTION!</b>\\n      </p>\\n\\n      <p>\\n        For more information on the new features and other changes, you can read the\\n        <a href=\"https://github.com/php/php-src/blob/php-7.3.0beta3/NEWS\">NEWS</a> file,\\n        or the <a href=\"https://github.com/php/php-src/blob/php-7.3.0beta3/UPGRADING\">UPGRADING</a>\\n        file for a complete list of upgrading notes. Internal changes are listed in the\\n        <a href=\"https://github.com/php/php-src/blob/php-7.3.0beta3/UPGRADING.INTERNALS\">UPGRADING.INTERNALS</a> file.\\n        These files can also be found in the release archive.\\n      </p>\\n\\n      <p>\\n        The next release would be RC1, planned for September 13th.\\n      </p>\\n\\n      <p>\\n        The signatures for the release can be found in <a href=\"https://gist.github.com/cmb69/aeef8c8877a451ba6fce6f990dd3860b\">the manifest</a>\\n        or on <a href=\"https://qa.php.net/\">the QA site</a>.\\n      </p>\\n\\n      <p>\\n        Thank you for helping us make PHP better.\\n      </p>\\n    </div>\\n  \\n  </div>\\n</article><article class=\"newsentry\">\\n  <header class=\"title\">\\n    <time datetime=\"2018-08-16T14:11:38+02:00\">16 Aug 2018</time>\\n    <h2 class=\"newstitle\">\\n      <a href=\"https://www.php.net/archive/2018.php#id2018-08-16-1\" id=\"id2018-08-16-1\">PHP 7.3.0.beta2 Released</a>\\n    </h2>\\n  </header>\\n  <div class=\"newscontent\">\\n    <div>\\n      <p>\\n        The PHP team is glad to announce the release of the sixth PHP 7.3.0 version, PHP 7.3.0beta2.\\n        The rough outline of the PHP 7.3 release cycle is specified in the\\n        <a href=\"https://wiki.php.net/todo/php73\">PHP Wiki</a>.\\n      </p>\\n\\n      <p>\\n        For source downloads of PHP 7.3.0beta2 please visit the <a href=\"https://downloads.php.net/~cmb/\">download page</a>.\\n        Windows sources and binaries can be found on <a href=\"https://windows.php.net/qa/\">windows.php.net/qa/</a>.\\n      </p>\\n\\n      <p>\\n        Please carefully test this version and report any issues found in the <a href=\" https://bugs.php.net\">bug reporting system</a>.\\n      </p>\\n\\n      <p>\\n        <b>THIS IS A DEVELOPMENT PREVIEW - DO NOT USE IT IN PRODUCTION!</b>\\n      </p>\\n\\n      <p>\\n        For more information on the new features and other changes, you can read the\\n        <a href=\"https://github.com/php/php-src/blob/php-7.3.0beta2/NEWS\">NEWS</a> file,\\n        or the <a href=\"https://github.com/php/php-src/blob/php-7.3.0beta2/UPGRADING\">UPGRADING</a>\\n        file for a complete list of upgrading notes. Internal changes are listed in the\\n        <a href=\"https://github.com/php/php-src/blob/php-7.3.0beta2/UPGRADING.INTERNALS\">UPGRADING.INTERNALS</a> file.\\n        These files can also be found in the release archive.\\n      </p>\\n\\n      <p>\\n        The next release would be Beta 3, planned for August 30th.\\n      </p>\\n\\n      <p>\\n        The signatures for the release can be found in <a href=\"https://gist.github.com/cmb69/4bfd2f4d54ebc01cd37ba3dc86f1f814\">the manifest</a>\\n        or on <a href=\"https://qa.php.net/\">the QA site</a>.\\n      </p>\\n\\n      <p>\\n        Thank you for helping us make PHP better.\\n      </p>\\n    </div>\\n  \\n  </div>\\n</article><article class=\"newsentry\">\\n  <header class=\"title\">\\n    <time datetime=\"2018-08-02T11:44:58+02:00\">02 Aug 2018</time>\\n    <h2 class=\"newstitle\">\\n      <a href=\"https://www.php.net/archive/2018.php#id2018-08-02-1\" id=\"id2018-08-02-1\">PHP 7.3.0.beta1 Released</a>\\n    </h2>\\n  </header>\\n  <div class=\"newscontent\">\\n    <div>\\n      <p>\\n        The PHP team is glad to announce the release of the fifth PHP 7.3.0 version, PHP 7.3.0beta1.\\n        The rough outline of the PHP 7.3 release cycle is specified in the\\n        <a href=\"https://wiki.php.net/todo/php73\">PHP Wiki</a>.\\n      </p>\\n\\n      <p>\\n        For source downloads of PHP 7.3.0beta1 please visit the <a href=\"https://downloads.php.net/~cmb/\">download page</a>.\\n        Windows sources and binaries can be found on <a href=\"https://windows.php.net/qa/\">windows.php.net/qa/</a>.\\n      </p>\\n\\n      <p>\\n        Please carefully test this version and report any issues found in the <a href=\" https://bugs.php.net\">bug reporting system</a>.\\n      </p>\\n\\n      <p>\\n        <b>THIS IS A DEVELOPMENT PREVIEW - DO NOT USE IT IN PRODUCTION!</b>\\n      </p>\\n\\n      <p>\\n        For more information on the new features and other changes, you can read the\\n        <a href=\"https://github.com/php/php-src/blob/php-7.3.0beta1/NEWS\">NEWS</a> file,\\n        or the <a href=\"https://github.com/php/php-src/blob/php-7.3.0beta1/UPGRADING\">UPGRADING</a>\\n        file for a complete list of upgrading notes. These files can also be found in the release archive.\\n      </p>\\n\\n      <p>\\n        The next release would be Beta 2, planned for August 16th.\\n      </p>\\n\\n      <p>\\n        The signatures for the release can be found in <a href=\"https://gist.github.com/cmb69/e666c3f1622321f868de9282bee67e43\">the manifest</a>\\n        or on <a href=\"https://qa.php.net/\">the QA site</a>.\\n      </p>\\n\\n      <p>\\n        Thank you for helping us make PHP better.\\n      </p>\\n\\n    </div>\\n  \\n  </div>\\n</article><article class=\"newsentry\">\\n  <header class=\"title\">\\n    <time datetime=\"2018-07-19T11:02:21+02:00\">19 Jul 2018</time>\\n    <h2 class=\"newstitle\">\\n      <a href=\"https://www.php.net/archive/2018.php#id2018-07-19-1\" id=\"id2018-07-19-1\">PHP 7.3.0alpha4 Released</a>\\n    </h2>\\n  </header>\\n  <div class=\"newscontent\">\\n    <div>\\n      <p>\\n        The PHP team is glad to announce the release of the fourth PHP 7.3.0 version, PHP 7.3.0alpha4.\\n        The rough outline of the PHP 7.3 release cycle is specified in the\\n        <a href=\"https://wiki.php.net/todo/php73\">PHP Wiki</a>.\\n      </p>\\n\\n      <p>\\n        For source downloads of PHP 7.3.0alpha4 please visit the <a href=\"https://downloads.php.net/~cmb/\">download page</a>.\\n        Windows sources and binaries can be found on <a href=\"https://windows.php.net/qa/\">windows.php.net/qa/</a>.\\n      </p>\\n\\n      <p>\\n        Please carefully test this version and report any issues found in the <a href=\" https://bugs.php.net\">bug reporting system</a>.\\n      </p>\\n\\n      <p>\\n        <b>THIS IS A DEVELOPMENT PREVIEW - DO NOT USE IT IN PRODUCTION!</b>\\n      </p>\\n\\n      <p>\\n        For more information on the new features and other changes, you can read the\\n        <a href=\"https://github.com/php/php-src/blob/php-7.3.0alpha4/NEWS\">NEWS</a> file,\\n        or the <a href=\"https://github.com/php/php-src/blob/php-7.3.0alpha4/UPGRADING\">UPGRADING</a>\\n        file for a complete list of upgrading notes. These files can also be found in the release archive.\\n      </p>\\n\\n      <p>\\n        The next release would be Beta 1, planned for August 2nd.\\n      </p>\\n\\n      <p>\\n        The signatures for the release can be found in <a href=\"https://gist.github.com/cmb69/b30366855341382046687ce7adb20f69\">the manifest</a> or on <a href=\"https://qa.php.net/\">the QA site</a>.\\n      </p>\\n\\n      <p>\\n        Thank you for helping us make PHP better.\\n      </p>\\n    </div>\\n  \\n  </div>\\n</article><article class=\"newsentry\">\\n  <header class=\"title\">\\n    <time datetime=\"2018-07-05T11:41:41+02:00\">05 Jul 2018</time>\\n    <h2 class=\"newstitle\">\\n      <a href=\"https://www.php.net/archive/2018.php#id2018-07-05-1\" id=\"id2018-07-05-1\">PHP 7.3.0 alpha 3 Released</a>\\n    </h2>\\n  </header>\\n  <div class=\"newscontent\">\\n    <div>\\n     <p>\\n      The PHP team is glad to announce the release of the third PHP 7.3.0 version, PHP 7.3.0 Alpha 3.\\n      The rough outline of the PHP 7.3 release cycle is specified in the\\n      <a href=\"https://wiki.php.net/todo/php73\">PHP Wiki</a>.\\n     </p>\\n\\n     <p>\\n      For source downloads of PHP 7.3.0 Alpha 3 please visit the <a href=\"https://downloads.php.net/~cmb/\">download page</a>.\\n      Windows sources and binaries can be found on <a href=\"https://windows.php.net/qa/\">windows.php.net/qa/</a>.\\n     </p>\\n\\n     <p>\\n      Please carefully test this version and report any issues found in the <a href=\" http://bugs.php.net\">bug reporting system</a>.\\n     </p>\\n\\n     <p>\\n      <b>THIS IS A DEVELOPMENT PREVIEW - DO NOT USE IT IN PRODUCTION!</b>\\n     </p>\\n\\n     <p>\\n      For more information on the new features and other changes, you can read the\\n      <a href=\"https://github.com/php/php-src/blob/php-7.3.0alpha3/NEWS\">NEWS</a> file,\\n      or the <a href=\"https://github.com/php/php-src/blob/php-7.3.0alpha3/UPGRADING\">UPGRADING</a>\\n      file for a complete list of upgrading notes. These files can also be found in the release archive.\\n     </p>\\n\\n     <p>\\n      The next release would be Beta 1, planned for July 19th.\\n     </p>\\n\\n     <p>\\n      The signatures for the release can be found in <a href=\"https://gist.github.com/cmb69/e2e76ac0072474b019b0c9f1aef249f1\">the manifest</a> or on <a href=\"https://qa.php.net/\">the QA site</a>.\\n     </p>\\n\\n     <p>\\n      Thank you for helping us make PHP better.\\n     </p>\\n    </div>\\n  \\n  </div>\\n</article><article class=\"newsentry\">\\n  <header class=\"title\">\\n    <time datetime=\"2018-06-21T11:46:20+02:00\">21 Jun 2018</time>\\n    <h2 class=\"newstitle\">\\n      <a href=\"https://www.php.net/archive/2018.php#id2018-06-21-1\" id=\"id2018-06-21-1\">PHP 7.3.0 alpha 2 Released</a>\\n    </h2>\\n  </header>\\n  <div class=\"newscontent\">\\n    <div>\\n     <p>\\n      The PHP team is glad to announce the release of the second PHP 7.3.0 version, PHP 7.3.0 Alpha 2.\\n      The rough outline of the PHP 7.3 release cycle is specified in the\\n      <a href=\"https://wiki.php.net/todo/php73\">PHP Wiki</a>.\\n     </p>\\n\\n     <p>\\n      For source downloads of PHP 7.3.0 Alpha 2 please visit the <a href=\"https://downloads.php.net/~cmb/\">download page</a>.\\n      Windows sources and binaries can be found on <a href=\"https://windows.php.net/qa/\">windows.php.net/qa/</a>.\\n     </p>\\n\\n     <p>\\n      Please carefully test this version and report any issues found in the <a href=\" http://bugs.php.net\">bug reporting system</a>.\\n     </p>\\n\\n     <p>\\n      <b>THIS IS A DEVELOPMENT PREVIEW - DO NOT USE IT IN PRODUCTION!</b>\\n     </p>\\n\\n     <p>\\n      For more information on the new features and other changes, you can read the\\n      <a href=\"https://github.com/php/php-src/blob/php-7.3.0alpha2/NEWS\">NEWS</a> file,\\n      or the <a href=\"https://github.com/php/php-src/blob/php-7.3.0alpha2/UPGRADING\">UPGRADING</a>\\n      file for a complete list of upgrading notes. These files can also be found in the release archive.\\n     </p>\\n\\n     <p>\\n      The next release would be Alpha 3, planned for July 5.\\n     </p>\\n\\n     <p>\\n      The signatures for the release can be found in <a href=\"https://gist.github.com/cmb69/2c54d0972b296a905062f52c0852e7cb\">the manifest</a> or on <a href=\"https://qa.php.net/\">the QA site</a>.\\n     </p>\\n\\n     <p>\\n      Thank you for helping us make PHP better.\\n     </p>\\n    </div>\\n  \\n  </div>\\n</article><article class=\"newsentry\">\\n  <header class=\"title\">\\n    <time datetime=\"2018-06-07T18:36:37+00:00\">07 Jun 2018</time>\\n    <h2 class=\"newstitle\">\\n      <a href=\"https://www.php.net/archive/2018.php#id2018-06-07-1\" id=\"id2018-06-07-1\">PHP 7.3.0 alpha 1 Released</a>\\n    </h2>\\n  </header>\\n  <div class=\"newscontent\">\\n    <div>\\n     <p>\\n     PHP team is glad to announce the release of the first PHP 7.3.0 version, PHP 7.3.0 Alpha 1.\\n\\t This starts the PHP 7.3 release cycle, the rough outline of which is specified in the\\n\\t <a href=\"https://wiki.php.net/todo/php73\">PHP Wiki</a>.\\n     </p>\\n\\n     <p>For source downloads of PHP 7.3.0 Alpha 1 please visit the <a href=\"https://downloads.php.net/~stas/\">download page</a>.</p>\\n\\n     <p>\\n     Please carefully test this version and report any issues found in the <a href=\" http://bugs.php.net\">bug reporting system</a>.\\n     </p>\\n\\n     <p>\\n     <b>Please DO NOT use this version in production, it is an early test version.</b>\\n     </p>\\n\\n     <p>\\n\\t     For more information on the new features and other changes, you can read the\\n\\t     <a href=\"https://github.com/php/php-src/blob/php-7.3.0alpha1/NEWS\">NEWS</a> file,\\n\\t     or the <a href=\"https://github.com/php/php-src/blob/php-7.3.0alpha1/UPGRADING\">UPGRADING</a>\\n\\t     file for a complete list of upgrading notes. These files can also be found in the release archive.\\n\\t </p>\\n\\n     <p>\\n     The next release would be Alpha 2, planned for June 21.\\n     </p>\\n\\n     <p>The signatures for the release can be found in <a href=\"https://gist.github.com/smalyshev/b0994d4dd138007237911429702ee040\">the manifest</a> or on <a href=\"https://qa.php.net/\">the QA site</a>.\\n     </p>\\n\\n     <p>Thank you for helping us make PHP better.</p>\\n    </div>\\n  \\n  </div>\\n</article><article class=\"newsentry\">\\n  <header class=\"title\">\\n    <time datetime=\"2018-02-01T09:12:34+00:00\">01 Feb 2018</time>\\n    <h2 class=\"newstitle\">\\n      <a href=\"https://www.php.net/archive/2018.php#id2018-02-01-1\" id=\"id2018-02-01-1\">PHP 7.2.2 Released</a>\\n    </h2>\\n  </header>\\n  <div class=\"newscontent\">\\n    <div>\\n      <p>The PHP development team announces the immediate availability of PHP\\n      7.2.2. This is a bugfix release, with several bug fixes included.</p>\\n\\n      <p>All PHP 7.2 users are encouraged to upgrade to this version.</p>\\n\\n      <p>For source downloads of PHP 7.2.2 please visit our <a href=\"http://www.php.net/downloads.php\">downloads page</a>,\\n      Windows source and binaries can be found on <a href=\"http://windows.php.net/download/\">windows.php.net/download/</a>.\\n      The list of changes is recorded in the <a href=\"http://www.php.net/ChangeLog-7.php#7.2.2\">ChangeLog</a>.\\n      </p>\\n    </div>\\n  \\n  </div>\\n</article><article class=\"newsentry\">\\n  <header class=\"title\">\\n    <time datetime=\"2017-10-12T11:46:49+02:00\">12 Oct 2017</time>\\n    <h2 class=\"newstitle\">\\n      <a href=\"https://www.php.net/archive/2017.php#id2017-10-12-1\" id=\"id2017-10-12-1\">PHP 7.2.0 Release Candidate 4 Released</a>\\n    </h2>\\n  </header>\\n  <div class=\"newscontent\">\\n    <div>\\n     <p>\\n     The PHP development team announces the immediate availability of PHP 7.2.0 RC4.\\n     This release is the fourth Release Candidate for 7.2.0.\\n     All users of PHP are encouraged to test this version carefully, and report any bugs\\n     and incompatibilities in the <a href=\"https://bugs.php.net/\">bug tracking system</a>.\\n     </p>\\n\\n     <p><strong>THIS IS A DEVELOPMENT PREVIEW - DO NOT USE IT IN PRODUCTION!</strong></p>\\n\\n     <p>\\n     For more information on the new features and other changes, you can read the\\n     <a href=\"https://github.com/php/php-src/blob/php-7.2.0RC4/NEWS\">NEWS</a> file,\\n     or the <a href=\"https://github.com/php/php-src/blob/php-7.2.0RC4/UPGRADING\">UPGRADING</a>\\n     file for a complete list of upgrading notes. These files can also be found in the release archive.\\n     </p>\\n\\n     <p>\\n     For source downloads of PHP 7.2.0 Release Candidate 4 please visit the\\n     <a href=\"https://downloads.php.net/~remi/\">download</a> page,\\n     Windows sources and binaries can be found at\\n     <a href=\"http://windows.php.net/qa/\">windows.php.net/qa/</a>.\\n     </p>\\n\\n     <p>\\n     The next Release Candidate will be announced on the 26th of October.\\n     You can also read the full list of planned releases on\\n     <a href=\"https://wiki.php.net/todo/php72\">our wiki</a>.\\n     </p>\\n\\n     <p>Thank you for helping us make PHP better.</p>\\n    </div>\\n  \\n  </div>\\n</article><article class=\"newsentry\">\\n  <header class=\"title\">\\n    <time datetime=\"2017-09-28T12:58:56+02:00\">28 Sep 2017</time>\\n    <h2 class=\"newstitle\">\\n      <a href=\"https://www.php.net/archive/2017.php#id2017-09-28-2\" id=\"id2017-09-28-2\">PHP 7.2.0 Release Candidate 3 Released</a>\\n    </h2>\\n  </header>\\n  <div class=\"newscontent\">\\n    <div>\\n     <p>\\n     The PHP development team announces the immediate availability of PHP 7.2.0 RC3.\\n     This release is the third Release Candidate for 7.2.0.\\n     All users of PHP are encouraged to test this version carefully, and report any bugs\\n     and incompatibilities in the <a href=\"https://bugs.php.net/\">bug tracking system</a>.\\n     </p>\\n\\n     <p><strong>THIS IS A DEVELOPMENT PREVIEW - DO NOT USE IT IN PRODUCTION!</strong></p>\\n\\n     <p>\\n     For more information on the new features and other changes, you can read the\\n     <a href=\"https://github.com/php/php-src/blob/php-7.2.0RC3/NEWS\">NEWS</a> file,\\n     or the <a href=\"https://github.com/php/php-src/blob/php-7.2.0RC3/UPGRADING\">UPGRADING</a>\\n     file for a complete list of upgrading notes. These files can also be found in the release archive.\\n     </p>\\n\\n     <p>\\n     For source downloads of PHP 7.2.0 Release Candidate 3 please visit the\\n     <a href=\"https://downloads.php.net/~remi/\">download</a> page,\\n     Windows sources and binaries can be found at\\n     <a href=\"http://windows.php.net/qa/\">windows.php.net/qa/</a>.\\n     </p>\\n\\n     <p>\\n     The next Release Candidate will be announced on the 12th of October.\\n     You can also read the full list of planned releases on\\n     <a href=\"https://wiki.php.net/todo/php72\">our wiki</a>.\\n     </p>\\n\\n     <p>Thank you for helping us make PHP better.</p>\\n    </div>\\n  \\n  </div>\\n</article><article class=\"newsentry\">\\n  <header class=\"title\">\\n    <time datetime=\"2017-08-31T10:53:58+02:00\">31 Aug 2017</time>\\n    <h2 class=\"newstitle\">\\n      <a href=\"https://www.php.net/archive/2017.php#id2017-08-31-1\" id=\"id2017-08-31-1\">PHP 7.2.0 Release Candidate 1 Released</a>\\n    </h2>\\n  </header>\\n  <div class=\"newscontent\">\\n    <div>\\n      <p>\\n      The PHP development team announces the immediate availability of PHP 7.2.0 Release\\n      Candidate 1. This release is the first Release Candidate for 7.2.0.\\n      All users of PHP are encouraged to test this version carefully, and report any bugs\\n      and incompatibilities in the <a href=\"https://bugs.php.net/\">bug tracking system</a>.\\n      </p>\\n\\n      <p><strong>THIS IS A DEVELOPMENT PREVIEW - DO NOT USE IT IN PRODUCTION!</strong></p>\\n\\n      <p>\\n      For more information on the new features and other changes, you can read the\\n      <a href=\"https://github.com/php/php-src/blob/php-7.2.0RC1/NEWS\">NEWS</a> file,\\n      or the <a href=\"https://github.com/php/php-src/blob/php-7.2.0RC1/UPGRADING\">UPGRADING</a>\\n      file for a complete list of upgrading notes. These files can also be found in the release archive.\\n      </p>\\n\\n      <p>\\n      For source downloads of PHP 7.2.0 Release Candidate 1 please visit the\\n      <a href=\"https://downloads.php.net/~remi/\">download</a> page,\\n      Windows sources and binaries can be found at\\n      <a href=\"http://windows.php.net/qa/\">windows.php.net/qa/</a>.\\n      </p>\\n\\n      <p>\\n      The second Release Candidate will be released on the 14th of September.\\n      You can also read the full list of planned releases on\\n      <a href=\"https://wiki.php.net/todo/php72\">our wiki</a>.\\n      </p>\\n\\n      <p>Thank you for helping us make PHP better.</p>\\n    </div>\\n  \\n  </div>\\n</article><article class=\"newsentry\">\\n  <header class=\"title\">\\n    <time datetime=\"2017-08-17T10:17:44+02:00\">17 Aug 2017</time>\\n    <h2 class=\"newstitle\">\\n      <a href=\"https://www.php.net/archive/2017.php#id2017-08-17-1\" id=\"id2017-08-17-1\">PHP 7.2.0 Beta 3 Released</a>\\n    </h2>\\n  </header>\\n  <div class=\"newscontent\">\\n    <div>\\n      <p>\\n      The PHP development team announces the immediate availability of PHP 7.2.0 Beta 3.\\n      This release is the third and final beta for 7.2.0. All users of PHP are encouraged\\n      to test this version carefully, and report any bugs and incompatibilities in the\\n      <a href=\"https://bugs.php.net/\">bug tracking system</a>.\\n      </p>\\n\\n      <p><strong>THIS IS A DEVELOPMENT PREVIEW - DO NOT USE IT IN PRODUCTION!</strong></p>\\n\\n      <p>\\n      For more information on the new features and other changes, you can read the\\n      <a href=\"https://github.com/php/php-src/blob/php-7.2.0beta3/NEWS\">NEWS</a> file,\\n      or the <a href=\"https://github.com/php/php-src/blob/php-7.2.0beta3/UPGRADING\">UPGRADING</a>\\n      file for a complete list of upgrading notes. These files can also be found in the release archive.\\n      </p>\\n\\n      <p>\\n      For source downloads of PHP 7.2.0 Beta 3 please visit the\\n      <a href=\"https://downloads.php.net/~remi/\">download</a> page,\\n      Windows sources and binaries can be found at\\n      <a href=\"http://windows.php.net/qa/\">windows.php.net/qa/</a>.\\n      </p>\\n\\n      <p>\\n      The first Release Candidate will be released on the 31th of August.\\n      You can also read the full list of planned releases on\\n      <a href=\"https://wiki.php.net/todo/php72\">our wiki</a>.\\n      </p>\\n\\n      <p>Thank you for helping us make PHP better.</p>\\n    </div>\\n  \\n  </div>\\n</article><article class=\"newsentry\">\\n  <header class=\"title\">\\n    <time datetime=\"2017-07-06T12:25:08+02:00\">06 Jul 2017</time>\\n    <h2 class=\"newstitle\">\\n      <a href=\"https://www.php.net/archive/2017.php#id2017-07-06-2\" id=\"id2017-07-06-2\">PHP 7.2.0 Alpha 3 Released</a>\\n    </h2>\\n  </header>\\n  <div class=\"newscontent\">\\n    <div>\\n     <p>The PHP development team announces the immediate availability of PHP 7.2.0 Alpha 3.\\n     This release contains fixes and improvements relative to Alpha 2.\\n     All users of PHP are encouraged to test this version carefully,\\n     and report any bugs and incompatibilities in the\\n     <a href=\"https://bugs.php.net/\">bug tracking system</a>.</p>\\n\\n     <p><strong>THIS IS A DEVELOPMENT PREVIEW - DO NOT USE IT IN PRODUCTION!</strong></p>\\n\\n     <p>For information on new features and other changes, you can read the\\n     <a href=\"https://github.com/php/php-src/blob/php-7.2.0alpha3/NEWS\">NEWS</a> file,\\n     or the <a href=\"https://github.com/php/php-src/blob/php-7.2.0alpha3/UPGRADING\">UPGRADING</a> file\\n     for a complete list of upgrading notes. These files can also be found in the release archive.</p>\\n\\n     <p>For source downloads of PHP 7.2.0 Alpha 3 please visit the <a href=\"https://downloads.php.net/~remi/\">download</a> page,\\n     Windows sources and binaries can be found on <a href=\"http://windows.php.net/qa/\">windows.php.net/qa/</a>.</p>\\n\\n     <p>The first beta will be released on the 20th of July. You can also read the full list of planned releases on our\\n     <a href=\"https://wiki.php.net/todo/php72#timetable\">wiki</a>.</p>\\n\\n     <p>Thank you for helping us make PHP better.</p>\\n    </div>\\n  \\n  </div>\\n</article><p class=\"archive\"><a href=\"/archive/\">Older News Entries</a></p></div>    </section><!-- layout-content -->\\n    \\n<aside class=\"tips\">\\n    <div class=\"inner\">\\n<div class=\"panel\">  <a href=\"/conferences\" class=\"headline\" title=\"Conferences calling for papers\">Conferences calling for papers</a><div class=\"body\"><ul><li><a href=\\'http://php.net/conferences/index.php#id2019-05-10-1\\' title=\\'php[world] 2019\\'>php[world] 2019</a></li></ul></div></div><div class=\"panel\">  <a href=\"/conferences\" class=\"headline\" title=\"Upcoming conferences\">Upcoming conferences</a><div class=\"body\"><ul><li><a href=\\'http://php.net/conferences/index.php#id2019-04-16-1\\' title=\\'CoderCruise 2019\\'>CoderCruise 2019</a></li><li><a href=\\'http://php.net/conferences/index.php#id2019-04-04-4\\' title=\\'PHPConf.Asia 2019\\'>PHPConf.Asia 2019</a></li><li><a href=\\'http://php.net/conferences/index.php#id2019-04-02-6\\' title=\\'SymfonyCon Amsterdam 2019\\'>SymfonyCon Amsterdam 2019</a></li><li><a href=\\'http://php.net/conferences/index.php#id2019-04-02-5\\' title=\\'SymfonyLive Berlin 2019\\'>SymfonyLive Berlin 2019</a></li></ul></div></div>\\n    <p class=\\'panel\\'><a href=\\'/cal.php\\'>User Group Events</a></p>\\n    <p class=\\'panel\\'><a href=\\'/thanks.php\\'>Special Thanks</a></p>\\n    <p class=\\'panel social-media\\'>\\n      <span class=\\'headline\\'>Social media</span>\\n      <div class=\\'body\\'>\\n        <ul>\\n          <li>\\n            <a href=\"https://twitter.com/official_php\">\\n              <i class=\"icon-twitter\"></i>\\n              @official_php\\n            </a>\\n          </li>\\n        </ul>\\n      </div>\\n    </p>\\n</div>\\n</aside>\\n\\n  </div><!-- layout -->\\n\\n  <footer>\\n    <div class=\"container footer-content\">\\n      <div class=\"row-fluid\">\\n      <ul class=\"footmenu\">\\n        <li><a href=\"/copyright.php\">Copyright &copy; 2001-2019 The PHP Group</a></li>\\n        <li><a href=\"/my.php\">My PHP.net</a></li>\\n        <li><a href=\"/contact.php\">Contact</a></li>\\n        <li><a href=\"/sites.php\">Other PHP.net sites</a></li>\\n        <li><a href=\"/privacy.php\">Privacy policy</a></li>\\n      </ul>\\n      </div>\\n    </div>\\n  </footer>\\n\\n    <div class=\\'elephpants\\'><div class=images></div></div>\\n <!-- External and third party libraries. -->\\n <script src=\"//ajax.googleapis.com/ajax/libs/jquery/1.10.2/jquery.min.js\"></script>\\n<script src=\"/cached.php?t=1421837618&amp;f=/js/ext/modernizr.js\"></script>\\n<script src=\"/cached.php?t=1421837618&amp;f=/js/ext/hogan-2.0.0.min.js\"></script>\\n<script src=\"/cached.php?t=1421837618&amp;f=/js/ext/typeahead.min.js\"></script>\\n<script src=\"/cached.php?t=1421837618&amp;f=/js/ext/mousetrap.min.js\"></script>\\n<script src=\"/cached.php?t=1421837618&amp;f=/js/search.js\"></script>\\n<script src=\"/cached.php?t=1539765004&amp;f=/js/common.js\"></script>\\n\\n<a id=\"toTop\" href=\"javascript:;\"><span id=\"toTopHover\"></span><img width=\"40\" height=\"40\" alt=\"To Top\" src=\"/images/to-top@2x.png\"></a>\\n\\n</body>\\n</html>\\n'\n"
          ],
          "name": "stdout"
        }
      ]
    },
    {
      "cell_type": "markdown",
      "metadata": {
        "id": "fm-PpFmTOTeU",
        "colab_type": "text"
      },
      "source": [
        "`As you can see from the printed output, the result contains a lot of HTML tags that need to be cleaned. We can use BeautifulSoup to clean the grabbed text.`"
      ]
    },
    {
      "cell_type": "code",
      "metadata": {
        "id": "ogDoi_6AMo9_",
        "colab_type": "code",
        "outputId": "c255394a-38f8-4895-e843-672505f8b7ba",
        "colab": {
          "base_uri": "https://localhost:8080/",
          "height": 54
        }
      },
      "source": [
        "from bs4 import BeautifulSoup\n",
        "soup = BeautifulSoup(html,\"html5lib\")\n",
        "text = soup.get_text(strip=True)\n",
        "text"
      ],
      "execution_count": 0,
      "outputs": [
        {
          "output_type": "execute_result",
          "data": {
            "text/plain": [
              "\"PHP: Hypertext PreprocessorDownloadsDocumentationGet InvolvedHelpGetting StartedIntroductionA simple tutorialLanguage ReferenceBasic syntaxTypesVariablesConstantsExpressionsOperatorsControl StructuresFunctionsClasses and ObjectsNamespacesErrorsExceptionsGeneratorsReferences ExplainedPredefined VariablesPredefined ExceptionsPredefined Interfaces and ClassesContext options and parametersSupported Protocols and WrappersSecurityIntroductionGeneral considerationsInstalled as CGI binaryInstalled as an Apache moduleSession SecurityFilesystem SecurityDatabase SecurityError ReportingUsing Register GlobalsUser Submitted DataMagic QuotesHiding PHPKeeping CurrentFeaturesHTTP authentication with PHPCookiesSessionsDealing with XFormsHandling file uploadsUsing remote filesConnection handlingPersistent Database ConnectionsSafe ModeCommand line usageGarbage CollectionDTrace Dynamic TracingFunction ReferenceAffecting PHP's BehaviourAudio Formats ManipulationAuthentication ServicesCommand Line Specific ExtensionsCompression and Archive ExtensionsCredit Card ProcessingCryptography ExtensionsDatabase ExtensionsDate and Time Related ExtensionsFile System Related ExtensionsHuman Language and Character Encoding SupportImage Processing and GenerationMail Related ExtensionsMathematical ExtensionsNon-Text MIME OutputProcess Control ExtensionsOther Basic ExtensionsOther ServicesSearch Engine ExtensionsServer Specific ExtensionsSession ExtensionsText ProcessingVariable and Type Related ExtensionsWeb ServicesWindows Only ExtensionsXML ManipulationGUI ExtensionsKeyboard Shortcuts?This helpjNext menu itemkPrevious menu itemg pPrevious man pageg nNext man pageGScroll to bottomg gScroll to topg hGoto homepageg sGoto search(current page)/Focus search boxPHP is a popular general-purpose scripting language that is especially suited to web development.Fast, flexible and pragmatic, PHP powers everything from your blog to the most popular websites in the world.Download7.1.29·Release Notes·Upgrading7.2.18·Release Notes·Upgrading7.3.5·Release Notes·Upgrading03 May 2019PHP 7.1.29 ReleasedThe PHP development team announces the immediate availability of PHP\\n       7.1.29. This is a security release.All PHP 7.1 users are encouraged to upgrade to this version.For source downloads of PHP 7.1.29 please visit ourdownloads page,\\n       Windows source and binaries can be found onwindows.php.net/download/.\\n       The list of changes is recorded in theChangeLog.02 May 2019PHP 7.2.18 ReleasedThe PHP development team announces the immediate availability of PHP\\n     7.2.18. This is a security release which also contains several minor bug fixes.All PHP 7.2 users are encouraged to upgrade to this version.For source downloads of PHP 7.2.18 please visit ourdownloads page,\\n     Windows source and binaries can be found onwindows.php.net/download/.\\n     The list of changes is recorded in theChangeLog.02 May 2019PHP 7.3.5 Release AnnouncementThe PHP development team announces the immediate availability of PHP\\n      7.3.5. This is a security release which also contains several bug fixes.All PHP 7.3 users are encouraged to upgrade to this version.For source downloads of PHP 7.3.5 please visit ourdownloads page,\\n      Windows source and binaries can be found onwindows.php.net/download/.\\n      The list of changes is recorded in theChangeLog.04 Apr 2019PHP 7.1.28 ReleasedThe PHP development team announces the immediate availability of PHP\\n       7.1.28. This is a security release.All PHP 7.1 users are encouraged to upgrade to this version.For source downloads of PHP 7.1.28 please visit ourdownloads page,\\n       Windows source and binaries can be found onwindows.php.net/download/.\\n       The list of changes is recorded in theChangeLog.04 Apr 2019PHP 7.2.17 Release AnnouncementThe PHP development team announces the immediate availability of PHP 7.2.17.\\n     This is a security release which also contains several minor bug fixes.All PHP 7.2 users are encouraged to upgrade to this version.For source downloads of PHP 7.2.17 please visit ourdownloads page,\\n     Windows source and binaries can be found onwindows.php.net/download/.\\n     The list of changes is recorded in theChangeLog.04 Apr 2019PHP 7.3.4 Release AnnouncementThe PHP development team announces the immediate availability of PHP\\n       7.3.4. This is a security release which also contains several bug fixes.All PHP 7.3 users are encouraged to upgrade to this version.For source downloads of PHP 7.3.4 please visit ourdownloads page,\\n       Windows source and binaries can be found onwindows.php.net/download/.\\n       The list of changes is recorded in theChangeLog.22 Nov 2018PHP 7.3.0RC6 ReleasedThe PHP team is glad to announce the presumably last PHP 7.3.0 pre-release, PHP 7.3.0RC6.\\n        The rough outline of the PHP 7.3 release cycle is specified in thePHP Wiki.For source downloads of PHP 7.3.0RC6 please visit thedownload page.\\n        Windows sources and binaries can be found onwindows.php.net/qa/.Please carefully test this version and report any issues found in thebug reporting system.THIS IS A DEVELOPMENT PREVIEW - DO NOT USE IT IN PRODUCTION!For more information on the new features and other changes, you can read theNEWSfile,\\n        or theUPGRADINGfile for a complete list of upgrading notes. Internal changes are listed in theUPGRADING.INTERNALSfile.\\n        These files can also be found in the release archive.The next release would be 7.3.0 (GA), planned for December 6th.The signatures for the release can be found inthe manifestor onthe QA site.Thank you for helping us make PHP better.08 Nov 2018PHP 7.3.0RC5 ReleasedThe PHP team is glad to announce the next PHP 7.3.0 pre-release, PHP 7.3.0RC5.\\n        The rough outline of the PHP 7.3 release cycle is specified in thePHP Wiki.For source downloads of PHP 7.3.0RC5 please visit thedownload page.\\n        Windows sources and binaries can be found onwindows.php.net/qa/.Please carefully test this version and report any issues found in thebug reporting system.THIS IS A DEVELOPMENT PREVIEW - DO NOT USE IT IN PRODUCTION!For more information on the new features and other changes, you can read theNEWSfile,\\n        or theUPGRADINGfile for a complete list of upgrading notes. Internal changes are listed in theUPGRADING.INTERNALSfile.\\n        These files can also be found in the release archive.The next release would be RC6, planned for November 22nd.The signatures for the release can be found inthe manifestor onthe QA site.Thank you for helping us make PHP better.25 Oct 2018PHP 7.3.0RC4 ReleasedThe PHP team is glad to announce the next PHP 7.3.0 pre-release, PHP 7.3.0RC4.\\n        The rough outline of the PHP 7.3 release cycle is specified in thePHP Wiki.For source downloads of PHP 7.3.0RC4 please visit thedownload page.\\n        Windows sources and binaries can be found onwindows.php.net/qa/.Please carefully test this version and report any issues found in thebug reporting system.THIS IS A DEVELOPMENT PREVIEW - DO NOT USE IT IN PRODUCTION!For more information on the new features and other changes, you can read theNEWSfile,\\n        or theUPGRADINGfile for a complete list of upgrading notes. Internal changes are listed in theUPGRADING.INTERNALSfile.\\n        These files can also be found in the release archive.The next release would be RC5, planned for November 8th.The signatures for the release can be found inthe manifestor onthe QA site.Thank you for helping us make PHP better.11 Oct 2018PHP 7.3.0RC3 ReleasedThe PHP team is glad to announce the next PHP 7.3.0 pre-release, PHP 7.3.0RC3.\\n        The rough outline of the PHP 7.3 release cycle is specified in thePHP Wiki.For source downloads of PHP 7.3.0RC3 please visit thedownload page.\\n        Windows sources and binaries can be found onwindows.php.net/qa/.Please carefully test this version and report any issues found in thebug reporting system.THIS IS A DEVELOPMENT PREVIEW - DO NOT USE IT IN PRODUCTION!For more information on the new features and other changes, you can read theNEWSfile,\\n        or theUPGRADINGfile for a complete list of upgrading notes. Internal changes are listed in theUPGRADING.INTERNALSfile.\\n        These files can also be found in the release archive.The next release would be RC4, planned for October 25th.The signatures for the release can be found inthe manifestor onthe QA site.Thank you for helping us make PHP better.28 Sep 2018PHP 7.3.0RC2 ReleasedThe PHP team is glad to announce the next PHP 7.3.0 pre-release, PHP 7.3.0RC2.\\n        The rough outline of the PHP 7.3 release cycle is specified in thePHP Wiki.For source downloads of PHP 7.3.0RC2 please visit thedownload page.\\n        Windows sources and binaries can be found onwindows.php.net/qa/.Please carefully test this version and report any issues found in thebug reporting system.THIS IS A DEVELOPMENT PREVIEW - DO NOT USE IT IN PRODUCTION!For more information on the new features and other changes, you can read theNEWSfile,\\n        or theUPGRADINGfile for a complete list of upgrading notes. Internal changes are listed in theUPGRADING.INTERNALSfile.\\n        These files can also be found in the release archive.The next release would be RC3, planned for October 11th.The signatures for the release can be found inthe manifestor onthe QA site.Thank you for helping us make PHP better.13 Sep 2018PHP 7.3.0RC1 ReleasedThe PHP team is glad to announce the release of the next PHP 7.3.0 pre-release, PHP 7.3.0RC1.\\n        The rough outline of the PHP 7.3 release cycle is specified in thePHP Wiki.For source downloads of PHP 7.3.0RC1 please visit thedownload page.\\n        Windows sources and binaries can be found onwindows.php.net/qa/.Please carefully test this version and report any issues found in thebug reporting system.THIS IS A DEVELOPMENT PREVIEW - DO NOT USE IT IN PRODUCTION!For more information on the new features and other changes, you can read theNEWSfile,\\n        or theUPGRADINGfile for a complete list of upgrading notes. Internal changes are listed in theUPGRADING.INTERNALSfile.\\n        These files can also be found in the release archive.The next release would be RC2, planned for September 27th.The signatures for the release can be found inthe manifestor onthe QA site.Thank you for helping us make PHP better.30 Aug 2018PHP 7.3.0.beta3 ReleasedThe PHP team is glad to announce the release of the seventh PHP 7.3.0 version, PHP 7.3.0beta3.\\n        The rough outline of the PHP 7.3 release cycle is specified in thePHP Wiki.For source downloads of PHP 7.3.0beta3 please visit thedownload page.\\n        Windows sources and binaries can be found onwindows.php.net/qa/.Please carefully test this version and report any issues found in thebug reporting system.THIS IS A DEVELOPMENT PREVIEW - DO NOT USE IT IN PRODUCTION!For more information on the new features and other changes, you can read theNEWSfile,\\n        or theUPGRADINGfile for a complete list of upgrading notes. Internal changes are listed in theUPGRADING.INTERNALSfile.\\n        These files can also be found in the release archive.The next release would be RC1, planned for September 13th.The signatures for the release can be found inthe manifestor onthe QA site.Thank you for helping us make PHP better.16 Aug 2018PHP 7.3.0.beta2 ReleasedThe PHP team is glad to announce the release of the sixth PHP 7.3.0 version, PHP 7.3.0beta2.\\n        The rough outline of the PHP 7.3 release cycle is specified in thePHP Wiki.For source downloads of PHP 7.3.0beta2 please visit thedownload page.\\n        Windows sources and binaries can be found onwindows.php.net/qa/.Please carefully test this version and report any issues found in thebug reporting system.THIS IS A DEVELOPMENT PREVIEW - DO NOT USE IT IN PRODUCTION!For more information on the new features and other changes, you can read theNEWSfile,\\n        or theUPGRADINGfile for a complete list of upgrading notes. Internal changes are listed in theUPGRADING.INTERNALSfile.\\n        These files can also be found in the release archive.The next release would be Beta 3, planned for August 30th.The signatures for the release can be found inthe manifestor onthe QA site.Thank you for helping us make PHP better.02 Aug 2018PHP 7.3.0.beta1 ReleasedThe PHP team is glad to announce the release of the fifth PHP 7.3.0 version, PHP 7.3.0beta1.\\n        The rough outline of the PHP 7.3 release cycle is specified in thePHP Wiki.For source downloads of PHP 7.3.0beta1 please visit thedownload page.\\n        Windows sources and binaries can be found onwindows.php.net/qa/.Please carefully test this version and report any issues found in thebug reporting system.THIS IS A DEVELOPMENT PREVIEW - DO NOT USE IT IN PRODUCTION!For more information on the new features and other changes, you can read theNEWSfile,\\n        or theUPGRADINGfile for a complete list of upgrading notes. These files can also be found in the release archive.The next release would be Beta 2, planned for August 16th.The signatures for the release can be found inthe manifestor onthe QA site.Thank you for helping us make PHP better.19 Jul 2018PHP 7.3.0alpha4 ReleasedThe PHP team is glad to announce the release of the fourth PHP 7.3.0 version, PHP 7.3.0alpha4.\\n        The rough outline of the PHP 7.3 release cycle is specified in thePHP Wiki.For source downloads of PHP 7.3.0alpha4 please visit thedownload page.\\n        Windows sources and binaries can be found onwindows.php.net/qa/.Please carefully test this version and report any issues found in thebug reporting system.THIS IS A DEVELOPMENT PREVIEW - DO NOT USE IT IN PRODUCTION!For more information on the new features and other changes, you can read theNEWSfile,\\n        or theUPGRADINGfile for a complete list of upgrading notes. These files can also be found in the release archive.The next release would be Beta 1, planned for August 2nd.The signatures for the release can be found inthe manifestor onthe QA site.Thank you for helping us make PHP better.05 Jul 2018PHP 7.3.0 alpha 3 ReleasedThe PHP team is glad to announce the release of the third PHP 7.3.0 version, PHP 7.3.0 Alpha 3.\\n      The rough outline of the PHP 7.3 release cycle is specified in thePHP Wiki.For source downloads of PHP 7.3.0 Alpha 3 please visit thedownload page.\\n      Windows sources and binaries can be found onwindows.php.net/qa/.Please carefully test this version and report any issues found in thebug reporting system.THIS IS A DEVELOPMENT PREVIEW - DO NOT USE IT IN PRODUCTION!For more information on the new features and other changes, you can read theNEWSfile,\\n      or theUPGRADINGfile for a complete list of upgrading notes. These files can also be found in the release archive.The next release would be Beta 1, planned for July 19th.The signatures for the release can be found inthe manifestor onthe QA site.Thank you for helping us make PHP better.21 Jun 2018PHP 7.3.0 alpha 2 ReleasedThe PHP team is glad to announce the release of the second PHP 7.3.0 version, PHP 7.3.0 Alpha 2.\\n      The rough outline of the PHP 7.3 release cycle is specified in thePHP Wiki.For source downloads of PHP 7.3.0 Alpha 2 please visit thedownload page.\\n      Windows sources and binaries can be found onwindows.php.net/qa/.Please carefully test this version and report any issues found in thebug reporting system.THIS IS A DEVELOPMENT PREVIEW - DO NOT USE IT IN PRODUCTION!For more information on the new features and other changes, you can read theNEWSfile,\\n      or theUPGRADINGfile for a complete list of upgrading notes. These files can also be found in the release archive.The next release would be Alpha 3, planned for July 5.The signatures for the release can be found inthe manifestor onthe QA site.Thank you for helping us make PHP better.07 Jun 2018PHP 7.3.0 alpha 1 ReleasedPHP team is glad to announce the release of the first PHP 7.3.0 version, PHP 7.3.0 Alpha 1.\\n\\t This starts the PHP 7.3 release cycle, the rough outline of which is specified in thePHP Wiki.For source downloads of PHP 7.3.0 Alpha 1 please visit thedownload page.Please carefully test this version and report any issues found in thebug reporting system.Please DO NOT use this version in production, it is an early test version.For more information on the new features and other changes, you can read theNEWSfile,\\n\\t     or theUPGRADINGfile for a complete list of upgrading notes. These files can also be found in the release archive.The next release would be Alpha 2, planned for June 21.The signatures for the release can be found inthe manifestor onthe QA site.Thank you for helping us make PHP better.01 Feb 2018PHP 7.2.2 ReleasedThe PHP development team announces the immediate availability of PHP\\n      7.2.2. This is a bugfix release, with several bug fixes included.All PHP 7.2 users are encouraged to upgrade to this version.For source downloads of PHP 7.2.2 please visit ourdownloads page,\\n      Windows source and binaries can be found onwindows.php.net/download/.\\n      The list of changes is recorded in theChangeLog.12 Oct 2017PHP 7.2.0 Release Candidate 4 ReleasedThe PHP development team announces the immediate availability of PHP 7.2.0 RC4.\\n     This release is the fourth Release Candidate for 7.2.0.\\n     All users of PHP are encouraged to test this version carefully, and report any bugs\\n     and incompatibilities in thebug tracking system.THIS IS A DEVELOPMENT PREVIEW - DO NOT USE IT IN PRODUCTION!For more information on the new features and other changes, you can read theNEWSfile,\\n     or theUPGRADINGfile for a complete list of upgrading notes. These files can also be found in the release archive.For source downloads of PHP 7.2.0 Release Candidate 4 please visit thedownloadpage,\\n     Windows sources and binaries can be found atwindows.php.net/qa/.The next Release Candidate will be announced on the 26th of October.\\n     You can also read the full list of planned releases onour wiki.Thank you for helping us make PHP better.28 Sep 2017PHP 7.2.0 Release Candidate 3 ReleasedThe PHP development team announces the immediate availability of PHP 7.2.0 RC3.\\n     This release is the third Release Candidate for 7.2.0.\\n     All users of PHP are encouraged to test this version carefully, and report any bugs\\n     and incompatibilities in thebug tracking system.THIS IS A DEVELOPMENT PREVIEW - DO NOT USE IT IN PRODUCTION!For more information on the new features and other changes, you can read theNEWSfile,\\n     or theUPGRADINGfile for a complete list of upgrading notes. These files can also be found in the release archive.For source downloads of PHP 7.2.0 Release Candidate 3 please visit thedownloadpage,\\n     Windows sources and binaries can be found atwindows.php.net/qa/.The next Release Candidate will be announced on the 12th of October.\\n     You can also read the full list of planned releases onour wiki.Thank you for helping us make PHP better.31 Aug 2017PHP 7.2.0 Release Candidate 1 ReleasedThe PHP development team announces the immediate availability of PHP 7.2.0 Release\\n      Candidate 1. This release is the first Release Candidate for 7.2.0.\\n      All users of PHP are encouraged to test this version carefully, and report any bugs\\n      and incompatibilities in thebug tracking system.THIS IS A DEVELOPMENT PREVIEW - DO NOT USE IT IN PRODUCTION!For more information on the new features and other changes, you can read theNEWSfile,\\n      or theUPGRADINGfile for a complete list of upgrading notes. These files can also be found in the release archive.For source downloads of PHP 7.2.0 Release Candidate 1 please visit thedownloadpage,\\n      Windows sources and binaries can be found atwindows.php.net/qa/.The second Release Candidate will be released on the 14th of September.\\n      You can also read the full list of planned releases onour wiki.Thank you for helping us make PHP better.17 Aug 2017PHP 7.2.0 Beta 3 ReleasedThe PHP development team announces the immediate availability of PHP 7.2.0 Beta 3.\\n      This release is the third and final beta for 7.2.0. All users of PHP are encouraged\\n      to test this version carefully, and report any bugs and incompatibilities in thebug tracking system.THIS IS A DEVELOPMENT PREVIEW - DO NOT USE IT IN PRODUCTION!For more information on the new features and other changes, you can read theNEWSfile,\\n      or theUPGRADINGfile for a complete list of upgrading notes. These files can also be found in the release archive.For source downloads of PHP 7.2.0 Beta 3 please visit thedownloadpage,\\n      Windows sources and binaries can be found atwindows.php.net/qa/.The first Release Candidate will be released on the 31th of August.\\n      You can also read the full list of planned releases onour wiki.Thank you for helping us make PHP better.06 Jul 2017PHP 7.2.0 Alpha 3 ReleasedThe PHP development team announces the immediate availability of PHP 7.2.0 Alpha 3.\\n     This release contains fixes and improvements relative to Alpha 2.\\n     All users of PHP are encouraged to test this version carefully,\\n     and report any bugs and incompatibilities in thebug tracking system.THIS IS A DEVELOPMENT PREVIEW - DO NOT USE IT IN PRODUCTION!For information on new features and other changes, you can read theNEWSfile,\\n     or theUPGRADINGfile\\n     for a complete list of upgrading notes. These files can also be found in the release archive.For source downloads of PHP 7.2.0 Alpha 3 please visit thedownloadpage,\\n     Windows sources and binaries can be found onwindows.php.net/qa/.The first beta will be released on the 20th of July. You can also read the full list of planned releases on ourwiki.Thank you for helping us make PHP better.Older News EntriesConferences calling for papersphp[world] 2019Upcoming conferencesCoderCruise 2019PHPConf.Asia 2019SymfonyCon Amsterdam 2019SymfonyLive Berlin 2019User Group EventsSpecial ThanksSocial media@official_phpCopyright © 2001-2019 The PHP GroupMy PHP.netContactOther PHP.net sitesPrivacy policy\""
            ]
          },
          "metadata": {
            "tags": []
          },
          "execution_count": 34
        }
      ]
    },
    {
      "cell_type": "markdown",
      "metadata": {
        "id": "HHEb5NUoO-V5",
        "colab_type": "text"
      },
      "source": [
        "`Now, we have clean text from the crawled web page.    `   \n",
        "`Finally, let's convert that text into tokens by splitting the text like this:`"
      ]
    },
    {
      "cell_type": "code",
      "metadata": {
        "id": "BRe6K-YMMpB1",
        "colab_type": "code",
        "outputId": "d6a82a6e-d540-4eb9-993c-9dd3c630007a",
        "colab": {
          "base_uri": "https://localhost:8080/",
          "height": 204
        }
      },
      "source": [
        "tokens = [t for t in text.split()] \n",
        "print(len(tokens))\n",
        "tokens[:10]"
      ],
      "execution_count": 0,
      "outputs": [
        {
          "output_type": "stream",
          "text": [
            "3121\n"
          ],
          "name": "stdout"
        },
        {
          "output_type": "execute_result",
          "data": {
            "text/plain": [
              "['PHP:',\n",
              " 'Hypertext',\n",
              " 'PreprocessorDownloadsDocumentationGet',\n",
              " 'InvolvedHelpGetting',\n",
              " 'StartedIntroductionA',\n",
              " 'simple',\n",
              " 'tutorialLanguage',\n",
              " 'ReferenceBasic',\n",
              " 'syntaxTypesVariablesConstantsExpressionsOperatorsControl',\n",
              " 'StructuresFunctionsClasses']"
            ]
          },
          "metadata": {
            "tags": []
          },
          "execution_count": 37
        }
      ]
    },
    {
      "cell_type": "markdown",
      "metadata": {
        "id": "8dAEsN6tPsV1",
        "colab_type": "text"
      },
      "source": [
        "#Count Word Frequency  \n",
        "`The text is much better now. Let's calculate the frequency distribution of those tokens using Python NLTK. There is a function in NLTK called FreqDist() that does the job.`"
      ]
    },
    {
      "cell_type": "code",
      "metadata": {
        "id": "uNEaYf27MpIG",
        "colab_type": "code",
        "outputId": "65315a1f-3517-4ed0-e2b4-8c5e9b4b4907",
        "colab": {
          "base_uri": "https://localhost:8080/",
          "height": 119
        }
      },
      "source": [
        "freq = nltk.FreqDist(tokens) \n",
        "print(len(freq.items()))\n",
        "list(freq.items())[:5]"
      ],
      "execution_count": 0,
      "outputs": [
        {
          "output_type": "stream",
          "text": [
            "455\n"
          ],
          "name": "stdout"
        },
        {
          "output_type": "execute_result",
          "data": {
            "text/plain": [
              "[('PHP:', 1),\n",
              " ('Hypertext', 1),\n",
              " ('PreprocessorDownloadsDocumentationGet', 1),\n",
              " ('InvolvedHelpGetting', 1),\n",
              " ('StartedIntroductionA', 1)]"
            ]
          },
          "metadata": {
            "tags": []
          },
          "execution_count": 43
        }
      ]
    },
    {
      "cell_type": "code",
      "metadata": {
        "id": "niuZ6QL5RHUD",
        "colab_type": "code",
        "colab": {}
      },
      "source": [
        "# for key,val in freq.items():\n",
        "#     print (str(key) + ':' + str(val))"
      ],
      "execution_count": 0,
      "outputs": []
    },
    {
      "cell_type": "code",
      "metadata": {
        "id": "xoZfqqkGPygC",
        "colab_type": "code",
        "outputId": "e8a8b951-1f35-4684-bac1-a1c30fee2990",
        "colab": {
          "base_uri": "https://localhost:8080/",
          "height": 326
        }
      },
      "source": [
        "freq.plot(20, cumulative=False)"
      ],
      "execution_count": 0,
      "outputs": [
        {
          "output_type": "display_data",
          "data": {
            "image/png": "[encoded data removed]",
            "text/plain": [
              "<Figure size 432x288 with 1 Axes>"
            ]
          },
          "metadata": {
            "tags": []
          }
        }
      ]
    },
    {
      "cell_type": "markdown",
      "metadata": {
        "id": "X9KHjnmKYYJC",
        "colab_type": "text"
      },
      "source": [
        "` There are some words like \"the,\" \"of,\" \"a,\" \"an,\" and so on. These words are stop words. Generally, stop words should be removed to prevent them from affecting our results.`\n",
        "\n",
        "#Remove Stop Words Using NLTK    \n",
        "`NLTK is shipped with stop words lists for most languages.`"
      ]
    },
    {
      "cell_type": "code",
      "metadata": {
        "id": "ohMKjmoQPyjX",
        "colab_type": "code",
        "outputId": "483dcff3-0c41-49b3-ff20-534fab9e4733",
        "colab": {
          "base_uri": "https://localhost:8080/",
          "height": 68
        }
      },
      "source": [
        "from nltk.corpus import stopwords\n",
        "nltk.download('stopwords')\n",
        "print(len(stopwords.words('english')))"
      ],
      "execution_count": 43,
      "outputs": [
        {
          "output_type": "stream",
          "text": [
            "[nltk_data] Downloading package stopwords to /root/nltk_data...\n",
            "[nltk_data]   Unzipping corpora/stopwords.zip.\n",
            "179\n"
          ],
          "name": "stdout"
        }
      ]
    },
    {
      "cell_type": "markdown",
      "metadata": {
        "id": "lonpk5uuY9rv",
        "colab_type": "text"
      },
      "source": [
        "`Now, let's modify our code and clean the tokens before plotting the graph. First, we will make a copy of the list. Then, we will iterate over the tokens and remove the stop words:`"
      ]
    },
    {
      "cell_type": "code",
      "metadata": {
        "id": "v3iHwAI8Pypl",
        "colab_type": "code",
        "outputId": "c6a92537-000f-4baa-9aa1-1b89db4deefd",
        "colab": {
          "base_uri": "https://localhost:8080/",
          "height": 34
        }
      },
      "source": [
        "clean_tokens = tokens[:]\n",
        "sr = stopwords.words('english')\n",
        "for token in tokens:\n",
        "    if token in stopwords.words('english'):\n",
        "        clean_tokens.remove(token)\n",
        "        \n",
        "print(len(clean_tokens))"
      ],
      "execution_count": 0,
      "outputs": [
        {
          "output_type": "stream",
          "text": [
            "2242\n"
          ],
          "name": "stdout"
        }
      ]
    },
    {
      "cell_type": "code",
      "metadata": {
        "id": "vWDDjiFYPyst",
        "colab_type": "code",
        "outputId": "96b89349-09ef-42e9-fc6e-42c4d53a9d58",
        "colab": {
          "base_uri": "https://localhost:8080/",
          "height": 337
        }
      },
      "source": [
        "clean_freq = nltk.FreqDist(clean_tokens) \n",
        "clean_freq.plot(20,cumulative=False)"
      ],
      "execution_count": 0,
      "outputs": [
        {
          "output_type": "display_data",
          "data": {
            "image/png": "[encoded data removed]",
            "text/plain": [
              "<Figure size 432x288 with 1 Axes>"
            ]
          },
          "metadata": {
            "tags": []
          }
        }
      ]
    },
    {
      "cell_type": "markdown",
      "metadata": {
        "id": "woJgOZJqaEaM",
        "colab_type": "text"
      },
      "source": [
        "`Now, we will see how to tokenize the text using NLTK. Tokenizing text is important since text can't be processed without tokenization. Tokenization process means splitting bigger parts to small parts.`   \n",
        "\n",
        "`You can tokenize paragraphs to sentences and tokenize sentences to words according to your needs. NLTK is shipped with a sentence tokenizer and a word tokenizer.`"
      ]
    },
    {
      "cell_type": "code",
      "metadata": {
        "id": "wp1cFd8zPy3n",
        "colab_type": "code",
        "outputId": "8456c8c0-0b3e-42c9-ce4f-d50d14458bd8",
        "colab": {
          "base_uri": "https://localhost:8080/",
          "height": 68
        }
      },
      "source": [
        "from nltk.tokenize import sent_tokenize \n",
        "nltk.download('punkt')\n",
        "mytext = \"Hello Adam, how are you? I hope everything is going well. Today is a good day, see you dude.\" \n",
        "print(sent_tokenize(mytext))"
      ],
      "execution_count": 44,
      "outputs": [
        {
          "output_type": "stream",
          "text": [
            "[nltk_data] Downloading package punkt to /root/nltk_data...\n",
            "[nltk_data]   Unzipping tokenizers/punkt.zip.\n",
            "['Hello Adam, how are you?', 'I hope everything is going well.', 'Today is a good day, see you dude.']\n"
          ],
          "name": "stdout"
        }
      ]
    },
    {
      "cell_type": "code",
      "metadata": {
        "id": "MHWMs6LgPy98",
        "colab_type": "code",
        "outputId": "953de2df-52af-44ac-865b-63a576920984",
        "colab": {
          "base_uri": "https://localhost:8080/",
          "height": 54
        }
      },
      "source": [
        "from nltk.tokenize import word_tokenize\n",
        "mytext = \"Hello Mr. Adam, how are you? I hope everything is going well. Today is a good day, see you dude.\"\n",
        "print(word_tokenize(mytext))"
      ],
      "execution_count": 0,
      "outputs": [
        {
          "output_type": "stream",
          "text": [
            "['Hello', 'Mr.', 'Adam', ',', 'how', 'are', 'you', '?', 'I', 'hope', 'everything', 'is', 'going', 'well', '.', 'Today', 'is', 'a', 'good', 'day', ',', 'see', 'you', 'dude', '.']\n"
          ],
          "name": "stdout"
        }
      ]
    },
    {
      "cell_type": "code",
      "metadata": {
        "id": "InZkRQPIa96Y",
        "colab_type": "code",
        "colab": {}
      },
      "source": [
        ""
      ],
      "execution_count": 0,
      "outputs": []
    },
    {
      "cell_type": "markdown",
      "metadata": {
        "id": "bfkob34-a-fT",
        "colab_type": "text"
      },
      "source": [
        "##Tokenize Non-English Languages Text"
      ]
    },
    {
      "cell_type": "code",
      "metadata": {
        "id": "R1eGoHa3PzBx",
        "colab_type": "code",
        "outputId": "eb08c9dc-d55b-4a84-ec96-0238bdaacf15",
        "colab": {
          "base_uri": "https://localhost:8080/",
          "height": 34
        }
      },
      "source": [
        "from nltk.tokenize import sent_tokenize\n",
        "mytext = \"Bonjour M. Adam, comment allez-vous? J'espère que tout va bien. Aujourd'hui est un bon jour.\"\n",
        "print(sent_tokenize(mytext,\"french\"))"
      ],
      "execution_count": 0,
      "outputs": [
        {
          "output_type": "stream",
          "text": [
            "['Bonjour M. Adam, comment allez-vous?', \"J'espère que tout va bien.\", \"Aujourd'hui est un bon jour.\"]\n"
          ],
          "name": "stdout"
        }
      ]
    },
    {
      "cell_type": "markdown",
      "metadata": {
        "id": "jHBKTqyYbI3L",
        "colab_type": "text"
      },
      "source": [
        "##WordNet\n",
        "`WordNet is a database built for natural language processing. It includes groups of synonyms and a brief definition.`"
      ]
    },
    {
      "cell_type": "code",
      "metadata": {
        "id": "NnyM3ayzbIUF",
        "colab_type": "code",
        "outputId": "865bd786-d164-4dfe-d667-d1a371aca3f9",
        "colab": {
          "base_uri": "https://localhost:8080/",
          "height": 85
        }
      },
      "source": [
        "from nltk.corpus import wordnet\n",
        "nltk.download('wordnet')\n",
        "syn = wordnet.synsets(\"pain\")\n",
        "print(syn[0].definition())\n",
        "print(syn[0].examples())"
      ],
      "execution_count": 0,
      "outputs": [
        {
          "output_type": "stream",
          "text": [
            "[nltk_data] Downloading package wordnet to /root/nltk_data...\n",
            "[nltk_data]   Unzipping corpora/wordnet.zip.\n",
            "a symptom of some physical hurt or disorder\n",
            "['the patient developed severe pain and distension']\n"
          ],
          "name": "stdout"
        }
      ]
    },
    {
      "cell_type": "code",
      "metadata": {
        "id": "FZXgdtQyPy6s",
        "colab_type": "code",
        "outputId": "b435c7b9-c480-4510-f9be-62ccb498d4b7",
        "colab": {
          "base_uri": "https://localhost:8080/",
          "height": 51
        }
      },
      "source": [
        "syn = wordnet.synsets(\"happy\")\n",
        "print(syn[0].definition())\n",
        "print(syn[0].examples())"
      ],
      "execution_count": 0,
      "outputs": [
        {
          "output_type": "stream",
          "text": [
            "enjoying or showing or marked by joy or pleasure\n",
            "['a happy smile', 'spent many happy days on the beach', 'a happy marriage']\n"
          ],
          "name": "stdout"
        }
      ]
    },
    {
      "cell_type": "code",
      "metadata": {
        "id": "dLEZM2fjPy1j",
        "colab_type": "code",
        "outputId": "fcfc97e4-18c6-45b1-c28d-6d8511f83b04",
        "colab": {
          "base_uri": "https://localhost:8080/",
          "height": 51
        }
      },
      "source": [
        "# WordNet includes a lot of definitions:\n",
        "syn = wordnet.synsets(\"NLP\")\n",
        "print(syn[0].definition())\n",
        "syn = wordnet.synsets(\"Python\")\n",
        "print(syn[0].definition())"
      ],
      "execution_count": 0,
      "outputs": [
        {
          "output_type": "stream",
          "text": [
            "the branch of information science that deals with natural language information\n",
            "large Old World boas\n"
          ],
          "name": "stdout"
        }
      ]
    },
    {
      "cell_type": "markdown",
      "metadata": {
        "id": "X0upjMVfb6qW",
        "colab_type": "text"
      },
      "source": [
        "####You can use WordNet to get synonymous words like this:"
      ]
    },
    {
      "cell_type": "code",
      "metadata": {
        "id": "dRMGiNwlPyzV",
        "colab_type": "code",
        "outputId": "316d957a-db4e-42ba-f63a-9c2e168e0445",
        "colab": {
          "base_uri": "https://localhost:8080/",
          "height": 54
        }
      },
      "source": [
        "synonyms = []\n",
        "for syn in wordnet.synsets('Computer'):\n",
        "    for lemma in syn.lemmas():\n",
        "        synonyms.append(lemma.name())\n",
        "print(synonyms)"
      ],
      "execution_count": 0,
      "outputs": [
        {
          "output_type": "stream",
          "text": [
            "['computer', 'computing_machine', 'computing_device', 'data_processor', 'electronic_computer', 'information_processing_system', 'calculator', 'reckoner', 'figurer', 'estimator', 'computer']\n"
          ],
          "name": "stdout"
        }
      ]
    },
    {
      "cell_type": "code",
      "metadata": {
        "id": "KukgUUCBPywp",
        "colab_type": "code",
        "outputId": "feb20535-2479-40ef-9fc7-a9d6124894bc",
        "colab": {
          "base_uri": "https://localhost:8080/",
          "height": 170
        }
      },
      "source": [
        "wordnet.synsets('world')"
      ],
      "execution_count": 0,
      "outputs": [
        {
          "output_type": "execute_result",
          "data": {
            "text/plain": [
              "[Synset('universe.n.01'),\n",
              " Synset('world.n.02'),\n",
              " Synset('world.n.03'),\n",
              " Synset('earth.n.01'),\n",
              " Synset('populace.n.01'),\n",
              " Synset('world.n.06'),\n",
              " Synset('worldly_concern.n.01'),\n",
              " Synset('world.n.08'),\n",
              " Synset('global.s.01')]"
            ]
          },
          "metadata": {
            "tags": []
          },
          "execution_count": 68
        }
      ]
    },
    {
      "cell_type": "markdown",
      "metadata": {
        "id": "6lwhBsYlcpQC",
        "colab_type": "text"
      },
      "source": [
        "####Get Antonyms From WordNet"
      ]
    },
    {
      "cell_type": "code",
      "metadata": {
        "id": "BuJDgd-zPynk",
        "colab_type": "code",
        "outputId": "5d3a791d-d29a-4be1-a420-7cf4546cd6e0",
        "colab": {
          "base_uri": "https://localhost:8080/",
          "height": 34
        }
      },
      "source": [
        "antonyms = []\n",
        "for syn in wordnet.synsets(\"small\"):\n",
        "    for l in syn.lemmas():\n",
        "        if l.antonyms():\n",
        "            antonyms.append(l.antonyms()[0].name())\n",
        "print(antonyms)"
      ],
      "execution_count": 0,
      "outputs": [
        {
          "output_type": "stream",
          "text": [
            "['large', 'big', 'big']\n"
          ],
          "name": "stdout"
        }
      ]
    },
    {
      "cell_type": "markdown",
      "metadata": {
        "id": "3kp3amVx9uOc",
        "colab_type": "text"
      },
      "source": [
        "#NLTK Word Stemming\n",
        "`Word stemming means removing affixes from words and returning the root word. (The stem of the word working is work.)`    \n",
        "\n",
        "`Search engines use this technique when indexing pages, so many people write different versions for the same word and all of them are stemmed to the root word.`\n",
        "\n",
        "There are many algorithms for stemming, but the most used algorithm is the **Porter stemming algorithm** , **SnowballStemmer**.     \n",
        "There are some other stemming algorithms, like the Lancaster stemming algorithm."
      ]
    },
    {
      "cell_type": "code",
      "metadata": {
        "id": "3pw8BCnGMpKv",
        "colab_type": "code",
        "colab": {
          "base_uri": "https://localhost:8080/",
          "height": 34
        },
        "outputId": "fbdde427-f44e-4eb0-b7f8-bbc1c8fb2ea7"
      },
      "source": [
        "from nltk.stem import PorterStemmer\n",
        "stemmer = PorterStemmer() \n",
        "print(stemmer.stem('working'))"
      ],
      "execution_count": 1,
      "outputs": [
        {
          "output_type": "stream",
          "text": [
            "work\n"
          ],
          "name": "stdout"
        }
      ]
    },
    {
      "cell_type": "markdown",
      "metadata": {
        "id": "1REED3VjAHQA",
        "colab_type": "text"
      },
      "source": [
        "#Stemming Non-English Words\n",
        "SnowballStemmer can stem 13 languages besides the English language. The supported languages are:     `'danish', 'dutch', 'english', 'finnish', 'french', 'german', 'hungarian', 'italian', 'norwegian', 'porter', 'portuguese', 'romanian', 'russian', 'spanish', 'swedish'`"
      ]
    },
    {
      "cell_type": "code",
      "metadata": {
        "id": "PdK9oguHMpP0",
        "colab_type": "code",
        "colab": {
          "base_uri": "https://localhost:8080/",
          "height": 54
        },
        "outputId": "7bb63216-1903-494a-ffbd-699e170b4ddb"
      },
      "source": [
        "from nltk.stem import SnowballStemmer\n",
        "print(SnowballStemmer.languages)"
      ],
      "execution_count": 2,
      "outputs": [
        {
          "output_type": "stream",
          "text": [
            "('arabic', 'danish', 'dutch', 'english', 'finnish', 'french', 'german', 'hungarian', 'italian', 'norwegian', 'porter', 'portuguese', 'romanian', 'russian', 'spanish', 'swedish')\n"
          ],
          "name": "stdout"
        }
      ]
    },
    {
      "cell_type": "code",
      "metadata": {
        "id": "J1vAFnbjABSK",
        "colab_type": "code",
        "colab": {
          "base_uri": "https://localhost:8080/",
          "height": 34
        },
        "outputId": "02f9eebb-a324-4aaf-a07e-718fc6f8d17f"
      },
      "source": [
        "from nltk.stem import SnowballStemmer\n",
        "french_stemmer = SnowballStemmer('french')\n",
        "print(french_stemmer.stem(\"Français\"))"
      ],
      "execution_count": 4,
      "outputs": [
        {
          "output_type": "stream",
          "text": [
            "franc\n"
          ],
          "name": "stdout"
        }
      ]
    },
    {
      "cell_type": "markdown",
      "metadata": {
        "id": "ZJDfKjxgAve9",
        "colab_type": "text"
      },
      "source": [
        "#Lemmatizing Words Using WordNet\n",
        "Word lemmatizing is similar to stemming, but the difference is the result of lemmatizing is a real word. Unlike stemming , we get original real word in lemmatizing."
      ]
    },
    {
      "cell_type": "code",
      "metadata": {
        "id": "6MtVHmw0ABf8",
        "colab_type": "code",
        "colab": {
          "base_uri": "https://localhost:8080/",
          "height": 34
        },
        "outputId": "2167ac20-95e7-4ccd-e36a-434d1d948c19"
      },
      "source": [
        "#Stemming \n",
        "from nltk.stem import PorterStemmer \n",
        "stemmer = PorterStemmer() \n",
        "print(stemmer.stem('increases'))"
      ],
      "execution_count": 19,
      "outputs": [
        {
          "output_type": "stream",
          "text": [
            "increas\n"
          ],
          "name": "stdout"
        }
      ]
    },
    {
      "cell_type": "code",
      "metadata": {
        "id": "u7BOWWigABeU",
        "colab_type": "code",
        "colab": {
          "base_uri": "https://localhost:8080/",
          "height": 68
        },
        "outputId": "b94c1583-933e-4680-e85d-03dfd25f14ec"
      },
      "source": [
        "#Lemmatizing\n",
        "from nltk.stem import WordNetLemmatizer\n",
        "nltk.download('wordnet')\n",
        "lemmatizer = WordNetLemmatizer()\n",
        "print(lemmatizer.lemmatize('increases'))"
      ],
      "execution_count": 20,
      "outputs": [
        {
          "output_type": "stream",
          "text": [
            "[nltk_data] Downloading package wordnet to /root/nltk_data...\n",
            "[nltk_data]   Package wordnet is already up-to-date!\n",
            "increase\n"
          ],
          "name": "stdout"
        }
      ]
    },
    {
      "cell_type": "markdown",
      "metadata": {
        "id": "rvqBPe1bCI08",
        "colab_type": "text"
      },
      "source": [
        "`Sometimes, if you try to lemmatize a word like the word playing, it will end up with the same word. This is because the default part of speech is nouns. To get verbs, you should specify it like this:`"
      ]
    },
    {
      "cell_type": "code",
      "metadata": {
        "id": "kdJwbCxjABb6",
        "colab_type": "code",
        "colab": {
          "base_uri": "https://localhost:8080/",
          "height": 34
        },
        "outputId": "4007b711-a6e9-4346-8f8a-09c8543d64f3"
      },
      "source": [
        "from nltk.stem import WordNetLemmatizer\n",
        "lemmatizer = WordNetLemmatizer()\n",
        "print(lemmatizer.lemmatize('playing', pos=\"v\"))"
      ],
      "execution_count": 21,
      "outputs": [
        {
          "output_type": "stream",
          "text": [
            "play\n"
          ],
          "name": "stdout"
        }
      ]
    },
    {
      "cell_type": "markdown",
      "metadata": {
        "id": "1n-qeSJuCZqE",
        "colab_type": "text"
      },
      "source": [
        "The result could be a verb, noun, adjective, or adverb:"
      ]
    },
    {
      "cell_type": "code",
      "metadata": {
        "id": "R2rRRxTtABaC",
        "colab_type": "code",
        "colab": {
          "base_uri": "https://localhost:8080/",
          "height": 68
        },
        "outputId": "fe754935-bd94-48cd-d54c-74e06288cef3"
      },
      "source": [
        "print(lemmatizer.lemmatize('playing', pos=\"n\")) \n",
        "print(lemmatizer.lemmatize('playing', pos=\"a\")) \n",
        "print(lemmatizer.lemmatize('playing', pos=\"r\"))"
      ],
      "execution_count": 22,
      "outputs": [
        {
          "output_type": "stream",
          "text": [
            "playing\n",
            "playing\n",
            "playing\n"
          ],
          "name": "stdout"
        }
      ]
    },
    {
      "cell_type": "markdown",
      "metadata": {
        "id": "zj7cqYUbCl3x",
        "colab_type": "text"
      },
      "source": [
        "#### Stemming and Lemmatization Difference"
      ]
    },
    {
      "cell_type": "code",
      "metadata": {
        "id": "ckV70kAxABXE",
        "colab_type": "code",
        "colab": {
          "base_uri": "https://localhost:8080/",
          "height": 238
        },
        "outputId": "948b8a6f-6d09-4cae-dc3f-033408016605"
      },
      "source": [
        "from nltk.stem import WordNetLemmatizer \n",
        "from nltk.stem import PorterStemmer \n",
        "stemmer = PorterStemmer() \n",
        "lemmatizer = WordNetLemmatizer() \n",
        "print(stemmer.stem('stones')) \n",
        "print(stemmer.stem('speaking')) \n",
        "print(stemmer.stem('bedroom')) \n",
        "print(stemmer.stem('jokes')) \n",
        "print(stemmer.stem('lisa')) \n",
        "print(stemmer.stem('purple')) \n",
        "print('----------------------') \n",
        "print(lemmatizer.lemmatize('stones')) \n",
        "print(lemmatizer.lemmatize('speaking'))\n",
        "print(lemmatizer.lemmatize('bedroom'))\n",
        "print(lemmatizer.lemmatize('jokes'))\n",
        "print(lemmatizer.lemmatize('lisa'))\n",
        "print(lemmatizer.lemmatize('purple'))"
      ],
      "execution_count": 23,
      "outputs": [
        {
          "output_type": "stream",
          "text": [
            "stone\n",
            "speak\n",
            "bedroom\n",
            "joke\n",
            "lisa\n",
            "purpl\n",
            "----------------------\n",
            "stone\n",
            "speaking\n",
            "bedroom\n",
            "joke\n",
            "lisa\n",
            "purple\n"
          ],
          "name": "stdout"
        }
      ]
    },
    {
      "cell_type": "markdown",
      "metadata": {
        "id": "L7RGIJMeDP74",
        "colab_type": "text"
      },
      "source": [
        "`Stemming works on words without knowing their context, which is why it has lower accuracy and is faster than lemmatization.`\n",
        "\n",
        "`In my opinion, lemmatizing is better than stemming. Word lemmatizing returns a real word even if it's not the same word; it could be a synonym, but at least it's a real word. Sometimes, you don't care about this level of accuracy, and all you need is speed. In this case, stemming is better.`"
      ]
    },
    {
      "cell_type": "markdown",
      "metadata": {
        "id": "W94XqmqxMa-7",
        "colab_type": "text"
      },
      "source": [
        "#Sentiment Analysis With NLP\n",
        "`Sentiment analysis is one of the most common applications in natural language processing. With Sentiment analysis, we can decide what emotion a text is written.`\n",
        "\n",
        "`With the widespread use of social media, the need to analyze the content that people share over social media is increasing day by day. Considering the volume of data coming through social media, it is quite difficult to do this with human power. Therefore, the need for applications that can quickly detect and respond to the positive or negative comments that people write is increasing day by day. `"
      ]
    },
    {
      "cell_type": "markdown",
      "metadata": {
        "id": "Xema7Dt11UPi",
        "colab_type": "text"
      },
      "source": [
        "###Dataset loading \n",
        "`This dataset was created with user reviews collected via 3 different websites (Amazon, Yelp, Imdb). These comments consist of restaurant, film and product reviews. Each record in the data set is labeled with two different emoticons. These are 1: Positive, 0: Negative.`"
      ]
    },
    {
      "cell_type": "code",
      "metadata": {
        "id": "MljuQ7nJABPB",
        "colab_type": "code",
        "colab": {
          "base_uri": "https://localhost:8080/",
          "height": 204
        },
        "outputId": "0bd6e7ab-fda5-4c4b-b7d5-b2c496dd7f3c"
      },
      "source": [
        "!wget https://archive.ics.uci.edu/ml/machine-learning-databases/00331/sentiment%20labelled%20sentences.zip"
      ],
      "execution_count": 1,
      "outputs": [
        {
          "output_type": "stream",
          "text": [
            "--2019-05-29 09:03:32--  https://archive.ics.uci.edu/ml/machine-learning-databases/00331/sentiment%20labelled%20sentences.zip\n",
            "Resolving archive.ics.uci.edu (archive.ics.uci.edu)... 128.195.10.252\n",
            "Connecting to archive.ics.uci.edu (archive.ics.uci.edu)|128.195.10.252|:443... connected.\n",
            "HTTP request sent, awaiting response... 200 OK\n",
            "Length: 84188 (82K) [application/x-httpd-php]\n",
            "Saving to: ‘sentiment labelled sentences.zip’\n",
            "\n",
            "\r          sentiment   0%[                    ]       0  --.-KB/s               \r         sentiment   47%[========>           ]  39.00K   119KB/s               \rsentiment labelled  100%[===================>]  82.21K   250KB/s    in 0.3s    \n",
            "\n",
            "2019-05-29 09:03:33 (250 KB/s) - ‘sentiment labelled sentences.zip’ saved [84188/84188]\n",
            "\n"
          ],
          "name": "stdout"
        }
      ]
    },
    {
      "cell_type": "code",
      "metadata": {
        "id": "KzGzWHsUJiGe",
        "colab_type": "code",
        "colab": {}
      },
      "source": [
        "import zipfile\n",
        "with zipfile.ZipFile('sentiment labelled sentences.zip', 'r') as zipObj:\n",
        "    zipObj.extractall()\n",
        "    \n",
        "# file = \"/content/sentiment labelled sentences/amazon_cells_labelled.txt\"\n",
        "# f = open(file, \"r\")\n",
        "# for x in f:\n",
        "#   print(x)"
      ],
      "execution_count": 0,
      "outputs": []
    },
    {
      "cell_type": "markdown",
      "metadata": {
        "id": "8xy7COdf1oz9",
        "colab_type": "text"
      },
      "source": [
        "####Library upload"
      ]
    },
    {
      "cell_type": "code",
      "metadata": {
        "id": "Ho_IgCttMpTY",
        "colab_type": "code",
        "colab": {}
      },
      "source": [
        "import pandas as pd\n",
        "import numpy as np\n",
        "import pickle\n",
        "import sys\n",
        "import os\n",
        "import io\n",
        "import re\n",
        "from sys import path\n",
        "import numpy as np\n",
        "import pickle\n",
        "from sklearn.feature_extraction.text import CountVectorizer\n",
        "from sklearn.naive_bayes import MultinomialNB\n",
        "from sklearn.model_selection import train_test_split\n",
        "from sklearn.preprocessing import LabelBinarizer\n",
        "import matplotlib.pyplot as plt\n",
        "from string import punctuation, digits\n",
        "from IPython.core.display import display, HTML\n",
        "from nltk.corpus import stopwords\n",
        "from nltk.corpus import stopwords\n",
        "from nltk.tokenize import word_tokenize\n",
        "from nltk.tokenize import RegexpTokenizer"
      ],
      "execution_count": 0,
      "outputs": []
    },
    {
      "cell_type": "code",
      "metadata": {
        "id": "L35uPtLP1yr8",
        "colab_type": "code",
        "colab": {}
      },
      "source": [
        "#Amazon Data  (PRODUCTMENT SENTIMENT)\n",
        "input_file = \"sentiment labelled sentences/amazon_cells_labelled.txt\"\n",
        "amazon = pd.read_csv(input_file,delimiter='\\t',header=None)\n",
        "amazon.columns = ['Sentence','Class']"
      ],
      "execution_count": 0,
      "outputs": []
    },
    {
      "cell_type": "code",
      "metadata": {
        "id": "3L87xdX02HMS",
        "colab_type": "code",
        "colab": {
          "base_uri": "https://localhost:8080/",
          "height": 221
        },
        "outputId": "9685e348-dc9e-411f-8d42-1f65d50c53f2"
      },
      "source": [
        "print(amazon.shape)\n",
        "amazon.head()"
      ],
      "execution_count": 6,
      "outputs": [
        {
          "output_type": "stream",
          "text": [
            "(1000, 2)\n"
          ],
          "name": "stdout"
        },
        {
          "output_type": "execute_result",
          "data": {
            "text/html": [
              "<div>\n",
              "<style scoped>\n",
              "    .dataframe tbody tr th:only-of-type {\n",
              "        vertical-align: middle;\n",
              "    }\n",
              "\n",
              "    .dataframe tbody tr th {\n",
              "        vertical-align: top;\n",
              "    }\n",
              "\n",
              "    .dataframe thead th {\n",
              "        text-align: right;\n",
              "    }\n",
              "</style>\n",
              "<table border=\"1\" class=\"dataframe\">\n",
              "  <thead>\n",
              "    <tr style=\"text-align: right;\">\n",
              "      <th></th>\n",
              "      <th>Sentence</th>\n",
              "      <th>Class</th>\n",
              "    </tr>\n",
              "  </thead>\n",
              "  <tbody>\n",
              "    <tr>\n",
              "      <th>0</th>\n",
              "      <td>So there is no way for me to plug it in here i...</td>\n",
              "      <td>0</td>\n",
              "    </tr>\n",
              "    <tr>\n",
              "      <th>1</th>\n",
              "      <td>Good case, Excellent value.</td>\n",
              "      <td>1</td>\n",
              "    </tr>\n",
              "    <tr>\n",
              "      <th>2</th>\n",
              "      <td>Great for the jawbone.</td>\n",
              "      <td>1</td>\n",
              "    </tr>\n",
              "    <tr>\n",
              "      <th>3</th>\n",
              "      <td>Tied to charger for conversations lasting more...</td>\n",
              "      <td>0</td>\n",
              "    </tr>\n",
              "    <tr>\n",
              "      <th>4</th>\n",
              "      <td>The mic is great.</td>\n",
              "      <td>1</td>\n",
              "    </tr>\n",
              "  </tbody>\n",
              "</table>\n",
              "</div>"
            ],
            "text/plain": [
              "                                            Sentence  Class\n",
              "0  So there is no way for me to plug it in here i...      0\n",
              "1                        Good case, Excellent value.      1\n",
              "2                             Great for the jawbone.      1\n",
              "3  Tied to charger for conversations lasting more...      0\n",
              "4                                  The mic is great.      1"
            ]
          },
          "metadata": {
            "tags": []
          },
          "execution_count": 6
        }
      ]
    },
    {
      "cell_type": "code",
      "metadata": {
        "id": "1sH-ZLz62VAn",
        "colab_type": "code",
        "colab": {
          "base_uri": "https://localhost:8080/",
          "height": 221
        },
        "outputId": "d42a1ced-9add-4008-8049-d98597e2b91c"
      },
      "source": [
        "#Yelp Data   (HOTEL SENTIMENT)\n",
        "input_file = \"sentiment labelled sentences/yelp_labelled.txt\"\n",
        "yelp = pd.read_csv(input_file,delimiter='\\t',header=None)\n",
        "yelp.columns = ['Sentence','Class']\n",
        "print(yelp.shape)\n",
        "yelp.head()"
      ],
      "execution_count": 8,
      "outputs": [
        {
          "output_type": "stream",
          "text": [
            "(1000, 2)\n"
          ],
          "name": "stdout"
        },
        {
          "output_type": "execute_result",
          "data": {
            "text/html": [
              "<div>\n",
              "<style scoped>\n",
              "    .dataframe tbody tr th:only-of-type {\n",
              "        vertical-align: middle;\n",
              "    }\n",
              "\n",
              "    .dataframe tbody tr th {\n",
              "        vertical-align: top;\n",
              "    }\n",
              "\n",
              "    .dataframe thead th {\n",
              "        text-align: right;\n",
              "    }\n",
              "</style>\n",
              "<table border=\"1\" class=\"dataframe\">\n",
              "  <thead>\n",
              "    <tr style=\"text-align: right;\">\n",
              "      <th></th>\n",
              "      <th>Sentence</th>\n",
              "      <th>Class</th>\n",
              "    </tr>\n",
              "  </thead>\n",
              "  <tbody>\n",
              "    <tr>\n",
              "      <th>0</th>\n",
              "      <td>Wow... Loved this place.</td>\n",
              "      <td>1</td>\n",
              "    </tr>\n",
              "    <tr>\n",
              "      <th>1</th>\n",
              "      <td>Crust is not good.</td>\n",
              "      <td>0</td>\n",
              "    </tr>\n",
              "    <tr>\n",
              "      <th>2</th>\n",
              "      <td>Not tasty and the texture was just nasty.</td>\n",
              "      <td>0</td>\n",
              "    </tr>\n",
              "    <tr>\n",
              "      <th>3</th>\n",
              "      <td>Stopped by during the late May bank holiday of...</td>\n",
              "      <td>1</td>\n",
              "    </tr>\n",
              "    <tr>\n",
              "      <th>4</th>\n",
              "      <td>The selection on the menu was great and so wer...</td>\n",
              "      <td>1</td>\n",
              "    </tr>\n",
              "  </tbody>\n",
              "</table>\n",
              "</div>"
            ],
            "text/plain": [
              "                                            Sentence  Class\n",
              "0                           Wow... Loved this place.      1\n",
              "1                                 Crust is not good.      0\n",
              "2          Not tasty and the texture was just nasty.      0\n",
              "3  Stopped by during the late May bank holiday of...      1\n",
              "4  The selection on the menu was great and so wer...      1"
            ]
          },
          "metadata": {
            "tags": []
          },
          "execution_count": 8
        }
      ]
    },
    {
      "cell_type": "code",
      "metadata": {
        "id": "_vjxG2aU2oec",
        "colab_type": "code",
        "colab": {
          "base_uri": "https://localhost:8080/",
          "height": 221
        },
        "outputId": "21f9bb66-f3bb-4b5d-b815-e89c8cb52392"
      },
      "source": [
        "#Imdb Data  (MOVIE SENTIMENT)\n",
        "input_file = \"sentiment labelled sentences/imdb_labelled.txt\"\n",
        "imdb = pd.read_csv(input_file,delimiter='\\t',header=None)\n",
        "imdb.columns = ['Sentence','Class']\n",
        "print(imdb.shape)\n",
        "imdb.head()"
      ],
      "execution_count": 9,
      "outputs": [
        {
          "output_type": "stream",
          "text": [
            "(748, 2)\n"
          ],
          "name": "stdout"
        },
        {
          "output_type": "execute_result",
          "data": {
            "text/html": [
              "<div>\n",
              "<style scoped>\n",
              "    .dataframe tbody tr th:only-of-type {\n",
              "        vertical-align: middle;\n",
              "    }\n",
              "\n",
              "    .dataframe tbody tr th {\n",
              "        vertical-align: top;\n",
              "    }\n",
              "\n",
              "    .dataframe thead th {\n",
              "        text-align: right;\n",
              "    }\n",
              "</style>\n",
              "<table border=\"1\" class=\"dataframe\">\n",
              "  <thead>\n",
              "    <tr style=\"text-align: right;\">\n",
              "      <th></th>\n",
              "      <th>Sentence</th>\n",
              "      <th>Class</th>\n",
              "    </tr>\n",
              "  </thead>\n",
              "  <tbody>\n",
              "    <tr>\n",
              "      <th>0</th>\n",
              "      <td>A very, very, very slow-moving, aimless movie ...</td>\n",
              "      <td>0</td>\n",
              "    </tr>\n",
              "    <tr>\n",
              "      <th>1</th>\n",
              "      <td>Not sure who was more lost - the flat characte...</td>\n",
              "      <td>0</td>\n",
              "    </tr>\n",
              "    <tr>\n",
              "      <th>2</th>\n",
              "      <td>Attempting artiness with black &amp; white and cle...</td>\n",
              "      <td>0</td>\n",
              "    </tr>\n",
              "    <tr>\n",
              "      <th>3</th>\n",
              "      <td>Very little music or anything to speak of.</td>\n",
              "      <td>0</td>\n",
              "    </tr>\n",
              "    <tr>\n",
              "      <th>4</th>\n",
              "      <td>The best scene in the movie was when Gerardo i...</td>\n",
              "      <td>1</td>\n",
              "    </tr>\n",
              "  </tbody>\n",
              "</table>\n",
              "</div>"
            ],
            "text/plain": [
              "                                            Sentence  Class\n",
              "0  A very, very, very slow-moving, aimless movie ...      0\n",
              "1  Not sure who was more lost - the flat characte...      0\n",
              "2  Attempting artiness with black & white and cle...      0\n",
              "3       Very little music or anything to speak of.        0\n",
              "4  The best scene in the movie was when Gerardo i...      1"
            ]
          },
          "metadata": {
            "tags": []
          },
          "execution_count": 9
        }
      ]
    },
    {
      "cell_type": "code",
      "metadata": {
        "id": "CdY6gWs72oa5",
        "colab_type": "code",
        "colab": {
          "base_uri": "https://localhost:8080/",
          "height": 221
        },
        "outputId": "a14e5b27-0e28-425a-cc90-6e9e762b4687"
      },
      "source": [
        "#combine all data sets\n",
        "data = pd.DataFrame()\n",
        "data = pd.concat([amazon, yelp, imdb])\n",
        "data['index'] = data.index\n",
        "print(data.shape)\n",
        "data.head()"
      ],
      "execution_count": 10,
      "outputs": [
        {
          "output_type": "stream",
          "text": [
            "(2748, 3)\n"
          ],
          "name": "stdout"
        },
        {
          "output_type": "execute_result",
          "data": {
            "text/html": [
              "<div>\n",
              "<style scoped>\n",
              "    .dataframe tbody tr th:only-of-type {\n",
              "        vertical-align: middle;\n",
              "    }\n",
              "\n",
              "    .dataframe tbody tr th {\n",
              "        vertical-align: top;\n",
              "    }\n",
              "\n",
              "    .dataframe thead th {\n",
              "        text-align: right;\n",
              "    }\n",
              "</style>\n",
              "<table border=\"1\" class=\"dataframe\">\n",
              "  <thead>\n",
              "    <tr style=\"text-align: right;\">\n",
              "      <th></th>\n",
              "      <th>Sentence</th>\n",
              "      <th>Class</th>\n",
              "      <th>index</th>\n",
              "    </tr>\n",
              "  </thead>\n",
              "  <tbody>\n",
              "    <tr>\n",
              "      <th>0</th>\n",
              "      <td>So there is no way for me to plug it in here i...</td>\n",
              "      <td>0</td>\n",
              "      <td>0</td>\n",
              "    </tr>\n",
              "    <tr>\n",
              "      <th>1</th>\n",
              "      <td>Good case, Excellent value.</td>\n",
              "      <td>1</td>\n",
              "      <td>1</td>\n",
              "    </tr>\n",
              "    <tr>\n",
              "      <th>2</th>\n",
              "      <td>Great for the jawbone.</td>\n",
              "      <td>1</td>\n",
              "      <td>2</td>\n",
              "    </tr>\n",
              "    <tr>\n",
              "      <th>3</th>\n",
              "      <td>Tied to charger for conversations lasting more...</td>\n",
              "      <td>0</td>\n",
              "      <td>3</td>\n",
              "    </tr>\n",
              "    <tr>\n",
              "      <th>4</th>\n",
              "      <td>The mic is great.</td>\n",
              "      <td>1</td>\n",
              "      <td>4</td>\n",
              "    </tr>\n",
              "  </tbody>\n",
              "</table>\n",
              "</div>"
            ],
            "text/plain": [
              "                                            Sentence  Class  index\n",
              "0  So there is no way for me to plug it in here i...      0      0\n",
              "1                        Good case, Excellent value.      1      1\n",
              "2                             Great for the jawbone.      1      2\n",
              "3  Tied to charger for conversations lasting more...      0      3\n",
              "4                                  The mic is great.      1      4"
            ]
          },
          "metadata": {
            "tags": []
          },
          "execution_count": 10
        }
      ]
    },
    {
      "cell_type": "code",
      "metadata": {
        "id": "S788I3_93Ura",
        "colab_type": "code",
        "colab": {
          "base_uri": "https://localhost:8080/",
          "height": 111
        },
        "outputId": "4e38a020-eebd-4fbf-fb27-73652ab303e1"
      },
      "source": [
        "\n",
        "grouped_df = data.groupby(by='Class', as_index=False)   #groupBy based on 'class' Column   #because class has only two values 0 and 1 .(easily classified)\n",
        "grouped_df.count()\n",
        "    \n",
        "# for name_of_the_group, group in grouped_df:\n",
        "#     print (name_of_the_group)\n",
        "#     print (group)"
      ],
      "execution_count": 31,
      "outputs": [
        {
          "output_type": "execute_result",
          "data": {
            "text/html": [
              "<div>\n",
              "<style scoped>\n",
              "    .dataframe tbody tr th:only-of-type {\n",
              "        vertical-align: middle;\n",
              "    }\n",
              "\n",
              "    .dataframe tbody tr th {\n",
              "        vertical-align: top;\n",
              "    }\n",
              "\n",
              "    .dataframe thead th {\n",
              "        text-align: right;\n",
              "    }\n",
              "</style>\n",
              "<table border=\"1\" class=\"dataframe\">\n",
              "  <thead>\n",
              "    <tr style=\"text-align: right;\">\n",
              "      <th></th>\n",
              "      <th>Class</th>\n",
              "      <th>Sentence</th>\n",
              "      <th>index</th>\n",
              "    </tr>\n",
              "  </thead>\n",
              "  <tbody>\n",
              "    <tr>\n",
              "      <th>0</th>\n",
              "      <td>0</td>\n",
              "      <td>1362</td>\n",
              "      <td>1362</td>\n",
              "    </tr>\n",
              "    <tr>\n",
              "      <th>1</th>\n",
              "      <td>1</td>\n",
              "      <td>1386</td>\n",
              "      <td>1386</td>\n",
              "    </tr>\n",
              "  </tbody>\n",
              "</table>\n",
              "</div>"
            ],
            "text/plain": [
              "   Class  Sentence  index\n",
              "0      0      1362   1362\n",
              "1      1      1386   1386"
            ]
          },
          "metadata": {
            "tags": []
          },
          "execution_count": 31
        }
      ]
    },
    {
      "cell_type": "code",
      "metadata": {
        "id": "geahETt131KK",
        "colab_type": "code",
        "colab": {
          "base_uri": "https://localhost:8080/",
          "height": 111
        },
        "outputId": "edcac262-efd1-411c-94a4-27a0b790a653"
      },
      "source": [
        "gb_index = grouped_df.agg({'index': pd.Series.nunique})   # 846 elements are unique out of 1362   # 827 elements are unique out of 1386\n",
        "gb_index"
      ],
      "execution_count": 33,
      "outputs": [
        {
          "output_type": "execute_result",
          "data": {
            "text/html": [
              "<div>\n",
              "<style scoped>\n",
              "    .dataframe tbody tr th:only-of-type {\n",
              "        vertical-align: middle;\n",
              "    }\n",
              "\n",
              "    .dataframe tbody tr th {\n",
              "        vertical-align: top;\n",
              "    }\n",
              "\n",
              "    .dataframe thead th {\n",
              "        text-align: right;\n",
              "    }\n",
              "</style>\n",
              "<table border=\"1\" class=\"dataframe\">\n",
              "  <thead>\n",
              "    <tr style=\"text-align: right;\">\n",
              "      <th></th>\n",
              "      <th>Class</th>\n",
              "      <th>index</th>\n",
              "    </tr>\n",
              "  </thead>\n",
              "  <tbody>\n",
              "    <tr>\n",
              "      <th>0</th>\n",
              "      <td>0</td>\n",
              "      <td>846</td>\n",
              "    </tr>\n",
              "    <tr>\n",
              "      <th>1</th>\n",
              "      <td>1</td>\n",
              "      <td>827</td>\n",
              "    </tr>\n",
              "  </tbody>\n",
              "</table>\n",
              "</div>"
            ],
            "text/plain": [
              "   Class  index\n",
              "0      0    846\n",
              "1      1    827"
            ]
          },
          "metadata": {
            "tags": []
          },
          "execution_count": 33
        }
      ]
    },
    {
      "cell_type": "code",
      "metadata": {
        "id": "L3D_Nkm266oH",
        "colab_type": "code",
        "colab": {
          "base_uri": "https://localhost:8080/",
          "height": 111
        },
        "outputId": "0f34cf36-4cf9-49c8-b8f8-ec60a27f8894"
      },
      "source": [
        "gb_index.sort_values(by='index', ascending=True)"
      ],
      "execution_count": 39,
      "outputs": [
        {
          "output_type": "execute_result",
          "data": {
            "text/html": [
              "<div>\n",
              "<style scoped>\n",
              "    .dataframe tbody tr th:only-of-type {\n",
              "        vertical-align: middle;\n",
              "    }\n",
              "\n",
              "    .dataframe tbody tr th {\n",
              "        vertical-align: top;\n",
              "    }\n",
              "\n",
              "    .dataframe thead th {\n",
              "        text-align: right;\n",
              "    }\n",
              "</style>\n",
              "<table border=\"1\" class=\"dataframe\">\n",
              "  <thead>\n",
              "    <tr style=\"text-align: right;\">\n",
              "      <th></th>\n",
              "      <th>Class</th>\n",
              "      <th>index</th>\n",
              "    </tr>\n",
              "  </thead>\n",
              "  <tbody>\n",
              "    <tr>\n",
              "      <th>1</th>\n",
              "      <td>1</td>\n",
              "      <td>827</td>\n",
              "    </tr>\n",
              "    <tr>\n",
              "      <th>0</th>\n",
              "      <td>0</td>\n",
              "      <td>846</td>\n",
              "    </tr>\n",
              "  </tbody>\n",
              "</table>\n",
              "</div>"
            ],
            "text/plain": [
              "   Class  index\n",
              "1      1    827\n",
              "0      0    846"
            ]
          },
          "metadata": {
            "tags": []
          },
          "execution_count": 39
        }
      ]
    },
    {
      "cell_type": "markdown",
      "metadata": {
        "id": "RFCMYWxo3FgF",
        "colab_type": "text"
      },
      "source": [
        "`Yes, we imported the data and viewed it. Now, let's look at the statistics about the data.`"
      ]
    },
    {
      "cell_type": "code",
      "metadata": {
        "id": "QELDec8NNwZX",
        "colab_type": "code",
        "colab": {
          "base_uri": "https://localhost:8080/",
          "height": 68
        },
        "outputId": "c2fae812-baad-4b35-8551-e9585b294364"
      },
      "source": [
        "#Total Count of Each Category\n",
        "pd.set_option('display.width', 4000)\n",
        "pd.set_option('display.max_rows', 1000)\n",
        "distOfDetails = data.groupby(by='Class', as_index=False).agg({'index': pd.Series.nunique}).sort_values(by='index', ascending=False)\n",
        "distOfDetails.columns =['Class', 'COUNT']\n",
        "print(distOfDetails)"
      ],
      "execution_count": 11,
      "outputs": [
        {
          "output_type": "stream",
          "text": [
            "   Class  COUNT\n",
            "0      0    846\n",
            "1      1    827\n"
          ],
          "name": "stdout"
        }
      ]
    },
    {
      "cell_type": "code",
      "metadata": {
        "id": "BqmKaehKNwdv",
        "colab_type": "code",
        "colab": {
          "base_uri": "https://localhost:8080/",
          "height": 255
        },
        "outputId": "67e73bc1-15a4-4bfe-da63-95c79b1c17b2"
      },
      "source": [
        "#Distribution of All Categories\n",
        "plt.pie(distOfDetails['COUNT'],autopct='%1.0f%%',shadow=True, startangle=360)\n",
        "plt.show()"
      ],
      "execution_count": 16,
      "outputs": [
        {
          "output_type": "display_data",
          "data": {
            "image/png": "[encoded data removed]",
            "text/plain": [
              "<Figure size 432x288 with 1 Axes>"
            ]
          },
          "metadata": {
            "tags": []
          }
        }
      ]
    },
    {
      "cell_type": "code",
      "metadata": {
        "id": "J5qjYtskNwio",
        "colab_type": "code",
        "colab": {
          "base_uri": "https://localhost:8080/",
          "height": 255
        },
        "outputId": "7a9689a5-f9b6-4dcd-d523-1a7c9dff79ee"
      },
      "source": [
        "plt.pie(distOfDetails['COUNT'],autopct='%1.0f%%',shadow=True, startangle=90)\n",
        "plt.show()"
      ],
      "execution_count": 15,
      "outputs": [
        {
          "output_type": "display_data",
          "data": {
            "image/png": "[encoded data removed]",
            "text/plain": [
              "<Figure size 432x288 with 1 Axes>"
            ]
          },
          "metadata": {
            "tags": []
          }
        }
      ]
    },
    {
      "cell_type": "markdown",
      "metadata": {
        "id": "e65gQ7oj8IcN",
        "colab_type": "text"
      },
      "source": [
        "`As you can see, the data set is very balanced. There are almost equal numbers of positive and negative classes.`"
      ]
    },
    {
      "cell_type": "code",
      "metadata": {
        "id": "cztaLG5dNwn1",
        "colab_type": "code",
        "colab": {}
      },
      "source": [
        "#Text Preprocessing\n",
        "columns = ['index','Class', 'Sentence']\n",
        "df_ = pd.DataFrame(columns=columns)\n",
        "#lower string\n",
        "data['Sentence'] = data['Sentence'].str.lower()\n",
        "#remove email adress\n",
        "data['Sentence'] = data['Sentence'].replace('[a-zA-Z0-9-_.]+@[a-zA-Z0-9-_.]+', '', regex=True)\n",
        "#remove IP address\n",
        "data['Sentence'] = data['Sentence'].replace('((25[0-5]|2[0-4][0-9]|[01]?[0-9][0-9]?)(\\.|$)){4}', '', regex=True)\n",
        "\n",
        "\n",
        "#remove punctaitions and special chracters\n",
        "data['Sentence'] = data['Sentence'].str.replace('[^\\w\\s]','')\n",
        "\n",
        "\n",
        "#remove numbers\n",
        "data['Sentence'] = data['Sentence'].replace('\\d', '', regex=True)\n",
        "\n",
        "#remove stop words\n",
        "for index, row in data.iterrows():\n",
        "    word_tokens = word_tokenize(row['Sentence'])\n",
        "    filtered_sentence = [w for w in word_tokens if not w in stopwords.words('english')]\n",
        "    df_ = df_.append({\"index\": row['index'], \"Class\":  row['Class'],\"Sentence\": \" \".join(filtered_sentence[0:])}, ignore_index=True)\n",
        "data = df_"
      ],
      "execution_count": 0,
      "outputs": []
    },
    {
      "cell_type": "code",
      "metadata": {
        "id": "VGYM1cCaNws2",
        "colab_type": "code",
        "colab": {
          "base_uri": "https://localhost:8080/",
          "height": 221
        },
        "outputId": "6a9ffc42-f2b8-4f65-b25e-b4c1c16d578e"
      },
      "source": [
        "print(data.shape)\n",
        "data.head()"
      ],
      "execution_count": 46,
      "outputs": [
        {
          "output_type": "stream",
          "text": [
            "(2748, 3)\n"
          ],
          "name": "stdout"
        },
        {
          "output_type": "execute_result",
          "data": {
            "text/html": [
              "<div>\n",
              "<style scoped>\n",
              "    .dataframe tbody tr th:only-of-type {\n",
              "        vertical-align: middle;\n",
              "    }\n",
              "\n",
              "    .dataframe tbody tr th {\n",
              "        vertical-align: top;\n",
              "    }\n",
              "\n",
              "    .dataframe thead th {\n",
              "        text-align: right;\n",
              "    }\n",
              "</style>\n",
              "<table border=\"1\" class=\"dataframe\">\n",
              "  <thead>\n",
              "    <tr style=\"text-align: right;\">\n",
              "      <th></th>\n",
              "      <th>index</th>\n",
              "      <th>Class</th>\n",
              "      <th>Sentence</th>\n",
              "    </tr>\n",
              "  </thead>\n",
              "  <tbody>\n",
              "    <tr>\n",
              "      <th>0</th>\n",
              "      <td>0</td>\n",
              "      <td>0</td>\n",
              "      <td>way plug us unless go converter</td>\n",
              "    </tr>\n",
              "    <tr>\n",
              "      <th>1</th>\n",
              "      <td>1</td>\n",
              "      <td>1</td>\n",
              "      <td>good case excellent value</td>\n",
              "    </tr>\n",
              "    <tr>\n",
              "      <th>2</th>\n",
              "      <td>2</td>\n",
              "      <td>1</td>\n",
              "      <td>great jawbone</td>\n",
              "    </tr>\n",
              "    <tr>\n",
              "      <th>3</th>\n",
              "      <td>3</td>\n",
              "      <td>0</td>\n",
              "      <td>tied charger conversations lasting minutesmajo...</td>\n",
              "    </tr>\n",
              "    <tr>\n",
              "      <th>4</th>\n",
              "      <td>4</td>\n",
              "      <td>1</td>\n",
              "      <td>mic great</td>\n",
              "    </tr>\n",
              "  </tbody>\n",
              "</table>\n",
              "</div>"
            ],
            "text/plain": [
              "  index Class                                           Sentence\n",
              "0     0     0                    way plug us unless go converter\n",
              "1     1     1                          good case excellent value\n",
              "2     2     1                                      great jawbone\n",
              "3     3     0  tied charger conversations lasting minutesmajo...\n",
              "4     4     1                                          mic great"
            ]
          },
          "metadata": {
            "tags": []
          },
          "execution_count": 46
        }
      ]
    },
    {
      "cell_type": "markdown",
      "metadata": {
        "id": "QdAFdyFQ9prR",
        "colab_type": "text"
      },
      "source": [
        "`We made the pre-cleaning of the data ready for use within the model. Now, before we build our model, let's split our dataset to test (10%) and training(90%).`"
      ]
    },
    {
      "cell_type": "code",
      "metadata": {
        "id": "2s_ErLoWNwyD",
        "colab_type": "code",
        "colab": {
          "base_uri": "https://localhost:8080/",
          "height": 34
        },
        "outputId": "0316536d-475c-4747-9f14-54b0bef0827f"
      },
      "source": [
        "X_train,X_test,y_train,y_test = train_test_split(data['Sentence'].values.astype('U'),\n",
        "                                                 data['Class'].values.astype('int32'),\n",
        "                                                 test_size=0.10, \n",
        "                                                 random_state=0)\n",
        "classes  = data['Class'].unique()\n",
        "classes"
      ],
      "execution_count": 49,
      "outputs": [
        {
          "output_type": "execute_result",
          "data": {
            "text/plain": [
              "array([0, 1], dtype=object)"
            ]
          },
          "metadata": {
            "tags": []
          },
          "execution_count": 49
        }
      ]
    },
    {
      "cell_type": "markdown",
      "metadata": {
        "id": "prZfK1Yr-Nj1",
        "colab_type": "text"
      },
      "source": [
        "`Now we can create our model using our training data. In creating the model, I will use the **TF-IDF** as the vectorizer and                                \n",
        "the **Stochastic Gradient Descent** algorithm as the classifier. We found these methods and the parameters in the method using grid search.`"
      ]
    },
    {
      "cell_type": "code",
      "metadata": {
        "id": "neqNs5zN-vyb",
        "colab_type": "code",
        "colab": {}
      },
      "source": [
        "from sklearn.metrics import confusion_matrix\n",
        "from sklearn.model_selection import cross_val_score\n",
        "from sklearn.metrics import accuracy_score\n",
        "from sklearn.neural_network import MLPClassifier\n",
        "from sklearn.feature_extraction.text import TfidfVectorizer\n",
        "from sklearn.linear_model import SGDClassifier"
      ],
      "execution_count": 0,
      "outputs": []
    },
    {
      "cell_type": "code",
      "metadata": {
        "id": "nC-iGyD2Nw23",
        "colab_type": "code",
        "colab": {}
      },
      "source": [
        "#grid search result\n",
        "vectorizer = TfidfVectorizer(analyzer='word',\n",
        "                             ngram_range=(1,2),\n",
        "                             max_features=50000,\n",
        "                             max_df=0.5,\n",
        "                             use_idf=True, norm='l2') \n",
        "\n",
        "\n",
        "counts = vectorizer.fit_transform(X_train)\n",
        "\n",
        "vocab = vectorizer.vocabulary_\n",
        "classifier = SGDClassifier(alpha=1e-05,max_iter=50,penalty='elasticnet')\n",
        "targets = y_train\n",
        "classifier = classifier.fit(counts, targets)\n",
        "example_counts = vectorizer.transform(X_test)\n",
        "predictions = classifier.predict(example_counts)"
      ],
      "execution_count": 0,
      "outputs": []
    },
    {
      "cell_type": "markdown",
      "metadata": {
        "id": "Bro3-avw-_YZ",
        "colab_type": "text"
      },
      "source": [
        "`Let's examine the accuracy, precision, recall and f1 results.`"
      ]
    },
    {
      "cell_type": "code",
      "metadata": {
        "id": "d6SMTgen_EiT",
        "colab_type": "code",
        "colab": {}
      },
      "source": [
        "from sklearn.metrics import precision_score\n",
        "from sklearn.metrics import recall_score\n",
        "from sklearn.metrics import classification_report"
      ],
      "execution_count": 0,
      "outputs": []
    },
    {
      "cell_type": "code",
      "metadata": {
        "id": "-sMtoJiUNw75",
        "colab_type": "code",
        "colab": {
          "base_uri": "https://localhost:8080/",
          "height": 187
        },
        "outputId": "50288b34-b816-4a97-fa66-fbaa646fb6de"
      },
      "source": [
        "#Model Evaluation\n",
        "acc = accuracy_score(y_test, predictions, normalize=True)\n",
        "hit = precision_score(y_test, predictions, average=None,labels=classes)\n",
        "capture = recall_score(y_test, predictions, average=None,labels=classes)\n",
        "print('Model Accuracy:%.2f'%acc)\n",
        "print(classification_report(y_test, predictions))"
      ],
      "execution_count": 53,
      "outputs": [
        {
          "output_type": "stream",
          "text": [
            "Model Accuracy:0.79\n",
            "              precision    recall  f1-score   support\n",
            "\n",
            "           0       0.78      0.81      0.80       139\n",
            "           1       0.80      0.76      0.78       136\n",
            "\n",
            "    accuracy                           0.79       275\n",
            "   macro avg       0.79      0.79      0.79       275\n",
            "weighted avg       0.79      0.79      0.79       275\n",
            "\n"
          ],
          "name": "stdout"
        }
      ]
    },
    {
      "cell_type": "markdown",
      "metadata": {
        "id": "190j1Yce_NWj",
        "colab_type": "text"
      },
      "source": [
        "`As we have seen, the success of our model was 79%. Now let's look at the confusion matrix, where we can see more clearly how accurate our estimates are.`"
      ]
    },
    {
      "cell_type": "code",
      "metadata": {
        "id": "mLVhyycMNxEF",
        "colab_type": "code",
        "colab": {}
      },
      "source": [
        "#source: https://www.kaggle.com/grfiv4/plot-a-confusion-matrix\n",
        "import itertools\n",
        "def plot_confusion_matrix(cm, classes,\n",
        "                          normalize=False,\n",
        "                          title='Confusion matrix',\n",
        "                          cmap=plt.cm.Blues):\n",
        "    \"\"\"\n",
        "    This function prints and plots the confusion matrix.\n",
        "    Normalization can be applied by setting `normalize=True`.\n",
        "    \"\"\"\n",
        "    if normalize:\n",
        "        cm = cm.astype('float') / cm.sum(axis=1)[:, np.newaxis]\n",
        "        #print(\"Normalized confusion matrix\")\n",
        "    else:\n",
        "        print()\n",
        "    plt.imshow(cm, interpolation='nearest', cmap=cmap, aspect='auto')\n",
        "    plt.title(title)\n",
        "    plt.colorbar()\n",
        "    tick_marks = np.arange(len(classes))\n",
        "    plt.xticks(tick_marks, classes, rotation=45)\n",
        "    plt.yticks(tick_marks, classes)\n",
        "    fmt = '.2f' if normalize else 'd'\n",
        "    thresh = cm.max() / 2.\n",
        "    for i, j in itertools.product(range(cm.shape[0]), range(cm.shape[1])):\n",
        "        plt.text(j, i, format(cm[i, j], fmt),\n",
        "                 horizontalalignment=\"center\",\n",
        "                 color=\"white\" if cm[i, j] > thresh else \"black\")\n",
        "    plt.tight_layout()\n",
        "    plt.ylabel('True label')\n",
        "    plt.xlabel('Predicted label')\n",
        "    plt.figure(figsize=(150,100))"
      ],
      "execution_count": 0,
      "outputs": []
    },
    {
      "cell_type": "code",
      "metadata": {
        "id": "MiYNxZTW_4R_",
        "colab_type": "code",
        "colab": {
          "base_uri": "https://localhost:8080/",
          "height": 51
        },
        "outputId": "55943bf9-91aa-4945-d998-93f6a41b5899"
      },
      "source": [
        "# Compute confusion matrix   (check the performance of the model)\n",
        "cnf_matrix = confusion_matrix(y_test, predictions,classes)\n",
        "cnf_matrix"
      ],
      "execution_count": 56,
      "outputs": [
        {
          "output_type": "execute_result",
          "data": {
            "text/plain": [
              "array([[113,  26],\n",
              "       [ 32, 104]])"
            ]
          },
          "metadata": {
            "tags": []
          },
          "execution_count": 56
        }
      ]
    },
    {
      "cell_type": "code",
      "metadata": {
        "id": "Ye5La0A0AI1z",
        "colab_type": "code",
        "colab": {
          "base_uri": "https://localhost:8080/",
          "height": 34
        },
        "outputId": "f8324b45-6bf3-4362-c207-d7c4ae9d05e9"
      },
      "source": [
        "np.set_printoptions(precision=2)\n",
        "class_names = range(1,classes.size+1)\n",
        "class_names"
      ],
      "execution_count": 57,
      "outputs": [
        {
          "output_type": "execute_result",
          "data": {
            "text/plain": [
              "range(1, 3)"
            ]
          },
          "metadata": {
            "tags": []
          },
          "execution_count": 57
        }
      ]
    },
    {
      "cell_type": "code",
      "metadata": {
        "id": "m2vbtRMTNxT5",
        "colab_type": "code",
        "colab": {
          "base_uri": "https://localhost:8080/",
          "height": 345
        },
        "outputId": "486ed1ca-9303-4197-cd8a-fec781316542"
      },
      "source": [
        "\n",
        "\n",
        "# Plot non-normalized confusion matrix\n",
        "plt.figure()\n",
        "plot_confusion_matrix(cnf_matrix, classes=class_names,title='Confusion matrix, without normalization')\n",
        "classInfo = pd.DataFrame(data=[])\n",
        "for i in range(0,classes.size):\n",
        "    classInfo = classInfo.append([[classes[i],i+1]],ignore_index=True)\n",
        "classInfo.columns=['Category','Index']\n"
      ],
      "execution_count": 59,
      "outputs": [
        {
          "output_type": "stream",
          "text": [
            "\n"
          ],
          "name": "stdout"
        },
        {
          "output_type": "display_data",
          "data": {
            "image/png": "[encoded data removed]",
            "text/plain": [
              "<Figure size 432x288 with 2 Axes>"
            ]
          },
          "metadata": {
            "tags": []
          }
        },
        {
          "output_type": "display_data",
          "data": {
            "text/plain": [
              "<Figure size 10800x7200 with 0 Axes>"
            ]
          },
          "metadata": {
            "tags": []
          }
        }
      ]
    },
    {
      "cell_type": "code",
      "metadata": {
        "id": "5nipzro7NxRI",
        "colab_type": "code",
        "colab": {
          "base_uri": "https://localhost:8080/",
          "height": 111
        },
        "outputId": "e619786e-3650-4b7b-82c5-4d130f45c308"
      },
      "source": [
        "classInfo"
      ],
      "execution_count": 60,
      "outputs": [
        {
          "output_type": "execute_result",
          "data": {
            "text/html": [
              "<div>\n",
              "<style scoped>\n",
              "    .dataframe tbody tr th:only-of-type {\n",
              "        vertical-align: middle;\n",
              "    }\n",
              "\n",
              "    .dataframe tbody tr th {\n",
              "        vertical-align: top;\n",
              "    }\n",
              "\n",
              "    .dataframe thead th {\n",
              "        text-align: right;\n",
              "    }\n",
              "</style>\n",
              "<table border=\"1\" class=\"dataframe\">\n",
              "  <thead>\n",
              "    <tr style=\"text-align: right;\">\n",
              "      <th></th>\n",
              "      <th>Category</th>\n",
              "      <th>Index</th>\n",
              "    </tr>\n",
              "  </thead>\n",
              "  <tbody>\n",
              "    <tr>\n",
              "      <th>0</th>\n",
              "      <td>0</td>\n",
              "      <td>1</td>\n",
              "    </tr>\n",
              "    <tr>\n",
              "      <th>1</th>\n",
              "      <td>1</td>\n",
              "      <td>2</td>\n",
              "    </tr>\n",
              "  </tbody>\n",
              "</table>\n",
              "</div>"
            ],
            "text/plain": [
              "   Category  Index\n",
              "0         0      1\n",
              "1         1      2"
            ]
          },
          "metadata": {
            "tags": []
          },
          "execution_count": 60
        }
      ]
    },
    {
      "cell_type": "code",
      "metadata": {
        "id": "tOvR4UWSNxPH",
        "colab_type": "code",
        "colab": {}
      },
      "source": [
        ""
      ],
      "execution_count": 0,
      "outputs": []
    },
    {
      "cell_type": "code",
      "metadata": {
        "id": "7kXSh0lpNxNP",
        "colab_type": "code",
        "colab": {}
      },
      "source": [
        ""
      ],
      "execution_count": 0,
      "outputs": []
    },
    {
      "cell_type": "code",
      "metadata": {
        "id": "mHVDCf8aNxLe",
        "colab_type": "code",
        "colab": {}
      },
      "source": [
        ""
      ],
      "execution_count": 0,
      "outputs": []
    },
    {
      "cell_type": "code",
      "metadata": {
        "id": "0ROIuLbiNxJM",
        "colab_type": "code",
        "colab": {}
      },
      "source": [
        ""
      ],
      "execution_count": 0,
      "outputs": []
    },
    {
      "cell_type": "code",
      "metadata": {
        "id": "btM_SVaUNxBe",
        "colab_type": "code",
        "colab": {}
      },
      "source": [
        ""
      ],
      "execution_count": 0,
      "outputs": []
    },
    {
      "cell_type": "code",
      "metadata": {
        "id": "_xFBeuzGNwVK",
        "colab_type": "code",
        "colab": {}
      },
      "source": [
        ""
      ],
      "execution_count": 0,
      "outputs": []
    },
    {
      "cell_type": "code",
      "metadata": {
        "id": "8kWc-JrjMpN4",
        "colab_type": "code",
        "colab": {}
      },
      "source": [
        ""
      ],
      "execution_count": 0,
      "outputs": []
    },
    {
      "cell_type": "code",
      "metadata": {
        "id": "X1HUgLx-53aE",
        "colab_type": "code",
        "colab": {}
      },
      "source": [
        ""
      ],
      "execution_count": 0,
      "outputs": []
    },
    {
      "cell_type": "markdown",
      "metadata": {
        "id": "K0sQo3Oy54BJ",
        "colab_type": "text"
      },
      "source": [
        "#Pandas  groupBy()  property"
      ]
    },
    {
      "cell_type": "code",
      "metadata": {
        "id": "oJ0uF0_KMpGe",
        "colab_type": "code",
        "colab": {
          "base_uri": "https://localhost:8080/",
          "height": 136
        },
        "outputId": "215133bb-c45f-4f32-a416-8f7d95c7cdf2"
      },
      "source": [
        "import pandas as pd\n",
        "df = pd.DataFrame({'A': ['one', 'one', 'two', 'three', 'three', 'one'], 'B': range(6)})\n",
        "print(df)"
      ],
      "execution_count": 20,
      "outputs": [
        {
          "output_type": "stream",
          "text": [
            "       A  B\n",
            "0    one  0\n",
            "1    one  1\n",
            "2    two  2\n",
            "3  three  3\n",
            "4  three  4\n",
            "5    one  5\n"
          ],
          "name": "stdout"
        }
      ]
    },
    {
      "cell_type": "code",
      "metadata": {
        "id": "UR0Wib4H4rMW",
        "colab_type": "code",
        "colab": {
          "base_uri": "https://localhost:8080/",
          "height": 272
        },
        "outputId": "203bf16d-6cff-4ad2-88bd-d03c30ef04f4"
      },
      "source": [
        "grouped_df = df.groupby('A')\n",
        "\n",
        "for key, item in grouped_df:\n",
        "    print(grouped_df.get_group(key), \"\\n\\n\")"
      ],
      "execution_count": 22,
      "outputs": [
        {
          "output_type": "stream",
          "text": [
            "     A  B\n",
            "0  one  0\n",
            "1  one  1\n",
            "5  one  5 \n",
            "\n",
            "\n",
            "       A  B\n",
            "3  three  3\n",
            "4  three  4 \n",
            "\n",
            "\n",
            "     A  B\n",
            "2  two  2 \n",
            "\n",
            "\n"
          ],
          "name": "stdout"
        }
      ]
    },
    {
      "cell_type": "code",
      "metadata": {
        "id": "Hl2VTdl44rIv",
        "colab_type": "code",
        "colab": {
          "base_uri": "https://localhost:8080/",
          "height": 173
        },
        "outputId": "b23ff20c-cc1f-4ce0-fbde-d264ec0a21e2"
      },
      "source": [
        "gb = df.groupby(\"A\")\n",
        "gb.count()"
      ],
      "execution_count": 25,
      "outputs": [
        {
          "output_type": "execute_result",
          "data": {
            "text/html": [
              "<div>\n",
              "<style scoped>\n",
              "    .dataframe tbody tr th:only-of-type {\n",
              "        vertical-align: middle;\n",
              "    }\n",
              "\n",
              "    .dataframe tbody tr th {\n",
              "        vertical-align: top;\n",
              "    }\n",
              "\n",
              "    .dataframe thead th {\n",
              "        text-align: right;\n",
              "    }\n",
              "</style>\n",
              "<table border=\"1\" class=\"dataframe\">\n",
              "  <thead>\n",
              "    <tr style=\"text-align: right;\">\n",
              "      <th></th>\n",
              "      <th>B</th>\n",
              "    </tr>\n",
              "    <tr>\n",
              "      <th>A</th>\n",
              "      <th></th>\n",
              "    </tr>\n",
              "  </thead>\n",
              "  <tbody>\n",
              "    <tr>\n",
              "      <th>one</th>\n",
              "      <td>3</td>\n",
              "    </tr>\n",
              "    <tr>\n",
              "      <th>three</th>\n",
              "      <td>2</td>\n",
              "    </tr>\n",
              "    <tr>\n",
              "      <th>two</th>\n",
              "      <td>1</td>\n",
              "    </tr>\n",
              "  </tbody>\n",
              "</table>\n",
              "</div>"
            ],
            "text/plain": [
              "       B\n",
              "A       \n",
              "one    3\n",
              "three  2\n",
              "two    1"
            ]
          },
          "metadata": {
            "tags": []
          },
          "execution_count": 25
        }
      ]
    },
    {
      "cell_type": "code",
      "metadata": {
        "id": "W3PdPoPC4rBA",
        "colab_type": "code",
        "colab": {
          "base_uri": "https://localhost:8080/",
          "height": 221
        },
        "outputId": "a131f5be-5e29-4896-df7d-767089b86e28"
      },
      "source": [
        "for name_of_the_group, group in gb:\n",
        "    print (name_of_the_group)\n",
        "    print (group)"
      ],
      "execution_count": 27,
      "outputs": [
        {
          "output_type": "stream",
          "text": [
            "one\n",
            "     A  B\n",
            "0  one  0\n",
            "1  one  1\n",
            "5  one  5\n",
            "three\n",
            "       A  B\n",
            "3  three  3\n",
            "4  three  4\n",
            "two\n",
            "     A  B\n",
            "2  two  2\n"
          ],
          "name": "stdout"
        }
      ]
    }
  ]
}
