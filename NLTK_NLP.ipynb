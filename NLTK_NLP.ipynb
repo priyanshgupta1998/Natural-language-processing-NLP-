{
  "nbformat": 4,
  "nbformat_minor": 0,
  "metadata": {
    "colab": {
      "name": "NLTK_NLP.ipynb",
      "version": "0.3.2",
      "provenance": [],
      "collapsed_sections": [],
      "include_colab_link": true
    },
    "kernelspec": {
      "name": "python3",
      "display_name": "Python 3"
    },
    "accelerator": "GPU"
  },
  "cells": [
    {
      "cell_type": "markdown",
      "metadata": {
        "id": "view-in-github",
        "colab_type": "text"
      },
      "source": [
        "<a href=\"https://colab.research.google.com/github/priyanshgupta1998/Natural-language-processing-NLP-/blob/master/NLTK_NLP.ipynb\" target=\"_parent\"><img src=\"https://colab.research.google.com/assets/colab-badge.svg\" alt=\"Open In Colab\"/></a>"
      ]
    },
    {
      "cell_type": "code",
      "metadata": {
        "id": "sJwVrzxQmRao",
        "colab_type": "code",
        "colab": {}
      },
      "source": [
        ""
      ],
      "execution_count": 0,
      "outputs": []
    },
    {
      "cell_type": "markdown",
      "metadata": {
        "id": "BLPKclTzmTHb",
        "colab_type": "text"
      },
      "source": [
        "#Stemming and Lemmatization with Python NLTK\n",
        "This is a demonstration of stemming and lemmatization for the 17 languages supported by the NLTK 2.0.4 stem package.   \n",
        "Stemming is a process of removing and replacing word suffixes to arrive at a common root form of the word.    \n",
        "\n",
        "\n",
        "For stemming English words with NLTK, you can choose between the **PorterStemmer** or the **LancasterStemmer**.    \n",
        "\n",
        " The Porter Stemming Algorithm is the oldest stemming algorithm supported in NLTK.    \n",
        " The Lancaster Stemming Algorithm is much newer and can be more aggressive than the Porter stemming algorithm.    \n",
        " \n",
        "The WordNet Lemmatizer uses the WordNet Database to lookup lemmas. Lemmas differ from stems in that a lemma is a canonical form of the word, while a stem may not be a real word.\n",
        "\n",
        "##Non-English Stemmers\n",
        "Stemming for Portuguese is available in NLTK with the **RSLPStemmer** and also with the **SnowballStemmer**. Arabic stemming is supported with the **ISRIStemmer**.\n",
        "\n",
        "Snowball is actually a language for creating stemmers. The NLTK Snowball stemmer currently supports the following languages:   \n",
        "Danish\n",
        "Dutch\n",
        "English\n",
        "Finnish\n",
        "French\n",
        "German\n",
        "Hungarian\n",
        "Italian\n",
        "Norwegian\n",
        "Porter\n",
        "Portuguese\n",
        "Romanian\n",
        "Russian\n",
        "Spanish\n",
        "Swedish"
      ]
    },
    {
      "cell_type": "code",
      "metadata": {
        "id": "T5mSKpQ8mRde",
        "colab_type": "code",
        "colab": {
          "base_uri": "https://localhost:8080/",
          "height": 272
        },
        "outputId": "51b21c77-606e-4aa6-8ae1-7b0e0c2f5020"
      },
      "source": [
        "from nltk import wordpunct_tokenize\n",
        "wordpunct_tokenize(\"That's thirty minutes away. I'll be there in ten.\")"
      ],
      "execution_count": 1,
      "outputs": [
        {
          "output_type": "execute_result",
          "data": {
            "text/plain": [
              "['That',\n",
              " \"'\",\n",
              " 's',\n",
              " 'thirty',\n",
              " 'minutes',\n",
              " 'away',\n",
              " '.',\n",
              " 'I',\n",
              " \"'\",\n",
              " 'll',\n",
              " 'be',\n",
              " 'there',\n",
              " 'in',\n",
              " 'ten',\n",
              " '.']"
            ]
          },
          "metadata": {
            "tags": []
          },
          "execution_count": 1
        }
      ]
    },
    {
      "cell_type": "code",
      "metadata": {
        "id": "SaK_bJvNn4LE",
        "colab_type": "code",
        "colab": {
          "base_uri": "https://localhost:8080/",
          "height": 68
        },
        "outputId": "2f8df2c2-dfef-48fd-97b0-f0a914086fc7"
      },
      "source": [
        "import nltk\n",
        "nltk.download('stopwords')"
      ],
      "execution_count": 4,
      "outputs": [
        {
          "output_type": "stream",
          "text": [
            "[nltk_data] Downloading package stopwords to /root/nltk_data...\n",
            "[nltk_data]   Unzipping corpora/stopwords.zip.\n"
          ],
          "name": "stdout"
        },
        {
          "output_type": "execute_result",
          "data": {
            "text/plain": [
              "True"
            ]
          },
          "metadata": {
            "tags": []
          },
          "execution_count": 4
        }
      ]
    },
    {
      "cell_type": "code",
      "metadata": {
        "id": "pwsM3bcsmRhT",
        "colab_type": "code",
        "colab": {
          "base_uri": "https://localhost:8080/",
          "height": 71
        },
        "outputId": "4b2c2532-e73e-41fe-d14a-1c3e415f31bd"
      },
      "source": [
        "from nltk.corpus import stopwords\n",
        "print(len(stopwords.fileids()))\n",
        "print(stopwords.fileids())"
      ],
      "execution_count": 9,
      "outputs": [
        {
          "output_type": "stream",
          "text": [
            "21\n",
            "['arabic', 'azerbaijani', 'danish', 'dutch', 'english', 'finnish', 'french', 'german', 'greek', 'hungarian', 'indonesian', 'italian', 'kazakh', 'nepali', 'norwegian', 'portuguese', 'romanian', 'russian', 'spanish', 'swedish', 'turkish']\n"
          ],
          "name": "stdout"
        }
      ]
    },
    {
      "cell_type": "code",
      "metadata": {
        "id": "O0yI9DL6pKG7",
        "colab_type": "code",
        "colab": {}
      },
      "source": [
        " text = '''\n",
        "    There's a passage I got memorized. Ezekiel 25:17. \"The path of the righteous man is beset on all sides\\\n",
        "    by the inequities of the selfish and the tyranny of evil men. Blessed is he who, in the name of charity\\\n",
        "    and good will, shepherds the weak through the valley of the darkness, for he is truly his brother's keeper\\\n",
        "    and the finder of lost children. And I will strike down upon thee with great vengeance and furious anger\\\n",
        "    those who attempt to poison and destroy My brothers. And you will know I am the Lord when I lay My vengeance\\\n",
        "    upon you.\" Now... I been sayin' that shit for years. And if you ever heard it, that meant your ass. You'd\\\n",
        "    be dead right now. I never gave much thought to what it meant. I just thought it was a cold-blooded thing\\\n",
        "    to say to a motherfucker before I popped a cap in his ass. But I saw some shit this mornin' made me think\\\n",
        "    twice. See, now I'm thinking: maybe it means you're the evil man. And I'm the righteous man. And Mr.\\\n",
        "    9mm here... he's the shepherd protecting my righteous ass in the valley of darkness. Or it could mean\\\n",
        "    you're the righteous man and I'm the shepherd and it's the world that's evil and selfish. And I'd like\\\n",
        "    that. But that shit ain't the truth. The truth is you're the weak. And I'm the tyranny of evil men.\\\n",
        "    But I'm tryin', Ringo. I'm tryin' real hard to be the shepherd.\n",
        "    '''"
      ],
      "execution_count": 0,
      "outputs": []
    },
    {
      "cell_type": "code",
      "metadata": {
        "id": "7vvKUcppnx8T",
        "colab_type": "code",
        "colab": {
          "base_uri": "https://localhost:8080/",
          "height": 54
        },
        "outputId": "cbe1b450-d41f-4c65-81cd-1a26f086a2f9"
      },
      "source": [
        "languages_ratios = {}\n",
        "tokens = wordpunct_tokenize(text)\n",
        "words = [word.lower() for word in tokens]\n",
        "print(words)"
      ],
      "execution_count": 13,
      "outputs": [
        {
          "output_type": "stream",
          "text": [
            "['there', \"'\", 's', 'a', 'passage', 'i', 'got', 'memorized', '.', 'ezekiel', '25', ':', '17', '.', '\"', 'the', 'path', 'of', 'the', 'righteous', 'man', 'is', 'beset', 'on', 'all', 'sides', 'by', 'the', 'inequities', 'of', 'the', 'selfish', 'and', 'the', 'tyranny', 'of', 'evil', 'men', '.', 'blessed', 'is', 'he', 'who', ',', 'in', 'the', 'name', 'of', 'charity', 'and', 'good', 'will', ',', 'shepherds', 'the', 'weak', 'through', 'the', 'valley', 'of', 'the', 'darkness', ',', 'for', 'he', 'is', 'truly', 'his', 'brother', \"'\", 's', 'keeper', 'and', 'the', 'finder', 'of', 'lost', 'children', '.', 'and', 'i', 'will', 'strike', 'down', 'upon', 'thee', 'with', 'great', 'vengeance', 'and', 'furious', 'anger', 'those', 'who', 'attempt', 'to', 'poison', 'and', 'destroy', 'my', 'brothers', '.', 'and', 'you', 'will', 'know', 'i', 'am', 'the', 'lord', 'when', 'i', 'lay', 'my', 'vengeance', 'upon', 'you', '.\"', 'now', '...', 'i', 'been', 'sayin', \"'\", 'that', 'shit', 'for', 'years', '.', 'and', 'if', 'you', 'ever', 'heard', 'it', ',', 'that', 'meant', 'your', 'ass', '.', 'you', \"'\", 'd', 'be', 'dead', 'right', 'now', '.', 'i', 'never', 'gave', 'much', 'thought', 'to', 'what', 'it', 'meant', '.', 'i', 'just', 'thought', 'it', 'was', 'a', 'cold', '-', 'blooded', 'thing', 'to', 'say', 'to', 'a', 'motherfucker', 'before', 'i', 'popped', 'a', 'cap', 'in', 'his', 'ass', '.', 'but', 'i', 'saw', 'some', 'shit', 'this', 'mornin', \"'\", 'made', 'me', 'think', 'twice', '.', 'see', ',', 'now', 'i', \"'\", 'm', 'thinking', ':', 'maybe', 'it', 'means', 'you', \"'\", 're', 'the', 'evil', 'man', '.', 'and', 'i', \"'\", 'm', 'the', 'righteous', 'man', '.', 'and', 'mr', '.', '9mm', 'here', '...', 'he', \"'\", 's', 'the', 'shepherd', 'protecting', 'my', 'righteous', 'ass', 'in', 'the', 'valley', 'of', 'darkness', '.', 'or', 'it', 'could', 'mean', 'you', \"'\", 're', 'the', 'righteous', 'man', 'and', 'i', \"'\", 'm', 'the', 'shepherd', 'and', 'it', \"'\", 's', 'the', 'world', 'that', \"'\", 's', 'evil', 'and', 'selfish', '.', 'and', 'i', \"'\", 'd', 'like', 'that', '.', 'but', 'that', 'shit', 'ain', \"'\", 't', 'the', 'truth', '.', 'the', 'truth', 'is', 'you', \"'\", 're', 'the', 'weak', '.', 'and', 'i', \"'\", 'm', 'the', 'tyranny', 'of', 'evil', 'men', '.', 'but', 'i', \"'\", 'm', 'tryin', \"',\", 'ringo', '.', 'i', \"'\", 'm', 'tryin', \"'\", 'real', 'hard', 'to', 'be', 'the', 'shepherd', '.']\n"
          ],
          "name": "stdout"
        }
      ]
    },
    {
      "cell_type": "code",
      "metadata": {
        "id": "05C9nCPZpTmf",
        "colab_type": "code",
        "colab": {
          "base_uri": "https://localhost:8080/",
          "height": 394
        },
        "outputId": "c6087001-7552-4198-bf6b-3ed3064e7f5c"
      },
      "source": [
        "for language in stopwords.fileids():\n",
        "    stopwords_set = set(stopwords.words(language))\n",
        "    print(stopwords_set)"
      ],
      "execution_count": 14,
      "outputs": [
        {
          "output_type": "stream",
          "text": [
            "{'إنما', 'أولئك', 'كلاهما', 'إذما', 'سوى', 'بس', 'ذان', 'فإذا', 'إنه', 'لستم', 'لهما', 'أولاء', 'ذه', 'أوه', 'إلا', 'بكم', 'كأنما', 'إليكم', 'ليسوا', 'ثم', 'هنا', 'ثمة', 'مع', 'إليكما', 'ذاك', 'والذي', 'ذواتي', 'فيما', 'كم', 'هذي', 'أيها', 'بهما', 'كيف', 'متى', 'عدا', 'هن', 'يا', 'بعد', 'أي', 'حتى', 'لسن', 'إذن', 'منه', 'تينك', 'أنتم', 'ذي', 'بمن', 'لا', 'اللتان', 'لي', 'إليك', 'لكم', 'شتان', 'أن', 'هذه', 'لئن', 'لستما', 'هنالك', 'بخ', 'بكن', 'إي', 'كي', 'ما', 'هكذا', 'عسى', 'هم', 'دون', 'خلا', 'كلا', 'كأين', 'ذلك', 'ماذا', 'لن', 'إما', 'ذانك', 'أف', 'اللاتي', 'فمن', 'ليس', 'منها', 'سوف', 'ذوا', 'بهن', 'كلتا', 'وإن', 'بي', 'أما', 'تي', 'اللواتي', 'ذو', 'ته', 'بلى', 'كذا', 'تلكم', 'لنا', 'أنى', 'نحن', 'فلا', 'لهن', 'مما', 'ذلكن', 'تلك', 'هذين', 'أنتما', 'إذا', 'مذ', 'بما', 'هؤلاء', 'آي', 'لكيلا', 'حين', 'فيم', 'عليك', 'لوما', 'ولكن', 'ليسا', 'ذينك', 'غير', 'عند', 'بيد', 'هيا', 'آها', 'بهم', 'إليكن', 'هناك', 'تين', 'لكن', 'كل', 'ريث', 'بماذا', 'أو', 'ممن', 'مهما', 'وما', 'ذلكما', 'من', 'منذ', 'هيهات', 'كلما', 'أقل', 'إنا', 'هي', 'قد', 'حيثما', 'ولا', 'نعم', 'أم', 'حاشا', 'هذان', 'الذين', 'ذين', 'إيه', 'عما', 'آه', 'بنا', 'ولو', 'كيفما', 'فإن', 'لما', 'كليهما', 'ذا', 'لدى', 'ها', 'ليت', 'بك', 'بها', 'مه', 'إن', 'فيه', 'هاتي', 'كما', 'به', 'لهم', 'لكنما', 'أكثر', 'أنت', 'عل', 'بعض', 'إذ', 'لاسيما', 'بل', 'اللتين', 'عليه', 'الذي', 'هاته', 'لكي', 'له', 'أنتن', 'كليكما', 'لولا', 'هيت', 'ليستا', 'وإذ', 'بكما', 'هل', 'ومن', 'وهو', 'اللائي', 'فيها', 'كذلك', 'في', 'لعل', 'إلى', 'والذين', 'أينما', 'نحو', 'اللذان', 'على', 'لك', 'هاتين', 'ذواتا', 'تلكما', 'ألا', 'اللتيا', 'عن', 'هاتان', 'لستن', 'أين', 'كأي', 'لو', 'لها', 'لست', 'حيث', 'كيت', 'هما', 'هو', 'ليست', 'هلا', 'حبذا', 'التي', 'اللذين', 'ذات', 'لكما', 'بين', 'هاهنا', 'هذا', 'هاك', 'وإذا', 'لم', 'أنا', 'كأن', 'ذلكم', 'لسنا'}\n",
            "{'kim', 'dörd', 'o', 'həm', 'öz', 'etmək', 'saniyə', 'bəzi', 'ondan', 'bəy', 'edən', 'sadəcə', 'əslində', 'ad', 'haqqında', 'istifadə', 'yoxsa', 'biraz', 'səksən', 'cu', 'dək', 'bütün', 'bir', 'buna', 'ay', 'da', 'bəli', 'bəzən', 'faiz', 'daha', 'mənə', 'bizim', 'çox', 'bundan', 'və', 'yox', 'biri', 'dir', 'kimi', 'otuz', 'qədər', 'xeyr', 'olaraq', 'mirşey', 'az', 'cı', 'doqsan', 'yalnız', 'zaman', 'altmış', 'ı', 'qırx', 'xanım', 'indi', 'niyə', 'yaxşı', 'onlar', 'in', 'obirisi', 'kimə', 'onun', 'səhv', 'bunun', 'özü', 'oradan', 'sonra', 'a', 'əlbəttə', 'etdi', 'olduğu', 'idi', 'olur', 'lap', 'ya', 'sizin', 'bunu', 'onsuzda', 'harada', 'yoxdur', 'var', 'ə', 'on', 'birşey', 'üçün', 'görə', 'hə', 'olsun', 'bilər', 'təəssüf', 'buradan', 'ü', 'yəni', 'ci', 'onu', 'heç', 'edir', 'ən', 'saat', 'ha', 'dedi', 'il', 'həmin', 'sənə', 'də', 'yenə', 'iyirmi', 'iki', 'gilə', 'olar', 'bizlər', 'bax', 'qarşı', 'isə', 'nə', 'həmişə', 'xan', 'hər', 'üç', 'altı', 'siz', 'bu', 'dən', 'elə', 'amma', 'mən', 'ona', 'səkkiz', 'sənin', 'bunların', 'cü', 'əgər', 'yüz', 'əlli', 'bəlkə', 'etmə', 'onların ', 'olmadı', 'ki', 'onlardan', 'sizlər', 'sən', 'olan', 'of', 'çünki', 'ildə', 'et', 'belə', 'ilk', 'düz', 'artıq', 'deyil', 'nəhayət', 'olmuşdur', 'arasında', 'biz', 'doqquz', 'beş', 'dəqiqə', 'oldu', 'olmaz', 'məhz', 'lakin', 'ilə', 'yeddi', 'yetmiş'}\n",
            "{'mod', 'alle', 'meget', 'er', 'at', 'havde', 'du', 'også', 'ham', 'vil', 'ad', 'har', 'have', 'hvor', 'min', 'med', 'nu', 'da', 'om', 'han', 'dem', 'den', 'i', 'vor', 'været', 'ud', 'thi', 'ned', 'man', 'skal', 'ville', 'blev', 'op', 'dig', 'men', 'dette', 'der', 'var', 'her', 'jeg', 'skulle', 'end', 'af', 'mit', 'sit', 'fra', 'for', 'det', 'når', 'jo', 'hans', 'en', 'på', 'deres', 'ind', 'disse', 'kunne', 'jer', 'alt', 'bliver', 'efter', 'dog', 'sådan', 'mine', 'mange', 'sine', 'hos', 'de', 'ikke', 'til', 'os', 'blive', 'og', 'noget', 'under', 'hun', 'sig', 'selv', 'hvad', 'sin', 'anden', 'hende', 'hvis', 'et', 'over', 'hendes', 'mig', 'nogle', 'være', 'som', 'vi', 'denne', 'eller', 'din'}\n",
            "{'er', 'doch', 'ja', 'waren', 'mij', 'aan', 'veel', 'kon', 'ge', 'je', 'iemand', 'nu', 'uit', 'wezen', 'om', 'zijn', 'zich', 'dus', 'mijn', 'bij', 'geweest', 'die', 'ook', 'andere', 'hij', 'voor', 'u', 'al', 'naar', 'met', 'ons', 'doen', 'daar', 'hier', 'in', 'te', 'had', 'ik', 'reeds', 'hoe', 'was', 'op', 'onder', 'alles', 'men', 'zij', 'der', 'heeft', 'als', 'haar', 'heb', 'niet', 'nog', 'hem', 'ze', 'moet', 'en', 'is', 'zo', 'wil', 'door', 'omdat', 'worden', 'maar', 'van', 'wat', 'zonder', 'meer', 'eens', 'de', 'geen', 'kan', 'kunnen', 'tegen', 'een', 'dit', 'altijd', 'na', 'tot', 'werd', 'zal', 'hun', 'wie', 'toen', 'het', 'dat', 'ben', 'dan', 'of', 'toch', 'niets', 'want', 'zou', 'over', 'me', 'iets', 'uw', 'deze', 'zelf', 'hebben', 'wordt'}\n",
            "{'be', 'again', 'o', 'their', 'them', 'which', 'not', 't', 'at', 'then', 'here', 'can', \"that'll\", 'to', 'shan', 'ours', 'have', 'its', 'who', 'such', 's', 'been', 'ain', \"shan't\", 'what', 'few', 'were', 'aren', 'i', 'an', 'theirs', 'after', \"she's\", 'having', 'being', 'with', 'than', 'wouldn', \"aren't\", 'wasn', 'don', 'those', 'ma', \"didn't\", 'in', 'by', 'had', 'during', 'themselves', 'above', 'so', 'this', 'now', 'a', \"you're\", 'itself', 'will', 'into', 'was', 'because', 'where', 'that', 'are', \"shouldn't\", \"couldn't\", 'mustn', 'doing', 'his', \"won't\", 'against', 'do', 'hadn', \"hasn't\", 'her', 'but', 'same', 'all', \"you'll\", \"you'd\", 'on', \"should've\", 'only', 'didn', 'yours', \"needn't\", 'for', 'd', \"hadn't\", \"mustn't\", 'yourself', 'no', 'while', 'before', 'did', 'out', 'shouldn', 'until', 'is', 'these', 'very', 'any', 'more', 'he', 'him', 'm', 'weren', 'hers', 'ourselves', 've', \"wasn't\", 'yourselves', \"it's\", 'we', 'some', 'nor', 'y', 'as', 'down', 'isn', 'once', 're', 'they', \"wouldn't\", 'there', 'your', 'myself', 'hasn', 'off', 'am', 'himself', 'under', 'if', 'when', 'she', \"isn't\", \"mightn't\", 'has', 'and', 'our', 'doesn', 'couldn', 'most', 'herself', 'own', 'it', 'too', \"weren't\", 'both', 'of', 'needn', 'whom', 'won', 'through', 'between', \"you've\", 'the', 'other', 'should', 'below', 'further', 'll', \"doesn't\", 'from', 'you', 'over', \"haven't\", 'me', 'just', 'each', 'my', 'why', 'how', 'haven', 'mightn', \"don't\", 'or', 'does', 'about', 'up'}\n",
            "{'noita', 'olivat', 'olisivat', 'näitä', 'keille', 'niiksi', 'mitkä', 'olisi', 'olleet', 'minä', 'tuoksi', 'ne', 'sinulle', 'olisit', 'mutta', 'olit', 'ja', 'häntä', 'emme', 'teitä', 'näihin', 'sinusta', 'näillä', 'meissä', 'miltä', 'teihin', 'jona', 'jolta', 'keiden', 'jotka', 'olin', 'tähän', 'minulta', 'sen', 'sitä', 'sinussa', 'heiltä', 'niissä', 'teiltä', 'näinä', 'näistä', 'tämän', 'olisitte', 'minuun', 'hän', 'jos', 'teistä', 'sinuun', 'minulle', 'teille', 'keillä', 'ollut', 'meille', 'noiksi', 'kenelle', 'joita', 'poikki', 'keneksi', 'tätä', 'nuo', 'meidät', 'sinä', 'sinun', 'meistä', 'eivät', 'heihin', 'olitte', 'kenenä', 'oli', 'jolle', 'mistä', 'noihin', 'joista', 'olette', 'olisin', 'niiden', 'näille', 'hänellä', 'te', 'johon', 'tuolle', 'vai', 'siksi', 'keneltä', 'sinut', 'vaikka', 'keiltä', 'tuolla', 'niihin', 'mille', 'nyt', 'heidän', 'heille', 'missä', 'minua', 'minulla', 'keissä', 'noin', 'joiden', 'noista', 'tuo', 'tuotä', 'tuon', 'joksi', 'kuka', 'meidän', 'siinä', 'minut', 'olen', 'on', 'noilla', 'kenet', 'mukaan', 'meihin', 'kanssa', 'teidät', 'häneen', 'ole', 'täksi', 'mikä', 'josta', 'sinua', 'keinä', 'niin', 'kenestä', 'minkä', 'joka', 'niistä', 'en', 'ei', 'tästä', 'näiltä', 'ketkä', 'koska', 'tuosta', 'he', 'keitä', 'sille', 'jonka', 'kun', 'minun', 'kenen', 'joilta', 'mihin', 'että', 'siitä', 'hänelle', 'niinä', 'meiltä', 'sinulta', 'noille', 'tänä', 'jolla', 'sekä', 'sinulla', 'hänet', 'keihin', 'hänen', 'mitä', 'näiksi', 'meitä', 'noilta', 'tämä', 'sillä', 'niillä', 'heillä', 'jossa', 'miksi', 'joilla', 'kenellä', 'heistä', 'kenessä', 'teidän', 'keistä', 'teissä', 'meillä', 'noissa', 'olet', 'niille', 'olla', 'tuona', 'joille', 'joihin', 'häneltä', 'tuossa', 'näiden', 'tai', 'itse', 'tälle', 'olimme', 'se', 'ette', 'ketä', 'minusta', 'siihen', 'joiksi', 'et', 'joina', 'joissa', 'olemme', 'olisimme', 'jota', 'näissä', 'keiksi', 'me', 'keneen', 'tältä', 'kuin', 'siltä', 'niiltä', 'noiden', 'millä', 'tallä', 'ovat', 'heitä', 'niitä', 'noina', 'tuohon', 'tuolta', 'teillä', 'nämä', 'minussa', 'hänessä', 'yli', 'heidät', 'vaan', 'hänestä', 'tässä', 'heissä'}\n",
            "{'son', 'êtes', 'seras', 'ayez', 'eues', 'la', 't', 'fusses', 'du', 'ne', 'vos', 'c', 'été', 'aviez', 'fût', 'par', 'ont', 'étaient', 'ayants', 'serai', 'qui', 'je', 'ou', 'étais', 'mon', 's', 'fusse', 'au', 'elle', 'sera', 'eussent', 'notre', 'est', 'fussiez', 'ayante', 'lui', 'furent', 'aurai', 'ce', 'eussions', 'ai', 'sur', 'nous', 'soit', 'étiez', 'dans', 'ma', 'eux', 'te', 'sommes', 'ayons', 'tes', 'fûmes', 'avions', 'fut', 'sa', 'étantes', 'que', 'auriez', 'serons', 'n', 'eûtes', 'serais', 'aura', 'eussiez', 'ton', 'aux', 'auras', 'fussent', 'un', 'auront', 'on', 'seriez', 'soyons', 'serez', 'd', 'eusses', 'avait', 'fussions', 'ces', 'moi', 'des', 'fûtes', 'en', 'eus', 'm', 'seraient', 'eurent', 'mais', 'il', 'ayant', 'le', 'étée', 'tu', 'aient', 'aurais', 'sont', 'était', 'y', 'as', 'leur', 'pas', 'vous', 'fus', 'aurez', 'aurons', 'de', 'eue', 'avaient', 'serait', 'pour', 'sois', 'aie', 'eusse', 'seront', 'mes', 'avec', 'suis', 'étants', 'étées', 'j', 'eu', 'avez', 'aurait', 'à', 'qu', 'votre', 'avais', 'ses', 'ait', 'étante', 'ta', 'étant', 'se', 'étions', 'même', 'l', 'une', 'et', 'auraient', 'eûmes', 'étés', 'es', 'ayantes', 'eût', 'me', 'aies', 'soient', 'avons', 'eut', 'soyez', 'serions', 'toi', 'nos', 'aurions'}\n",
            "{'einiges', 'warst', 'alle', 'mir', 'oder', 'hatten', 'er', 'anderm', 'dessen', 'mich', 'über', 'gegen', 'doch', 'ihres', 'du', 'jenen', 'denn', 'etwas', 'waren', 'unser', 'manchen', 'meinem', 'keiner', 'anders', 'jene', 'im', 'wir', 'solches', 'da', 'jedes', 'solcher', 'ihrem', 'unseres', 'keines', 'welcher', 'sonst', 'keinem', 'wirst', 'dort', 'eure', 'welchen', 'dem', 'den', 'nach', 'dir', 'desselben', 'die', 'an', 'jener', 'kein', 'meinen', 'anderer', 'vor', 'andere', 'dann', 'sehr', 'uns', 'wo', 'machen', 'weg', 'indem', 'einigen', 'meiner', 'zu', 'wollen', 'ist', 'vom', 'jedem', 'hier', 'jenem', 'einen', 'habe', 'dieselbe', 'für', 'in', 'demselben', 'können', 'musste', 'wollte', 'sich', 'man', 'deinem', 'war', 'derselben', 'bist', 'ihre', 'so', 'allen', 'damit', 'welche', 'zwischen', 'mein', 'anderr', 'um', 'will', 'seines', 'was', 'ins', 'dein', 'bis', 'alles', 'mancher', 'ihr', 'dasselbe', 'solchem', 'unseren', 'sie', 'dieses', 'nun', 'keine', 'auch', 'der', 'deine', 'das', 'muss', 'als', 'meine', 'dies', 'hin', 'unsere', 'anderen', 'ich', 'von', 'mit', 'euch', 'und', 'sind', 'würden', 'seinen', 'durch', 'des', 'wenn', 'hatte', 'eurem', 'gewesen', 'unserem', 'jede', 'dich', 'nicht', 'manchem', 'einig', 'ihm', 'manches', 'werden', 'deinen', 'welchem', 'jenes', 'ob', 'hat', 'euren', 'ein', 'diesem', 'eine', 'solche', 'zwar', 'auf', 'würde', 'hab', 'jetzt', 'einiger', 'einigem', 'seiner', 'zur', 'euer', 'nichts', 'derer', 'am', 'deines', 'eures', 'jeder', 'während', 'sollte', 'diese', 'seine', 'welches', 'dieser', 'soll', 'einem', 'allem', 'eines', 'anderes', 'daß', 'selbst', 'sondern', 'weiter', 'wie', 'anderem', 'unter', 'hinter', 'meines', 'ihrer', 'kann', 'bei', 'wird', 'ohne', 'solchen', 'einer', 'aber', 'diesen', 'aus', 'wieder', 'es', 'eurer', 'keinen', 'viel', 'deiner', 'werde', 'jeden', 'weil', 'ihren', 'andern', 'ihn', 'einige', 'einmal', 'zum', 'aller', 'ihnen', 'nur', 'könnte', 'bin', 'dieselben', 'also', 'derselbe', 'haben', 'manche', 'dazu', 'noch', 'sein', 'ander', 'denselben', 'seinem'}\n",
            "{'του', 'οὔτε', 'οὗ', 'αυτοσ', 'αυτη', 'οὕτω', 'τοι', 'κι', 'στην', 'μή', 'ὁ', 'γα^', 'αἵ', 'τῆς', 'οἷς', 'εκεινουσ', 'αὖ', 'ποτε', 'ὑμόσ', 'ποιεσ', 'τόν', 'τὴν', 'ὅς', 'αὐτόσ', 'ἵνα', 'παρά', 'ἐστι', 'σὺν', 'οὐχὶ', 'σὸς', 'ομωσ', 'τοῖς', 'εἰμί', 'το', 'τότε', 'ὥς', 'ποῦ', 'ὃς', 'εἴ', 'πωσ', 'τῶν', 'κἀν', 'αἱ', 'μετ', 'καίτοι', 'οτι', 'οὐδεὶς', 'πρὸ', 'ἐκ', 'ὅ', 'εκεινοσ', 'ἐν', 'αν', 'ειστε', 'οἱ', 'οἳ', 'εκεινα', 'τον', 'αυτεσ', 'πρὸς', 'τίς', 'ἐπεὶ', 'αυτοι', 'τοί', 'αυτων', 'ὦ', 'ποιο', 'εἰ', 'κ', 'ὑπ', \"ἀλλ'\", 'δεν', 'ἑαυτοῦ', 'κἂν', 'για', 'γοῦν', 'οὕτωσ', 'τίσ', 'τοῦ', 'καθ', \"δ'\", 'ἀλλ’', 'ἄρα', 'εἴμι', 'εἴτε', 'η', 'ᾧ', 'ειμαι', 'αἳ', 'ἐγὼ', 'οι', 'ἀλλὰ', 'κατά', 'αυτο', 'τοιοῦτοσ', 'ὅτε', 'να', 'ποιοι', 'κατα', 'ἄλλος', 'κατ', 'αυτα', 'των', 'ὅτι', 'οὐ', 'στον', 'ταῖς', 'τὰς', 'με', 'ἀπό', 'ὅστισ', 'μὴ', 'μὲν', 'ποιων', 'ἀπ', 'μη', 'οὐκ', 'διά', 'ποια', 'μετα', 'οὐχ', 'εἰσ', 'τά', 'γα', 'δαίσ', 'ἐγώ', 'τοὺς', 'που', 'ἐπὶ', 'εκεινων', 'επι', 'εἰμὶ', 'ὃ', 'ὡς', 'ενω', 'ισωσ', 'οὐδείσ', 'ἃ', 'τῆσ', 'παρὰ', 'απο', 'εἰς', 'μὴν', 'τις', 'εαν', \"δι'\", 'ποιοσ', 'οὐδέ', 'προ', 'τήν', 'αὐτὸς', 'την', 'μεθ', 'μα', 'ἀλλά', 'ἧς', 'μετὰ', 'μἐν', 'στη', 'τησ', 'γὰρ', 'δέ', 'οὐδὲν', 'μήτε', 'στο', 'κατὰ', 'γάρ', 'δε', 'οὐδὲ', 'εκεινο', 'οὓς', 'οὗτος', 'δὴ', 'ειμαστε', 'τὸν', 'ὑπέρ', 'ἐμὸς', 'πρόσ', 'σὺ', 'αυτουσ', 'ἡ', 'οσο', 'τούσ', 'ἥ', 'καί', 'σόσ', 'τὰ', 'ὑπὸ', 'ο', 'ειναι', 'εισαι', 'παρα', 'τῇ', 'τὸ', 'οὕτως', 'δή', 'ὃν', 'ἀπὸ', 'διὰ', 'πως', 'προσ', 'ἐάν', 'ὅπερ', 'τινα', 'τοτε', 'δ’', 'μετά', 'ἐφ', 'ἔτι', 'οπωσ', 'ὑπό', 'ὡσ', 'ἢ', 'τε', 'δαί', 'ἄλλοσ', 'ἄν', 'σύ', 'εκεινη', 'τί', 'τῷ', 'δὲ', 'ποιουσ', 'μέν', 'σύν', 'αλλα', 'ἐμόσ', 'και', 'τα', 'ἣ', 'γε', 'δαὶς', 'εκεινεσ', 'επ', 'ὅθεν', 'ἂν', 'ὅσ', 'τισ', 'ἐπί', 'ἐὰν', 'ἀφ', 'αντι', 'μην', 'ωσ', 'παρ', 'θα', 'σε', 'ἤ', 'οὖν', 'ἅμα', 'οὗτοσ', 'ὅδε', 'περί', 'τοιοῦτος', 'ὑπὲρ', 'ὥστε', 'καὶ', 'δαὶ', 'τι', 'εκεινοι', 'ὅστις', 'περὶ', 'ἐξ', 'οὐδ', 'τό'}\n",
            "{'ellen', 'be', 'melyek', 'õket', 'vagyis', 'és', 'mintha', 'nekem', 'néhány', 'rá', 'keressünk', 'ne', 'azonban', 'ebben', 'arról', 'így', 'alatt', 'amelyet', 'cikk', 'erre', 'hogy', 'vagy', 'lenni', 'ugyanis', 'voltam', 'õk', 'bár', 'mi', 'jól', 'ehhez', 'ennek', 'általában', 'majd', 's', 'ison', 'annak', 'kell', 'ahhoz', 'aztán', 'sokkal', 'ilyen', 'éppen', 'minden', 'néha', 'már', 'újabb', 'nem', 'meg', 'egész', 'az', 'lenne', 'más', 'mellett', 'után', 'amikor', 'milyen', 'volt', 'azzal', 'magát', 'egyéb', 'emilyen', 'vannak', 'voltunk', 'amíg', 'semmi', 'vagyok', 'aki', 'lehet', 'szerint', 'egy', 'sem', 'volna', 'lehetett', 'elsõ', 'a', 'egyes', 'pedig', 'csak', 'azon', 'ez', 'teljes', 'míg', 'mikor', 'mivel', 'keresztül', 'én', 'szinte', 'cikkek', 'még', 'amely', 'azután', 'ill.', 'ott', 'miért', 'viszont', 'új', 'felé', 'közül', 'e', 'maga', 'ahogy', 'illetve', 'talán', 'mit', 'azok', 'elég', 'ill', 'benne', 'el', 'amelynek', 'össze', 'valami', 'mindent', 'számára', 'ami', 'ezt', 'jobban', 'elõ', 'olyan', 'tovább', 'abban', 'amelyekben', 'persze', 'fel', 'ezek', 'hogyan', 'sokat', 'szemben', 'mindenki', 'van', 'valaki', 'lett', 'másik', 'vele', 'legyen', 'ismét', 'továbbá', 'jó', 'voltak', 'mert', 'kívül', 'azért', 'ezért', 'amelyek', 'nagyon', 'által', 'egyetlen', 'cikkeket', 'itt', 'ilyenkor', 'de', 'belül', 'valamint', 'mint', 'hanem', 'ezen', 'akkor', 'között', 'nagyobb', 'legalább', 'saját', 'akik', 'amit', 'arra', 'egyre', 'lesz', 'újra', 'mindig', 'sok', 'most', 'több', 'mely', 'ki', 'ahol', 'át', 'kellett', 'neki', 'eddig', 'amelyeket', 'való', 'elõtt', 'nélkül', 'õ', 'nincs', 'elõször', 'utána', 'nagy', 'úgy', 'hiszen', 'utolsó', 'azt', 'egyik', 'ezzel', 'ekkor', 'vissza', 'igen', 'tehát', 'amolyan'}\n",
            "{'akan', 'berkenaan', 'punya', 'sekali', 'ini', 'artinya', 'demikian', 'tentu', 'ditunjukkannya', 'membuat', 'bersiap-siap', 'demi', 'dimintai', 'bagian', 'secukupnya', 'keduanya', 'agaknya', 'buat', 'dibuat', 'asal', 'mungkin', 'diperlukannya', 'sekurang-kurangnya', 'bung', 'bawah', 'dikarenakan', 'berjumlah', 'dipergunakan', 'meyakinkan', 'mampu', 'seenaknya', 'lagian', 'dirinya', 'dipertanyakan', 'kembali', 'terbanyak', 'dikatakan', 'diketahui', 'sajalah', 'bapak', 'menunjukkan', 'menuturkan', 'seusai', 'adapun', 'dari', 'benarlah', 'dilakukan', 'juga', 'sebanyak', 'tuturnya', 'baru', 'semakin', 'diketahuinya', 'dimungkinkan', 'mana', 'mereka', 'sinilah', 'cukup', 'andalah', 'mengungkapkan', 'awal', 'berapalah', 'sepanjang', 'merekalah', 'akankah', 'semacam', 'kesampaian', 'dilalui', 'kebetulan', 'akhirnya', 'untuk', 'masih', 'akulah', 'pentingnya', 'tentunya', 'jauh', 'sering', 'menandaskan', 'semata-mata', 'hendaknya', 'diperlihatkan', 'menyatakan', 'pukul', 'betulkah', 'seberapa', 'kalaulah', 'bersama-sama', 'sambil', 'dilihat', 'disampaikan', 'kamilah', 'agar', 'sesuatu', 'nantinya', 'mendatang', 'semampu', 'makanya', 'mengatakannya', 'dong', 'bermacam', 'perlunya', 'per', 'bertutur', 'menunjuki', 'terjadi', 'ungkap', 'diberi', 'terlalu', 'usah', 'kasus', 'tetap', 'sesampai', 'rata', 'katakan', 'dijelaskan', 'inginkan', 'berlangsung', 'misalnya', 'mendatangi', 'sekurangnya', 'tidaklah', 'bulan', 'para', 'berarti', 'waktu', 'lama', 'sebetulnya', 'dia', 'seluruhnya', 'tanpa', 'keadaan', 'meminta', 'merasa', 'siapakah', 'sejak', 'bermaksud', 'sebabnya', 'bakal', 'tiba', 'beginikah', 'manakala', 'menunjuknya', 'hampir', 'sesegera', 'mengerjakan', 'yang', 'bagai', 'inilah', 'sebenarnya', 'dijawab', 'ditambahkan', 'inginkah', 'kapanpun', 'tadi', 'se', 'dahulu', 'semata', 'setengah', 'dikerjakan', 'empat', 'sebaik', 'jadi', 'sempat', 'lain', 'sama', 'ujarnya', 'sedemikian', 'enggaknya', 'harus', 'terakhir', 'lah', 'menuju', 'panjang', 'semuanya', 'mengucapkannya', 'saya', 'diingatkan', 'ditujukan', 'umumnya', 'sangat', 'sekitar', 'mulailah', 'tegas', 'setidaknya', 'berikan', 'paling', 'biasanya', 'jelaskan', 'tinggi', 'dapat', 'depan', 'apatah', 'jadinya', 'meskipun', 'ataukah', 'kelihatannya', 'kami', 'sekaligus', 'harusnya', 'ke', 'seperlunya', 'sebutnya', 'menginginkan', 'mempertanyakan', 'kamulah', 'tambah', 'semisalnya', 'didatangkan', 'mempergunakan', 'pertama-tama', 'tentang', 'menjawab', 'tampaknya', 'berkali-kali', 'seolah', 'sekadarnya', 'diibaratkan', 'toh', 'kelima', 'kamu', 'lagi', 'meyakini', 'tanyakan', 'masalahnya', 'tetapi', 'dini', 'lewat', 'merupakan', 'begini', 'diberikannya', 'kini', 'ibarat', 'mampukah', 'sendiri', 'sesama', 'melihat', 'berlalu', 'seolah-olah', 'sayalah', 'berujar', 'kedua', 'diperbuatnya', 'sekalian', 'mengatakan', 'lima', 'berakhirlah', 'tunjuk', 'bekerja', 'dikatakannya', 'malahan', 'kita', 'pihak', 'semasih', 'ialah', 'karenanya', 'dikira', 'tak', 'tersampaikan', 'kepadanya', 'berkeinginan', 'didapat', 'bermacam-macam', 'kalau', 'segera', 'sudah', 'menanyai', 'belumlah', 'seorang', 'pastilah', 'diungkapkan', 'bagi', 'bagaikan', 'dimulailah', 'cuma', 'yakin', 'nyaris', 'bahwa', 'besar', 'terdapat', 'kitalah', 'siapa', 'sebutlah', 'sekadar', 'seringnya', 'sela', 'tersebutlah', 'ditanyai', 'penting', 'kapan', 'ia', 'terus', 'terjadinya', 'tegasnya', 'lamanya', 'datang', 'walaupun', 'sehingga', 'sekitarnya', 'diri', 'dibuatnya', 'diucapkan', 'memihak', 'jangankan', 'jelaslah', 'pertama', 'tadinya', 'sepertinya', 'diingat', 'supaya', 'teringat', 'mengibaratkannya', 'beginian', 'ingat', 'sedikitnya', 'olehnya', 'berlebihan', 'berakhir', 'terdiri', 'dimulai', 'telah', 'kepada', 'kalian', 'awalnya', 'betul', 'boleh', 'memastikan', 'menyangkut', 'jadilah', 'tandasnya', 'mau', 'tertuju', 'diakhiri', 'diperbuat', 'dan', 'dituturkan', 'mengingat', 'keinginan', 'benarkah', 'sejenak', 'dijelaskannya', 'maka', 'yakni', 'namun', 'segalanya', 'tiga', 'keseluruhan', 'apabila', 'sebab', 'dipastikan', 'disebutkan', 'pada', 'mengibaratkan', 'pertanyaan', 'ataupun', 'tahu', 'jawaban', 'sebegitu', 'belum', 'lanjut', 'daripada', 'mendapat', 'kiranya', 'menantikan', 'sesuatunya', 'dimaksudnya', 'semampunya', 'rasa', 'hanya', 'tertentu', 'persoalan', 'begitukah', 'sedangkan', 'hanyalah', 'hendak', 'kelamaan', 'kata', 'keluar', 'bukanlah', 'pasti', 'memerlukan', 'nah', 'hingga', 'semisal', 'terlihat', 'hendaklah', 'memintakan', 'hari', 'dimulainya', 'minta', 'memperlihatkan', 'sebegini', 'apaan', 'menyeluruh', 'nanti', 'sementara', 'sesudah', 'wong', 'itulah', 'berkehendak', 'bolehkah', 'kenapa', 'sekecil', 'sekarang', 'menanti-nanti', 'ditunjuk', 'waktunya', 'jumlahnya', 'seingat', 'ikut', 'berapapun', 'pantas', 'sekalipun', 'sendirinya', 'masa', 'ada', 'berapa', 'jelas', 'memberi', 'sebut', 'ujar', 'sama-sama', 'sedang', 'menyiapkan', 'bukan', 'agak', 'berada', 'masalah', 'sampai-sampai', 'soalnya', 'wah', 'aku', 'kapankah', 'ditanya', 'biasa', 'dimaksud', 'sudahkah', 'berlainan', 'bahwasanya', 'seketika', 'antar', 'dua', 'mendapatkan', 'pihaknya', 'sewaktu', 'diibaratkannya', 'bagaimanapun', 'akhiri', 'sampaikan', 'siapapun', 'benar', 'mempersoalkan', 'saja', 'menurut', 'ibaratkan', 'katanya', 'bertanya', 'memisalkan', 'memungkinkan', 'disebutkannya', 'naik', 'keterlaluan', 'terdahulu', 'begitupun', 'berkata', 'adalah', 'ketika', 'bagaimanakah', 'sampai', 'tambahnya', 'secara', 'sebagainya', 'diucapkannya', 'lalu', 'tentulah', 'berbagai', 'mulanya', 'bisa', 'kira-kira', 'setiba', 'tahun', 'setibanya', 'jikalau', 'melalui', 'terlebih', 'terasa', 'diinginkan', 'kinilah', 'karena', 'diantaranya', 'berturut', 'berakhirnya', 'bertanya-tanya', 'bukankah', 'mengucapkan', 'sebelum', 'ternyata', 'sedikit', 'diberikan', 'hal', 'ibu', 'misal', 'suatu', 'jelasnya', 'beri', 'sebaik-baiknya', 'padanya', 'kan', 'kemungkinan', 'kala', 'begitu', 'semula', 'tidak', 'ingin', 'pula', 'menaiki', 'wahai', 'digunakan', 'anda', 'cukuplah', 'berdatangan', 'ibaratnya', 'diantara', 'menjadi', 'berturut-turut', 'ditegaskan', 'memulai', 'sepihak', 'usai', 'setiap', 'mengakhiri', 'malah', 'sebelumnya', 'walau', 'soal', 'sendirian', 'ditunjuki', 'padahal', 'luar', 'menanya', 'mengingatkan', 'perlukah', 'ditandaskan', 'mirip', 'bolehlah', 'seperti', 'bermula', 'kelihatan', 'disini', 'diperlukan', 'rupanya', 'apa', 'dimaksudkannya', 'lanjutnya', 'mengetahui', 'masing', 'semasa', 'kira', 'tandas', 'bila', 'memang', 'bisakah', 'belakang', 'gunakan', 'belakangan', 'diperkirakan', 'tampak', 'diakhirinya', 'memperkirakan', 'tapi', 'adanya', 'sekali-kali', 'itu', 'pak', 'memberikan', 'amatlah', 'atau', 'menanyakan', 'menunjuk', 'tempat', 'lainnya', 'sebagian', 'pun', 'bakalan', 'menjelaskan', 'tutur', 'antaranya', 'menanti', 'mengira', 'perlu', 'menambahkan', 'pertanyakan', 'sebaliknya', 'setidak-tidaknya', 'menghendaki', 'sejauh', 'sebagai', 'ucapnya', 'sebisanya', 'khususnya', 'menyampaikan', 'dengan', 'mulai', 'sebagaimana', 'bukannya', 'terjadilah', 'sejumlah', 'bagaimana', 'saling', 'sana', 'seseorang', 'diminta', 'kecil', 'apakah', 'masing-masing', 'banyak', 'cara', 'kemudian', 'dimaksudkan', 'jumlah', 'setempat', 'balik', 'mula', 'baik', 'ditanyakan', 'selama-lamanya', 'sepantasnya', 'berupa', 'sepantasnyalah', 'seharusnya', 'dulu', 'kurang', 'amat', 'atas', 'antara', 'mempersiapkan', 'tanyanya', 'seterusnya', 'waduh', 'manalagi', 'mengenai', 'memperbuat', 'cukupkah', 'maupun', 'inikah', 'umum', 'sangatlah', 'ditunjukkan', 'tengah', 'rasanya', 'jawab', 'demikianlah', 'dipunyai', 'mendatangkan', 'mungkinkah', 'satu', 'tiap', 'guna', 'kalaupun', 'dekat', 'katakanlah', 'berikut', 'sebesar', 'siap', 'haruslah', 'saatnya', 'serupa', 'melihatnya', 'tiba-tiba', 'apalagi', 'enggak', 'melakukan', 'masihkah', 'selaku', 'selanjutnya', 'teringat-ingat', 'asalkan', 'ditunjuknya', 'yaitu', 'sekiranya', 'selama', 'terhadapnya', 'tidakkah', 'disebut', 'berikutnya', 'percuma', 'selalu', 'turut', 'saat', 'kemungkinannya', 'menegaskan', 'beginilah', 'kok', 'janganlah', 'sesudahnya', 'ingat-ingat', 'misalkan', 'semaunya', 'setelah', 'setinggi', 'terutama', 'dituturkannya', 'pernah', 'bahkan', 'dipersoalkan', 'mempunyai', 'tanya', 'entahlah', 'akhir', 'sebuah', 'melainkan', 'lebih', 'begitulah', 'tersebut', 'segala', 'sini', 'termasuk', 'selain', 'berawal', 'selamanya', 'caranya', 'terkira', 'menggunakan', 'menyebutkan', 'sudahlah', 'ucap', 'dialah', 'dimisalkan', 'ungkapnya', 'keseluruhannya', 'berapakah', 'bersiap', 'oleh', 'semua', 'tepat', 'bilakah', 'nyatanya', 'beberapa', 'terhadap', 'itukah', 'entah', 'jangan', 'jawabnya', 'mengapa', 'bersama', 'dalam', 'di', 'sebaiknya', 'seluruh', 'serta', 'jika', 'justru', 'makin', 'meski', 'sesekali', 'disinilah', 'sesaat', 'macam'}\n",
            "{'tuoi', 'alle', 'o', 'avevate', 'eravamo', 'stessimo', 'avevo', 'avessi', 'nostre', 'ne', 'con', 'c', 'staremmo', 'vostro', 'stavamo', 'avrebbero', 'staremo', 'sarà', 'dov', 'abbiamo', 'contro', 'avrai', 'nei', 'avrete', 'negl', 'abbiano', 'erano', 'quale', 'degli', 'ad', 'sono', 'sarebbero', 'fu', 'mie', 'cui', 'avete', 'steste', 'facciamo', 'vostre', 'avranno', 'starai', 'dagli', 'tua', 'mi', 'facevamo', 'da', 'non', 'uno', 'siamo', 'feci', 'facendo', 'avremo', 'degl', 'avremmo', 'loro', 'quelli', 'del', 'sulle', 'fosti', 'faccia', 'abbiate', 'farete', 'stiano', 'lui', 'sul', 'aveva', 'avuta', 'negli', 'dagl', 'i', 'nostri', 'nell', 'ti', 'stavo', 'dei', 'io', 'è', 'fanno', 'facciano', 'al', 'stiate', 'starò', 'agl', 'avendo', 'ai', 'sta', 'perché', 'avevano', 'avemmo', 'nostro', 'farai', 'che', 'lo', 'ma', 'sarai', 'suoi', 'in', 'fai', 'facciate', 'fossero', 'facevo', 'fosse', 'staranno', 'fossimo', 'a', 'avuto', 'più', 'alla', 'queste', 'ebbero', 'chi', 'essendo', 'faccio', 'starei', 'staresti', 'questo', 'starebbero', 'quante', 'stia', 'dallo', 'nel', 'facessero', 'stetti', 'lei', 'sei', 'fareste', 'tuo', 'avute', 'su', 'ebbi', 'sarete', 'nella', 'sue', 'della', 'un', 'all', 'e', 'quello', 'ed', 'avessero', 'fossi', 'facessi', 'ero', 'avreste', 'stette', 'sullo', 'sia', 'farò', 'stessi', 'stai', 'avesse', 'faranno', 'ho', 'saresti', 'avevamo', 'stessero', 'nello', 'stanno', 'avessimo', 'allo', 'saremmo', 'stesti', 'ci', 'sugli', 'quanti', 'facevate', 'sugl', 'tue', 'agli', 'faremo', 'facevano', 'eri', 'voi', 'per', 'farebbero', 'dai', 'si', 'farei', 'miei', 'noi', 'dello', 'tutto', 'ha', 'nostra', 'farà', 'il', 'le', 'stavano', 'stesse', 'tu', 'facevi', 'tutti', 'suo', 'mia', 'vostri', 'stiamo', 'fecero', 'dove', 'stareste', 'avrò', 'dell', 'saremo', 'avrà', 'avevi', 'col', 'facesse', 'delle', 'farebbe', 'sto', 'quanta', 'faremmo', 'fece', 'sulla', 'abbia', 'facessimo', 'mio', 'coi', 'sarei', 'stemmo', 'sui', 'dalla', 'stando', 'gli', 'li', 'siano', 'siete', 'dal', 'come', 'tra', 'faceva', 'saranno', 'ebbe', 'stettero', 'sull', 'sua', 'vostra', 'hanno', 'quella', 'aveste', 'se', 'questi', 'l', 'starà', 'avuti', 'era', 'stavi', 'avrebbe', 'sareste', 'facemmo', 'starete', 'stavate', 'dall', 'di', 'anche', 'eravate', 'quelle', 'questa', 'hai', 'sarò', 'dalle', 'fummo', 'faresti', 'quanto', 'una', 'avesti', 'foste', 'faceste', 'starebbe', 'stava', 'facesti', 'sarebbe', 'avrei', 'fui', 'nelle', 'vi', 'furono', 'la', 'avresti', 'siate'}\n",
            "{'арқылы', 'біздің', 'уа', 'ырс', 'сондай', 'біз', 'әлдекім', 'таман', 'менің', 'жоқ', 'шамалы', 'қатар', 'олардан', 'күрт', 'е', 'эй', 'дүңк', 'эх', 'сияқты', 'ырқ', 'шақты', 'шаңқ-шаңқ', 'олардың', 'маған', 'қарай', 'шек', 'айтпақшы', 'сонымен', 'сонау', 'бізге', 'мыңқ', 'сарт-сұрт', 'кәне', 'қайқаң-құйқаң', 'себебі', 'бірдеме', 'сенімен', 'әншейін', 'дүрс', 'сенде', 'ай', 'бойымен', 'қаңғыр-күңгір', 'салаң-сұлаң', 'паһ-паһ', 'біздермен', 'солай', 'пырс', 'әрқайсы', 'осылай', 'құрау-құрау', 'өзіне', 'таңқ', 'міне', 'пай', 'далаң-далаң', 'беу', 'үйт', 'кейін', 'кәһ', 'ие', 'сізден', 'ешқандай', 'ах', 'әй', 'оһо', 'шіркін', 'арнайы', 'сенен', 'шіңк', 'күшім', 'я', 'бүгжең-бүгжең', 'әйтпесе', 'тағы', 'дейін', 'ой', 'қызараң-қызараң', 'сол', 'дегенмен', 'ана', 'бірақ', 'анау', 'митың-митың', 'соң', 'бұл', 'тарс-тұрс', 'онда', 'шәйт', 'кірт', 'салым', 'бірге', 'болп', 'қайсыбір', 'тарс', 'түгел', 'өзге', 'кейбіреу', 'уау', 'осындай', 'ойпырмай', 'бүйт', 'желп', 'менде', 'сіздің', 'жалп', 'алайда', 'борт', 'өзінің', 'ә', 'бізден', 'мен', 'моһ', 'масқарай', 'сорап', 'таяу', 'қорс', 'гөрі', 'қалт-қалт', 'мұндай', 'сенен\\tонан', 'осынау', 'шейін', 'әйткенмен', 'өз', 'бар', 'бері', 'біреу', 'па', 'бірнеше', 'біздерден', 'кәнеки', 'одан', 'сізге', 'қолп', 'әттегенай', 'жуық', 'бетер', 'ау', 'сайын', 'емес', 'былп', 'өйткені', 'әйда', 'сіздер', 'әрине', 'саған', 'сіздерге', 'сіздердің', 'мынау', 'өзімнің', 'туралы', 'өзім', 'тек', 'ештеме', 'тарбаң-тарбаң', 'пішту', 'арбаң-арбаң', 'ол', 'олар', 'бұрын', 'барқ', 'оның', 'әрне', 'ыңқ', 'кәні', 'жалт-жұлт', 'саңқ', 'әлденеше', 'сіз', 'жаракімалла', 'барша', 'өзің', 'шаңқ', 'мышы', 'ғана', 'ох', 'біздердің', 'ей', 'бәрекелді', 'әттең', 'әукім', 'кейбір', 'әркім', 'ал', 'сізбен', 'сіздермен', 'әні', 'әрқалай', 'мәссаған', 'пфша', 'қыңқ', 'о', 'сондықтан', 'алатау', 'сона', 'олармен', 'астапыралла', 'кә', 'өзіме', 'онымен', 'осы', 'әлдеқашан', 'пішә', 'сенің', 'оларға', 'қаңқ-қаңқ', 'біздер', 'құр', 'тағыда', 'сен', 'мына', 'ешкім', 'ғұрлы', 'сарт', 'қалт-құлт', 'әрбір', 'ешбір', 'шаңқ-шұңқ', 'бүкіл', 'ербелең-ербелең', 'алақай', 'арс', 'япырмай', 'маңқ', 'ыржың-тыржың', 'барлық', 'аһа', 'тарта', 'түге', 'ғұрлым', 'өзі', 'сіздерден', 'ешқашан', 'әлдене', 'тәк', 'бойы', 'қош-қош', 'гүрс', 'арсалаң-арсалаң', 'қоса', 'менімен', 'қана', 'үшін', 'жалт-жалт', 'тыңқ', 'еш', 'ірк', 'бұндай', 'алдақашан', 'батыр-бұтыр', 'пай-пай', 'арс-ұрс', 'ура', 'тырс', 'морт', 'қаңқ-құңқ', 'қаралы', 'әлдеқайдан', 'ешқайсы', 'сыңқ', 'бізбен', 'біздерге', 'менен', 'дәнеңе', 'құрау', 'әттеген-ай', 'әлдеқалай', 'шырт', 'қап', 'уай', 'күллі', 'күңк', 'бәрі', 'оған', 'өй'}\n",
            "{'रहेका', 'केही', 'चाहन्छु', 'अन्यत्र', 'कसरी', 'आदि', 'रूप', 'गरौं', 'लगभग', 'आए', 'पहिले', 'राखे', 'के', 'त्यहाँ', 'गरेका', 'बीचमा', 'थिए', 'जब', 'छु', 'जस्तो', 'बरु', 'नयाँ', 'उनको', 'पाँचौं', 'साथै', 'जसबाट', 'यहाँ', 'भर', 'तिनी', 'तेस्कारण', 'भन्छु', 'सक्छ', 'हुने', 'जे', 'मेरो', 'अन्यथा', 'सारा', 'जो', 'गर्ने', 'गर्छु', 'भन्', 'भन्नुभयो', 'कहिलेकाहीं', 'देखे', 'आत्म', 'आयो', 'तर', 'न', 'र', 'प्रतेक', 'दुई', 'तेस्रो', 'भने', 'ओठ', 'पर्छ', 'उनले', 'अर्को', 'गयौ', 'देखि', 'एक', 'त्सपछि', 'पटक', 'जस्तै', 'तल', 'दिए', 'जसलाई', 'यद्यपि', 'गरि', 'शायद', 'तापनी', 'चाहिए', 'यस', 'कुनै', 'अक्सर', 'तुरुन्तै', 'बीच', 'जस्तोसुकै', 'आफ्नो', 'थिएन', 'मलाई', 'यति', 'संगै', 'निम्न', 'यी', 'किनभने', 'किन', 'कोही', 'निम्ति', 'म', 'हुन्', 'भन्छन्', 'बारे', 'आफूलाई', 'माथि', 'ती', 'प्रति', 'हरेक', 'बिरुद्ध', 'गए', 'साँच्चै', 'रहेको', 'भित्र', 'गर्न', 'अलग', 'तिनीहरुको', 'राख्छ', 'यसरी', 'सोही', 'देखियो', 'सही', 'तत्काल', 'उप', 'निम्नानुसार', 'तपाई', 'अनुसार', 'तिमी', 'गर्नुपर्छ', 'पनि', 'छ', 'यसपछि', 'सात', 'मा', 'छन्', 'सट्टा', 'ले', 'लाई', 'जबकि', 'पछिल्लो', 'यो', 'कतै', 'गर्नु', 'जाहिर', 'बिशेष', 'पहिल्यै', 'उहालाई', 'यसको', 'वरीपरी', 'लागि', 'जहाँ', 'नौ', 'अब', 'कि', 'आफ्नै', 'चार', 'दोस्रो', 'छू', 'राम्रो', 'नि', 'एउटै', 'यसबाहेक', 'सम्भव', 'अन्तर्गत', 'भए', 'सबै', 'जसको', 'पर्याप्त', 'त्यो', 'तिर', 'गर्छ', 'पर्थ्यो', 'को', 'अर्थात', 'थियो', 'गरेर', 'एकदम', 'अरुलाई', 'कम से कम', 'जताततै', 'हुन', 'सधै', 'छैन', 'तदनुसार', 'भित्री', 'संग', 'हो', 'देखेर', 'नत्र', 'पूर्व', 'सबैलाई', 'भन', 'अन्य', 'सायद', 'निर्दिष्ट', 'वास्तवमा', 'देखिन्छ', 'कुरा', 'कसैले', 'तीन', 'अर्थात्', 'दिनुभएको', 'समय', 'तिनिहरुलाई', 'त', 'तिनीहरू', 'भन्ने', 'पाँच', 'औं', 'यसो', 'अरु', 'देखेको', 'गैर', 'गरेको', 'यथोचित', 'कृपया', 'यस्तो', 'दिनुहुन्छ', 'हरे', 'जसले', 'पक्कै', 'जान', 'भन्दा', 'हुन्छ', 'चाहनुहुन्छ', 'गर्दै', 'या', 'बने', 'स्पष्ट', 'जुन', 'पछि', 'गरी', 'सम्म', 'प्लस', 'धेरै', 'क्रमशः', 'बाहिर', 'सो', 'कसै', 'पक्का', 'नजिकै', 'चाले', 'का', 'फेरी', 'अझै', 'रही', 'मात्र', 'अगाडी', 'तपाईको', 'कहाँबाट', 'आफू', 'मुख्य', 'तथा', 'यदि', 'त्सैले', 'ठीक', 'साथ', 'जसमा', 'बाहेक', 'नै', 'छौं', 'भएको', 'पहिलो', 'यहाँसम्म', 'आजको', 'उदाहरण'}\n",
            "{'kvar', 'alle', 'kvi', 'inn', 'meget', 'då', 'er', 'at', 'hvem', 'dykkar', 'du', 'ja', 'vært', 'også', 'vil', 'etter', 'har', 'korso', 'hvor', 'ble', 'mi', 'min', 'med', 'da', 'om', 'noe', 'han', 'eit', 'inkje', 'eitt', 'deim', 'ved', 'dem', 'den', 'noko', 'i', 'dykk', 'dei', 'meg', 'honom', 'sånn', 'dere', 'vart', 'hennar', 'ned', 'hadde', 'hoss', 'nokon', 'oss', 'ingen', 'eg', 'man', 'skal', 'ville', 'so', 'upp', 'vår', 'fordi', 'ditt', 'um', 'hoe', 'deira', 'kven', 'henne', 'varte', 'men', 'bli', 'hva', 'dette', 'kom', 'der', 'var', 'her', 'jeg', 'somt', 'sidan', 'skulle', 'deires', 'vort', 'inni', 'sia', 'for', 'fra', 'det', 'mykje', 'blei', 'ho', 'når', 'hjå', 'no', 'opp', 'elles', 'ikkje', 'så', 'hans', 'en', 'vors', 'på', 'kun', 'ingi', 'ut', 'deres', 'si', 'siden', 'hvordan', 'ha', 'disse', 'bare', 'av', 'kunne', 'kva', 'deg', 'ein', 'samme', 'nokor', 'vere', 'før', 'nå', 'både', 'mine', 'blir', 'mange', 'ett', 'sine', 'hossen', 'somme', 'de', 'ikke', 'til', 'sitt', 'kan', 'kvarhelst', 'seg', 'og', 'hvorfor', 'å', 'mitt', 'båe', 'hvilke', 'sjøl', 'hun', 'selv', 'mot', 'sin', 'kvifor', 'mellom', 'hvilken', 'medan', 'hvis', 'et', 'blitt', 'verte', 'over', 'enn', 'me', 'noka', 'noen', 'di', 'uten', 'hennes', 'begge', 'nokre', 'være', 'som', 'slik', 'vi', 'denne', 'eller', 'korleis', 'hver', 'vore', 'din'}\n",
            "{'aquilo', 'isso', 'não', 'tivéramos', 'o', 'estive', 'seja', 'essa', 'vos', 'delas', 'estiver', 'houveríamos', 'estes', 'em', 'seus', 'tínhamos', 'teu', 'nós', 'tiveram', 'tenha', 'teve', 'terei', 'tenho', 'essas', 'houvemos', 'estou', 'numa', 'houveriam', 'teriam', 'ou', 'tua', 'esta', 'sou', 'da', 'nas', 'aquelas', 'estivéramos', 'são', 'tivéssemos', 'tém', 'estejam', 'tivera', 'eram', 'tivermos', 'houverem', 'esses', 'teus', 'pela', 'hajamos', 'nem', 'teria', 'pelo', 'aqueles', 'também', 'minhas', 'aos', 'nosso', 'entre', 'houver', 'há', 'houvesse', 'houve', 'estas', 'minha', 'estejamos', 'suas', 'te', 'houvermos', 'estávamos', 'sejamos', 'ele', 'sem', 'temos', 'fosse', 'tivemos', 'a', 'tenham', 'somos', 'havemos', 'tinham', 'houvera', 'um', 'tuas', 'que', 'estiverem', 'teremos', 'você', 'mesmo', 'estava', 'estamos', 'só', 'estão', 'será', 'do', 'meus', 'estivéssemos', 'das', 'nossas', 'houvéramos', 'seríamos', 'e', 'serei', 'num', 'quem', 'for', 'meu', 'houvéssemos', 'terá', 'no', 'seu', 'às', 'hei', 'deles', 'aquele', 'seria', 'tiverem', 'houveria', 'tivesse', 'vocês', 'estivemos', 'mais', 'isto', 'está', 'estivermos', 'dela', 'lhe', 'pelas', 'tu', 'terão', 'nossa', 'dele', 'mas', 'as', 'eles', 'forem', 'para', 'com', 'fomos', 'estivessem', 'de', 'os', 'ao', 'estivera', 'foram', 'sejam', 'pelos', 'houverão', 'tinha', 'até', 'fossem', 'já', 'formos', 'fôssemos', 'na', 'esteve', 'fora', 'eu', 'estavam', 'à', 'lhes', 'estivesse', 'ela', 'esse', 'depois', 'seremos', 'houvessem', 'por', 'tive', 'tivessem', 'tiver', 'sua', 'uma', 'houverá', 'este', 'se', 'fôramos', 'como', 'era', 'tenhamos', 'qual', 'muito', 'seriam', 'tem', 'me', 'estiveram', 'foi', 'teríamos', 'quando', 'haja', 'éramos', 'dos', 'hajam', 'elas', 'serão', 'aquela', 'houveram', 'fui', 'esteja', 'nos', 'nossos', 'houveremos', 'houverei', 'hão'}\n",
            "{'mod', 'acestia', 'parca', 'vreun', 'pînă', 'apoi', 'cele', 'atat', 'ala', 'până', 'oricare', 'au', 'ati', 'fără', 'vouă', 'i', 'ce', 'astfel', 'citeva', 'voastre', 'suntem', 'mîine', 'ai', 'unele', 'pe', 'ele', 'sa', 'va', 'cît', 'ale', 'dau', 'ni', 'numai', 'altii', 'acelasi', 'asta', 'vă', 'ci', 'patru', 'unei', 'tăi', 'voi', 'orice', 'sunteţi', 'noi', 'oricum', 'acela', 'zice', 'lor', 'doar', 'deşi', 'mine', 'de', 'fost', 'atare', 'intr', 'cărei', 'eu', 'acelea', 'desi', 'sa-mi', 'altul', 'unii', 'lângă', 'sale', 'nici', 'se', 'alea', 'cîţi', 'ului', 'aia', 'nişte', 'ii', 'isi', 'vi', 'unui', 'său', 'o', 't', 'sus', 'toti', 'aici', 'trei', 'pic', 'ţi', 'daca', 'noastră', 'printr-', 'mie', 'poate', 'tuturor', 'oricând', 'aceste', 'celor', 'undeva', 'v', 'nostri', 'sau', 'catre', 'u', 'dacă', 'vom', 'te', 'aveţi', 'căror', 'sub', 'deasupra', 'ăla', 'anume', 'îmi', 'treia', 'un', 'multi', 'dintr', 'ăsta', 'să', 'căci', 'aceia', 'ia', 'peste', 'fata', 'sunt', 'nostru', 'le', 'iar', 'tine', 'alt', 'oricît', 'tu', 'astea', 'cand', 'as', 'fara', 'cei', 'unu', 'câtva', 'am', 'tocmai', 'ceilalti', 'cit', 'ea', 'inainte', 'totul', 'li', 'că', 'sa-ti', 'şi', 'incit', 'este', 'alti', 'oricine', 'mult', 'alte', 'aţi', 'după', 'fiu', 'ar', 'multă', 'face', 'oriunde', 'în', 'din', 'nouă', 'prima', 'unul', 'nou', 'fiţi', 'ne', 'nimic', 'asa', 'două', 'unor', 'noştri', 'intre', 'nimeni', 'alta', 'pina', 'avut', 'mi', 'da', 'sintem', 'eram', 'cind', 'atunci', 'lui', 'cineva', 'fi', 'cam', 'ti', 'citiva', 'aceştia', 'dată', 'atatea', 'al', 'atatia', 'zi', 'ma', 'in', 'cîtva', 'carora', 'cărui', 'ul', 'a', 'deci', 'totuşi', 'careia', 'cita', 'doi', 'are', 'ca', 'decit', 'către', 'altfel', 'săi', 'insa', 'e', 'mă', 'spre', 'îl', 'acea', 'atit', 'el', 'acesta', 'dupa', 'toate', 'puţină', 'puţina', 'si', 'această', 'mai', 'drept', 'cînd', 'vostru', 'primul', 'uneia', 'acest', 'foarte', 'pot', 'uneori', 'oricînd', 'treilea', 'lîngă', 'voştri', 'mereu', 'ta', 'sai', 'toata', 'care', 'era', 'dă', 'noua', 'noastre', 'puţin', 'iti', 'una', 'totusi', 'fii', 'la', 'or', 'cât', 'doilea', 'acestei', 'eşti', 'ăştia', 'spate', 'acele', 'multa', 'ba', 'câţi', 'ceva', 'atitea', 'cui', 'cumva', 'cu', 'dintre', 'nu', 'fiecare', 'caruia', 'îi', 'voastră', 'aceasta', 'inapoi', 'prea', 'unuia', 'vor', 'putini', 'unora', 'aş', 'atata', 'imi', 'mele', 'pentru', 'mei', 'inca', 'cum', 'aceea', 'aibă', 'atita', 'ţie', 'dintr-', 'adica', 'avem', 'câte', 'mea', 'mulţi', 'cîte', 'ăstea', 'cat', 'sint', 'pai', 'meu', 'acei', 'cine', 'citi', 'ei', 'vreo', 'tale', 'cea', 'm', 'fel', 'patra', 'aceşti', 'avea', 'despre', 'il', 'altcineva', 'ori', 'niste', 'acestea', 'altceva', 'deja', 'dar', 'fie', 'acel', 'tot', 'asupra', 'atitia', 'îţi', 'toată', 'cel', 'toţi', 'aceeasi', 'ălea', 'dat', 'mâine', 'tău', 'acestui', 'abia', 'fim', 'cite', 'chiar', 'unde', 'multe', 'prin', 'ceea', 'oricât'}\n",
            "{'в', 'над', 'через', 'когда', 'всего', 'чтоб', 'а', 'нее', 'два', 'при', 'вам', 'потом', 'мы', 'с', 'перед', 'там', 'много', 'потому', 'были', 'уж', 'наконец', 'все', 'ли', 'был', 'моя', 'он', 'она', 'этой', 'на', 'во', 'ничего', 'ж', 'тебя', 'сам', 'если', 'почти', 'им', 'и', 'его', 'еще', 'здесь', 'хорошо', 'я', 'уже', 'ее', 'кто', 'того', 'конечно', 'нет', 'разве', 'про', 'или', 'то', 'меня', 'чуть', 'без', 'со', 'ним', 'только', 'тем', 'так', 'бы', 'надо', 'тоже', 'мой', 'эту', 'впрочем', 'чтобы', 'теперь', 'вы', 'была', 'такой', 'можно', 'зачем', 'будто', 'них', 'быть', 'но', 'было', 'больше', 'себе', 'как', 'три', 'по', 'вас', 'вот', 'него', 'не', 'к', 'свою', 'совсем', 'нельзя', 'мне', 'ну', 'вдруг', 'ты', 'за', 'даже', 'тут', 'после', 'ей', 'никогда', 'до', 'чем', 'для', 'тот', 'будет', 'эти', 'раз', 'о', 'более', 'от', 'ни', 'они', 'сейчас', 'тогда', 'один', 'этом', 'какая', 'же', 'этого', 'этот', 'ведь', 'какой', 'ней', 'под', 'чего', 'может', 'иногда', 'себя', 'хоть', 'нибудь', 'ему', 'опять', 'их', 'куда', 'лучше', 'между', 'всех', 'об', 'другой', 'том', 'у', 'да', 'всегда', 'где', 'нас', 'есть', 'всю', 'из', 'что'}\n",
            "{'son', 'tuviste', 'o', 'tengas', 'la', 'seáis', 'sus', 'eran', 'estuvieron', 'con', 'eso', 'estarán', 'habréis', 'tuvimos', 'nosotras', 'estuve', 'tuviera', 'estados', 'quienes', 'tenga', 'habrían', 'erais', 'estarás', 'ellos', 'tanto', 'algunas', 'habríais', 'soy', 'mi', 'esta', 'estaríais', 'habrán', 'tenía', 'él', 'uno', 'fueras', 'pero', 'tenida', 'tenido', 'han', 'hubieron', 'sentidas', 'tuyos', 'del', 'algo', 'estuvimos', 'habida', 'estuviste', 'tienes', 'tendrán', 'nuestro', 'fue', 'tendré', 'algunos', 'estuvieseis', 'teniendo', 'otros', 'ti', 'estabais', 'fueses', 'estaremos', 'hubisteis', 'serán', 'tendrás', 'hasta', 'seré', 'al', 'más', 'porque', 'estuviesen', 'vosostros', 'fuera', 'estaría', 'estaba', 'sintiendo', 'tenidas', 'vuestros', 'serías', 'tendrá', 'tenían', 'tuvieron', 'estado', 'tengáis', 'lo', 'entre', 'desde', 'nada', 'mucho', 'ella', 'estoy', 'mío', 'estuviésemos', 'hayas', 'hubieseis', 'hube', 'estaré', 'esa', 'estas', 'fueron', 'estarías', 'estaríamos', 'te', 'estando', 'fueseis', 'esas', 'tendremos', 'unos', 'habiendo', 'habías', 'fuesen', 'estuviera', 'muy', 'a', 'somos', 'eras', 'fuésemos', 'habidos', 'que', 'ya', 'estuvisteis', 'tengo', 'habremos', 'seríais', 'estará', 'también', 'habíais', 'estamos', 'contra', 'será', 'cuando', 'serían', 'ni', 'seréis', 'su', 'habido', 'tienen', 'tuviéramos', 'seríamos', 'un', 'e', 'tendría', 'estuvierais', 'estuviese', 'estéis', 'habéis', 'tuve', 'tuvieses', 'vuestra', 'esto', 'todos', 'tiene', 'tengamos', 'tuviésemos', 'hubieras', 'suyas', 'muchos', 'hayáis', 'el', 'qué', 'cual', 'antes', 'vuestro', 'no', 'hubierais', 'sería', 'suyo', 'fuese', 'estén', 'sentid', 'mis', 'hemos', 'tuvieseis', 'hay', 'hubieses', 'en', 'mía', 'vuestras', 'he', 'habría', 'seamos', 'teníais', 'estos', 'mías', 'serás', 'habríamos', 'todo', 'otras', 'tuyo', 'estás', 'las', 'donde', 'estuvieses', 'estadas', 'tenemos', 'estuviéramos', 'mí', 'tendríais', 'ha', 'estad', 'está', 'hubieran', 'tendríamos', 'sentida', 'le', 'tenías', 'tu', 'tuyas', 'tened', 'fuisteis', 'habidas', 'durante', 'y', 'tú', 'tuya', 'están', 'estés', 'tendrían', 'tuvo', 'para', 'les', 'ante', 'suyos', 'estuvieran', 'hayan', 'de', 'nosotros', 'os', 'estáis', 'estaréis', 'estaban', 'fuiste', 'estada', 'suya', 'fuimos', 'sois', 'tuvieras', 'poco', 'hubo', 'tenidos', 'teníamos', 'nuestra', 'siente', 'estabas', 'hubiesen', 'sí', 'nuestras', 'hubiese', 'seas', 'fueran', 'los', 'tuvierais', 'había', 'quien', 'has', 'tuviesen', 'ellas', 'esté', 'hubiéramos', 'eres', 'tenéis', 'sin', 'habían', 'estuvo', 'seremos', 'nuestros', 'fuerais', 'por', 'yo', 'tuvisteis', 'míos', 'otra', 'vosostras', 'este', 'habrías', 'se', 'sea', 'estábamos', 'sobre', 'ese', 'habré', 'tengan', 'como', 'era', 'es', 'tuviese', 'sentido', 'otro', 'me', 'tendrías', 'hubiste', 'hubiera', 'éramos', 'estarían', 'estar', 'habíamos', 'una', 'hayamos', 'estuvieras', 'habrás', 'sean', 'tus', 'fui', 'tendréis', 'haya', 'tuvieran', 'habrá', 'sentidos', 'nos', 'hubimos', 'hubiésemos', 'esos', 'fuéramos', 'estemos'}\n",
            "{'ert', 'då', 'er', 'du', 'mina', 'att', 'våra', 'har', 'sedan', 'deras', 'vilkas', 'min', 'med', 'nu', 'kunde', 'om', 'han', 'mycket', 'dem', 'den', 'är', 'i', 'honom', 'detta', 'åt', 'vad', 'vart', 'inom', 'dessa', 'från', 'än', 'oss', 'ingen', 'man', 'vilket', 'upp', 'vår', 'ditt', 'utan', 'sitta', 'blev', 'henne', 'alla', 'dig', 'hade', 'men', 'bli', 'varit', 'ni', 'var', 'skulle', 'hur', 'denna', 'blivit', 'det', 'varje', 'mellan', 'ju', 'själv', 'vara', 'vilken', 'så', 'hans', 'en', 'på', 'ut', 'vilka', 'ha', 'samma', 'av', 'vars', 'över', 'här', 'några', 'efter', 'sådan', 'blir', 'när', 'ett', 'och', 'de', 'ej', 'kan', 'till', 'sina', 'under', 'mitt', 'allt', 'för', 'sig', 'mot', 'jag', 'sin', 'vårt', 'något', 'varför', 'där', 'någon', 'era', 'sådana', 'icke', 'dina', 'vem', 'hon', 'mig', 'sådant', 'hennes', 'inte', 'dess', 'som', 'vi', 'eller', 'vid', 'din'}\n",
            "{'az', 'bu', 'kim', 'için', 'hep', 'o', 'tüm', 'belki', 'ile', 'bazı', 'hem', 'çünkü', 'defa', 'ne', 'nerde', 'mı', 'en', 'şey', 'eğer', 'mu', 'çok', 'ki', 'ama', 'yani', 've', 'hiç', 'ise', 'da', 'birkaç', 'ya', 'daha', 'gibi', 'acaba', 'aslında', 'hepsi', 'niye', 'niçin', 'sanki', 'nerede', 'diye', 'her', 'biz', 'kez', 'biri', 'mü', 'de', 'veya', 'neden', 'nasıl', 'birşey', 'şu', 'siz', 'nereye'}\n"
          ],
          "name": "stdout"
        }
      ]
    },
    {
      "cell_type": "code",
      "metadata": {
        "id": "iyZSnsiGnyDM",
        "colab_type": "code",
        "colab": {
          "base_uri": "https://localhost:8080/",
          "height": 54
        },
        "outputId": "43fc5f03-b3af-4567-a7a1-075a3633a96d"
      },
      "source": [
        "for language in stopwords.fileids():\n",
        "    stopwords_set = set(stopwords.words(language))\n",
        "    words_set = set(words)\n",
        "    common_elements = words_set.intersection(stopwords_set)\n",
        "    languages_ratios[language] = len(common_elements) # language \"score\"\n",
        "print(languages_ratios)"
      ],
      "execution_count": 16,
      "outputs": [
        {
          "output_type": "stream",
          "text": [
            "{'arabic': 0, 'azerbaijani': 4, 'danish': 4, 'dutch': 6, 'english': 48, 'finnish': 3, 'french': 6, 'german': 5, 'greek': 0, 'hungarian': 3, 'indonesian': 0, 'italian': 4, 'kazakh': 0, 'nepali': 0, 'norwegian': 5, 'portuguese': 3, 'romanian': 7, 'russian': 0, 'spanish': 3, 'swedish': 3, 'turkish': 0}\n"
          ],
          "name": "stdout"
        }
      ]
    },
    {
      "cell_type": "code",
      "metadata": {
        "id": "e2Kp0pfsnyNb",
        "colab_type": "code",
        "colab": {
          "base_uri": "https://localhost:8080/",
          "height": 34
        },
        "outputId": "577db047-c802-4c63-cc41-0750a23ade72"
      },
      "source": [
        "most_rated_language = max(languages_ratios, key=languages_ratios.get)\n",
        "most_rated_language"
      ],
      "execution_count": 17,
      "outputs": [
        {
          "output_type": "execute_result",
          "data": {
            "text/plain": [
              "'english'"
            ]
          },
          "metadata": {
            "tags": []
          },
          "execution_count": 17
        }
      ]
    },
    {
      "cell_type": "markdown",
      "metadata": {
        "id": "pSQKb6i7qv4n",
        "colab_type": "text"
      },
      "source": [
        "#N-GRAMS\n",
        "`an n-gram is a contiguous sequence of n items from a given sample of text or speech.`     \n",
        "\n",
        "`The items can be phonemes, syllables, letters, words or base pairs according to the application. The n-grams typically are collected from a text or speech corpus.`\n",
        "\n",
        "`N-grams of texts are extensively used in text mining and natural language processing tasks.when computing the n-grams you typically move one word forward (although you can move X words forward in more advanced scenarios)`\n",
        "\n",
        "` N-gram models is used to estimate the probability of the last word of an N-gram given the previous words, and also to assign probabilities to entire sequences. we can use n-gram models to derive a probability of the sentence `"
      ]
    },
    {
      "cell_type": "code",
      "metadata": {
        "id": "3IyFdVggnyL-",
        "colab_type": "code",
        "colab": {
          "base_uri": "https://localhost:8080/",
          "height": 34
        },
        "outputId": "660a9257-0508-4060-a443-1a588165d901"
      },
      "source": [
        "from nltk.tokenize import RegexpTokenizer\n",
        "tokenizer = RegexpTokenizer(\"[a-zA-Z'`éèî]+\")\n",
        "print(tokenizer.tokenize(\"Le temps est un grand maître, dit-on, le malheur est qu'il tue ses élèves.\"))"
      ],
      "execution_count": 19,
      "outputs": [
        {
          "output_type": "stream",
          "text": [
            "['Le', 'temps', 'est', 'un', 'grand', 'maître', 'dit', 'on', 'le', 'malheur', 'est', \"qu'il\", 'tue', 'ses', 'élèves']\n"
          ],
          "name": "stdout"
        }
      ]
    },
    {
      "cell_type": "code",
      "metadata": {
        "id": "mYJnPRf0nyJd",
        "colab_type": "code",
        "colab": {
          "base_uri": "https://localhost:8080/",
          "height": 54
        },
        "outputId": "ba7d5ed6-c54d-4564-a818-b1a729c52be7"
      },
      "source": [
        "from nltk.util import ngrams\n",
        "generated_ngrams = ngrams('TEXT', 4, pad_left=True, pad_right=True)\n",
        "print(list(generated_ngrams))"
      ],
      "execution_count": 36,
      "outputs": [
        {
          "output_type": "stream",
          "text": [
            "[(None, None, None, 'T'), (None, None, 'T', 'E'), (None, 'T', 'E', 'X'), ('T', 'E', 'X', 'T'), ('E', 'X', 'T', None), ('X', 'T', None, None), ('T', None, None, None)]\n"
          ],
          "name": "stdout"
        }
      ]
    },
    {
      "cell_type": "code",
      "metadata": {
        "id": "MBKRyQqftKN_",
        "colab_type": "code",
        "colab": {
          "base_uri": "https://localhost:8080/",
          "height": 54
        },
        "outputId": "4ef27dbb-494e-4702-ea3b-1275341c332c"
      },
      "source": [
        "from nltk.util import ngrams\n",
        "generated_ngrams = ngrams('TEXT', 4, pad_left=True, pad_right=True , left_pad_symbol=' ')\n",
        "print(list(generated_ngrams))"
      ],
      "execution_count": 50,
      "outputs": [
        {
          "output_type": "stream",
          "text": [
            "[(' ', ' ', ' ', 'T'), (' ', ' ', 'T', 'E'), (' ', 'T', 'E', 'X'), ('T', 'E', 'X', 'T'), ('E', 'X', 'T', None), ('X', 'T', None, None), ('T', None, None, None)]\n"
          ],
          "name": "stdout"
        }
      ]
    },
    {
      "cell_type": "code",
      "metadata": {
        "id": "gumIcOKcnyA5",
        "colab_type": "code",
        "colab": {
          "base_uri": "https://localhost:8080/",
          "height": 88
        },
        "outputId": "2433c0e1-adaa-4114-8b2d-5c9a367ccd3a"
      },
      "source": [
        "generated_ngrams = ngrams('TEXT', 4, pad_left=True, pad_right=True, left_pad_symbol=' ', right_pad_symbol=' ')\n",
        "k = list(generated_ngrams)\n",
        "print(k)\n",
        "print(k[4])\n",
        "''.join(k[4])"
      ],
      "execution_count": 65,
      "outputs": [
        {
          "output_type": "stream",
          "text": [
            "[(' ', ' ', ' ', 'T'), (' ', ' ', 'T', 'E'), (' ', 'T', 'E', 'X'), ('T', 'E', 'X', 'T'), ('E', 'X', 'T', ' '), ('X', 'T', ' ', ' '), ('T', ' ', ' ', ' ')]\n",
            "('E', 'X', 'T', ' ')\n"
          ],
          "name": "stdout"
        },
        {
          "output_type": "execute_result",
          "data": {
            "text/plain": [
              "'EXT '"
            ]
          },
          "metadata": {
            "tags": []
          },
          "execution_count": 65
        }
      ]
    },
    {
      "cell_type": "code",
      "metadata": {
        "id": "ulGRjToCtcRo",
        "colab_type": "code",
        "colab": {
          "base_uri": "https://localhost:8080/",
          "height": 119
        },
        "outputId": "4d982390-0134-49cb-c786-958169fe642c"
      },
      "source": [
        "from functools import partial\n",
        "from nltk import ngrams\n",
        "x = 'TEXT'\n",
        "print(len(list(ngrams(x, 2))) , list(ngrams(x, 2)))\n",
        "\n",
        "padded_ngrams = partial(ngrams, pad_left=True, pad_right=True, left_pad_symbol='_', right_pad_symbol='_')\n",
        "print(list(padded_ngrams(x, 2)))\n",
        "print(len(list(padded_ngrams(x, 2))))\n",
        "print(len(list(padded_ngrams(x, 3))))\n",
        "print(len(list(padded_ngrams(x, 4))))\n",
        "print(len(list(padded_ngrams(x, 5))))"
      ],
      "execution_count": 40,
      "outputs": [
        {
          "output_type": "stream",
          "text": [
            "3 [('T', 'E'), ('E', 'X'), ('X', 'T')]\n",
            "[('_', 'T'), ('T', 'E'), ('E', 'X'), ('X', 'T'), ('T', '_')]\n",
            "5\n",
            "6\n",
            "7\n",
            "8\n"
          ],
          "name": "stdout"
        }
      ]
    },
    {
      "cell_type": "code",
      "metadata": {
        "id": "4vK_h-KqtcNs",
        "colab_type": "code",
        "colab": {}
      },
      "source": [
        "ngrams_statistics = {}\n",
        "\n",
        "for ngram in ngrams:\n",
        "  if not ngrams_statistics.has_key(ngram):\n",
        "      ngrams_statistics.update({ngram:1})\n",
        "  else:\n",
        "      ngram_occurrences = ngrams_statistics[ngram]\n",
        "      ngrams_statistics.update({ngram:ngram_occurrences+1})"
      ],
      "execution_count": 0,
      "outputs": []
    },
    {
      "cell_type": "code",
      "metadata": {
        "id": "CPqZyGc9tcLV",
        "colab_type": "code",
        "colab": {}
      },
      "source": [
        ""
      ],
      "execution_count": 0,
      "outputs": []
    },
    {
      "cell_type": "code",
      "metadata": {
        "id": "YpVFHwyqtcGL",
        "colab_type": "code",
        "colab": {}
      },
      "source": [
        ""
      ],
      "execution_count": 0,
      "outputs": []
    },
    {
      "cell_type": "code",
      "metadata": {
        "id": "9lFkbR6ztcEJ",
        "colab_type": "code",
        "colab": {}
      },
      "source": [
        ""
      ],
      "execution_count": 0,
      "outputs": []
    },
    {
      "cell_type": "code",
      "metadata": {
        "id": "pcBoiU6ntcAp",
        "colab_type": "code",
        "colab": {}
      },
      "source": [
        ""
      ],
      "execution_count": 0,
      "outputs": []
    },
    {
      "cell_type": "code",
      "metadata": {
        "id": "oriE0-K2tb9Z",
        "colab_type": "code",
        "colab": {}
      },
      "source": [
        ""
      ],
      "execution_count": 0,
      "outputs": []
    },
    {
      "cell_type": "code",
      "metadata": {
        "id": "MjNBJC16tb6X",
        "colab_type": "code",
        "colab": {}
      },
      "source": [
        ""
      ],
      "execution_count": 0,
      "outputs": []
    },
    {
      "cell_type": "code",
      "metadata": {
        "id": "x6QDBBXAtb4O",
        "colab_type": "code",
        "colab": {}
      },
      "source": [
        ""
      ],
      "execution_count": 0,
      "outputs": []
    },
    {
      "cell_type": "code",
      "metadata": {
        "id": "2FfmvZastb1u",
        "colab_type": "code",
        "colab": {}
      },
      "source": [
        ""
      ],
      "execution_count": 0,
      "outputs": []
    },
    {
      "cell_type": "code",
      "metadata": {
        "id": "by9T-Hb2tbww",
        "colab_type": "code",
        "colab": {}
      },
      "source": [
        ""
      ],
      "execution_count": 0,
      "outputs": []
    }
  ]
}