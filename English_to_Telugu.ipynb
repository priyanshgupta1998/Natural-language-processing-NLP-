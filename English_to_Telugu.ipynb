{
  "nbformat": 4,
  "nbformat_minor": 0,
  "metadata": {
    "colab": {
      "name": "TensorFlow with GPU",
      "version": "0.3.2",
      "provenance": [],
      "collapsed_sections": [],
      "include_colab_link": true
    },
    "kernelspec": {
      "name": "python3",
      "display_name": "Python 3"
    },
    "accelerator": "GPU"
  },
  "cells": [
    {
      "cell_type": "markdown",
      "metadata": {
        "id": "view-in-github",
        "colab_type": "text"
      },
      "source": [
        "<a href=\"https://colab.research.google.com/github/priyanshgupta1998/Natural-language-processing-NLP-/blob/master/English_to_Telugu.ipynb\" target=\"_parent\"><img src=\"https://colab.research.google.com/assets/colab-badge.svg\" alt=\"Open In Colab\"/></a>"
      ]
    },
    {
      "cell_type": "code",
      "metadata": {
        "id": "cyJaWa0vzrMo",
        "colab_type": "code",
        "colab": {}
      },
      "source": [
        ""
      ],
      "execution_count": 0,
      "outputs": []
    },
    {
      "cell_type": "markdown",
      "metadata": {
        "id": "Rrxa6MWv5Cbu",
        "colab_type": "text"
      },
      "source": [
        "https://help.salesforce.com/articleView?id=faq_getstart_what_languages_does.htm&type=5"
      ]
    },
    {
      "cell_type": "markdown",
      "metadata": {
        "id": "BDIzoRvi6iGf",
        "colab_type": "text"
      },
      "source": [
        "##TextBlob module only works in the availability of the internet"
      ]
    },
    {
      "cell_type": "markdown",
      "metadata": {
        "id": "2DFs3Ii647X9",
        "colab_type": "text"
      },
      "source": [
        "#English to Telugu Convertor"
      ]
    },
    {
      "cell_type": "code",
      "metadata": {
        "id": "e80GBwt3zrRH",
        "colab_type": "code",
        "colab": {
          "base_uri": "https://localhost:8080/",
          "height": 51
        },
        "outputId": "e6a1f3fa-4f06-4fa0-98d5-1cf7af64bae3"
      },
      "source": [
        "sent = input(\"Write Something in English : \")\n",
        "from textblob import TextBlob\n",
        "blob = TextBlob(sent)\n",
        "blob.translate(to=\"te_IN\")"
      ],
      "execution_count": 7,
      "outputs": [
        {
          "output_type": "stream",
          "text": [
            "Write Something in English : What are you doing?\n"
          ],
          "name": "stdout"
        },
        {
          "output_type": "execute_result",
          "data": {
            "text/plain": [
              "TextBlob(\"మీరు ఏమి చేస్తున్నారు?\")"
            ]
          },
          "metadata": {
            "tags": []
          },
          "execution_count": 7
        }
      ]
    },
    {
      "cell_type": "markdown",
      "metadata": {
        "id": "ZBrWNCsP6DHl",
        "colab_type": "text"
      },
      "source": [
        "# Telugu to English Convertor"
      ]
    },
    {
      "cell_type": "code",
      "metadata": {
        "id": "5ibUVeE3zrUM",
        "colab_type": "code",
        "colab": {
          "base_uri": "https://localhost:8080/",
          "height": 51
        },
        "outputId": "53a41d75-489d-46ba-bb64-92b584a4e4c8"
      },
      "source": [
        "sent = input(\"Write Something in Telugu : \")\n",
        "from textblob import TextBlob\n",
        "blob = TextBlob(sent)\n",
        "blob.translate(to=\"en\")"
      ],
      "execution_count": 6,
      "outputs": [
        {
          "output_type": "stream",
          "text": [
            "Write Something in Telugu : నీ పేరు ఏమిటి?\n"
          ],
          "name": "stdout"
        },
        {
          "output_type": "execute_result",
          "data": {
            "text/plain": [
              "TextBlob(\"What is your name\")"
            ]
          },
          "metadata": {
            "tags": []
          },
          "execution_count": 6
        }
      ]
    },
    {
      "cell_type": "code",
      "metadata": {
        "id": "p_BSjW8rzrO-",
        "colab_type": "code",
        "colab": {}
      },
      "source": [
        ""
      ],
      "execution_count": 0,
      "outputs": []
    }
  ]
}