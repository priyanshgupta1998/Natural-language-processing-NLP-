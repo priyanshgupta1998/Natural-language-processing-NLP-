{
  "nbformat": 4,
  "nbformat_minor": 0,
  "metadata": {
    "colab": {
      "name": "TensorFlow with GPU",
      "version": "0.3.2",
      "provenance": [],
      "collapsed_sections": [],
      "include_colab_link": true
    },
    "kernelspec": {
      "name": "python3",
      "display_name": "Python 3"
    },
    "accelerator": "GPU"
  },
  "cells": [
    {
      "cell_type": "markdown",
      "metadata": {
        "id": "view-in-github",
        "colab_type": "text"
      },
      "source": [
        "<a href=\"https://colab.research.google.com/github/priyanshgupta1998/Natural-language-processing-NLP-/blob/master/Replace_the_Contractions_from_data.ipynb\" target=\"_parent\"><img src=\"https://colab.research.google.com/assets/colab-badge.svg\" alt=\"Open In Colab\"/></a>"
      ]
    },
    {
      "cell_type": "code",
      "metadata": {
        "id": "j0rVvrC1pDz6",
        "colab_type": "code",
        "colab": {}
      },
      "source": [
        ""
      ],
      "execution_count": 0,
      "outputs": []
    },
    {
      "cell_type": "code",
      "metadata": {
        "id": "F0B5vamkmlfZ",
        "colab_type": "code",
        "colab": {}
      },
      "source": [
        ""
      ],
      "execution_count": 0,
      "outputs": []
    },
    {
      "cell_type": "markdown",
      "metadata": {
        "id": "-JfJNYlBpnbh",
        "colab_type": "text"
      },
      "source": [
        "### contractions module  is used  to replace contractions with their full forms"
      ]
    },
    {
      "cell_type": "code",
      "metadata": {
        "id": "C9xXLSLCmlcb",
        "colab_type": "code",
        "colab": {
          "base_uri": "https://localhost:8080/",
          "height": 105
        },
        "outputId": "94888237-3603-463f-95bf-19628cead2b4"
      },
      "source": [
        "!pip install contractions"
      ],
      "execution_count": 5,
      "outputs": [
        {
          "output_type": "stream",
          "text": [
            "Collecting contractions\n",
            "  Downloading https://files.pythonhosted.org/packages/67/f7/1462c6d28ec27ef2812aa2e9376c7fc7b39a23f0e02297f71119d74375c5/contractions-0.0.18-py2.py3-none-any.whl\n",
            "Installing collected packages: contractions\n",
            "Successfully installed contractions-0.0.18\n"
          ],
          "name": "stdout"
        }
      ]
    },
    {
      "cell_type": "code",
      "metadata": {
        "id": "N1H3NQLHpJIz",
        "colab_type": "code",
        "colab": {
          "base_uri": "https://localhost:8080/",
          "height": 51
        },
        "outputId": "cbf72632-4b0e-4c75-b53c-2cf80b6c0dd8"
      },
      "source": [
        "import contractions\n",
        "print(contractions.fix(\"you've\"))\n",
        "print(contractions.fix(\"he's\"))"
      ],
      "execution_count": 6,
      "outputs": [
        {
          "output_type": "stream",
          "text": [
            "you have\n",
            "he is\n"
          ],
          "name": "stdout"
        }
      ]
    },
    {
      "cell_type": "code",
      "metadata": {
        "id": "7LOiXXyepTW9",
        "colab_type": "code",
        "colab": {
          "base_uri": "https://localhost:8080/",
          "height": 272
        },
        "outputId": "f14b1d5b-7baf-41c6-e983-e7e98df5155d"
      },
      "source": [
        "cont_liss = [\"I won't let you get away with that\",  # won't ->  will not\n",
        "    \"I'm a bad person\",  # 'm -> am\n",
        "    \"It's his cat anyway\",  # 's -> is\n",
        "    \"It's not what you think\",  # 's -> is\n",
        "    \"It's a man's world\",  # 's -> is and 's possessive\n",
        "    \"Catherine's been thinking about it\",  # 's -> has\n",
        "    \"It'll be done\",  # 'll -> will\n",
        "    \"Who'd've thought!\",  # 'd -> would, 've -> have\n",
        "    \"She said she'd go.\",  # she'd -> she would\n",
        "    \"She said she'd gone.\",  # she'd -> had\n",
        "    \"Y'all'd've a great time, wouldn't it be so cold!\", # Y'all'd've -> You all would have, wouldn't -> would not\n",
        "    \" My name is Jack.\",   # No replacements.\n",
        "    \"'Tis questionable whether Ma'am should be going.\", # 'Tis -> it is, Ma'am -> madam\n",
        "    \"As history tells, 'twas the night before Christmas.\", # 'Twas -> It was\n",
        "    \"Martha, Peter and Christine've been indulging in a menage-à-trois.\"] # 've -> have\n",
        "\n",
        "for i in cont_liss:\n",
        "    print(contractions.fix(i))"
      ],
      "execution_count": 7,
      "outputs": [
        {
          "output_type": "stream",
          "text": [
            "I will not let you get away with that\n",
            "I am a bad person\n",
            "it is his cat anyway\n",
            "it is not what you think\n",
            "it is a man's world\n",
            "Catherine's been thinking about it\n",
            "it will be done\n",
            "Who would've thought!\n",
            "She said she would go.\n",
            "She said she would gone.\n",
            "you all would've a great time, would not it be so cold!\n",
            " My name is Jack.\n",
            "'Tis questionable whether madam should be going.\n",
            "As history tells, 'twas the night before Christmas.\n",
            "Martha, Peter and Christine've been indulging in a menage-à-trois.\n"
          ],
          "name": "stdout"
        }
      ]
    },
    {
      "cell_type": "markdown",
      "metadata": {
        "id": "Z8iKbP8mp5nH",
        "colab_type": "text"
      },
      "source": [
        "### 2.We can do all these process manually as well without using 'contraction' library.   \n",
        "But it is less effective"
      ]
    },
    {
      "cell_type": "code",
      "metadata": {
        "id": "1TVefJ-XmiEj",
        "colab_type": "code",
        "colab": {
          "base_uri": "https://localhost:8080/",
          "height": 34
        },
        "outputId": "c30f388d-39b1-41d9-fa12-24297846dab2"
      },
      "source": [
        "import re    # regular expression \n",
        "\n",
        "def decontracted(phrase):\n",
        "    # specific\n",
        "    phrase = re.sub(r\"won\\'t\", \"will not\", phrase)\n",
        "    phrase = re.sub(r\"can\\'t\", \"can not\", phrase)\n",
        "\n",
        "    # general\n",
        "    phrase = re.sub(r\"n\\'t\", \" not\", phrase)\n",
        "    phrase = re.sub(r\"\\'re\", \" are\", phrase)\n",
        "    phrase = re.sub(r\"\\'s\", \" is\", phrase)\n",
        "    phrase = re.sub(r\"\\'d\", \" would\", phrase)\n",
        "    phrase = re.sub(r\"\\'ll\", \" will\", phrase)\n",
        "    phrase = re.sub(r\"\\'t\", \" not\", phrase)\n",
        "    phrase = re.sub(r\"\\'ve\", \" have\", phrase)\n",
        "    phrase = re.sub(r\"\\'m\", \" am\", phrase)\n",
        "    return phrase\n",
        "\n",
        "\n",
        "test = \"Hey I'm Yann, how're you and how's it going ? That's interesting: I'd love to hear more about it.\"\n",
        "print(decontracted(test))"
      ],
      "execution_count": 8,
      "outputs": [
        {
          "output_type": "stream",
          "text": [
            "Hey I am Yann, how are you and how is it going ? That is interesting: I would love to hear more about it.\n"
          ],
          "name": "stdout"
        }
      ]
    },
    {
      "cell_type": "code",
      "metadata": {
        "id": "l25MF6SDmibm",
        "colab_type": "code",
        "colab": {}
      },
      "source": [
        ""
      ],
      "execution_count": 0,
      "outputs": []
    },
    {
      "cell_type": "code",
      "metadata": {
        "id": "htpnObJKmiZq",
        "colab_type": "code",
        "colab": {}
      },
      "source": [
        ""
      ],
      "execution_count": 0,
      "outputs": []
    },
    {
      "cell_type": "code",
      "metadata": {
        "id": "4b8cBssVmiXq",
        "colab_type": "code",
        "colab": {}
      },
      "source": [
        ""
      ],
      "execution_count": 0,
      "outputs": []
    },
    {
      "cell_type": "code",
      "metadata": {
        "id": "NkJqFGOmmiVq",
        "colab_type": "code",
        "colab": {}
      },
      "source": [
        ""
      ],
      "execution_count": 0,
      "outputs": []
    },
    {
      "cell_type": "code",
      "metadata": {
        "id": "BN6KFKeNmiUJ",
        "colab_type": "code",
        "colab": {}
      },
      "source": [
        ""
      ],
      "execution_count": 0,
      "outputs": []
    },
    {
      "cell_type": "code",
      "metadata": {
        "id": "p5dSm6iFmiSX",
        "colab_type": "code",
        "colab": {}
      },
      "source": [
        ""
      ],
      "execution_count": 0,
      "outputs": []
    },
    {
      "cell_type": "code",
      "metadata": {
        "id": "vugLx8sEmiQx",
        "colab_type": "code",
        "colab": {}
      },
      "source": [
        ""
      ],
      "execution_count": 0,
      "outputs": []
    },
    {
      "cell_type": "code",
      "metadata": {
        "id": "cB3G0ZxRmiO2",
        "colab_type": "code",
        "colab": {}
      },
      "source": [
        ""
      ],
      "execution_count": 0,
      "outputs": []
    },
    {
      "cell_type": "code",
      "metadata": {
        "id": "OEYCBUnkmiM-",
        "colab_type": "code",
        "colab": {}
      },
      "source": [
        ""
      ],
      "execution_count": 0,
      "outputs": []
    },
    {
      "cell_type": "code",
      "metadata": {
        "id": "gP5wry0GmiLS",
        "colab_type": "code",
        "colab": {}
      },
      "source": [
        ""
      ],
      "execution_count": 0,
      "outputs": []
    },
    {
      "cell_type": "code",
      "metadata": {
        "id": "zaY88BBnmiJA",
        "colab_type": "code",
        "colab": {}
      },
      "source": [
        ""
      ],
      "execution_count": 0,
      "outputs": []
    }
  ]
}